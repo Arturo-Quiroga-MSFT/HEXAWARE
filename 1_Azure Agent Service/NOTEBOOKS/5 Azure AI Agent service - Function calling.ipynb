{
 "cells": [
  {
   "cell_type": "markdown",
   "id": "431cc026-279f-4105-8444-f1b93650da0d",
   "metadata": {},
   "source": [
    "# Azure AI Agent service - Function calling\n",
    "\n",
    "<img src=\"https://learn.microsoft.com/en-us/azure/ai-services/agents/media/agent-service-the-glue.png\" width=800>\n",
    "\n",
    "> https://learn.microsoft.com/en-us/azure/ai-services/agents/"
   ]
  },
  {
   "cell_type": "code",
   "execution_count": 1,
   "id": "d75f0533-95e2-44fe-b8ed-d525b4c25b77",
   "metadata": {},
   "outputs": [],
   "source": [
    "#%pip install azure-ai-projects\n",
    "#%pip install yfinance"
   ]
  },
  {
   "cell_type": "code",
   "execution_count": 2,
   "id": "7a3e72d0-7521-438c-928d-5fa293b0f419",
   "metadata": {},
   "outputs": [],
   "source": [
    "import glob\n",
    "import json\n",
    "import ipyplot\n",
    "import matplotlib.pyplot as plt\n",
    "import os\n",
    "import requests\n",
    "import sys\n",
    "import time\n",
    "import yfinance as yf\n",
    "\n",
    "#from azure.ai.projects import AIProjectClient\n",
    "from azure.ai.agents import AgentsClient \n",
    "from azure.identity import DefaultAzureCredential\n",
    "#from azure.ai.projects.models import FunctionTool, ToolSet, CodeInterpreterTool\n",
    "from azure.ai.agents.models import (\n",
    "    FunctionTool,\n",
    "    ListSortOrder,\n",
    "    RequiredFunctionToolCall,\n",
    "    SubmitToolOutputsAction,\n",
    "    ToolOutput,\n",
    ")\n",
    "from datetime import datetime, timezone, timedelta\n",
    "from dotenv import load_dotenv\n",
    "from openai import AzureOpenAI\n",
    "from typing import Any, Callable, Set, Dict, List, Optional\n",
    "from PIL import Image\n",
    "from pathlib import Path\n",
    "\n",
    "from user_functions import user_functions, azuremaps_weather"
   ]
  },
  {
   "cell_type": "code",
   "execution_count": 3,
   "id": "65334de7-4005-401a-89c1-be24f75abbd9",
   "metadata": {},
   "outputs": [
    {
     "data": {
      "text/plain": [
       "True"
      ]
     },
     "execution_count": 3,
     "metadata": {},
     "output_type": "execute_result"
    }
   ],
   "source": [
    "load_dotenv(\"azure.env\")"
   ]
  },
  {
   "cell_type": "markdown",
   "id": "54fa0903-f907-4c7f-a51b-4893d15ff371",
   "metadata": {},
   "source": [
    "## 1. Agent definition - Weather forecasts"
   ]
  },
  {
   "cell_type": "markdown",
   "id": "3ac0a60b-b688-4970-ba23-781f2196b75c",
   "metadata": {},
   "source": [
    "## Connect to AI Foundry Project"
   ]
  },
  {
   "cell_type": "code",
   "execution_count": 4,
   "id": "76c7bbb7-0faa-4500-ba42-7c5b176f6196",
   "metadata": {},
   "outputs": [
    {
     "name": "stdout",
     "output_type": "stream",
     "text": [
      "Using endpoint: https://aq-ai-foundry-sweden-central.services.ai.azure.com/api/projects/firstProject\n"
     ]
    }
   ],
   "source": [
    "endpoint = os.getenv(\"PROJECT_ENDPOINT\")\n",
    "print(f\"Using endpoint: {endpoint}\")\n",
    "credential = DefaultAzureCredential()\n",
    "\n",
    "project_client = AgentsClient(endpoint=endpoint, credential=credential)"
   ]
  },
  {
   "cell_type": "markdown",
   "id": "6bb91b19-444f-4f46-88fa-a76106434ef3",
   "metadata": {},
   "source": [
    "### Testing the Azure Maps Weather function"
   ]
  },
  {
   "cell_type": "markdown",
   "id": "e2934437-5b6f-424c-9fef-95647758d3ec",
   "metadata": {},
   "source": [
    "We will use the Azure Maps service to provide weather information."
   ]
  },
  {
   "cell_type": "code",
   "execution_count": 5,
   "id": "ab94cb4c-311f-429b-8d3d-1c49a73880b7",
   "metadata": {},
   "outputs": [
    {
     "data": {
      "text/plain": [
       "{'weather_data': {'results': [{'dateTime': '2025-06-09T10:22:00-04:00',\n",
       "    'phrase': 'Cloudy',\n",
       "    'iconCode': 7,\n",
       "    'hasPrecipitation': False,\n",
       "    'isDayTime': True,\n",
       "    'temperature': {'value': 16.1, 'unit': 'C', 'unitType': 17},\n",
       "    'realFeelTemperature': {'value': 18.7, 'unit': 'C', 'unitType': 17},\n",
       "    'realFeelTemperatureShade': {'value': 16.7, 'unit': 'C', 'unitType': 17},\n",
       "    'relativeHumidity': 93,\n",
       "    'dewPoint': {'value': 15.0, 'unit': 'C', 'unitType': 17},\n",
       "    'wind': {'direction': {'degrees': 0.0, 'localizedDescription': 'N'},\n",
       "     'speed': {'value': 3.7, 'unit': 'km/h', 'unitType': 7}},\n",
       "    'windGust': {'speed': {'value': 8.9, 'unit': 'km/h', 'unitType': 7}},\n",
       "    'uvIndex': 2,\n",
       "    'uvIndexPhrase': 'Low',\n",
       "    'visibility': {'value': 14.5, 'unit': 'km', 'unitType': 6},\n",
       "    'obstructionsToVisibility': '',\n",
       "    'cloudCover': 100,\n",
       "    'ceiling': {'value': 488.0, 'unit': 'm', 'unitType': 5},\n",
       "    'pressure': {'value': 1006.4, 'unit': 'mb', 'unitType': 14},\n",
       "    'pressureTendency': {'localizedDescription': 'Falling', 'code': 'F'},\n",
       "    'past24HourTemperatureDeparture': {'value': -1.7,\n",
       "     'unit': 'C',\n",
       "     'unitType': 17},\n",
       "    'apparentTemperature': {'value': 19.4, 'unit': 'C', 'unitType': 17},\n",
       "    'windChillTemperature': {'value': 16.1, 'unit': 'C', 'unitType': 17},\n",
       "    'wetBulbTemperature': {'value': 15.5, 'unit': 'C', 'unitType': 17},\n",
       "    'precipitationSummary': {'pastHour': {'value': 0.0,\n",
       "      'unit': 'mm',\n",
       "      'unitType': 3},\n",
       "     'past3Hours': {'value': 0.0, 'unit': 'mm', 'unitType': 3},\n",
       "     'past6Hours': {'value': 0.0, 'unit': 'mm', 'unitType': 3},\n",
       "     'past9Hours': {'value': 0.0, 'unit': 'mm', 'unitType': 3},\n",
       "     'past12Hours': {'value': 0.0, 'unit': 'mm', 'unitType': 3},\n",
       "     'past18Hours': {'value': 1.1, 'unit': 'mm', 'unitType': 3},\n",
       "     'past24Hours': {'value': 1.1, 'unit': 'mm', 'unitType': 3}},\n",
       "    'temperatureSummary': {'past6Hours': {'minimum': {'value': 14.9,\n",
       "       'unit': 'C',\n",
       "       'unitType': 17},\n",
       "      'maximum': {'value': 16.1, 'unit': 'C', 'unitType': 17}},\n",
       "     'past12Hours': {'minimum': {'value': 13.9, 'unit': 'C', 'unitType': 17},\n",
       "      'maximum': {'value': 16.1, 'unit': 'C', 'unitType': 17}},\n",
       "     'past24Hours': {'minimum': {'value': 13.9, 'unit': 'C', 'unitType': 17},\n",
       "      'maximum': {'value': 20.0, 'unit': 'C', 'unitType': 17}}}}]}}"
      ]
     },
     "execution_count": 5,
     "metadata": {},
     "output_type": "execute_result"
    }
   ],
   "source": [
    "weather = azuremaps_weather(\"Toronto\")\n",
    "json.loads(weather)"
   ]
  },
  {
   "cell_type": "markdown",
   "id": "efdd8dbd-3b95-4923-aaae-305c9d8ac991",
   "metadata": {},
   "source": [
    "### Agent"
   ]
  },
  {
   "cell_type": "code",
   "execution_count": 6,
   "id": "61c53506-9f26-4994-92ca-568f1bd8e07d",
   "metadata": {},
   "outputs": [
    {
     "name": "stdout",
     "output_type": "stream",
     "text": [
      "Created agent, ID: asst_vXM2Gy2n7bx4XjdJYl8dZGUI\n"
     ]
    }
   ],
   "source": [
    "model = \"gpt-4o-mini\"\n",
    "name = \"gpt4o-weather-agent\"\n",
    "instructions = \"You are a weather bot. Use the provided functions to help answer questions.\"\n",
    "\n",
    "functions = FunctionTool(user_functions)\n",
    "\n",
    "# Create an agent and run user's request with function calls\n",
    "agent = project_client.create_agent(\n",
    "    model=os.environ[\"MODEL_DEPLOYMENT_NAME\"],\n",
    "    name=\"my-agent\",\n",
    "    instructions=\"You are a helpful agent\",\n",
    "    tools=functions.definitions,\n",
    ")\n",
    "print(f\"Created agent, ID: {agent.id}\")\n",
    "\n"
   ]
  },
  {
   "cell_type": "markdown",
   "id": "a39cf0b6-ba76-4f9c-a2d2-9833d0a569e0",
   "metadata": {},
   "source": [
    "### Tests"
   ]
  },
  {
   "cell_type": "code",
   "execution_count": 7,
   "id": "5e16fc7c-c08b-445a-b78d-fde55c77d125",
   "metadata": {},
   "outputs": [
    {
     "name": "stdout",
     "output_type": "stream",
     "text": [
      "Created thread ID = thread_pDppDIv73MmIgPS7pDrQXCUx\n",
      "Created message ID = msg_Sidn3ZmsICsu4jE5NvxNwqEq\n"
     ]
    }
   ],
   "source": [
    "prompt = \"Hello, generate a full report for the weather in Toronto today\"\n",
    "\n",
    "# Create thread for communication\n",
    "thread = project_client.threads.create()\n",
    "print(f\"Created thread ID = {thread.id}\")\n",
    "\n",
    "# Create message to thread\n",
    "message = project_client.messages.create(\n",
    "    thread_id=thread.id,\n",
    "    role=\"user\",\n",
    "    content=prompt,\n",
    ")\n",
    "\n",
    "print(f\"Created message ID = {message.id}\")"
   ]
  },
  {
   "cell_type": "code",
   "execution_count": 8,
   "id": "06fe464c-8709-4bfe-b210-c01e4e69bc2a",
   "metadata": {},
   "outputs": [
    {
     "name": "stdout",
     "output_type": "stream",
     "text": [
      "Created run, run ID: run_QsawhITSHIKmhCVusEIJRpvr\n"
     ]
    }
   ],
   "source": [
    "run = project_client.runs.create(thread_id=thread.id, agent_id=agent.id)\n",
    "print(f\"Created run, run ID: {run.id}\")"
   ]
  },
  {
   "cell_type": "code",
   "execution_count": 9,
   "id": "965b527f",
   "metadata": {},
   "outputs": [
    {
     "name": "stdout",
     "output_type": "stream",
     "text": [
      "Executing tool call: {'id': 'call_11WTKw5ZvWRrU6psjQiRYfKi', 'type': 'function', 'function': {'name': 'azuremaps_weather', 'arguments': '{\"query\":\"Toronto\"}'}}\n",
      "Tool outputs: [{'tool_call_id': 'call_11WTKw5ZvWRrU6psjQiRYfKi', 'output': '{\"weather_data\": {\"results\": [{\"dateTime\": \"2025-06-09T10:22:00-04:00\", \"phrase\": \"Cloudy\", \"iconCode\": 7, \"hasPrecipitation\": false, \"isDayTime\": true, \"temperature\": {\"value\": 16.1, \"unit\": \"C\", \"unitType\": 17}, \"realFeelTemperature\": {\"value\": 18.7, \"unit\": \"C\", \"unitType\": 17}, \"realFeelTemperatureShade\": {\"value\": 16.7, \"unit\": \"C\", \"unitType\": 17}, \"relativeHumidity\": 93, \"dewPoint\": {\"value\": 15.0, \"unit\": \"C\", \"unitType\": 17}, \"wind\": {\"direction\": {\"degrees\": 0.0, \"localizedDescription\": \"N\"}, \"speed\": {\"value\": 3.7, \"unit\": \"km/h\", \"unitType\": 7}}, \"windGust\": {\"speed\": {\"value\": 8.9, \"unit\": \"km/h\", \"unitType\": 7}}, \"uvIndex\": 2, \"uvIndexPhrase\": \"Low\", \"visibility\": {\"value\": 14.5, \"unit\": \"km\", \"unitType\": 6}, \"obstructionsToVisibility\": \"\", \"cloudCover\": 100, \"ceiling\": {\"value\": 488.0, \"unit\": \"m\", \"unitType\": 5}, \"pressure\": {\"value\": 1006.4, \"unit\": \"mb\", \"unitType\": 14}, \"pressureTendency\": {\"localizedDescription\": \"Falling\", \"code\": \"F\"}, \"past24HourTemperatureDeparture\": {\"value\": -1.7, \"unit\": \"C\", \"unitType\": 17}, \"apparentTemperature\": {\"value\": 19.4, \"unit\": \"C\", \"unitType\": 17}, \"windChillTemperature\": {\"value\": 16.1, \"unit\": \"C\", \"unitType\": 17}, \"wetBulbTemperature\": {\"value\": 15.5, \"unit\": \"C\", \"unitType\": 17}, \"precipitationSummary\": {\"pastHour\": {\"value\": 0.0, \"unit\": \"mm\", \"unitType\": 3}, \"past3Hours\": {\"value\": 0.0, \"unit\": \"mm\", \"unitType\": 3}, \"past6Hours\": {\"value\": 0.0, \"unit\": \"mm\", \"unitType\": 3}, \"past9Hours\": {\"value\": 0.0, \"unit\": \"mm\", \"unitType\": 3}, \"past12Hours\": {\"value\": 0.0, \"unit\": \"mm\", \"unitType\": 3}, \"past18Hours\": {\"value\": 1.1, \"unit\": \"mm\", \"unitType\": 3}, \"past24Hours\": {\"value\": 1.1, \"unit\": \"mm\", \"unitType\": 3}}, \"temperatureSummary\": {\"past6Hours\": {\"minimum\": {\"value\": 14.9, \"unit\": \"C\", \"unitType\": 17}, \"maximum\": {\"value\": 16.1, \"unit\": \"C\", \"unitType\": 17}}, \"past12Hours\": {\"minimum\": {\"value\": 13.9, \"unit\": \"C\", \"unitType\": 17}, \"maximum\": {\"value\": 16.1, \"unit\": \"C\", \"unitType\": 17}}, \"past24Hours\": {\"minimum\": {\"value\": 13.9, \"unit\": \"C\", \"unitType\": 17}, \"maximum\": {\"value\": 20.0, \"unit\": \"C\", \"unitType\": 17}}}}]}}'}]\n",
      "Current run status: RunStatus.REQUIRES_ACTION\n",
      "Current run status: RunStatus.IN_PROGRESS\n",
      "Current run status: RunStatus.IN_PROGRESS\n",
      "Current run status: RunStatus.IN_PROGRESS\n",
      "Current run status: RunStatus.COMPLETED\n",
      "Run completed with status: RunStatus.COMPLETED\n"
     ]
    }
   ],
   "source": [
    "    while run.status in [\"queued\", \"in_progress\", \"requires_action\"]:\n",
    "        time.sleep(1)\n",
    "        run = project_client.runs.get(thread_id=thread.id, run_id=run.id)\n",
    "\n",
    "        if run.status == \"requires_action\" and isinstance(run.required_action, SubmitToolOutputsAction):\n",
    "            tool_calls = run.required_action.submit_tool_outputs.tool_calls\n",
    "            if not tool_calls:\n",
    "                print(\"No tool calls provided - cancelling run\")\n",
    "                agents_client.runs.cancel(thread_id=thread.id, run_id=run.id)\n",
    "                break\n",
    "\n",
    "            tool_outputs = []\n",
    "            for tool_call in tool_calls:\n",
    "                if isinstance(tool_call, RequiredFunctionToolCall):\n",
    "                    try:\n",
    "                        print(f\"Executing tool call: {tool_call}\")\n",
    "                        output = functions.execute(tool_call)\n",
    "                        tool_outputs.append(\n",
    "                            ToolOutput(\n",
    "                                tool_call_id=tool_call.id,\n",
    "                                output=output,\n",
    "                            )\n",
    "                        )\n",
    "                    except Exception as e:\n",
    "                        print(f\"Error executing tool_call {tool_call.id}: {e}\")\n",
    "\n",
    "            print(f\"Tool outputs: {tool_outputs}\")\n",
    "            if tool_outputs:\n",
    "                project_client.runs.submit_tool_outputs(thread_id=thread.id, run_id=run.id, tool_outputs=tool_outputs)\n",
    "\n",
    "        print(f\"Current run status: {run.status}\")\n",
    "\n",
    "    print(f\"Run completed with status: {run.status}\")"
   ]
  },
  {
   "cell_type": "code",
   "execution_count": 10,
   "id": "c77600b7-3007-43f4-bc2a-f9c66df03cdf",
   "metadata": {},
   "outputs": [
    {
     "name": "stdout",
     "output_type": "stream",
     "text": [
      "Start   : 2025-06-09 14:31:34+0000\n",
      "End     : 2025-06-09 14:31:39+0000\n",
      "Elapsed : 0:00:05  (5.00 seconds)\n"
     ]
    },
    {
     "data": {
      "text/plain": [
       "{'prompt_tokens': 1407, 'completion_tokens': 395, 'total_tokens': 1802, 'prompt_token_details': {'cached_tokens': 0}}"
      ]
     },
     "execution_count": 10,
     "metadata": {},
     "output_type": "execute_result"
    }
   ],
   "source": [
    "start   = run.started_at       \n",
    "end     = run.completed_at\n",
    "elapsed = end - start\n",
    "\n",
    "iso_fmt = \"%Y-%m-%d %H:%M:%S%z\"\n",
    "print(f\"Start   : {start.strftime(iso_fmt)}\")\n",
    "print(f\"End     : {end.strftime(iso_fmt)}\")\n",
    "print(f\"Elapsed : {elapsed}  \"\n",
    "      f\"({elapsed.total_seconds():.2f} seconds)\")\n",
    "\n",
    "run.usage"
   ]
  },
  {
   "cell_type": "code",
   "execution_count": 11,
   "id": "ffe4f0e8-cf75-4e64-8382-db0ce6b70177",
   "metadata": {},
   "outputs": [
    {
     "name": "stdout",
     "output_type": "stream",
     "text": [
      "MessageRole.USER: Hello, generate a full report for the weather in Toronto today\n",
      "MessageRole.AGENT: Here is a full weather report for Toronto today:\n",
      "\n",
      "Current Conditions (as of 10:22 AM, June 9, 2025):\n",
      "\n",
      "- Weather: Cloudy\n",
      "- Temperature: 16.1°C\n",
      "- RealFeel® Temperature: 18.7°C\n",
      "- RealFeel® in Shade: 16.7°C\n",
      "- Apparent Temperature: 19.4°C\n",
      "- Wind Chill: 16.1°C\n",
      "- Relative Humidity: 93%\n",
      "- Dew Point: 15.0°C\n",
      "- Wind: North at 3.7 km/h\n",
      "- Wind Gusts: Up to 8.9 km/h\n",
      "- UV Index: 2 (Low)\n",
      "- Visibility: 14.5 km\n",
      "- Ceiling (cloud base): 488 meters\n",
      "- Cloud Cover: 100%\n",
      "- Pressure: 1006.4 mb (falling)\n",
      "\n",
      "Precipitation:\n",
      "\n",
      "- No precipitation in the past hour, 3 hours, 6 hours, 9 hours, or 12 hours\n",
      "- 1.1 mm in the past 18 hours and 24 hours\n",
      "\n",
      "Temperature Summary:\n",
      "\n",
      "- Past 6 hours: Min 14.9°C, Max 16.1°C\n",
      "- Past 12 hours: Min 13.9°C, Max 16.1°C\n",
      "- Past 24 hours: Min 13.9°C, Max 20.0°C\n",
      "\n",
      "Remarks:\n",
      "\n",
      "- The weather is currently cloudy with high humidity, making it feel slightly warmer than the actual temperature.\n",
      "- There has been light precipitation overnight, but currently it's dry.\n",
      "- Winds are light and from the North.\n",
      "- The pressure is falling, which could indicate potential weather changes later.\n",
      "- UV exposure is low due to cloud cover.\n",
      "\n",
      "Let me know if you need a more detailed outlook or a forecast for the coming days!\n"
     ]
    }
   ],
   "source": [
    "    # Fetch and log all messages\n",
    "    messages = project_client.messages.list(thread_id=thread.id, order=ListSortOrder.ASCENDING)\n",
    "    for msg in messages:\n",
    "        if msg.text_messages:\n",
    "            last_text = msg.text_messages[-1]\n",
    "            print(f\"{msg.role}: {last_text.text.value}\")"
   ]
  },
  {
   "cell_type": "markdown",
   "id": "ea4df8d0-4680-4bbc-a9c2-6f42214615da",
   "metadata": {},
   "source": [
    "### Other examples"
   ]
  },
  {
   "cell_type": "code",
   "execution_count": 12,
   "id": "b1eff256-208c-440a-ac5d-cbbe54f212d7",
   "metadata": {},
   "outputs": [
    {
     "name": "stdout",
     "output_type": "stream",
     "text": [
      "Created thread ID = thread_lg2c6Ef5Yo90zik72JJ8ho89\n",
      "Created message ID = msg_hNc0r6tlGcdqrenurvTTVPgC\n"
     ]
    }
   ],
   "source": [
    "prompt = \"Hello, generate a full report for the weather in Mexico City today. Print the results in English, Spanish and French.\"\n",
    "\n",
    "# Create thread for communication\n",
    "thread = project_client.threads.create()\n",
    "print(f\"Created thread ID = {thread.id}\")\n",
    "\n",
    "# Create message to thread\n",
    "message = project_client.messages.create(\n",
    "    thread_id=thread.id,\n",
    "    role=\"user\",\n",
    "    content=prompt,\n",
    ")\n",
    "\n",
    "print(f\"Created message ID = {message.id}\")"
   ]
  },
  {
   "cell_type": "code",
   "execution_count": 13,
   "id": "79b1f691",
   "metadata": {},
   "outputs": [
    {
     "name": "stdout",
     "output_type": "stream",
     "text": [
      "Created run, run ID: run_kldvLG3jvzOGt6JT9aZzYsnz\n"
     ]
    }
   ],
   "source": [
    "run = project_client.runs.create(thread_id=thread.id, agent_id=agent.id)\n",
    "print(f\"Created run, run ID: {run.id}\")"
   ]
  },
  {
   "cell_type": "code",
   "execution_count": 14,
   "id": "e37a288d",
   "metadata": {},
   "outputs": [
    {
     "name": "stdout",
     "output_type": "stream",
     "text": [
      "Executing tool call: {'id': 'call_nxUYfmvtri5CcZtFwwF3FAza', 'type': 'function', 'function': {'name': 'azuremaps_weather', 'arguments': '{\"query\":\"Mexico City\"}'}}\n",
      "Tool outputs: [{'tool_call_id': 'call_nxUYfmvtri5CcZtFwwF3FAza', 'output': '{\"weather_data\": {\"results\": [{\"dateTime\": \"2025-06-09T08:20:00-06:00\", \"phrase\": \"Sunny\", \"iconCode\": 1, \"hasPrecipitation\": false, \"isDayTime\": true, \"temperature\": {\"value\": 20.0, \"unit\": \"C\", \"unitType\": 17}, \"realFeelTemperature\": {\"value\": 22.2, \"unit\": \"C\", \"unitType\": 17}, \"realFeelTemperatureShade\": {\"value\": 18.8, \"unit\": \"C\", \"unitType\": 17}, \"relativeHumidity\": 59, \"dewPoint\": {\"value\": 12.2, \"unit\": \"C\", \"unitType\": 17}, \"wind\": {\"direction\": {\"degrees\": 225.0, \"localizedDescription\": \"SW\"}, \"speed\": {\"value\": 7.4, \"unit\": \"km/h\", \"unitType\": 7}}, \"windGust\": {\"speed\": {\"value\": 7.4, \"unit\": \"km/h\", \"unitType\": 7}}, \"uvIndex\": 3, \"uvIndexPhrase\": \"Moderate\", \"visibility\": {\"value\": 11.3, \"unit\": \"km\", \"unitType\": 6}, \"obstructionsToVisibility\": \"\", \"cloudCover\": 0, \"ceiling\": {\"value\": 12192.0, \"unit\": \"m\", \"unitType\": 5}, \"pressure\": {\"value\": 1027.1, \"unit\": \"mb\", \"unitType\": 14}, \"pressureTendency\": {\"localizedDescription\": \"Rising\", \"code\": \"R\"}, \"past24HourTemperatureDeparture\": {\"value\": 1.1, \"unit\": \"C\", \"unitType\": 17}, \"apparentTemperature\": {\"value\": 19.4, \"unit\": \"C\", \"unitType\": 17}, \"windChillTemperature\": {\"value\": 20.0, \"unit\": \"C\", \"unitType\": 17}, \"wetBulbTemperature\": {\"value\": 15.3, \"unit\": \"C\", \"unitType\": 17}, \"precipitationSummary\": {\"pastHour\": {\"value\": 0.0, \"unit\": \"mm\", \"unitType\": 3}, \"past3Hours\": {\"value\": 0.0, \"unit\": \"mm\", \"unitType\": 3}, \"past6Hours\": {\"value\": 0.0, \"unit\": \"mm\", \"unitType\": 3}, \"past9Hours\": {\"value\": 0.0, \"unit\": \"mm\", \"unitType\": 3}, \"past12Hours\": {\"value\": 0.0, \"unit\": \"mm\", \"unitType\": 3}, \"past18Hours\": {\"value\": 0.0, \"unit\": \"mm\", \"unitType\": 3}, \"past24Hours\": {\"value\": 0.0, \"unit\": \"mm\", \"unitType\": 3}}, \"temperatureSummary\": {\"past6Hours\": {\"minimum\": {\"value\": 14.9, \"unit\": \"C\", \"unitType\": 17}, \"maximum\": {\"value\": 20.0, \"unit\": \"C\", \"unitType\": 17}}, \"past12Hours\": {\"minimum\": {\"value\": 14.9, \"unit\": \"C\", \"unitType\": 17}, \"maximum\": {\"value\": 22.8, \"unit\": \"C\", \"unitType\": 17}}, \"past24Hours\": {\"minimum\": {\"value\": 14.9, \"unit\": \"C\", \"unitType\": 17}, \"maximum\": {\"value\": 27.2, \"unit\": \"C\", \"unitType\": 17}}}}]}}'}]\n",
      "Current run status: RunStatus.REQUIRES_ACTION\n",
      "Current run status: RunStatus.IN_PROGRESS\n",
      "Current run status: RunStatus.IN_PROGRESS\n",
      "Current run status: RunStatus.IN_PROGRESS\n",
      "Current run status: RunStatus.COMPLETED\n",
      "Run completed with status: RunStatus.COMPLETED\n"
     ]
    }
   ],
   "source": [
    "    while run.status in [\"queued\", \"in_progress\", \"requires_action\"]:\n",
    "        time.sleep(1)\n",
    "        run = project_client.runs.get(thread_id=thread.id, run_id=run.id)\n",
    "\n",
    "        if run.status == \"requires_action\" and isinstance(run.required_action, SubmitToolOutputsAction):\n",
    "            tool_calls = run.required_action.submit_tool_outputs.tool_calls\n",
    "            if not tool_calls:\n",
    "                print(\"No tool calls provided - cancelling run\")\n",
    "                agents_client.runs.cancel(thread_id=thread.id, run_id=run.id)\n",
    "                break\n",
    "\n",
    "            tool_outputs = []\n",
    "            for tool_call in tool_calls:\n",
    "                if isinstance(tool_call, RequiredFunctionToolCall):\n",
    "                    try:\n",
    "                        print(f\"Executing tool call: {tool_call}\")\n",
    "                        output = functions.execute(tool_call)\n",
    "                        tool_outputs.append(\n",
    "                            ToolOutput(\n",
    "                                tool_call_id=tool_call.id,\n",
    "                                output=output,\n",
    "                            )\n",
    "                        )\n",
    "                    except Exception as e:\n",
    "                        print(f\"Error executing tool_call {tool_call.id}: {e}\")\n",
    "\n",
    "            print(f\"Tool outputs: {tool_outputs}\")\n",
    "            if tool_outputs:\n",
    "                project_client.runs.submit_tool_outputs(thread_id=thread.id, run_id=run.id, tool_outputs=tool_outputs)\n",
    "\n",
    "        print(f\"Current run status: {run.status}\")\n",
    "\n",
    "    print(f\"Run completed with status: {run.status}\")"
   ]
  },
  {
   "cell_type": "code",
   "execution_count": 15,
   "id": "655a6627",
   "metadata": {},
   "outputs": [
    {
     "name": "stdout",
     "output_type": "stream",
     "text": [
      "Start   : 2025-06-09 14:31:45+0000\n",
      "End     : 2025-06-09 14:31:50+0000\n",
      "Elapsed : 0:00:05  (5.00 seconds)\n"
     ]
    },
    {
     "data": {
      "text/plain": [
       "{'prompt_tokens': 1433, 'completion_tokens': 573, 'total_tokens': 2006, 'prompt_token_details': {'cached_tokens': 0}}"
      ]
     },
     "execution_count": 15,
     "metadata": {},
     "output_type": "execute_result"
    }
   ],
   "source": [
    "start   = run.started_at       \n",
    "end     = run.completed_at\n",
    "elapsed = end - start\n",
    "\n",
    "iso_fmt = \"%Y-%m-%d %H:%M:%S%z\"\n",
    "print(f\"Start   : {start.strftime(iso_fmt)}\")\n",
    "print(f\"End     : {end.strftime(iso_fmt)}\")\n",
    "print(f\"Elapsed : {elapsed}  \"\n",
    "      f\"({elapsed.total_seconds():.2f} seconds)\")\n",
    "\n",
    "run.usage"
   ]
  },
  {
   "cell_type": "code",
   "execution_count": 16,
   "id": "a29c6922",
   "metadata": {},
   "outputs": [
    {
     "name": "stdout",
     "output_type": "stream",
     "text": [
      "MessageRole.USER: Hello, generate a full report for the weather in Mexico City today. Print the results in English, Spanish and French.\n",
      "MessageRole.AGENT: Here is the full weather report for Mexico City today, presented in English, Spanish, and French:\n",
      "\n",
      "English:\n",
      "- Current conditions: Sunny\n",
      "- Temperature: 20.0°C (feels like 22.2°C)\n",
      "- In the shade: feels like 18.8°C\n",
      "- Relative humidity: 59%\n",
      "- Dew point: 12.2°C\n",
      "- Wind: Southwest at 7.4 km/h (gusts up to 7.4 km/h)\n",
      "- UV Index: 3 (Moderate)\n",
      "- Visibility: 11.3 km\n",
      "- Cloud cover: 0%\n",
      "- Atmospheric pressure: 1027.1 mb (Rising)\n",
      "- Precipitation (past 24 hours): 0.0 mm\n",
      "- Temperature range (last 24 hours): Min 14.9°C, Max 27.2°C\n",
      "\n",
      "Spanish:\n",
      "- Condiciones actuales: Soleado\n",
      "- Temperatura: 20.0°C (sensación térmica de 22.2°C)\n",
      "- A la sombra: sensación de 18.8°C\n",
      "- Humedad relativa: 59%\n",
      "- Punto de rocío: 12.2°C\n",
      "- Viento: Suroeste a 7.4 km/h (rachas hasta 7.4 km/h)\n",
      "- Índice UV: 3 (Moderado)\n",
      "- Visibilidad: 11.3 km\n",
      "- Cobertura nubosa: 0%\n",
      "- Presión atmosférica: 1027.1 mb (En aumento)\n",
      "- Precipitación (últimas 24h): 0.0 mm\n",
      "- Rango de temperatura (últimas 24h): Mín 14.9°C, Máx 27.2°C\n",
      "\n",
      "French:\n",
      "- Conditions actuelles : Ensoleillé\n",
      "- Température : 20.0°C (ressenti 22.2°C)\n",
      "- À l’ombre : ressenti 18.8°C\n",
      "- Humidité relative : 59%\n",
      "- Point de rosée : 12.2°C\n",
      "- Vent : Sud-ouest à 7.4 km/h (rafales jusqu’à 7.4 km/h)\n",
      "- Indice UV : 3 (Modéré)\n",
      "- Visibilité : 11.3 km\n",
      "- Couverture nuageuse : 0%\n",
      "- Pression atmosphérique : 1027.1 mb (En hausse)\n",
      "- Précipitations (dernières 24h) : 0.0 mm\n",
      "- Plage de températures (dernières 24h) : Min 14.9°C, Max 27.2°C\n",
      "\n",
      "Let me know if you need more details or information!\n"
     ]
    }
   ],
   "source": [
    "    # Fetch and log all messages\n",
    "    messages = project_client.messages.list(thread_id=thread.id, order=ListSortOrder.ASCENDING)\n",
    "    for msg in messages:\n",
    "        if msg.text_messages:\n",
    "            last_text = msg.text_messages[-1]\n",
    "            print(f\"{msg.role}: {last_text.text.value}\")"
   ]
  },
  {
   "cell_type": "code",
   "execution_count": 17,
   "id": "0d2509cb-2ebc-4f4e-9cc9-ffc8c75a3da7",
   "metadata": {},
   "outputs": [
    {
     "name": "stdout",
     "output_type": "stream",
     "text": [
      "Created thread ID = thread_4cgvJYlD1NXD2tS62Zc79Sna\n",
      "Created message ID = msg_HcorjFfJmI4yf0537b6P7e3s\n"
     ]
    }
   ],
   "source": [
    "prompt = \"Hello, print the UV informations for Oakville, Ontario today. Print the date as well of the weather data.\"\n",
    "\n",
    "# Create thread for communication\n",
    "thread = project_client.threads.create()\n",
    "print(f\"Created thread ID = {thread.id}\")\n",
    "\n",
    "# Create message to thread\n",
    "message = project_client.messages.create(\n",
    "    thread_id=thread.id,\n",
    "    role=\"user\",\n",
    "    content=prompt,\n",
    ")\n",
    "\n",
    "print(f\"Created message ID = {message.id}\")"
   ]
  },
  {
   "cell_type": "code",
   "execution_count": 18,
   "id": "67a1a562",
   "metadata": {},
   "outputs": [
    {
     "name": "stdout",
     "output_type": "stream",
     "text": [
      "Created run, run ID: run_K8uLWLneFuTg3Fcg8a6z071v\n"
     ]
    }
   ],
   "source": [
    "run = project_client.runs.create(thread_id=thread.id, agent_id=agent.id)\n",
    "print(f\"Created run, run ID: {run.id}\")"
   ]
  },
  {
   "cell_type": "code",
   "execution_count": 19,
   "id": "01ce339f",
   "metadata": {},
   "outputs": [
    {
     "name": "stdout",
     "output_type": "stream",
     "text": [
      "Executing tool call: {'id': 'call_PwDzZHqjcRlRS6FVJuR27AAl', 'type': 'function', 'function': {'name': 'azuremaps_weather', 'arguments': '{\"query\":\"Oakville, Ontario\"}'}}\n",
      "Tool outputs: [{'tool_call_id': 'call_PwDzZHqjcRlRS6FVJuR27AAl', 'output': '{\"weather_data\": {\"results\": [{\"dateTime\": \"2025-06-09T10:17:00-04:00\", \"phrase\": \"Cloudy\", \"iconCode\": 7, \"hasPrecipitation\": false, \"isDayTime\": true, \"temperature\": {\"value\": 17.5, \"unit\": \"C\", \"unitType\": 17}, \"realFeelTemperature\": {\"value\": 20.3, \"unit\": \"C\", \"unitType\": 17}, \"realFeelTemperatureShade\": {\"value\": 18.2, \"unit\": \"C\", \"unitType\": 17}, \"relativeHumidity\": 90, \"dewPoint\": {\"value\": 15.9, \"unit\": \"C\", \"unitType\": 17}, \"wind\": {\"direction\": {\"degrees\": 158.0, \"localizedDescription\": \"SSE\"}, \"speed\": {\"value\": 3.5, \"unit\": \"km/h\", \"unitType\": 7}}, \"windGust\": {\"speed\": {\"value\": 9.9, \"unit\": \"km/h\", \"unitType\": 7}}, \"uvIndex\": 2, \"uvIndexPhrase\": \"Low\", \"visibility\": {\"value\": 14.5, \"unit\": \"km\", \"unitType\": 6}, \"obstructionsToVisibility\": \"\", \"cloudCover\": 97, \"ceiling\": {\"value\": 61.0, \"unit\": \"m\", \"unitType\": 5}, \"pressure\": {\"value\": 1006.2, \"unit\": \"mb\", \"unitType\": 14}, \"pressureTendency\": {\"localizedDescription\": \"Steady\", \"code\": \"S\"}, \"past24HourTemperatureDeparture\": {\"value\": -0.4, \"unit\": \"C\", \"unitType\": 17}, \"apparentTemperature\": {\"value\": 18.9, \"unit\": \"C\", \"unitType\": 17}, \"windChillTemperature\": {\"value\": 17.8, \"unit\": \"C\", \"unitType\": 17}, \"wetBulbTemperature\": {\"value\": 16.5, \"unit\": \"C\", \"unitType\": 17}, \"precipitationSummary\": {\"pastHour\": {\"value\": 0.0, \"unit\": \"mm\", \"unitType\": 3}, \"past3Hours\": {\"value\": 0.0, \"unit\": \"mm\", \"unitType\": 3}, \"past6Hours\": {\"value\": 0.0, \"unit\": \"mm\", \"unitType\": 3}, \"past9Hours\": {\"value\": 0.0, \"unit\": \"mm\", \"unitType\": 3}, \"past12Hours\": {\"value\": 0.0, \"unit\": \"mm\", \"unitType\": 3}, \"past18Hours\": {\"value\": 0.3, \"unit\": \"mm\", \"unitType\": 3}, \"past24Hours\": {\"value\": 0.3, \"unit\": \"mm\", \"unitType\": 3}}, \"temperatureSummary\": {\"past6Hours\": {\"minimum\": {\"value\": 13.5, \"unit\": \"C\", \"unitType\": 17}, \"maximum\": {\"value\": 19.5, \"unit\": \"C\", \"unitType\": 17}}, \"past12Hours\": {\"minimum\": {\"value\": 13.5, \"unit\": \"C\", \"unitType\": 17}, \"maximum\": {\"value\": 19.5, \"unit\": \"C\", \"unitType\": 17}}, \"past24Hours\": {\"minimum\": {\"value\": 13.5, \"unit\": \"C\", \"unitType\": 17}, \"maximum\": {\"value\": 19.5, \"unit\": \"C\", \"unitType\": 17}}}}]}}'}]\n",
      "Current run status: RunStatus.REQUIRES_ACTION\n",
      "Current run status: RunStatus.IN_PROGRESS\n",
      "Current run status: RunStatus.COMPLETED\n",
      "Run completed with status: RunStatus.COMPLETED\n"
     ]
    }
   ],
   "source": [
    "    while run.status in [\"queued\", \"in_progress\", \"requires_action\"]:\n",
    "        time.sleep(1)\n",
    "        run = project_client.runs.get(thread_id=thread.id, run_id=run.id)\n",
    "\n",
    "        if run.status == \"requires_action\" and isinstance(run.required_action, SubmitToolOutputsAction):\n",
    "            tool_calls = run.required_action.submit_tool_outputs.tool_calls\n",
    "            if not tool_calls:\n",
    "                print(\"No tool calls provided - cancelling run\")\n",
    "                agents_client.runs.cancel(thread_id=thread.id, run_id=run.id)\n",
    "                break\n",
    "\n",
    "            tool_outputs = []\n",
    "            for tool_call in tool_calls:\n",
    "                if isinstance(tool_call, RequiredFunctionToolCall):\n",
    "                    try:\n",
    "                        print(f\"Executing tool call: {tool_call}\")\n",
    "                        output = functions.execute(tool_call)\n",
    "                        tool_outputs.append(\n",
    "                            ToolOutput(\n",
    "                                tool_call_id=tool_call.id,\n",
    "                                output=output,\n",
    "                            )\n",
    "                        )\n",
    "                    except Exception as e:\n",
    "                        print(f\"Error executing tool_call {tool_call.id}: {e}\")\n",
    "\n",
    "            print(f\"Tool outputs: {tool_outputs}\")\n",
    "            if tool_outputs:\n",
    "                project_client.runs.submit_tool_outputs(thread_id=thread.id, run_id=run.id, tool_outputs=tool_outputs)\n",
    "\n",
    "        print(f\"Current run status: {run.status}\")\n",
    "\n",
    "    print(f\"Run completed with status: {run.status}\")"
   ]
  },
  {
   "cell_type": "code",
   "execution_count": 20,
   "id": "8e76fc44",
   "metadata": {},
   "outputs": [
    {
     "name": "stdout",
     "output_type": "stream",
     "text": [
      "Start   : 2025-06-09 14:31:58+0000\n",
      "End     : 2025-06-09 14:31:59+0000\n",
      "Elapsed : 0:00:01  (1.00 seconds)\n"
     ]
    },
    {
     "data": {
      "text/plain": [
       "{'prompt_tokens': 1433, 'completion_tokens': 74, 'total_tokens': 1507, 'prompt_token_details': {'cached_tokens': 0}}"
      ]
     },
     "execution_count": 20,
     "metadata": {},
     "output_type": "execute_result"
    }
   ],
   "source": [
    "start   = run.started_at       \n",
    "end     = run.completed_at\n",
    "elapsed = end - start\n",
    "\n",
    "iso_fmt = \"%Y-%m-%d %H:%M:%S%z\"\n",
    "print(f\"Start   : {start.strftime(iso_fmt)}\")\n",
    "print(f\"End     : {end.strftime(iso_fmt)}\")\n",
    "print(f\"Elapsed : {elapsed}  \"\n",
    "      f\"({elapsed.total_seconds():.2f} seconds)\")\n",
    "\n",
    "run.usage"
   ]
  },
  {
   "cell_type": "code",
   "execution_count": 21,
   "id": "d8a9d6d5",
   "metadata": {},
   "outputs": [
    {
     "name": "stdout",
     "output_type": "stream",
     "text": [
      "MessageRole.USER: Hello, print the UV informations for Oakville, Ontario today. Print the date as well of the weather data.\n",
      "MessageRole.AGENT: Here is the UV information for Oakville, Ontario today:\n",
      "\n",
      "- Date of weather data: 2025-06-09\n",
      "- UV Index: 2\n",
      "- UV Index Description: Low\n",
      "\n",
      "You can safely spend time outdoors with minimal UV protection required today.\n"
     ]
    }
   ],
   "source": [
    "    # Fetch and log all messages\n",
    "    messages = project_client.messages.list(thread_id=thread.id, order=ListSortOrder.ASCENDING)\n",
    "    for msg in messages:\n",
    "        if msg.text_messages:\n",
    "            last_text = msg.text_messages[-1]\n",
    "            print(f\"{msg.role}: {last_text.text.value}\")"
   ]
  },
  {
   "cell_type": "code",
   "execution_count": 22,
   "id": "b918f5f9-07b3-47e1-a259-79093f10ed7e",
   "metadata": {},
   "outputs": [
    {
     "name": "stdout",
     "output_type": "stream",
     "text": [
      "Created thread ID = thread_k96A1b6QB6uIbljXmPDdVSH2\n",
      "Created message ID = msg_6svnYVAdKSIrwfEHftizeGoD\n"
     ]
    }
   ],
   "source": [
    "prompt = \"Generate a weather report for Rome. This report is for a blog publication. Add emojis and adopt a fun style.\"\n",
    "\n",
    "# Create thread for communication\n",
    "thread = project_client.threads.create()\n",
    "print(f\"Created thread ID = {thread.id}\")\n",
    "\n",
    "# Create message to thread\n",
    "message = project_client.messages.create(\n",
    "    thread_id=thread.id,\n",
    "    role=\"user\",\n",
    "    content=prompt,\n",
    ")\n",
    "\n",
    "print(f\"Created message ID = {message.id}\")"
   ]
  },
  {
   "cell_type": "code",
   "execution_count": 23,
   "id": "5279d9b6",
   "metadata": {},
   "outputs": [
    {
     "name": "stdout",
     "output_type": "stream",
     "text": [
      "Created run, run ID: run_ZQiqxY5q4Y98dG4tG2jTA741\n"
     ]
    }
   ],
   "source": [
    "run = project_client.runs.create(thread_id=thread.id, agent_id=agent.id)\n",
    "print(f\"Created run, run ID: {run.id}\")"
   ]
  },
  {
   "cell_type": "code",
   "execution_count": 24,
   "id": "f567bedc",
   "metadata": {},
   "outputs": [
    {
     "name": "stdout",
     "output_type": "stream",
     "text": [
      "Current run status: RunStatus.IN_PROGRESS\n",
      "Executing tool call: {'id': 'call_1CzPrkBHXVA5oB3LtjktW91a', 'type': 'function', 'function': {'name': 'azuremaps_weather', 'arguments': '{\"query\":\"Rome\"}'}}\n",
      "Tool outputs: [{'tool_call_id': 'call_1CzPrkBHXVA5oB3LtjktW91a', 'output': '{\"weather_data\": {\"results\": [{\"dateTime\": \"2025-06-09T16:16:00+02:00\", \"phrase\": \"Sunny\", \"iconCode\": 1, \"hasPrecipitation\": false, \"isDayTime\": true, \"temperature\": {\"value\": 27.4, \"unit\": \"C\", \"unitType\": 17}, \"realFeelTemperature\": {\"value\": 27.4, \"unit\": \"C\", \"unitType\": 17}, \"realFeelTemperatureShade\": {\"value\": 25.5, \"unit\": \"C\", \"unitType\": 17}, \"relativeHumidity\": 48, \"dewPoint\": {\"value\": 15.5, \"unit\": \"C\", \"unitType\": 17}, \"wind\": {\"direction\": {\"degrees\": 203.0, \"localizedDescription\": \"SSW\"}, \"speed\": {\"value\": 20.3, \"unit\": \"km/h\", \"unitType\": 7}}, \"windGust\": {\"speed\": {\"value\": 37.4, \"unit\": \"km/h\", \"unitType\": 7}}, \"uvIndex\": 3, \"uvIndexPhrase\": \"Moderate\", \"visibility\": {\"value\": 20.9, \"unit\": \"km\", \"unitType\": 6}, \"obstructionsToVisibility\": \"\", \"cloudCover\": 0, \"ceiling\": {\"value\": 12192.0, \"unit\": \"m\", \"unitType\": 5}, \"pressure\": {\"value\": 1017.0, \"unit\": \"mb\", \"unitType\": 14}, \"pressureTendency\": {\"localizedDescription\": \"Rising\", \"code\": \"R\"}, \"past24HourTemperatureDeparture\": {\"value\": -1.8, \"unit\": \"C\", \"unitType\": 17}, \"apparentTemperature\": {\"value\": 27.8, \"unit\": \"C\", \"unitType\": 17}, \"windChillTemperature\": {\"value\": 27.2, \"unit\": \"C\", \"unitType\": 17}, \"wetBulbTemperature\": {\"value\": 19.5, \"unit\": \"C\", \"unitType\": 17}, \"precipitationSummary\": {\"pastHour\": {\"value\": 0.0, \"unit\": \"mm\", \"unitType\": 3}, \"past3Hours\": {\"value\": 0.0, \"unit\": \"mm\", \"unitType\": 3}, \"past6Hours\": {\"value\": 0.0, \"unit\": \"mm\", \"unitType\": 3}, \"past9Hours\": {\"value\": 0.0, \"unit\": \"mm\", \"unitType\": 3}, \"past12Hours\": {\"value\": 0.0, \"unit\": \"mm\", \"unitType\": 3}, \"past18Hours\": {\"value\": 0.0, \"unit\": \"mm\", \"unitType\": 3}, \"past24Hours\": {\"value\": 0.0, \"unit\": \"mm\", \"unitType\": 3}}, \"temperatureSummary\": {\"past6Hours\": {\"minimum\": {\"value\": 26.1, \"unit\": \"C\", \"unitType\": 17}, \"maximum\": {\"value\": 30.6, \"unit\": \"C\", \"unitType\": 17}}, \"past12Hours\": {\"minimum\": {\"value\": 19.5, \"unit\": \"C\", \"unitType\": 17}, \"maximum\": {\"value\": 30.6, \"unit\": \"C\", \"unitType\": 17}}, \"past24Hours\": {\"minimum\": {\"value\": 19.5, \"unit\": \"C\", \"unitType\": 17}, \"maximum\": {\"value\": 30.6, \"unit\": \"C\", \"unitType\": 17}}}}]}}'}]\n",
      "Current run status: RunStatus.REQUIRES_ACTION\n",
      "Current run status: RunStatus.IN_PROGRESS\n",
      "Current run status: RunStatus.IN_PROGRESS\n",
      "Current run status: RunStatus.IN_PROGRESS\n",
      "Current run status: RunStatus.COMPLETED\n",
      "Run completed with status: RunStatus.COMPLETED\n"
     ]
    }
   ],
   "source": [
    "    while run.status in [\"queued\", \"in_progress\", \"requires_action\"]:\n",
    "        time.sleep(1)\n",
    "        run = project_client.runs.get(thread_id=thread.id, run_id=run.id)\n",
    "\n",
    "        if run.status == \"requires_action\" and isinstance(run.required_action, SubmitToolOutputsAction):\n",
    "            tool_calls = run.required_action.submit_tool_outputs.tool_calls\n",
    "            if not tool_calls:\n",
    "                print(\"No tool calls provided - cancelling run\")\n",
    "                agents_client.runs.cancel(thread_id=thread.id, run_id=run.id)\n",
    "                break\n",
    "\n",
    "            tool_outputs = []\n",
    "            for tool_call in tool_calls:\n",
    "                if isinstance(tool_call, RequiredFunctionToolCall):\n",
    "                    try:\n",
    "                        print(f\"Executing tool call: {tool_call}\")\n",
    "                        output = functions.execute(tool_call)\n",
    "                        tool_outputs.append(\n",
    "                            ToolOutput(\n",
    "                                tool_call_id=tool_call.id,\n",
    "                                output=output,\n",
    "                            )\n",
    "                        )\n",
    "                    except Exception as e:\n",
    "                        print(f\"Error executing tool_call {tool_call.id}: {e}\")\n",
    "\n",
    "            print(f\"Tool outputs: {tool_outputs}\")\n",
    "            if tool_outputs:\n",
    "                project_client.runs.submit_tool_outputs(thread_id=thread.id, run_id=run.id, tool_outputs=tool_outputs)\n",
    "\n",
    "        print(f\"Current run status: {run.status}\")\n",
    "\n",
    "    print(f\"Run completed with status: {run.status}\")"
   ]
  },
  {
   "cell_type": "code",
   "execution_count": 25,
   "id": "4072cd69",
   "metadata": {},
   "outputs": [
    {
     "name": "stdout",
     "output_type": "stream",
     "text": [
      "Start   : 2025-06-09 14:32:08+0000\n",
      "End     : 2025-06-09 14:32:13+0000\n",
      "Elapsed : 0:00:05  (5.00 seconds)\n"
     ]
    },
    {
     "data": {
      "text/plain": [
       "{'prompt_tokens': 1431, 'completion_tokens': 325, 'total_tokens': 1756, 'prompt_token_details': {'cached_tokens': 0}}"
      ]
     },
     "execution_count": 25,
     "metadata": {},
     "output_type": "execute_result"
    }
   ],
   "source": [
    "start   = run.started_at       \n",
    "end     = run.completed_at\n",
    "elapsed = end - start\n",
    "\n",
    "iso_fmt = \"%Y-%m-%d %H:%M:%S%z\"\n",
    "print(f\"Start   : {start.strftime(iso_fmt)}\")\n",
    "print(f\"End     : {end.strftime(iso_fmt)}\")\n",
    "print(f\"Elapsed : {elapsed}  \"\n",
    "      f\"({elapsed.total_seconds():.2f} seconds)\")\n",
    "\n",
    "run.usage"
   ]
  },
  {
   "cell_type": "code",
   "execution_count": 26,
   "id": "9dea493a",
   "metadata": {},
   "outputs": [
    {
     "name": "stdout",
     "output_type": "stream",
     "text": [
      "MessageRole.USER: Generate a weather report for Rome. This report is for a blog publication. Add emojis and adopt a fun style.\n",
      "MessageRole.AGENT: Buongiorno from the Eternal City! 🇮🇹🌞\n",
      "\n",
      "Rome is putting its best face forward today, and wow, what a face it is! With gloriously sunny skies and a toasty temperature around 27°C (that’s beach weather, but in the city!) the city is ready for gelato, Vespa rides, and strolls past the Colosseum.\n",
      "\n",
      "What’s happening in the sky? Absolutely nothing! Zero clouds—just pure sunshine ☀️. The sun is shining bright, so don’t forget your sunglasses and maybe channel your inner Roman gladiator with some SPF 50 🕶️🧴.\n",
      "\n",
      "Humidity is sitting at a comfy 48%, which means the air feels just as lovely as a scoop of tiramisu. A gentle wind is breezing in from the south-southwest at a refreshing 20 km/h, with the occasional gust that might just give your hair that windswept Italian look 💨💁.\n",
      "\n",
      "UV index is moderate (3/10), so soak up those rays—but maybe find a shady piazza around lunchtime.\n",
      "\n",
      "Rain? Not a drop! Rome is as dry as a bowl of biscotti this afternoon.\n",
      "\n",
      "In summary: Perfect weather for pizza al fresco, a walk through ancient ruins, or people-watching on the Spanish Steps. Enjoy la dolce vita, and don’t forget to say “ciao” to the sun! 🍕🌞🏛️\n",
      "\n",
      "Arrivederci and happy adventuring in Roma!\n"
     ]
    }
   ],
   "source": [
    "    # Fetch and log all messages\n",
    "    messages = project_client.messages.list(thread_id=thread.id, order=ListSortOrder.ASCENDING)\n",
    "    for msg in messages:\n",
    "        if msg.text_messages:\n",
    "            last_text = msg.text_messages[-1]\n",
    "            print(f\"{msg.role}: {last_text.text.value}\")"
   ]
  },
  {
   "cell_type": "markdown",
   "id": "6d5f61ac-880e-4394-8e63-6feb8c740eb4",
   "metadata": {},
   "source": [
    "### Post processing"
   ]
  },
  {
   "cell_type": "code",
   "execution_count": null,
   "id": "62ca0e0a-8b50-44b5-819d-a7c202c01314",
   "metadata": {},
   "outputs": [],
   "source": []
  }
 ],
 "metadata": {
  "kernelspec": {
   "display_name": ".venv",
   "language": "python",
   "name": "python3"
  },
  "language_info": {
   "codemirror_mode": {
    "name": "ipython",
    "version": 3
   },
   "file_extension": ".py",
   "mimetype": "text/x-python",
   "name": "python",
   "nbconvert_exporter": "python",
   "pygments_lexer": "ipython3",
   "version": "3.13.4"
  },
  "varInspector": {
   "cols": {
    "lenName": 16,
    "lenType": 16,
    "lenVar": 40
   },
   "kernels_config": {
    "python": {
     "delete_cmd_postfix": "",
     "delete_cmd_prefix": "del ",
     "library": "var_list.py",
     "varRefreshCmd": "print(var_dic_list())"
    },
    "r": {
     "delete_cmd_postfix": ") ",
     "delete_cmd_prefix": "rm(",
     "library": "var_list.r",
     "varRefreshCmd": "cat(var_dic_list()) "
    }
   },
   "types_to_exclude": [
    "module",
    "function",
    "builtin_function_or_method",
    "instance",
    "_Feature"
   ],
   "window_display": false
  }
 },
 "nbformat": 4,
 "nbformat_minor": 5
}
