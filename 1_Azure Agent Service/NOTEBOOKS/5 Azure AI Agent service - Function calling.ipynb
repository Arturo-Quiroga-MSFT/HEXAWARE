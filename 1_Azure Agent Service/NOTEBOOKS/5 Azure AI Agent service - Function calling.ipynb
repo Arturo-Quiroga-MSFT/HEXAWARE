{
 "cells": [
  {
   "cell_type": "markdown",
   "id": "431cc026-279f-4105-8444-f1b93650da0d",
   "metadata": {},
   "source": [
    "# Azure AI Agent service - Function calling\n",
    "\n",
    "<img src=\"https://learn.microsoft.com/en-us/azure/ai-services/agents/media/agent-service-the-glue.png\" width=800>\n",
    "\n",
    "> https://learn.microsoft.com/en-us/azure/ai-services/agents/"
   ]
  },
  {
   "cell_type": "code",
   "execution_count": null,
   "id": "d75f0533-95e2-44fe-b8ed-d525b4c25b77",
   "metadata": {},
   "outputs": [],
   "source": [
    "#%pip install azure-ai-projects\n",
    "#%pip install yfinance"
   ]
  },
  {
   "cell_type": "code",
   "execution_count": 1,
   "id": "7a3e72d0-7521-438c-928d-5fa293b0f419",
   "metadata": {},
   "outputs": [],
   "source": [
    "import glob\n",
    "import json\n",
    "import ipyplot\n",
    "import matplotlib.pyplot as plt\n",
    "import os\n",
    "import requests\n",
    "import sys\n",
    "import time\n",
    "import yfinance as yf\n",
    "\n",
    "#from azure.ai.projects import AIProjectClient\n",
    "from azure.ai.agents import AgentsClient \n",
    "from azure.identity import DefaultAzureCredential\n",
    "#from azure.ai.projects.models import FunctionTool, ToolSet, CodeInterpreterTool\n",
    "from azure.ai.agents.models import (\n",
    "    FunctionTool,\n",
    "    ListSortOrder,\n",
    "    RequiredFunctionToolCall,\n",
    "    SubmitToolOutputsAction,\n",
    "    ToolOutput,\n",
    ")\n",
    "\n",
    "from dotenv import load_dotenv\n",
    "\n",
    "load_dotenv()\n",
    "from user_functions import user_functions, azuremaps_weather"
   ]
  },
  {
   "cell_type": "markdown",
   "id": "54fa0903-f907-4c7f-a51b-4893d15ff371",
   "metadata": {},
   "source": [
    "## 1. Agent definition - Weather forecasts"
   ]
  },
  {
   "cell_type": "markdown",
   "id": "3ac0a60b-b688-4970-ba23-781f2196b75c",
   "metadata": {},
   "source": [
    "## Connect to AI Foundry Project"
   ]
  },
  {
   "cell_type": "code",
   "execution_count": 2,
   "id": "76c7bbb7-0faa-4500-ba42-7c5b176f6196",
   "metadata": {},
   "outputs": [
    {
     "name": "stdout",
     "output_type": "stream",
     "text": [
      "Using endpoint: https://aq-ai-foundry-sweden-central.services.ai.azure.com/api/projects/firstProject\n"
     ]
    }
   ],
   "source": [
    "endpoint = os.getenv(\"PROJECT_ENDPOINT\")\n",
    "print(f\"Using endpoint: {endpoint}\")\n",
    "credential = DefaultAzureCredential()\n",
    "\n",
    "project_client = AgentsClient(endpoint=endpoint, credential=credential)"
   ]
  },
  {
   "cell_type": "markdown",
   "id": "6bb91b19-444f-4f46-88fa-a76106434ef3",
   "metadata": {},
   "source": [
    "### Testing the Azure Maps Weather function"
   ]
  },
  {
   "cell_type": "markdown",
   "id": "e2934437-5b6f-424c-9fef-95647758d3ec",
   "metadata": {},
   "source": [
    "We will use the Azure Maps service to provide weather information."
   ]
  },
  {
   "cell_type": "code",
   "execution_count": 3,
   "id": "ab94cb4c-311f-429b-8d3d-1c49a73880b7",
   "metadata": {},
   "outputs": [
    {
     "data": {
      "text/plain": [
       "{'weather_data': {'results': [{'dateTime': '2025-06-13T16:37:00-04:00',\n",
       "    'phrase': 'Mostly sunny',\n",
       "    'iconCode': 2,\n",
       "    'hasPrecipitation': False,\n",
       "    'isDayTime': True,\n",
       "    'temperature': {'value': 16.1, 'unit': 'C', 'unitType': 17},\n",
       "    'realFeelTemperature': {'value': 15.0, 'unit': 'C', 'unitType': 17},\n",
       "    'realFeelTemperatureShade': {'value': 12.9, 'unit': 'C', 'unitType': 17},\n",
       "    'relativeHumidity': 67,\n",
       "    'dewPoint': {'value': 10.0, 'unit': 'C', 'unitType': 17},\n",
       "    'wind': {'direction': {'degrees': 68.0, 'localizedDescription': 'ENE'},\n",
       "     'speed': {'value': 25.9, 'unit': 'km/h', 'unitType': 7}},\n",
       "    'windGust': {'speed': {'value': 25.9, 'unit': 'km/h', 'unitType': 7}},\n",
       "    'uvIndex': 3,\n",
       "    'uvIndexPhrase': 'Moderate',\n",
       "    'visibility': {'value': 14.5, 'unit': 'km', 'unitType': 6},\n",
       "    'obstructionsToVisibility': '',\n",
       "    'cloudCover': 30,\n",
       "    'ceiling': {'value': 12192.0, 'unit': 'm', 'unitType': 5},\n",
       "    'pressure': {'value': 1021.3, 'unit': 'mb', 'unitType': 14},\n",
       "    'pressureTendency': {'localizedDescription': 'Falling', 'code': 'F'},\n",
       "    'past24HourTemperatureDeparture': {'value': -5.0,\n",
       "     'unit': 'C',\n",
       "     'unitType': 17},\n",
       "    'apparentTemperature': {'value': 18.3, 'unit': 'C', 'unitType': 17},\n",
       "    'windChillTemperature': {'value': 16.1, 'unit': 'C', 'unitType': 17},\n",
       "    'wetBulbTemperature': {'value': 12.8, 'unit': 'C', 'unitType': 17},\n",
       "    'precipitationSummary': {'pastHour': {'value': 0.0,\n",
       "      'unit': 'mm',\n",
       "      'unitType': 3},\n",
       "     'past3Hours': {'value': 0.0, 'unit': 'mm', 'unitType': 3},\n",
       "     'past6Hours': {'value': 0.0, 'unit': 'mm', 'unitType': 3},\n",
       "     'past9Hours': {'value': 0.0, 'unit': 'mm', 'unitType': 3},\n",
       "     'past12Hours': {'value': 0.0, 'unit': 'mm', 'unitType': 3},\n",
       "     'past18Hours': {'value': 0.0, 'unit': 'mm', 'unitType': 3},\n",
       "     'past24Hours': {'value': 0.0, 'unit': 'mm', 'unitType': 3}},\n",
       "    'temperatureSummary': {'past6Hours': {'minimum': {'value': 14.5,\n",
       "       'unit': 'C',\n",
       "       'unitType': 17},\n",
       "      'maximum': {'value': 16.5, 'unit': 'C', 'unitType': 17}},\n",
       "     'past12Hours': {'minimum': {'value': 12.8, 'unit': 'C', 'unitType': 17},\n",
       "      'maximum': {'value': 16.5, 'unit': 'C', 'unitType': 17}},\n",
       "     'past24Hours': {'minimum': {'value': 12.8, 'unit': 'C', 'unitType': 17},\n",
       "      'maximum': {'value': 25.0, 'unit': 'C', 'unitType': 17}}}}]}}"
      ]
     },
     "execution_count": 3,
     "metadata": {},
     "output_type": "execute_result"
    }
   ],
   "source": [
    "weather = azuremaps_weather(\"Toronto\")\n",
    "json.loads(weather)"
   ]
  },
  {
   "cell_type": "markdown",
   "id": "efdd8dbd-3b95-4923-aaae-305c9d8ac991",
   "metadata": {},
   "source": [
    "### Agent"
   ]
  },
  {
   "cell_type": "code",
   "execution_count": 4,
   "id": "61c53506-9f26-4994-92ca-568f1bd8e07d",
   "metadata": {},
   "outputs": [
    {
     "name": "stdout",
     "output_type": "stream",
     "text": [
      "Created agent, ID: asst_waUw0jSxyHOE3OODcnDbs8UJ\n"
     ]
    }
   ],
   "source": [
    "model = \"gpt-4o-mini\"\n",
    "name = \"gpt-4o-mini-weather-agent\"\n",
    "instructions = \"You are a weather bot. Use the provided functions to help answer questions.\"\n",
    "\n",
    "functions = FunctionTool(user_functions)\n",
    "\n",
    "# Create an agent and run user's request with function calls\n",
    "agent = project_client.create_agent(\n",
    "    model=os.getenv(\"MODEL_DEPLOYMENT_NAME\"),\n",
    "    name=name,\n",
    "    instructions=instructions,\n",
    "    tools=functions.definitions,\n",
    ")\n",
    "print(f\"Created agent, ID: {agent.id}\")\n",
    "\n"
   ]
  },
  {
   "cell_type": "markdown",
   "id": "a39cf0b6-ba76-4f9c-a2d2-9833d0a569e0",
   "metadata": {},
   "source": [
    "### Tests"
   ]
  },
  {
   "cell_type": "code",
   "execution_count": 5,
   "id": "5e16fc7c-c08b-445a-b78d-fde55c77d125",
   "metadata": {},
   "outputs": [
    {
     "name": "stdout",
     "output_type": "stream",
     "text": [
      "Created thread ID = thread_WYPMuKdq0aqF1s0CADPmZ7HB\n",
      "Created message ID = msg_ueYRM5tJefGH9HjVqKalGmvJ\n"
     ]
    }
   ],
   "source": [
    "prompt = \"Hello, generate a full report for the weather in Toronto today\"\n",
    "\n",
    "# Create thread for communication\n",
    "thread = project_client.threads.create()\n",
    "print(f\"Created thread ID = {thread.id}\")\n",
    "\n",
    "# Create message to thread\n",
    "message = project_client.messages.create(\n",
    "    thread_id=thread.id,\n",
    "    role=\"user\",\n",
    "    content=prompt,\n",
    ")\n",
    "\n",
    "print(f\"Created message ID = {message.id}\")"
   ]
  },
  {
   "cell_type": "code",
   "execution_count": 6,
   "id": "06fe464c-8709-4bfe-b210-c01e4e69bc2a",
   "metadata": {},
   "outputs": [
    {
     "name": "stdout",
     "output_type": "stream",
     "text": [
      "Created run, run ID: run_rGvCMU8pNOt0iFZWTBezfRBl\n"
     ]
    }
   ],
   "source": [
    "run = project_client.runs.create(thread_id=thread.id, agent_id=agent.id)\n",
    "print(f\"Created run, run ID: {run.id}\")"
   ]
  },
  {
   "cell_type": "code",
   "execution_count": 7,
   "id": "965b527f",
   "metadata": {},
   "outputs": [
    {
     "name": "stdout",
     "output_type": "stream",
     "text": [
      "Executing tool call: {'id': 'call_6XSSk0ZSk7EfGq4ipIBiIi8z', 'type': 'function', 'function': {'name': 'azuremaps_weather', 'arguments': '{\"query\":\"Toronto\"}'}}\n",
      "Tool outputs: [{'tool_call_id': 'call_6XSSk0ZSk7EfGq4ipIBiIi8z', 'output': '{\"weather_data\": {\"results\": [{\"dateTime\": \"2025-06-13T16:37:00-04:00\", \"phrase\": \"Mostly sunny\", \"iconCode\": 2, \"hasPrecipitation\": false, \"isDayTime\": true, \"temperature\": {\"value\": 16.1, \"unit\": \"C\", \"unitType\": 17}, \"realFeelTemperature\": {\"value\": 15.0, \"unit\": \"C\", \"unitType\": 17}, \"realFeelTemperatureShade\": {\"value\": 12.9, \"unit\": \"C\", \"unitType\": 17}, \"relativeHumidity\": 67, \"dewPoint\": {\"value\": 10.0, \"unit\": \"C\", \"unitType\": 17}, \"wind\": {\"direction\": {\"degrees\": 68.0, \"localizedDescription\": \"ENE\"}, \"speed\": {\"value\": 25.9, \"unit\": \"km/h\", \"unitType\": 7}}, \"windGust\": {\"speed\": {\"value\": 25.9, \"unit\": \"km/h\", \"unitType\": 7}}, \"uvIndex\": 3, \"uvIndexPhrase\": \"Moderate\", \"visibility\": {\"value\": 14.5, \"unit\": \"km\", \"unitType\": 6}, \"obstructionsToVisibility\": \"\", \"cloudCover\": 30, \"ceiling\": {\"value\": 12192.0, \"unit\": \"m\", \"unitType\": 5}, \"pressure\": {\"value\": 1021.3, \"unit\": \"mb\", \"unitType\": 14}, \"pressureTendency\": {\"localizedDescription\": \"Falling\", \"code\": \"F\"}, \"past24HourTemperatureDeparture\": {\"value\": -5.0, \"unit\": \"C\", \"unitType\": 17}, \"apparentTemperature\": {\"value\": 18.3, \"unit\": \"C\", \"unitType\": 17}, \"windChillTemperature\": {\"value\": 16.1, \"unit\": \"C\", \"unitType\": 17}, \"wetBulbTemperature\": {\"value\": 12.8, \"unit\": \"C\", \"unitType\": 17}, \"precipitationSummary\": {\"pastHour\": {\"value\": 0.0, \"unit\": \"mm\", \"unitType\": 3}, \"past3Hours\": {\"value\": 0.0, \"unit\": \"mm\", \"unitType\": 3}, \"past6Hours\": {\"value\": 0.0, \"unit\": \"mm\", \"unitType\": 3}, \"past9Hours\": {\"value\": 0.0, \"unit\": \"mm\", \"unitType\": 3}, \"past12Hours\": {\"value\": 0.0, \"unit\": \"mm\", \"unitType\": 3}, \"past18Hours\": {\"value\": 0.0, \"unit\": \"mm\", \"unitType\": 3}, \"past24Hours\": {\"value\": 0.0, \"unit\": \"mm\", \"unitType\": 3}}, \"temperatureSummary\": {\"past6Hours\": {\"minimum\": {\"value\": 14.5, \"unit\": \"C\", \"unitType\": 17}, \"maximum\": {\"value\": 16.5, \"unit\": \"C\", \"unitType\": 17}}, \"past12Hours\": {\"minimum\": {\"value\": 12.8, \"unit\": \"C\", \"unitType\": 17}, \"maximum\": {\"value\": 16.5, \"unit\": \"C\", \"unitType\": 17}}, \"past24Hours\": {\"minimum\": {\"value\": 12.8, \"unit\": \"C\", \"unitType\": 17}, \"maximum\": {\"value\": 25.0, \"unit\": \"C\", \"unitType\": 17}}}}]}}'}]\n",
      "Current run status: RunStatus.REQUIRES_ACTION\n",
      "Current run status: RunStatus.IN_PROGRESS\n",
      "Current run status: RunStatus.COMPLETED\n",
      "Run completed with status: RunStatus.COMPLETED\n"
     ]
    }
   ],
   "source": [
    "    while run.status in [\"queued\", \"in_progress\", \"requires_action\"]:\n",
    "        time.sleep(1)\n",
    "        run = project_client.runs.get(thread_id=thread.id, run_id=run.id)\n",
    "\n",
    "        if run.status == \"requires_action\" and isinstance(run.required_action, SubmitToolOutputsAction):\n",
    "            tool_calls = run.required_action.submit_tool_outputs.tool_calls\n",
    "            if not tool_calls:\n",
    "                print(\"No tool calls provided - cancelling run\")\n",
    "                agents_client.runs.cancel(thread_id=thread.id, run_id=run.id)\n",
    "                break\n",
    "\n",
    "            tool_outputs = []\n",
    "            for tool_call in tool_calls:\n",
    "                if isinstance(tool_call, RequiredFunctionToolCall):\n",
    "                    try:\n",
    "                        print(f\"Executing tool call: {tool_call}\")\n",
    "                        output = functions.execute(tool_call)\n",
    "                        tool_outputs.append(\n",
    "                            ToolOutput(\n",
    "                                tool_call_id=tool_call.id,\n",
    "                                output=output,\n",
    "                            )\n",
    "                        )\n",
    "                    except Exception as e:\n",
    "                        print(f\"Error executing tool_call {tool_call.id}: {e}\")\n",
    "\n",
    "            print(f\"Tool outputs: {tool_outputs}\")\n",
    "            if tool_outputs:\n",
    "                project_client.runs.submit_tool_outputs(thread_id=thread.id, run_id=run.id, tool_outputs=tool_outputs)\n",
    "\n",
    "        print(f\"Current run status: {run.status}\")\n",
    "\n",
    "    print(f\"Run completed with status: {run.status}\")"
   ]
  },
  {
   "cell_type": "code",
   "execution_count": 8,
   "id": "c77600b7-3007-43f4-bc2a-f9c66df03cdf",
   "metadata": {},
   "outputs": [
    {
     "name": "stdout",
     "output_type": "stream",
     "text": [
      "Start   : 2025-06-13 20:49:53+0000\n",
      "End     : 2025-06-13 20:49:56+0000\n",
      "Elapsed : 0:00:03  (3.00 seconds)\n"
     ]
    },
    {
     "data": {
      "text/plain": [
       "{'prompt_tokens': 1427, 'completion_tokens': 261, 'total_tokens': 1688, 'prompt_token_details': {'cached_tokens': 0}}"
      ]
     },
     "execution_count": 8,
     "metadata": {},
     "output_type": "execute_result"
    }
   ],
   "source": [
    "start   = run.started_at       \n",
    "end     = run.completed_at\n",
    "elapsed = end - start\n",
    "\n",
    "iso_fmt = \"%Y-%m-%d %H:%M:%S%z\"\n",
    "print(f\"Start   : {start.strftime(iso_fmt)}\")\n",
    "print(f\"End     : {end.strftime(iso_fmt)}\")\n",
    "print(f\"Elapsed : {elapsed}  \"\n",
    "      f\"({elapsed.total_seconds():.2f} seconds)\")\n",
    "\n",
    "run.usage"
   ]
  },
  {
   "cell_type": "code",
   "execution_count": null,
   "id": "ffe4f0e8-cf75-4e64-8382-db0ce6b70177",
   "metadata": {},
   "outputs": [
    {
     "name": "stdout",
     "output_type": "stream",
     "text": [
      "MessageRole.USER: Hello, generate a full report for the weather in Toronto today\n",
      "MessageRole.AGENT: Here is the full weather report for Toronto today:\n",
      "\n",
      "- Current Conditions: Mostly sunny\n",
      "- Temperature: 16.1°C (feels like 15.0°C; in the shade feels like 12.9°C)\n",
      "- Apparent Temperature: 18.3°C\n",
      "- Wind: 25.9 km/h from the east-northeast (ENE), gusting to 25.9 km/h\n",
      "- Humidity: 67%\n",
      "- Dew Point: 10.0°C\n",
      "- UV Index: 3 (Moderate)\n",
      "- Visibility: 14.5 km\n",
      "- Cloud Cover: 30%\n",
      "- Pressure: 1021.3 mb and falling\n",
      "- Ceiling: 12,192 meters\n",
      "- Precipitation: None reported in the past 24 hours; 0.0 mm recorded\n",
      "- Temperature Range (last 24 hours): Low of 12.8°C, high of 25.0°C\n",
      "\n",
      "Summary: Toronto is experiencing mostly sunny weather today with comfortable temperatures and a moderate breeze. No precipitation has been recorded and visibility is excellent. The barometric pressure is falling slightly, suggesting potential changes ahead, but the day remains clear and pleasant.\n"
     ]
    }
   ],
   "source": [
    "# Fetch and log all messages\n",
    "messages = project_client.messages.list(thread_id=thread.id, order=ListSortOrder.ASCENDING)\n",
    "for msg in messages:\n",
    "    if msg.text_messages:\n",
    "        last_text = msg.text_messages[-1]\n",
    "        print(f\"{msg.role}: {last_text.text.value}\")"
   ]
  },
  {
   "cell_type": "markdown",
   "id": "ea4df8d0-4680-4bbc-a9c2-6f42214615da",
   "metadata": {},
   "source": [
    "### Other examples"
   ]
  },
  {
   "cell_type": "code",
   "execution_count": 10,
   "id": "b1eff256-208c-440a-ac5d-cbbe54f212d7",
   "metadata": {},
   "outputs": [
    {
     "name": "stdout",
     "output_type": "stream",
     "text": [
      "Created thread ID = thread_7tLC0e9dd0jbV5oCvbmPvLOn\n",
      "Created message ID = msg_vQHvbdr3FLt3uVqCZRrQArl9\n"
     ]
    }
   ],
   "source": [
    "prompt = \"Hello, generate a full report for the weather in Mexico City today. Print the results in English, Spanish and French.\"\n",
    "\n",
    "# Create thread for communication\n",
    "thread = project_client.threads.create()\n",
    "print(f\"Created thread ID = {thread.id}\")\n",
    "\n",
    "# Create message to thread\n",
    "message = project_client.messages.create(\n",
    "    thread_id=thread.id,\n",
    "    role=\"user\",\n",
    "    content=prompt,\n",
    ")\n",
    "\n",
    "print(f\"Created message ID = {message.id}\")"
   ]
  },
  {
   "cell_type": "code",
   "execution_count": 11,
   "id": "79b1f691",
   "metadata": {},
   "outputs": [
    {
     "name": "stdout",
     "output_type": "stream",
     "text": [
      "Created run, run ID: run_KYLAL6wqe4sahQqSm2Yu3svJ\n"
     ]
    }
   ],
   "source": [
    "run = project_client.runs.create(thread_id=thread.id, agent_id=agent.id)\n",
    "print(f\"Created run, run ID: {run.id}\")"
   ]
  },
  {
   "cell_type": "code",
   "execution_count": 12,
   "id": "e37a288d",
   "metadata": {},
   "outputs": [
    {
     "name": "stdout",
     "output_type": "stream",
     "text": [
      "Executing tool call: {'id': 'call_OwUTmfLoxnamFAiiDvSwMA5z', 'type': 'function', 'function': {'name': 'azuremaps_weather', 'arguments': '{\"query\":\"Mexico City\"}'}}\n",
      "Tool outputs: [{'tool_call_id': 'call_OwUTmfLoxnamFAiiDvSwMA5z', 'output': '{\"weather_data\": {\"results\": [{\"dateTime\": \"2025-06-13T14:35:00-06:00\", \"phrase\": \"Cloudy\", \"iconCode\": 7, \"hasPrecipitation\": false, \"isDayTime\": true, \"temperature\": {\"value\": 22.2, \"unit\": \"C\", \"unitType\": 17}, \"realFeelTemperature\": {\"value\": 23.7, \"unit\": \"C\", \"unitType\": 17}, \"realFeelTemperatureShade\": {\"value\": 21.0, \"unit\": \"C\", \"unitType\": 17}, \"relativeHumidity\": 49, \"dewPoint\": {\"value\": 11.1, \"unit\": \"C\", \"unitType\": 17}, \"wind\": {\"direction\": {\"degrees\": 270.0, \"localizedDescription\": \"W\"}, \"speed\": {\"value\": 7.4, \"unit\": \"km/h\", \"unitType\": 7}}, \"windGust\": {\"speed\": {\"value\": 7.4, \"unit\": \"km/h\", \"unitType\": 7}}, \"uvIndex\": 3, \"uvIndexPhrase\": \"Moderate\", \"visibility\": {\"value\": 8.0, \"unit\": \"km\", \"unitType\": 6}, \"obstructionsToVisibility\": \"\", \"cloudCover\": 95, \"ceiling\": {\"value\": 2012.0, \"unit\": \"m\", \"unitType\": 5}, \"pressure\": {\"value\": 1024.4, \"unit\": \"mb\", \"unitType\": 14}, \"pressureTendency\": {\"localizedDescription\": \"Falling\", \"code\": \"F\"}, \"past24HourTemperatureDeparture\": {\"value\": 6.1, \"unit\": \"C\", \"unitType\": 17}, \"apparentTemperature\": {\"value\": 22.2, \"unit\": \"C\", \"unitType\": 17}, \"windChillTemperature\": {\"value\": 22.2, \"unit\": \"C\", \"unitType\": 17}, \"wetBulbTemperature\": {\"value\": 15.5, \"unit\": \"C\", \"unitType\": 17}, \"precipitationSummary\": {\"pastHour\": {\"value\": 0.0, \"unit\": \"mm\", \"unitType\": 3}, \"past3Hours\": {\"value\": 0.0, \"unit\": \"mm\", \"unitType\": 3}, \"past6Hours\": {\"value\": 0.0, \"unit\": \"mm\", \"unitType\": 3}, \"past9Hours\": {\"value\": 0.0, \"unit\": \"mm\", \"unitType\": 3}, \"past12Hours\": {\"value\": 0.0, \"unit\": \"mm\", \"unitType\": 3}, \"past18Hours\": {\"value\": 8.1, \"unit\": \"mm\", \"unitType\": 3}, \"past24Hours\": {\"value\": 23.4, \"unit\": \"mm\", \"unitType\": 3}}, \"temperatureSummary\": {\"past6Hours\": {\"minimum\": {\"value\": 15.0, \"unit\": \"C\", \"unitType\": 17}, \"maximum\": {\"value\": 22.2, \"unit\": \"C\", \"unitType\": 17}}, \"past12Hours\": {\"minimum\": {\"value\": 13.9, \"unit\": \"C\", \"unitType\": 17}, \"maximum\": {\"value\": 22.2, \"unit\": \"C\", \"unitType\": 17}}, \"past24Hours\": {\"minimum\": {\"value\": 12.8, \"unit\": \"C\", \"unitType\": 17}, \"maximum\": {\"value\": 22.8, \"unit\": \"C\", \"unitType\": 17}}}}]}}'}]\n",
      "Current run status: RunStatus.REQUIRES_ACTION\n",
      "Current run status: RunStatus.IN_PROGRESS\n",
      "Current run status: RunStatus.IN_PROGRESS\n",
      "Current run status: RunStatus.COMPLETED\n",
      "Run completed with status: RunStatus.COMPLETED\n"
     ]
    }
   ],
   "source": [
    "    while run.status in [\"queued\", \"in_progress\", \"requires_action\"]:\n",
    "        time.sleep(1)\n",
    "        run = project_client.runs.get(thread_id=thread.id, run_id=run.id)\n",
    "\n",
    "        if run.status == \"requires_action\" and isinstance(run.required_action, SubmitToolOutputsAction):\n",
    "            tool_calls = run.required_action.submit_tool_outputs.tool_calls\n",
    "            if not tool_calls:\n",
    "                print(\"No tool calls provided - cancelling run\")\n",
    "                agents_client.runs.cancel(thread_id=thread.id, run_id=run.id)\n",
    "                break\n",
    "\n",
    "            tool_outputs = []\n",
    "            for tool_call in tool_calls:\n",
    "                if isinstance(tool_call, RequiredFunctionToolCall):\n",
    "                    try:\n",
    "                        print(f\"Executing tool call: {tool_call}\")\n",
    "                        output = functions.execute(tool_call)\n",
    "                        tool_outputs.append(\n",
    "                            ToolOutput(\n",
    "                                tool_call_id=tool_call.id,\n",
    "                                output=output,\n",
    "                            )\n",
    "                        )\n",
    "                    except Exception as e:\n",
    "                        print(f\"Error executing tool_call {tool_call.id}: {e}\")\n",
    "\n",
    "            print(f\"Tool outputs: {tool_outputs}\")\n",
    "            if tool_outputs:\n",
    "                project_client.runs.submit_tool_outputs(thread_id=thread.id, run_id=run.id, tool_outputs=tool_outputs)\n",
    "\n",
    "        print(f\"Current run status: {run.status}\")\n",
    "\n",
    "    print(f\"Run completed with status: {run.status}\")"
   ]
  },
  {
   "cell_type": "code",
   "execution_count": 13,
   "id": "655a6627",
   "metadata": {},
   "outputs": [
    {
     "name": "stdout",
     "output_type": "stream",
     "text": [
      "Start   : 2025-06-13 20:50:38+0000\n",
      "End     : 2025-06-13 20:50:41+0000\n",
      "Elapsed : 0:00:03  (3.00 seconds)\n"
     ]
    },
    {
     "data": {
      "text/plain": [
       "{'prompt_tokens': 1452, 'completion_tokens': 522, 'total_tokens': 1974, 'prompt_token_details': {'cached_tokens': 0}}"
      ]
     },
     "execution_count": 13,
     "metadata": {},
     "output_type": "execute_result"
    }
   ],
   "source": [
    "start   = run.started_at       \n",
    "end     = run.completed_at\n",
    "elapsed = end - start\n",
    "\n",
    "iso_fmt = \"%Y-%m-%d %H:%M:%S%z\"\n",
    "print(f\"Start   : {start.strftime(iso_fmt)}\")\n",
    "print(f\"End     : {end.strftime(iso_fmt)}\")\n",
    "print(f\"Elapsed : {elapsed}  \"\n",
    "      f\"({elapsed.total_seconds():.2f} seconds)\")\n",
    "\n",
    "run.usage"
   ]
  },
  {
   "cell_type": "code",
   "execution_count": 15,
   "id": "a29c6922",
   "metadata": {},
   "outputs": [
    {
     "name": "stdout",
     "output_type": "stream",
     "text": [
      "MessageRole.USER: Hello, generate a full report for the weather in Mexico City today. Print the results in English, Spanish and French.\n",
      "MessageRole.AGENT: Here is the full weather report for Mexico City today, presented in English, Spanish, and French:\n",
      "\n",
      "---\n",
      "\n",
      "**English:**  \n",
      "Weather in Mexico City today:  \n",
      "- Condition: Cloudy  \n",
      "- Temperature: 22.2°C (feels like 23.7°C)  \n",
      "- Humidity: 49%  \n",
      "- Dew point: 11.1°C  \n",
      "- Wind: 7.4 km/h, from the West  \n",
      "- UV Index: 3 (Moderate)  \n",
      "- Visibility: 8.0 km  \n",
      "- Cloud cover: 95%  \n",
      "- Pressure: 1024.4 mb (Falling)  \n",
      "- Precipitation (past 24h): 23.4 mm  \n",
      "- Min/Max temperature last 24h: 12.8°C / 22.8°C\n",
      "\n",
      "---\n",
      "\n",
      "**Español:**  \n",
      "El tiempo en Ciudad de México hoy:  \n",
      "- Condición: Nublado  \n",
      "- Temperatura: 22.2°C (sensación de 23.7°C)  \n",
      "- Humedad: 49%  \n",
      "- Punto de rocío: 11.1°C  \n",
      "- Viento: 7.4 km/h, desde el Oeste  \n",
      "- Índice UV: 3 (Moderado)  \n",
      "- Visibilidad: 8.0 km  \n",
      "- Cobertura nubosa: 95%  \n",
      "- Presión: 1024.4 mb (en descenso)  \n",
      "- Precipitación (últimas 24h): 23.4 mm  \n",
      "- Temperatura mín./máx. últimas 24h: 12.8°C / 22.8°C\n",
      "\n",
      "---\n",
      "\n",
      "**Français :**  \n",
      "Météo à Mexico aujourd'hui :  \n",
      "- Condition : Nuageux  \n",
      "- Température : 22.2°C (ressenti 23.7°C)  \n",
      "- Humidité : 49%  \n",
      "- Point de rosée : 11.1°C  \n",
      "- Vent : 7.4 km/h, venant de l'Ouest  \n",
      "- Indice UV : 3 (Modéré)  \n",
      "- Visibilité : 8.0 km  \n",
      "- Couverture nuageuse : 95%  \n",
      "- Pression : 1024.4 mb (en baisse)  \n",
      "- Précipitations (24h) : 23.4 mm  \n",
      "- Température min./max. dernières 24h : 12.8°C / 22.8°C\n",
      "\n",
      "---\n"
     ]
    }
   ],
   "source": [
    "# Fetch and log all messages\n",
    "messages = project_client.messages.list(thread_id=thread.id, order=ListSortOrder.ASCENDING)\n",
    "for msg in messages:\n",
    "    if msg.text_messages:\n",
    "        last_text = msg.text_messages[-1]\n",
    "        print(f\"{msg.role}: {last_text.text.value}\")"
   ]
  },
  {
   "cell_type": "code",
   "execution_count": 16,
   "id": "0d2509cb-2ebc-4f4e-9cc9-ffc8c75a3da7",
   "metadata": {},
   "outputs": [
    {
     "name": "stdout",
     "output_type": "stream",
     "text": [
      "Created thread ID = thread_vQCC9gP1DJSK2uVsjW1t2ksK\n",
      "Created message ID = msg_3Vzh4u4XWRKR8KvxO6p4kvLv\n"
     ]
    }
   ],
   "source": [
    "prompt = \"Hello, print the UV informations for Oakville, Ontario today. Print the date as well of the weather data.\"\n",
    "\n",
    "# Create thread for communication\n",
    "thread = project_client.threads.create()\n",
    "print(f\"Created thread ID = {thread.id}\")\n",
    "\n",
    "# Create message to thread\n",
    "message = project_client.messages.create(\n",
    "    thread_id=thread.id,\n",
    "    role=\"user\",\n",
    "    content=prompt,\n",
    ")\n",
    "\n",
    "print(f\"Created message ID = {message.id}\")"
   ]
  },
  {
   "cell_type": "code",
   "execution_count": 17,
   "id": "67a1a562",
   "metadata": {},
   "outputs": [
    {
     "name": "stdout",
     "output_type": "stream",
     "text": [
      "Created run, run ID: run_v5Oc5GtItqpyObGBPNxy37iR\n"
     ]
    }
   ],
   "source": [
    "run = project_client.runs.create(thread_id=thread.id, agent_id=agent.id)\n",
    "print(f\"Created run, run ID: {run.id}\")"
   ]
  },
  {
   "cell_type": "code",
   "execution_count": 18,
   "id": "01ce339f",
   "metadata": {},
   "outputs": [
    {
     "name": "stdout",
     "output_type": "stream",
     "text": [
      "Executing tool call: {'id': 'call_HIqJy7ZA338dm1HFLXc2jKa6', 'type': 'function', 'function': {'name': 'azuremaps_weather', 'arguments': '{\"query\":\"Oakville, Ontario\"}'}}\n",
      "Tool outputs: [{'tool_call_id': 'call_HIqJy7ZA338dm1HFLXc2jKa6', 'output': '{\"weather_data\": {\"results\": [{\"dateTime\": \"2025-06-13T16:42:00-04:00\", \"phrase\": \"Mostly sunny\", \"iconCode\": 2, \"hasPrecipitation\": false, \"isDayTime\": true, \"temperature\": {\"value\": 16.0, \"unit\": \"C\", \"unitType\": 17}, \"realFeelTemperature\": {\"value\": 19.2, \"unit\": \"C\", \"unitType\": 17}, \"realFeelTemperatureShade\": {\"value\": 15.5, \"unit\": \"C\", \"unitType\": 17}, \"relativeHumidity\": 76, \"dewPoint\": {\"value\": 11.7, \"unit\": \"C\", \"unitType\": 17}, \"wind\": {\"direction\": {\"degrees\": 90.0, \"localizedDescription\": \"E\"}, \"speed\": {\"value\": 8.1, \"unit\": \"km/h\", \"unitType\": 7}}, \"windGust\": {\"speed\": {\"value\": 16.9, \"unit\": \"km/h\", \"unitType\": 7}}, \"uvIndex\": 3, \"uvIndexPhrase\": \"Moderate\", \"visibility\": {\"value\": 20.9, \"unit\": \"km\", \"unitType\": 6}, \"obstructionsToVisibility\": \"\", \"cloudCover\": 13, \"ceiling\": {\"value\": 12192.0, \"unit\": \"m\", \"unitType\": 5}, \"pressure\": {\"value\": 1021.2, \"unit\": \"mb\", \"unitType\": 14}, \"pressureTendency\": {\"localizedDescription\": \"Steady\", \"code\": \"S\"}, \"past24HourTemperatureDeparture\": {\"value\": -9.5, \"unit\": \"C\", \"unitType\": 17}, \"apparentTemperature\": {\"value\": 18.3, \"unit\": \"C\", \"unitType\": 17}, \"windChillTemperature\": {\"value\": 16.1, \"unit\": \"C\", \"unitType\": 17}, \"wetBulbTemperature\": {\"value\": 13.6, \"unit\": \"C\", \"unitType\": 17}, \"precipitationSummary\": {\"pastHour\": {\"value\": 0.0, \"unit\": \"mm\", \"unitType\": 3}, \"past3Hours\": {\"value\": 0.0, \"unit\": \"mm\", \"unitType\": 3}, \"past6Hours\": {\"value\": 0.0, \"unit\": \"mm\", \"unitType\": 3}, \"past9Hours\": {\"value\": 0.0, \"unit\": \"mm\", \"unitType\": 3}, \"past12Hours\": {\"value\": 0.0, \"unit\": \"mm\", \"unitType\": 3}, \"past18Hours\": {\"value\": 0.0, \"unit\": \"mm\", \"unitType\": 3}, \"past24Hours\": {\"value\": 0.0, \"unit\": \"mm\", \"unitType\": 3}}, \"temperatureSummary\": {\"past6Hours\": {\"minimum\": {\"value\": 15.0, \"unit\": \"C\", \"unitType\": 17}, \"maximum\": {\"value\": 16.0, \"unit\": \"C\", \"unitType\": 17}}, \"past12Hours\": {\"minimum\": {\"value\": 13.0, \"unit\": \"C\", \"unitType\": 17}, \"maximum\": {\"value\": 16.0, \"unit\": \"C\", \"unitType\": 17}}, \"past24Hours\": {\"minimum\": {\"value\": 13.0, \"unit\": \"C\", \"unitType\": 17}, \"maximum\": {\"value\": 25.0, \"unit\": \"C\", \"unitType\": 17}}}}]}}'}]\n",
      "Current run status: RunStatus.REQUIRES_ACTION\n",
      "Current run status: RunStatus.COMPLETED\n",
      "Run completed with status: RunStatus.COMPLETED\n"
     ]
    }
   ],
   "source": [
    "    while run.status in [\"queued\", \"in_progress\", \"requires_action\"]:\n",
    "        time.sleep(1)\n",
    "        run = project_client.runs.get(thread_id=thread.id, run_id=run.id)\n",
    "\n",
    "        if run.status == \"requires_action\" and isinstance(run.required_action, SubmitToolOutputsAction):\n",
    "            tool_calls = run.required_action.submit_tool_outputs.tool_calls\n",
    "            if not tool_calls:\n",
    "                print(\"No tool calls provided - cancelling run\")\n",
    "                agents_client.runs.cancel(thread_id=thread.id, run_id=run.id)\n",
    "                break\n",
    "\n",
    "            tool_outputs = []\n",
    "            for tool_call in tool_calls:\n",
    "                if isinstance(tool_call, RequiredFunctionToolCall):\n",
    "                    try:\n",
    "                        print(f\"Executing tool call: {tool_call}\")\n",
    "                        output = functions.execute(tool_call)\n",
    "                        tool_outputs.append(\n",
    "                            ToolOutput(\n",
    "                                tool_call_id=tool_call.id,\n",
    "                                output=output,\n",
    "                            )\n",
    "                        )\n",
    "                    except Exception as e:\n",
    "                        print(f\"Error executing tool_call {tool_call.id}: {e}\")\n",
    "\n",
    "            print(f\"Tool outputs: {tool_outputs}\")\n",
    "            if tool_outputs:\n",
    "                project_client.runs.submit_tool_outputs(thread_id=thread.id, run_id=run.id, tool_outputs=tool_outputs)\n",
    "\n",
    "        print(f\"Current run status: {run.status}\")\n",
    "\n",
    "    print(f\"Run completed with status: {run.status}\")"
   ]
  },
  {
   "cell_type": "code",
   "execution_count": 19,
   "id": "8e76fc44",
   "metadata": {},
   "outputs": [
    {
     "name": "stdout",
     "output_type": "stream",
     "text": [
      "Start   : 2025-06-13 20:51:25+0000\n",
      "End     : 2025-06-13 20:51:26+0000\n",
      "Elapsed : 0:00:01  (1.00 seconds)\n"
     ]
    },
    {
     "data": {
      "text/plain": [
       "{'prompt_tokens': 1452, 'completion_tokens': 80, 'total_tokens': 1532, 'prompt_token_details': {'cached_tokens': 0}}"
      ]
     },
     "execution_count": 19,
     "metadata": {},
     "output_type": "execute_result"
    }
   ],
   "source": [
    "start   = run.started_at       \n",
    "end     = run.completed_at\n",
    "elapsed = end - start\n",
    "\n",
    "iso_fmt = \"%Y-%m-%d %H:%M:%S%z\"\n",
    "print(f\"Start   : {start.strftime(iso_fmt)}\")\n",
    "print(f\"End     : {end.strftime(iso_fmt)}\")\n",
    "print(f\"Elapsed : {elapsed}  \"\n",
    "      f\"({elapsed.total_seconds():.2f} seconds)\")\n",
    "\n",
    "run.usage"
   ]
  },
  {
   "cell_type": "code",
   "execution_count": 21,
   "id": "d8a9d6d5",
   "metadata": {},
   "outputs": [
    {
     "name": "stdout",
     "output_type": "stream",
     "text": [
      "MessageRole.USER: Hello, print the UV informations for Oakville, Ontario today. Print the date as well of the weather data.\n",
      "MessageRole.AGENT: Here is the UV information for Oakville, Ontario today:\n",
      "\n",
      "- Date of weather data: 2025-06-13\n",
      "- UV Index: 3\n",
      "- UV Index Level: Moderate\n",
      "\n",
      "It is advisable to take basic sun protection measures if you plan to be outdoors for extended periods.\n"
     ]
    }
   ],
   "source": [
    "# Fetch and log all messages\n",
    "messages = project_client.messages.list(thread_id=thread.id, order=ListSortOrder.ASCENDING)\n",
    "for msg in messages:\n",
    "    if msg.text_messages:\n",
    "        last_text = msg.text_messages[-1]\n",
    "        print(f\"{msg.role}: {last_text.text.value}\")"
   ]
  },
  {
   "cell_type": "code",
   "execution_count": 22,
   "id": "b918f5f9-07b3-47e1-a259-79093f10ed7e",
   "metadata": {},
   "outputs": [
    {
     "name": "stdout",
     "output_type": "stream",
     "text": [
      "Created thread ID = thread_uWFGmgCT0COAu6pbXp15p4o9\n",
      "Created message ID = msg_RuUcT9gzqzkr9QlzpqVZMkZm\n"
     ]
    }
   ],
   "source": [
    "prompt = \"Generate a weather report for Rome. This report is for a blog publication. Add emojis and adopt a fun style.\"\n",
    "\n",
    "# Create thread for communication\n",
    "thread = project_client.threads.create()\n",
    "print(f\"Created thread ID = {thread.id}\")\n",
    "\n",
    "# Create message to thread\n",
    "message = project_client.messages.create(\n",
    "    thread_id=thread.id,\n",
    "    role=\"user\",\n",
    "    content=prompt,\n",
    ")\n",
    "\n",
    "print(f\"Created message ID = {message.id}\")"
   ]
  },
  {
   "cell_type": "code",
   "execution_count": 23,
   "id": "5279d9b6",
   "metadata": {},
   "outputs": [
    {
     "name": "stdout",
     "output_type": "stream",
     "text": [
      "Created run, run ID: run_B8umLQFi2evBFPT9wqQkUAIa\n"
     ]
    }
   ],
   "source": [
    "run = project_client.runs.create(thread_id=thread.id, agent_id=agent.id)\n",
    "print(f\"Created run, run ID: {run.id}\")"
   ]
  },
  {
   "cell_type": "code",
   "execution_count": 24,
   "id": "f567bedc",
   "metadata": {},
   "outputs": [
    {
     "name": "stdout",
     "output_type": "stream",
     "text": [
      "Executing tool call: {'id': 'call_aCDBHAach2pNAnGR0zhX5Wvy', 'type': 'function', 'function': {'name': 'azuremaps_weather', 'arguments': '{\"query\":\"Rome\"}'}}\n",
      "Tool outputs: [{'tool_call_id': 'call_aCDBHAach2pNAnGR0zhX5Wvy', 'output': '{\"weather_data\": {\"results\": [{\"dateTime\": \"2025-06-13T22:42:00+02:00\", \"phrase\": \"Mostly clear\", \"iconCode\": 34, \"hasPrecipitation\": false, \"isDayTime\": false, \"temperature\": {\"value\": 27.9, \"unit\": \"C\", \"unitType\": 17}, \"realFeelTemperature\": {\"value\": 26.6, \"unit\": \"C\", \"unitType\": 17}, \"realFeelTemperatureShade\": {\"value\": 26.6, \"unit\": \"C\", \"unitType\": 17}, \"relativeHumidity\": 44, \"dewPoint\": {\"value\": 14.6, \"unit\": \"C\", \"unitType\": 17}, \"wind\": {\"direction\": {\"degrees\": 225.0, \"localizedDescription\": \"SW\"}, \"speed\": {\"value\": 9.6, \"unit\": \"km/h\", \"unitType\": 7}}, \"windGust\": {\"speed\": {\"value\": 22.6, \"unit\": \"km/h\", \"unitType\": 7}}, \"uvIndex\": 0, \"uvIndexPhrase\": \"Low\", \"visibility\": {\"value\": 24.1, \"unit\": \"km\", \"unitType\": 6}, \"obstructionsToVisibility\": \"\", \"cloudCover\": 26, \"ceiling\": {\"value\": 12192.0, \"unit\": \"m\", \"unitType\": 5}, \"pressure\": {\"value\": 1017.3, \"unit\": \"mb\", \"unitType\": 14}, \"pressureTendency\": {\"localizedDescription\": \"Steady\", \"code\": \"S\"}, \"past24HourTemperatureDeparture\": {\"value\": 2.3, \"unit\": \"C\", \"unitType\": 17}, \"apparentTemperature\": {\"value\": 27.8, \"unit\": \"C\", \"unitType\": 17}, \"windChillTemperature\": {\"value\": 27.8, \"unit\": \"C\", \"unitType\": 17}, \"wetBulbTemperature\": {\"value\": 19.2, \"unit\": \"C\", \"unitType\": 17}, \"precipitationSummary\": {\"pastHour\": {\"value\": 0.0, \"unit\": \"mm\", \"unitType\": 3}, \"past3Hours\": {\"value\": 0.0, \"unit\": \"mm\", \"unitType\": 3}, \"past6Hours\": {\"value\": 0.0, \"unit\": \"mm\", \"unitType\": 3}, \"past9Hours\": {\"value\": 0.0, \"unit\": \"mm\", \"unitType\": 3}, \"past12Hours\": {\"value\": 0.0, \"unit\": \"mm\", \"unitType\": 3}, \"past18Hours\": {\"value\": 0.0, \"unit\": \"mm\", \"unitType\": 3}, \"past24Hours\": {\"value\": 0.0, \"unit\": \"mm\", \"unitType\": 3}}, \"temperatureSummary\": {\"past6Hours\": {\"minimum\": {\"value\": 27.1, \"unit\": \"C\", \"unitType\": 17}, \"maximum\": {\"value\": 33.5, \"unit\": \"C\", \"unitType\": 17}}, \"past12Hours\": {\"minimum\": {\"value\": 27.1, \"unit\": \"C\", \"unitType\": 17}, \"maximum\": {\"value\": 33.9, \"unit\": \"C\", \"unitType\": 17}}, \"past24Hours\": {\"minimum\": {\"value\": 19.7, \"unit\": \"C\", \"unitType\": 17}, \"maximum\": {\"value\": 33.9, \"unit\": \"C\", \"unitType\": 17}}}}]}}'}]\n",
      "Current run status: RunStatus.REQUIRES_ACTION\n",
      "Current run status: RunStatus.IN_PROGRESS\n",
      "Current run status: RunStatus.IN_PROGRESS\n",
      "Current run status: RunStatus.COMPLETED\n",
      "Run completed with status: RunStatus.COMPLETED\n"
     ]
    }
   ],
   "source": [
    "    while run.status in [\"queued\", \"in_progress\", \"requires_action\"]:\n",
    "        time.sleep(1)\n",
    "        run = project_client.runs.get(thread_id=thread.id, run_id=run.id)\n",
    "\n",
    "        if run.status == \"requires_action\" and isinstance(run.required_action, SubmitToolOutputsAction):\n",
    "            tool_calls = run.required_action.submit_tool_outputs.tool_calls\n",
    "            if not tool_calls:\n",
    "                print(\"No tool calls provided - cancelling run\")\n",
    "                agents_client.runs.cancel(thread_id=thread.id, run_id=run.id)\n",
    "                break\n",
    "\n",
    "            tool_outputs = []\n",
    "            for tool_call in tool_calls:\n",
    "                if isinstance(tool_call, RequiredFunctionToolCall):\n",
    "                    try:\n",
    "                        print(f\"Executing tool call: {tool_call}\")\n",
    "                        output = functions.execute(tool_call)\n",
    "                        tool_outputs.append(\n",
    "                            ToolOutput(\n",
    "                                tool_call_id=tool_call.id,\n",
    "                                output=output,\n",
    "                            )\n",
    "                        )\n",
    "                    except Exception as e:\n",
    "                        print(f\"Error executing tool_call {tool_call.id}: {e}\")\n",
    "\n",
    "            print(f\"Tool outputs: {tool_outputs}\")\n",
    "            if tool_outputs:\n",
    "                project_client.runs.submit_tool_outputs(thread_id=thread.id, run_id=run.id, tool_outputs=tool_outputs)\n",
    "\n",
    "        print(f\"Current run status: {run.status}\")\n",
    "\n",
    "    print(f\"Run completed with status: {run.status}\")"
   ]
  },
  {
   "cell_type": "code",
   "execution_count": 25,
   "id": "4072cd69",
   "metadata": {},
   "outputs": [
    {
     "name": "stdout",
     "output_type": "stream",
     "text": [
      "Start   : 2025-06-13 20:52:07+0000\n",
      "End     : 2025-06-13 20:52:10+0000\n",
      "Elapsed : 0:00:03  (3.00 seconds)\n"
     ]
    },
    {
     "data": {
      "text/plain": [
       "{'prompt_tokens': 1448, 'completion_tokens': 259, 'total_tokens': 1707, 'prompt_token_details': {'cached_tokens': 0}}"
      ]
     },
     "execution_count": 25,
     "metadata": {},
     "output_type": "execute_result"
    }
   ],
   "source": [
    "start   = run.started_at       \n",
    "end     = run.completed_at\n",
    "elapsed = end - start\n",
    "\n",
    "iso_fmt = \"%Y-%m-%d %H:%M:%S%z\"\n",
    "print(f\"Start   : {start.strftime(iso_fmt)}\")\n",
    "print(f\"End     : {end.strftime(iso_fmt)}\")\n",
    "print(f\"Elapsed : {elapsed}  \"\n",
    "      f\"({elapsed.total_seconds():.2f} seconds)\")\n",
    "\n",
    "run.usage"
   ]
  },
  {
   "cell_type": "code",
   "execution_count": 26,
   "id": "9dea493a",
   "metadata": {},
   "outputs": [
    {
     "name": "stdout",
     "output_type": "stream",
     "text": [
      "MessageRole.USER: Generate a weather report for Rome. This report is for a blog publication. Add emojis and adopt a fun style.\n",
      "MessageRole.AGENT: 🌞 Roman Holiday Weather Report! 🏛️\n",
      "\n",
      "Hello, sunshine lovers! Rome is truly rolling out the red carpet of summer vibes tonight. Here’s what’s happening in the Eternal City:\n",
      "\n",
      "- Condition: Mostly clear skies 🌌 — The stars are out to play!\n",
      "- Temperature: A warm and toasty 28°C (real feel: 27°C) 🍦\n",
      "- Humidity: 44% — Just enough to keep your gelato from melting too fast\n",
      "- Winds: A gentle southwest breeze at 10 km/h (kiss your hair, don’t mess it up) 🍃\n",
      "- No rain in sight! Perfect for a moonlit stroll around the Colosseum 🌙\n",
      "- UV Index: 0 (nighttime = safe for vampires 🧛)\n",
      "- Visibility: Crystal clear at 24 km — say “ciao” to a stunning cityscape!\n",
      "\n",
      "Rome is serving up la dolce vita weather tonight. Grab a terrazza table, watch the world go by, and enjoy that late-night espresso. The only thing hotter right now is your Italian amore! 🇮🇹💕\n",
      "\n",
      "Stay tuned for more Roman sky stories — arrivederci!\n"
     ]
    }
   ],
   "source": [
    "# Fetch and log all messages\n",
    "messages = project_client.messages.list(thread_id=thread.id, order=ListSortOrder.ASCENDING)\n",
    "for msg in messages:\n",
    "    if msg.text_messages:\n",
    "        last_text = msg.text_messages[-1]\n",
    "        print(f\"{msg.role}: {last_text.text.value}\")"
   ]
  },
  {
   "cell_type": "markdown",
   "id": "6d5f61ac-880e-4394-8e63-6feb8c740eb4",
   "metadata": {},
   "source": [
    "### Post processing"
   ]
  },
  {
   "cell_type": "code",
   "execution_count": 27,
   "id": "62ca0e0a-8b50-44b5-819d-a7c202c01314",
   "metadata": {},
   "outputs": [
    {
     "name": "stdout",
     "output_type": "stream",
     "text": [
      "Listing all agents in the project:\n",
      "Agent ID: asst_waUw0jSxyHOE3OODcnDbs8UJ, Name: gpt-4o-mini-weather-agent, Model: gpt-4.1, Instructions: You are a weather bot. Use the provided functions to help answer questions.\n",
      "Agent ID: asst_VDHKoVyINkNd65z3kLoXpUAS, Name: my-agent, Model: gpt-4.1, Instructions: You are helpful agent\n"
     ]
    }
   ],
   "source": [
    "# List all agents in the project\n",
    "print(\"Listing all agents in the project:\")\n",
    "agents = project_client.list_agents()\n",
    "for agent in agents:\n",
    "    print(f\"Agent ID: {agent.id}, Name: {agent.name}, Model: {agent.model}, Instructions: {agent.instructions}\")"
   ]
  },
  {
   "cell_type": "code",
   "execution_count": 29,
   "id": "1728e6ec",
   "metadata": {},
   "outputs": [],
   "source": [
    "# recurse through all agents and delete them adding a test to stop if the agent is not found\n",
    "for agent in project_client.list_agents():\n",
    "    try:\n",
    "        print(f\"Deleting agent ID: {agent.id}, Name: {agent.name}\")\n",
    "        project_client.delete_agent(agent.id)\n",
    "    except Exception as e:\n",
    "        print(f\"Error deleting agent ID: {agent.id}, Name: {agent.name}, Error: {e}\")"
   ]
  },
  {
   "cell_type": "code",
   "execution_count": 30,
   "id": "ca45de6e",
   "metadata": {},
   "outputs": [],
   "source": [
    "agents = project_client.list_agents()\n",
    "for agent in agents:\n",
    "    print(f\"Agent ID: {agent.id}, Name: {agent.name}, Model: {agent.model}, Instructions: {agent.instructions}\")"
   ]
  }
 ],
 "metadata": {
  "kernelspec": {
   "display_name": ".venv",
   "language": "python",
   "name": "python3"
  },
  "language_info": {
   "codemirror_mode": {
    "name": "ipython",
    "version": 3
   },
   "file_extension": ".py",
   "mimetype": "text/x-python",
   "name": "python",
   "nbconvert_exporter": "python",
   "pygments_lexer": "ipython3",
   "version": "3.13.5"
  },
  "varInspector": {
   "cols": {
    "lenName": 16,
    "lenType": 16,
    "lenVar": 40
   },
   "kernels_config": {
    "python": {
     "delete_cmd_postfix": "",
     "delete_cmd_prefix": "del ",
     "library": "var_list.py",
     "varRefreshCmd": "print(var_dic_list())"
    },
    "r": {
     "delete_cmd_postfix": ") ",
     "delete_cmd_prefix": "rm(",
     "library": "var_list.r",
     "varRefreshCmd": "cat(var_dic_list()) "
    }
   },
   "types_to_exclude": [
    "module",
    "function",
    "builtin_function_or_method",
    "instance",
    "_Feature"
   ],
   "window_display": false
  }
 },
 "nbformat": 4,
 "nbformat_minor": 5
}
