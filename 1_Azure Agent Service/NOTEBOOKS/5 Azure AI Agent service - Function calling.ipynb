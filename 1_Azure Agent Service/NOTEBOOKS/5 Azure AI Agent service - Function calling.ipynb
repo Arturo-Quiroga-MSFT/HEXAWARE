{
 "cells": [
  {
   "cell_type": "markdown",
   "id": "431cc026-279f-4105-8444-f1b93650da0d",
   "metadata": {},
   "source": [
    "# Azure AI Agent service - Function calling\n",
    "\n",
    "<img src=\"https://learn.microsoft.com/en-us/azure/ai-services/agents/media/agent-service-the-glue.png\" width=800>\n",
    "\n",
    "> https://learn.microsoft.com/en-us/azure/ai-services/agents/"
   ]
  },
  {
   "cell_type": "code",
   "execution_count": null,
   "id": "d75f0533-95e2-44fe-b8ed-d525b4c25b77",
   "metadata": {},
   "outputs": [],
   "source": [
    "#%pip install azure-ai-projects\n",
    "#%pip install yfinance"
   ]
  },
  {
   "cell_type": "code",
   "execution_count": null,
   "id": "7a3e72d0-7521-438c-928d-5fa293b0f419",
   "metadata": {},
   "outputs": [],
   "source": [
    "import glob\n",
    "import json\n",
    "import ipyplot\n",
    "import matplotlib.pyplot as plt\n",
    "import os\n",
    "import requests\n",
    "import sys\n",
    "import time\n",
    "import yfinance as yf\n",
    "\n",
    "#from azure.ai.projects import AIProjectClient\n",
    "from azure.ai.agents import AgentsClient \n",
    "from azure.identity import DefaultAzureCredential\n",
    "#from azure.ai.projects.models import FunctionTool, ToolSet, CodeInterpreterTool\n",
    "from azure.ai.agents.models import (\n",
    "    FunctionTool,\n",
    "    ListSortOrder,\n",
    "    RequiredFunctionToolCall,\n",
    "    SubmitToolOutputsAction,\n",
    "    ToolOutput,\n",
    ")\n",
    "\n",
    "from dotenv import load_dotenv\n",
    "\n",
    "load_dotenv()\n",
    "from user_functions import user_functions, azuremaps_weather"
   ]
  },
  {
   "cell_type": "markdown",
   "id": "54fa0903-f907-4c7f-a51b-4893d15ff371",
   "metadata": {},
   "source": [
    "## 1. Agent definition - Weather forecasts"
   ]
  },
  {
   "cell_type": "markdown",
   "id": "3ac0a60b-b688-4970-ba23-781f2196b75c",
   "metadata": {},
   "source": [
    "## Connect to AI Foundry Project"
   ]
  },
  {
   "cell_type": "code",
   "execution_count": null,
   "id": "76c7bbb7-0faa-4500-ba42-7c5b176f6196",
   "metadata": {},
   "outputs": [],
   "source": [
    "endpoint = os.getenv(\"PROJECT_ENDPOINT\")\n",
    "print(f\"Using endpoint: {endpoint}\")\n",
    "credential = DefaultAzureCredential()\n",
    "\n",
    "project_client = AgentsClient(endpoint=endpoint, credential=credential)"
   ]
  },
  {
   "cell_type": "markdown",
   "id": "6bb91b19-444f-4f46-88fa-a76106434ef3",
   "metadata": {},
   "source": [
    "### Testing the Azure Maps Weather function"
   ]
  },
  {
   "cell_type": "markdown",
   "id": "e2934437-5b6f-424c-9fef-95647758d3ec",
   "metadata": {},
   "source": [
    "We will use the Azure Maps service to provide weather information."
   ]
  },
  {
   "cell_type": "code",
   "execution_count": 3,
   "id": "ab94cb4c-311f-429b-8d3d-1c49a73880b7",
   "metadata": {},
   "outputs": [
    {
     "data": {
      "text/plain": [
       "{'weather_data': {'results': [{'dateTime': '2025-06-18T11:07:00-04:00',\n",
       "    'phrase': 'Partly sunny',\n",
       "    'iconCode': 3,\n",
       "    'hasPrecipitation': False,\n",
       "    'isDayTime': True,\n",
       "    'temperature': {'value': 22.2, 'unit': 'C', 'unitType': 17},\n",
       "    'realFeelTemperature': {'value': 26.1, 'unit': 'C', 'unitType': 17},\n",
       "    'realFeelTemperatureShade': {'value': 21.3, 'unit': 'C', 'unitType': 17},\n",
       "    'relativeHumidity': 88,\n",
       "    'dewPoint': {'value': 20.0, 'unit': 'C', 'unitType': 17},\n",
       "    'wind': {'direction': {'degrees': 203.0, 'localizedDescription': 'SSW'},\n",
       "     'speed': {'value': 9.3, 'unit': 'km/h', 'unitType': 7}},\n",
       "    'windGust': {'speed': {'value': 9.3, 'unit': 'km/h', 'unitType': 7}},\n",
       "    'uvIndex': 6,\n",
       "    'uvIndexPhrase': 'High',\n",
       "    'visibility': {'value': 11.3, 'unit': 'km', 'unitType': 6},\n",
       "    'obstructionsToVisibility': '',\n",
       "    'cloudCover': 35,\n",
       "    'ceiling': {'value': 244.0, 'unit': 'm', 'unitType': 5},\n",
       "    'pressure': {'value': 1010.3, 'unit': 'mb', 'unitType': 14},\n",
       "    'pressureTendency': {'localizedDescription': 'Steady', 'code': 'S'},\n",
       "    'past24HourTemperatureDeparture': {'value': 4.4,\n",
       "     'unit': 'C',\n",
       "     'unitType': 17},\n",
       "    'apparentTemperature': {'value': 22.8, 'unit': 'C', 'unitType': 17},\n",
       "    'windChillTemperature': {'value': 22.2, 'unit': 'C', 'unitType': 17},\n",
       "    'wetBulbTemperature': {'value': 20.8, 'unit': 'C', 'unitType': 17},\n",
       "    'precipitationSummary': {'pastHour': {'value': 0.0,\n",
       "      'unit': 'mm',\n",
       "      'unitType': 3},\n",
       "     'past3Hours': {'value': 1.0, 'unit': 'mm', 'unitType': 3},\n",
       "     'past6Hours': {'value': 1.0, 'unit': 'mm', 'unitType': 3},\n",
       "     'past9Hours': {'value': 1.0, 'unit': 'mm', 'unitType': 3},\n",
       "     'past12Hours': {'value': 1.0, 'unit': 'mm', 'unitType': 3},\n",
       "     'past18Hours': {'value': 1.0, 'unit': 'mm', 'unitType': 3},\n",
       "     'past24Hours': {'value': 1.0, 'unit': 'mm', 'unitType': 3}},\n",
       "    'temperatureSummary': {'past6Hours': {'minimum': {'value': 18.5,\n",
       "       'unit': 'C',\n",
       "       'unitType': 17},\n",
       "      'maximum': {'value': 23.5, 'unit': 'C', 'unitType': 17}},\n",
       "     'past12Hours': {'minimum': {'value': 17.8, 'unit': 'C', 'unitType': 17},\n",
       "      'maximum': {'value': 23.5, 'unit': 'C', 'unitType': 17}},\n",
       "     'past24Hours': {'minimum': {'value': 17.8, 'unit': 'C', 'unitType': 17},\n",
       "      'maximum': {'value': 23.5, 'unit': 'C', 'unitType': 17}}}}]}}"
      ]
     },
     "execution_count": 3,
     "metadata": {},
     "output_type": "execute_result"
    }
   ],
   "source": [
    "weather = azuremaps_weather(\"Toronto\")\n",
    "json.loads(weather)"
   ]
  },
  {
   "cell_type": "markdown",
   "id": "efdd8dbd-3b95-4923-aaae-305c9d8ac991",
   "metadata": {},
   "source": [
    "### Agent"
   ]
  },
  {
   "cell_type": "code",
   "execution_count": 4,
   "id": "61c53506-9f26-4994-92ca-568f1bd8e07d",
   "metadata": {},
   "outputs": [
    {
     "name": "stdout",
     "output_type": "stream",
     "text": [
      "Created agent, ID: asst_ozrvk8zvOTwKXn1YHWjA8Wt2\n"
     ]
    }
   ],
   "source": [
    "model = \"gpt-4o-mini\"\n",
    "name = \"gpt-4o-mini-weather-agent\"\n",
    "instructions = \"You are a weather bot. Use the provided functions to help answer questions.\"\n",
    "\n",
    "functions = FunctionTool(user_functions)\n",
    "\n",
    "# Create an agent and run user's request with function calls\n",
    "agent = project_client.create_agent(\n",
    "    model=os.getenv(\"MODEL_DEPLOYMENT_NAME\"),\n",
    "    name=name,\n",
    "    instructions=instructions,\n",
    "    tools=functions.definitions,\n",
    ")\n",
    "print(f\"Created agent, ID: {agent.id}\")\n",
    "\n"
   ]
  },
  {
   "cell_type": "markdown",
   "id": "a39cf0b6-ba76-4f9c-a2d2-9833d0a569e0",
   "metadata": {},
   "source": [
    "### Tests"
   ]
  },
  {
   "cell_type": "code",
   "execution_count": 5,
   "id": "5e16fc7c-c08b-445a-b78d-fde55c77d125",
   "metadata": {},
   "outputs": [
    {
     "name": "stdout",
     "output_type": "stream",
     "text": [
      "Created thread ID = thread_6IeKt2CCiSBoH3BcRYZmq5Ht\n",
      "Created message ID = msg_L8BVYVvF7PpyZiTafCacZPxn\n"
     ]
    }
   ],
   "source": [
    "prompt = \"Hello, generate a full report for the weather in Toronto today\"\n",
    "\n",
    "# Create thread for communication\n",
    "thread = project_client.threads.create()\n",
    "print(f\"Created thread ID = {thread.id}\")\n",
    "\n",
    "# Create message to thread\n",
    "message = project_client.messages.create(\n",
    "    thread_id=thread.id,\n",
    "    role=\"user\",\n",
    "    content=prompt,\n",
    ")\n",
    "\n",
    "print(f\"Created message ID = {message.id}\")"
   ]
  },
  {
   "cell_type": "code",
   "execution_count": 6,
   "id": "06fe464c-8709-4bfe-b210-c01e4e69bc2a",
   "metadata": {},
   "outputs": [
    {
     "name": "stdout",
     "output_type": "stream",
     "text": [
      "Created run, run ID: run_P3kK36kertnvZV6vUKKuhw99\n"
     ]
    }
   ],
   "source": [
    "run = project_client.runs.create(thread_id=thread.id, agent_id=agent.id)\n",
    "print(f\"Created run, run ID: {run.id}\")"
   ]
  },
  {
   "cell_type": "code",
   "execution_count": 7,
   "id": "965b527f",
   "metadata": {},
   "outputs": [
    {
     "name": "stdout",
     "output_type": "stream",
     "text": [
      "Executing tool call: {'id': 'call_SL3UAcEyGTl4ZU7iL3VxShL3', 'type': 'function', 'function': {'name': 'azuremaps_weather', 'arguments': '{\"query\":\"Toronto\"}'}}\n",
      "Tool outputs: [{'tool_call_id': 'call_SL3UAcEyGTl4ZU7iL3VxShL3', 'output': '{\"weather_data\": {\"results\": [{\"dateTime\": \"2025-06-18T11:07:00-04:00\", \"phrase\": \"Partly sunny\", \"iconCode\": 3, \"hasPrecipitation\": false, \"isDayTime\": true, \"temperature\": {\"value\": 22.2, \"unit\": \"C\", \"unitType\": 17}, \"realFeelTemperature\": {\"value\": 26.1, \"unit\": \"C\", \"unitType\": 17}, \"realFeelTemperatureShade\": {\"value\": 21.3, \"unit\": \"C\", \"unitType\": 17}, \"relativeHumidity\": 88, \"dewPoint\": {\"value\": 20.0, \"unit\": \"C\", \"unitType\": 17}, \"wind\": {\"direction\": {\"degrees\": 203.0, \"localizedDescription\": \"SSW\"}, \"speed\": {\"value\": 9.3, \"unit\": \"km/h\", \"unitType\": 7}}, \"windGust\": {\"speed\": {\"value\": 9.3, \"unit\": \"km/h\", \"unitType\": 7}}, \"uvIndex\": 6, \"uvIndexPhrase\": \"High\", \"visibility\": {\"value\": 11.3, \"unit\": \"km\", \"unitType\": 6}, \"obstructionsToVisibility\": \"\", \"cloudCover\": 35, \"ceiling\": {\"value\": 244.0, \"unit\": \"m\", \"unitType\": 5}, \"pressure\": {\"value\": 1010.3, \"unit\": \"mb\", \"unitType\": 14}, \"pressureTendency\": {\"localizedDescription\": \"Steady\", \"code\": \"S\"}, \"past24HourTemperatureDeparture\": {\"value\": 4.4, \"unit\": \"C\", \"unitType\": 17}, \"apparentTemperature\": {\"value\": 22.8, \"unit\": \"C\", \"unitType\": 17}, \"windChillTemperature\": {\"value\": 22.2, \"unit\": \"C\", \"unitType\": 17}, \"wetBulbTemperature\": {\"value\": 20.8, \"unit\": \"C\", \"unitType\": 17}, \"precipitationSummary\": {\"pastHour\": {\"value\": 0.0, \"unit\": \"mm\", \"unitType\": 3}, \"past3Hours\": {\"value\": 1.0, \"unit\": \"mm\", \"unitType\": 3}, \"past6Hours\": {\"value\": 1.0, \"unit\": \"mm\", \"unitType\": 3}, \"past9Hours\": {\"value\": 1.0, \"unit\": \"mm\", \"unitType\": 3}, \"past12Hours\": {\"value\": 1.0, \"unit\": \"mm\", \"unitType\": 3}, \"past18Hours\": {\"value\": 1.0, \"unit\": \"mm\", \"unitType\": 3}, \"past24Hours\": {\"value\": 1.0, \"unit\": \"mm\", \"unitType\": 3}}, \"temperatureSummary\": {\"past6Hours\": {\"minimum\": {\"value\": 18.5, \"unit\": \"C\", \"unitType\": 17}, \"maximum\": {\"value\": 23.5, \"unit\": \"C\", \"unitType\": 17}}, \"past12Hours\": {\"minimum\": {\"value\": 17.8, \"unit\": \"C\", \"unitType\": 17}, \"maximum\": {\"value\": 23.5, \"unit\": \"C\", \"unitType\": 17}}, \"past24Hours\": {\"minimum\": {\"value\": 17.8, \"unit\": \"C\", \"unitType\": 17}, \"maximum\": {\"value\": 23.5, \"unit\": \"C\", \"unitType\": 17}}}}]}}'}]\n",
      "Current run status: RunStatus.REQUIRES_ACTION\n",
      "Current run status: RunStatus.IN_PROGRESS\n",
      "Current run status: RunStatus.IN_PROGRESS\n",
      "Current run status: RunStatus.COMPLETED\n",
      "Run completed with status: RunStatus.COMPLETED\n"
     ]
    }
   ],
   "source": [
    "    while run.status in [\"queued\", \"in_progress\", \"requires_action\"]:\n",
    "        time.sleep(1)\n",
    "        run = project_client.runs.get(thread_id=thread.id, run_id=run.id)\n",
    "\n",
    "        if run.status == \"requires_action\" and isinstance(run.required_action, SubmitToolOutputsAction):\n",
    "            tool_calls = run.required_action.submit_tool_outputs.tool_calls\n",
    "            if not tool_calls:\n",
    "                print(\"No tool calls provided - cancelling run\")\n",
    "                agents_client.runs.cancel(thread_id=thread.id, run_id=run.id)\n",
    "                break\n",
    "\n",
    "            tool_outputs = []\n",
    "            for tool_call in tool_calls:\n",
    "                if isinstance(tool_call, RequiredFunctionToolCall):\n",
    "                    try:\n",
    "                        print(f\"Executing tool call: {tool_call}\")\n",
    "                        output = functions.execute(tool_call)\n",
    "                        tool_outputs.append(\n",
    "                            ToolOutput(\n",
    "                                tool_call_id=tool_call.id,\n",
    "                                output=output,\n",
    "                            )\n",
    "                        )\n",
    "                    except Exception as e:\n",
    "                        print(f\"Error executing tool_call {tool_call.id}: {e}\")\n",
    "\n",
    "            print(f\"Tool outputs: {tool_outputs}\")\n",
    "            if tool_outputs:\n",
    "                project_client.runs.submit_tool_outputs(thread_id=thread.id, run_id=run.id, tool_outputs=tool_outputs)\n",
    "\n",
    "        print(f\"Current run status: {run.status}\")\n",
    "\n",
    "    print(f\"Run completed with status: {run.status}\")"
   ]
  },
  {
   "cell_type": "code",
   "execution_count": 8,
   "id": "c77600b7-3007-43f4-bc2a-f9c66df03cdf",
   "metadata": {},
   "outputs": [
    {
     "name": "stdout",
     "output_type": "stream",
     "text": [
      "Start   : 2025-06-18 15:16:15+0000\n",
      "End     : 2025-06-18 15:16:19+0000\n",
      "Elapsed : 0:00:04  (4.00 seconds)\n"
     ]
    },
    {
     "data": {
      "text/plain": [
       "{'prompt_tokens': 1427, 'completion_tokens': 327, 'total_tokens': 1754, 'prompt_token_details': {'cached_tokens': 0}}"
      ]
     },
     "execution_count": 8,
     "metadata": {},
     "output_type": "execute_result"
    }
   ],
   "source": [
    "start   = run.started_at       \n",
    "end     = run.completed_at\n",
    "elapsed = end - start\n",
    "\n",
    "iso_fmt = \"%Y-%m-%d %H:%M:%S%z\"\n",
    "print(f\"Start   : {start.strftime(iso_fmt)}\")\n",
    "print(f\"End     : {end.strftime(iso_fmt)}\")\n",
    "print(f\"Elapsed : {elapsed}  \"\n",
    "      f\"({elapsed.total_seconds():.2f} seconds)\")\n",
    "\n",
    "run.usage"
   ]
  },
  {
   "cell_type": "code",
   "execution_count": 9,
   "id": "ffe4f0e8-cf75-4e64-8382-db0ce6b70177",
   "metadata": {},
   "outputs": [
    {
     "name": "stdout",
     "output_type": "stream",
     "text": [
      "MessageRole.USER: Hello, generate a full report for the weather in Toronto today\n",
      "MessageRole.AGENT: Here is the full weather report for Toronto today:\n",
      "\n",
      "Current Conditions:\n",
      "\n",
      "- Description: Partly sunny\n",
      "- Temperature: 22.2°C (feels like 26.1°C)\n",
      "- Temperature in the shade: 21.3°C\n",
      "- Minimum temperature (last 24h): 17.8°C\n",
      "- Maximum temperature (last 24h): 23.5°C\n",
      "- Relative Humidity: 88%\n",
      "- Dew Point: 20.0°C\n",
      "- Wind: 9.3 km/h from the south-southwest (SSW)\n",
      "- Wind Gusts: 9.3 km/h\n",
      "- UV Index: 6 (High)\n",
      "- Cloud Cover: 35%\n",
      "- Visibility: 11.3 km\n",
      "- Atmospheric Pressure: 1010.3 mb (steady)\n",
      "\n",
      "Precipitation:\n",
      "\n",
      "- Past hour: 0.0 mm\n",
      "- Past 3–24 hours: 1.0 mm (total in each interval)\n",
      "\n",
      "Additional Information:\n",
      "\n",
      "- Wet Bulb Temperature: 20.8°C\n",
      "- No significant obstructions to visibility\n",
      "- No wind chill; apparent temperature: 22.8°C\n",
      "\n",
      "Summary: Today in Toronto is partly sunny with mild temperatures, moderate humidity, and light winds. There has been a small amount of rain over the past 24 hours (1.0 mm), but currently, no precipitation is falling. The UV index is high, so sun protection is recommended.\n",
      "\n",
      "Let me know if you need tomorrow’s forecast or further details!\n"
     ]
    }
   ],
   "source": [
    "# Fetch and log all messages\n",
    "messages = project_client.messages.list(thread_id=thread.id, order=ListSortOrder.ASCENDING)\n",
    "for msg in messages:\n",
    "    if msg.text_messages:\n",
    "        last_text = msg.text_messages[-1]\n",
    "        print(f\"{msg.role}: {last_text.text.value}\")"
   ]
  },
  {
   "cell_type": "markdown",
   "id": "ea4df8d0-4680-4bbc-a9c2-6f42214615da",
   "metadata": {},
   "source": [
    "### Other examples"
   ]
  },
  {
   "cell_type": "code",
   "execution_count": 10,
   "id": "b1eff256-208c-440a-ac5d-cbbe54f212d7",
   "metadata": {},
   "outputs": [
    {
     "name": "stdout",
     "output_type": "stream",
     "text": [
      "Created thread ID = thread_8BHEvQK7rO3Yi1o0U5yvLT3t\n",
      "Created message ID = msg_4KyHOSMqRJIHkOLnCEMstivg\n"
     ]
    }
   ],
   "source": [
    "prompt = \"Hello, generate a full report for the weather in Mexico City today. Print the results in English, Spanish and French.\"\n",
    "\n",
    "# Create thread for communication\n",
    "thread = project_client.threads.create()\n",
    "print(f\"Created thread ID = {thread.id}\")\n",
    "\n",
    "# Create message to thread\n",
    "message = project_client.messages.create(\n",
    "    thread_id=thread.id,\n",
    "    role=\"user\",\n",
    "    content=prompt,\n",
    ")\n",
    "\n",
    "print(f\"Created message ID = {message.id}\")"
   ]
  },
  {
   "cell_type": "code",
   "execution_count": 11,
   "id": "79b1f691",
   "metadata": {},
   "outputs": [
    {
     "name": "stdout",
     "output_type": "stream",
     "text": [
      "Created run, run ID: run_Cm9mgFRdVRHJElPhkcYst0xZ\n"
     ]
    }
   ],
   "source": [
    "run = project_client.runs.create(thread_id=thread.id, agent_id=agent.id)\n",
    "print(f\"Created run, run ID: {run.id}\")"
   ]
  },
  {
   "cell_type": "code",
   "execution_count": 12,
   "id": "e37a288d",
   "metadata": {},
   "outputs": [
    {
     "name": "stdout",
     "output_type": "stream",
     "text": [
      "Executing tool call: {'id': 'call_Tt9YGjG2KP7y1ubbi0MjMlHH', 'type': 'function', 'function': {'name': 'azuremaps_weather', 'arguments': '{\"query\":\"Mexico City\"}'}}\n",
      "Tool outputs: [{'tool_call_id': 'call_Tt9YGjG2KP7y1ubbi0MjMlHH', 'output': '{\"weather_data\": {\"results\": [{\"dateTime\": \"2025-06-18T08:55:00-06:00\", \"phrase\": \"Cloudy\", \"iconCode\": 7, \"hasPrecipitation\": false, \"isDayTime\": true, \"temperature\": {\"value\": 16.1, \"unit\": \"C\", \"unitType\": 17}, \"realFeelTemperature\": {\"value\": 16.7, \"unit\": \"C\", \"unitType\": 17}, \"realFeelTemperatureShade\": {\"value\": 16.7, \"unit\": \"C\", \"unitType\": 17}, \"relativeHumidity\": 77, \"dewPoint\": {\"value\": 12.2, \"unit\": \"C\", \"unitType\": 17}, \"wind\": {\"direction\": {\"degrees\": 0.0, \"localizedDescription\": \"N\"}, \"speed\": {\"value\": 7.4, \"unit\": \"km/h\", \"unitType\": 7}}, \"windGust\": {\"speed\": {\"value\": 7.4, \"unit\": \"km/h\", \"unitType\": 7}}, \"uvIndex\": 1, \"uvIndexPhrase\": \"Low\", \"visibility\": {\"value\": 8.0, \"unit\": \"km\", \"unitType\": 6}, \"obstructionsToVisibility\": \"\", \"cloudCover\": 100, \"ceiling\": {\"value\": 366.0, \"unit\": \"m\", \"unitType\": 5}, \"pressure\": {\"value\": 1025.1, \"unit\": \"mb\", \"unitType\": 14}, \"pressureTendency\": {\"localizedDescription\": \"Rising\", \"code\": \"R\"}, \"past24HourTemperatureDeparture\": {\"value\": 1.1, \"unit\": \"C\", \"unitType\": 17}, \"apparentTemperature\": {\"value\": 18.3, \"unit\": \"C\", \"unitType\": 17}, \"windChillTemperature\": {\"value\": 16.1, \"unit\": \"C\", \"unitType\": 17}, \"wetBulbTemperature\": {\"value\": 14.0, \"unit\": \"C\", \"unitType\": 17}, \"precipitationSummary\": {\"pastHour\": {\"value\": 0.0, \"unit\": \"mm\", \"unitType\": 3}, \"past3Hours\": {\"value\": 0.7, \"unit\": \"mm\", \"unitType\": 3}, \"past6Hours\": {\"value\": 0.7, \"unit\": \"mm\", \"unitType\": 3}, \"past9Hours\": {\"value\": 0.7, \"unit\": \"mm\", \"unitType\": 3}, \"past12Hours\": {\"value\": 1.2, \"unit\": \"mm\", \"unitType\": 3}, \"past18Hours\": {\"value\": 4.1, \"unit\": \"mm\", \"unitType\": 3}, \"past24Hours\": {\"value\": 6.7, \"unit\": \"mm\", \"unitType\": 3}}, \"temperatureSummary\": {\"past6Hours\": {\"minimum\": {\"value\": 13.9, \"unit\": \"C\", \"unitType\": 17}, \"maximum\": {\"value\": 16.1, \"unit\": \"C\", \"unitType\": 17}}, \"past12Hours\": {\"minimum\": {\"value\": 13.9, \"unit\": \"C\", \"unitType\": 17}, \"maximum\": {\"value\": 17.8, \"unit\": \"C\", \"unitType\": 17}}, \"past24Hours\": {\"minimum\": {\"value\": 13.9, \"unit\": \"C\", \"unitType\": 17}, \"maximum\": {\"value\": 20.0, \"unit\": \"C\", \"unitType\": 17}}}}]}}'}]\n",
      "Current run status: RunStatus.REQUIRES_ACTION\n",
      "Current run status: RunStatus.IN_PROGRESS\n",
      "Current run status: RunStatus.IN_PROGRESS\n",
      "Current run status: RunStatus.COMPLETED\n",
      "Run completed with status: RunStatus.COMPLETED\n"
     ]
    }
   ],
   "source": [
    "    while run.status in [\"queued\", \"in_progress\", \"requires_action\"]:\n",
    "        time.sleep(1)\n",
    "        run = project_client.runs.get(thread_id=thread.id, run_id=run.id)\n",
    "\n",
    "        if run.status == \"requires_action\" and isinstance(run.required_action, SubmitToolOutputsAction):\n",
    "            tool_calls = run.required_action.submit_tool_outputs.tool_calls\n",
    "            if not tool_calls:\n",
    "                print(\"No tool calls provided - cancelling run\")\n",
    "                agents_client.runs.cancel(thread_id=thread.id, run_id=run.id)\n",
    "                break\n",
    "\n",
    "            tool_outputs = []\n",
    "            for tool_call in tool_calls:\n",
    "                if isinstance(tool_call, RequiredFunctionToolCall):\n",
    "                    try:\n",
    "                        print(f\"Executing tool call: {tool_call}\")\n",
    "                        output = functions.execute(tool_call)\n",
    "                        tool_outputs.append(\n",
    "                            ToolOutput(\n",
    "                                tool_call_id=tool_call.id,\n",
    "                                output=output,\n",
    "                            )\n",
    "                        )\n",
    "                    except Exception as e:\n",
    "                        print(f\"Error executing tool_call {tool_call.id}: {e}\")\n",
    "\n",
    "            print(f\"Tool outputs: {tool_outputs}\")\n",
    "            if tool_outputs:\n",
    "                project_client.runs.submit_tool_outputs(thread_id=thread.id, run_id=run.id, tool_outputs=tool_outputs)\n",
    "\n",
    "        print(f\"Current run status: {run.status}\")\n",
    "\n",
    "    print(f\"Run completed with status: {run.status}\")"
   ]
  },
  {
   "cell_type": "code",
   "execution_count": 13,
   "id": "655a6627",
   "metadata": {},
   "outputs": [
    {
     "name": "stdout",
     "output_type": "stream",
     "text": [
      "Start   : 2025-06-18 15:17:21+0000\n",
      "End     : 2025-06-18 15:17:25+0000\n",
      "Elapsed : 0:00:04  (4.00 seconds)\n"
     ]
    },
    {
     "data": {
      "text/plain": [
       "{'prompt_tokens': 1450, 'completion_tokens': 470, 'total_tokens': 1920, 'prompt_token_details': {'cached_tokens': 0}}"
      ]
     },
     "execution_count": 13,
     "metadata": {},
     "output_type": "execute_result"
    }
   ],
   "source": [
    "start   = run.started_at       \n",
    "end     = run.completed_at\n",
    "elapsed = end - start\n",
    "\n",
    "iso_fmt = \"%Y-%m-%d %H:%M:%S%z\"\n",
    "print(f\"Start   : {start.strftime(iso_fmt)}\")\n",
    "print(f\"End     : {end.strftime(iso_fmt)}\")\n",
    "print(f\"Elapsed : {elapsed}  \"\n",
    "      f\"({elapsed.total_seconds():.2f} seconds)\")\n",
    "\n",
    "run.usage"
   ]
  },
  {
   "cell_type": "code",
   "execution_count": 14,
   "id": "a29c6922",
   "metadata": {},
   "outputs": [
    {
     "name": "stdout",
     "output_type": "stream",
     "text": [
      "MessageRole.USER: Hello, generate a full report for the weather in Mexico City today. Print the results in English, Spanish and French.\n",
      "MessageRole.AGENT: Weather Report for Mexico City Today (English):\n",
      "\n",
      "- Condition: Cloudy\n",
      "- Temperature: 16.1°C (Feels like 16.7°C)\n",
      "- Humidity: 77%\n",
      "- Dew Point: 12.2°C\n",
      "- Wind: North at 7.4 km/h\n",
      "- Visibility: 8.0 km\n",
      "- UV Index: 1 (Low)\n",
      "- Pressure: 1025.1 mb (Rising)\n",
      "- Cloud Cover: 100%\n",
      "- Precipitation (last 24 hrs): 6.7 mm\n",
      "- Minimum/Maximum Temperature (last 24 hrs): 13.9°C / 20.0°C\n",
      "\n",
      "Reporte del clima para la Ciudad de México hoy (Español):\n",
      "\n",
      "- Condición: Nublado\n",
      "- Temperatura: 16.1°C (Sensación térmica de 16.7°C)\n",
      "- Humedad: 77%\n",
      "- Punto de rocío: 12.2°C\n",
      "- Viento: Norte a 7.4 km/h\n",
      "- Visibilidad: 8.0 km\n",
      "- Índice UV: 1 (Bajo)\n",
      "- Presión: 1025.1 mb (En aumento)\n",
      "- Nubosidad: 100%\n",
      "- Precipitación (últimas 24 hrs): 6.7 mm\n",
      "- Temperatura mínima/máxima (últimas 24 hrs): 13.9°C / 20.0°C\n",
      "\n",
      "Bulletin météo pour Mexico aujourd'hui (Français) :\n",
      "\n",
      "- Condition : Nuageux\n",
      "- Température : 16.1°C (Ressentie 16.7°C)\n",
      "- Humidité : 77%\n",
      "- Point de rosée : 12.2°C\n",
      "- Vent : Nord à 7.4 km/h\n",
      "- Visibilité : 8.0 km\n",
      "- Indice UV : 1 (Faible)\n",
      "- Pression : 1025.1 mb (En hausse)\n",
      "- Couverture nuageuse : 100%\n",
      "- Précipitations (24h) : 6.7 mm\n",
      "- Température minimale/maximale (24h) : 13.9°C / 20.0°C\n"
     ]
    }
   ],
   "source": [
    "# Fetch and log all messages\n",
    "messages = project_client.messages.list(thread_id=thread.id, order=ListSortOrder.ASCENDING)\n",
    "for msg in messages:\n",
    "    if msg.text_messages:\n",
    "        last_text = msg.text_messages[-1]\n",
    "        print(f\"{msg.role}: {last_text.text.value}\")"
   ]
  },
  {
   "cell_type": "code",
   "execution_count": 15,
   "id": "0d2509cb-2ebc-4f4e-9cc9-ffc8c75a3da7",
   "metadata": {},
   "outputs": [
    {
     "name": "stdout",
     "output_type": "stream",
     "text": [
      "Created thread ID = thread_uUN963pb8aGQWvqywTtIX6hJ\n",
      "Created message ID = msg_vnrOTnGVF5uxXzo20Q28Hf67\n"
     ]
    }
   ],
   "source": [
    "prompt = \"Hello, print the UV informations for Oakville, Ontario today. Print the date as well of the weather data.\"\n",
    "\n",
    "# Create thread for communication\n",
    "thread = project_client.threads.create()\n",
    "print(f\"Created thread ID = {thread.id}\")\n",
    "\n",
    "# Create message to thread\n",
    "message = project_client.messages.create(\n",
    "    thread_id=thread.id,\n",
    "    role=\"user\",\n",
    "    content=prompt,\n",
    ")\n",
    "\n",
    "print(f\"Created message ID = {message.id}\")"
   ]
  },
  {
   "cell_type": "code",
   "execution_count": 16,
   "id": "67a1a562",
   "metadata": {},
   "outputs": [
    {
     "name": "stdout",
     "output_type": "stream",
     "text": [
      "Created run, run ID: run_fgkemeBbJxFNGYskNhxJOfLU\n"
     ]
    }
   ],
   "source": [
    "run = project_client.runs.create(thread_id=thread.id, agent_id=agent.id)\n",
    "print(f\"Created run, run ID: {run.id}\")"
   ]
  },
  {
   "cell_type": "code",
   "execution_count": 17,
   "id": "01ce339f",
   "metadata": {},
   "outputs": [
    {
     "name": "stdout",
     "output_type": "stream",
     "text": [
      "Executing tool call: {'id': 'call_PQRCuG3ZaOt0RM7C2yqsPhxo', 'type': 'function', 'function': {'name': 'azuremaps_weather', 'arguments': '{\"query\":\"Oakville, Ontario\"}'}}\n",
      "Tool outputs: [{'tool_call_id': 'call_PQRCuG3ZaOt0RM7C2yqsPhxo', 'output': '{\"weather_data\": {\"results\": [{\"dateTime\": \"2025-06-18T11:07:00-04:00\", \"phrase\": \"Mostly cloudy\", \"iconCode\": 6, \"hasPrecipitation\": false, \"isDayTime\": true, \"temperature\": {\"value\": 25.5, \"unit\": \"C\", \"unitType\": 17}, \"realFeelTemperature\": {\"value\": 31.8, \"unit\": \"C\", \"unitType\": 17}, \"realFeelTemperatureShade\": {\"value\": 29.3, \"unit\": \"C\", \"unitType\": 17}, \"relativeHumidity\": 85, \"dewPoint\": {\"value\": 22.9, \"unit\": \"C\", \"unitType\": 17}, \"wind\": {\"direction\": {\"degrees\": 225.0, \"localizedDescription\": \"SW\"}, \"speed\": {\"value\": 2.8, \"unit\": \"km/h\", \"unitType\": 7}}, \"windGust\": {\"speed\": {\"value\": 5.3, \"unit\": \"km/h\", \"unitType\": 7}}, \"uvIndex\": 3, \"uvIndexPhrase\": \"Moderate\", \"visibility\": {\"value\": 12.9, \"unit\": \"km\", \"unitType\": 6}, \"obstructionsToVisibility\": \"\", \"cloudCover\": 85, \"ceiling\": {\"value\": 1646.0, \"unit\": \"m\", \"unitType\": 5}, \"pressure\": {\"value\": 1008.5, \"unit\": \"mb\", \"unitType\": 14}, \"pressureTendency\": {\"localizedDescription\": \"Falling\", \"code\": \"F\"}, \"past24HourTemperatureDeparture\": {\"value\": -0.2, \"unit\": \"C\", \"unitType\": 17}, \"apparentTemperature\": {\"value\": 27.8, \"unit\": \"C\", \"unitType\": 17}, \"windChillTemperature\": {\"value\": 25.6, \"unit\": \"C\", \"unitType\": 17}, \"wetBulbTemperature\": {\"value\": 23.8, \"unit\": \"C\", \"unitType\": 17}, \"precipitationSummary\": {\"pastHour\": {\"value\": 0.0, \"unit\": \"mm\", \"unitType\": 3}, \"past3Hours\": {\"value\": 0.0, \"unit\": \"mm\", \"unitType\": 3}, \"past6Hours\": {\"value\": 0.0, \"unit\": \"mm\", \"unitType\": 3}, \"past9Hours\": {\"value\": 0.0, \"unit\": \"mm\", \"unitType\": 3}, \"past12Hours\": {\"value\": 0.0, \"unit\": \"mm\", \"unitType\": 3}, \"past18Hours\": {\"value\": 0.0, \"unit\": \"mm\", \"unitType\": 3}, \"past24Hours\": {\"value\": 0.0, \"unit\": \"mm\", \"unitType\": 3}}, \"temperatureSummary\": {\"past6Hours\": {\"minimum\": {\"value\": 20.5, \"unit\": \"C\", \"unitType\": 17}, \"maximum\": {\"value\": 25.5, \"unit\": \"C\", \"unitType\": 17}}, \"past12Hours\": {\"minimum\": {\"value\": 20.0, \"unit\": \"C\", \"unitType\": 17}, \"maximum\": {\"value\": 25.5, \"unit\": \"C\", \"unitType\": 17}}, \"past24Hours\": {\"minimum\": {\"value\": 19.4, \"unit\": \"C\", \"unitType\": 17}, \"maximum\": {\"value\": 26.0, \"unit\": \"C\", \"unitType\": 17}}}}]}}'}]\n",
      "Current run status: RunStatus.REQUIRES_ACTION\n",
      "Current run status: RunStatus.IN_PROGRESS\n",
      "Current run status: RunStatus.COMPLETED\n",
      "Run completed with status: RunStatus.COMPLETED\n"
     ]
    }
   ],
   "source": [
    "    while run.status in [\"queued\", \"in_progress\", \"requires_action\"]:\n",
    "        time.sleep(1)\n",
    "        run = project_client.runs.get(thread_id=thread.id, run_id=run.id)\n",
    "\n",
    "        if run.status == \"requires_action\" and isinstance(run.required_action, SubmitToolOutputsAction):\n",
    "            tool_calls = run.required_action.submit_tool_outputs.tool_calls\n",
    "            if not tool_calls:\n",
    "                print(\"No tool calls provided - cancelling run\")\n",
    "                agents_client.runs.cancel(thread_id=thread.id, run_id=run.id)\n",
    "                break\n",
    "\n",
    "            tool_outputs = []\n",
    "            for tool_call in tool_calls:\n",
    "                if isinstance(tool_call, RequiredFunctionToolCall):\n",
    "                    try:\n",
    "                        print(f\"Executing tool call: {tool_call}\")\n",
    "                        output = functions.execute(tool_call)\n",
    "                        tool_outputs.append(\n",
    "                            ToolOutput(\n",
    "                                tool_call_id=tool_call.id,\n",
    "                                output=output,\n",
    "                            )\n",
    "                        )\n",
    "                    except Exception as e:\n",
    "                        print(f\"Error executing tool_call {tool_call.id}: {e}\")\n",
    "\n",
    "            print(f\"Tool outputs: {tool_outputs}\")\n",
    "            if tool_outputs:\n",
    "                project_client.runs.submit_tool_outputs(thread_id=thread.id, run_id=run.id, tool_outputs=tool_outputs)\n",
    "\n",
    "        print(f\"Current run status: {run.status}\")\n",
    "\n",
    "    print(f\"Run completed with status: {run.status}\")"
   ]
  },
  {
   "cell_type": "code",
   "execution_count": 18,
   "id": "8e76fc44",
   "metadata": {},
   "outputs": [
    {
     "name": "stdout",
     "output_type": "stream",
     "text": [
      "Start   : 2025-06-18 15:18:11+0000\n",
      "End     : 2025-06-18 15:18:12+0000\n",
      "Elapsed : 0:00:01  (1.00 seconds)\n"
     ]
    },
    {
     "data": {
      "text/plain": [
       "{'prompt_tokens': 1452, 'completion_tokens': 86, 'total_tokens': 1538, 'prompt_token_details': {'cached_tokens': 0}}"
      ]
     },
     "execution_count": 18,
     "metadata": {},
     "output_type": "execute_result"
    }
   ],
   "source": [
    "start   = run.started_at       \n",
    "end     = run.completed_at\n",
    "elapsed = end - start\n",
    "\n",
    "iso_fmt = \"%Y-%m-%d %H:%M:%S%z\"\n",
    "print(f\"Start   : {start.strftime(iso_fmt)}\")\n",
    "print(f\"End     : {end.strftime(iso_fmt)}\")\n",
    "print(f\"Elapsed : {elapsed}  \"\n",
    "      f\"({elapsed.total_seconds():.2f} seconds)\")\n",
    "\n",
    "run.usage"
   ]
  },
  {
   "cell_type": "code",
   "execution_count": 19,
   "id": "d8a9d6d5",
   "metadata": {},
   "outputs": [
    {
     "name": "stdout",
     "output_type": "stream",
     "text": [
      "MessageRole.USER: Hello, print the UV informations for Oakville, Ontario today. Print the date as well of the weather data.\n",
      "MessageRole.AGENT: Date: 2025-06-18\n",
      "\n",
      "UV Index information for Oakville, Ontario today:\n",
      "- UV Index: 3\n",
      "- UV Index Level: Moderate\n",
      "\n",
      "A UV Index of 3 means moderate risk from unprotected sun exposure, so it's a good idea to take basic sun safety precautions if you'll be outdoors.\n"
     ]
    }
   ],
   "source": [
    "# Fetch and log all messages\n",
    "messages = project_client.messages.list(thread_id=thread.id, order=ListSortOrder.ASCENDING)\n",
    "for msg in messages:\n",
    "    if msg.text_messages:\n",
    "        last_text = msg.text_messages[-1]\n",
    "        print(f\"{msg.role}: {last_text.text.value}\")"
   ]
  },
  {
   "cell_type": "code",
   "execution_count": 20,
   "id": "b918f5f9-07b3-47e1-a259-79093f10ed7e",
   "metadata": {},
   "outputs": [
    {
     "name": "stdout",
     "output_type": "stream",
     "text": [
      "Created thread ID = thread_Q5ZpKwhuwgNPEUBYxBZaw6tP\n",
      "Created message ID = msg_VdG0bNUDMFiTAD1XVTdBX1q6\n"
     ]
    }
   ],
   "source": [
    "prompt = \"Generate a weather report for Rome. This report is for a blog publication. Add emojis and adopt a fun style.\"\n",
    "\n",
    "# Create thread for communication\n",
    "thread = project_client.threads.create()\n",
    "print(f\"Created thread ID = {thread.id}\")\n",
    "\n",
    "# Create message to thread\n",
    "message = project_client.messages.create(\n",
    "    thread_id=thread.id,\n",
    "    role=\"user\",\n",
    "    content=prompt,\n",
    ")\n",
    "\n",
    "print(f\"Created message ID = {message.id}\")"
   ]
  },
  {
   "cell_type": "code",
   "execution_count": 21,
   "id": "5279d9b6",
   "metadata": {},
   "outputs": [
    {
     "name": "stdout",
     "output_type": "stream",
     "text": [
      "Created run, run ID: run_THBZkRzNuM59o9UPi2JVcMxF\n"
     ]
    }
   ],
   "source": [
    "run = project_client.runs.create(thread_id=thread.id, agent_id=agent.id)\n",
    "print(f\"Created run, run ID: {run.id}\")"
   ]
  },
  {
   "cell_type": "code",
   "execution_count": 22,
   "id": "f567bedc",
   "metadata": {},
   "outputs": [
    {
     "name": "stdout",
     "output_type": "stream",
     "text": [
      "Executing tool call: {'id': 'call_GW6be3SW7vt3XzXEZrekR1T1', 'type': 'function', 'function': {'name': 'azuremaps_weather', 'arguments': '{\"query\":\"Rome\"}'}}\n",
      "Tool outputs: [{'tool_call_id': 'call_GW6be3SW7vt3XzXEZrekR1T1', 'output': '{\"weather_data\": {\"results\": [{\"dateTime\": \"2025-06-18T17:07:00+02:00\", \"phrase\": \"Mostly sunny\", \"iconCode\": 2, \"hasPrecipitation\": false, \"isDayTime\": true, \"temperature\": {\"value\": 29.1, \"unit\": \"C\", \"unitType\": 17}, \"realFeelTemperature\": {\"value\": 30.9, \"unit\": \"C\", \"unitType\": 17}, \"realFeelTemperatureShade\": {\"value\": 29.6, \"unit\": \"C\", \"unitType\": 17}, \"relativeHumidity\": 63, \"dewPoint\": {\"value\": 21.5, \"unit\": \"C\", \"unitType\": 17}, \"wind\": {\"direction\": {\"degrees\": 180.0, \"localizedDescription\": \"S\"}, \"speed\": {\"value\": 17.5, \"unit\": \"km/h\", \"unitType\": 7}}, \"windGust\": {\"speed\": {\"value\": 30.7, \"unit\": \"km/h\", \"unitType\": 7}}, \"uvIndex\": 2, \"uvIndexPhrase\": \"Low\", \"visibility\": {\"value\": 25.7, \"unit\": \"km\", \"unitType\": 6}, \"obstructionsToVisibility\": \"\", \"cloudCover\": 30, \"ceiling\": {\"value\": 12192.0, \"unit\": \"m\", \"unitType\": 5}, \"pressure\": {\"value\": 1017.0, \"unit\": \"mb\", \"unitType\": 14}, \"pressureTendency\": {\"localizedDescription\": \"Steady\", \"code\": \"S\"}, \"past24HourTemperatureDeparture\": {\"value\": 3.6, \"unit\": \"C\", \"unitType\": 17}, \"apparentTemperature\": {\"value\": 31.7, \"unit\": \"C\", \"unitType\": 17}, \"windChillTemperature\": {\"value\": 28.9, \"unit\": \"C\", \"unitType\": 17}, \"wetBulbTemperature\": {\"value\": 23.9, \"unit\": \"C\", \"unitType\": 17}, \"precipitationSummary\": {\"pastHour\": {\"value\": 0.0, \"unit\": \"mm\", \"unitType\": 3}, \"past3Hours\": {\"value\": 0.0, \"unit\": \"mm\", \"unitType\": 3}, \"past6Hours\": {\"value\": 0.0, \"unit\": \"mm\", \"unitType\": 3}, \"past9Hours\": {\"value\": 0.0, \"unit\": \"mm\", \"unitType\": 3}, \"past12Hours\": {\"value\": 0.0, \"unit\": \"mm\", \"unitType\": 3}, \"past18Hours\": {\"value\": 1.1, \"unit\": \"mm\", \"unitType\": 3}, \"past24Hours\": {\"value\": 2.3, \"unit\": \"mm\", \"unitType\": 3}}, \"temperatureSummary\": {\"past6Hours\": {\"minimum\": {\"value\": 27.5, \"unit\": \"C\", \"unitType\": 17}, \"maximum\": {\"value\": 30.0, \"unit\": \"C\", \"unitType\": 17}}, \"past12Hours\": {\"minimum\": {\"value\": 21.2, \"unit\": \"C\", \"unitType\": 17}, \"maximum\": {\"value\": 30.0, \"unit\": \"C\", \"unitType\": 17}}, \"past24Hours\": {\"minimum\": {\"value\": 21.1, \"unit\": \"C\", \"unitType\": 17}, \"maximum\": {\"value\": 30.0, \"unit\": \"C\", \"unitType\": 17}}}}]}}'}]\n",
      "Current run status: RunStatus.REQUIRES_ACTION\n",
      "Current run status: RunStatus.IN_PROGRESS\n",
      "Current run status: RunStatus.IN_PROGRESS\n",
      "Current run status: RunStatus.IN_PROGRESS\n",
      "Current run status: RunStatus.IN_PROGRESS\n",
      "Current run status: RunStatus.COMPLETED\n",
      "Run completed with status: RunStatus.COMPLETED\n"
     ]
    }
   ],
   "source": [
    "    while run.status in [\"queued\", \"in_progress\", \"requires_action\"]:\n",
    "        time.sleep(1)\n",
    "        run = project_client.runs.get(thread_id=thread.id, run_id=run.id)\n",
    "\n",
    "        if run.status == \"requires_action\" and isinstance(run.required_action, SubmitToolOutputsAction):\n",
    "            tool_calls = run.required_action.submit_tool_outputs.tool_calls\n",
    "            if not tool_calls:\n",
    "                print(\"No tool calls provided - cancelling run\")\n",
    "                agents_client.runs.cancel(thread_id=thread.id, run_id=run.id)\n",
    "                break\n",
    "\n",
    "            tool_outputs = []\n",
    "            for tool_call in tool_calls:\n",
    "                if isinstance(tool_call, RequiredFunctionToolCall):\n",
    "                    try:\n",
    "                        print(f\"Executing tool call: {tool_call}\")\n",
    "                        output = functions.execute(tool_call)\n",
    "                        tool_outputs.append(\n",
    "                            ToolOutput(\n",
    "                                tool_call_id=tool_call.id,\n",
    "                                output=output,\n",
    "                            )\n",
    "                        )\n",
    "                    except Exception as e:\n",
    "                        print(f\"Error executing tool_call {tool_call.id}: {e}\")\n",
    "\n",
    "            print(f\"Tool outputs: {tool_outputs}\")\n",
    "            if tool_outputs:\n",
    "                project_client.runs.submit_tool_outputs(thread_id=thread.id, run_id=run.id, tool_outputs=tool_outputs)\n",
    "\n",
    "        print(f\"Current run status: {run.status}\")\n",
    "\n",
    "    print(f\"Run completed with status: {run.status}\")"
   ]
  },
  {
   "cell_type": "code",
   "execution_count": 23,
   "id": "4072cd69",
   "metadata": {},
   "outputs": [
    {
     "name": "stdout",
     "output_type": "stream",
     "text": [
      "Start   : 2025-06-18 15:18:57+0000\n",
      "End     : 2025-06-18 15:19:03+0000\n",
      "Elapsed : 0:00:06  (6.00 seconds)\n"
     ]
    },
    {
     "data": {
      "text/plain": [
       "{'prompt_tokens': 1448, 'completion_tokens': 254, 'total_tokens': 1702, 'prompt_token_details': {'cached_tokens': 0}}"
      ]
     },
     "execution_count": 23,
     "metadata": {},
     "output_type": "execute_result"
    }
   ],
   "source": [
    "start   = run.started_at       \n",
    "end     = run.completed_at\n",
    "elapsed = end - start\n",
    "\n",
    "iso_fmt = \"%Y-%m-%d %H:%M:%S%z\"\n",
    "print(f\"Start   : {start.strftime(iso_fmt)}\")\n",
    "print(f\"End     : {end.strftime(iso_fmt)}\")\n",
    "print(f\"Elapsed : {elapsed}  \"\n",
    "      f\"({elapsed.total_seconds():.2f} seconds)\")\n",
    "\n",
    "run.usage"
   ]
  },
  {
   "cell_type": "code",
   "execution_count": 24,
   "id": "9dea493a",
   "metadata": {},
   "outputs": [
    {
     "name": "stdout",
     "output_type": "stream",
     "text": [
      "MessageRole.USER: Generate a weather report for Rome. This report is for a blog publication. Add emojis and adopt a fun style.\n",
      "MessageRole.AGENT: 🇮🇹🌞 Buongiorno from Rome, the Eternal City! \n",
      "\n",
      "Today’s weather is absolutely bellissimo: mostly sunny skies are lighting up the ancient streets, with just a few clouds doing their best to photobomb your Colosseum selfies. Temperatures are feeling fabulous at 29°C (that’s 84°F for our international amici), but trust us—it feels a spicy 31°C ☀️🔥. It’s the perfect weather for a scoop (or three) of gelato!\n",
      "\n",
      "Humidity is hanging around at 63%—so you might feel a bit like a fresh mozzarella, but hey, that's all part of the Roman holiday experience! A gentle southern breeze at 17 km/h is swirling through, great for keeping your cappuccino cool at the café.\n",
      "\n",
      "There’s absolutely no rain in sight, UV index is low, and visibility is crystal clear. Rome is ready for your wandering! 👒🕶️ Don’t forget to toss a coin in the Trevi Fountain—it just might stay sunny for your whole trip!\n",
      "\n",
      "Stay shady, stay hydrated, and most importantly—enjoy la dolce vita! 🍦🌻\n"
     ]
    }
   ],
   "source": [
    "# Fetch and log all messages\n",
    "messages = project_client.messages.list(thread_id=thread.id, order=ListSortOrder.ASCENDING)\n",
    "for msg in messages:\n",
    "    if msg.text_messages:\n",
    "        last_text = msg.text_messages[-1]\n",
    "        print(f\"{msg.role}: {last_text.text.value}\")"
   ]
  },
  {
   "cell_type": "markdown",
   "id": "6d5f61ac-880e-4394-8e63-6feb8c740eb4",
   "metadata": {},
   "source": [
    "### Post processing"
   ]
  },
  {
   "cell_type": "code",
   "execution_count": null,
   "id": "62ca0e0a-8b50-44b5-819d-a7c202c01314",
   "metadata": {},
   "outputs": [],
   "source": [
    "# List all agents in the project\n",
    "print(\"Listing all agents in the project:\")\n",
    "agents = project_client.list_agents()\n",
    "for agent in agents:\n",
    "    print(f\"Agent ID: {agent.id}, Name: {agent.name}, Model: {agent.model}, Instructions: {agent.instructions}\")"
   ]
  },
  {
   "cell_type": "code",
   "execution_count": null,
   "id": "1728e6ec",
   "metadata": {},
   "outputs": [],
   "source": [
    "# recurse through all agents and delete them adding a test to stop if the agent is not found\n",
    "for agent in project_client.list_agents():\n",
    "    try:\n",
    "        print(f\"Deleting agent ID: {agent.id}, Name: {agent.name}\")\n",
    "        project_client.delete_agent(agent.id)\n",
    "    except Exception as e:\n",
    "        print(f\"Error deleting agent ID: {agent.id}, Name: {agent.name}, Error: {e}\")"
   ]
  },
  {
   "cell_type": "code",
   "execution_count": null,
   "id": "ca45de6e",
   "metadata": {},
   "outputs": [],
   "source": [
    "agents = project_client.list_agents()\n",
    "for agent in agents:\n",
    "    print(f\"Agent ID: {agent.id}, Name: {agent.name}, Model: {agent.model}, Instructions: {agent.instructions}\")"
   ]
  }
 ],
 "metadata": {
  "kernelspec": {
   "display_name": ".venv",
   "language": "python",
   "name": "python3"
  },
  "language_info": {
   "codemirror_mode": {
    "name": "ipython",
    "version": 3
   },
   "file_extension": ".py",
   "mimetype": "text/x-python",
   "name": "python",
   "nbconvert_exporter": "python",
   "pygments_lexer": "ipython3",
   "version": "3.13.5"
  },
  "varInspector": {
   "cols": {
    "lenName": 16,
    "lenType": 16,
    "lenVar": 40
   },
   "kernels_config": {
    "python": {
     "delete_cmd_postfix": "",
     "delete_cmd_prefix": "del ",
     "library": "var_list.py",
     "varRefreshCmd": "print(var_dic_list())"
    },
    "r": {
     "delete_cmd_postfix": ") ",
     "delete_cmd_prefix": "rm(",
     "library": "var_list.r",
     "varRefreshCmd": "cat(var_dic_list()) "
    }
   },
   "types_to_exclude": [
    "module",
    "function",
    "builtin_function_or_method",
    "instance",
    "_Feature"
   ],
   "window_display": false
  }
 },
 "nbformat": 4,
 "nbformat_minor": 5
}
