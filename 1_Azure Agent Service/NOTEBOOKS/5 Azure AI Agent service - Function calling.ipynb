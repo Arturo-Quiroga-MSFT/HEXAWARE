{
 "cells": [
  {
   "cell_type": "markdown",
   "id": "431cc026-279f-4105-8444-f1b93650da0d",
   "metadata": {},
   "source": [
    "# Azure AI Agent service - Function calling\n",
    "\n",
    "<img src=\"https://learn.microsoft.com/en-us/azure/ai-services/agents/media/agent-service-the-glue.png\" width=800>\n",
    "\n",
    "> https://learn.microsoft.com/en-us/azure/ai-services/agents/"
   ]
  },
  {
   "cell_type": "code",
   "execution_count": 1,
   "id": "d75f0533-95e2-44fe-b8ed-d525b4c25b77",
   "metadata": {},
   "outputs": [],
   "source": [
    "#%pip install azure-ai-projects\n",
    "#%pip install yfinance"
   ]
  },
  {
   "cell_type": "code",
   "execution_count": 2,
   "id": "7a3e72d0-7521-438c-928d-5fa293b0f419",
   "metadata": {},
   "outputs": [],
   "source": [
    "import glob\n",
    "import json\n",
    "import ipyplot\n",
    "import matplotlib.pyplot as plt\n",
    "import os\n",
    "import requests\n",
    "import sys\n",
    "import time\n",
    "import yfinance as yf\n",
    "\n",
    "#from azure.ai.projects import AIProjectClient\n",
    "from azure.ai.agents import AgentsClient \n",
    "from azure.identity import DefaultAzureCredential\n",
    "#from azure.ai.projects.models import FunctionTool, ToolSet, CodeInterpreterTool\n",
    "from azure.ai.agents.models import (\n",
    "    FunctionTool,\n",
    "    ListSortOrder,\n",
    "    RequiredFunctionToolCall,\n",
    "    SubmitToolOutputsAction,\n",
    "    ToolOutput,\n",
    ")\n",
    "from datetime import datetime, timezone, timedelta\n",
    "from dotenv import load_dotenv\n",
    "from openai import AzureOpenAI\n",
    "from typing import Any, Callable, Set, Dict, List, Optional\n",
    "from PIL import Image\n",
    "from pathlib import Path\n",
    "\n",
    "from user_functions import user_functions, azuremaps_weather"
   ]
  },
  {
   "cell_type": "code",
   "execution_count": 3,
   "id": "65334de7-4005-401a-89c1-be24f75abbd9",
   "metadata": {},
   "outputs": [
    {
     "data": {
      "text/plain": [
       "True"
      ]
     },
     "execution_count": 3,
     "metadata": {},
     "output_type": "execute_result"
    }
   ],
   "source": [
    "load_dotenv(\"azure.env\")"
   ]
  },
  {
   "cell_type": "markdown",
   "id": "54fa0903-f907-4c7f-a51b-4893d15ff371",
   "metadata": {},
   "source": [
    "## 1. Agent definition - Weather forecasts"
   ]
  },
  {
   "cell_type": "markdown",
   "id": "3ac0a60b-b688-4970-ba23-781f2196b75c",
   "metadata": {},
   "source": [
    "## Connect to AI Foundry Project"
   ]
  },
  {
   "cell_type": "code",
   "execution_count": 4,
   "id": "76c7bbb7-0faa-4500-ba42-7c5b176f6196",
   "metadata": {},
   "outputs": [
    {
     "name": "stdout",
     "output_type": "stream",
     "text": [
      "Using endpoint: https://aq-ai-foundry-sweden-central.services.ai.azure.com/api/projects/firstProject\n"
     ]
    }
   ],
   "source": [
    "endpoint = os.getenv(\"PROJECT_ENDPOINT\")\n",
    "print(f\"Using endpoint: {endpoint}\")\n",
    "credential = DefaultAzureCredential()\n",
    "\n",
    "project_client = AgentsClient(endpoint=endpoint, credential=credential)"
   ]
  },
  {
   "cell_type": "markdown",
   "id": "6bb91b19-444f-4f46-88fa-a76106434ef3",
   "metadata": {},
   "source": [
    "### Testing the Azure Maps Weather function"
   ]
  },
  {
   "cell_type": "markdown",
   "id": "e2934437-5b6f-424c-9fef-95647758d3ec",
   "metadata": {},
   "source": [
    "We will use the Azure Maps service to provide weather information."
   ]
  },
  {
   "cell_type": "code",
   "execution_count": 5,
   "id": "ab94cb4c-311f-429b-8d3d-1c49a73880b7",
   "metadata": {},
   "outputs": [
    {
     "data": {
      "text/plain": [
       "{'weather_data': {'results': [{'dateTime': '2025-06-09T16:22:00-04:00',\n",
       "    'phrase': 'Mostly cloudy',\n",
       "    'iconCode': 6,\n",
       "    'hasPrecipitation': False,\n",
       "    'isDayTime': True,\n",
       "    'temperature': {'value': 17.2, 'unit': 'C', 'unitType': 17},\n",
       "    'realFeelTemperature': {'value': 18.3, 'unit': 'C', 'unitType': 17},\n",
       "    'realFeelTemperatureShade': {'value': 15.6, 'unit': 'C', 'unitType': 17},\n",
       "    'relativeHumidity': 87,\n",
       "    'dewPoint': {'value': 15.0, 'unit': 'C', 'unitType': 17},\n",
       "    'wind': {'direction': {'degrees': 180.0, 'localizedDescription': 'S'},\n",
       "     'speed': {'value': 14.8, 'unit': 'km/h', 'unitType': 7}},\n",
       "    'windGust': {'speed': {'value': 18.3, 'unit': 'km/h', 'unitType': 7}},\n",
       "    'uvIndex': 3,\n",
       "    'uvIndexPhrase': 'Moderate',\n",
       "    'visibility': {'value': 14.5, 'unit': 'km', 'unitType': 6},\n",
       "    'obstructionsToVisibility': '',\n",
       "    'cloudCover': 76,\n",
       "    'ceiling': {'value': 4267.0, 'unit': 'm', 'unitType': 5},\n",
       "    'pressure': {'value': 1005.6, 'unit': 'mb', 'unitType': 14},\n",
       "    'pressureTendency': {'localizedDescription': 'Steady', 'code': 'S'},\n",
       "    'past24HourTemperatureDeparture': {'value': -1.7,\n",
       "     'unit': 'C',\n",
       "     'unitType': 17},\n",
       "    'apparentTemperature': {'value': 18.9, 'unit': 'C', 'unitType': 17},\n",
       "    'windChillTemperature': {'value': 17.2, 'unit': 'C', 'unitType': 17},\n",
       "    'wetBulbTemperature': {'value': 15.9, 'unit': 'C', 'unitType': 17},\n",
       "    'precipitationSummary': {'pastHour': {'value': 0.0,\n",
       "      'unit': 'mm',\n",
       "      'unitType': 3},\n",
       "     'past3Hours': {'value': 0.8, 'unit': 'mm', 'unitType': 3},\n",
       "     'past6Hours': {'value': 3.0, 'unit': 'mm', 'unitType': 3},\n",
       "     'past9Hours': {'value': 3.0, 'unit': 'mm', 'unitType': 3},\n",
       "     'past12Hours': {'value': 3.0, 'unit': 'mm', 'unitType': 3},\n",
       "     'past18Hours': {'value': 3.0, 'unit': 'mm', 'unitType': 3},\n",
       "     'past24Hours': {'value': 4.2, 'unit': 'mm', 'unitType': 3}},\n",
       "    'temperatureSummary': {'past6Hours': {'minimum': {'value': 15.0,\n",
       "       'unit': 'C',\n",
       "       'unitType': 17},\n",
       "      'maximum': {'value': 19.0, 'unit': 'C', 'unitType': 17}},\n",
       "     'past12Hours': {'minimum': {'value': 13.9, 'unit': 'C', 'unitType': 17},\n",
       "      'maximum': {'value': 19.0, 'unit': 'C', 'unitType': 17}},\n",
       "     'past24Hours': {'minimum': {'value': 13.9, 'unit': 'C', 'unitType': 17},\n",
       "      'maximum': {'value': 19.5, 'unit': 'C', 'unitType': 17}}}}]}}"
      ]
     },
     "execution_count": 5,
     "metadata": {},
     "output_type": "execute_result"
    }
   ],
   "source": [
    "weather = azuremaps_weather(\"Toronto\")\n",
    "json.loads(weather)"
   ]
  },
  {
   "cell_type": "markdown",
   "id": "efdd8dbd-3b95-4923-aaae-305c9d8ac991",
   "metadata": {},
   "source": [
    "### Agent"
   ]
  },
  {
   "cell_type": "code",
   "execution_count": 6,
   "id": "61c53506-9f26-4994-92ca-568f1bd8e07d",
   "metadata": {},
   "outputs": [
    {
     "name": "stdout",
     "output_type": "stream",
     "text": [
      "Created agent, ID: asst_FCLBFiOWAlhV0xeDqTfASuWA\n"
     ]
    }
   ],
   "source": [
    "model = \"gpt-4o-mini\"\n",
    "name = \"gpt-4o-mini-weather-agent\"\n",
    "instructions = \"You are a weather bot. Use the provided functions to help answer questions.\"\n",
    "\n",
    "functions = FunctionTool(user_functions)\n",
    "\n",
    "# Create an agent and run user's request with function calls\n",
    "agent = project_client.create_agent(\n",
    "    model=os.environ[\"MODEL_DEPLOYMENT_NAME\"],\n",
    "    name=name,\n",
    "    instructions=instructions,\n",
    "    tools=functions.definitions,\n",
    ")\n",
    "print(f\"Created agent, ID: {agent.id}\")\n",
    "\n"
   ]
  },
  {
   "cell_type": "markdown",
   "id": "a39cf0b6-ba76-4f9c-a2d2-9833d0a569e0",
   "metadata": {},
   "source": [
    "### Tests"
   ]
  },
  {
   "cell_type": "code",
   "execution_count": 7,
   "id": "5e16fc7c-c08b-445a-b78d-fde55c77d125",
   "metadata": {},
   "outputs": [
    {
     "name": "stdout",
     "output_type": "stream",
     "text": [
      "Created thread ID = thread_jlpXaap2fSs4YeZN3AmPNck7\n",
      "Created message ID = msg_aBD5OV1APxPvHVBLqtEVsBos\n"
     ]
    }
   ],
   "source": [
    "prompt = \"Hello, generate a full report for the weather in Toronto today\"\n",
    "\n",
    "# Create thread for communication\n",
    "thread = project_client.threads.create()\n",
    "print(f\"Created thread ID = {thread.id}\")\n",
    "\n",
    "# Create message to thread\n",
    "message = project_client.messages.create(\n",
    "    thread_id=thread.id,\n",
    "    role=\"user\",\n",
    "    content=prompt,\n",
    ")\n",
    "\n",
    "print(f\"Created message ID = {message.id}\")"
   ]
  },
  {
   "cell_type": "code",
   "execution_count": 8,
   "id": "06fe464c-8709-4bfe-b210-c01e4e69bc2a",
   "metadata": {},
   "outputs": [
    {
     "name": "stdout",
     "output_type": "stream",
     "text": [
      "Created run, run ID: run_KBjIH6iR8HFvwamkGSki0KK2\n"
     ]
    }
   ],
   "source": [
    "run = project_client.runs.create(thread_id=thread.id, agent_id=agent.id)\n",
    "print(f\"Created run, run ID: {run.id}\")"
   ]
  },
  {
   "cell_type": "code",
   "execution_count": 9,
   "id": "965b527f",
   "metadata": {},
   "outputs": [
    {
     "name": "stdout",
     "output_type": "stream",
     "text": [
      "Executing tool call: {'id': 'call_pJ99Xih6kAN5bZPzoKjcno3a', 'type': 'function', 'function': {'name': 'azuremaps_weather', 'arguments': '{\"query\":\"Toronto\"}'}}\n",
      "Tool outputs: [{'tool_call_id': 'call_pJ99Xih6kAN5bZPzoKjcno3a', 'output': '{\"weather_data\": {\"results\": [{\"dateTime\": \"2025-06-09T16:22:00-04:00\", \"phrase\": \"Mostly cloudy\", \"iconCode\": 6, \"hasPrecipitation\": false, \"isDayTime\": true, \"temperature\": {\"value\": 17.2, \"unit\": \"C\", \"unitType\": 17}, \"realFeelTemperature\": {\"value\": 18.3, \"unit\": \"C\", \"unitType\": 17}, \"realFeelTemperatureShade\": {\"value\": 15.6, \"unit\": \"C\", \"unitType\": 17}, \"relativeHumidity\": 87, \"dewPoint\": {\"value\": 15.0, \"unit\": \"C\", \"unitType\": 17}, \"wind\": {\"direction\": {\"degrees\": 180.0, \"localizedDescription\": \"S\"}, \"speed\": {\"value\": 14.8, \"unit\": \"km/h\", \"unitType\": 7}}, \"windGust\": {\"speed\": {\"value\": 18.3, \"unit\": \"km/h\", \"unitType\": 7}}, \"uvIndex\": 3, \"uvIndexPhrase\": \"Moderate\", \"visibility\": {\"value\": 14.5, \"unit\": \"km\", \"unitType\": 6}, \"obstructionsToVisibility\": \"\", \"cloudCover\": 76, \"ceiling\": {\"value\": 4267.0, \"unit\": \"m\", \"unitType\": 5}, \"pressure\": {\"value\": 1005.6, \"unit\": \"mb\", \"unitType\": 14}, \"pressureTendency\": {\"localizedDescription\": \"Steady\", \"code\": \"S\"}, \"past24HourTemperatureDeparture\": {\"value\": -1.7, \"unit\": \"C\", \"unitType\": 17}, \"apparentTemperature\": {\"value\": 18.9, \"unit\": \"C\", \"unitType\": 17}, \"windChillTemperature\": {\"value\": 17.2, \"unit\": \"C\", \"unitType\": 17}, \"wetBulbTemperature\": {\"value\": 15.9, \"unit\": \"C\", \"unitType\": 17}, \"precipitationSummary\": {\"pastHour\": {\"value\": 0.0, \"unit\": \"mm\", \"unitType\": 3}, \"past3Hours\": {\"value\": 0.8, \"unit\": \"mm\", \"unitType\": 3}, \"past6Hours\": {\"value\": 3.0, \"unit\": \"mm\", \"unitType\": 3}, \"past9Hours\": {\"value\": 3.0, \"unit\": \"mm\", \"unitType\": 3}, \"past12Hours\": {\"value\": 3.0, \"unit\": \"mm\", \"unitType\": 3}, \"past18Hours\": {\"value\": 3.0, \"unit\": \"mm\", \"unitType\": 3}, \"past24Hours\": {\"value\": 4.2, \"unit\": \"mm\", \"unitType\": 3}}, \"temperatureSummary\": {\"past6Hours\": {\"minimum\": {\"value\": 15.0, \"unit\": \"C\", \"unitType\": 17}, \"maximum\": {\"value\": 19.0, \"unit\": \"C\", \"unitType\": 17}}, \"past12Hours\": {\"minimum\": {\"value\": 13.9, \"unit\": \"C\", \"unitType\": 17}, \"maximum\": {\"value\": 19.0, \"unit\": \"C\", \"unitType\": 17}}, \"past24Hours\": {\"minimum\": {\"value\": 13.9, \"unit\": \"C\", \"unitType\": 17}, \"maximum\": {\"value\": 19.5, \"unit\": \"C\", \"unitType\": 17}}}}]}}'}]\n",
      "Current run status: RunStatus.REQUIRES_ACTION\n",
      "Current run status: RunStatus.IN_PROGRESS\n",
      "Current run status: RunStatus.IN_PROGRESS\n",
      "Current run status: RunStatus.COMPLETED\n",
      "Run completed with status: RunStatus.COMPLETED\n"
     ]
    }
   ],
   "source": [
    "    while run.status in [\"queued\", \"in_progress\", \"requires_action\"]:\n",
    "        time.sleep(1)\n",
    "        run = project_client.runs.get(thread_id=thread.id, run_id=run.id)\n",
    "\n",
    "        if run.status == \"requires_action\" and isinstance(run.required_action, SubmitToolOutputsAction):\n",
    "            tool_calls = run.required_action.submit_tool_outputs.tool_calls\n",
    "            if not tool_calls:\n",
    "                print(\"No tool calls provided - cancelling run\")\n",
    "                agents_client.runs.cancel(thread_id=thread.id, run_id=run.id)\n",
    "                break\n",
    "\n",
    "            tool_outputs = []\n",
    "            for tool_call in tool_calls:\n",
    "                if isinstance(tool_call, RequiredFunctionToolCall):\n",
    "                    try:\n",
    "                        print(f\"Executing tool call: {tool_call}\")\n",
    "                        output = functions.execute(tool_call)\n",
    "                        tool_outputs.append(\n",
    "                            ToolOutput(\n",
    "                                tool_call_id=tool_call.id,\n",
    "                                output=output,\n",
    "                            )\n",
    "                        )\n",
    "                    except Exception as e:\n",
    "                        print(f\"Error executing tool_call {tool_call.id}: {e}\")\n",
    "\n",
    "            print(f\"Tool outputs: {tool_outputs}\")\n",
    "            if tool_outputs:\n",
    "                project_client.runs.submit_tool_outputs(thread_id=thread.id, run_id=run.id, tool_outputs=tool_outputs)\n",
    "\n",
    "        print(f\"Current run status: {run.status}\")\n",
    "\n",
    "    print(f\"Run completed with status: {run.status}\")"
   ]
  },
  {
   "cell_type": "code",
   "execution_count": 10,
   "id": "c77600b7-3007-43f4-bc2a-f9c66df03cdf",
   "metadata": {},
   "outputs": [
    {
     "name": "stdout",
     "output_type": "stream",
     "text": [
      "Start   : 2025-06-09 20:29:39+0000\n",
      "End     : 2025-06-09 20:29:43+0000\n",
      "Elapsed : 0:00:04  (4.00 seconds)\n"
     ]
    },
    {
     "data": {
      "text/plain": [
       "{'prompt_tokens': 1427, 'completion_tokens': 325, 'total_tokens': 1752, 'prompt_token_details': {'cached_tokens': 0}}"
      ]
     },
     "execution_count": 10,
     "metadata": {},
     "output_type": "execute_result"
    }
   ],
   "source": [
    "start   = run.started_at       \n",
    "end     = run.completed_at\n",
    "elapsed = end - start\n",
    "\n",
    "iso_fmt = \"%Y-%m-%d %H:%M:%S%z\"\n",
    "print(f\"Start   : {start.strftime(iso_fmt)}\")\n",
    "print(f\"End     : {end.strftime(iso_fmt)}\")\n",
    "print(f\"Elapsed : {elapsed}  \"\n",
    "      f\"({elapsed.total_seconds():.2f} seconds)\")\n",
    "\n",
    "run.usage"
   ]
  },
  {
   "cell_type": "code",
   "execution_count": 11,
   "id": "ffe4f0e8-cf75-4e64-8382-db0ce6b70177",
   "metadata": {},
   "outputs": [
    {
     "name": "stdout",
     "output_type": "stream",
     "text": [
      "MessageRole.USER: Hello, generate a full report for the weather in Toronto today\n",
      "MessageRole.AGENT: Here is the full weather report for Toronto today:\n",
      "\n",
      "- Condition: Mostly cloudy\n",
      "- Temperature: 17.2°C (feels like 18.3°C; in the shade, 15.6°C)\n",
      "- Humidity: 87%\n",
      "- Dew Point: 15.0°C\n",
      "- Wind: South at 14.8 km/h, gusts up to 18.3 km/h\n",
      "- UV Index: 3 (Moderate)\n",
      "- Visibility: 14.5 km\n",
      "- Cloud Cover: 76%\n",
      "- Ceiling: 4267 meters\n",
      "- Barometric Pressure: 1005.6 mb (steady)\n",
      "- Precipitation:\n",
      "  - Past hour: 0.0 mm\n",
      "  - Past 3 hours: 0.8 mm\n",
      "  - Past 6 hours: 3.0 mm\n",
      "  - Past 24 hours: 4.2 mm\n",
      "- Temperature summary:\n",
      "  - Past 6 hours: Min 15.0°C, Max 19.0°C\n",
      "  - Past 12 hours: Min 13.9°C, Max 19.0°C\n",
      "  - Past 24 hours: Min 13.9°C, Max 19.5°C\n",
      "\n",
      "Today in Toronto is mostly cloudy, with cool conditions and high humidity. There has been light rainfall recently, but currently there is no precipitation. The wind is moderate from the south, and conditions should be comfortable for most outdoor activities, but UV protection is still recommended.\n"
     ]
    }
   ],
   "source": [
    "    # Fetch and log all messages\n",
    "    messages = project_client.messages.list(thread_id=thread.id, order=ListSortOrder.ASCENDING)\n",
    "    for msg in messages:\n",
    "        if msg.text_messages:\n",
    "            last_text = msg.text_messages[-1]\n",
    "            print(f\"{msg.role}: {last_text.text.value}\")"
   ]
  },
  {
   "cell_type": "markdown",
   "id": "ea4df8d0-4680-4bbc-a9c2-6f42214615da",
   "metadata": {},
   "source": [
    "### Other examples"
   ]
  },
  {
   "cell_type": "code",
   "execution_count": 12,
   "id": "b1eff256-208c-440a-ac5d-cbbe54f212d7",
   "metadata": {},
   "outputs": [
    {
     "name": "stdout",
     "output_type": "stream",
     "text": [
      "Created thread ID = thread_Tm7mFvA7BrtMrJpIf4ig8TJp\n",
      "Created message ID = msg_C93Mu2Taa9f0pKmvnppnImeM\n"
     ]
    }
   ],
   "source": [
    "prompt = \"Hello, generate a full report for the weather in Mexico City today. Print the results in English, Spanish and French.\"\n",
    "\n",
    "# Create thread for communication\n",
    "thread = project_client.threads.create()\n",
    "print(f\"Created thread ID = {thread.id}\")\n",
    "\n",
    "# Create message to thread\n",
    "message = project_client.messages.create(\n",
    "    thread_id=thread.id,\n",
    "    role=\"user\",\n",
    "    content=prompt,\n",
    ")\n",
    "\n",
    "print(f\"Created message ID = {message.id}\")"
   ]
  },
  {
   "cell_type": "code",
   "execution_count": 13,
   "id": "79b1f691",
   "metadata": {},
   "outputs": [
    {
     "name": "stdout",
     "output_type": "stream",
     "text": [
      "Created run, run ID: run_IDnExIPHax2LGUnFPx4yH364\n"
     ]
    }
   ],
   "source": [
    "run = project_client.runs.create(thread_id=thread.id, agent_id=agent.id)\n",
    "print(f\"Created run, run ID: {run.id}\")"
   ]
  },
  {
   "cell_type": "code",
   "execution_count": 14,
   "id": "e37a288d",
   "metadata": {},
   "outputs": [
    {
     "name": "stdout",
     "output_type": "stream",
     "text": [
      "Executing tool call: {'id': 'call_wkUTRHDs4PVq2nzQfcoxU3tv', 'type': 'function', 'function': {'name': 'azuremaps_weather', 'arguments': '{\"query\":\"Mexico City\"}'}}\n",
      "Tool outputs: [{'tool_call_id': 'call_wkUTRHDs4PVq2nzQfcoxU3tv', 'output': '{\"weather_data\": {\"results\": [{\"dateTime\": \"2025-06-09T14:20:00-06:00\", \"phrase\": \"Partly sunny\", \"iconCode\": 3, \"hasPrecipitation\": false, \"isDayTime\": true, \"temperature\": {\"value\": 28.9, \"unit\": \"C\", \"unitType\": 17}, \"realFeelTemperature\": {\"value\": 34.0, \"unit\": \"C\", \"unitType\": 17}, \"realFeelTemperatureShade\": {\"value\": 27.9, \"unit\": \"C\", \"unitType\": 17}, \"relativeHumidity\": 21, \"dewPoint\": {\"value\": 5.0, \"unit\": \"C\", \"unitType\": 17}, \"wind\": {\"direction\": {\"degrees\": 0.0, \"localizedDescription\": \"N\"}, \"speed\": {\"value\": 5.6, \"unit\": \"km/h\", \"unitType\": 7}}, \"windGust\": {\"speed\": {\"value\": 5.6, \"unit\": \"km/h\", \"unitType\": 7}}, \"uvIndex\": 8, \"uvIndexPhrase\": \"Very High\", \"visibility\": {\"value\": 16.1, \"unit\": \"km\", \"unitType\": 6}, \"obstructionsToVisibility\": \"\", \"cloudCover\": 35, \"ceiling\": {\"value\": 12192.0, \"unit\": \"m\", \"unitType\": 5}, \"pressure\": {\"value\": 1023.7, \"unit\": \"mb\", \"unitType\": 14}, \"pressureTendency\": {\"localizedDescription\": \"Falling\", \"code\": \"F\"}, \"past24HourTemperatureDeparture\": {\"value\": 1.7, \"unit\": \"C\", \"unitType\": 17}, \"apparentTemperature\": {\"value\": 26.7, \"unit\": \"C\", \"unitType\": 17}, \"windChillTemperature\": {\"value\": 28.9, \"unit\": \"C\", \"unitType\": 17}, \"wetBulbTemperature\": {\"value\": 15.3, \"unit\": \"C\", \"unitType\": 17}, \"precipitationSummary\": {\"pastHour\": {\"value\": 0.0, \"unit\": \"mm\", \"unitType\": 3}, \"past3Hours\": {\"value\": 0.0, \"unit\": \"mm\", \"unitType\": 3}, \"past6Hours\": {\"value\": 0.0, \"unit\": \"mm\", \"unitType\": 3}, \"past9Hours\": {\"value\": 0.0, \"unit\": \"mm\", \"unitType\": 3}, \"past12Hours\": {\"value\": 0.0, \"unit\": \"mm\", \"unitType\": 3}, \"past18Hours\": {\"value\": 0.0, \"unit\": \"mm\", \"unitType\": 3}, \"past24Hours\": {\"value\": 0.0, \"unit\": \"mm\", \"unitType\": 3}}, \"temperatureSummary\": {\"past6Hours\": {\"minimum\": {\"value\": 20.0, \"unit\": \"C\", \"unitType\": 17}, \"maximum\": {\"value\": 28.9, \"unit\": \"C\", \"unitType\": 17}}, \"past12Hours\": {\"minimum\": {\"value\": 14.9, \"unit\": \"C\", \"unitType\": 17}, \"maximum\": {\"value\": 28.9, \"unit\": \"C\", \"unitType\": 17}}, \"past24Hours\": {\"minimum\": {\"value\": 14.9, \"unit\": \"C\", \"unitType\": 17}, \"maximum\": {\"value\": 28.9, \"unit\": \"C\", \"unitType\": 17}}}}]}}'}]\n",
      "Current run status: RunStatus.REQUIRES_ACTION\n",
      "Current run status: RunStatus.IN_PROGRESS\n",
      "Current run status: RunStatus.IN_PROGRESS\n",
      "Current run status: RunStatus.IN_PROGRESS\n",
      "Current run status: RunStatus.COMPLETED\n",
      "Run completed with status: RunStatus.COMPLETED\n"
     ]
    }
   ],
   "source": [
    "    while run.status in [\"queued\", \"in_progress\", \"requires_action\"]:\n",
    "        time.sleep(1)\n",
    "        run = project_client.runs.get(thread_id=thread.id, run_id=run.id)\n",
    "\n",
    "        if run.status == \"requires_action\" and isinstance(run.required_action, SubmitToolOutputsAction):\n",
    "            tool_calls = run.required_action.submit_tool_outputs.tool_calls\n",
    "            if not tool_calls:\n",
    "                print(\"No tool calls provided - cancelling run\")\n",
    "                agents_client.runs.cancel(thread_id=thread.id, run_id=run.id)\n",
    "                break\n",
    "\n",
    "            tool_outputs = []\n",
    "            for tool_call in tool_calls:\n",
    "                if isinstance(tool_call, RequiredFunctionToolCall):\n",
    "                    try:\n",
    "                        print(f\"Executing tool call: {tool_call}\")\n",
    "                        output = functions.execute(tool_call)\n",
    "                        tool_outputs.append(\n",
    "                            ToolOutput(\n",
    "                                tool_call_id=tool_call.id,\n",
    "                                output=output,\n",
    "                            )\n",
    "                        )\n",
    "                    except Exception as e:\n",
    "                        print(f\"Error executing tool_call {tool_call.id}: {e}\")\n",
    "\n",
    "            print(f\"Tool outputs: {tool_outputs}\")\n",
    "            if tool_outputs:\n",
    "                project_client.runs.submit_tool_outputs(thread_id=thread.id, run_id=run.id, tool_outputs=tool_outputs)\n",
    "\n",
    "        print(f\"Current run status: {run.status}\")\n",
    "\n",
    "    print(f\"Run completed with status: {run.status}\")"
   ]
  },
  {
   "cell_type": "code",
   "execution_count": 15,
   "id": "655a6627",
   "metadata": {},
   "outputs": [
    {
     "name": "stdout",
     "output_type": "stream",
     "text": [
      "Start   : 2025-06-09 20:29:49+0000\n",
      "End     : 2025-06-09 20:29:54+0000\n",
      "Elapsed : 0:00:05  (5.00 seconds)\n"
     ]
    },
    {
     "data": {
      "text/plain": [
       "{'prompt_tokens': 1453, 'completion_tokens': 595, 'total_tokens': 2048, 'prompt_token_details': {'cached_tokens': 0}}"
      ]
     },
     "execution_count": 15,
     "metadata": {},
     "output_type": "execute_result"
    }
   ],
   "source": [
    "start   = run.started_at       \n",
    "end     = run.completed_at\n",
    "elapsed = end - start\n",
    "\n",
    "iso_fmt = \"%Y-%m-%d %H:%M:%S%z\"\n",
    "print(f\"Start   : {start.strftime(iso_fmt)}\")\n",
    "print(f\"End     : {end.strftime(iso_fmt)}\")\n",
    "print(f\"Elapsed : {elapsed}  \"\n",
    "      f\"({elapsed.total_seconds():.2f} seconds)\")\n",
    "\n",
    "run.usage"
   ]
  },
  {
   "cell_type": "code",
   "execution_count": 16,
   "id": "a29c6922",
   "metadata": {},
   "outputs": [
    {
     "name": "stdout",
     "output_type": "stream",
     "text": [
      "MessageRole.USER: Hello, generate a full report for the weather in Mexico City today. Print the results in English, Spanish and French.\n",
      "MessageRole.AGENT: English:\n",
      "Today in Mexico City, the weather is partly sunny. The current temperature is 28.9°C, with a \"feels like\" (real feel) temperature of 34.0°C. In the shade, it feels like 27.9°C. The relative humidity is low at 21%, and the dew point is 5.0°C. Winds are coming from the north at 5.6 km/h, with no significant gusts. There is no precipitation today, and visibility is excellent at 16.1 km. The UV index is very high at 8—take protection from the sun. The sky is 35% covered with clouds, and the atmospheric pressure is 1023.7 mb, currently falling. Over the last 24 hours, the temperature ranged between 14.9°C (minimum) and 28.9°C (maximum).\n",
      "\n",
      "Español:\n",
      "Hoy en la Ciudad de México, el clima está parcialmente soleado. La temperatura actual es de 28.9°C, con una sensación térmica de 34.0°C. A la sombra, la sensación es de 27.9°C. La humedad relativa es baja, 21%, y el punto de rocío es de 5.0°C. El viento sopla desde el norte a 5.6 km/h, sin ráfagas significativas. No hay precipitaciones hoy y la visibilidad es excelente, de 16.1 km. El índice UV es muy alto: 8—tome precauciones con el sol. El cielo está cubierto en un 35% y la presión atmosférica es de 1023.7 mb, en descenso. En las últimas 24 horas, la temperatura varió entre 14.9°C (mínima) y 28.9°C (máxima).\n",
      "\n",
      "Français :\n",
      "Aujourd'hui à Mexico, le temps est partiellement ensoleillé. La température actuelle est de 28,9°C, avec une température ressentie de 34,0°C. À l’ombre, la sensation est de 27,9°C. L’humidité relative est basse, à 21%, et le point de rosée est à 5,0°C. Le vent vient du nord à 5,6 km/h, sans rafales notables. Il n’y a pas de précipitations aujourd’hui et la visibilité est excellente, à 16,1 km. L’indice UV est très élevé, à 8—protégez-vous du soleil. Le ciel est couvert à 35% et la pression atmosphérique est de 1023,7 mb, en baisse. Durant les dernières 24 heures, la température a oscillé entre 14,9°C (minimum) et 28,9°C (maximum).\n"
     ]
    }
   ],
   "source": [
    "    # Fetch and log all messages\n",
    "    messages = project_client.messages.list(thread_id=thread.id, order=ListSortOrder.ASCENDING)\n",
    "    for msg in messages:\n",
    "        if msg.text_messages:\n",
    "            last_text = msg.text_messages[-1]\n",
    "            print(f\"{msg.role}: {last_text.text.value}\")"
   ]
  },
  {
   "cell_type": "code",
   "execution_count": 17,
   "id": "0d2509cb-2ebc-4f4e-9cc9-ffc8c75a3da7",
   "metadata": {},
   "outputs": [
    {
     "name": "stdout",
     "output_type": "stream",
     "text": [
      "Created thread ID = thread_Q4E6PZ6cGZtxF4w9E6U1YwDu\n",
      "Created message ID = msg_tP0PyYat52B4n5VCbekM3huc\n"
     ]
    }
   ],
   "source": [
    "prompt = \"Hello, print the UV informations for Oakville, Ontario today. Print the date as well of the weather data.\"\n",
    "\n",
    "# Create thread for communication\n",
    "thread = project_client.threads.create()\n",
    "print(f\"Created thread ID = {thread.id}\")\n",
    "\n",
    "# Create message to thread\n",
    "message = project_client.messages.create(\n",
    "    thread_id=thread.id,\n",
    "    role=\"user\",\n",
    "    content=prompt,\n",
    ")\n",
    "\n",
    "print(f\"Created message ID = {message.id}\")"
   ]
  },
  {
   "cell_type": "code",
   "execution_count": 18,
   "id": "67a1a562",
   "metadata": {},
   "outputs": [
    {
     "name": "stdout",
     "output_type": "stream",
     "text": [
      "Created run, run ID: run_4RaKyxFRE8aZM2uRgqv5K2gQ\n"
     ]
    }
   ],
   "source": [
    "run = project_client.runs.create(thread_id=thread.id, agent_id=agent.id)\n",
    "print(f\"Created run, run ID: {run.id}\")"
   ]
  },
  {
   "cell_type": "code",
   "execution_count": 19,
   "id": "01ce339f",
   "metadata": {},
   "outputs": [
    {
     "name": "stdout",
     "output_type": "stream",
     "text": [
      "Executing tool call: {'id': 'call_yyPLlf2Lz8AUka299UCi85G1', 'type': 'function', 'function': {'name': 'azuremaps_weather', 'arguments': '{\"query\":\"Oakville, Ontario\"}'}}\n",
      "Tool outputs: [{'tool_call_id': 'call_yyPLlf2Lz8AUka299UCi85G1', 'output': '{\"weather_data\": {\"results\": [{\"dateTime\": \"2025-06-09T16:22:00-04:00\", \"phrase\": \"Mostly cloudy\", \"iconCode\": 6, \"hasPrecipitation\": false, \"isDayTime\": true, \"temperature\": {\"value\": 19.4, \"unit\": \"C\", \"unitType\": 17}, \"realFeelTemperature\": {\"value\": 21.1, \"unit\": \"C\", \"unitType\": 17}, \"realFeelTemperatureShade\": {\"value\": 18.3, \"unit\": \"C\", \"unitType\": 17}, \"relativeHumidity\": 89, \"dewPoint\": {\"value\": 17.6, \"unit\": \"C\", \"unitType\": 17}, \"wind\": {\"direction\": {\"degrees\": 203.0, \"localizedDescription\": \"SSW\"}, \"speed\": {\"value\": 9.0, \"unit\": \"km/h\", \"unitType\": 7}}, \"windGust\": {\"speed\": {\"value\": 18.8, \"unit\": \"km/h\", \"unitType\": 7}}, \"uvIndex\": 3, \"uvIndexPhrase\": \"Moderate\", \"visibility\": {\"value\": 20.9, \"unit\": \"km\", \"unitType\": 6}, \"obstructionsToVisibility\": \"\", \"cloudCover\": 76, \"ceiling\": {\"value\": 6096.0, \"unit\": \"m\", \"unitType\": 5}, \"pressure\": {\"value\": 1006.2, \"unit\": \"mb\", \"unitType\": 14}, \"pressureTendency\": {\"localizedDescription\": \"Steady\", \"code\": \"S\"}, \"past24HourTemperatureDeparture\": {\"value\": 0.5, \"unit\": \"C\", \"unitType\": 17}, \"apparentTemperature\": {\"value\": 20.0, \"unit\": \"C\", \"unitType\": 17}, \"windChillTemperature\": {\"value\": 19.4, \"unit\": \"C\", \"unitType\": 17}, \"wetBulbTemperature\": {\"value\": 18.3, \"unit\": \"C\", \"unitType\": 17}, \"precipitationSummary\": {\"pastHour\": {\"value\": 0.0, \"unit\": \"mm\", \"unitType\": 3}, \"past3Hours\": {\"value\": 0.2, \"unit\": \"mm\", \"unitType\": 3}, \"past6Hours\": {\"value\": 2.7, \"unit\": \"mm\", \"unitType\": 3}, \"past9Hours\": {\"value\": 2.7, \"unit\": \"mm\", \"unitType\": 3}, \"past12Hours\": {\"value\": 2.7, \"unit\": \"mm\", \"unitType\": 3}, \"past18Hours\": {\"value\": 2.7, \"unit\": \"mm\", \"unitType\": 3}, \"past24Hours\": {\"value\": 3.0, \"unit\": \"mm\", \"unitType\": 3}}, \"temperatureSummary\": {\"past6Hours\": {\"minimum\": {\"value\": 16.5, \"unit\": \"C\", \"unitType\": 17}, \"maximum\": {\"value\": 20.0, \"unit\": \"C\", \"unitType\": 17}}, \"past12Hours\": {\"minimum\": {\"value\": 13.5, \"unit\": \"C\", \"unitType\": 17}, \"maximum\": {\"value\": 20.0, \"unit\": \"C\", \"unitType\": 17}}, \"past24Hours\": {\"minimum\": {\"value\": 13.5, \"unit\": \"C\", \"unitType\": 17}, \"maximum\": {\"value\": 20.0, \"unit\": \"C\", \"unitType\": 17}}}}]}}'}]\n",
      "Current run status: RunStatus.REQUIRES_ACTION\n",
      "Current run status: RunStatus.COMPLETED\n",
      "Run completed with status: RunStatus.COMPLETED\n"
     ]
    }
   ],
   "source": [
    "    while run.status in [\"queued\", \"in_progress\", \"requires_action\"]:\n",
    "        time.sleep(1)\n",
    "        run = project_client.runs.get(thread_id=thread.id, run_id=run.id)\n",
    "\n",
    "        if run.status == \"requires_action\" and isinstance(run.required_action, SubmitToolOutputsAction):\n",
    "            tool_calls = run.required_action.submit_tool_outputs.tool_calls\n",
    "            if not tool_calls:\n",
    "                print(\"No tool calls provided - cancelling run\")\n",
    "                agents_client.runs.cancel(thread_id=thread.id, run_id=run.id)\n",
    "                break\n",
    "\n",
    "            tool_outputs = []\n",
    "            for tool_call in tool_calls:\n",
    "                if isinstance(tool_call, RequiredFunctionToolCall):\n",
    "                    try:\n",
    "                        print(f\"Executing tool call: {tool_call}\")\n",
    "                        output = functions.execute(tool_call)\n",
    "                        tool_outputs.append(\n",
    "                            ToolOutput(\n",
    "                                tool_call_id=tool_call.id,\n",
    "                                output=output,\n",
    "                            )\n",
    "                        )\n",
    "                    except Exception as e:\n",
    "                        print(f\"Error executing tool_call {tool_call.id}: {e}\")\n",
    "\n",
    "            print(f\"Tool outputs: {tool_outputs}\")\n",
    "            if tool_outputs:\n",
    "                project_client.runs.submit_tool_outputs(thread_id=thread.id, run_id=run.id, tool_outputs=tool_outputs)\n",
    "\n",
    "        print(f\"Current run status: {run.status}\")\n",
    "\n",
    "    print(f\"Run completed with status: {run.status}\")"
   ]
  },
  {
   "cell_type": "code",
   "execution_count": 20,
   "id": "8e76fc44",
   "metadata": {},
   "outputs": [
    {
     "name": "stdout",
     "output_type": "stream",
     "text": [
      "Start   : 2025-06-09 20:30:00+0000\n",
      "End     : 2025-06-09 20:30:01+0000\n",
      "Elapsed : 0:00:01  (1.00 seconds)\n"
     ]
    },
    {
     "data": {
      "text/plain": [
       "{'prompt_tokens': 1453, 'completion_tokens': 69, 'total_tokens': 1522, 'prompt_token_details': {'cached_tokens': 0}}"
      ]
     },
     "execution_count": 20,
     "metadata": {},
     "output_type": "execute_result"
    }
   ],
   "source": [
    "start   = run.started_at       \n",
    "end     = run.completed_at\n",
    "elapsed = end - start\n",
    "\n",
    "iso_fmt = \"%Y-%m-%d %H:%M:%S%z\"\n",
    "print(f\"Start   : {start.strftime(iso_fmt)}\")\n",
    "print(f\"End     : {end.strftime(iso_fmt)}\")\n",
    "print(f\"Elapsed : {elapsed}  \"\n",
    "      f\"({elapsed.total_seconds():.2f} seconds)\")\n",
    "\n",
    "run.usage"
   ]
  },
  {
   "cell_type": "code",
   "execution_count": 21,
   "id": "d8a9d6d5",
   "metadata": {},
   "outputs": [
    {
     "name": "stdout",
     "output_type": "stream",
     "text": [
      "MessageRole.USER: Hello, print the UV informations for Oakville, Ontario today. Print the date as well of the weather data.\n",
      "MessageRole.AGENT: The UV information for Oakville, Ontario today is as follows:\n",
      "\n",
      "- Date of weather data: 2025-06-09\n",
      "- UV Index: 3 (Moderate)\n",
      "\n",
      "If you need additional weather details, let me know!\n"
     ]
    }
   ],
   "source": [
    "    # Fetch and log all messages\n",
    "    messages = project_client.messages.list(thread_id=thread.id, order=ListSortOrder.ASCENDING)\n",
    "    for msg in messages:\n",
    "        if msg.text_messages:\n",
    "            last_text = msg.text_messages[-1]\n",
    "            print(f\"{msg.role}: {last_text.text.value}\")"
   ]
  },
  {
   "cell_type": "code",
   "execution_count": 22,
   "id": "b918f5f9-07b3-47e1-a259-79093f10ed7e",
   "metadata": {},
   "outputs": [
    {
     "name": "stdout",
     "output_type": "stream",
     "text": [
      "Created thread ID = thread_yrvl5cAxHWREWtnkT0M8v64f\n",
      "Created message ID = msg_mTU1Pq47wfqs0dKPn7A9qoMO\n"
     ]
    }
   ],
   "source": [
    "prompt = \"Generate a weather report for Rome. This report is for a blog publication. Add emojis and adopt a fun style.\"\n",
    "\n",
    "# Create thread for communication\n",
    "thread = project_client.threads.create()\n",
    "print(f\"Created thread ID = {thread.id}\")\n",
    "\n",
    "# Create message to thread\n",
    "message = project_client.messages.create(\n",
    "    thread_id=thread.id,\n",
    "    role=\"user\",\n",
    "    content=prompt,\n",
    ")\n",
    "\n",
    "print(f\"Created message ID = {message.id}\")"
   ]
  },
  {
   "cell_type": "code",
   "execution_count": 23,
   "id": "5279d9b6",
   "metadata": {},
   "outputs": [
    {
     "name": "stdout",
     "output_type": "stream",
     "text": [
      "Created run, run ID: run_kC1kGT8zagkPXqFdchuzRZTp\n"
     ]
    }
   ],
   "source": [
    "run = project_client.runs.create(thread_id=thread.id, agent_id=agent.id)\n",
    "print(f\"Created run, run ID: {run.id}\")"
   ]
  },
  {
   "cell_type": "code",
   "execution_count": 24,
   "id": "f567bedc",
   "metadata": {},
   "outputs": [
    {
     "name": "stdout",
     "output_type": "stream",
     "text": [
      "Executing tool call: {'id': 'call_pFlxXQanw2j67eyfN1W3VJ1j', 'type': 'function', 'function': {'name': 'azuremaps_weather', 'arguments': '{\"query\":\"Rome\"}'}}\n",
      "Tool outputs: [{'tool_call_id': 'call_pFlxXQanw2j67eyfN1W3VJ1j', 'output': '{\"weather_data\": {\"results\": [{\"dateTime\": \"2025-06-09T22:22:00+02:00\", \"phrase\": \"Mostly clear\", \"iconCode\": 34, \"hasPrecipitation\": false, \"isDayTime\": false, \"temperature\": {\"value\": 22.9, \"unit\": \"C\", \"unitType\": 17}, \"realFeelTemperature\": {\"value\": 23.7, \"unit\": \"C\", \"unitType\": 17}, \"realFeelTemperatureShade\": {\"value\": 23.7, \"unit\": \"C\", \"unitType\": 17}, \"relativeHumidity\": 82, \"dewPoint\": {\"value\": 19.7, \"unit\": \"C\", \"unitType\": 17}, \"wind\": {\"direction\": {\"degrees\": 248.0, \"localizedDescription\": \"WSW\"}, \"speed\": {\"value\": 7.5, \"unit\": \"km/h\", \"unitType\": 7}}, \"windGust\": {\"speed\": {\"value\": 17.3, \"unit\": \"km/h\", \"unitType\": 7}}, \"uvIndex\": 0, \"uvIndexPhrase\": \"Low\", \"visibility\": {\"value\": 24.1, \"unit\": \"km\", \"unitType\": 6}, \"obstructionsToVisibility\": \"\", \"cloudCover\": 22, \"ceiling\": {\"value\": 12192.0, \"unit\": \"m\", \"unitType\": 5}, \"pressure\": {\"value\": 1017.3, \"unit\": \"mb\", \"unitType\": 14}, \"pressureTendency\": {\"localizedDescription\": \"Rising\", \"code\": \"R\"}, \"past24HourTemperatureDeparture\": {\"value\": 0.4, \"unit\": \"C\", \"unitType\": 17}, \"apparentTemperature\": {\"value\": 23.3, \"unit\": \"C\", \"unitType\": 17}, \"windChillTemperature\": {\"value\": 22.8, \"unit\": \"C\", \"unitType\": 17}, \"wetBulbTemperature\": {\"value\": 20.8, \"unit\": \"C\", \"unitType\": 17}, \"precipitationSummary\": {\"pastHour\": {\"value\": 0.0, \"unit\": \"mm\", \"unitType\": 3}, \"past3Hours\": {\"value\": 0.0, \"unit\": \"mm\", \"unitType\": 3}, \"past6Hours\": {\"value\": 0.0, \"unit\": \"mm\", \"unitType\": 3}, \"past9Hours\": {\"value\": 0.0, \"unit\": \"mm\", \"unitType\": 3}, \"past12Hours\": {\"value\": 0.0, \"unit\": \"mm\", \"unitType\": 3}, \"past18Hours\": {\"value\": 0.0, \"unit\": \"mm\", \"unitType\": 3}, \"past24Hours\": {\"value\": 0.0, \"unit\": \"mm\", \"unitType\": 3}}, \"temperatureSummary\": {\"past6Hours\": {\"minimum\": {\"value\": 22.4, \"unit\": \"C\", \"unitType\": 17}, \"maximum\": {\"value\": 28.7, \"unit\": \"C\", \"unitType\": 17}}, \"past12Hours\": {\"minimum\": {\"value\": 22.4, \"unit\": \"C\", \"unitType\": 17}, \"maximum\": {\"value\": 30.6, \"unit\": \"C\", \"unitType\": 17}}, \"past24Hours\": {\"minimum\": {\"value\": 19.5, \"unit\": \"C\", \"unitType\": 17}, \"maximum\": {\"value\": 30.6, \"unit\": \"C\", \"unitType\": 17}}}}]}}'}]\n",
      "Current run status: RunStatus.REQUIRES_ACTION\n",
      "Current run status: RunStatus.IN_PROGRESS\n",
      "Current run status: RunStatus.IN_PROGRESS\n",
      "Current run status: RunStatus.COMPLETED\n",
      "Run completed with status: RunStatus.COMPLETED\n"
     ]
    }
   ],
   "source": [
    "    while run.status in [\"queued\", \"in_progress\", \"requires_action\"]:\n",
    "        time.sleep(1)\n",
    "        run = project_client.runs.get(thread_id=thread.id, run_id=run.id)\n",
    "\n",
    "        if run.status == \"requires_action\" and isinstance(run.required_action, SubmitToolOutputsAction):\n",
    "            tool_calls = run.required_action.submit_tool_outputs.tool_calls\n",
    "            if not tool_calls:\n",
    "                print(\"No tool calls provided - cancelling run\")\n",
    "                agents_client.runs.cancel(thread_id=thread.id, run_id=run.id)\n",
    "                break\n",
    "\n",
    "            tool_outputs = []\n",
    "            for tool_call in tool_calls:\n",
    "                if isinstance(tool_call, RequiredFunctionToolCall):\n",
    "                    try:\n",
    "                        print(f\"Executing tool call: {tool_call}\")\n",
    "                        output = functions.execute(tool_call)\n",
    "                        tool_outputs.append(\n",
    "                            ToolOutput(\n",
    "                                tool_call_id=tool_call.id,\n",
    "                                output=output,\n",
    "                            )\n",
    "                        )\n",
    "                    except Exception as e:\n",
    "                        print(f\"Error executing tool_call {tool_call.id}: {e}\")\n",
    "\n",
    "            print(f\"Tool outputs: {tool_outputs}\")\n",
    "            if tool_outputs:\n",
    "                project_client.runs.submit_tool_outputs(thread_id=thread.id, run_id=run.id, tool_outputs=tool_outputs)\n",
    "\n",
    "        print(f\"Current run status: {run.status}\")\n",
    "\n",
    "    print(f\"Run completed with status: {run.status}\")"
   ]
  },
  {
   "cell_type": "code",
   "execution_count": 25,
   "id": "4072cd69",
   "metadata": {},
   "outputs": [
    {
     "name": "stdout",
     "output_type": "stream",
     "text": [
      "Start   : 2025-06-09 20:30:08+0000\n",
      "End     : 2025-06-09 20:30:12+0000\n",
      "Elapsed : 0:00:04  (4.00 seconds)\n"
     ]
    },
    {
     "data": {
      "text/plain": [
       "{'prompt_tokens': 1449, 'completion_tokens': 226, 'total_tokens': 1675, 'prompt_token_details': {'cached_tokens': 0}}"
      ]
     },
     "execution_count": 25,
     "metadata": {},
     "output_type": "execute_result"
    }
   ],
   "source": [
    "start   = run.started_at       \n",
    "end     = run.completed_at\n",
    "elapsed = end - start\n",
    "\n",
    "iso_fmt = \"%Y-%m-%d %H:%M:%S%z\"\n",
    "print(f\"Start   : {start.strftime(iso_fmt)}\")\n",
    "print(f\"End     : {end.strftime(iso_fmt)}\")\n",
    "print(f\"Elapsed : {elapsed}  \"\n",
    "      f\"({elapsed.total_seconds():.2f} seconds)\")\n",
    "\n",
    "run.usage"
   ]
  },
  {
   "cell_type": "code",
   "execution_count": 26,
   "id": "9dea493a",
   "metadata": {},
   "outputs": [
    {
     "name": "stdout",
     "output_type": "stream",
     "text": [
      "MessageRole.USER: Generate a weather report for Rome. This report is for a blog publication. Add emojis and adopt a fun style.\n",
      "MessageRole.AGENT: 🌟 Ciao, weather lovers! Here’s your latest scoop from the Eternal City:\n",
      "\n",
      "Tonight in Rome, the sky is mostly clear—perfect for stargazing while enjoying a late-night gelato. 🍦✨ Temperatures are hanging out at a comfy 23°C (that’s 73°F for my international amici), with just a hint of a cool breeze from the west-southwest at about 7 km/h.🌀\n",
      "\n",
      "Humidity is cozy at 82%, and there’s absolutely no precipitation in sight. That’s right: leave your umbrellas at home and grab your sunglasses (for tomorrow, at least)! 🕶️\n",
      "\n",
      "The air pressure is rising, which usually means more stable, beautiful weather is on its way. If you’re out exploring the Colosseum or tossing a coin in the Trevi Fountain, expect great visibility and a gentle Roman night.\n",
      "\n",
      "That’s the Roman weather wrap for today! Arrivederci—may your evenings be as magical as Rome itself! 🇮🇹🌙\n"
     ]
    }
   ],
   "source": [
    "    # Fetch and log all messages\n",
    "    messages = project_client.messages.list(thread_id=thread.id, order=ListSortOrder.ASCENDING)\n",
    "    for msg in messages:\n",
    "        if msg.text_messages:\n",
    "            last_text = msg.text_messages[-1]\n",
    "            print(f\"{msg.role}: {last_text.text.value}\")"
   ]
  },
  {
   "cell_type": "markdown",
   "id": "6d5f61ac-880e-4394-8e63-6feb8c740eb4",
   "metadata": {},
   "source": [
    "### Post processing"
   ]
  },
  {
   "cell_type": "code",
   "execution_count": 27,
   "id": "62ca0e0a-8b50-44b5-819d-a7c202c01314",
   "metadata": {},
   "outputs": [
    {
     "name": "stdout",
     "output_type": "stream",
     "text": [
      "Listing all agents in the project:\n",
      "Agent ID: asst_FCLBFiOWAlhV0xeDqTfASuWA, Name: gpt-4o-mini-weather-agent, Model: gpt-4.1, Instructions: You are a weather bot. Use the provided functions to help answer questions.\n",
      "Agent ID: asst_X14buc7bU593KebYPPXug1Zk, Name: my-agent, Model: gpt-4.1, Instructions: You are a helpful agent\n",
      "Agent ID: asst_KsSaVO8dGHb4pZgoKfQXJkmB, Name: my-agent, Model: gpt-4.1, Instructions: You are a helpful agent\n",
      "Agent ID: asst_P9XmgZKtmeioNY3Rka4GZSRz, Name: my-agent, Model: gpt-4.1, Instructions: You are a helpful agent\n",
      "Agent ID: asst_wiMeqv85Na2yXl0bNSvYZe5T, Name: my-agent, Model: gpt-4.1, Instructions: You are a helpful agent\n",
      "Agent ID: asst_8asvuTP2VKWlLxPBv8H9lOEd, Name: my-agent, Model: gpt-4.1, Instructions: You are a helpful agent\n",
      "Agent ID: asst_S1ZolN6lsiQTypNAnbBii2qg, Name: my-agent, Model: gpt-4.1, Instructions: You are a helpful agent\n",
      "Agent ID: asst_6R9CTPTJrQcpZo06oNldkvn4, Name: my-agent, Model: gpt-4.1, Instructions: You are a helpful agent\n",
      "Agent ID: asst_N2x3Nw5zEW9KfOOmwpy1I1NJ, Name: BingGroundingAgent, Model: gpt-4.1-mini, Instructions: \n",
      "Agent ID: asst_VJW8zKq6w2uoICnkOoCNguvF, Name: my-agent, Model: gpt-4.1, Instructions: You are a helpful agent\n"
     ]
    }
   ],
   "source": [
    "# List all agents in the project\n",
    "print(\"Listing all agents in the project:\")\n",
    "agents = project_client.list_agents()\n",
    "for agent in agents:\n",
    "    print(f\"Agent ID: {agent.id}, Name: {agent.name}, Model: {agent.model}, Instructions: {agent.instructions}\")"
   ]
  },
  {
   "cell_type": "code",
   "execution_count": 29,
   "id": "1728e6ec",
   "metadata": {},
   "outputs": [],
   "source": [
    "# recurse through all agents and delete them adding a test to stop if the agent is not found\n",
    "for agent in project_client.list_agents():\n",
    "    try:\n",
    "        print(f\"Deleting agent ID: {agent.id}, Name: {agent.name}\")\n",
    "        project_client.delete_agent(agent.id)\n",
    "    except Exception as e:\n",
    "        print(f\"Error deleting agent ID: {agent.id}, Name: {agent.name}, Error: {e}\")"
   ]
  },
  {
   "cell_type": "code",
   "execution_count": 30,
   "id": "ca45de6e",
   "metadata": {},
   "outputs": [],
   "source": [
    "agents = project_client.list_agents()\n",
    "for agent in agents:\n",
    "    print(f\"Agent ID: {agent.id}, Name: {agent.name}, Model: {agent.model}, Instructions: {agent.instructions}\")"
   ]
  }
 ],
 "metadata": {
  "kernelspec": {
   "display_name": ".venv",
   "language": "python",
   "name": "python3"
  },
  "language_info": {
   "codemirror_mode": {
    "name": "ipython",
    "version": 3
   },
   "file_extension": ".py",
   "mimetype": "text/x-python",
   "name": "python",
   "nbconvert_exporter": "python",
   "pygments_lexer": "ipython3",
   "version": "3.13.4"
  },
  "varInspector": {
   "cols": {
    "lenName": 16,
    "lenType": 16,
    "lenVar": 40
   },
   "kernels_config": {
    "python": {
     "delete_cmd_postfix": "",
     "delete_cmd_prefix": "del ",
     "library": "var_list.py",
     "varRefreshCmd": "print(var_dic_list())"
    },
    "r": {
     "delete_cmd_postfix": ") ",
     "delete_cmd_prefix": "rm(",
     "library": "var_list.r",
     "varRefreshCmd": "cat(var_dic_list()) "
    }
   },
   "types_to_exclude": [
    "module",
    "function",
    "builtin_function_or_method",
    "instance",
    "_Feature"
   ],
   "window_display": false
  }
 },
 "nbformat": 4,
 "nbformat_minor": 5
}
