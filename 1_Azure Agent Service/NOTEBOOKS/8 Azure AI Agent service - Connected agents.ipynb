{
 "cells": [
  {
   "cell_type": "markdown",
   "id": "c2f3bc98-b67f-4fc8-a6ce-629ded97591d",
   "metadata": {},
   "source": [
    "# Azure AI Agent service - Connected agents\n",
    "\n",
    "<img src=\"https://learn.microsoft.com/en-us/azure/ai-services/agents/media/agent-service-the-glue.png\" width=800>\n",
    "\n",
    "> https://learn.microsoft.com/en-us/azure/ai-services/agents/"
   ]
  },
  {
   "cell_type": "code",
   "execution_count": 1,
   "id": "f89d4f53-d50f-421c-a342-b7e4f92a72cc",
   "metadata": {},
   "outputs": [],
   "source": [
    "import datetime\n",
    "import os\n",
    "import sys\n",
    "import time\n",
    "\n",
    "from azure.ai.agents import AgentsClient\n",
    "from azure.ai.agents.models import BingGroundingTool, ConnectedAgentTool, FilePurpose, FileSearchTool, ListSortOrder, MessageRole\n",
    "from azure.identity import DefaultAzureCredential\n",
    "from dotenv import load_dotenv"
   ]
  },
  {
   "cell_type": "code",
   "execution_count": 2,
   "id": "cb1a67c0-460d-499b-9630-3c8b99cf741e",
   "metadata": {},
   "outputs": [
    {
     "name": "stdout",
     "output_type": "stream",
     "text": [
      "Today is 19-Jun-2025 11:05:53\n"
     ]
    }
   ],
   "source": [
    "print(f\"Today is {datetime.datetime.today().strftime('%d-%b-%Y %H:%M:%S')}\")"
   ]
  },
  {
   "cell_type": "markdown",
   "id": "07d4161e-8ec1-4cf8-81a0-9e2628adc203",
   "metadata": {},
   "source": [
    "## Settings"
   ]
  },
  {
   "cell_type": "code",
   "execution_count": 3,
   "id": "0bce3e7a-920d-417a-a8d9-f89c697da841",
   "metadata": {},
   "outputs": [
    {
     "data": {
      "text/plain": [
       "True"
      ]
     },
     "execution_count": 3,
     "metadata": {},
     "output_type": "execute_result"
    }
   ],
   "source": [
    "load_dotenv()"
   ]
  },
  {
   "cell_type": "code",
   "execution_count": 4,
   "id": "59cf8464-5a76-420a-9581-aea2336b5c47",
   "metadata": {},
   "outputs": [],
   "source": [
    "endpoint = os.getenv(\"PROJECT_ENDPOINT\")\n",
    "credential = DefaultAzureCredential()\n",
    "\n",
    "project_client = AgentsClient(endpoint=endpoint, credential=credential)"
   ]
  },
  {
   "cell_type": "code",
   "execution_count": 5,
   "id": "6a370968-b021-4130-9790-108d0e921fba",
   "metadata": {},
   "outputs": [
    {
     "name": "stdout",
     "output_type": "stream",
     "text": [
      "['__abstractmethods__', '__annotations__', '__class__', '__class_getitem__', '__delattr__', '__dict__', '__dir__', '__doc__', '__enter__', '__eq__', '__exit__', '__firstlineno__', '__format__', '__ge__', '__getattribute__', '__getstate__', '__gt__', '__hash__', '__init__', '__init_subclass__', '__le__', '__lt__', '__module__', '__ne__', '__new__', '__orig_bases__', '__parameters__', '__reduce__', '__reduce_ex__', '__repr__', '__setattr__', '__sizeof__', '__slots__', '__static_attributes__', '__str__', '__subclasshook__', '__weakref__', '_abc_impl', '_client', '_config', '_delete_agent', '_deserialize', '_function_tool', '_function_tool_max_retry', '_serialize', '_validate_tools_and_tool_resources', 'close', 'create_agent', 'create_thread_and_process_run', 'create_thread_and_run', 'delete_agent', 'enable_auto_function_calls', 'files', 'get_agent', 'list_agents', 'messages', 'run_steps', 'runs', 'send_request', 'threads', 'update_agent', 'vector_store_file_batches', 'vector_store_files', 'vector_stores']\n"
     ]
    }
   ],
   "source": [
    "print(dir(project_client))"
   ]
  },
  {
   "cell_type": "markdown",
   "id": "a147d759-07fd-472e-be42-07cd361b20c4",
   "metadata": {},
   "source": [
    "## Agents definition"
   ]
  },
  {
   "cell_type": "markdown",
   "id": "a05593db-1fda-496f-ba00-c2831194c7ce",
   "metadata": {},
   "source": [
    "### 1. Stocks price agent"
   ]
  },
  {
   "cell_type": "code",
   "execution_count": 6,
   "id": "442ebc71-6aff-4104-9012-0069eb6449b6",
   "metadata": {},
   "outputs": [],
   "source": [
    "bing = BingGroundingTool(connection_id=os.getenv(\"AZURE_BING_CONNECTION_ID\"))"
   ]
  },
  {
   "cell_type": "code",
   "execution_count": 7,
   "id": "128e6d37",
   "metadata": {},
   "outputs": [],
   "source": [
    "model=\"gpt-4.1\""
   ]
  },
  {
   "cell_type": "code",
   "execution_count": 8,
   "id": "da598e22-275a-471e-a2e9-137c46c6d234",
   "metadata": {},
   "outputs": [],
   "source": [
    "stocksprice_agent = project_client.create_agent(\n",
    "    model=model,\n",
    "    name=\"stocks-price-agent-demo\",\n",
    "    instructions=\"Retrieve the current stock price for a specified company.\",\n",
    "    tools=bing.definitions,\n",
    "    headers={\"x-ms-enable-preview\": \"true\"},\n",
    "    description=\"Stocks price agent (demo)\",\n",
    "    temperature=0.7,\n",
    ")"
   ]
  },
  {
   "cell_type": "code",
   "execution_count": 9,
   "id": "f96bcc3e-11b5-46aa-91e4-903bee459570",
   "metadata": {},
   "outputs": [
    {
     "name": "stdout",
     "output_type": "stream",
     "text": [
      "Created agent, ID: asst_o6t6xgsVMTky16F5EDJcRRh7\n"
     ]
    }
   ],
   "source": [
    "print(f\"Created agent, ID: {stocksprice_agent.id}\")"
   ]
  },
  {
   "cell_type": "markdown",
   "id": "e420ebd3-7456-4f7c-82e8-2d8d9d645e10",
   "metadata": {},
   "source": [
    "### 2. Currency agent"
   ]
  },
  {
   "cell_type": "code",
   "execution_count": 10,
   "id": "f7dee6b1-c474-4059-a0e6-7278bde83db5",
   "metadata": {},
   "outputs": [],
   "source": [
    "currency_convert_agent = project_client.create_agent(\n",
    "    model=model,\n",
    "    name=\"currency-convert-agent-demo\",\n",
    "    instructions=\"Retrieve the current currency exchange rate.\",\n",
    "    tools=bing.definitions,\n",
    "    headers={\"x-ms-enable-preview\": \"true\"},\n",
    "    description=\"Currency convert agent (demo)\",\n",
    "    temperature=0.7,\n",
    ")"
   ]
  },
  {
   "cell_type": "code",
   "execution_count": 11,
   "id": "7b346dae-b809-44b3-8b60-591f6c2e0a9b",
   "metadata": {},
   "outputs": [
    {
     "name": "stdout",
     "output_type": "stream",
     "text": [
      "Created agent, ID: asst_dw064UWdSrY5W3uinIvVovT7\n"
     ]
    }
   ],
   "source": [
    "print(f\"Created agent, ID: {currency_convert_agent.id}\")"
   ]
  },
  {
   "cell_type": "markdown",
   "id": "243a35eb-2c6b-454f-81b8-2756ce6f1c9a",
   "metadata": {},
   "source": [
    "## 3. RAG agent"
   ]
  },
  {
   "cell_type": "code",
   "execution_count": 12,
   "id": "265fd6b6-2f27-4531-969b-b653613e819b",
   "metadata": {},
   "outputs": [],
   "source": [
    "DATA_DIR = \"data\"\n",
    "\n",
    "pdf_file = os.path.join(DATA_DIR, \"2024_Annual_Report.docx\")"
   ]
  },
  {
   "cell_type": "code",
   "execution_count": 13,
   "id": "b71f59cb-4b09-4162-89b7-9c79b7d577d3",
   "metadata": {},
   "outputs": [
    {
     "name": "stdout",
     "output_type": "stream",
     "text": [
      "-rw-r--r--@ 1 arturoquiroga  staff   1.7M Jun 19 10:34 data/2024_Annual_Report.docx\n"
     ]
    }
   ],
   "source": [
    "!ls -lh $pdf_file"
   ]
  },
  {
   "cell_type": "code",
   "execution_count": 14,
   "id": "70cae4ec-b6a8-4d53-a9f7-c5c2d0a5db68",
   "metadata": {},
   "outputs": [
    {
     "name": "stdout",
     "output_type": "stream",
     "text": [
      "Uploaded file, file ID: assistant-V2urCi1iitSAQ9gAZRCxLs\n",
      "Created vector store, vector store ID: vs_1i2HxaUHLIrm6GFqVZMovnnn\n"
     ]
    }
   ],
   "source": [
    "file = project_client.files.upload_and_poll(file_path=pdf_file,\n",
    "                                                  purpose=FilePurpose.AGENTS)\n",
    "\n",
    "print(f\"Uploaded file, file ID: {file.id}\")\n",
    "\n",
    "# create a vector store with the file you uploaded\n",
    "vector_store = project_client.vector_stores.create_and_poll(\n",
    "    file_ids=[file.id], name=\"document_vector_store\")\n",
    "\n",
    "print(f\"Created vector store, vector store ID: {vector_store.id}\")"
   ]
  },
  {
   "cell_type": "code",
   "execution_count": 15,
   "id": "b3761a8d-2351-40be-992b-00314c9617b4",
   "metadata": {},
   "outputs": [
    {
     "name": "stdout",
     "output_type": "stream",
     "text": [
      "Created agent, agent ID: asst_TQ8YQi3u3TJxHRM36wanIhgd\n"
     ]
    }
   ],
   "source": [
    "# create a file search tool\n",
    "file_search_tool = FileSearchTool(vector_store_ids=[vector_store.id])\n",
    "\n",
    "# notices that FileSearchTool as tool and tool_resources must be added or the agent will be unable to search the file\n",
    "document_pdf_agent = project_client.create_agent(\n",
    "    model=model,\n",
    "    name=\"document-agent-pdf-demo\",\n",
    "    instructions=\"You are an AI helpful agent to analyse this document which is the Microsoft 2024 annual report\",\n",
    "    tools=file_search_tool.definitions,\n",
    "    tool_resources=file_search_tool.resources,\n",
    "    description=\"PDF document agent (demo)\",\n",
    "    temperature=0.7,\n",
    ")\n",
    "\n",
    "print(f\"Created agent, agent ID: {document_pdf_agent.id}\")"
   ]
  },
  {
   "cell_type": "markdown",
   "id": "38f36d76-c616-4654-9224-b451b9980c98",
   "metadata": {},
   "source": [
    "### 3. Main agent with connected agents"
   ]
  },
  {
   "cell_type": "code",
   "execution_count": 16,
   "id": "6a9bc328-6651-4347-99f0-ecd27344960f",
   "metadata": {},
   "outputs": [],
   "source": [
    "connected_agent_stocks = ConnectedAgentTool(\n",
    "    id=stocksprice_agent.id,\n",
    "    name=\"stockspriceagentconnection\",\n",
    "    description=\"Get the stock price of a company\")"
   ]
  },
  {
   "cell_type": "code",
   "execution_count": 17,
   "id": "f0d35f60-f817-461f-9877-3399b16bf933",
   "metadata": {},
   "outputs": [],
   "source": [
    "connected_agent_currency = ConnectedAgentTool(\n",
    "    id=currency_convert_agent.id,\n",
    "    name=\"currencyconvertagentconnection\",\n",
    "    description=\"Convert an amount into another currency\")"
   ]
  },
  {
   "cell_type": "code",
   "execution_count": 18,
   "id": "5fe039ea-8ee5-4346-bebf-6ee610243919",
   "metadata": {},
   "outputs": [],
   "source": [
    "connected_document = ConnectedAgentTool(\n",
    "    id=document_pdf_agent.id,\n",
    "    name=\"documentagentconnection\",\n",
    "    description=\"You are an AI helpful agent to analyse this document which is the Microsoft 2024 annual report\")"
   ]
  },
  {
   "cell_type": "code",
   "execution_count": 19,
   "id": "a69d706b-d162-4d11-a88c-e3c84cd3f44c",
   "metadata": {},
   "outputs": [],
   "source": [
    "main_agent_demo = project_client.create_agent(\n",
    "    model=model,\n",
    "    name=\"main-agent-demo\",\n",
    "    instructions=\"You are the main AI agent\",\n",
    "    description=\"Main agent (demo)\",\n",
    "    tools=[\n",
    "        connected_agent_stocks.definitions[0],\n",
    "        connected_agent_currency.definitions[0],\n",
    "        connected_document.definitions[0],\n",
    "    ],\n",
    ")"
   ]
  },
  {
   "cell_type": "code",
   "execution_count": 20,
   "id": "a8245a91-3dbf-441e-b270-cca92decbffe",
   "metadata": {},
   "outputs": [
    {
     "name": "stdout",
     "output_type": "stream",
     "text": [
      "Created agent, ID: asst_ZgQHezDxVSbgdf5kip5fKzbI\n"
     ]
    }
   ],
   "source": [
    "print(f\"Created agent, ID: {main_agent_demo.id}\")"
   ]
  },
  {
   "cell_type": "markdown",
   "id": "6da50ffe-7905-4e1c-aec6-8c22ed407396",
   "metadata": {},
   "source": [
    "## List of agents"
   ]
  },
  {
   "cell_type": "code",
   "execution_count": 21,
   "id": "64db8a11-d12f-440b-81f6-e6317d259193",
   "metadata": {},
   "outputs": [
    {
     "name": "stdout",
     "output_type": "stream",
     "text": [
      "Agent Details:\n",
      "📛 Name        : stocks-price-agent-demo\n",
      "🆔 ID          : asst_o6t6xgsVMTky16F5EDJcRRh7\n",
      "🧠 Model       : gpt-4.1\n",
      "📜 Instructions: Retrieve the current stock price for a specified company.\n",
      "\n",
      "Agent Details:\n",
      "📛 Name        : currency-convert-agent-demo\n",
      "🆔 ID          : asst_dw064UWdSrY5W3uinIvVovT7\n",
      "🧠 Model       : gpt-4.1\n",
      "📜 Instructions: Retrieve the current currency exchange rate.\n",
      "\n",
      "Agent Details:\n",
      "📛 Name        : document-agent-pdf-demo\n",
      "🆔 ID          : asst_TQ8YQi3u3TJxHRM36wanIhgd\n",
      "🧠 Model       : gpt-4.1\n",
      "📜 Instructions: You are an AI helpful agent to analyse this document which is the Microsoft 2024 annual report\n",
      "\n",
      "Agent Details:\n",
      "📛 Name        : main-agent-demo\n",
      "🆔 ID          : asst_ZgQHezDxVSbgdf5kip5fKzbI\n",
      "🧠 Model       : gpt-4.1\n",
      "📜 Instructions: You are the main AI agent\n",
      "\n"
     ]
    }
   ],
   "source": [
    "agents_list = [stocksprice_agent, currency_convert_agent, document_pdf_agent, main_agent_demo]\n",
    "\n",
    "for agent in agents_list:\n",
    "    print(\n",
    "        f\"Agent Details:\\n\"\n",
    "        f\"📛 Name        : {agent.name}\\n\"\n",
    "        f\"🆔 ID          : {agent.id}\\n\"\n",
    "        f\"🧠 Model       : {agent.model}\\n\"\n",
    "        f\"📜 Instructions: {agent.instructions}\\n\"\n",
    "    )"
   ]
  },
  {
   "cell_type": "markdown",
   "id": "ace8e0b5-70ed-48a6-a75e-adc80bb2ac5c",
   "metadata": {},
   "source": [
    "### Quick test"
   ]
  },
  {
   "cell_type": "code",
   "execution_count": 22,
   "id": "c241bfcc-f9f7-4a78-a5f2-e3058175a239",
   "metadata": {},
   "outputs": [],
   "source": [
    "prompt = \"Hello.\""
   ]
  },
  {
   "cell_type": "code",
   "execution_count": 23,
   "id": "214c07ae-99c6-4af0-b3bf-7de9dbca87fc",
   "metadata": {},
   "outputs": [
    {
     "name": "stdout",
     "output_type": "stream",
     "text": [
      "🧵 [1] Created thread  | ID: thread_lkWkBUnLWsun6Vjalro3BvJh\n",
      "💬 [2] Created message | ID: msg_xBl6GVVB9NJFjGx8Kgy8skk8\n",
      "🏃 [3] Created run     | ID: run_Ou2VWnW9Gndg6Ratk2mRR77I\n",
      "⏳ [4] Polling run status...\n",
      "🔄 Status: RunStatus.COMPLETED\n",
      "\n",
      "🔍 Step ID details: step_St0YrNdMUX1vv9ae0QZxnLyP, Type: RunStepType.MESSAGE_CREATION\n",
      "Details step: {'id': 'step_St0YrNdMUX1vv9ae0QZxnLyP', 'object': 'thread.run.step', 'created_at': 1750345571, 'run_id': 'run_Ou2VWnW9Gndg6Ratk2mRR77I', 'assistant_id': 'asst_ZgQHezDxVSbgdf5kip5fKzbI', 'thread_id': 'thread_lkWkBUnLWsun6Vjalro3BvJh', 'type': 'message_creation', 'status': 'completed', 'cancelled_at': None, 'completed_at': 1750345571, 'expires_at': None, 'failed_at': None, 'last_error': None, 'step_details': {'type': 'message_creation', 'message_creation': {'message_id': 'msg_bvCgTEeGDXoEDuTpHOnGM6kD'}}, 'usage': {'prompt_tokens': 364, 'completion_tokens': 11, 'total_tokens': 375, 'prompt_token_details': {'cached_tokens': 0}}}\n",
      "\n",
      "🤖 [5] Agent responses:\n",
      "\u001b[1;34m\n",
      "💡 → MessageRole.USER: Hello.\n",
      "\u001b[1;34m\n",
      "💡 → MessageRole.AGENT: Hello! How can I assist you today?\n",
      "\u001b[0m\n"
     ]
    }
   ],
   "source": [
    "# Step 1: Create a thread\n",
    "thread = project_client.threads.create()\n",
    "print(f\"🧵 [1] Created thread  | ID: {thread.id}\")\n",
    "\n",
    "# Step 2: Send the user's message\n",
    "message = project_client.messages.create(thread_id=thread.id,\n",
    "                                         role=\"user\",\n",
    "                                         content=prompt)\n",
    "print(f\"💬 [2] Created message | ID: {message.id}\")\n",
    "\n",
    "# Step 3: Start a run\n",
    "run = project_client.runs.create(thread_id=thread.id, agent_id=agent.id)\n",
    "print(f\"🏃 [3] Created run     | ID: {run.id}\")\n",
    "\n",
    "# Step 4: Poll run status\n",
    "print(\"⏳ [4] Polling run status...\")\n",
    "while run.status in {\"queued\", \"in_progress\", \"requires_action\"}:\n",
    "    time.sleep(1)\n",
    "    run = project_client.runs.get(thread_id=thread.id, run_id=run.id)\n",
    "    print(f\"🔄 Status: {run.status}\")\n",
    "\n",
    "    if run.status == \"failed\":\n",
    "        print(f\"❌ Run failed | Error: {run.last_error}\")\n",
    "        break\n",
    "\n",
    "run_steps = project_client.run_steps.list(thread_id=thread.id, run_id=run.id)\n",
    "for step in run_steps:\n",
    "    print(f\"\\n🔍 Step ID details: {step.id}, Type: {step.type}\")\n",
    "    print(f\"Details step: {step}\")\n",
    "\n",
    "# Step 5: Display agent responses\n",
    "print(\"\\n🤖 [5] Agent responses:\")\n",
    "messages = project_client.messages.list(thread_id=thread.id, order=ListSortOrder.ASCENDING)\n",
    "\n",
    "for msg in messages:\n",
    "    print(\"\\033[1;34m\")  # Blue text for agent messages\n",
    "    if msg.text_messages:\n",
    "        last_text = msg.text_messages[-1]\n",
    "        print(f\"💡 → {msg.role}: {last_text.text.value}\")\n",
    "    if msg.url_citation_annotations:\n",
    "        print(\"\\033[1;32m\")  # Green text for citations\n",
    "        idx = 1\n",
    "        for annotation in msg.url_citation_annotations:\n",
    "            print(f\"🔗 Source {idx}: [{annotation.url_citation.title}]({annotation.url_citation.url})\")\n",
    "            idx += 1\n",
    "\n",
    "print(\"\\033[0m\")  # Reset color"
   ]
  },
  {
   "cell_type": "code",
   "execution_count": 24,
   "id": "20e7248f-e122-417d-801f-53087ca0059c",
   "metadata": {},
   "outputs": [
    {
     "data": {
      "text/plain": [
       "{'id': 'run_Ou2VWnW9Gndg6Ratk2mRR77I', 'object': 'thread.run', 'created_at': 1750345570, 'assistant_id': 'asst_ZgQHezDxVSbgdf5kip5fKzbI', 'thread_id': 'thread_lkWkBUnLWsun6Vjalro3BvJh', 'status': 'completed', 'started_at': 1750345571, 'expires_at': None, 'cancelled_at': None, 'failed_at': None, 'completed_at': 1750345571, 'required_action': None, 'last_error': None, 'model': 'gpt-4.1', 'instructions': 'You are the main AI agent', 'tools': [{'type': 'connected_agent', 'connected_agent': {'name': 'stockspriceagentconnection', 'description': 'Get the stock price of a company', 'id': 'asst_o6t6xgsVMTky16F5EDJcRRh7'}}, {'type': 'connected_agent', 'connected_agent': {'name': 'currencyconvertagentconnection', 'description': 'Convert an amount into another currency', 'id': 'asst_dw064UWdSrY5W3uinIvVovT7'}}, {'type': 'connected_agent', 'connected_agent': {'name': 'documentagentconnection', 'description': 'You are an AI helpful agent to analyse this document which is the Microsoft 2024 annual report', 'id': 'asst_TQ8YQi3u3TJxHRM36wanIhgd'}}], 'tool_resources': {}, 'metadata': {}, 'temperature': 1.0, 'top_p': 1.0, 'max_completion_tokens': None, 'max_prompt_tokens': None, 'truncation_strategy': {'type': 'auto', 'last_messages': None}, 'incomplete_details': None, 'usage': {'prompt_tokens': 364, 'completion_tokens': 11, 'total_tokens': 375, 'prompt_token_details': {'cached_tokens': 0}}, 'response_format': 'auto', 'tool_choice': 'auto', 'parallel_tool_calls': True}"
      ]
     },
     "execution_count": 24,
     "metadata": {},
     "output_type": "execute_result"
    }
   ],
   "source": [
    "run"
   ]
  },
  {
   "cell_type": "code",
   "execution_count": 25,
   "id": "e2982ecb-930e-4a42-8c40-842b2e8ee476",
   "metadata": {},
   "outputs": [
    {
     "data": {
      "text/plain": [
       "{'prompt_tokens': 364, 'completion_tokens': 11, 'total_tokens': 375, 'prompt_token_details': {'cached_tokens': 0}}"
      ]
     },
     "execution_count": 25,
     "metadata": {},
     "output_type": "execute_result"
    }
   ],
   "source": [
    "run.usage"
   ]
  },
  {
   "cell_type": "markdown",
   "id": "830a8140-3603-4a81-8d2d-6398ceac10b3",
   "metadata": {},
   "source": [
    "### Example 1"
   ]
  },
  {
   "cell_type": "code",
   "execution_count": 26,
   "id": "ef181ab9-5133-4b7c-a67c-cf16c6f2424d",
   "metadata": {},
   "outputs": [],
   "source": [
    "prompt = \"What is microsoft's share price?\""
   ]
  },
  {
   "cell_type": "code",
   "execution_count": 27,
   "id": "9b3590a6-d6a8-41c7-b3e3-5365b9691856",
   "metadata": {},
   "outputs": [
    {
     "name": "stdout",
     "output_type": "stream",
     "text": [
      "🧵 [1] Created thread  | ID: thread_DdUwdkKhrjs6aVgjdNjNkgZS\n",
      "💬 [2] Created message | ID: msg_YX1aUzl1h9buELyMqeRo2ViF\n",
      "🏃 [3] Created run     | ID: run_ksh1Lyf2I3xE9XYMcbi7d2dH\n",
      "⏳ [4] Polling run status...\n",
      "🔄 Status: RunStatus.IN_PROGRESS\n",
      "🔄 Status: RunStatus.IN_PROGRESS\n",
      "🔄 Status: RunStatus.IN_PROGRESS\n",
      "🔄 Status: RunStatus.IN_PROGRESS\n",
      "🔄 Status: RunStatus.IN_PROGRESS\n",
      "🔄 Status: RunStatus.COMPLETED\n",
      "\n",
      "🔍 Step ID details: step_dkfhNM6FKCyE2WSgLeBNCDAN, Type: RunStepType.MESSAGE_CREATION\n",
      "Details step: {'id': 'step_dkfhNM6FKCyE2WSgLeBNCDAN', 'object': 'thread.run.step', 'created_at': 1750345582, 'run_id': 'run_ksh1Lyf2I3xE9XYMcbi7d2dH', 'assistant_id': 'asst_ZgQHezDxVSbgdf5kip5fKzbI', 'thread_id': 'thread_DdUwdkKhrjs6aVgjdNjNkgZS', 'type': 'message_creation', 'status': 'completed', 'cancelled_at': None, 'completed_at': 1750345583, 'expires_at': None, 'failed_at': None, 'last_error': None, 'step_details': {'type': 'message_creation', 'message_creation': {'message_id': 'msg_3nei5IiIcbLiuaso9s2mCdPY'}}, 'usage': {'prompt_tokens': 476, 'completion_tokens': 44, 'total_tokens': 520, 'prompt_token_details': {'cached_tokens': 0}}}\n",
      "\n",
      "🔍 Step ID details: step_0HfX0jhn1jI2ZWit8qtQVfqs, Type: RunStepType.TOOL_CALLS\n",
      "Details step: {'id': 'step_0HfX0jhn1jI2ZWit8qtQVfqs', 'object': 'thread.run.step', 'created_at': 1750345576, 'run_id': 'run_ksh1Lyf2I3xE9XYMcbi7d2dH', 'assistant_id': 'asst_ZgQHezDxVSbgdf5kip5fKzbI', 'thread_id': 'thread_DdUwdkKhrjs6aVgjdNjNkgZS', 'type': 'tool_calls', 'status': 'completed', 'cancelled_at': None, 'completed_at': 1750345582, 'expires_at': None, 'failed_at': None, 'last_error': None, 'step_details': {'type': 'tool_calls', 'tool_calls': [{'id': 'call_IKTcqXtdcqctAQajplNcEQyY', 'type': 'connected_agent', 'connected_agent': {'name': 'stockspriceagentconnection', 'arguments': '{\"query\":\"Microsoft share price\"}', 'output': \"content_type='tether_browsing_display' result='【3:0†source】 \\\\nThe current share price of Microsoft Corporation (MSFT) is approximately $480.29 as of the latest market close. Please note that stock prices fluctuate throughout the trading day and may vary slightly depending on the source and time of viewing【3:4†Microsoft Corporation (MSFT) - Yahoo Finance†】.' summary=None assets=None tether_id=-99\", 'run_id': 'run_PugHi5c3dijpQwgqTmjxqTjd', 'thread_id': 'thread_osPdbKw7OklNsrcngVclSOOo', 'assistant_id': 'asst_o6t6xgsVMTky16F5EDJcRRh7'}}]}, 'usage': {'prompt_tokens': 369, 'completion_tokens': 21, 'total_tokens': 390, 'prompt_token_details': {'cached_tokens': 0}}}\n",
      "\n",
      "🤖 [5] Agent responses:\n",
      "\u001b[1;34m\n",
      "💡 → MessageRole.USER: What is microsoft's share price?\n",
      "\u001b[1;34m\n",
      "💡 → MessageRole.AGENT: Microsoft Corporation's (MSFT) current share price is approximately $480.29 as of the latest market close. Please note that stock prices can fluctuate throughout the trading day【3:0†source】.\n",
      "\u001b[1;32m\n",
      "🔗 Source 1: [Microsoft Corporation (MSFT) - Yahoo Finance](https://uk.finance.yahoo.com/quote/MSFT/)\n",
      "\u001b[0m\n"
     ]
    }
   ],
   "source": [
    "# Step 1: Create a thread\n",
    "thread = project_client.threads.create()\n",
    "print(f\"🧵 [1] Created thread  | ID: {thread.id}\")\n",
    "\n",
    "# Step 2: Send the user's message\n",
    "message = project_client.messages.create(thread_id=thread.id,\n",
    "                                         role=\"user\",\n",
    "                                         content=prompt)\n",
    "print(f\"💬 [2] Created message | ID: {message.id}\")\n",
    "\n",
    "# Step 3: Start a run\n",
    "run = project_client.runs.create(thread_id=thread.id, agent_id=agent.id)\n",
    "print(f\"🏃 [3] Created run     | ID: {run.id}\")\n",
    "\n",
    "# Step 4: Poll run status\n",
    "print(\"⏳ [4] Polling run status...\")\n",
    "while run.status in {\"queued\", \"in_progress\", \"requires_action\"}:\n",
    "    time.sleep(1)\n",
    "    run = project_client.runs.get(thread_id=thread.id, run_id=run.id)\n",
    "    print(f\"🔄 Status: {run.status}\")\n",
    "\n",
    "    if run.status == \"failed\":\n",
    "        print(f\"❌ Run failed | Error: {run.last_error}\")\n",
    "        break\n",
    "\n",
    "run_steps = project_client.run_steps.list(thread_id=thread.id, run_id=run.id)\n",
    "for step in run_steps:\n",
    "    print(f\"\\n🔍 Step ID details: {step.id}, Type: {step.type}\")\n",
    "    print(f\"Details step: {step}\")\n",
    "\n",
    "# Step 5: Display agent responses\n",
    "print(\"\\n🤖 [5] Agent responses:\")\n",
    "messages = project_client.messages.list(thread_id=thread.id, order=ListSortOrder.ASCENDING)\n",
    "\n",
    "for msg in messages:\n",
    "    print(\"\\033[1;34m\")  # Blue text for agent messages\n",
    "    if msg.text_messages:\n",
    "        last_text = msg.text_messages[-1]\n",
    "        print(f\"💡 → {msg.role}: {last_text.text.value}\")\n",
    "    if msg.url_citation_annotations:\n",
    "        print(\"\\033[1;32m\")  # Green text for citations\n",
    "        idx = 1\n",
    "        for annotation in msg.url_citation_annotations:\n",
    "            print(f\"🔗 Source {idx}: [{annotation.url_citation.title}]({annotation.url_citation.url})\")\n",
    "            idx += 1\n",
    "\n",
    "print(\"\\033[0m\")  # Reset color"
   ]
  },
  {
   "cell_type": "markdown",
   "id": "021bfe5b-5974-4488-a2ba-4502c1d86b51",
   "metadata": {},
   "source": [
    "### Example 2"
   ]
  },
  {
   "cell_type": "code",
   "execution_count": 28,
   "id": "e1b3af22-e82d-4e33-814a-77153b594acb",
   "metadata": {},
   "outputs": [],
   "source": [
    "prompt = \"Convert this into € and in Japanese Yen\""
   ]
  },
  {
   "cell_type": "code",
   "execution_count": 29,
   "id": "5af11322-b0bd-4c2b-85b1-493cfeb210e1",
   "metadata": {},
   "outputs": [
    {
     "name": "stdout",
     "output_type": "stream",
     "text": [
      "🧵 [1] Using existing thread  | ID: thread_DdUwdkKhrjs6aVgjdNjNkgZS\n",
      "💬 [2] Created message | ID: msg_9PN5KJYH1FBNLIqJp3ftbGG7\n",
      "🏃 [3] Created run     | ID: run_0LT0QywVC9ldP48LLvDhB4JJ\n",
      "⏳ [4] Polling run status...\n",
      "🔄 Status: RunStatus.IN_PROGRESS\n",
      "🔄 Status: RunStatus.IN_PROGRESS\n",
      "🔄 Status: RunStatus.IN_PROGRESS\n",
      "🔄 Status: RunStatus.IN_PROGRESS\n",
      "🔄 Status: RunStatus.IN_PROGRESS\n",
      "🔄 Status: RunStatus.COMPLETED\n",
      "\n",
      "🔍 Step ID details: step_A43ulpeUgQBUHuvXJHYriOKj, Type: RunStepType.MESSAGE_CREATION\n",
      "Details step: {'id': 'step_A43ulpeUgQBUHuvXJHYriOKj', 'object': 'thread.run.step', 'created_at': 1750345594, 'run_id': 'run_0LT0QywVC9ldP48LLvDhB4JJ', 'assistant_id': 'asst_ZgQHezDxVSbgdf5kip5fKzbI', 'thread_id': 'thread_DdUwdkKhrjs6aVgjdNjNkgZS', 'type': 'message_creation', 'status': 'completed', 'cancelled_at': None, 'completed_at': 1750345594, 'expires_at': None, 'failed_at': None, 'last_error': None, 'step_details': {'type': 'message_creation', 'message_creation': {'message_id': 'msg_vPj1K1l5Gms3HSZiXkh1WjAM'}}, 'usage': {'prompt_tokens': 557, 'completion_tokens': 54, 'total_tokens': 611, 'prompt_token_details': {'cached_tokens': 0}}}\n",
      "\n",
      "🔍 Step ID details: step_1AsWhw7PxYMihLV6S7LPiSSn, Type: RunStepType.TOOL_CALLS\n",
      "Details step: {'id': 'step_1AsWhw7PxYMihLV6S7LPiSSn', 'object': 'thread.run.step', 'created_at': 1750345587, 'run_id': 'run_0LT0QywVC9ldP48LLvDhB4JJ', 'assistant_id': 'asst_ZgQHezDxVSbgdf5kip5fKzbI', 'thread_id': 'thread_DdUwdkKhrjs6aVgjdNjNkgZS', 'type': 'tool_calls', 'status': 'completed', 'cancelled_at': None, 'completed_at': 1750345594, 'expires_at': None, 'failed_at': None, 'last_error': None, 'step_details': {'type': 'tool_calls', 'tool_calls': [{'id': 'call_2z4IaSxV1ok47eK0uNYXqc32', 'type': 'connected_agent', 'connected_agent': {'name': 'currencyconvertagentconnection', 'arguments': '{\"query\":\"Convert $480.29 to EUR and JPY\"}', 'output': \"I couldn't retrieve the latest exchange rates at the moment. Please check a reliable financial website or currency converter for the most up-to-date rates for USD to EUR and USD to JPY conversions. If you try again in a few minutes, I can attempt to get the current rates for you.\", 'run_id': 'run_voGlYjYORQZjTluEcGEAL8xO', 'thread_id': 'thread_DjBcVHpOOP2i76ojGJebIKNL', 'assistant_id': 'asst_dw064UWdSrY5W3uinIvVovT7'}}]}, 'usage': {'prompt_tokens': 465, 'completion_tokens': 27, 'total_tokens': 492, 'prompt_token_details': {'cached_tokens': 0}}}\n",
      "\n",
      "🤖 [5] Agent responses:\n",
      "\u001b[1;34m\n",
      "💡 → MessageRole.USER: What is microsoft's share price?\n",
      "\u001b[1;34m\n",
      "💡 → MessageRole.AGENT: Microsoft Corporation's (MSFT) current share price is approximately $480.29 as of the latest market close. Please note that stock prices can fluctuate throughout the trading day【3:0†source】.\n",
      "\u001b[1;32m\n",
      "🔗 Source 1: [Microsoft Corporation (MSFT) - Yahoo Finance](https://uk.finance.yahoo.com/quote/MSFT/)\n",
      "\u001b[1;34m\n",
      "💡 → MessageRole.USER: Convert this into € and in Japanese Yen\n",
      "\u001b[1;34m\n",
      "💡 → MessageRole.AGENT: I was unable to retrieve the latest conversion rates at this moment. Please check a reliable financial website for the most current exchange rates from USD to EUR and JPY. If you'd like to try again later, I can attempt to get the exact conversion for you.\n",
      "\u001b[0m\n"
     ]
    }
   ],
   "source": [
    "# Step 1: Use a thread\n",
    "#thread = project_client.threads.create()\n",
    "print(f\"🧵 [1] Using existing thread  | ID: {thread.id}\")\n",
    "\n",
    "# Step 2: Send the user's message\n",
    "message = project_client.messages.create(thread_id=thread.id,\n",
    "                                         role=\"user\",\n",
    "                                         content=prompt)\n",
    "print(f\"💬 [2] Created message | ID: {message.id}\")\n",
    "\n",
    "# Step 3: Start a run\n",
    "run = project_client.runs.create(thread_id=thread.id, agent_id=agent.id)\n",
    "print(f\"🏃 [3] Created run     | ID: {run.id}\")\n",
    "\n",
    "# Step 4: Poll run status\n",
    "print(\"⏳ [4] Polling run status...\")\n",
    "while run.status in {\"queued\", \"in_progress\", \"requires_action\"}:\n",
    "    time.sleep(1)\n",
    "    run = project_client.runs.get(thread_id=thread.id, run_id=run.id)\n",
    "    print(f\"🔄 Status: {run.status}\")\n",
    "\n",
    "    if run.status == \"failed\":\n",
    "        print(f\"❌ Run failed | Error: {run.last_error}\")\n",
    "        break\n",
    "\n",
    "run_steps = project_client.run_steps.list(thread_id=thread.id, run_id=run.id)\n",
    "for step in run_steps:\n",
    "    print(f\"\\n🔍 Step ID details: {step.id}, Type: {step.type}\")\n",
    "    print(f\"Details step: {step}\")\n",
    "\n",
    "# Step 5: Display agent responses\n",
    "print(\"\\n🤖 [5] Agent responses:\")\n",
    "messages = project_client.messages.list(thread_id=thread.id, order=ListSortOrder.ASCENDING)\n",
    "\n",
    "for msg in messages:\n",
    "    print(\"\\033[1;34m\")  # Blue text for agent messages\n",
    "    if msg.text_messages:\n",
    "        last_text = msg.text_messages[-1]\n",
    "        print(f\"💡 → {msg.role}: {last_text.text.value}\")\n",
    "    if msg.url_citation_annotations:\n",
    "        print(\"\\033[1;32m\")  # Green text for citations\n",
    "        idx = 1\n",
    "        for annotation in msg.url_citation_annotations:\n",
    "            print(f\"🔗 Source {idx}: [{annotation.url_citation.title}]({annotation.url_citation.url})\")\n",
    "            idx += 1\n",
    "\n",
    "print(\"\\033[0m\")  # Reset color"
   ]
  },
  {
   "cell_type": "markdown",
   "id": "33d226a3-fe37-4f00-b59d-7db43b1bcb8c",
   "metadata": {},
   "source": [
    "### Example 3"
   ]
  },
  {
   "cell_type": "code",
   "execution_count": 30,
   "id": "d370f11b-1d19-40e7-ac92-2a142f75ca01",
   "metadata": {},
   "outputs": [],
   "source": [
    "prompt = \"I have 10 Microsoft shares + 5 IBM shares and 7 SFDC shares. What is the total value of my portfolio in cad?\""
   ]
  },
  {
   "cell_type": "code",
   "execution_count": 31,
   "id": "f4476656-4bd3-4e53-b592-6658b3433acd",
   "metadata": {},
   "outputs": [
    {
     "name": "stdout",
     "output_type": "stream",
     "text": [
      "🧵 [1] Created thread  | ID: thread_1B8rPD9IcD4kgVJYEyD7I7WF\n",
      "💬 [2] Created message | ID: msg_M5vZS37ak5f2xlAItz7bippv\n",
      "🏃 [3] Created run     | ID: run_T6vDlwPB68vO7Gu8DoiqFU19\n",
      "⏳ [4] Polling run status...\n",
      "🔄 Status: RunStatus.IN_PROGRESS\n",
      "🔄 Status: RunStatus.IN_PROGRESS\n",
      "🔄 Status: RunStatus.IN_PROGRESS\n",
      "🔄 Status: RunStatus.IN_PROGRESS\n",
      "🔄 Status: RunStatus.IN_PROGRESS\n",
      "🔄 Status: RunStatus.IN_PROGRESS\n",
      "🔄 Status: RunStatus.IN_PROGRESS\n",
      "🔄 Status: RunStatus.IN_PROGRESS\n",
      "🔄 Status: RunStatus.IN_PROGRESS\n",
      "🔄 Status: RunStatus.IN_PROGRESS\n",
      "🔄 Status: RunStatus.IN_PROGRESS\n",
      "🔄 Status: RunStatus.IN_PROGRESS\n",
      "🔄 Status: RunStatus.IN_PROGRESS\n",
      "🔄 Status: RunStatus.IN_PROGRESS\n",
      "🔄 Status: RunStatus.IN_PROGRESS\n",
      "🔄 Status: RunStatus.IN_PROGRESS\n",
      "🔄 Status: RunStatus.IN_PROGRESS\n",
      "🔄 Status: RunStatus.IN_PROGRESS\n",
      "🔄 Status: RunStatus.COMPLETED\n",
      "\n",
      "🔍 Step ID details: step_peQK7LZYJpQjex2N6PWhC8ps, Type: RunStepType.MESSAGE_CREATION\n",
      "Details step: {'id': 'step_peQK7LZYJpQjex2N6PWhC8ps', 'object': 'thread.run.step', 'created_at': 1750345621, 'run_id': 'run_T6vDlwPB68vO7Gu8DoiqFU19', 'assistant_id': 'asst_ZgQHezDxVSbgdf5kip5fKzbI', 'thread_id': 'thread_1B8rPD9IcD4kgVJYEyD7I7WF', 'type': 'message_creation', 'status': 'completed', 'cancelled_at': None, 'completed_at': 1750345622, 'expires_at': None, 'failed_at': None, 'last_error': None, 'step_details': {'type': 'message_creation', 'message_creation': {'message_id': 'msg_wNIam2641Ddx2AAM4ONnokLq'}}, 'usage': {'prompt_tokens': 732, 'completion_tokens': 159, 'total_tokens': 891, 'prompt_token_details': {'cached_tokens': 0}}}\n",
      "\n",
      "🔍 Step ID details: step_s4rHO6Ke2nPardL2OiUeu6hM, Type: RunStepType.TOOL_CALLS\n",
      "Details step: {'id': 'step_s4rHO6Ke2nPardL2OiUeu6hM', 'object': 'thread.run.step', 'created_at': 1750345610, 'run_id': 'run_T6vDlwPB68vO7Gu8DoiqFU19', 'assistant_id': 'asst_ZgQHezDxVSbgdf5kip5fKzbI', 'thread_id': 'thread_1B8rPD9IcD4kgVJYEyD7I7WF', 'type': 'tool_calls', 'status': 'completed', 'cancelled_at': None, 'completed_at': 1750345621, 'expires_at': None, 'failed_at': None, 'last_error': None, 'step_details': {'type': 'tool_calls', 'tool_calls': [{'id': 'call_wa741jMTbIK3rmHbjzaJFTlf', 'type': 'connected_agent', 'connected_agent': {'name': 'currencyconvertagentconnection', 'arguments': '{\"query\":\"convert 10*446.34 + 5*174.55 + 7*250.76 usd to cad\"}', 'output': 'content_type=\\'tether_browsing_display\\' result=\"【5:0†source】 \\\\nLet\\'s break down your calculation first:\\\\n\\\\n- 10 × 446.34 = 4,463.40\\\\n- 5 × 174.55 = 872.75\\\\n- 7 × 250.76 = 1,755.32\\\\n\\\\nTotal in USD: 4,463.40 + 872.75 + 1,755.32 = 7,091.47 USD\\\\n\\\\nThe current exchange rate is approximately 1 USD = 1.37 CAD【3:0†Live US Dollar to Canadian Dollar Exchange Rate - $ 1 USD/CAD Today】.\\\\n\\\\nConverted to CAD:\\\\n7,091.47 USD × 1.37 = 9,715.33 CAD\\\\n\\\\nSo, your total is about **9,715.33 CAD**.\" summary=None assets=None tether_id=-99', 'run_id': 'run_0Sj5NhNhDS4peDZ3brBPRe6L', 'thread_id': 'thread_aeZ35ZGc56K9mO9anu1EcD5n', 'assistant_id': 'asst_dw064UWdSrY5W3uinIvVovT7'}}]}, 'usage': {'prompt_tokens': 507, 'completion_tokens': 41, 'total_tokens': 548, 'prompt_token_details': {'cached_tokens': 0}}}\n",
      "\n",
      "🔍 Step ID details: step_zIz6f2ESpDemBqZbIwLCJmB0, Type: RunStepType.TOOL_CALLS\n",
      "Details step: {'id': 'step_zIz6f2ESpDemBqZbIwLCJmB0', 'object': 'thread.run.step', 'created_at': 1750345598, 'run_id': 'run_T6vDlwPB68vO7Gu8DoiqFU19', 'assistant_id': 'asst_ZgQHezDxVSbgdf5kip5fKzbI', 'thread_id': 'thread_1B8rPD9IcD4kgVJYEyD7I7WF', 'type': 'tool_calls', 'status': 'completed', 'cancelled_at': None, 'completed_at': 1750345610, 'expires_at': None, 'failed_at': None, 'last_error': None, 'step_details': {'type': 'tool_calls', 'tool_calls': [{'id': 'call_2SD4XSwntFRvLRAwEGHR6A8D', 'type': 'connected_agent', 'connected_agent': {'name': 'stockspriceagentconnection', 'arguments': '{\"query\":\"latest price of MSFT, IBM, CRM\"}', 'output': 'The latest stock prices for the requested companies are as follows:\\n\\n- Microsoft (MSFT): $446.34\\n- IBM (IBM): $174.55\\n- Salesforce (CRM): $250.76\\n\\nPlease note that stock prices fluctuate during market hours, so these values may change throughout the trading day. For the most up-to-date prices, you can check financial news outlets or stock market apps.', 'run_id': 'run_HKUas65Iun3PtWTGzsmHtsSQ', 'thread_id': 'thread_SNTPaMa9J8lWuAjKfgAxzy1R', 'assistant_id': 'asst_o6t6xgsVMTky16F5EDJcRRh7'}}]}, 'usage': {'prompt_tokens': 391, 'completion_tokens': 27, 'total_tokens': 418, 'prompt_token_details': {'cached_tokens': 0}}}\n",
      "\n",
      "🤖 [5] Agent responses:\n",
      "\u001b[1;34m\n",
      "💡 → MessageRole.USER: I have 10 Microsoft shares + 5 IBM shares and 7 SFDC shares. What is the total value of my portfolio in cad?\n",
      "\u001b[1;34m\n",
      "💡 → MessageRole.AGENT: The total value of your portfolio in CAD, based on the latest stock prices and exchange rates, is approximately 9,715.33 CAD. Here’s the breakdown:\n",
      "\n",
      "- 10 Microsoft (MSFT) shares: $446.34 × 10 = $4,463.40 USD\n",
      "- 5 IBM shares: $174.55 × 5 = $872.75 USD\n",
      "- 7 Salesforce (CRM/SFDC) shares: $250.76 × 7 = $1,755.32 USD\n",
      "\n",
      "Total in USD: $7,091.47\n",
      "\n",
      "With the current exchange rate of 1 USD ≈ 1.37 CAD, the total in CAD is about 9,715.33 CAD【5:0†source】.\n",
      "\u001b[1;32m\n",
      "🔗 Source 1: [Live US Dollar to Canadian Dollar Exchange Rate - $ 1 USD/CAD Today](https://usd.currencyrate.today/cad)\n",
      "\u001b[0m\n"
     ]
    }
   ],
   "source": [
    "# Step 1: Create a new thread\n",
    "thread = project_client.threads.create()\n",
    "print(f\"🧵 [1] Created thread  | ID: {thread.id}\")\n",
    "\n",
    "# Step 2: Send the user's message\n",
    "message = project_client.messages.create(thread_id=thread.id,\n",
    "                                         role=\"user\",\n",
    "                                         content=prompt)\n",
    "print(f\"💬 [2] Created message | ID: {message.id}\")\n",
    "\n",
    "# Step 3: Start a run\n",
    "run = project_client.runs.create(thread_id=thread.id, agent_id=agent.id)\n",
    "print(f\"🏃 [3] Created run     | ID: {run.id}\")\n",
    "\n",
    "# Step 4: Poll run status\n",
    "print(\"⏳ [4] Polling run status...\")\n",
    "while run.status in {\"queued\", \"in_progress\", \"requires_action\"}:\n",
    "    time.sleep(1)\n",
    "    run = project_client.runs.get(thread_id=thread.id, run_id=run.id)\n",
    "    print(f\"🔄 Status: {run.status}\")\n",
    "\n",
    "    if run.status == \"failed\":\n",
    "        print(f\"❌ Run failed | Error: {run.last_error}\")\n",
    "        break\n",
    "\n",
    "run_steps = project_client.run_steps.list(thread_id=thread.id, run_id=run.id)\n",
    "for step in run_steps:\n",
    "    print(f\"\\n🔍 Step ID details: {step.id}, Type: {step.type}\")\n",
    "    print(f\"Details step: {step}\")\n",
    "\n",
    "# Step 5: Display agent responses\n",
    "print(\"\\n🤖 [5] Agent responses:\")\n",
    "messages = project_client.messages.list(thread_id=thread.id, order=ListSortOrder.ASCENDING)\n",
    "\n",
    "for msg in messages:\n",
    "    print(\"\\033[1;34m\")  # Blue text for agent messages\n",
    "    if msg.text_messages:\n",
    "        last_text = msg.text_messages[-1]\n",
    "        print(f\"💡 → {msg.role}: {last_text.text.value}\")\n",
    "    if msg.url_citation_annotations:\n",
    "        print(\"\\033[1;32m\")  # Green text for citations\n",
    "        idx = 1\n",
    "        for annotation in msg.url_citation_annotations:\n",
    "            print(f\"🔗 Source {idx}: [{annotation.url_citation.title}]({annotation.url_citation.url})\")\n",
    "            idx += 1\n",
    "\n",
    "print(\"\\033[0m\")  # Reset color"
   ]
  },
  {
   "cell_type": "markdown",
   "id": "797fd5ef-80e8-4ee9-854a-4e0f337453a5",
   "metadata": {},
   "source": [
    "### Example 4"
   ]
  },
  {
   "cell_type": "code",
   "execution_count": 32,
   "id": "1382f04d-6737-46c3-ad16-0cb6b8365efc",
   "metadata": {},
   "outputs": [],
   "source": [
    "prompt = \"What are the highlights for Microsoft from fiscal year 2024 compared with fiscal year 2023?\""
   ]
  },
  {
   "cell_type": "code",
   "execution_count": 33,
   "id": "1daa4eae-4eda-4ef3-9459-f6d2aa3eb041",
   "metadata": {},
   "outputs": [
    {
     "name": "stdout",
     "output_type": "stream",
     "text": [
      "🧵 [1] Created thread  | ID: thread_uKpY9LejtTmpgUScKKfVqY6W\n",
      "💬 [2] Created message | ID: msg_icQBGGbVxIA0GIDRL99Z22aY\n",
      "🏃 [3] Created run     | ID: run_YTZR2cssCbPNHAPVQJf742p8\n",
      "⏳ [4] Polling run status...\n",
      "🔄 Status: RunStatus.IN_PROGRESS\n",
      "🔄 Status: RunStatus.IN_PROGRESS\n",
      "🔄 Status: RunStatus.IN_PROGRESS\n",
      "🔄 Status: RunStatus.IN_PROGRESS\n",
      "🔄 Status: RunStatus.IN_PROGRESS\n",
      "🔄 Status: RunStatus.IN_PROGRESS\n",
      "🔄 Status: RunStatus.COMPLETED\n",
      "\n",
      "🔍 Step ID details: step_vzrAX7s5alRmxVcfuvTeZciX, Type: RunStepType.MESSAGE_CREATION\n",
      "Details step: {'id': 'step_vzrAX7s5alRmxVcfuvTeZciX', 'object': 'thread.run.step', 'created_at': 1750345633, 'run_id': 'run_YTZR2cssCbPNHAPVQJf742p8', 'assistant_id': 'asst_ZgQHezDxVSbgdf5kip5fKzbI', 'thread_id': 'thread_uKpY9LejtTmpgUScKKfVqY6W', 'type': 'message_creation', 'status': 'completed', 'cancelled_at': None, 'completed_at': 1750345634, 'expires_at': None, 'failed_at': None, 'last_error': None, 'step_details': {'type': 'message_creation', 'message_creation': {'message_id': 'msg_ObYX0sYZCh7eqbbJ5SqbRiuF'}}, 'usage': {'prompt_tokens': 656, 'completion_tokens': 198, 'total_tokens': 854, 'prompt_token_details': {'cached_tokens': 0}}}\n",
      "\n",
      "🔍 Step ID details: step_e6ONMdwmVJIAABhUojMi5DjF, Type: RunStepType.TOOL_CALLS\n",
      "Details step: {'id': 'step_e6ONMdwmVJIAABhUojMi5DjF', 'object': 'thread.run.step', 'created_at': 1750345627, 'run_id': 'run_YTZR2cssCbPNHAPVQJf742p8', 'assistant_id': 'asst_ZgQHezDxVSbgdf5kip5fKzbI', 'thread_id': 'thread_uKpY9LejtTmpgUScKKfVqY6W', 'type': 'tool_calls', 'status': 'completed', 'cancelled_at': None, 'completed_at': 1750345633, 'expires_at': None, 'failed_at': None, 'last_error': None, 'step_details': {'type': 'tool_calls', 'tool_calls': [{'id': 'call_E7y1CGUq20bbl9VNv8RRkNnF', 'type': 'connected_agent', 'connected_agent': {'name': 'documentagentconnection', 'arguments': '{\"query\":\"highlights from fiscal year 2024 compared with fiscal year 2023\"}', 'output': 'Here are the key highlights from Microsoft’s fiscal year 2024 compared with fiscal year 2023:\\n\\n- **Revenue:** Microsoft’s revenue increased to $211.9 billion in fiscal year 2024, up from $198.3 billion in fiscal year 2023, representing a 7% growth.\\n- **Operating Income:** Operating income rose to $88.5 billion, up from $83.4 billion in the prior year, showing a 6% increase.\\n- **Net Income:** Net income increased to $77.1 billion in fiscal year 2024, compared to $72.4 billion in 2023, a 6% rise.\\n- **Diluted Earnings per Share:** Diluted earnings per share grew to $10.60 in 2024 from $9.68 in 2023, up 10%.\\n- **Cash Returned to Shareholders:** Microsoft returned $43.5 billion to shareholders in the form of share repurchases and dividends, up from $38.5 billion in the previous year.\\n\\nThese figures reflect growth across Microsoft’s key financial metrics in fiscal year 2024 compared to fiscal year 2023 .', 'run_id': 'run_S8ziYmWD2s08PoPZuCZfUXa0', 'thread_id': 'thread_sEZqB2TQRjQNADpUqBSgth4U', 'assistant_id': 'asst_TQ8YQi3u3TJxHRM36wanIhgd'}}]}, 'usage': {'prompt_tokens': 382, 'completion_tokens': 31, 'total_tokens': 413, 'prompt_token_details': {'cached_tokens': 0}}}\n",
      "\n",
      "🤖 [5] Agent responses:\n",
      "\u001b[1;34m\n",
      "💡 → MessageRole.USER: What are the highlights for Microsoft from fiscal year 2024 compared with fiscal year 2023?\n",
      "\u001b[1;34m\n",
      "💡 → MessageRole.AGENT: Here are the key highlights for Microsoft from fiscal year 2024 compared with fiscal year 2023:\n",
      "\n",
      "- Revenue increased to $211.9 billion in FY 2024, up from $198.3 billion in FY 2023, marking a 7% growth.\n",
      "- Operating income rose to $88.5 billion (from $83.4 billion), a 6% increase.\n",
      "- Net income reached $77.1 billion in FY 2024, up from $72.4 billion in FY 2023 (6% rise).\n",
      "- Diluted earnings per share grew to $10.60 (from $9.68), a 10% increase.\n",
      "- Microsoft returned $43.5 billion to shareholders through share repurchases and dividends, up from $38.5 billion in the previous year.\n",
      "\n",
      "These results represent strong growth across Microsoft’s core financial metrics for fiscal year 2024 compared to 2023 .\n",
      "\u001b[0m\n"
     ]
    }
   ],
   "source": [
    "# Step 1: Create a thread\n",
    "thread = project_client.threads.create()\n",
    "print(f\"🧵 [1] Created thread  | ID: {thread.id}\")\n",
    "\n",
    "# Step 2: Send the user's message\n",
    "message = project_client.messages.create(thread_id=thread.id,\n",
    "                                         role=\"user\",\n",
    "                                         content=prompt)\n",
    "print(f\"💬 [2] Created message | ID: {message.id}\")\n",
    "\n",
    "# Step 3: Start a run\n",
    "run = project_client.runs.create(thread_id=thread.id, agent_id=agent.id)\n",
    "print(f\"🏃 [3] Created run     | ID: {run.id}\")\n",
    "\n",
    "# Step 4: Poll run status\n",
    "print(\"⏳ [4] Polling run status...\")\n",
    "while run.status in {\"queued\", \"in_progress\", \"requires_action\"}:\n",
    "    time.sleep(1)\n",
    "    run = project_client.runs.get(thread_id=thread.id, run_id=run.id)\n",
    "    print(f\"🔄 Status: {run.status}\")\n",
    "\n",
    "    if run.status == \"failed\":\n",
    "        print(f\"❌ Run failed | Error: {run.last_error}\")\n",
    "        break\n",
    "\n",
    "run_steps = project_client.run_steps.list(thread_id=thread.id, run_id=run.id)\n",
    "for step in run_steps:\n",
    "    print(f\"\\n🔍 Step ID details: {step.id}, Type: {step.type}\")\n",
    "    print(f\"Details step: {step}\")\n",
    "\n",
    "# Step 5: Display agent responses\n",
    "print(\"\\n🤖 [5] Agent responses:\")\n",
    "messages = project_client.messages.list(thread_id=thread.id, order=ListSortOrder.ASCENDING)\n",
    "\n",
    "for msg in messages:\n",
    "    print(\"\\033[1;34m\")  # Blue text for agent messages\n",
    "    if msg.text_messages:\n",
    "        last_text = msg.text_messages[-1]\n",
    "        print(f\"💡 → {msg.role}: {last_text.text.value}\")\n",
    "    if msg.url_citation_annotations:\n",
    "        print(\"\\033[1;32m\")  # Green text for citations\n",
    "        idx = 1\n",
    "        for annotation in msg.url_citation_annotations:\n",
    "            print(f\"🔗 Source {idx}: [{annotation.url_citation.title}]({annotation.url_citation.url})\")\n",
    "            idx += 1\n",
    "\n",
    "print(\"\\033[0m\")  # Reset color"
   ]
  },
  {
   "cell_type": "markdown",
   "id": "886f0ef0-2427-411b-963b-db5035c8b0e5",
   "metadata": {},
   "source": [
    "### Example 5"
   ]
  },
  {
   "cell_type": "code",
   "execution_count": 34,
   "id": "e2e47702-e113-421b-ad0b-c7ad96ca4a7e",
   "metadata": {},
   "outputs": [],
   "source": [
    "prompt = \"What are the main products and companies mentionned in the 2024 Microsoft annual report?\""
   ]
  },
  {
   "cell_type": "code",
   "execution_count": 35,
   "id": "658152f6-7f3d-4bc6-943b-272ba020fda0",
   "metadata": {},
   "outputs": [
    {
     "name": "stdout",
     "output_type": "stream",
     "text": [
      "🧵 [1] Created thread  | ID: thread_qAar0oMfR7zvXYAAKZ0OPk98\n",
      "💬 [2] Created message | ID: msg_ZQvEvtUTK3PwTAqnpqgEcuLN\n",
      "🏃 [3] Created run     | ID: run_Lpng4pcnz6aZO49xW9Kidayz\n",
      "⏳ [4] Polling run status...\n",
      "🔄 Status: RunStatus.IN_PROGRESS\n",
      "🔄 Status: RunStatus.IN_PROGRESS\n",
      "🔄 Status: RunStatus.IN_PROGRESS\n",
      "🔄 Status: RunStatus.IN_PROGRESS\n",
      "🔄 Status: RunStatus.IN_PROGRESS\n",
      "🔄 Status: RunStatus.IN_PROGRESS\n",
      "🔄 Status: RunStatus.COMPLETED\n",
      "\n",
      "🔍 Step ID details: step_kESmR9rkoNwjr6VPY3krQeBU, Type: RunStepType.MESSAGE_CREATION\n",
      "Details step: {'id': 'step_kESmR9rkoNwjr6VPY3krQeBU', 'object': 'thread.run.step', 'created_at': 1750345646, 'run_id': 'run_Lpng4pcnz6aZO49xW9Kidayz', 'assistant_id': 'asst_ZgQHezDxVSbgdf5kip5fKzbI', 'thread_id': 'thread_qAar0oMfR7zvXYAAKZ0OPk98', 'type': 'message_creation', 'status': 'completed', 'cancelled_at': None, 'completed_at': 1750345647, 'expires_at': None, 'failed_at': None, 'last_error': None, 'step_details': {'type': 'message_creation', 'message_creation': {'message_id': 'msg_5FETpp3qBbwYNkVjvFxfZeeC'}}, 'usage': {'prompt_tokens': 601, 'completion_tokens': 195, 'total_tokens': 796, 'prompt_token_details': {'cached_tokens': 0}}}\n",
      "\n",
      "🔍 Step ID details: step_fZwaS6UzKcR4vBsGEbnODzBg, Type: RunStepType.TOOL_CALLS\n",
      "Details step: {'id': 'step_fZwaS6UzKcR4vBsGEbnODzBg', 'object': 'thread.run.step', 'created_at': 1750345639, 'run_id': 'run_Lpng4pcnz6aZO49xW9Kidayz', 'assistant_id': 'asst_ZgQHezDxVSbgdf5kip5fKzbI', 'thread_id': 'thread_qAar0oMfR7zvXYAAKZ0OPk98', 'type': 'tool_calls', 'status': 'completed', 'cancelled_at': None, 'completed_at': 1750345646, 'expires_at': None, 'failed_at': None, 'last_error': None, 'step_details': {'type': 'tool_calls', 'tool_calls': [{'id': 'call_GtWmL7A65DeP9nzoyWKbirsb', 'type': 'connected_agent', 'connected_agent': {'name': 'documentagentconnection', 'arguments': '{\"query\":\"What are the main products and companies mentioned in the 2024 Microsoft annual report?\"}', 'output': 'The 2024 Microsoft annual report highlights several main products and companies. Here is a summary:\\n\\n### Main Products\\n- Microsoft Azure (cloud computing)\\n- Microsoft 365 (productivity suite)\\n- LinkedIn (professional networking platform)\\n- GitHub (software development platform)\\n- Windows (operating system)\\n- Xbox (gaming)\\n- Dynamics 365 (business applications)\\n- Surface (devices)\\n- Copilot (AI-powered productivity tools)\\n\\n### Companies/Acquisitions/Key Partnerships\\n- LinkedIn\\n- GitHub\\n- Activision Blizzard (gaming acquisition)\\n- Nuance Communications (AI and speech recognition)\\n- OpenAI (strategic partnership for AI technology)\\n\\nThese products and companies are central to Microsoft’s strategy as described in the report, reflecting their focus on cloud, AI, productivity software, gaming, and professional networking.\\n\\nIf you need specific references or details, let me know!', 'run_id': 'run_RZPW3SLY5ILKnQawXRTUriWc', 'thread_id': 'thread_f26p1jmgZfXWhlusgNMY3w1O', 'assistant_id': 'asst_TQ8YQi3u3TJxHRM36wanIhgd'}}]}, 'usage': {'prompt_tokens': 380, 'completion_tokens': 33, 'total_tokens': 413, 'prompt_token_details': {'cached_tokens': 0}}}\n",
      "\n",
      "🤖 [5] Agent responses:\n",
      "\u001b[1;34m\n",
      "💡 → MessageRole.USER: What are the main products and companies mentionned in the 2024 Microsoft annual report?\n",
      "\u001b[1;34m\n",
      "💡 → MessageRole.AGENT: The main products and companies mentioned in the 2024 Microsoft annual report include:\n",
      "\n",
      "**Main Products:**\n",
      "- Microsoft Azure (cloud services platform)\n",
      "- Microsoft 365 (productivity and collaboration suite)\n",
      "- Windows (operating system)\n",
      "- Xbox (gaming console and services)\n",
      "- LinkedIn (professional networking platform)\n",
      "- GitHub (developer platform)\n",
      "- Dynamics 365 (business applications)\n",
      "- Surface (hardware devices)\n",
      "- Copilot (AI-powered productivity tools and assistants)\n",
      "\n",
      "**Important Companies/Acquisitions/Partnerships:**\n",
      "- LinkedIn\n",
      "- GitHub\n",
      "- Activision Blizzard (gaming content, reflecting the acquisition)\n",
      "- Nuance Communications (AI and healthcare tech)\n",
      "- OpenAI (strategic AI partnership)\n",
      "\n",
      "These products and companies represent Microsoft’s major business segments and its focus areas on cloud, artificial intelligence, productivity software, professional networking, development tools, and gaming. For specific details or citations from the report, please let me know!\n",
      "\u001b[0m\n"
     ]
    }
   ],
   "source": [
    "# Step 1: Create a thread\n",
    "thread = project_client.threads.create()\n",
    "print(f\"🧵 [1] Created thread  | ID: {thread.id}\")\n",
    "\n",
    "# Step 2: Send the user's message\n",
    "message = project_client.messages.create(thread_id=thread.id,\n",
    "                                         role=\"user\",\n",
    "                                         content=prompt)\n",
    "print(f\"💬 [2] Created message | ID: {message.id}\")\n",
    "\n",
    "# Step 3: Start a run\n",
    "run = project_client.runs.create(thread_id=thread.id, agent_id=agent.id)\n",
    "print(f\"🏃 [3] Created run     | ID: {run.id}\")\n",
    "\n",
    "# Step 4: Poll run status\n",
    "print(\"⏳ [4] Polling run status...\")\n",
    "while run.status in {\"queued\", \"in_progress\", \"requires_action\"}:\n",
    "    time.sleep(1)\n",
    "    run = project_client.runs.get(thread_id=thread.id, run_id=run.id)\n",
    "    print(f\"🔄 Status: {run.status}\")\n",
    "\n",
    "    if run.status == \"failed\":\n",
    "        print(f\"❌ Run failed | Error: {run.last_error}\")\n",
    "        break\n",
    "\n",
    "run_steps = project_client.run_steps.list(thread_id=thread.id, run_id=run.id)\n",
    "for step in run_steps:\n",
    "    print(f\"\\n🔍 Step ID details: {step.id}, Type: {step.type}\")\n",
    "    print(f\"Details step: {step}\")\n",
    "\n",
    "# Step 5: Display agent responses\n",
    "print(\"\\n🤖 [5] Agent responses:\")\n",
    "messages = project_client.messages.list(thread_id=thread.id, order=ListSortOrder.ASCENDING)\n",
    "\n",
    "for msg in messages:\n",
    "    print(\"\\033[1;34m\")  # Blue text for agent messages\n",
    "    if msg.text_messages:\n",
    "        last_text = msg.text_messages[-1]\n",
    "        print(f\"💡 → {msg.role}: {last_text.text.value}\")\n",
    "    if msg.url_citation_annotations:\n",
    "        print(\"\\033[1;32m\")  # Green text for citations\n",
    "        idx = 1\n",
    "        for annotation in msg.url_citation_annotations:\n",
    "            print(f\"🔗 Source {idx}: [{annotation.url_citation.title}]({annotation.url_citation.url})\")\n",
    "            idx += 1\n",
    "\n",
    "print(\"\\033[0m\")  # Reset color"
   ]
  },
  {
   "cell_type": "markdown",
   "id": "a4ca3bf5-cfbc-4a25-946d-5fae1c3bd95c",
   "metadata": {},
   "source": [
    "## Post processing"
   ]
  },
  {
   "cell_type": "code",
   "execution_count": 36,
   "id": "f742ea05-7c7c-453e-af76-bded891ad32b",
   "metadata": {},
   "outputs": [
    {
     "name": "stdout",
     "output_type": "stream",
     "text": [
      "Agent Details:\n",
      "📛 Name        : stocks-price-agent-demo\n",
      "🆔 ID          : asst_o6t6xgsVMTky16F5EDJcRRh7\n",
      "🧠 Model       : gpt-4.1\n",
      "📜 Instructions: Retrieve the current stock price for a specified company.\n",
      "\n",
      "Agent Details:\n",
      "📛 Name        : currency-convert-agent-demo\n",
      "🆔 ID          : asst_dw064UWdSrY5W3uinIvVovT7\n",
      "🧠 Model       : gpt-4.1\n",
      "📜 Instructions: Retrieve the current currency exchange rate.\n",
      "\n",
      "Agent Details:\n",
      "📛 Name        : document-agent-pdf-demo\n",
      "🆔 ID          : asst_TQ8YQi3u3TJxHRM36wanIhgd\n",
      "🧠 Model       : gpt-4.1\n",
      "📜 Instructions: You are an AI helpful agent to analyse this document which is the Microsoft 2024 annual report\n",
      "\n",
      "Agent Details:\n",
      "📛 Name        : main-agent-demo\n",
      "🆔 ID          : asst_ZgQHezDxVSbgdf5kip5fKzbI\n",
      "🧠 Model       : gpt-4.1\n",
      "📜 Instructions: You are the main AI agent\n",
      "\n"
     ]
    }
   ],
   "source": [
    "agents_list = [stocksprice_agent, currency_convert_agent, document_pdf_agent, main_agent_demo]\n",
    "\n",
    "for agent in agents_list:\n",
    "    print(\n",
    "        f\"Agent Details:\\n\"\n",
    "        f\"📛 Name        : {agent.name}\\n\"\n",
    "        f\"🆔 ID          : {agent.id}\\n\"\n",
    "        f\"🧠 Model       : {agent.model}\\n\"\n",
    "        f\"📜 Instructions: {agent.instructions}\\n\"\n",
    "    )"
   ]
  },
  {
   "cell_type": "code",
   "execution_count": 37,
   "id": "defb18e8-3ba1-4226-8e0f-6d4a770ec5ad",
   "metadata": {},
   "outputs": [
    {
     "name": "stdout",
     "output_type": "stream",
     "text": [
      "Deleted agent, agent ID: asst_o6t6xgsVMTky16F5EDJcRRh7\n",
      "Deleted agent, agent ID: asst_dw064UWdSrY5W3uinIvVovT7\n",
      "Deleted agent, agent ID: asst_TQ8YQi3u3TJxHRM36wanIhgd\n",
      "Deleted agent, agent ID: asst_ZgQHezDxVSbgdf5kip5fKzbI\n"
     ]
    }
   ],
   "source": [
    "for agent in agents_list:\n",
    "    project_client.delete_agent(agent.id)\n",
    "    print(f\"Deleted agent, agent ID: {agent.id}\")"
   ]
  },
  {
   "cell_type": "code",
   "execution_count": null,
   "id": "9f8434c4-4844-4e45-9fb8-60b8df3e138e",
   "metadata": {},
   "outputs": [],
   "source": []
  }
 ],
 "metadata": {
  "kernelspec": {
   "display_name": ".venv",
   "language": "python",
   "name": "python3"
  },
  "language_info": {
   "codemirror_mode": {
    "name": "ipython",
    "version": 3
   },
   "file_extension": ".py",
   "mimetype": "text/x-python",
   "name": "python",
   "nbconvert_exporter": "python",
   "pygments_lexer": "ipython3",
   "version": "3.13.5"
  },
  "varInspector": {
   "cols": {
    "lenName": 16,
    "lenType": 16,
    "lenVar": 40
   },
   "kernels_config": {
    "python": {
     "delete_cmd_postfix": "",
     "delete_cmd_prefix": "del ",
     "library": "var_list.py",
     "varRefreshCmd": "print(var_dic_list())"
    },
    "r": {
     "delete_cmd_postfix": ") ",
     "delete_cmd_prefix": "rm(",
     "library": "var_list.r",
     "varRefreshCmd": "cat(var_dic_list()) "
    }
   },
   "types_to_exclude": [
    "module",
    "function",
    "builtin_function_or_method",
    "instance",
    "_Feature"
   ],
   "window_display": false
  }
 },
 "nbformat": 4,
 "nbformat_minor": 5
}
