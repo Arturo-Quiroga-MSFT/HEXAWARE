{
 "cells": [
  {
   "cell_type": "markdown",
   "id": "8d78328a-d6b3-4368-a54a-304022cd67f9",
   "metadata": {},
   "source": [
    "# Azure AI Foundry project informations"
   ]
  },
  {
   "cell_type": "code",
   "execution_count": 1,
   "id": "ccbc348c",
   "metadata": {},
   "outputs": [],
   "source": [
    "#%pip install matplotlib"
   ]
  },
  {
   "cell_type": "code",
   "execution_count": 2,
   "id": "d3d24d09-6016-494c-8b86-84c545541d90",
   "metadata": {},
   "outputs": [],
   "source": [
    "import datetime\n",
    "import pandas as pd\n",
    "import sys\n",
    "import os\n",
    "import json\n",
    "import time\n",
    "\n",
    "from azure.ai.projects import AIProjectClient\n",
    "from azure.identity import DefaultAzureCredential\n",
    "from dotenv import load_dotenv"
   ]
  },
  {
   "cell_type": "code",
   "execution_count": 3,
   "id": "e0dbb0b3-5df6-4e52-a0d5-27965d169cc3",
   "metadata": {},
   "outputs": [
    {
     "data": {
      "text/plain": [
       "'3.12.10 (v3.12.10:0cc81280367, Apr  8 2025, 08:46:59) [Clang 13.0.0 (clang-1300.0.29.30)]'"
      ]
     },
     "execution_count": 3,
     "metadata": {},
     "output_type": "execute_result"
    }
   ],
   "source": [
    "sys.version"
   ]
  },
  {
   "cell_type": "code",
   "execution_count": 4,
   "id": "145699a7-7fd4-44c5-b604-4ada192ac74a",
   "metadata": {},
   "outputs": [
    {
     "name": "stdout",
     "output_type": "stream",
     "text": [
      "Today is 11-Jul-2025 11:25:05\n"
     ]
    }
   ],
   "source": [
    "print(f\"Today is {datetime.datetime.today().strftime('%d-%b-%Y %H:%M:%S')}\")"
   ]
  },
  {
   "cell_type": "markdown",
   "id": "1f68fcf9-cfa2-4eda-95dd-832abfb24053",
   "metadata": {},
   "source": [
    "## Project client"
   ]
  },
  {
   "cell_type": "code",
   "execution_count": 5,
   "id": "e5054054-6913-4c72-9823-bb011e4ff62c",
   "metadata": {},
   "outputs": [],
   "source": [
    "load_dotenv()\n",
    "\n",
    "#azure_foundry_project = os.getenv(\"PROJECT_ENDPOINT\")\n",
    "azure_foundry_project = \"https://aq-aifoundry-westus.services.ai.azure.com/api/projects/firstProject\""
   ]
  },
  {
   "cell_type": "code",
   "execution_count": 6,
   "id": "ab194110-35eb-4348-ae4e-99936d2b6348",
   "metadata": {},
   "outputs": [],
   "source": [
    "project_client = AIProjectClient(\n",
    "    credential=DefaultAzureCredential(),\n",
    "    endpoint=azure_foundry_project,\n",
    ")"
   ]
  },
  {
   "cell_type": "markdown",
   "id": "4e42f932-d668-4aa4-ab4a-6f4001d5c594",
   "metadata": {},
   "source": [
    "## Project deployed models and connections"
   ]
  },
  {
   "cell_type": "code",
   "execution_count": 7,
   "id": "a99a1062-ed0d-4978-9095-41475f24f757",
   "metadata": {},
   "outputs": [
    {
     "data": {
      "application/vnd.microsoft.datawrangler.viewer.v0+json": {
       "columns": [
        {
         "name": "index",
         "rawType": "int64",
         "type": "integer"
        }
       ],
       "ref": "286481ee-a943-40f0-b60d-7054fb38a92a",
       "rows": [],
       "shape": {
        "columns": 0,
        "rows": 0
       }
      },
      "text/html": [
       "<div>\n",
       "<style scoped>\n",
       "    .dataframe tbody tr th:only-of-type {\n",
       "        vertical-align: middle;\n",
       "    }\n",
       "\n",
       "    .dataframe tbody tr th {\n",
       "        vertical-align: top;\n",
       "    }\n",
       "\n",
       "    .dataframe thead th {\n",
       "        text-align: right;\n",
       "    }\n",
       "</style>\n",
       "<table border=\"1\" class=\"dataframe\">\n",
       "  <thead>\n",
       "    <tr style=\"text-align: right;\">\n",
       "      <th></th>\n",
       "    </tr>\n",
       "  </thead>\n",
       "  <tbody>\n",
       "  </tbody>\n",
       "</table>\n",
       "</div>"
      ],
      "text/plain": [
       "Empty DataFrame\n",
       "Columns: []\n",
       "Index: []"
      ]
     },
     "execution_count": 7,
     "metadata": {},
     "output_type": "execute_result"
    }
   ],
   "source": [
    "deploy_list = []\n",
    "\n",
    "for deployment in project_client.deployments.list():\n",
    "    deploy_list.append({\n",
    "        \"name\":\n",
    "        deployment[\"name\"],\n",
    "        \"model\":\n",
    "        deployment[\"modelName\"],\n",
    "        \"version\":\n",
    "        deployment[\"modelVersion\"],\n",
    "        \"publisher\":\n",
    "        deployment[\"modelPublisher\"],\n",
    "        \"capabilities\":\n",
    "        \", \".join(deployment[\"capabilities\"].keys()),\n",
    "        \"sku\":\n",
    "        deployment[\"sku\"][\"name\"],\n",
    "        \"capacity\":\n",
    "        deployment[\"sku\"][\"capacity\"],\n",
    "    })\n",
    "\n",
    "df = pd.DataFrame(deploy_list)\n",
    "df"
   ]
  },
  {
   "cell_type": "code",
   "execution_count": 8,
   "id": "fb554d84-039a-4f85-bc8b-cd627bcd244f",
   "metadata": {},
   "outputs": [
    {
     "ename": "KeyError",
     "evalue": "'publisher'",
     "output_type": "error",
     "traceback": [
      "\u001b[31m---------------------------------------------------------------------------\u001b[39m",
      "\u001b[31mKeyError\u001b[39m                                  Traceback (most recent call last)",
      "\u001b[36mCell\u001b[39m\u001b[36m \u001b[39m\u001b[32mIn[8]\u001b[39m\u001b[32m, line 1\u001b[39m\n\u001b[32m----> \u001b[39m\u001b[32m1\u001b[39m \u001b[43mdf\u001b[49m\u001b[43m[\u001b[49m\u001b[33;43m'\u001b[39;49m\u001b[33;43mpublisher\u001b[39;49m\u001b[33;43m'\u001b[39;49m\u001b[43m]\u001b[49m.value_counts(sort=\u001b[38;5;28;01mTrue\u001b[39;00m).plot.barh()\n",
      "\u001b[36mFile \u001b[39m\u001b[32m~/GITHUB/AZURE AI AGENT SERVICE/.venv/lib/python3.12/site-packages/pandas/core/frame.py:4107\u001b[39m, in \u001b[36mDataFrame.__getitem__\u001b[39m\u001b[34m(self, key)\u001b[39m\n\u001b[32m   4105\u001b[39m \u001b[38;5;28;01mif\u001b[39;00m \u001b[38;5;28mself\u001b[39m.columns.nlevels > \u001b[32m1\u001b[39m:\n\u001b[32m   4106\u001b[39m     \u001b[38;5;28;01mreturn\u001b[39;00m \u001b[38;5;28mself\u001b[39m._getitem_multilevel(key)\n\u001b[32m-> \u001b[39m\u001b[32m4107\u001b[39m indexer = \u001b[38;5;28;43mself\u001b[39;49m\u001b[43m.\u001b[49m\u001b[43mcolumns\u001b[49m\u001b[43m.\u001b[49m\u001b[43mget_loc\u001b[49m\u001b[43m(\u001b[49m\u001b[43mkey\u001b[49m\u001b[43m)\u001b[49m\n\u001b[32m   4108\u001b[39m \u001b[38;5;28;01mif\u001b[39;00m is_integer(indexer):\n\u001b[32m   4109\u001b[39m     indexer = [indexer]\n",
      "\u001b[36mFile \u001b[39m\u001b[32m~/GITHUB/AZURE AI AGENT SERVICE/.venv/lib/python3.12/site-packages/pandas/core/indexes/range.py:417\u001b[39m, in \u001b[36mRangeIndex.get_loc\u001b[39m\u001b[34m(self, key)\u001b[39m\n\u001b[32m    415\u001b[39m         \u001b[38;5;28;01mraise\u001b[39;00m \u001b[38;5;167;01mKeyError\u001b[39;00m(key) \u001b[38;5;28;01mfrom\u001b[39;00m\u001b[38;5;250m \u001b[39m\u001b[34;01merr\u001b[39;00m\n\u001b[32m    416\u001b[39m \u001b[38;5;28;01mif\u001b[39;00m \u001b[38;5;28misinstance\u001b[39m(key, Hashable):\n\u001b[32m--> \u001b[39m\u001b[32m417\u001b[39m     \u001b[38;5;28;01mraise\u001b[39;00m \u001b[38;5;167;01mKeyError\u001b[39;00m(key)\n\u001b[32m    418\u001b[39m \u001b[38;5;28mself\u001b[39m._check_indexing_error(key)\n\u001b[32m    419\u001b[39m \u001b[38;5;28;01mraise\u001b[39;00m \u001b[38;5;167;01mKeyError\u001b[39;00m(key)\n",
      "\u001b[31mKeyError\u001b[39m: 'publisher'"
     ]
    }
   ],
   "source": [
    "df['publisher'].value_counts(sort=True).plot.barh()"
   ]
  },
  {
   "cell_type": "code",
   "execution_count": null,
   "id": "73f6c102-2e2e-4d12-9490-b1c749beb19d",
   "metadata": {},
   "outputs": [],
   "source": [
    "df['capabilities'].value_counts(sort=True).plot.barh()"
   ]
  },
  {
   "cell_type": "code",
   "execution_count": null,
   "id": "c9220005-2428-46f8-bed2-4dabbea3d5b0",
   "metadata": {},
   "outputs": [],
   "source": [
    "df['sku'].value_counts(sort=True).plot.barh()"
   ]
  },
  {
   "cell_type": "code",
   "execution_count": null,
   "id": "644bea8d-061a-4a41-b861-5c252280d8d6",
   "metadata": {},
   "outputs": [],
   "source": [
    "model_publisher = \"DeepSeek\"\n",
    "\n",
    "for deployment in project_client.deployments.list(\n",
    "        model_publisher=model_publisher):\n",
    "    print(deployment)\n",
    "    print()"
   ]
  },
  {
   "cell_type": "code",
   "execution_count": null,
   "id": "95e7efcd-476e-450e-b1a9-14455d96cf19",
   "metadata": {},
   "outputs": [],
   "source": [
    "model_name = \"o4-mini\"\n",
    "\n",
    "for deployment in project_client.deployments.list(model_name=model_name):\n",
    "    print(deployment)"
   ]
  },
  {
   "cell_type": "code",
   "execution_count": null,
   "id": "7536cd49-586c-4909-9bac-ee52e0f5f25f",
   "metadata": {},
   "outputs": [],
   "source": [
    "print(\"List all connections:\\n\")\n",
    "\n",
    "for connection in project_client.connections.list():\n",
    "    print(f\"{connection.name:70} {connection.type}\")"
   ]
  }
 ],
 "metadata": {
  "kernelspec": {
   "display_name": ".venv (3.12.10)",
   "language": "python",
   "name": "python3"
  },
  "language_info": {
   "codemirror_mode": {
    "name": "ipython",
    "version": 3
   },
   "file_extension": ".py",
   "mimetype": "text/x-python",
   "name": "python",
   "nbconvert_exporter": "python",
   "pygments_lexer": "ipython3",
   "version": "3.12.10"
  },
  "varInspector": {
   "cols": {
    "lenName": 16,
    "lenType": 16,
    "lenVar": 40
   },
   "kernels_config": {
    "python": {
     "delete_cmd_postfix": "",
     "delete_cmd_prefix": "del ",
     "library": "var_list.py",
     "varRefreshCmd": "print(var_dic_list())"
    },
    "r": {
     "delete_cmd_postfix": ") ",
     "delete_cmd_prefix": "rm(",
     "library": "var_list.r",
     "varRefreshCmd": "cat(var_dic_list()) "
    }
   },
   "types_to_exclude": [
    "module",
    "function",
    "builtin_function_or_method",
    "instance",
    "_Feature"
   ],
   "window_display": false
  }
 },
 "nbformat": 4,
 "nbformat_minor": 5
}
