{
 "cells": [
  {
   "cell_type": "markdown",
   "id": "431cc026-279f-4105-8444-f1b93650da0d",
   "metadata": {},
   "source": [
    "# Azure AI Agent service - Bing custom search\n",
    "\n",
    "<img src=\"https://learn.microsoft.com/en-us/azure/ai-services/agents/media/agent-service-the-glue.png\" width=800>\n",
    "\n",
    "> https://learn.microsoft.com/en-us/azure/ai-services/agents/"
   ]
  },
  {
   "cell_type": "code",
   "execution_count": 1,
   "id": "d75f0533-95e2-44fe-b8ed-d525b4c25b77",
   "metadata": {},
   "outputs": [],
   "source": [
    "#%pip install azure-ai-projects"
   ]
  },
  {
   "cell_type": "code",
   "execution_count": 2,
   "id": "22eab459-0adb-42c1-86dd-ee4cdfb77c8a",
   "metadata": {},
   "outputs": [],
   "source": [
    "import datetime\n",
    "import os\n",
    "import sys\n",
    "\n",
    "from azure.ai.agents import AgentsClient\n",
    "from azure.identity import DefaultAzureCredential\n",
    "from azure.ai.agents.models import BingCustomSearchTool, MessageRole\n",
    "from dotenv import load_dotenv"
   ]
  },
  {
   "cell_type": "code",
   "execution_count": 3,
   "id": "65334de7-4005-401a-89c1-be24f75abbd9",
   "metadata": {},
   "outputs": [
    {
     "data": {
      "text/plain": [
       "True"
      ]
     },
     "execution_count": 3,
     "metadata": {},
     "output_type": "execute_result"
    }
   ],
   "source": [
    "load_dotenv()"
   ]
  },
  {
   "cell_type": "code",
   "execution_count": 4,
   "id": "92834c8e-8efd-40c9-b599-33e6fb95516e",
   "metadata": {},
   "outputs": [
    {
     "name": "stdout",
     "output_type": "stream",
     "text": [
      "Today is 17-Jun-2025 11:20:28\n"
     ]
    }
   ],
   "source": [
    "print(f\"Today is {datetime.datetime.today().strftime('%d-%b-%Y %H:%M:%S')}\")"
   ]
  },
  {
   "cell_type": "markdown",
   "id": "54fa0903-f907-4c7f-a51b-4893d15ff371",
   "metadata": {},
   "source": [
    "## 1. Grounding with Bing Custom Search"
   ]
  },
  {
   "cell_type": "markdown",
   "id": "3ac0a60b-b688-4970-ba23-781f2196b75c",
   "metadata": {},
   "source": [
    "### Connect to AI Foundry"
   ]
  },
  {
   "cell_type": "code",
   "execution_count": 5,
   "id": "76c7bbb7-0faa-4500-ba42-7c5b176f6196",
   "metadata": {},
   "outputs": [],
   "source": [
    "project_client = AgentsClient(\n",
    "    endpoint=os.getenv(\"PROJECT_ENDPOINT\"),\n",
    "    credential=DefaultAzureCredential(),\n",
    ")"
   ]
  },
  {
   "cell_type": "markdown",
   "id": "e31b2d3a",
   "metadata": {},
   "source": [
    "### Create connection to custom bing grounding service, the config only has ARXIV.ORG in it !!"
   ]
  },
  {
   "cell_type": "code",
   "execution_count": 6,
   "id": "5c20b2ef-e913-4dc0-8bdf-116772d8fc9a",
   "metadata": {},
   "outputs": [],
   "source": [
    "# [START create_agent_with_bing_grounding_tool]\n",
    "conn_id = os.getenv(\"BING_CUSTOM_CONNECTION_ID\")\n",
    "\n",
    "# Initialize Bing Custom Search tool with connection id and instance name\n",
    "bing_custom_tool = BingCustomSearchTool(connection_id=conn_id, instance_name=\"first-config\")"
   ]
  },
  {
   "cell_type": "markdown",
   "id": "1db5f5d1",
   "metadata": {},
   "source": [
    "### Create agent with Bing Grounding tool"
   ]
  },
  {
   "cell_type": "code",
   "execution_count": 7,
   "id": "f85e9d94-49a7-4d4e-a0ea-f64987951cb4",
   "metadata": {},
   "outputs": [
    {
     "name": "stdout",
     "output_type": "stream",
     "text": [
      "Created agent, ID: asst_JCxzqPPvFkFkGVYsHBT3dOZV\n"
     ]
    },
    {
     "data": {
      "text/plain": [
       "[{'type': 'bing_custom_search', 'bing_custom_search': {'search_configurations': [{'connection_id': '/subscriptions/7a28b21e-0d3e-4435-a686-d92889d4ee96/resourceGroups/AI-FOUNDRY-RG/providers/Microsoft.CognitiveServices/accounts/aq-ai-foundry-Sweden-Central/projects/firstProject/connections/aqbingcustomsearch002', 'instance_name': 'first-config', 'market': '', 'set_lang': '', 'count': 5, 'freshness': ''}]}}]"
      ]
     },
     "execution_count": 7,
     "metadata": {},
     "output_type": "execute_result"
    }
   ],
   "source": [
    "# Create the agent with the Bing grounding tool\n",
    "instructions = \"You are an AI Agent that can do some web search using Bing\"\n",
    "agent = project_client.create_agent(\n",
    "        model=os.getenv(\"MODEL_DEPLOYMENT_NAME\"),\n",
    "        name=\"my-bing-grounding-agent\",\n",
    "        instructions=instructions,\n",
    "        tools=bing_custom_tool.definitions,\n",
    "        headers={\"x-ms-enable-preview\": \"true\"}\n",
    "    )\n",
    "    # [END create_agent_with_bing_grounding_tool]\n",
    "\n",
    "print(f\"Created agent, ID: {agent.id}\")\n",
    "\n",
    "bing_custom_tool\n",
    "bing_custom_tool.definitions\n"
   ]
  },
  {
   "cell_type": "markdown",
   "id": "b4564c5d",
   "metadata": {},
   "source": [
    "### Create THREAD"
   ]
  },
  {
   "cell_type": "code",
   "execution_count": 8,
   "id": "dd35b8d1-10ce-44a3-8d47-dea2854e73b8",
   "metadata": {},
   "outputs": [
    {
     "name": "stdout",
     "output_type": "stream",
     "text": [
      "Created thread, ID: thread_IJA14Pdh1xl8kzp0Lj3zj6ay\n"
     ]
    }
   ],
   "source": [
    "# Create thread for communication\n",
    "thread = project_client.threads.create()\n",
    "print(f\"Created thread, ID: {thread.id}\")"
   ]
  },
  {
   "cell_type": "markdown",
   "id": "e037d937",
   "metadata": {},
   "source": [
    "### Example #1"
   ]
  },
  {
   "cell_type": "code",
   "execution_count": 9,
   "id": "411697dc-ec6b-4d80-8871-6d10003084d6",
   "metadata": {},
   "outputs": [],
   "source": [
    "query = \"what is are the latest news on AI?\""
   ]
  },
  {
   "cell_type": "markdown",
   "id": "57c1f298",
   "metadata": {},
   "source": [
    "### Create first message in the thread"
   ]
  },
  {
   "cell_type": "code",
   "execution_count": 10,
   "id": "03490def-7224-4253-813f-405f609d33b3",
   "metadata": {},
   "outputs": [
    {
     "name": "stdout",
     "output_type": "stream",
     "text": [
      "Created message, ID: msg_tRswqy0osOLWS9CWOUFhRHZj\n"
     ]
    }
   ],
   "source": [
    "# Create message to thread\n",
    "message = project_client.messages.create(\n",
    "    thread_id=thread.id,\n",
    "    role=\"user\",\n",
    "    content=query,\n",
    ")\n",
    "\n",
    "print(f\"Created message, ID: {message.id}\")"
   ]
  },
  {
   "cell_type": "markdown",
   "id": "1dabc0cd",
   "metadata": {},
   "source": [
    "### Create first RUN"
   ]
  },
  {
   "cell_type": "code",
   "execution_count": 11,
   "id": "dba66684",
   "metadata": {},
   "outputs": [
    {
     "name": "stdout",
     "output_type": "stream",
     "text": [
      "Run finished with status: RunStatus.COMPLETED\n"
     ]
    }
   ],
   "source": [
    "# Create and process agent run in thread with tools\n",
    "run = project_client.runs.create_and_process(thread_id=thread.id, agent_id=agent.id)\n",
    "print(f\"Run finished with status: {run.status}\")\n",
    "\n",
    "if run.status == \"failed\":\n",
    "    print(f\"Run failed: {run.last_error}\")"
   ]
  },
  {
   "cell_type": "markdown",
   "id": "af0c946e",
   "metadata": {},
   "source": [
    "### Check status of the RUN and tool calls"
   ]
  },
  {
   "cell_type": "code",
   "execution_count": 12,
   "id": "e80d8ce3",
   "metadata": {},
   "outputs": [
    {
     "name": "stdout",
     "output_type": "stream",
     "text": [
      "Step step_VrZN8NcKWi8XBhKafp0OWVqQ status: completed\n",
      "Step step_ugOV40dN6Jbv6lrZRiVJ2LVO status: completed\n",
      "  Tool calls:\n",
      "    Tool Call ID: call_qIRvwIfxoXLZ8qCxhxgBVDNB\n",
      "    Type: bing_custom_search\n",
      "\n"
     ]
    },
    {
     "data": {
      "text/plain": [
       "{'prompt_tokens': 11189, 'completion_tokens': 485, 'total_tokens': 11674, 'prompt_token_details': {'cached_tokens': 0}}"
      ]
     },
     "execution_count": 12,
     "metadata": {},
     "output_type": "execute_result"
    }
   ],
   "source": [
    "# Fetch run steps to get the details of the agent run\n",
    "run_steps = project_client.run_steps.list(thread_id=thread.id, run_id=run.id)\n",
    "for step in run_steps:\n",
    "    print(f\"Step {step['id']} status: {step['status']}\")\n",
    "    step_details = step.get(\"step_details\", {})\n",
    "    tool_calls = step_details.get(\"tool_calls\", [])\n",
    "\n",
    "    if tool_calls:\n",
    "        print(\"  Tool calls:\")\n",
    "        for call in tool_calls:\n",
    "            print(f\"    Tool Call ID: {call.get('id')}\")\n",
    "            print(f\"    Type: {call.get('type')}\")\n",
    "\n",
    "            bing_grounding_details = call.get(\"bing_grounding\", {})\n",
    "            if bing_grounding_details:\n",
    "                print(f\"    Bing Grounding ID: {bing_grounding_details.get('requesturl')}\")\n",
    "\n",
    "print()  # add an extra newline between steps\n",
    "\n",
    "run.usage\n"
   ]
  },
  {
   "cell_type": "markdown",
   "id": "a7146f88",
   "metadata": {},
   "source": [
    "### Get response"
   ]
  },
  {
   "cell_type": "code",
   "execution_count": 13,
   "id": "ca0e63af",
   "metadata": {},
   "outputs": [
    {
     "name": "stdout",
     "output_type": "stream",
     "text": [
      "Agent response: Some of the latest news and updates on AI as of June 2025 include:\n",
      "\n",
      "- The release of the Artificial Intelligence Index Report 2025, which discusses AI's accelerating impact on society, the economy, and global governance. New topics in this year’s report include advancements in AI hardware, unique estimates of AI inference costs, and trends in AI publishing and patents. There's also more on how businesses are adopting responsible AI and on AI's growing role in science and medicine【3:0†[2504.07139] Artificial Intelligence Index Report 2025 - arXiv.org†https://arxiv.org/abs/2504.07139】.\n",
      "- Recent AI research has focused on self-supervised video models (V-JEPA 2), new approaches for AI agents in strategic decision-making, value alignment in agentic AI systems, and the increased speed and efficiency in planning algorithms for AI (such as fast Monte Carlo tree diffusion)【3:1†Artificial Intelligence - arXiv.org†https://arxiv.org/list/cs.AI/recent】.\n",
      "- Studies in human-AI interaction suggest that AI is increasingly capable of supporting complex human teams and assisting in areas such as clinical reasoning, accessibility for users with disabilities, and in mixed-reality environments【3:3†Human-Computer Interaction - arXiv.org†https://arxiv.org/list/cs.HC/recent】.\n",
      "- On the technical side, new research discusses how AI's ability to complete long, complex tasks has been growing quickly, and some predictions suggest that in just a few years, AI could automate many tasks that now take humans weeks to perform【3:2†[2503.14499] Measuring AI Ability to Complete Long Tasks - arXiv.org†https://arxiv.org/abs/2503.14499】.\n",
      "- In machine learning, there are new insights in quantum-classical hybrid models, uncertainty quantification for large language models, and better fairness testing for AI decisions, reflecting the ongoing push for robust and trustworthy AI systems【3:4†Machine Learning - arXiv.org†https://arxiv.org/list/stat.ML/recent】.\n",
      "\n",
      "If you want the very latest headline news on commercial AI industry moves, ask for updates on specific companies or sectors!\n",
      "URL Citation: [[2504.07139] Artificial Intelligence Index Report 2025 - arXiv.org](https://arxiv.org/abs/2504.07139)\n",
      "URL Citation: [Artificial Intelligence - arXiv.org](https://arxiv.org/list/cs.AI/recent)\n",
      "URL Citation: [Human-Computer Interaction - arXiv.org](https://arxiv.org/list/cs.HC/recent)\n",
      "URL Citation: [[2503.14499] Measuring AI Ability to Complete Long Tasks - arXiv.org](https://arxiv.org/abs/2503.14499)\n",
      "URL Citation: [Machine Learning - arXiv.org](https://arxiv.org/list/stat.ML/recent)\n"
     ]
    }
   ],
   "source": [
    "# Print the Agent's response message with optional citation\n",
    "response_message = project_client.messages.get_last_message_by_role(thread_id=thread.id, role=MessageRole.AGENT)\n",
    "if response_message:\n",
    "    for text_message in response_message.text_messages:\n",
    "        print(f\"Agent response: {text_message.text.value}\")\n",
    "    for annotation in response_message.url_citation_annotations:\n",
    "        print(f\"URL Citation: [{annotation.url_citation.title}]({annotation.url_citation.url})\")"
   ]
  },
  {
   "cell_type": "markdown",
   "id": "c7cf6b14",
   "metadata": {},
   "source": [
    "### Example #2"
   ]
  },
  {
   "cell_type": "code",
   "execution_count": 14,
   "id": "547a800a-7563-4a01-a846-c9953b31378a",
   "metadata": {},
   "outputs": [],
   "source": [
    "query = \"find out about the latest iPhone\""
   ]
  },
  {
   "cell_type": "code",
   "execution_count": 15,
   "id": "e8877602",
   "metadata": {},
   "outputs": [
    {
     "name": "stdout",
     "output_type": "stream",
     "text": [
      "Created message, ID: msg_MmUSQWArezepwBXV7UMDLvub\n"
     ]
    }
   ],
   "source": [
    "# Create message to thread\n",
    "message = project_client.messages.create(\n",
    "    thread_id=thread.id,\n",
    "    role=\"user\",\n",
    "    content=query,\n",
    ")\n",
    "\n",
    "print(f\"Created message, ID: {message.id}\")"
   ]
  },
  {
   "cell_type": "code",
   "execution_count": 16,
   "id": "cbb3202b",
   "metadata": {},
   "outputs": [
    {
     "name": "stdout",
     "output_type": "stream",
     "text": [
      "Run finished with status: RunStatus.COMPLETED\n"
     ]
    }
   ],
   "source": [
    "# Create and process agent run in thread with tools\n",
    "run = project_client.runs.create_and_process(thread_id=thread.id, agent_id=agent.id)\n",
    "print(f\"Run finished with status: {run.status}\")\n",
    "\n",
    "if run.status == \"failed\":\n",
    "    print(f\"Run failed: {run.last_error}\")"
   ]
  },
  {
   "cell_type": "code",
   "execution_count": 17,
   "id": "8f099ab3",
   "metadata": {},
   "outputs": [
    {
     "name": "stdout",
     "output_type": "stream",
     "text": [
      "Step step_sfoyQgom0mtDJukONsfCBkvo status: completed\n",
      "Step step_PXWxgBZYQv0S6gkPoEEKFzZD status: completed\n",
      "  Tool calls:\n",
      "    Tool Call ID: call_mAVnTujfg60DIfmm6W2ROsRX\n",
      "    Type: bing_custom_search\n",
      "\n"
     ]
    },
    {
     "data": {
      "text/plain": [
       "{'prompt_tokens': 9348, 'completion_tokens': 171, 'total_tokens': 9519, 'prompt_token_details': {'cached_tokens': 0}}"
      ]
     },
     "execution_count": 17,
     "metadata": {},
     "output_type": "execute_result"
    }
   ],
   "source": [
    "# Fetch run steps to get the details of the agent run\n",
    "run_steps = project_client.run_steps.list(thread_id=thread.id, run_id=run.id)\n",
    "for step in run_steps:\n",
    "    print(f\"Step {step['id']} status: {step['status']}\")\n",
    "    step_details = step.get(\"step_details\", {})\n",
    "    tool_calls = step_details.get(\"tool_calls\", [])\n",
    "\n",
    "    if tool_calls:\n",
    "        print(\"  Tool calls:\")\n",
    "        for call in tool_calls:\n",
    "            print(f\"    Tool Call ID: {call.get('id')}\")\n",
    "            print(f\"    Type: {call.get('type')}\")\n",
    "\n",
    "            bing_grounding_details = call.get(\"bing_grounding\", {})\n",
    "            if bing_grounding_details:\n",
    "                print(f\"    Bing Grounding ID: {bing_grounding_details.get('requesturl')}\")\n",
    "\n",
    "print()  # add an extra newline between steps\n",
    "\n",
    "run.usage"
   ]
  },
  {
   "cell_type": "code",
   "execution_count": 18,
   "id": "6ff39030",
   "metadata": {},
   "outputs": [
    {
     "name": "stdout",
     "output_type": "stream",
     "text": [
      "Agent response: The latest iPhone, expected to be called the iPhone 17, is rumored to be launching in September 2025. Leaks and reports suggest it will feature a thinner and lighter design, improved battery life, and possibly a new type of display technology for better brightness and efficiency. Enhanced AI integration is also expected, especially for on-device tasks such as photography, voice control, and productivity. The devices may offer up to 2TB of storage, and some sources speculate about advanced camera features and new colors. However, as of mid-June 2025, Apple has not officially confirmed these details, and the full specifications will be revealed closer to the launch date.\n",
      "\n",
      "If you want specifics on hardware or features, let me know!\n"
     ]
    }
   ],
   "source": [
    "# Print the Agent's response message with optional citation\n",
    "response_message = project_client.messages.get_last_message_by_role(thread_id=thread.id, role=MessageRole.AGENT)\n",
    "if response_message:\n",
    "    for text_message in response_message.text_messages:\n",
    "        print(f\"Agent response: {text_message.text.value}\")\n",
    "    for annotation in response_message.url_citation_annotations:\n",
    "        print(f\"URL Citation: [{annotation.url_citation.title}]({annotation.url_citation.url})\")"
   ]
  },
  {
   "cell_type": "markdown",
   "id": "8953bb8f",
   "metadata": {},
   "source": [
    "### Example #3"
   ]
  },
  {
   "cell_type": "code",
   "execution_count": 19,
   "id": "06f3df88-e34c-4e75-a765-8b72073517e1",
   "metadata": {},
   "outputs": [],
   "source": [
    "query = \"What is the weather informations for Mexico city? Show the report and use emojis and be funny\""
   ]
  },
  {
   "cell_type": "code",
   "execution_count": 20,
   "id": "543d4b7b",
   "metadata": {},
   "outputs": [
    {
     "name": "stdout",
     "output_type": "stream",
     "text": [
      "Created message, ID: msg_y7rxaMopQxTEFqBrLWQ4k4P2\n"
     ]
    }
   ],
   "source": [
    "# Create message to thread\n",
    "message = project_client.messages.create(\n",
    "    thread_id=thread.id,\n",
    "    role=\"user\",\n",
    "    content=query,\n",
    ")\n",
    "\n",
    "print(f\"Created message, ID: {message.id}\")"
   ]
  },
  {
   "cell_type": "code",
   "execution_count": 21,
   "id": "2ea5faeb",
   "metadata": {},
   "outputs": [
    {
     "name": "stdout",
     "output_type": "stream",
     "text": [
      "Run finished with status: RunStatus.COMPLETED\n"
     ]
    }
   ],
   "source": [
    "# Create and process agent run in thread with tools\n",
    "run = project_client.runs.create_and_process(thread_id=thread.id, agent_id=agent.id)\n",
    "print(f\"Run finished with status: {run.status}\")\n",
    "\n",
    "if run.status == \"failed\":\n",
    "    print(f\"Run failed: {run.last_error}\")"
   ]
  },
  {
   "cell_type": "code",
   "execution_count": 22,
   "id": "8395971f",
   "metadata": {},
   "outputs": [
    {
     "name": "stdout",
     "output_type": "stream",
     "text": [
      "Step step_VhDL0Q1MQyLeirgnKISfS5wX status: completed\n",
      "Step step_x3Pc3ThlAdpKxXtDsCxYUY75 status: completed\n",
      "  Tool calls:\n",
      "    Tool Call ID: call_PMZjCo8R2rEHD1NeP275FIi2\n",
      "    Type: bing_custom_search\n",
      "\n"
     ]
    },
    {
     "data": {
      "text/plain": [
       "{'prompt_tokens': 4335, 'completion_tokens': 262, 'total_tokens': 4597, 'prompt_token_details': {'cached_tokens': 0}}"
      ]
     },
     "execution_count": 22,
     "metadata": {},
     "output_type": "execute_result"
    }
   ],
   "source": [
    "# Fetch run steps to get the details of the agent run\n",
    "run_steps = project_client.run_steps.list(thread_id=thread.id, run_id=run.id)\n",
    "for step in run_steps:\n",
    "    print(f\"Step {step['id']} status: {step['status']}\")\n",
    "    step_details = step.get(\"step_details\", {})\n",
    "    tool_calls = step_details.get(\"tool_calls\", [])\n",
    "\n",
    "    if tool_calls:\n",
    "        print(\"  Tool calls:\")\n",
    "        for call in tool_calls:\n",
    "            print(f\"    Tool Call ID: {call.get('id')}\")\n",
    "            print(f\"    Type: {call.get('type')}\")\n",
    "\n",
    "            bing_grounding_details = call.get(\"bing_grounding\", {})\n",
    "            if bing_grounding_details:\n",
    "                print(f\"    Bing Grounding ID: {bing_grounding_details.get('requesturl')}\")\n",
    "\n",
    "print()  # add an extra newline between steps\n",
    "\n",
    "run.usage"
   ]
  },
  {
   "cell_type": "code",
   "execution_count": 23,
   "id": "7b3f4698",
   "metadata": {},
   "outputs": [
    {
     "name": "stdout",
     "output_type": "stream",
     "text": [
      "Agent response: 🌞 Mexico City Weather Report! 🌦️\n",
      "\n",
      "Hello from the land of tacos and traffic! 🌮🚗 As of today, Mexico City is dancing between mild sun and a chance of afternoon showers (because, of course, those umbrellas want to feel useful too ☔). Expect daytime highs around 24°C (75°F) 🌡️—warm enough that the quesadillas melt just right, but not so hot that you need to fry an egg on the pavement (yet 🥚🔥)! Nights might cool down to around 13°C (55°F), so bring a light jacket unless you prefer to shiver salsa-style! 💃\n",
      "\n",
      "Humidity is high enough to frizz your hair into an Aztec pyramid, but at least the cactuses are happy. 🌵 If the wind picks up, beware: your sombrero might just take flight! 🎩💨\n",
      "\n",
      "Sneak Preview: With the rainy season in full swing, don’t be surprised if the afternoon skies suddenly decide they’re in a dramatic telenovela and burst into tears for an hour. ☔🌈\n",
      "\n",
      "Stay dry, stay cool, and may your coffee always be caliente! ☕😄\n"
     ]
    }
   ],
   "source": [
    "# Print the Agent's response message with optional citation\n",
    "response_message = project_client.messages.get_last_message_by_role(thread_id=thread.id, role=MessageRole.AGENT)\n",
    "if response_message:\n",
    "    for text_message in response_message.text_messages:\n",
    "        print(f\"Agent response: {text_message.text.value}\")\n",
    "    for annotation in response_message.url_citation_annotations:\n",
    "        print(f\"URL Citation: [{annotation.url_citation.title}]({annotation.url_citation.url})\")"
   ]
  },
  {
   "cell_type": "markdown",
   "id": "6d5f61ac-880e-4394-8e63-6feb8c740eb4",
   "metadata": {},
   "source": [
    "### Post processing"
   ]
  },
  {
   "cell_type": "code",
   "execution_count": 24,
   "id": "c2e0842b",
   "metadata": {},
   "outputs": [
    {
     "name": "stdout",
     "output_type": "stream",
     "text": [
      "Listing all agents in the project:\n",
      "Agent ID: asst_JCxzqPPvFkFkGVYsHBT3dOZV, Name: my-bing-grounding-agent, Model: gpt-4.1, Instructions: You are an AI Agent that can do some web search using Bing\n"
     ]
    }
   ],
   "source": [
    "# List all agents in the project\n",
    "print(\"Listing all agents in the project:\")\n",
    "agents = project_client.list_agents()\n",
    "for agent in agents:\n",
    "    print(f\"Agent ID: {agent.id}, Name: {agent.name}, Model: {agent.model}, Instructions: {agent.instructions}\")"
   ]
  },
  {
   "cell_type": "code",
   "execution_count": 26,
   "id": "cd108561",
   "metadata": {},
   "outputs": [],
   "source": [
    "# recurse through all agents and delete them adding a test to stop if the agent is not found\n",
    "for agent in project_client.list_agents():\n",
    "    try:\n",
    "        print(f\"Deleting agent ID: {agent.id}, Name: {agent.name}\")\n",
    "        project_client.delete_agent(agent.id)\n",
    "    except Exception as e:\n",
    "        print(f\"Error deleting agent ID: {agent.id}, Name: {agent.name}, Error: {e}\")"
   ]
  },
  {
   "cell_type": "code",
   "execution_count": 27,
   "id": "65de8133",
   "metadata": {},
   "outputs": [],
   "source": [
    "agents = project_client.list_agents()\n",
    "for agent in agents:\n",
    "    print(f\"Agent ID: {agent.id}, Name: {agent.name}, Model: {agent.model}, Instructions: {agent.instructions}\")"
   ]
  }
 ],
 "metadata": {
  "kernelspec": {
   "display_name": ".venv",
   "language": "python",
   "name": "python3"
  },
  "language_info": {
   "codemirror_mode": {
    "name": "ipython",
    "version": 3
   },
   "file_extension": ".py",
   "mimetype": "text/x-python",
   "name": "python",
   "nbconvert_exporter": "python",
   "pygments_lexer": "ipython3",
   "version": "3.13.5"
  },
  "varInspector": {
   "cols": {
    "lenName": 16,
    "lenType": 16,
    "lenVar": 40
   },
   "kernels_config": {
    "python": {
     "delete_cmd_postfix": "",
     "delete_cmd_prefix": "del ",
     "library": "var_list.py",
     "varRefreshCmd": "print(var_dic_list())"
    },
    "r": {
     "delete_cmd_postfix": ") ",
     "delete_cmd_prefix": "rm(",
     "library": "var_list.r",
     "varRefreshCmd": "cat(var_dic_list()) "
    }
   },
   "types_to_exclude": [
    "module",
    "function",
    "builtin_function_or_method",
    "instance",
    "_Feature"
   ],
   "window_display": false
  }
 },
 "nbformat": 4,
 "nbformat_minor": 5
}
