{
 "cells": [
  {
   "cell_type": "markdown",
   "id": "f2cb297b",
   "metadata": {},
   "source": [
    "### Azure Ai Agents tracing with Azure Monitor, OpenTelemetry, App Insights."
   ]
  },
  {
   "cell_type": "code",
   "execution_count": 1,
   "id": "765a9a76",
   "metadata": {},
   "outputs": [
    {
     "data": {
      "text/plain": [
       "True"
      ]
     },
     "execution_count": 1,
     "metadata": {},
     "output_type": "execute_result"
    }
   ],
   "source": [
    "\"\"\"\n",
    "DESCRIPTION:\n",
    "    This sample demonstrates how to use basic agent operations from\n",
    "    the Azure Agents service using a synchronous client with Azure Monitor tracing.\n",
    "    View the results in the \"Tracing\" tab in your Azure AI Foundry project page.\n",
    "\n",
    "USAGE:\n",
    "    python sample_agents_basics_with_azure_monitor_tracing.py\n",
    "\n",
    "    Before running the sample:\n",
    "\n",
    "    pip install azure-ai-projects azure-ai-agents azure-identity azure-monitor-opentelemetry\n",
    "\n",
    "    Set these environment variables with your own values:\n",
    "    1) PROJECT_ENDPOINT - The Azure AI Project endpoint, as found in the Overview\n",
    "                          page of your Azure AI Foundry portal.\n",
    "    2) MODEL_DEPLOYMENT_NAME - The deployment name of the AI model, as found under the \"Name\" column in\n",
    "       the \"Models + endpoints\" tab in your Azure AI Foundry project.\n",
    "    3) AZURE_TRACING_GEN_AI_CONTENT_RECORDING_ENABLED - Optional. Set to `true` to trace the content of chat\n",
    "       messages, which may contain personal data. False by default.\n",
    "    4) APPLICATIONINSIGHTS_CONNECTION_STRING - Set to the connection string of your Application Insights resource.\n",
    "       This is used to send telemetry data to Azure Monitor. You can also get the connection string programmatically\n",
    "       from AIProjectClient using the `telemetry.get_connection_string` method. A code sample showing how to do this\n",
    "       can be found in the `sample_telemetry.py` file in the azure-ai-projects telemetry samples.\n",
    "\"\"\"\n",
    "\n",
    "import os, time\n",
    "from azure.ai.projects import AIProjectClient\n",
    "from azure.ai.agents.models import ListSortOrder\n",
    "from azure.identity import DefaultAzureCredential\n",
    "from azure.ai.agents import AgentsClient\n",
    "\n",
    "import dotenv\n",
    "# Load environment variables from .env file\n",
    "dotenv.load_dotenv()"
   ]
  },
  {
   "cell_type": "code",
   "execution_count": 2,
   "id": "efa6c633",
   "metadata": {},
   "outputs": [
    {
     "name": "stdout",
     "output_type": "stream",
     "text": [
      "Scenario: AI-Agent-Trace-Monitoring-2025-06-18 11:27:22\n"
     ]
    }
   ],
   "source": [
    "# [START enable_tracing]\n",
    "from opentelemetry import trace\n",
    "from azure.monitor.opentelemetry import configure_azure_monitor\n",
    "\n",
    "# Enable Azure Monitor tracing\n",
    "application_insights_connection_string = os.environ[\"APPLICATIONINSIGHTS_CONNECTION_STRING\"]\n",
    "configure_azure_monitor(connection_string=application_insights_connection_string)\n",
    "\n",
    "# add the date & time to the scenario name\n",
    "from datetime import datetime\n",
    "date_str = datetime.now().strftime(\"%Y-%m-%d %H:%M:%S\")\n",
    "print(f\"Scenario: AI-Agent-Trace-Monitoring-{date_str}\")\n",
    "scenario = os.path.basename(f\"AI-Agent-Trace-Monitoring-{date_str}\")\n",
    "tracer = trace.get_tracer(\"monitoring-sample\", \"1.0.0\")"
   ]
  },
  {
   "cell_type": "code",
   "execution_count": 3,
   "id": "a349de7f",
   "metadata": {},
   "outputs": [],
   "source": [
    "project_client = AgentsClient(\n",
    "    endpoint=os.getenv(\"PROJECT_ENDPOINT\"),\n",
    "    credential=DefaultAzureCredential(),\n",
    ")"
   ]
  },
  {
   "cell_type": "code",
   "execution_count": 4,
   "id": "0824b114",
   "metadata": {},
   "outputs": [
    {
     "name": "stdout",
     "output_type": "stream",
     "text": [
      "Created agent, agent ID: asst_6SSDWtvebCC4lrQfpJNTrlAK\n",
      "Created thread, thread ID: thread_xuo5jzyWDUC2Wa5EX4Aw1L1W\n",
      "Created message, message ID: msg_B5rUxQsksJBcfqo56RqPGUEh\n",
      "Run completed with status: RunStatus.COMPLETED\n",
      "Deleted agent\n",
      "MessageRole.USER: Hello, what is the easiest way to learn Python?\n",
      "MessageRole.AGENT: Hello! Learning Python can be a fun and rewarding experience. Here’s an easy and effective way to get started:\n",
      "\n",
      "### 1. **Set Up Your Environment**\n",
      "- **Install Python:** Download it from [python.org](https://python.org).\n",
      "- **Choose an IDE:** Start with something simple like Thonny, IDLE, or use an online IDE like [Repl.it](https://replit.com/) or [Google Colab](https://colab.research.google.com/).\n",
      "\n",
      "### 2. **Follow a Beginner-Friendly Tutorial**\n",
      "- **Official [Python Tutorial](https://docs.python.org/3/tutorial/)**\n",
      "- **Interactive Courses:** Try free platforms:\n",
      "  - [Codecademy](https://www.codecademy.com/learn/learn-python-3)\n",
      "  - [Coursera – Python for Everybody](https://www.coursera.org/learn/python)\n",
      "  - [W3Schools Python Tutorial](https://www.w3schools.com/python/)\n",
      "\n",
      "### 3. **Learn the Basics**\n",
      "Focus on:\n",
      "- Printing and comments\n",
      "- Variables and data types\n",
      "- Basic operations (arithmetic, comparison)\n",
      "- Control flow (if statements, loops)\n",
      "- Functions\n",
      "\n",
      "### 4. **Practice!**\n",
      "- Use [Exercism](https://exercism.org/tracks/python) or [HackerRank](https://www.hackerrank.com/domains/tutorials/10-days-of-python) for practice problems.\n",
      "- Try writing small scripts (calculator, guessing game, todo list).\n",
      "\n",
      "### 5. **Work on Small Projects**\n",
      "Building things is the best way to learn! Some ideas:\n",
      "- Simple calculator\n",
      "- Number guessing game\n",
      "- Contact book\n",
      "\n",
      "### 6. **Join a Community**\n",
      "- Participate in forums like [Stack Overflow](https://stackoverflow.com/questions/tagged/python) or [Reddit r/learnpython](https://www.reddit.com/r/learnpython/).\n",
      "\n",
      "### **Tips:**\n",
      "- **Practice regularly:** Short, daily sessions are better than long, infrequent ones.\n",
      "- **Don’t be afraid to make mistakes!** Debugging is part of learning.\n",
      "\n",
      "**Would you like some beginner exercises or a Python roadmap?**\n"
     ]
    }
   ],
   "source": [
    "with tracer.start_as_current_span(scenario):\n",
    "    with project_client:\n",
    "\n",
    "        # [END enable_tracing]\n",
    "        agent = project_client.create_agent(\n",
    "            model=os.environ[\"MODEL_DEPLOYMENT_NAME\"], name=\"my-agent-with-tracing\", instructions=\"You are helpful agent\"\n",
    "        )\n",
    "        print(f\"Created agent, agent ID: {agent.id}\")\n",
    "\n",
    "        thread = project_client.threads.create()\n",
    "        print(f\"Created thread, thread ID: {thread.id}\")\n",
    "\n",
    "        message = project_client.messages.create(\n",
    "            thread_id=thread.id, role=\"user\", content=\"Hello, what is the easiest way to learn Python?\"\n",
    "        )\n",
    "        print(f\"Created message, message ID: {message.id}\")\n",
    "\n",
    "        run = project_client.runs.create_and_process(thread_id=thread.id, agent_id=agent.id)\n",
    "        print(f\"Run completed with status: {run.status}\")\n",
    "\n",
    "        project_client.delete_agent(agent.id)\n",
    "        print(\"Deleted agent\")\n",
    "\n",
    "        messages = project_client.messages.list(thread_id=thread.id, order=ListSortOrder.ASCENDING)\n",
    "        for msg in messages:\n",
    "            if msg.text_messages:\n",
    "                last_text = msg.text_messages[-1]\n",
    "                print(f\"{msg.role}: {last_text.text.value}\")"
   ]
  },
  {
   "cell_type": "code",
   "execution_count": 5,
   "id": "cf20cc10",
   "metadata": {},
   "outputs": [
    {
     "name": "stdout",
     "output_type": "stream",
     "text": [
      "Scenario: AI-Agent-Trace-Monitoring-2025-06-18 11:28:17\n"
     ]
    }
   ],
   "source": [
    "\n",
    "\n",
    "# add the date & time to the scenario name\n",
    "from datetime import datetime\n",
    "date_str = datetime.now().strftime(\"%Y-%m-%d %H:%M:%S\")\n",
    "print(f\"Scenario: AI-Agent-Trace-Monitoring-{date_str}\")\n",
    "scenario = os.path.basename(f\"AI-Agent-Trace-Monitoring-{date_str}\")\n",
    "tracer = trace.get_tracer(\"monitoring-sample\", \"1.0.0\")"
   ]
  },
  {
   "cell_type": "code",
   "execution_count": 6,
   "id": "42595b03",
   "metadata": {},
   "outputs": [],
   "source": [
    "project_client = AgentsClient(\n",
    "    endpoint=os.getenv(\"PROJECT_ENDPOINT\"),\n",
    "    credential=DefaultAzureCredential(),\n",
    ")"
   ]
  },
  {
   "cell_type": "code",
   "execution_count": 7,
   "id": "29e3af38",
   "metadata": {},
   "outputs": [
    {
     "name": "stdout",
     "output_type": "stream",
     "text": [
      "Created agent, agent ID: asst_WNuUZ5WABKQvcDd0iMwqVimr\n",
      "Created thread, thread ID: thread_GcuetWk8qXAL81WYSpFrG1xC\n",
      "Created message, message ID: msg_LW4x4msAmtPHwgBS4jjzJbv7\n",
      "Run completed with status: RunStatus.COMPLETED\n",
      "Deleted agent\n",
      "MessageRole.USER: what is the laplace transform used for\n",
      "MessageRole.AGENT: The **Laplace transform** is a mathematical tool widely used in **engineering**, **physics**, and **mathematics** for solving differential equations and analyzing linear, time-invariant systems. Here are its main uses:\n",
      "\n",
      "### 1. **Solving Differential Equations**\n",
      "- The Laplace transform converts ordinary differential equations (ODEs) and partial differential equations (PDEs), which are often hard to solve directly, into algebraic equations in the complex frequency domain (**s-domain**). These algebraic equations are usually much easier to solve.\n",
      "- Once solved, the inverse Laplace transform translates the solution back to the time domain.\n",
      "\n",
      "### 2. **Control Systems Analysis**\n",
      "- In control engineering, the Laplace transform is used to model and analyze linear dynamic systems, such as electrical circuits, mechanical systems, or control processes.\n",
      "- It is integral in finding the **transfer function** of a system and understanding system stability and response.\n",
      "\n",
      "### 3. **Signal Processing**\n",
      "- Used to analyze systems’ response to various input signals.\n",
      "- Helps design filters and understand how systems behave in the frequency domain.\n",
      "\n",
      "### 4. **Circuit Analysis**\n",
      "- In electrical engineering, used to solve circuits with capacitors and inductors when subjected to various inputs (including initial energy storage).\n",
      "\n",
      "### 5. **Probability and Statistics**\n",
      "- Used in analyzing certain types of probability distributions and stochastic processes.\n",
      "\n",
      "### **Summary Table**\n",
      "\n",
      "| Application Area         | Purpose                                                        |\n",
      "|--------------------------|----------------------------------------------------------------|\n",
      "| Solving ODEs/PDEs        | Turns complex time-domain differential equations into simpler algebraic equations in s-domain |\n",
      "| Control Systems          | Models system behavior, derives transfer functions, and analyzes stability         |\n",
      "| Signal Processing        | Analyzes input/output relationships and system response           |\n",
      "| Circuit Analysis         | Simplifies analysis of circuits with energy storage elements      |\n",
      "| Probability & Statistics | Analyzes distributions and random processes                      |\n",
      "\n",
      "**In short:**  \n",
      "The Laplace transform is a powerful tool that makes complex, time-dependent problems much easier to analyze and solve by transforming them into a more manageable domain.\n"
     ]
    }
   ],
   "source": [
    "with tracer.start_as_current_span(scenario):\n",
    "    with project_client:\n",
    "\n",
    "        # [END enable_tracing]\n",
    "        agent = project_client.create_agent(\n",
    "            model=os.environ[\"MODEL_DEPLOYMENT_NAME\"], name=\"my-agent-with-tracing\", instructions=\"You are helpful agent\"\n",
    "        )\n",
    "        print(f\"Created agent, agent ID: {agent.id}\")\n",
    "\n",
    "        thread = project_client.threads.create()\n",
    "        print(f\"Created thread, thread ID: {thread.id}\")\n",
    "\n",
    "        message = project_client.messages.create(\n",
    "            thread_id=thread.id, role=\"user\", content=\"what is the laplace transform used for\"\n",
    "        )\n",
    "        print(f\"Created message, message ID: {message.id}\")\n",
    "\n",
    "        run = project_client.runs.create_and_process(thread_id=thread.id, agent_id=agent.id)\n",
    "        print(f\"Run completed with status: {run.status}\")\n",
    "\n",
    "        project_client.delete_agent(agent.id)\n",
    "        print(\"Deleted agent\")\n",
    "\n",
    "        messages = project_client.messages.list(thread_id=thread.id, order=ListSortOrder.ASCENDING)\n",
    "        for msg in messages:\n",
    "            if msg.text_messages:\n",
    "                last_text = msg.text_messages[-1]\n",
    "                print(f\"{msg.role}: {last_text.text.value}\")"
   ]
  }
 ],
 "metadata": {
  "kernelspec": {
   "display_name": ".venv",
   "language": "python",
   "name": "python3"
  },
  "language_info": {
   "codemirror_mode": {
    "name": "ipython",
    "version": 3
   },
   "file_extension": ".py",
   "mimetype": "text/x-python",
   "name": "python",
   "nbconvert_exporter": "python",
   "pygments_lexer": "ipython3",
   "version": "3.13.5"
  }
 },
 "nbformat": 4,
 "nbformat_minor": 5
}
