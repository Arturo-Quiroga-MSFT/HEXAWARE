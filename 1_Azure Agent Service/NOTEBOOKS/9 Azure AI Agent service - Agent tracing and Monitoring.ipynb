{
 "cells": [
  {
   "cell_type": "markdown",
   "id": "f2cb297b",
   "metadata": {},
   "source": [
    "### Azure Ai Agents tracing with Azure Monitor, OpenTelemetry, App Insights."
   ]
  },
  {
   "cell_type": "code",
   "execution_count": 1,
   "id": "765a9a76",
   "metadata": {},
   "outputs": [
    {
     "data": {
      "text/plain": [
       "True"
      ]
     },
     "execution_count": 1,
     "metadata": {},
     "output_type": "execute_result"
    }
   ],
   "source": [
    "\"\"\"\n",
    "DESCRIPTION:\n",
    "    This sample demonstrates how to use basic agent operations from\n",
    "    the Azure Agents service using a synchronous client with Azure Monitor tracing.\n",
    "    View the results in the \"Tracing\" tab in your Azure AI Foundry project page.\n",
    "\n",
    "USAGE:\n",
    "    python sample_agents_basics_with_azure_monitor_tracing.py\n",
    "\n",
    "    Before running the sample:\n",
    "\n",
    "    pip install azure-ai-projects azure-ai-agents azure-identity azure-monitor-opentelemetry\n",
    "\n",
    "    Set these environment variables with your own values:\n",
    "    1) PROJECT_ENDPOINT - The Azure AI Project endpoint, as found in the Overview\n",
    "                          page of your Azure AI Foundry portal.\n",
    "    2) MODEL_DEPLOYMENT_NAME - The deployment name of the AI model, as found under the \"Name\" column in\n",
    "       the \"Models + endpoints\" tab in your Azure AI Foundry project.\n",
    "    3) AZURE_TRACING_GEN_AI_CONTENT_RECORDING_ENABLED - Optional. Set to `true` to trace the content of chat\n",
    "       messages, which may contain personal data. False by default.\n",
    "    4) APPLICATIONINSIGHTS_CONNECTION_STRING - Set to the connection string of your Application Insights resource.\n",
    "       This is used to send telemetry data to Azure Monitor. You can also get the connection string programmatically\n",
    "       from AIProjectClient using the `telemetry.get_connection_string` method. A code sample showing how to do this\n",
    "       can be found in the `sample_telemetry.py` file in the azure-ai-projects telemetry samples.\n",
    "\"\"\"\n",
    "\n",
    "import os, time\n",
    "from azure.ai.agents.models import ListSortOrder\n",
    "from azure.identity import DefaultAzureCredential\n",
    "from azure.ai.agents import AgentsClient\n",
    "\n",
    "import dotenv\n",
    "# Load environment variables from .env file\n",
    "dotenv.load_dotenv()"
   ]
  },
  {
   "cell_type": "code",
   "execution_count": 2,
   "id": "efa6c633",
   "metadata": {},
   "outputs": [
    {
     "name": "stdout",
     "output_type": "stream",
     "text": [
      "Scenario: AI-Agent-Trace-Monitoring-2025-06-27 15:35:24\n"
     ]
    }
   ],
   "source": [
    "# [START enable_tracing]\n",
    "from opentelemetry import trace\n",
    "from azure.monitor.opentelemetry import configure_azure_monitor\n",
    "\n",
    "# Enable Azure Monitor tracing\n",
    "application_insights_connection_string = os.environ[\"APPLICATIONINSIGHTS_CONNECTION_STRING\"]\n",
    "configure_azure_monitor(connection_string=application_insights_connection_string)\n",
    "\n",
    "# add the date & time to the scenario name\n",
    "from datetime import datetime\n",
    "date_str = datetime.now().strftime(\"%Y-%m-%d %H:%M:%S\")\n",
    "print(f\"Scenario: AI-Agent-Trace-Monitoring-{date_str}\")\n",
    "scenario = os.path.basename(f\"AI-Agent-Trace-Monitoring-{date_str}\")\n",
    "tracer = trace.get_tracer(\"monitoring-sample\", \"1.0.0\")"
   ]
  },
  {
   "cell_type": "code",
   "execution_count": 3,
   "id": "a349de7f",
   "metadata": {},
   "outputs": [],
   "source": [
    "project_client = AgentsClient(\n",
    "    endpoint=os.getenv(\"PROJECT_ENDPOINT\"),\n",
    "    credential=DefaultAzureCredential(),\n",
    ")"
   ]
  },
  {
   "cell_type": "code",
   "execution_count": 4,
   "id": "0824b114",
   "metadata": {},
   "outputs": [
    {
     "name": "stdout",
     "output_type": "stream",
     "text": [
      "Created agent, agent ID: asst_bEo5gNv6qqi9wklxVdIZ1gCZ\n",
      "Created thread, thread ID: thread_QnRuTJLRrLQObuCTavkXLkIj\n",
      "Created message, message ID: msg_NH2ndpHP87UzCbyr2xJWo8I1\n",
      "Run completed with status: RunStatus.COMPLETED\n",
      "MessageRole.USER: Hello, what is the easiest way to learn Python?\n",
      "MessageRole.AGENT: Hello! Learning Python can be a fun and rewarding experience. Here are some of the **easiest and most effective steps** to get started:\n",
      "\n",
      "---\n",
      "\n",
      "### 1. **Install Python**\n",
      "- Download it from [python.org](https://www.python.org/downloads/) and install on your computer.\n",
      "\n",
      "---\n",
      "\n",
      "### 2. **Pick an Interactive Platform**\n",
      "- Use free online interactive platforms like:\n",
      "  - [Codecademy](https://www.codecademy.com/learn/learn-python-3)\n",
      "  - [freeCodeCamp](https://www.freecodecamp.org/learn/scientific-computing-with-python/)\n",
      "  - [LeetCode](https://leetcode.com/explore/learn/card/python/)\n",
      "  - [Replit](https://replit.com/~) (run and try code in your browser)\n",
      "\n",
      "---\n",
      "\n",
      "### 3. **Learn by Doing**\n",
      "- **Start small:** Play with numbers, print statements, basic data types (lists, strings, dictionaries).\n",
      "- **Practice:** Solve small coding exercises as you learn a concept.\n",
      "\n",
      "---\n",
      "\n",
      "### 4. **Follow a Structured Guide or Book**\n",
      "- Great beginner books/tutorials:\n",
      "  - [Automate the Boring Stuff with Python](https://automatetheboringstuff.com/)\n",
      "  - [Python.org's beginner tutorial](https://docs.python.org/3/tutorial/index.html)\n",
      "\n",
      "---\n",
      "\n",
      "### 5. **Build Simple Projects**\n",
      "- Try making:\n",
      "  - A calculator\n",
      "  - A to-do list\n",
      "  - A number guessing game\n",
      "\n",
      "---\n",
      "\n",
      "### 6. **Join Python Communities**\n",
      "- Ask questions and get support at:\n",
      "  - [Stack Overflow (Python tag)](https://stackoverflow.com/questions/tagged/python)\n",
      "  - [Reddit r/learnpython](https://www.reddit.com/r/learnpython/)\n",
      "  - [Python Discord](https://pythondiscord.com/)\n",
      "\n",
      "---\n",
      "\n",
      "### 7. **Be Consistent**\n",
      "- Short, daily practice (30 minutes a day) is better than long, infrequent sessions.\n",
      "\n",
      "---\n",
      "\n",
      "**Remember:** Python is friendly for beginners—if you get stuck, search for your question or ask in a community!\n",
      "\n",
      "---\n",
      "\n",
      "**Need a specific plan or resource? Just tell me your learning style or goals!**\n"
     ]
    }
   ],
   "source": [
    "with tracer.start_as_current_span(scenario):\n",
    "    with project_client:\n",
    "\n",
    "        # [END enable_tracing]\n",
    "        agent = project_client.create_agent(\n",
    "            model=os.environ[\"MODEL_DEPLOYMENT_NAME\"], name=\"my-agent-with-tracing\", instructions=\"You are helpful agent\"\n",
    "        )\n",
    "        print(f\"Created agent, agent ID: {agent.id}\")\n",
    "\n",
    "        thread = project_client.threads.create()\n",
    "        print(f\"Created thread, thread ID: {thread.id}\")\n",
    "\n",
    "        message = project_client.messages.create(\n",
    "            thread_id=thread.id, role=\"user\", content=\"Hello, what is the easiest way to learn Python?\"\n",
    "        )\n",
    "        print(f\"Created message, message ID: {message.id}\")\n",
    "\n",
    "        run = project_client.runs.create_and_process(thread_id=thread.id, agent_id=agent.id)\n",
    "        print(f\"Run completed with status: {run.status}\")\n",
    "\n",
    "       # project_client.delete_agent(agent.id)\n",
    "       # print(\"Deleted agent\")\n",
    "\n",
    "        messages = project_client.messages.list(thread_id=thread.id, order=ListSortOrder.ASCENDING)\n",
    "        for msg in messages:\n",
    "            if msg.text_messages:\n",
    "                last_text = msg.text_messages[-1]\n",
    "                print(f\"{msg.role}: {last_text.text.value}\")"
   ]
  },
  {
   "cell_type": "code",
   "execution_count": 5,
   "id": "cf20cc10",
   "metadata": {},
   "outputs": [
    {
     "name": "stdout",
     "output_type": "stream",
     "text": [
      "Scenario: AI-Agent-Trace-Monitoring-2025-06-27 15:35:38\n"
     ]
    }
   ],
   "source": [
    "\n",
    "\n",
    "# add the date & time to the scenario name\n",
    "from datetime import datetime\n",
    "date_str = datetime.now().strftime(\"%Y-%m-%d %H:%M:%S\")\n",
    "print(f\"Scenario: AI-Agent-Trace-Monitoring-{date_str}\")\n",
    "scenario = os.path.basename(f\"AI-Agent-Trace-Monitoring-{date_str}\")\n",
    "tracer = trace.get_tracer(\"monitoring-sample\", \"1.0.0\")"
   ]
  },
  {
   "cell_type": "code",
   "execution_count": 6,
   "id": "42595b03",
   "metadata": {},
   "outputs": [],
   "source": [
    "project_client = AgentsClient(\n",
    "    endpoint=os.getenv(\"PROJECT_ENDPOINT\"),\n",
    "    credential=DefaultAzureCredential(),\n",
    ")"
   ]
  },
  {
   "cell_type": "code",
   "execution_count": 7,
   "id": "29e3af38",
   "metadata": {},
   "outputs": [
    {
     "name": "stdout",
     "output_type": "stream",
     "text": [
      "Created agent, agent ID: asst_5UbkTkbNy4qWWQ2iM16z12R8\n",
      "Created thread, thread ID: thread_Y6sqmp0GEneayqWHcr9oRqHp\n",
      "Created message, message ID: msg_aXkZbVgVmzso1WVdYe13MGtC\n",
      "Run completed with status: RunStatus.COMPLETED\n",
      "MessageRole.USER: what is the laplace transform used for\n",
      "MessageRole.AGENT: The **Laplace transform** is a powerful mathematical tool primarily used in engineering, physics, and applied mathematics for analyzing and solving **linear time-invariant systems**. Here’s what it is used for:\n",
      "\n",
      "---\n",
      "\n",
      "### 1. **Solving Differential Equations**\n",
      "- The Laplace transform converts differential equations (with derivatives) into algebraic equations (with polynomials), which are much easier to solve.\n",
      "- It is especially useful for **initial value problems** in ordinary or partial differential equations.\n",
      "\n",
      "### 2. **System Analysis**\n",
      "- In electrical engineering, the Laplace transform is used to analyze circuits (e.g., RLC circuits) and systems such as filters, amplifiers, and control systems.\n",
      "- It provides a **frequency-domain** representation, allowing engineers to study system behavior (stability, response, etc.).\n",
      "\n",
      "### 3. **Control Engineering**\n",
      "- Used to design and analyze **control systems**, such as automatic controllers in robotics, automation, and aircraft.\n",
      "- Allows for determining the **transfer function** of a system, which relates the input to the output.\n",
      "\n",
      "### 4. **Signal Processing**\n",
      "- Used to analyze signals and systems, making it easier to understand how a system will respond to various inputs.\n",
      "- It helps with filtering, modulation, and communication system analysis.\n",
      "\n",
      "### 5. **Modeling and Simulation**\n",
      "- Used to model complicated systems (mechanical, thermal, electrical) and simulate their behavior over time.\n",
      "\n",
      "---\n",
      "\n",
      "#### **Summary Table**\n",
      "\n",
      "| Application Area                | Purpose/Use                                         |\n",
      "|----------------------------------|-----------------------------------------------------|\n",
      "| Differential Equations           | Easier solution and analysis                        |\n",
      "| Electrical/Mechanical Circuits   | System analysis and design                          |\n",
      "| Control Systems                  | Transfer function & feedback system design          |\n",
      "| Signal Processing                | Signal/system analysis in the frequency domain      |\n",
      "| Simulation & Modeling            | Simulating system response & behavior               |\n",
      "\n",
      "---\n",
      "\n",
      "In summary, the Laplace transform is a fundamental tool for **analyzing, designing, and solving linear systems**, particularly where differential equations are involved.\n"
     ]
    }
   ],
   "source": [
    "with tracer.start_as_current_span(scenario):\n",
    "    with project_client:\n",
    "\n",
    "        # [END enable_tracing]\n",
    "        agent = project_client.create_agent(\n",
    "            model=os.environ[\"MODEL_DEPLOYMENT_NAME\"], name=\"my-agent-with-tracing\", instructions=\"You are helpful agent\"\n",
    "        )\n",
    "        print(f\"Created agent, agent ID: {agent.id}\")\n",
    "\n",
    "        thread = project_client.threads.create()\n",
    "        print(f\"Created thread, thread ID: {thread.id}\")\n",
    "\n",
    "        message = project_client.messages.create(\n",
    "            thread_id=thread.id, role=\"user\", content=\"what is the laplace transform used for\"\n",
    "        )\n",
    "        print(f\"Created message, message ID: {message.id}\")\n",
    "\n",
    "        run = project_client.runs.create_and_process(thread_id=thread.id, agent_id=agent.id)\n",
    "        print(f\"Run completed with status: {run.status}\")\n",
    "\n",
    "        #project_client.delete_agent(agent.id)\n",
    "        #print(\"Deleted agent\")\n",
    "\n",
    "        messages = project_client.messages.list(thread_id=thread.id, order=ListSortOrder.ASCENDING)\n",
    "        for msg in messages:\n",
    "            if msg.text_messages:\n",
    "                last_text = msg.text_messages[-1]\n",
    "                print(f\"{msg.role}: {last_text.text.value}\")"
   ]
  }
 ],
 "metadata": {
  "kernelspec": {
   "display_name": ".venv (3.12.11)",
   "language": "python",
   "name": "python3"
  },
  "language_info": {
   "codemirror_mode": {
    "name": "ipython",
    "version": 3
   },
   "file_extension": ".py",
   "mimetype": "text/x-python",
   "name": "python",
   "nbconvert_exporter": "python",
   "pygments_lexer": "ipython3",
   "version": "3.12.11"
  }
 },
 "nbformat": 4,
 "nbformat_minor": 5
}
