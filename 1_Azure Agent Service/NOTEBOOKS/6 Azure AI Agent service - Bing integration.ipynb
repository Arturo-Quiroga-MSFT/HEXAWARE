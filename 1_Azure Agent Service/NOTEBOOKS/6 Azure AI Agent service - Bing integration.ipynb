{
 "cells": [
  {
   "cell_type": "markdown",
   "id": "431cc026-279f-4105-8444-f1b93650da0d",
   "metadata": {},
   "source": [
    "# Azure AI Agent service - Bing integration\n",
    "\n",
    "<img src=\"https://learn.microsoft.com/en-us/azure/ai-services/agents/media/agent-service-the-glue.png\" width=800>\n",
    "\n",
    "> https://learn.microsoft.com/en-us/azure/ai-services/agents/"
   ]
  },
  {
   "cell_type": "code",
   "execution_count": 1,
   "id": "d75f0533-95e2-44fe-b8ed-d525b4c25b77",
   "metadata": {},
   "outputs": [],
   "source": [
    "#%pip install azure-ai-projects"
   ]
  },
  {
   "cell_type": "code",
   "execution_count": 2,
   "id": "22eab459-0adb-42c1-86dd-ee4cdfb77c8a",
   "metadata": {},
   "outputs": [],
   "source": [
    "import datetime\n",
    "import os\n",
    "import sys\n",
    "\n",
    "from azure.ai.agents import AgentsClient\n",
    "from azure.identity import DefaultAzureCredential\n",
    "from azure.ai.agents.models import BingGroundingTool, MessageRole\n",
    "from dotenv import load_dotenv"
   ]
  },
  {
   "cell_type": "code",
   "execution_count": 3,
   "id": "65334de7-4005-401a-89c1-be24f75abbd9",
   "metadata": {},
   "outputs": [
    {
     "data": {
      "text/plain": [
       "True"
      ]
     },
     "execution_count": 3,
     "metadata": {},
     "output_type": "execute_result"
    }
   ],
   "source": [
    "load_dotenv(\"azure.env\")"
   ]
  },
  {
   "cell_type": "code",
   "execution_count": 4,
   "id": "8628712a-0d10-4351-8993-b4c3243f83be",
   "metadata": {},
   "outputs": [
    {
     "data": {
      "text/plain": [
       "'3.13.4 (main, Jun  3 2025, 15:34:24) [Clang 17.0.0 (clang-1700.0.13.3)]'"
      ]
     },
     "execution_count": 4,
     "metadata": {},
     "output_type": "execute_result"
    }
   ],
   "source": [
    "sys.version"
   ]
  },
  {
   "cell_type": "code",
   "execution_count": 5,
   "id": "92834c8e-8efd-40c9-b599-33e6fb95516e",
   "metadata": {},
   "outputs": [
    {
     "name": "stdout",
     "output_type": "stream",
     "text": [
      "Today is 09-Jun-2025 15:51:33\n"
     ]
    }
   ],
   "source": [
    "print(f\"Today is {datetime.datetime.today().strftime('%d-%b-%Y %H:%M:%S')}\")"
   ]
  },
  {
   "cell_type": "markdown",
   "id": "54fa0903-f907-4c7f-a51b-4893d15ff371",
   "metadata": {},
   "source": [
    "## 1. Grounding Bing Search"
   ]
  },
  {
   "cell_type": "code",
   "execution_count": 6,
   "id": "e31e6a61-000f-4d01-9208-df3d491b342a",
   "metadata": {},
   "outputs": [],
   "source": [
    "name = \"Web search agent\"\n",
    "model = \"gpt-4o-mini\"\n",
    "\n",
    "instructions = \"You are an AI Agent that can do some web search using Bing\"\n"
   ]
  },
  {
   "cell_type": "markdown",
   "id": "3ac0a60b-b688-4970-ba23-781f2196b75c",
   "metadata": {},
   "source": [
    "### Project client"
   ]
  },
  {
   "cell_type": "code",
   "execution_count": 7,
   "id": "76c7bbb7-0faa-4500-ba42-7c5b176f6196",
   "metadata": {},
   "outputs": [],
   "source": [
    "project_client = AgentsClient(\n",
    "    endpoint=os.getenv(\"PROJECT_ENDPOINT\"),\n",
    "    credential=DefaultAzureCredential(),\n",
    ")"
   ]
  },
  {
   "cell_type": "code",
   "execution_count": 8,
   "id": "5c20b2ef-e913-4dc0-8bdf-116772d8fc9a",
   "metadata": {},
   "outputs": [],
   "source": [
    "# [START create_agent_with_bing_grounding_tool]\n",
    "conn_id = os.getenv(\"AZURE_BING_CONNECTION_ID\")\n",
    "\n",
    "# Initialize agent bing tool and add the connection id\n",
    "bing = BingGroundingTool(connection_id=conn_id)"
   ]
  },
  {
   "cell_type": "code",
   "execution_count": 9,
   "id": "f85e9d94-49a7-4d4e-a0ea-f64987951cb4",
   "metadata": {},
   "outputs": [
    {
     "name": "stdout",
     "output_type": "stream",
     "text": [
      "Created agent, ID: asst_ZfTszQQr43arZfC933PKhDHZ\n"
     ]
    },
    {
     "data": {
      "text/plain": [
       "[{'type': 'bing_grounding', 'bing_grounding': {'search_configurations': [{'connection_id': '/subscriptions/7a28b21e-0d3e-4435-a686-d92889d4ee96/resourceGroups/AI-FOUNDRY-RG/providers/Microsoft.CognitiveServices/accounts/aq-ai-foundry-Sweden-Central/projects/firstProject/connections/aqbinggrounding002', 'market': '', 'set_lang': '', 'count': 5, 'freshness': ''}]}}]"
      ]
     },
     "execution_count": 9,
     "metadata": {},
     "output_type": "execute_result"
    }
   ],
   "source": [
    "# Create the agent with the Bing grounding tool\n",
    "agent = project_client.create_agent(\n",
    "        model=os.getenv(\"MODEL_DEPLOYMENT_NAME\"),\n",
    "        name=\"my-agent\",\n",
    "        instructions=\"You are a helpful agent\",\n",
    "        tools=bing.definitions,\n",
    "        headers={\"x-ms-enable-preview\": \"true\"}\n",
    "    )\n",
    "    # [END create_agent_with_bing_grounding_tool]\n",
    "\n",
    "print(f\"Created agent, ID: {agent.id}\")\n",
    "\n",
    "bing\n",
    "bing.definitions\n"
   ]
  },
  {
   "cell_type": "code",
   "execution_count": 10,
   "id": "dd35b8d1-10ce-44a3-8d47-dea2854e73b8",
   "metadata": {},
   "outputs": [
    {
     "name": "stdout",
     "output_type": "stream",
     "text": [
      "Created thread, ID: thread_BuI2JzYXTFpvsICthIrmWQOI\n"
     ]
    }
   ],
   "source": [
    "# Create thread for communication\n",
    "thread = project_client.threads.create()\n",
    "print(f\"Created thread, ID: {thread.id}\")"
   ]
  },
  {
   "cell_type": "code",
   "execution_count": 11,
   "id": "411697dc-ec6b-4d80-8871-6d10003084d6",
   "metadata": {},
   "outputs": [],
   "source": [
    "query = \"When is the next NHL game for the finals?\""
   ]
  },
  {
   "cell_type": "code",
   "execution_count": 12,
   "id": "03490def-7224-4253-813f-405f609d33b3",
   "metadata": {},
   "outputs": [
    {
     "name": "stdout",
     "output_type": "stream",
     "text": [
      "Created message, ID: msg_CylxnO81mmbuKzt4QsyRGwSR\n"
     ]
    }
   ],
   "source": [
    "# Create message to thread\n",
    "message = project_client.messages.create(\n",
    "    thread_id=thread.id,\n",
    "    role=\"user\",\n",
    "    content=query,\n",
    ")\n",
    "\n",
    "print(f\"Created message, ID: {message.id}\")"
   ]
  },
  {
   "cell_type": "code",
   "execution_count": 13,
   "id": "dba66684",
   "metadata": {},
   "outputs": [
    {
     "name": "stdout",
     "output_type": "stream",
     "text": [
      "Run finished with status: RunStatus.COMPLETED\n"
     ]
    }
   ],
   "source": [
    "# Create and process agent run in thread with tools\n",
    "run = project_client.runs.create_and_process(thread_id=thread.id, agent_id=agent.id)\n",
    "print(f\"Run finished with status: {run.status}\")\n",
    "\n",
    "if run.status == \"failed\":\n",
    "    print(f\"Run failed: {run.last_error}\")"
   ]
  },
  {
   "cell_type": "code",
   "execution_count": 14,
   "id": "e80d8ce3",
   "metadata": {},
   "outputs": [
    {
     "name": "stdout",
     "output_type": "stream",
     "text": [
      "Step step_kb2rVGuEboMDLPw0yT4GYbZG status: completed\n",
      "Step step_E0k5fR7a3EGzvN22hxV4Ww5e status: completed\n",
      "  Tool calls:\n",
      "    Tool Call ID: call_hVOiBZY2WmBgPnZzwvnd5gjB\n",
      "    Type: bing_grounding\n",
      "    Bing Grounding ID: https://api.bing.microsoft.com/v7.0/search?q=next NHL game finals schedule 2025\n",
      "\n"
     ]
    },
    {
     "data": {
      "text/plain": [
       "{'prompt_tokens': 1449, 'completion_tokens': 90, 'total_tokens': 1539, 'prompt_token_details': {'cached_tokens': 0}}"
      ]
     },
     "execution_count": 14,
     "metadata": {},
     "output_type": "execute_result"
    }
   ],
   "source": [
    "# Fetch run steps to get the details of the agent run\n",
    "run_steps = project_client.run_steps.list(thread_id=thread.id, run_id=run.id)\n",
    "for step in run_steps:\n",
    "    print(f\"Step {step['id']} status: {step['status']}\")\n",
    "    step_details = step.get(\"step_details\", {})\n",
    "    tool_calls = step_details.get(\"tool_calls\", [])\n",
    "\n",
    "    if tool_calls:\n",
    "        print(\"  Tool calls:\")\n",
    "        for call in tool_calls:\n",
    "            print(f\"    Tool Call ID: {call.get('id')}\")\n",
    "            print(f\"    Type: {call.get('type')}\")\n",
    "\n",
    "            bing_grounding_details = call.get(\"bing_grounding\", {})\n",
    "            if bing_grounding_details:\n",
    "                print(f\"    Bing Grounding ID: {bing_grounding_details.get('requesturl')}\")\n",
    "\n",
    "print()  # add an extra newline between steps\n",
    "\n",
    "run.usage\n"
   ]
  },
  {
   "cell_type": "code",
   "execution_count": 15,
   "id": "ca0e63af",
   "metadata": {},
   "outputs": [
    {
     "name": "stdout",
     "output_type": "stream",
     "text": [
      "Agent response: The next NHL Stanley Cup Final game is Game 3, scheduled for Saturday, June 8, 2025. The series is between the Edmonton Oilers and the Florida Panthers【3:0†2025 Stanley Cup Final schedule - NHL.com】【3:4†2025 Stanley Cup Final Schedule and Results - NHL Rumors】.\n",
      "URL Citation: [2025 Stanley Cup Final schedule - NHL.com](https://www.nhl.com/news/2025-stanley-cup-final-schedule-television-results)\n",
      "URL Citation: [2025 Stanley Cup Final Schedule and Results - NHL Rumors](https://nhlrumors.com/2025-stanley-cup-final-schedule-and-results/2025/06/07/)\n"
     ]
    }
   ],
   "source": [
    "# Print the Agent's response message with optional citation\n",
    "response_message = project_client.messages.get_last_message_by_role(thread_id=thread.id, role=MessageRole.AGENT)\n",
    "if response_message:\n",
    "    for text_message in response_message.text_messages:\n",
    "        print(f\"Agent response: {text_message.text.value}\")\n",
    "    for annotation in response_message.url_citation_annotations:\n",
    "        print(f\"URL Citation: [{annotation.url_citation.title}]({annotation.url_citation.url})\")"
   ]
  },
  {
   "cell_type": "code",
   "execution_count": 32,
   "id": "547a800a-7563-4a01-a846-c9953b31378a",
   "metadata": {},
   "outputs": [],
   "source": [
    "query = \"find out the most popular programming language for 2025?\""
   ]
  },
  {
   "cell_type": "code",
   "execution_count": 33,
   "id": "e8877602",
   "metadata": {},
   "outputs": [
    {
     "name": "stdout",
     "output_type": "stream",
     "text": [
      "Created message, ID: msg_meFZiqEBd03QPUi9xlwpwxhZ\n"
     ]
    }
   ],
   "source": [
    "# Create message to thread\n",
    "message = project_client.messages.create(\n",
    "    thread_id=thread.id,\n",
    "    role=\"user\",\n",
    "    content=query,\n",
    ")\n",
    "\n",
    "print(f\"Created message, ID: {message.id}\")"
   ]
  },
  {
   "cell_type": "code",
   "execution_count": 34,
   "id": "cbb3202b",
   "metadata": {},
   "outputs": [
    {
     "name": "stdout",
     "output_type": "stream",
     "text": [
      "Run finished with status: RunStatus.COMPLETED\n"
     ]
    }
   ],
   "source": [
    "# Create and process agent run in thread with tools\n",
    "run = project_client.runs.create_and_process(thread_id=thread.id, agent_id=agent.id)\n",
    "print(f\"Run finished with status: {run.status}\")\n",
    "\n",
    "if run.status == \"failed\":\n",
    "    print(f\"Run failed: {run.last_error}\")"
   ]
  },
  {
   "cell_type": "code",
   "execution_count": 35,
   "id": "8f099ab3",
   "metadata": {},
   "outputs": [
    {
     "name": "stdout",
     "output_type": "stream",
     "text": [
      "Step step_WTgJlj6CIy27SuAimQAgEwsP status: completed\n",
      "Step step_WS6mNyqamtu6SwSXAe3ZJgh1 status: completed\n",
      "  Tool calls:\n",
      "    Tool Call ID: call_rIdUmukii2uLnDm4BHjz1meM\n",
      "    Type: bing_grounding\n",
      "    Bing Grounding ID: https://api.bing.microsoft.com/v7.0/search?q=most popular programming language 2025\n",
      "\n"
     ]
    },
    {
     "data": {
      "text/plain": [
       "{'prompt_tokens': 2841, 'completion_tokens': 117, 'total_tokens': 2958, 'prompt_token_details': {'cached_tokens': 0}}"
      ]
     },
     "execution_count": 35,
     "metadata": {},
     "output_type": "execute_result"
    }
   ],
   "source": [
    "# Fetch run steps to get the details of the agent run\n",
    "run_steps = project_client.run_steps.list(thread_id=thread.id, run_id=run.id)\n",
    "for step in run_steps:\n",
    "    print(f\"Step {step['id']} status: {step['status']}\")\n",
    "    step_details = step.get(\"step_details\", {})\n",
    "    tool_calls = step_details.get(\"tool_calls\", [])\n",
    "\n",
    "    if tool_calls:\n",
    "        print(\"  Tool calls:\")\n",
    "        for call in tool_calls:\n",
    "            print(f\"    Tool Call ID: {call.get('id')}\")\n",
    "            print(f\"    Type: {call.get('type')}\")\n",
    "\n",
    "            bing_grounding_details = call.get(\"bing_grounding\", {})\n",
    "            if bing_grounding_details:\n",
    "                print(f\"    Bing Grounding ID: {bing_grounding_details.get('requesturl')}\")\n",
    "\n",
    "print()  # add an extra newline between steps\n",
    "\n",
    "run.usage"
   ]
  },
  {
   "cell_type": "code",
   "execution_count": 28,
   "id": "06f3df88-e34c-4e75-a765-8b72073517e1",
   "metadata": {},
   "outputs": [],
   "source": [
    "query = \"What is the weather informations for Mexico city? Show the report and use emojis and be funny\""
   ]
  },
  {
   "cell_type": "code",
   "execution_count": 29,
   "id": "543d4b7b",
   "metadata": {},
   "outputs": [
    {
     "name": "stdout",
     "output_type": "stream",
     "text": [
      "Created message, ID: msg_XsWlcN2lNa5GWekPo5dAifAC\n"
     ]
    }
   ],
   "source": [
    "# Create message to thread\n",
    "message = project_client.messages.create(\n",
    "    thread_id=thread.id,\n",
    "    role=\"user\",\n",
    "    content=query,\n",
    ")\n",
    "\n",
    "print(f\"Created message, ID: {message.id}\")"
   ]
  },
  {
   "cell_type": "code",
   "execution_count": 30,
   "id": "2ea5faeb",
   "metadata": {},
   "outputs": [
    {
     "name": "stdout",
     "output_type": "stream",
     "text": [
      "Run finished with status: RunStatus.COMPLETED\n"
     ]
    }
   ],
   "source": [
    "# Create and process agent run in thread with tools\n",
    "run = project_client.runs.create_and_process(thread_id=thread.id, agent_id=agent.id)\n",
    "print(f\"Run finished with status: {run.status}\")\n",
    "\n",
    "if run.status == \"failed\":\n",
    "    print(f\"Run failed: {run.last_error}\")"
   ]
  },
  {
   "cell_type": "code",
   "execution_count": 31,
   "id": "8395971f",
   "metadata": {},
   "outputs": [
    {
     "name": "stdout",
     "output_type": "stream",
     "text": [
      "Step step_TVR3SlrhlBazlENsrdHzW3gS status: completed\n",
      "Step step_iZtbfzaV52QQDzJGSwSVJveL status: completed\n",
      "  Tool calls:\n",
      "    Tool Call ID: call_UZ66WTz0FXs2OaQIRgu4qjwv\n",
      "    Type: bing_grounding\n",
      "    Bing Grounding ID: https://api.bing.microsoft.com/v7.0/search?q=current weather Mexico City\n",
      "\n"
     ]
    },
    {
     "data": {
      "text/plain": [
       "{'prompt_tokens': 2248, 'completion_tokens': 199, 'total_tokens': 2447, 'prompt_token_details': {'cached_tokens': 0}}"
      ]
     },
     "execution_count": 31,
     "metadata": {},
     "output_type": "execute_result"
    }
   ],
   "source": [
    "# Fetch run steps to get the details of the agent run\n",
    "run_steps = project_client.run_steps.list(thread_id=thread.id, run_id=run.id)\n",
    "for step in run_steps:\n",
    "    print(f\"Step {step['id']} status: {step['status']}\")\n",
    "    step_details = step.get(\"step_details\", {})\n",
    "    tool_calls = step_details.get(\"tool_calls\", [])\n",
    "\n",
    "    if tool_calls:\n",
    "        print(\"  Tool calls:\")\n",
    "        for call in tool_calls:\n",
    "            print(f\"    Tool Call ID: {call.get('id')}\")\n",
    "            print(f\"    Type: {call.get('type')}\")\n",
    "\n",
    "            bing_grounding_details = call.get(\"bing_grounding\", {})\n",
    "            if bing_grounding_details:\n",
    "                print(f\"    Bing Grounding ID: {bing_grounding_details.get('requesturl')}\")\n",
    "\n",
    "print()  # add an extra newline between steps\n",
    "\n",
    "run.usage"
   ]
  },
  {
   "cell_type": "markdown",
   "id": "6d5f61ac-880e-4394-8e63-6feb8c740eb4",
   "metadata": {},
   "source": [
    "### Post processing"
   ]
  }
 ],
 "metadata": {
  "kernelspec": {
   "display_name": ".venv",
   "language": "python",
   "name": "python3"
  },
  "language_info": {
   "codemirror_mode": {
    "name": "ipython",
    "version": 3
   },
   "file_extension": ".py",
   "mimetype": "text/x-python",
   "name": "python",
   "nbconvert_exporter": "python",
   "pygments_lexer": "ipython3",
   "version": "3.13.4"
  },
  "varInspector": {
   "cols": {
    "lenName": 16,
    "lenType": 16,
    "lenVar": 40
   },
   "kernels_config": {
    "python": {
     "delete_cmd_postfix": "",
     "delete_cmd_prefix": "del ",
     "library": "var_list.py",
     "varRefreshCmd": "print(var_dic_list())"
    },
    "r": {
     "delete_cmd_postfix": ") ",
     "delete_cmd_prefix": "rm(",
     "library": "var_list.r",
     "varRefreshCmd": "cat(var_dic_list()) "
    }
   },
   "types_to_exclude": [
    "module",
    "function",
    "builtin_function_or_method",
    "instance",
    "_Feature"
   ],
   "window_display": false
  }
 },
 "nbformat": 4,
 "nbformat_minor": 5
}
