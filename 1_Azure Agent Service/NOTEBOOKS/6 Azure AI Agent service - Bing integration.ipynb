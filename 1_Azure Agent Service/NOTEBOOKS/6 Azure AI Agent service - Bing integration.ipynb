{
 "cells": [
  {
   "cell_type": "markdown",
   "id": "431cc026-279f-4105-8444-f1b93650da0d",
   "metadata": {},
   "source": [
    "# Azure AI Agent service - Bing integration\n",
    "\n",
    "<img src=\"https://learn.microsoft.com/en-us/azure/ai-services/agents/media/agent-service-the-glue.png\" width=800>\n",
    "\n",
    "> https://learn.microsoft.com/en-us/azure/ai-services/agents/"
   ]
  },
  {
   "cell_type": "code",
   "execution_count": 1,
   "id": "d75f0533-95e2-44fe-b8ed-d525b4c25b77",
   "metadata": {},
   "outputs": [],
   "source": [
    "#%pip install azure-ai-projects"
   ]
  },
  {
   "cell_type": "code",
   "execution_count": 2,
   "id": "22eab459-0adb-42c1-86dd-ee4cdfb77c8a",
   "metadata": {},
   "outputs": [],
   "source": [
    "import datetime\n",
    "import os\n",
    "import sys\n",
    "\n",
    "from azure.ai.agents import AgentsClient\n",
    "from azure.identity import DefaultAzureCredential\n",
    "from azure.ai.agents.models import BingGroundingTool, MessageRole, ListSortOrder\n",
    "from dotenv import load_dotenv"
   ]
  },
  {
   "cell_type": "code",
   "execution_count": 3,
   "id": "65334de7-4005-401a-89c1-be24f75abbd9",
   "metadata": {},
   "outputs": [
    {
     "data": {
      "text/plain": [
       "True"
      ]
     },
     "execution_count": 3,
     "metadata": {},
     "output_type": "execute_result"
    }
   ],
   "source": [
    "load_dotenv()"
   ]
  },
  {
   "cell_type": "code",
   "execution_count": 4,
   "id": "92834c8e-8efd-40c9-b599-33e6fb95516e",
   "metadata": {},
   "outputs": [
    {
     "name": "stdout",
     "output_type": "stream",
     "text": [
      "Today is 14-Jun-2025 10:07:50\n"
     ]
    }
   ],
   "source": [
    "print(f\"Today is {datetime.datetime.today().strftime('%d-%b-%Y %H:%M:%S')}\")"
   ]
  },
  {
   "cell_type": "markdown",
   "id": "54fa0903-f907-4c7f-a51b-4893d15ff371",
   "metadata": {},
   "source": [
    "## 1. Grounding Bing Search"
   ]
  },
  {
   "cell_type": "markdown",
   "id": "3ac0a60b-b688-4970-ba23-781f2196b75c",
   "metadata": {},
   "source": [
    "### Connect to AI Foundry"
   ]
  },
  {
   "cell_type": "code",
   "execution_count": 5,
   "id": "76c7bbb7-0faa-4500-ba42-7c5b176f6196",
   "metadata": {},
   "outputs": [],
   "source": [
    "project_client = AgentsClient(\n",
    "    endpoint=os.getenv(\"PROJECT_ENDPOINT\"),\n",
    "    credential=DefaultAzureCredential(),\n",
    ")"
   ]
  },
  {
   "cell_type": "markdown",
   "id": "e31b2d3a",
   "metadata": {},
   "source": [
    "### Create connection to bing grounding service"
   ]
  },
  {
   "cell_type": "code",
   "execution_count": 6,
   "id": "5c20b2ef-e913-4dc0-8bdf-116772d8fc9a",
   "metadata": {},
   "outputs": [],
   "source": [
    "# [START create_agent_with_bing_grounding_tool]\n",
    "conn_id = os.getenv(\"AZURE_BING_CONNECTION_ID\")\n",
    "\n",
    "# Initialize agent bing tool and add the connection id\n",
    "bing = BingGroundingTool(connection_id=conn_id)"
   ]
  },
  {
   "cell_type": "markdown",
   "id": "1db5f5d1",
   "metadata": {},
   "source": [
    "### Create agent with Bing Grounding tool"
   ]
  },
  {
   "cell_type": "code",
   "execution_count": 7,
   "id": "f85e9d94-49a7-4d4e-a0ea-f64987951cb4",
   "metadata": {},
   "outputs": [
    {
     "name": "stdout",
     "output_type": "stream",
     "text": [
      "Created agent, ID: asst_tMcavEj0LE5740DP2Hg56u6s\n"
     ]
    },
    {
     "data": {
      "text/plain": [
       "[{'type': 'bing_grounding', 'bing_grounding': {'search_configurations': [{'connection_id': '/subscriptions/7a28b21e-0d3e-4435-a686-d92889d4ee96/resourceGroups/AI-FOUNDRY-RG/providers/Microsoft.CognitiveServices/accounts/aq-ai-foundry-Sweden-Central/projects/firstProject/connections/aqbinggrounding002', 'market': '', 'set_lang': '', 'count': 5, 'freshness': ''}]}}]"
      ]
     },
     "execution_count": 7,
     "metadata": {},
     "output_type": "execute_result"
    }
   ],
   "source": [
    "# Create the agent with the Bing grounding tool\n",
    "instructions = \"You are an AI Agent that can do some web search using Bing\"\n",
    "agent = project_client.create_agent(\n",
    "        model=os.getenv(\"MODEL_DEPLOYMENT_NAME\"),\n",
    "        name=\"my-bing-grounding-agent\",\n",
    "        instructions=instructions,\n",
    "        tools=bing.definitions,\n",
    "        headers={\"x-ms-enable-preview\": \"true\"}\n",
    "    )\n",
    "    # [END create_agent_with_bing_grounding_tool]\n",
    "\n",
    "print(f\"Created agent, ID: {agent.id}\")\n",
    "\n",
    "bing\n",
    "bing.definitions\n"
   ]
  },
  {
   "cell_type": "markdown",
   "id": "b4564c5d",
   "metadata": {},
   "source": [
    "### Create THREAD"
   ]
  },
  {
   "cell_type": "code",
   "execution_count": 8,
   "id": "dd35b8d1-10ce-44a3-8d47-dea2854e73b8",
   "metadata": {},
   "outputs": [
    {
     "name": "stdout",
     "output_type": "stream",
     "text": [
      "Created thread, ID: thread_UXYPGOvTJFkVn831XSmYRLoM\n"
     ]
    }
   ],
   "source": [
    "# Create thread for communication\n",
    "thread = project_client.threads.create()\n",
    "print(f\"Created thread, ID: {thread.id}\")"
   ]
  },
  {
   "cell_type": "markdown",
   "id": "e037d937",
   "metadata": {},
   "source": [
    "### Example #1"
   ]
  },
  {
   "cell_type": "code",
   "execution_count": 9,
   "id": "411697dc-ec6b-4d80-8871-6d10003084d6",
   "metadata": {},
   "outputs": [],
   "source": [
    "query = \"What is the current price of MICROSOFT stock?\""
   ]
  },
  {
   "cell_type": "markdown",
   "id": "57c1f298",
   "metadata": {},
   "source": [
    "### Create first message in the thread"
   ]
  },
  {
   "cell_type": "code",
   "execution_count": 10,
   "id": "03490def-7224-4253-813f-405f609d33b3",
   "metadata": {},
   "outputs": [
    {
     "name": "stdout",
     "output_type": "stream",
     "text": [
      "Created message, ID: msg_OCXvQSsPdtmk2nSsj8NhWgn8\n"
     ]
    }
   ],
   "source": [
    "# Create message to thread\n",
    "message = project_client.messages.create(\n",
    "    thread_id=thread.id,\n",
    "    role=\"user\",\n",
    "    content=query,\n",
    ")\n",
    "\n",
    "print(f\"Created message, ID: {message.id}\")"
   ]
  },
  {
   "cell_type": "markdown",
   "id": "1dabc0cd",
   "metadata": {},
   "source": [
    "### Create first RUN"
   ]
  },
  {
   "cell_type": "code",
   "execution_count": 11,
   "id": "dba66684",
   "metadata": {},
   "outputs": [
    {
     "name": "stdout",
     "output_type": "stream",
     "text": [
      "Run finished with status: RunStatus.COMPLETED\n"
     ]
    }
   ],
   "source": [
    "# Create and process agent run in thread with tools\n",
    "run = project_client.runs.create_and_process(thread_id=thread.id, agent_id=agent.id)\n",
    "print(f\"Run finished with status: {run.status}\")\n",
    "\n",
    "if run.status == \"failed\":\n",
    "    print(f\"Run failed: {run.last_error}\")"
   ]
  },
  {
   "cell_type": "markdown",
   "id": "af0c946e",
   "metadata": {},
   "source": [
    "### Check status of the RUN and tool calls"
   ]
  },
  {
   "cell_type": "code",
   "execution_count": 12,
   "id": "e80d8ce3",
   "metadata": {},
   "outputs": [
    {
     "name": "stdout",
     "output_type": "stream",
     "text": [
      "Step step_OEEdl6kPvxk0Hkd6TnbiJ3Nr status: completed\n",
      "Step step_1cIbfmSF5SVrRa2mR1AY2Sdb status: completed\n",
      "  Tool calls:\n",
      "    Tool Call ID: call_4RNO76SikMVT6cZX62f8vIPK\n",
      "    Type: bing_grounding\n",
      "    Bing Grounding ID: https://api.bing.microsoft.com/v7.0/search?q=search(query: \"current price of Microsoft stock\")\n",
      "\n"
     ]
    },
    {
     "data": {
      "text/plain": [
       "{'prompt_tokens': 2810, 'completion_tokens': 67, 'total_tokens': 2877, 'prompt_token_details': {'cached_tokens': 0}}"
      ]
     },
     "execution_count": 12,
     "metadata": {},
     "output_type": "execute_result"
    }
   ],
   "source": [
    "# Fetch run steps to get the details of the agent run\n",
    "run_steps = project_client.run_steps.list(thread_id=thread.id, run_id=run.id)\n",
    "for step in run_steps:\n",
    "    print(f\"Step {step['id']} status: {step['status']}\")\n",
    "    step_details = step.get(\"step_details\", {})\n",
    "    tool_calls = step_details.get(\"tool_calls\", [])\n",
    "\n",
    "    if tool_calls:\n",
    "        print(\"  Tool calls:\")\n",
    "        for call in tool_calls:\n",
    "            print(f\"    Tool Call ID: {call.get('id')}\")\n",
    "            print(f\"    Type: {call.get('type')}\")\n",
    "\n",
    "            bing_grounding_details = call.get(\"bing_grounding\", {})\n",
    "            if bing_grounding_details:\n",
    "                print(f\"    Bing Grounding ID: {bing_grounding_details.get('requesturl')}\")\n",
    "\n",
    "print()  # add an extra newline between steps\n",
    "\n",
    "run.usage\n"
   ]
  },
  {
   "cell_type": "markdown",
   "id": "a7146f88",
   "metadata": {},
   "source": [
    "### Get response"
   ]
  },
  {
   "cell_type": "code",
   "execution_count": 13,
   "id": "ca0e63af",
   "metadata": {},
   "outputs": [
    {
     "name": "stdout",
     "output_type": "stream",
     "text": [
      "Agent response: As of the most recent market close, the price of Microsoft (MSFT) stock is $474.96 USD. Please note that prices may fluctuate during after-hours trading and when markets are open【3:4†source】.\n",
      "URL Citation: [Microsoft Stock Price Today | NASDAQ: MSFT Live - Investing.com](https://www.investing.com/equities/microsoft-corp)\n"
     ]
    }
   ],
   "source": [
    "# Print the Agent's response message with optional citation\n",
    "response_message = project_client.messages.get_last_message_by_role(thread_id=thread.id, role=MessageRole.AGENT)\n",
    "if response_message:\n",
    "    for text_message in response_message.text_messages:\n",
    "        print(f\"Agent response: {text_message.text.value}\")\n",
    "    for annotation in response_message.url_citation_annotations:\n",
    "        print(f\"URL Citation: [{annotation.url_citation.title}]({annotation.url_citation.url})\")"
   ]
  },
  {
   "cell_type": "markdown",
   "id": "c7cf6b14",
   "metadata": {},
   "source": [
    "### Example #2"
   ]
  },
  {
   "cell_type": "code",
   "execution_count": 14,
   "id": "547a800a-7563-4a01-a846-c9953b31378a",
   "metadata": {},
   "outputs": [],
   "source": [
    "query = \"find out about the latest iPhone\""
   ]
  },
  {
   "cell_type": "code",
   "execution_count": 15,
   "id": "e8877602",
   "metadata": {},
   "outputs": [
    {
     "name": "stdout",
     "output_type": "stream",
     "text": [
      "Created message, ID: msg_B2CzEUiWXHYPozmNw4FV3rJZ\n"
     ]
    }
   ],
   "source": [
    "# Create message to thread\n",
    "message = project_client.messages.create(\n",
    "    thread_id=thread.id,\n",
    "    role=\"user\",\n",
    "    content=query,\n",
    ")\n",
    "\n",
    "print(f\"Created message, ID: {message.id}\")"
   ]
  },
  {
   "cell_type": "code",
   "execution_count": 16,
   "id": "cbb3202b",
   "metadata": {},
   "outputs": [
    {
     "name": "stdout",
     "output_type": "stream",
     "text": [
      "Run finished with status: RunStatus.COMPLETED\n"
     ]
    }
   ],
   "source": [
    "# Create and process agent run in thread with tools\n",
    "run = project_client.runs.create_and_process(thread_id=thread.id, agent_id=agent.id)\n",
    "print(f\"Run finished with status: {run.status}\")\n",
    "\n",
    "if run.status == \"failed\":\n",
    "    print(f\"Run failed: {run.last_error}\")"
   ]
  },
  {
   "cell_type": "code",
   "execution_count": 17,
   "id": "8f099ab3",
   "metadata": {},
   "outputs": [
    {
     "name": "stdout",
     "output_type": "stream",
     "text": [
      "Step step_O6YXOWSdUszRJV8nlhj7np2x status: completed\n",
      "Step step_gyCqRDMW0oh1WRmXLjYwrcxb status: completed\n",
      "  Tool calls:\n",
      "    Tool Call ID: call_XbdCdcUV1RslB4GmY7mq6F3a\n",
      "    Type: bing_grounding\n",
      "    Bing Grounding ID: https://api.bing.microsoft.com/v7.0/search?q=search(query: \"latest iPhone 2025\")\n",
      "\n"
     ]
    },
    {
     "data": {
      "text/plain": [
       "{'prompt_tokens': 4257, 'completion_tokens': 348, 'total_tokens': 4605, 'prompt_token_details': {'cached_tokens': 0}}"
      ]
     },
     "execution_count": 17,
     "metadata": {},
     "output_type": "execute_result"
    }
   ],
   "source": [
    "# Fetch run steps to get the details of the agent run\n",
    "run_steps = project_client.run_steps.list(thread_id=thread.id, run_id=run.id)\n",
    "for step in run_steps:\n",
    "    print(f\"Step {step['id']} status: {step['status']}\")\n",
    "    step_details = step.get(\"step_details\", {})\n",
    "    tool_calls = step_details.get(\"tool_calls\", [])\n",
    "\n",
    "    if tool_calls:\n",
    "        print(\"  Tool calls:\")\n",
    "        for call in tool_calls:\n",
    "            print(f\"    Tool Call ID: {call.get('id')}\")\n",
    "            print(f\"    Type: {call.get('type')}\")\n",
    "\n",
    "            bing_grounding_details = call.get(\"bing_grounding\", {})\n",
    "            if bing_grounding_details:\n",
    "                print(f\"    Bing Grounding ID: {bing_grounding_details.get('requesturl')}\")\n",
    "\n",
    "print()  # add an extra newline between steps\n",
    "\n",
    "run.usage"
   ]
  },
  {
   "cell_type": "code",
   "execution_count": 18,
   "id": "6ff39030",
   "metadata": {},
   "outputs": [
    {
     "name": "stdout",
     "output_type": "stream",
     "text": [
      "Agent response: The latest iPhone in 2025 is centered around the upcoming iPhone 17 series, which is expected to debut around September 2025. The 2025 lineup includes multiple models, most notably the iPhone 17, iPhone 17 Pro, and a brand-new, ultra-slim model called the iPhone 17 Air. Key upgrades for the newest iPhones include:\n",
      "\n",
      "- A new, lighter design with titanium for flagship models and a slimmer profile for the iPhone 17 Air.\n",
      "- Major camera improvements, such as a periscope lens for up to 10x optical zoom on higher-end models, and enhanced computational photography features.\n",
      "- The latest A-series chips across all models for improved performance and energy efficiency.\n",
      "- Better battery life and faster charging.\n",
      "- Design differentiation between entry-level and flagship models, including ProMotion displays on the premium versions.\n",
      "- The entry-level iPhone SE is also getting a redesign, adopting an all-screen look and updated camera tech.\n",
      "\n",
      "These updates aim to modernize the iPhone with both hardware and software innovations—including advancements in AI through \"Apple Intelligence\" features with iOS 19. This marks one of the most significant design and technology shifts for the iPhone in several years【7:0†2025 iPhone Lineup: Features, Specs, and Pricing - Geeky Gadgets】【7:2†iPhone 2025 lineup: What to expect from Pro, Air and SE models | Cult ...】【7:4†What to expect from iPhones in 2025: iPhone 17 Air, iPhone SE 4 and ...】.\n",
      "URL Citation: [2025 iPhone Lineup: Features, Specs, and Pricing - Geeky Gadgets](https://www.geeky-gadgets.com/2025-iphones/)\n",
      "URL Citation: [iPhone 2025 lineup: What to expect from Pro, Air and SE models | Cult ...](https://www.cultofmac.com/news/iphone-2025)\n",
      "URL Citation: [What to expect from iPhones in 2025: iPhone 17 Air, iPhone SE 4 and ...](https://www.tomsguide.com/phones/iphones/iphone-in-2025-more-ai-new-models-and-maybe-the-slimmest-iphone-ever)\n"
     ]
    }
   ],
   "source": [
    "# Print the Agent's response message with optional citation\n",
    "response_message = project_client.messages.get_last_message_by_role(thread_id=thread.id, role=MessageRole.AGENT)\n",
    "if response_message:\n",
    "    for text_message in response_message.text_messages:\n",
    "        print(f\"Agent response: {text_message.text.value}\")\n",
    "    for annotation in response_message.url_citation_annotations:\n",
    "        print(f\"URL Citation: [{annotation.url_citation.title}]({annotation.url_citation.url})\")"
   ]
  },
  {
   "cell_type": "markdown",
   "id": "8953bb8f",
   "metadata": {},
   "source": [
    "### Example #3"
   ]
  },
  {
   "cell_type": "code",
   "execution_count": 19,
   "id": "06f3df88-e34c-4e75-a765-8b72073517e1",
   "metadata": {},
   "outputs": [],
   "source": [
    "query = \"What is the weather informations for Mexico city? Show the report and use emojis and be funny\""
   ]
  },
  {
   "cell_type": "code",
   "execution_count": 20,
   "id": "543d4b7b",
   "metadata": {},
   "outputs": [
    {
     "name": "stdout",
     "output_type": "stream",
     "text": [
      "Created message, ID: msg_8NP2Yzx6OIKoCsZc17KLRJ2Q\n"
     ]
    }
   ],
   "source": [
    "# Create message to thread\n",
    "message = project_client.messages.create(\n",
    "    thread_id=thread.id,\n",
    "    role=\"user\",\n",
    "    content=query,\n",
    ")\n",
    "\n",
    "print(f\"Created message, ID: {message.id}\")"
   ]
  },
  {
   "cell_type": "code",
   "execution_count": 21,
   "id": "2ea5faeb",
   "metadata": {},
   "outputs": [
    {
     "name": "stdout",
     "output_type": "stream",
     "text": [
      "Run finished with status: RunStatus.COMPLETED\n"
     ]
    }
   ],
   "source": [
    "# Create and process agent run in thread with tools\n",
    "run = project_client.runs.create_and_process(thread_id=thread.id, agent_id=agent.id)\n",
    "print(f\"Run finished with status: {run.status}\")\n",
    "\n",
    "if run.status == \"failed\":\n",
    "    print(f\"Run failed: {run.last_error}\")"
   ]
  },
  {
   "cell_type": "code",
   "execution_count": 22,
   "id": "8395971f",
   "metadata": {},
   "outputs": [
    {
     "name": "stdout",
     "output_type": "stream",
     "text": [
      "Step step_ArYuHpPqbeCCGU1YN5dUg5Pn status: completed\n",
      "Step step_UGNccMTD8jHVkt5BrKD47eNy status: completed\n",
      "  Tool calls:\n",
      "    Tool Call ID: call_AigtPWqYMDBrXq2uDzQxavXV\n",
      "    Type: bing_grounding\n",
      "    Bing Grounding ID: https://api.bing.microsoft.com/v7.0/search?q=search(query: \"current weather Mexico City\")\n",
      "\n"
     ]
    },
    {
     "data": {
      "text/plain": [
       "{'prompt_tokens': 5428, 'completion_tokens': 283, 'total_tokens': 5711, 'prompt_token_details': {'cached_tokens': 0}}"
      ]
     },
     "execution_count": 22,
     "metadata": {},
     "output_type": "execute_result"
    }
   ],
   "source": [
    "# Fetch run steps to get the details of the agent run\n",
    "run_steps = project_client.run_steps.list(thread_id=thread.id, run_id=run.id)\n",
    "for step in run_steps:\n",
    "    print(f\"Step {step['id']} status: {step['status']}\")\n",
    "    step_details = step.get(\"step_details\", {})\n",
    "    tool_calls = step_details.get(\"tool_calls\", [])\n",
    "\n",
    "    if tool_calls:\n",
    "        print(\"  Tool calls:\")\n",
    "        for call in tool_calls:\n",
    "            print(f\"    Tool Call ID: {call.get('id')}\")\n",
    "            print(f\"    Type: {call.get('type')}\")\n",
    "\n",
    "            bing_grounding_details = call.get(\"bing_grounding\", {})\n",
    "            if bing_grounding_details:\n",
    "                print(f\"    Bing Grounding ID: {bing_grounding_details.get('requesturl')}\")\n",
    "\n",
    "print()  # add an extra newline between steps\n",
    "\n",
    "run.usage"
   ]
  },
  {
   "cell_type": "code",
   "execution_count": 23,
   "id": "7b3f4698",
   "metadata": {},
   "outputs": [
    {
     "name": "stdout",
     "output_type": "stream",
     "text": [
      "Agent response: 🌦️ Hola from Mexico City, amigos! Here’s your sparkly weather report, now with 20% more emojis and 100% more laughs!\n",
      "\n",
      "- Current Temperature: 22°C (that’s 72°F for those who like to keep things spicy 🔥).\n",
      "- Weather: Cloudy, like a tortilla that dropped in the flour bucket. ☁️\n",
      "- Showers: Expect some wet action late in the afternoon. Take an umbrella or risk the “wet dog” look! ☔🐶\n",
      "- Humidity: 52%—just enough to keep your hair interesting! 💇‍♂️💧\n",
      "- Wind: Breezy from the northeast at 12 mph, so hold onto your taco hats! 🎩🌮\n",
      "- UV Index: 0 right now, so no sunburn excuses if you forget sunscreen! 🧴🌞\n",
      "\n",
      "Tonight will be partly cloudy with a chance of sprinkles—think “donut” sprinkles, but less delicious. 🍩🌧️\n",
      "\n",
      "Stay dry, wear those stylish rain boots, and if you see the sun, take a selfie—it's rare! 📸😎\n",
      "\n",
      "¡Disfruta el clima!【11:0†Mexico City, México City, Mexico Current Weather | AccuWeather】\n",
      "URL Citation: [Mexico City, México City, Mexico Current Weather | AccuWeather](https://www.accuweather.com/en/mx/mexico-city/242560/current-weather/242560)\n"
     ]
    }
   ],
   "source": [
    "# Print the Agent's response message with optional citation\n",
    "response_message = project_client.messages.get_last_message_by_role(thread_id=thread.id, role=MessageRole.AGENT)\n",
    "if response_message:\n",
    "    for text_message in response_message.text_messages:\n",
    "        print(f\"Agent response: {text_message.text.value}\")\n",
    "    for annotation in response_message.url_citation_annotations:\n",
    "        print(f\"URL Citation: [{annotation.url_citation.title}]({annotation.url_citation.url})\")"
   ]
  },
  {
   "cell_type": "markdown",
   "id": "6d5f61ac-880e-4394-8e63-6feb8c740eb4",
   "metadata": {},
   "source": [
    "### Post processing"
   ]
  },
  {
   "cell_type": "code",
   "execution_count": 24,
   "id": "c2e0842b",
   "metadata": {},
   "outputs": [
    {
     "name": "stdout",
     "output_type": "stream",
     "text": [
      "Listing all agents in the project:\n",
      "Agent ID: asst_tMcavEj0LE5740DP2Hg56u6s, Name: my-bing-grounding-agent, Model: gpt-4.1, Instructions: You are an AI Agent that can do some web search using Bing\n"
     ]
    }
   ],
   "source": [
    "# List all agents in the project\n",
    "print(\"Listing all agents in the project:\")\n",
    "agents = project_client.list_agents()\n",
    "for agent in agents:\n",
    "    print(f\"Agent ID: {agent.id}, Name: {agent.name}, Model: {agent.model}, Instructions: {agent.instructions}\")"
   ]
  },
  {
   "cell_type": "code",
   "execution_count": 26,
   "id": "cd108561",
   "metadata": {},
   "outputs": [],
   "source": [
    "# recurse through all agents and delete them adding a test to stop if the agent is not found\n",
    "for agent in project_client.list_agents():\n",
    "    try:\n",
    "        print(f\"Deleting agent ID: {agent.id}, Name: {agent.name}\")\n",
    "        project_client.delete_agent(agent.id)\n",
    "    except Exception as e:\n",
    "        print(f\"Error deleting agent ID: {agent.id}, Name: {agent.name}, Error: {e}\")"
   ]
  },
  {
   "cell_type": "code",
   "execution_count": 27,
   "id": "65de8133",
   "metadata": {},
   "outputs": [],
   "source": [
    "agents = project_client.list_agents()\n",
    "for agent in agents:\n",
    "    print(f\"Agent ID: {agent.id}, Name: {agent.name}, Model: {agent.model}, Instructions: {agent.instructions}\")"
   ]
  }
 ],
 "metadata": {
  "kernelspec": {
   "display_name": ".venv",
   "language": "python",
   "name": "python3"
  },
  "language_info": {
   "codemirror_mode": {
    "name": "ipython",
    "version": 3
   },
   "file_extension": ".py",
   "mimetype": "text/x-python",
   "name": "python",
   "nbconvert_exporter": "python",
   "pygments_lexer": "ipython3",
   "version": "3.13.5"
  },
  "varInspector": {
   "cols": {
    "lenName": 16,
    "lenType": 16,
    "lenVar": 40
   },
   "kernels_config": {
    "python": {
     "delete_cmd_postfix": "",
     "delete_cmd_prefix": "del ",
     "library": "var_list.py",
     "varRefreshCmd": "print(var_dic_list())"
    },
    "r": {
     "delete_cmd_postfix": ") ",
     "delete_cmd_prefix": "rm(",
     "library": "var_list.r",
     "varRefreshCmd": "cat(var_dic_list()) "
    }
   },
   "types_to_exclude": [
    "module",
    "function",
    "builtin_function_or_method",
    "instance",
    "_Feature"
   ],
   "window_display": false
  }
 },
 "nbformat": 4,
 "nbformat_minor": 5
}
