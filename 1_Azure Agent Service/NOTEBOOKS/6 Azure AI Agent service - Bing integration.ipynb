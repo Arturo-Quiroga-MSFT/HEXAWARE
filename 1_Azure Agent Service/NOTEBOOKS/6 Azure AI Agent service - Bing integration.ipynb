{
 "cells": [
  {
   "cell_type": "markdown",
   "id": "431cc026-279f-4105-8444-f1b93650da0d",
   "metadata": {},
   "source": [
    "# Azure AI Agent service - Bing integration\n",
    "\n",
    "<img src=\"https://learn.microsoft.com/en-us/azure/ai-services/agents/media/agent-service-the-glue.png\" width=800>\n",
    "\n",
    "> https://learn.microsoft.com/en-us/azure/ai-services/agents/"
   ]
  },
  {
   "cell_type": "code",
   "execution_count": null,
   "id": "d75f0533-95e2-44fe-b8ed-d525b4c25b77",
   "metadata": {},
   "outputs": [],
   "source": [
    "#%pip install azure-ai-projects"
   ]
  },
  {
   "cell_type": "code",
   "execution_count": null,
   "id": "22eab459-0adb-42c1-86dd-ee4cdfb77c8a",
   "metadata": {},
   "outputs": [],
   "source": [
    "import datetime\n",
    "import os\n",
    "import sys\n",
    "\n",
    "from azure.ai.agents import AgentsClient\n",
    "from azure.identity import DefaultAzureCredential\n",
    "from azure.ai.agents.models import BingGroundingTool, MessageRole, ListSortOrder\n",
    "from dotenv import load_dotenv"
   ]
  },
  {
   "cell_type": "code",
   "execution_count": null,
   "id": "65334de7-4005-401a-89c1-be24f75abbd9",
   "metadata": {},
   "outputs": [],
   "source": [
    "load_dotenv()"
   ]
  },
  {
   "cell_type": "code",
   "execution_count": null,
   "id": "92834c8e-8efd-40c9-b599-33e6fb95516e",
   "metadata": {},
   "outputs": [],
   "source": [
    "print(f\"Today is {datetime.datetime.today().strftime('%d-%b-%Y %H:%M:%S')}\")"
   ]
  },
  {
   "cell_type": "markdown",
   "id": "54fa0903-f907-4c7f-a51b-4893d15ff371",
   "metadata": {},
   "source": [
    "## 1. Grounding Bing Search"
   ]
  },
  {
   "cell_type": "markdown",
   "id": "3ac0a60b-b688-4970-ba23-781f2196b75c",
   "metadata": {},
   "source": [
    "### Connect to AI Foundry"
   ]
  },
  {
   "cell_type": "code",
   "execution_count": null,
   "id": "76c7bbb7-0faa-4500-ba42-7c5b176f6196",
   "metadata": {},
   "outputs": [],
   "source": [
    "project_client = AgentsClient(\n",
    "    endpoint=os.getenv(\"PROJECT_ENDPOINT\"),\n",
    "    credential=DefaultAzureCredential(),\n",
    ")"
   ]
  },
  {
   "cell_type": "markdown",
   "id": "e31b2d3a",
   "metadata": {},
   "source": [
    "### Create connection to bing grounding service"
   ]
  },
  {
   "cell_type": "code",
   "execution_count": null,
   "id": "5c20b2ef-e913-4dc0-8bdf-116772d8fc9a",
   "metadata": {},
   "outputs": [],
   "source": [
    "# [START create_agent_with_bing_grounding_tool]\n",
    "conn_id = os.getenv(\"AZURE_BING_CONNECTION_ID\")\n",
    "\n",
    "# Initialize agent bing tool and add the connection id\n",
    "bing = BingGroundingTool(connection_id=conn_id)"
   ]
  },
  {
   "cell_type": "markdown",
   "id": "1db5f5d1",
   "metadata": {},
   "source": [
    "### Create agent with Bing Grounding tool"
   ]
  },
  {
   "cell_type": "code",
   "execution_count": null,
   "id": "f85e9d94-49a7-4d4e-a0ea-f64987951cb4",
   "metadata": {},
   "outputs": [],
   "source": [
    "# Create the agent with the Bing grounding tool\n",
    "instructions = \"You are an AI Agent that can do some web search using Bing\"\n",
    "agent = project_client.create_agent(\n",
    "        model=os.getenv(\"MODEL_DEPLOYMENT_NAME\"),\n",
    "        name=\"my-bing-grounding-agent\",\n",
    "        instructions=instructions,\n",
    "        tools=bing.definitions,\n",
    "        headers={\"x-ms-enable-preview\": \"true\"}\n",
    "    )\n",
    "    # [END create_agent_with_bing_grounding_tool]\n",
    "\n",
    "print(f\"Created agent, ID: {agent.id}\")\n",
    "\n",
    "bing\n",
    "bing.definitions\n"
   ]
  },
  {
   "cell_type": "markdown",
   "id": "b4564c5d",
   "metadata": {},
   "source": [
    "### Create THREAD"
   ]
  },
  {
   "cell_type": "code",
   "execution_count": null,
   "id": "dd35b8d1-10ce-44a3-8d47-dea2854e73b8",
   "metadata": {},
   "outputs": [],
   "source": [
    "# Create thread for communication\n",
    "thread = project_client.threads.create()\n",
    "print(f\"Created thread, ID: {thread.id}\")"
   ]
  },
  {
   "cell_type": "markdown",
   "id": "e037d937",
   "metadata": {},
   "source": [
    "### Example #1"
   ]
  },
  {
   "cell_type": "code",
   "execution_count": null,
   "id": "411697dc-ec6b-4d80-8871-6d10003084d6",
   "metadata": {},
   "outputs": [],
   "source": [
    "query = \"What is the current price of MICROSOFT stock?\""
   ]
  },
  {
   "cell_type": "markdown",
   "id": "57c1f298",
   "metadata": {},
   "source": [
    "### Create first message in the thread"
   ]
  },
  {
   "cell_type": "code",
   "execution_count": null,
   "id": "03490def-7224-4253-813f-405f609d33b3",
   "metadata": {},
   "outputs": [],
   "source": [
    "# Create message to thread\n",
    "message = project_client.messages.create(\n",
    "    thread_id=thread.id,\n",
    "    role=\"user\",\n",
    "    content=query,\n",
    ")\n",
    "\n",
    "print(f\"Created message, ID: {message.id}\")"
   ]
  },
  {
   "cell_type": "markdown",
   "id": "1dabc0cd",
   "metadata": {},
   "source": [
    "### Create first RUN"
   ]
  },
  {
   "cell_type": "code",
   "execution_count": null,
   "id": "dba66684",
   "metadata": {},
   "outputs": [],
   "source": [
    "# Create and process agent run in thread with tools\n",
    "run = project_client.runs.create_and_process(thread_id=thread.id, agent_id=agent.id)\n",
    "print(f\"Run finished with status: {run.status}\")\n",
    "\n",
    "if run.status == \"failed\":\n",
    "    print(f\"Run failed: {run.last_error}\")"
   ]
  },
  {
   "cell_type": "markdown",
   "id": "af0c946e",
   "metadata": {},
   "source": [
    "### Check status of the RUN and tool calls"
   ]
  },
  {
   "cell_type": "code",
   "execution_count": null,
   "id": "e80d8ce3",
   "metadata": {},
   "outputs": [],
   "source": [
    "# Fetch run steps to get the details of the agent run\n",
    "run_steps = project_client.run_steps.list(thread_id=thread.id, run_id=run.id)\n",
    "for step in run_steps:\n",
    "    print(f\"Step {step['id']} status: {step['status']}\")\n",
    "    step_details = step.get(\"step_details\", {})\n",
    "    tool_calls = step_details.get(\"tool_calls\", [])\n",
    "\n",
    "    if tool_calls:\n",
    "        print(\"  Tool calls:\")\n",
    "        for call in tool_calls:\n",
    "            print(f\"    Tool Call ID: {call.get('id')}\")\n",
    "            print(f\"    Type: {call.get('type')}\")\n",
    "\n",
    "            bing_grounding_details = call.get(\"bing_grounding\", {})\n",
    "            if bing_grounding_details:\n",
    "                print(f\"    Bing Grounding ID: {bing_grounding_details.get('requesturl')}\")\n",
    "\n",
    "print()  # add an extra newline between steps\n",
    "\n",
    "run.usage\n"
   ]
  },
  {
   "cell_type": "markdown",
   "id": "a7146f88",
   "metadata": {},
   "source": [
    "### Get response"
   ]
  },
  {
   "cell_type": "code",
   "execution_count": null,
   "id": "ca0e63af",
   "metadata": {},
   "outputs": [],
   "source": [
    "# Print the Agent's response message with optional citation\n",
    "response_message = project_client.messages.get_last_message_by_role(thread_id=thread.id, role=MessageRole.AGENT)\n",
    "if response_message:\n",
    "    for text_message in response_message.text_messages:\n",
    "        print(f\"Agent response: {text_message.text.value}\")\n",
    "    for annotation in response_message.url_citation_annotations:\n",
    "        print(f\"URL Citation: [{annotation.url_citation.title}]({annotation.url_citation.url})\")"
   ]
  },
  {
   "cell_type": "markdown",
   "id": "c7cf6b14",
   "metadata": {},
   "source": [
    "### Example #2"
   ]
  },
  {
   "cell_type": "code",
   "execution_count": null,
   "id": "547a800a-7563-4a01-a846-c9953b31378a",
   "metadata": {},
   "outputs": [],
   "source": [
    "query = \"find out about the latest iPhone\""
   ]
  },
  {
   "cell_type": "code",
   "execution_count": null,
   "id": "e8877602",
   "metadata": {},
   "outputs": [],
   "source": [
    "# Create message to thread\n",
    "message = project_client.messages.create(\n",
    "    thread_id=thread.id,\n",
    "    role=\"user\",\n",
    "    content=query,\n",
    ")\n",
    "\n",
    "print(f\"Created message, ID: {message.id}\")"
   ]
  },
  {
   "cell_type": "code",
   "execution_count": null,
   "id": "cbb3202b",
   "metadata": {},
   "outputs": [],
   "source": [
    "# Create and process agent run in thread with tools\n",
    "run = project_client.runs.create_and_process(thread_id=thread.id, agent_id=agent.id)\n",
    "print(f\"Run finished with status: {run.status}\")\n",
    "\n",
    "if run.status == \"failed\":\n",
    "    print(f\"Run failed: {run.last_error}\")"
   ]
  },
  {
   "cell_type": "code",
   "execution_count": null,
   "id": "8f099ab3",
   "metadata": {},
   "outputs": [],
   "source": [
    "# Fetch run steps to get the details of the agent run\n",
    "run_steps = project_client.run_steps.list(thread_id=thread.id, run_id=run.id)\n",
    "for step in run_steps:\n",
    "    print(f\"Step {step['id']} status: {step['status']}\")\n",
    "    step_details = step.get(\"step_details\", {})\n",
    "    tool_calls = step_details.get(\"tool_calls\", [])\n",
    "\n",
    "    if tool_calls:\n",
    "        print(\"  Tool calls:\")\n",
    "        for call in tool_calls:\n",
    "            print(f\"    Tool Call ID: {call.get('id')}\")\n",
    "            print(f\"    Type: {call.get('type')}\")\n",
    "\n",
    "            bing_grounding_details = call.get(\"bing_grounding\", {})\n",
    "            if bing_grounding_details:\n",
    "                print(f\"    Bing Grounding ID: {bing_grounding_details.get('requesturl')}\")\n",
    "\n",
    "print()  # add an extra newline between steps\n",
    "\n",
    "run.usage"
   ]
  },
  {
   "cell_type": "code",
   "execution_count": 17,
   "id": "6ff39030",
   "metadata": {},
   "outputs": [
    {
     "name": "stdout",
     "output_type": "stream",
     "text": [
      "Agent response: The latest iPhone lineup for 2025 is the iPhone 17 series, which will launch in the fall. Notable models include the iPhone 17, iPhone 17 Pro, and the all-new iPhone 17 Air—Apple’s thinnest iPhone ever, focusing on a sleek design while still packing the latest A19 chip and Apple’s high-refresh-rate display. There’s also the iPhone SE 4, a more budget-friendly model released earlier in the year, featuring a modern edge-to-edge OLED display, the A18 chip, a 48MP camera, and USB-C connectivity. All new iPhones benefit from big improvements in AI (Apple Intelligence), camera technology (including periscope zoom on Pro models), and battery life.\n",
      "\n",
      "If you’re looking for the best blend of value and features, the standard iPhone 16 is still widely recommended, but the iPhone 17 lineup will set the bar for 2025, especially with major camera and AI upgrades. For those prioritizing design, the iPhone 17 Air is the most stylish and unique option this year【7:1†AppleMagazine】【7:2†CNET】【7:3†Tom's Guide】.\n",
      "URL Citation: [The Incredible IPhone Lineup For 2025: What To Expect - AppleMagazine](https://applemagazine.com/iphone-2025-lineup/)\n",
      "URL Citation: [Best iPhone in 2025: Here's Which Apple Phone You Should Buy](https://www.cnet.com/tech/mobile/best-iphone/)\n",
      "URL Citation: [What to expect from iPhones in 2025: iPhone 17 Air, iPhone SE 4 and ...](https://www.tomsguide.com/phones/iphones/iphone-in-2025-more-ai-new-models-and-maybe-the-slimmest-iphone-ever)\n"
     ]
    }
   ],
   "source": [
    "# Print the Agent's response message with optional citation\n",
    "response_message = project_client.messages.get_last_message_by_role(thread_id=thread.id, role=MessageRole.AGENT)\n",
    "if response_message:\n",
    "    for text_message in response_message.text_messages:\n",
    "        print(f\"Agent response: {text_message.text.value}\")\n",
    "    for annotation in response_message.url_citation_annotations:\n",
    "        print(f\"URL Citation: [{annotation.url_citation.title}]({annotation.url_citation.url})\")"
   ]
  },
  {
   "cell_type": "markdown",
   "id": "8953bb8f",
   "metadata": {},
   "source": [
    "### Example #3"
   ]
  },
  {
   "cell_type": "code",
   "execution_count": 18,
   "id": "06f3df88-e34c-4e75-a765-8b72073517e1",
   "metadata": {},
   "outputs": [],
   "source": [
    "query = \"What is the weather informations for Mexico city? Show the report and use emojis and be funny\""
   ]
  },
  {
   "cell_type": "code",
   "execution_count": 19,
   "id": "543d4b7b",
   "metadata": {},
   "outputs": [
    {
     "name": "stdout",
     "output_type": "stream",
     "text": [
      "Created message, ID: msg_biH7wU75tKE0M91eU32Xaw20\n"
     ]
    }
   ],
   "source": [
    "# Create message to thread\n",
    "message = project_client.messages.create(\n",
    "    thread_id=thread.id,\n",
    "    role=\"user\",\n",
    "    content=query,\n",
    ")\n",
    "\n",
    "print(f\"Created message, ID: {message.id}\")"
   ]
  },
  {
   "cell_type": "code",
   "execution_count": 20,
   "id": "2ea5faeb",
   "metadata": {},
   "outputs": [
    {
     "name": "stdout",
     "output_type": "stream",
     "text": [
      "Run finished with status: RunStatus.COMPLETED\n"
     ]
    }
   ],
   "source": [
    "# Create and process agent run in thread with tools\n",
    "run = project_client.runs.create_and_process(thread_id=thread.id, agent_id=agent.id)\n",
    "print(f\"Run finished with status: {run.status}\")\n",
    "\n",
    "if run.status == \"failed\":\n",
    "    print(f\"Run failed: {run.last_error}\")"
   ]
  },
  {
   "cell_type": "code",
   "execution_count": 21,
   "id": "8395971f",
   "metadata": {},
   "outputs": [
    {
     "name": "stdout",
     "output_type": "stream",
     "text": [
      "Step step_9y95BT6yfWTO4yXXwVqMY9Wf status: completed\n",
      "Step step_SonuY0yeACa9fUIMA8GVWhq4 status: completed\n",
      "  Tool calls:\n",
      "    Tool Call ID: call_9TJbnaCjp1MTjMFBIPkcg6Nx\n",
      "    Type: bing_grounding\n",
      "    Bing Grounding ID: https://api.bing.microsoft.com/v7.0/search?q=search(query: \"current weather Mexico City\")\n",
      "\n"
     ]
    },
    {
     "data": {
      "text/plain": [
       "{'prompt_tokens': 6165, 'completion_tokens': 240, 'total_tokens': 6405, 'prompt_token_details': {'cached_tokens': 0}}"
      ]
     },
     "execution_count": 21,
     "metadata": {},
     "output_type": "execute_result"
    }
   ],
   "source": [
    "# Fetch run steps to get the details of the agent run\n",
    "run_steps = project_client.run_steps.list(thread_id=thread.id, run_id=run.id)\n",
    "for step in run_steps:\n",
    "    print(f\"Step {step['id']} status: {step['status']}\")\n",
    "    step_details = step.get(\"step_details\", {})\n",
    "    tool_calls = step_details.get(\"tool_calls\", [])\n",
    "\n",
    "    if tool_calls:\n",
    "        print(\"  Tool calls:\")\n",
    "        for call in tool_calls:\n",
    "            print(f\"    Tool Call ID: {call.get('id')}\")\n",
    "            print(f\"    Type: {call.get('type')}\")\n",
    "\n",
    "            bing_grounding_details = call.get(\"bing_grounding\", {})\n",
    "            if bing_grounding_details:\n",
    "                print(f\"    Bing Grounding ID: {bing_grounding_details.get('requesturl')}\")\n",
    "\n",
    "print()  # add an extra newline between steps\n",
    "\n",
    "run.usage"
   ]
  },
  {
   "cell_type": "code",
   "execution_count": 22,
   "id": "7b3f4698",
   "metadata": {},
   "outputs": [
    {
     "name": "stdout",
     "output_type": "stream",
     "text": [
      "Agent response: ☔🌩️ Weather Update for Mexico City! 🌆\n",
      "\n",
      "Today is an adventure in wetness—bring your umbrella and maybe a rubber duck! 🚶‍♂️💦\n",
      "\n",
      "- Current Temperature: 21°C (feels like a \"not so spicy taco\" 🌮)\n",
      "- High/Low: 22°C / 13°C (Mother Nature's version of \"mild sauce\") 🌡️\n",
      "- Humidity: 62% (like walking through a moist tortilla)\n",
      "- Thunderstorms all day! ⛈️⚡ (Yup, the sky is throwing a drum party and forgot the invite list)\n",
      "- Rain probability: 100% (try not to float away, amigos!)\n",
      "- Sunrise/Sunset: 5:57am / 7:17pm (there’s a sun somewhere behind those clouds... probably?)\n",
      "\n",
      "So, grab your rain boots and dance like no one’s watching—because everyone’s hiding from the thunder anyway! 😆🌂\n",
      "\n",
      "Stay dry, stay awesome!【11:4†Weather today - Mexico City, Mexico】\n",
      "URL Citation: [Weather today - Mexico City, Mexico](https://www.weather-atlas.com/en/mexico/mexico-city)\n"
     ]
    }
   ],
   "source": [
    "# Print the Agent's response message with optional citation\n",
    "response_message = project_client.messages.get_last_message_by_role(thread_id=thread.id, role=MessageRole.AGENT)\n",
    "if response_message:\n",
    "    for text_message in response_message.text_messages:\n",
    "        print(f\"Agent response: {text_message.text.value}\")\n",
    "    for annotation in response_message.url_citation_annotations:\n",
    "        print(f\"URL Citation: [{annotation.url_citation.title}]({annotation.url_citation.url})\")"
   ]
  },
  {
   "cell_type": "markdown",
   "id": "6d5f61ac-880e-4394-8e63-6feb8c740eb4",
   "metadata": {},
   "source": [
    "### Post processing"
   ]
  },
  {
   "cell_type": "code",
   "execution_count": null,
   "id": "c2e0842b",
   "metadata": {},
   "outputs": [],
   "source": [
    "# List all agents in the project\n",
    "print(\"Listing all agents in the project:\")\n",
    "agents = project_client.list_agents()\n",
    "for agent in agents:\n",
    "    print(f\"Agent ID: {agent.id}, Name: {agent.name}, Model: {agent.model}, Instructions: {agent.instructions}\")"
   ]
  },
  {
   "cell_type": "code",
   "execution_count": null,
   "id": "cd108561",
   "metadata": {},
   "outputs": [],
   "source": [
    "# recurse through all agents and delete them adding a test to stop if the agent is not found\n",
    "for agent in project_client.list_agents():\n",
    "    try:\n",
    "        print(f\"Deleting agent ID: {agent.id}, Name: {agent.name}\")\n",
    "        project_client.delete_agent(agent.id)\n",
    "    except Exception as e:\n",
    "        print(f\"Error deleting agent ID: {agent.id}, Name: {agent.name}, Error: {e}\")"
   ]
  },
  {
   "cell_type": "code",
   "execution_count": null,
   "id": "65de8133",
   "metadata": {},
   "outputs": [],
   "source": [
    "agents = project_client.list_agents()\n",
    "for agent in agents:\n",
    "    print(f\"Agent ID: {agent.id}, Name: {agent.name}, Model: {agent.model}, Instructions: {agent.instructions}\")"
   ]
  }
 ],
 "metadata": {
  "kernelspec": {
   "display_name": ".venv",
   "language": "python",
   "name": "python3"
  },
  "language_info": {
   "codemirror_mode": {
    "name": "ipython",
    "version": 3
   },
   "file_extension": ".py",
   "mimetype": "text/x-python",
   "name": "python",
   "nbconvert_exporter": "python",
   "pygments_lexer": "ipython3",
   "version": "3.13.5"
  },
  "varInspector": {
   "cols": {
    "lenName": 16,
    "lenType": 16,
    "lenVar": 40
   },
   "kernels_config": {
    "python": {
     "delete_cmd_postfix": "",
     "delete_cmd_prefix": "del ",
     "library": "var_list.py",
     "varRefreshCmd": "print(var_dic_list())"
    },
    "r": {
     "delete_cmd_postfix": ") ",
     "delete_cmd_prefix": "rm(",
     "library": "var_list.r",
     "varRefreshCmd": "cat(var_dic_list()) "
    }
   },
   "types_to_exclude": [
    "module",
    "function",
    "builtin_function_or_method",
    "instance",
    "_Feature"
   ],
   "window_display": false
  }
 },
 "nbformat": 4,
 "nbformat_minor": 5
}
