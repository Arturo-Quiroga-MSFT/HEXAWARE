{
 "cells": [
  {
   "cell_type": "markdown",
   "id": "431cc026-279f-4105-8444-f1b93650da0d",
   "metadata": {},
   "source": [
    "# Azure AI Agent service - Bing integration\n",
    "\n",
    "<img src=\"https://learn.microsoft.com/en-us/azure/ai-services/agents/media/agent-service-the-glue.png\" width=800>\n",
    "\n",
    "> https://learn.microsoft.com/en-us/azure/ai-services/agents/"
   ]
  },
  {
   "cell_type": "code",
   "execution_count": 1,
   "id": "d75f0533-95e2-44fe-b8ed-d525b4c25b77",
   "metadata": {},
   "outputs": [],
   "source": [
    "#%pip install azure-ai-projects"
   ]
  },
  {
   "cell_type": "code",
   "execution_count": 2,
   "id": "22eab459-0adb-42c1-86dd-ee4cdfb77c8a",
   "metadata": {},
   "outputs": [],
   "source": [
    "import datetime\n",
    "import os\n",
    "import sys\n",
    "\n",
    "from azure.ai.agents import AgentsClient\n",
    "from azure.identity import DefaultAzureCredential\n",
    "from azure.ai.agents.models import BingGroundingTool, MessageRole, ListSortOrder\n",
    "from dotenv import load_dotenv"
   ]
  },
  {
   "cell_type": "code",
   "execution_count": 3,
   "id": "65334de7-4005-401a-89c1-be24f75abbd9",
   "metadata": {},
   "outputs": [
    {
     "data": {
      "text/plain": [
       "True"
      ]
     },
     "execution_count": 3,
     "metadata": {},
     "output_type": "execute_result"
    }
   ],
   "source": [
    "load_dotenv(\"azure.env\")"
   ]
  },
  {
   "cell_type": "code",
   "execution_count": 4,
   "id": "92834c8e-8efd-40c9-b599-33e6fb95516e",
   "metadata": {},
   "outputs": [
    {
     "name": "stdout",
     "output_type": "stream",
     "text": [
      "Today is 09-Jun-2025 16:30:29\n"
     ]
    }
   ],
   "source": [
    "print(f\"Today is {datetime.datetime.today().strftime('%d-%b-%Y %H:%M:%S')}\")"
   ]
  },
  {
   "cell_type": "markdown",
   "id": "54fa0903-f907-4c7f-a51b-4893d15ff371",
   "metadata": {},
   "source": [
    "## 1. Grounding Bing Search"
   ]
  },
  {
   "cell_type": "markdown",
   "id": "3ac0a60b-b688-4970-ba23-781f2196b75c",
   "metadata": {},
   "source": [
    "### Connect to AI Foundry"
   ]
  },
  {
   "cell_type": "code",
   "execution_count": 32,
   "id": "76c7bbb7-0faa-4500-ba42-7c5b176f6196",
   "metadata": {},
   "outputs": [],
   "source": [
    "project_client = AgentsClient(\n",
    "    endpoint=os.getenv(\"PROJECT_ENDPOINT\"),\n",
    "    credential=DefaultAzureCredential(),\n",
    ")"
   ]
  },
  {
   "cell_type": "markdown",
   "id": "e31b2d3a",
   "metadata": {},
   "source": [
    "### Create connection to bing grounding service"
   ]
  },
  {
   "cell_type": "code",
   "execution_count": 33,
   "id": "5c20b2ef-e913-4dc0-8bdf-116772d8fc9a",
   "metadata": {},
   "outputs": [],
   "source": [
    "# [START create_agent_with_bing_grounding_tool]\n",
    "conn_id = os.getenv(\"AZURE_BING_CONNECTION_ID\")\n",
    "\n",
    "# Initialize agent bing tool and add the connection id\n",
    "bing = BingGroundingTool(connection_id=conn_id)"
   ]
  },
  {
   "cell_type": "markdown",
   "id": "1db5f5d1",
   "metadata": {},
   "source": [
    "### Create agent with Bing Grounding tool"
   ]
  },
  {
   "cell_type": "code",
   "execution_count": 34,
   "id": "f85e9d94-49a7-4d4e-a0ea-f64987951cb4",
   "metadata": {},
   "outputs": [
    {
     "name": "stdout",
     "output_type": "stream",
     "text": [
      "Created agent, ID: asst_sO5reTYCQVM5QUQ3M7SaL5IB\n"
     ]
    },
    {
     "data": {
      "text/plain": [
       "[{'type': 'bing_grounding', 'bing_grounding': {'search_configurations': [{'connection_id': '/subscriptions/7a28b21e-0d3e-4435-a686-d92889d4ee96/resourceGroups/AI-FOUNDRY-RG/providers/Microsoft.CognitiveServices/accounts/aq-ai-foundry-Sweden-Central/projects/firstProject/connections/aqbinggrounding002', 'market': '', 'set_lang': '', 'count': 5, 'freshness': ''}]}}]"
      ]
     },
     "execution_count": 34,
     "metadata": {},
     "output_type": "execute_result"
    }
   ],
   "source": [
    "# Create the agent with the Bing grounding tool\n",
    "instructions = \"You are an AI Agent that can do some web search using Bing\"\n",
    "agent = project_client.create_agent(\n",
    "        model=os.getenv(\"MODEL_DEPLOYMENT_NAME\"),\n",
    "        name=\"my-bing-grounding-agent\",\n",
    "        instructions=instructions,\n",
    "        tools=bing.definitions,\n",
    "        headers={\"x-ms-enable-preview\": \"true\"}\n",
    "    )\n",
    "    # [END create_agent_with_bing_grounding_tool]\n",
    "\n",
    "print(f\"Created agent, ID: {agent.id}\")\n",
    "\n",
    "bing\n",
    "bing.definitions\n"
   ]
  },
  {
   "cell_type": "markdown",
   "id": "b4564c5d",
   "metadata": {},
   "source": [
    "### Create THREAD"
   ]
  },
  {
   "cell_type": "code",
   "execution_count": 35,
   "id": "dd35b8d1-10ce-44a3-8d47-dea2854e73b8",
   "metadata": {},
   "outputs": [
    {
     "name": "stdout",
     "output_type": "stream",
     "text": [
      "Created thread, ID: thread_Lc9e9MfB1Vs28lhrY5ZAEyWa\n"
     ]
    }
   ],
   "source": [
    "# Create thread for communication\n",
    "thread = project_client.threads.create()\n",
    "print(f\"Created thread, ID: {thread.id}\")"
   ]
  },
  {
   "cell_type": "markdown",
   "id": "e037d937",
   "metadata": {},
   "source": [
    "### Query #1"
   ]
  },
  {
   "cell_type": "code",
   "execution_count": 36,
   "id": "411697dc-ec6b-4d80-8871-6d10003084d6",
   "metadata": {},
   "outputs": [],
   "source": [
    "query = \"What is the current price of MICROSOFT stock?\""
   ]
  },
  {
   "cell_type": "markdown",
   "id": "57c1f298",
   "metadata": {},
   "source": [
    "### Create first message in the thread"
   ]
  },
  {
   "cell_type": "code",
   "execution_count": 37,
   "id": "03490def-7224-4253-813f-405f609d33b3",
   "metadata": {},
   "outputs": [
    {
     "name": "stdout",
     "output_type": "stream",
     "text": [
      "Created message, ID: msg_XtV8U3WVPTT5hATzXw23cmBW\n"
     ]
    }
   ],
   "source": [
    "# Create message to thread\n",
    "message = project_client.messages.create(\n",
    "    thread_id=thread.id,\n",
    "    role=\"user\",\n",
    "    content=query,\n",
    ")\n",
    "\n",
    "print(f\"Created message, ID: {message.id}\")"
   ]
  },
  {
   "cell_type": "markdown",
   "id": "1dabc0cd",
   "metadata": {},
   "source": [
    "### Create first RUN"
   ]
  },
  {
   "cell_type": "code",
   "execution_count": 38,
   "id": "dba66684",
   "metadata": {},
   "outputs": [
    {
     "name": "stdout",
     "output_type": "stream",
     "text": [
      "Run finished with status: RunStatus.COMPLETED\n"
     ]
    }
   ],
   "source": [
    "# Create and process agent run in thread with tools\n",
    "run = project_client.runs.create_and_process(thread_id=thread.id, agent_id=agent.id)\n",
    "print(f\"Run finished with status: {run.status}\")\n",
    "\n",
    "if run.status == \"failed\":\n",
    "    print(f\"Run failed: {run.last_error}\")"
   ]
  },
  {
   "cell_type": "markdown",
   "id": "af0c946e",
   "metadata": {},
   "source": [
    "### Check status of the RUN and tool calls"
   ]
  },
  {
   "cell_type": "code",
   "execution_count": 39,
   "id": "e80d8ce3",
   "metadata": {},
   "outputs": [
    {
     "name": "stdout",
     "output_type": "stream",
     "text": [
      "Step step_d3mEeaco4fgQitd1fW5IbM2k status: completed\n",
      "Step step_EJIHUWYoTM8rSlKB2n6XzZH3 status: completed\n",
      "  Tool calls:\n",
      "    Tool Call ID: call_TlttQXlKg5HPgVekRFhL4UCd\n",
      "    Type: bing_grounding\n",
      "    Bing Grounding ID: https://api.bing.microsoft.com/v7.0/search?q=search(query: \"current price of Microsoft stock\")\n",
      "\n"
     ]
    },
    {
     "data": {
      "text/plain": [
       "{'prompt_tokens': 1270, 'completion_tokens': 150, 'total_tokens': 1420, 'prompt_token_details': {'cached_tokens': 0}}"
      ]
     },
     "execution_count": 39,
     "metadata": {},
     "output_type": "execute_result"
    }
   ],
   "source": [
    "# Fetch run steps to get the details of the agent run\n",
    "run_steps = project_client.run_steps.list(thread_id=thread.id, run_id=run.id)\n",
    "for step in run_steps:\n",
    "    print(f\"Step {step['id']} status: {step['status']}\")\n",
    "    step_details = step.get(\"step_details\", {})\n",
    "    tool_calls = step_details.get(\"tool_calls\", [])\n",
    "\n",
    "    if tool_calls:\n",
    "        print(\"  Tool calls:\")\n",
    "        for call in tool_calls:\n",
    "            print(f\"    Tool Call ID: {call.get('id')}\")\n",
    "            print(f\"    Type: {call.get('type')}\")\n",
    "\n",
    "            bing_grounding_details = call.get(\"bing_grounding\", {})\n",
    "            if bing_grounding_details:\n",
    "                print(f\"    Bing Grounding ID: {bing_grounding_details.get('requesturl')}\")\n",
    "\n",
    "print()  # add an extra newline between steps\n",
    "\n",
    "run.usage\n"
   ]
  },
  {
   "cell_type": "markdown",
   "id": "a7146f88",
   "metadata": {},
   "source": [
    "### Get response"
   ]
  },
  {
   "cell_type": "code",
   "execution_count": 40,
   "id": "ca0e63af",
   "metadata": {},
   "outputs": [
    {
     "name": "stdout",
     "output_type": "stream",
     "text": [
      "Agent response: The current price of Microsoft (MSFT) stock can be checked in real-time on financial platforms such as Yahoo Finance, Google Finance, or Nasdaq. For the most up-to-date value, visit one of these sources, as stock prices fluctuate continuously throughout trading hours. As of now, Microsoft stock has recently opened at a fresh all-time high, reflecting considerable investor interest【3:0†Microsoft Corporation (MSFT) Stock Price, News, Quote & History - Yahoo ...】【3:2†Microsoft Corp (MSFT) Stock Price & News - Google Finance】. For a specific real-time value, please check Yahoo Finance or Google Finance.\n",
      "URL Citation: [Microsoft Corporation (MSFT) Stock Price, News, Quote & History - Yahoo ...](https://finance.yahoo.com/quote/MSFT/)\n",
      "URL Citation: [Microsoft Corp (MSFT) Stock Price & News - Google Finance](https://www.google.com/finance/quote/MSFT%3ANASDAQ)\n"
     ]
    }
   ],
   "source": [
    "# Print the Agent's response message with optional citation\n",
    "response_message = project_client.messages.get_last_message_by_role(thread_id=thread.id, role=MessageRole.AGENT)\n",
    "if response_message:\n",
    "    for text_message in response_message.text_messages:\n",
    "        print(f\"Agent response: {text_message.text.value}\")\n",
    "    for annotation in response_message.url_citation_annotations:\n",
    "        print(f\"URL Citation: [{annotation.url_citation.title}]({annotation.url_citation.url})\")"
   ]
  },
  {
   "cell_type": "markdown",
   "id": "c7cf6b14",
   "metadata": {},
   "source": [
    "### Example #2"
   ]
  },
  {
   "cell_type": "code",
   "execution_count": 41,
   "id": "547a800a-7563-4a01-a846-c9953b31378a",
   "metadata": {},
   "outputs": [],
   "source": [
    "query = \"find out about the latest iPhone\""
   ]
  },
  {
   "cell_type": "code",
   "execution_count": 42,
   "id": "e8877602",
   "metadata": {},
   "outputs": [
    {
     "name": "stdout",
     "output_type": "stream",
     "text": [
      "Created message, ID: msg_9hxDwDCV30vdLjc4MvNBlFIe\n"
     ]
    }
   ],
   "source": [
    "# Create message to thread\n",
    "message = project_client.messages.create(\n",
    "    thread_id=thread.id,\n",
    "    role=\"user\",\n",
    "    content=query,\n",
    ")\n",
    "\n",
    "print(f\"Created message, ID: {message.id}\")"
   ]
  },
  {
   "cell_type": "code",
   "execution_count": 43,
   "id": "cbb3202b",
   "metadata": {},
   "outputs": [
    {
     "name": "stdout",
     "output_type": "stream",
     "text": [
      "Run finished with status: RunStatus.COMPLETED\n"
     ]
    }
   ],
   "source": [
    "# Create and process agent run in thread with tools\n",
    "run = project_client.runs.create_and_process(thread_id=thread.id, agent_id=agent.id)\n",
    "print(f\"Run finished with status: {run.status}\")\n",
    "\n",
    "if run.status == \"failed\":\n",
    "    print(f\"Run failed: {run.last_error}\")"
   ]
  },
  {
   "cell_type": "code",
   "execution_count": 44,
   "id": "8f099ab3",
   "metadata": {},
   "outputs": [
    {
     "name": "stdout",
     "output_type": "stream",
     "text": [
      "Step step_kBneE6oEiMqoqviJA47FfUh7 status: completed\n",
      "Step step_9P78GpELehNd03IHAR8Ob1ml status: completed\n",
      "  Tool calls:\n",
      "    Tool Call ID: call_mo0eB38zA6LXDzO8iN5K5Dl6\n",
      "    Type: bing_grounding\n",
      "    Bing Grounding ID: https://api.bing.microsoft.com/v7.0/search?q=search(query: \"latest iPhone 2025\")\n",
      "\n"
     ]
    },
    {
     "data": {
      "text/plain": [
       "{'prompt_tokens': 1735, 'completion_tokens': 156, 'total_tokens': 1891, 'prompt_token_details': {'cached_tokens': 0}}"
      ]
     },
     "execution_count": 44,
     "metadata": {},
     "output_type": "execute_result"
    }
   ],
   "source": [
    "# Fetch run steps to get the details of the agent run\n",
    "run_steps = project_client.run_steps.list(thread_id=thread.id, run_id=run.id)\n",
    "for step in run_steps:\n",
    "    print(f\"Step {step['id']} status: {step['status']}\")\n",
    "    step_details = step.get(\"step_details\", {})\n",
    "    tool_calls = step_details.get(\"tool_calls\", [])\n",
    "\n",
    "    if tool_calls:\n",
    "        print(\"  Tool calls:\")\n",
    "        for call in tool_calls:\n",
    "            print(f\"    Tool Call ID: {call.get('id')}\")\n",
    "            print(f\"    Type: {call.get('type')}\")\n",
    "\n",
    "            bing_grounding_details = call.get(\"bing_grounding\", {})\n",
    "            if bing_grounding_details:\n",
    "                print(f\"    Bing Grounding ID: {bing_grounding_details.get('requesturl')}\")\n",
    "\n",
    "print()  # add an extra newline between steps\n",
    "\n",
    "run.usage"
   ]
  },
  {
   "cell_type": "code",
   "execution_count": 45,
   "id": "6ff39030",
   "metadata": {},
   "outputs": [
    {
     "name": "stdout",
     "output_type": "stream",
     "text": [
      "Agent response: The latest iPhone lineup in 2025 features several new models, including the iPhone 16, iPhone 16 Pro, and a new budget-friendly iPhone SE 4. These phones have notable improvements in camera technology, battery life, and design. There are also rumors about an \"iPhone Air\" with a larger 6.55 to 6.65-inch screen for those preferring bigger displays. This year's iPhones offer options tailored to a variety of users, from affordable models to advanced Pro versions with the latest features【7:0†Geeky Gadgets】【7:2†CNET】【7:4†mobilen.nu】.\n",
      "URL Citation: [2025 iPhone Lineup: Features, Specs, and Pricing - Geeky Gadgets](https://www.geeky-gadgets.com/2025-iphones/)\n",
      "URL Citation: [Best iPhone in 2025: Here's Which Apple Phone You Should Buy](https://www.cnet.com/tech/mobile/best-iphone/)\n",
      "URL Citation: [Apples iPhone 2025: Större skärmar, förbättrade funktioner och ...](https://mobilen.nu/iphone-2025-storre-skarmar-foerbattrade-funktioner/)\n"
     ]
    }
   ],
   "source": [
    "# Print the Agent's response message with optional citation\n",
    "response_message = project_client.messages.get_last_message_by_role(thread_id=thread.id, role=MessageRole.AGENT)\n",
    "if response_message:\n",
    "    for text_message in response_message.text_messages:\n",
    "        print(f\"Agent response: {text_message.text.value}\")\n",
    "    for annotation in response_message.url_citation_annotations:\n",
    "        print(f\"URL Citation: [{annotation.url_citation.title}]({annotation.url_citation.url})\")"
   ]
  },
  {
   "cell_type": "markdown",
   "id": "8953bb8f",
   "metadata": {},
   "source": [
    "### Example #3"
   ]
  },
  {
   "cell_type": "code",
   "execution_count": 20,
   "id": "06f3df88-e34c-4e75-a765-8b72073517e1",
   "metadata": {},
   "outputs": [],
   "source": [
    "query = \"What is the weather informations for Mexico city? Show the report and use emojis and be funny\""
   ]
  },
  {
   "cell_type": "code",
   "execution_count": 21,
   "id": "543d4b7b",
   "metadata": {},
   "outputs": [
    {
     "name": "stdout",
     "output_type": "stream",
     "text": [
      "Created message, ID: msg_ighLZrI3BZx4nSB0Fp8O3ETw\n"
     ]
    }
   ],
   "source": [
    "# Create message to thread\n",
    "message = project_client.messages.create(\n",
    "    thread_id=thread.id,\n",
    "    role=\"user\",\n",
    "    content=query,\n",
    ")\n",
    "\n",
    "print(f\"Created message, ID: {message.id}\")"
   ]
  },
  {
   "cell_type": "code",
   "execution_count": 22,
   "id": "2ea5faeb",
   "metadata": {},
   "outputs": [
    {
     "name": "stdout",
     "output_type": "stream",
     "text": [
      "Run finished with status: RunStatus.COMPLETED\n"
     ]
    }
   ],
   "source": [
    "# Create and process agent run in thread with tools\n",
    "run = project_client.runs.create_and_process(thread_id=thread.id, agent_id=agent.id)\n",
    "print(f\"Run finished with status: {run.status}\")\n",
    "\n",
    "if run.status == \"failed\":\n",
    "    print(f\"Run failed: {run.last_error}\")"
   ]
  },
  {
   "cell_type": "code",
   "execution_count": 23,
   "id": "8395971f",
   "metadata": {},
   "outputs": [
    {
     "name": "stdout",
     "output_type": "stream",
     "text": [
      "Step step_76BbPlQehCGSfbBdVll3zSLD status: completed\n",
      "Step step_wlR28Qxbf6iZi93bXmamc2Hw status: completed\n",
      "  Tool calls:\n",
      "    Tool Call ID: call_1SuouAcIDjHyVLNXR653g4cJ\n",
      "    Type: bing_grounding\n",
      "    Bing Grounding ID: https://api.bing.microsoft.com/v7.0/search?q=search(query: \"current weather in Mexico City\")\n",
      "\n"
     ]
    },
    {
     "data": {
      "text/plain": [
       "{'prompt_tokens': 1735, 'completion_tokens': 217, 'total_tokens': 1952, 'prompt_token_details': {'cached_tokens': 0}}"
      ]
     },
     "execution_count": 23,
     "metadata": {},
     "output_type": "execute_result"
    }
   ],
   "source": [
    "# Fetch run steps to get the details of the agent run\n",
    "run_steps = project_client.run_steps.list(thread_id=thread.id, run_id=run.id)\n",
    "for step in run_steps:\n",
    "    print(f\"Step {step['id']} status: {step['status']}\")\n",
    "    step_details = step.get(\"step_details\", {})\n",
    "    tool_calls = step_details.get(\"tool_calls\", [])\n",
    "\n",
    "    if tool_calls:\n",
    "        print(\"  Tool calls:\")\n",
    "        for call in tool_calls:\n",
    "            print(f\"    Tool Call ID: {call.get('id')}\")\n",
    "            print(f\"    Type: {call.get('type')}\")\n",
    "\n",
    "            bing_grounding_details = call.get(\"bing_grounding\", {})\n",
    "            if bing_grounding_details:\n",
    "                print(f\"    Bing Grounding ID: {bing_grounding_details.get('requesturl')}\")\n",
    "\n",
    "print()  # add an extra newline between steps\n",
    "\n",
    "run.usage"
   ]
  },
  {
   "cell_type": "code",
   "execution_count": 24,
   "id": "7b3f4698",
   "metadata": {},
   "outputs": [
    {
     "name": "stdout",
     "output_type": "stream",
     "text": [
      "Agent response: 🌞 Mexico City Weather Report! 🇲🇽\n",
      "\n",
      "Right now, Mexico City is rocking that comfortable weather: mostly sunny with a bit of cloud cover later—perfect for tacos outdoors! 🌮😎\n",
      "\n",
      "- Temperature: Comfortable (neither sweat nor shiver weather!) 🌡️\n",
      "- Skies: Mostly sunny with some playful clouds rolling in later. ☀️➡️⛅\n",
      "- Air: Good for everyone, unless you’re a cloud (then, sorry, today’s not your day)! 🌬️\n",
      "- Recommendation: Grab your sunscreen, shades, and maybe a sombrero for style. Just don’t forget your sense of humor! 😂🕶️\n",
      "\n",
      "Conclusion: If you’re in Mexico City, the weather is as friendly as a mariachi at a fiesta!\n",
      "For the freshest details, check your favorite weather app because the sky likes to surprise! 【11:1†Weather.com】【11:0†Accuweather】\n",
      "URL Citation: [Weather Forecast and Conditions for Mexico City, Mexico - The Weather ...](https://weather.com/weather/today/l/6121681b2c5df01145b9723d497c595c53ae08104787aa1c26bafdf2fb875c07)\n",
      "URL Citation: [Mexico City, México City, Mexico Current Weather | AccuWeather](https://www.accuweather.com/en/mx/mexico-city/242560/current-weather/242560)\n"
     ]
    }
   ],
   "source": [
    "# Print the Agent's response message with optional citation\n",
    "response_message = project_client.messages.get_last_message_by_role(thread_id=thread.id, role=MessageRole.AGENT)\n",
    "if response_message:\n",
    "    for text_message in response_message.text_messages:\n",
    "        print(f\"Agent response: {text_message.text.value}\")\n",
    "    for annotation in response_message.url_citation_annotations:\n",
    "        print(f\"URL Citation: [{annotation.url_citation.title}]({annotation.url_citation.url})\")"
   ]
  },
  {
   "cell_type": "markdown",
   "id": "6d5f61ac-880e-4394-8e63-6feb8c740eb4",
   "metadata": {},
   "source": [
    "### Post processing"
   ]
  },
  {
   "cell_type": "code",
   "execution_count": 25,
   "id": "c2e0842b",
   "metadata": {},
   "outputs": [
    {
     "name": "stdout",
     "output_type": "stream",
     "text": [
      "Listing all agents in the project:\n",
      "Agent ID: asst_y4ud6cPMKlrX8IkC7GV6Qc2q, Name: my-bing-grounding-agent, Model: gpt-4.1, Instructions: You are a helpful agent\n"
     ]
    }
   ],
   "source": [
    "# List all agents in the project\n",
    "print(\"Listing all agents in the project:\")\n",
    "agents = project_client.list_agents()\n",
    "for agent in agents:\n",
    "    print(f\"Agent ID: {agent.id}, Name: {agent.name}, Model: {agent.model}, Instructions: {agent.instructions}\")"
   ]
  },
  {
   "cell_type": "code",
   "execution_count": 27,
   "id": "cd108561",
   "metadata": {},
   "outputs": [],
   "source": [
    "# recurse through all agents and delete them adding a test to stop if the agent is not found\n",
    "for agent in project_client.list_agents():\n",
    "    try:\n",
    "        print(f\"Deleting agent ID: {agent.id}, Name: {agent.name}\")\n",
    "        project_client.delete_agent(agent.id)\n",
    "    except Exception as e:\n",
    "        print(f\"Error deleting agent ID: {agent.id}, Name: {agent.name}, Error: {e}\")"
   ]
  },
  {
   "cell_type": "code",
   "execution_count": 28,
   "id": "65de8133",
   "metadata": {},
   "outputs": [],
   "source": [
    "agents = project_client.list_agents()\n",
    "for agent in agents:\n",
    "    print(f\"Agent ID: {agent.id}, Name: {agent.name}, Model: {agent.model}, Instructions: {agent.instructions}\")"
   ]
  }
 ],
 "metadata": {
  "kernelspec": {
   "display_name": ".venv",
   "language": "python",
   "name": "python3"
  },
  "language_info": {
   "codemirror_mode": {
    "name": "ipython",
    "version": 3
   },
   "file_extension": ".py",
   "mimetype": "text/x-python",
   "name": "python",
   "nbconvert_exporter": "python",
   "pygments_lexer": "ipython3",
   "version": "3.13.4"
  },
  "varInspector": {
   "cols": {
    "lenName": 16,
    "lenType": 16,
    "lenVar": 40
   },
   "kernels_config": {
    "python": {
     "delete_cmd_postfix": "",
     "delete_cmd_prefix": "del ",
     "library": "var_list.py",
     "varRefreshCmd": "print(var_dic_list())"
    },
    "r": {
     "delete_cmd_postfix": ") ",
     "delete_cmd_prefix": "rm(",
     "library": "var_list.r",
     "varRefreshCmd": "cat(var_dic_list()) "
    }
   },
   "types_to_exclude": [
    "module",
    "function",
    "builtin_function_or_method",
    "instance",
    "_Feature"
   ],
   "window_display": false
  }
 },
 "nbformat": 4,
 "nbformat_minor": 5
}
