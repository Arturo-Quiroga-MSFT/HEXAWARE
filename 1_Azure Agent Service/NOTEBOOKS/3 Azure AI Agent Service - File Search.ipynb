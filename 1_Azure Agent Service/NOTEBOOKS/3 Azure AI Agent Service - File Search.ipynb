{
 "cells": [
  {
   "cell_type": "markdown",
   "id": "431cc026-279f-4105-8444-f1b93650da0d",
   "metadata": {},
   "source": [
    "# Azure AI Agents - File Search\n",
    "\n",
    "<img src=\"https://learn.microsoft.com/en-us/azure/ai-services/agents/media/agent-service-the-glue.png\" width=800>\n",
    "\n",
    "> https://learn.microsoft.com/en-us/azure/ai-services/agents/"
   ]
  },
  {
   "cell_type": "code",
   "execution_count": 1,
   "id": "7a3e72d0-7521-438c-928d-5fa293b0f419",
   "metadata": {},
   "outputs": [],
   "source": [
    "import json\n",
    "import os\n",
    "import sys\n",
    "import time\n",
    "\n",
    "#from azure.ai.projects import AIProjectClient\n",
    "from datetime import datetime, timezone, timedelta\n",
    "from azure.ai.agents import AgentsClient \n",
    "from azure.ai.agents.models import ListSortOrder\n",
    "from azure.identity import DefaultAzureCredential\n",
    "from dotenv import load_dotenv\n",
    "from openai import AzureOpenAI\n",
    "\n",
    "from azure.ai.agents.models import (\n",
    "    FileSearchTool,\n",
    "    FilePurpose,\n",
    "    ListSortOrder, MessageAttachment\n",
    ")\n"
   ]
  },
  {
   "cell_type": "code",
   "execution_count": 2,
   "id": "604de2f7",
   "metadata": {},
   "outputs": [
    {
     "name": "stdout",
     "output_type": "stream",
     "text": [
      "['AISearchIndexResource', 'Agent', 'AgentErrorDetail', 'AgentEventHandler', 'AgentRunStream', 'AgentStreamEvent', 'AgentThread', 'AgentThreadCreationOptions', 'AgentV1Error', 'AgentsNamedToolChoice', 'AgentsNamedToolChoiceType', 'AgentsResponseFormat', 'AgentsResponseFormatMode', 'AgentsToolChoiceOptionMode', 'AsyncAgentEventHandler', 'AsyncAgentRunStream', 'AsyncFunctionTool', 'AsyncToolSet', 'AzureAISearchQueryType', 'AzureAISearchTool', 'AzureAISearchToolDefinition', 'AzureAISearchToolResource', 'AzureFunctionBinding', 'AzureFunctionDefinition', 'AzureFunctionStorageQueue', 'AzureFunctionTool', 'AzureFunctionToolDefinition', 'BaseAgentEventHandler', 'BaseAgentEventHandlerT', 'BaseAsyncAgentEventHandler', 'BaseAsyncAgentEventHandlerT', 'BingCustomSearchConfiguration', 'BingCustomSearchTool', 'BingCustomSearchToolDefinition', 'BingCustomSearchToolParameters', 'BingGroundingSearchConfiguration', 'BingGroundingSearchToolParameters', 'BingGroundingTool', 'BingGroundingToolDefinition', 'CodeInterpreterTool', 'CodeInterpreterToolDefinition', 'CodeInterpreterToolResource', 'ConnectedAgentDetails', 'ConnectedAgentTool', 'ConnectedAgentToolDefinition', 'DoneEvent', 'ErrorEvent', 'FabricDataAgentToolParameters', 'FabricTool', 'FileInfo', 'FileListResponse', 'FilePurpose', 'FileSearchRankingOptions', 'FileSearchTool', 'FileSearchToolCallContent', 'FileSearchToolDefinition', 'FileSearchToolDefinitionDetails', 'FileSearchToolResource', 'FileState', 'FunctionDefinition', 'FunctionName', 'FunctionTool', 'FunctionToolDefinition', 'ImageDetailLevel', 'IncompleteDetailsReason', 'IncompleteRunDetails', 'ListSortOrder', 'MessageAttachment', 'MessageBlockType', 'MessageContent', 'MessageDelta', 'MessageDeltaChunk', 'MessageDeltaContent', 'MessageDeltaImageFileContent', 'MessageDeltaImageFileContentObject', 'MessageDeltaTextAnnotation', 'MessageDeltaTextContent', 'MessageDeltaTextContentObject', 'MessageDeltaTextFileCitationAnnotation', 'MessageDeltaTextFileCitationAnnotationObject', 'MessageDeltaTextFilePathAnnotation', 'MessageDeltaTextFilePathAnnotationObject', 'MessageDeltaTextUrlCitationAnnotation', 'MessageDeltaTextUrlCitationDetails', 'MessageImageFileContent', 'MessageImageFileDetails', 'MessageImageFileParam', 'MessageImageUrlParam', 'MessageIncompleteDetails', 'MessageIncompleteDetailsReason', 'MessageInputContentBlock', 'MessageInputImageFileBlock', 'MessageInputImageUrlBlock', 'MessageInputTextBlock', 'MessageRole', 'MessageStatus', 'MessageStreamEvent', 'MessageTextAnnotation', 'MessageTextContent', 'MessageTextDetails', 'MessageTextFileCitationAnnotation', 'MessageTextFileCitationDetails', 'MessageTextFilePathAnnotation', 'MessageTextFilePathDetails', 'MessageTextUrlCitationAnnotation', 'MessageTextUrlCitationDetails', 'MicrosoftFabricToolDefinition', 'OpenApiAnonymousAuthDetails', 'OpenApiAuthDetails', 'OpenApiAuthType', 'OpenApiConnectionAuthDetails', 'OpenApiConnectionSecurityScheme', 'OpenApiFunctionDefinition', 'OpenApiManagedAuthDetails', 'OpenApiManagedSecurityScheme', 'OpenApiTool', 'OpenApiToolDefinition', 'RequiredAction', 'RequiredFunctionToolCall', 'RequiredFunctionToolCallDetails', 'RequiredToolCall', 'ResponseFormat', 'ResponseFormatJsonSchema', 'ResponseFormatJsonSchemaType', 'RunAdditionalFieldList', 'RunCompletionUsage', 'RunError', 'RunStatus', 'RunStep', 'RunStepAzureAISearchToolCall', 'RunStepBingCustomSearchToolCall', 'RunStepBingGroundingToolCall', 'RunStepCodeInterpreterImageOutput', 'RunStepCodeInterpreterImageReference', 'RunStepCodeInterpreterLogOutput', 'RunStepCodeInterpreterToolCall', 'RunStepCodeInterpreterToolCallDetails', 'RunStepCodeInterpreterToolCallOutput', 'RunStepCompletionUsage', 'RunStepDelta', 'RunStepDeltaChunk', 'RunStepDeltaCodeInterpreterDetailItemObject', 'RunStepDeltaCodeInterpreterImageOutput', 'RunStepDeltaCodeInterpreterImageOutputObject', 'RunStepDeltaCodeInterpreterLogOutput', 'RunStepDeltaCodeInterpreterOutput', 'RunStepDeltaCodeInterpreterToolCall', 'RunStepDeltaDetail', 'RunStepDeltaFileSearchToolCall', 'RunStepDeltaFunction', 'RunStepDeltaFunctionToolCall', 'RunStepDeltaMessageCreation', 'RunStepDeltaMessageCreationObject', 'RunStepDeltaToolCall', 'RunStepDeltaToolCallObject', 'RunStepDetails', 'RunStepError', 'RunStepErrorCode', 'RunStepFileSearchToolCall', 'RunStepFileSearchToolCallResult', 'RunStepFileSearchToolCallResults', 'RunStepFunctionToolCall', 'RunStepFunctionToolCallDetails', 'RunStepMessageCreationDetails', 'RunStepMessageCreationReference', 'RunStepMicrosoftFabricToolCall', 'RunStepOpenAPIToolCall', 'RunStepSharepointToolCall', 'RunStepStatus', 'RunStepStreamEvent', 'RunStepToolCall', 'RunStepToolCallDetails', 'RunStepType', 'RunStreamEvent', 'SharepointGroundingToolParameters', 'SharepointTool', 'SharepointToolDefinition', 'StreamEventData', 'SubmitToolOutputsAction', 'SubmitToolOutputsDetails', 'TYPE_CHECKING', 'ThreadMessage', 'ThreadMessageOptions', 'ThreadRun', 'ThreadStreamEvent', 'Tool', 'ToolConnection', 'ToolDefinition', 'ToolOutput', 'ToolResources', 'ToolSet', 'TruncationObject', 'TruncationStrategy', 'VectorStore', 'VectorStoreAutoChunkingStrategyRequest', 'VectorStoreAutoChunkingStrategyResponse', 'VectorStoreChunkingStrategyRequest', 'VectorStoreChunkingStrategyRequestType', 'VectorStoreChunkingStrategyResponse', 'VectorStoreChunkingStrategyResponseType', 'VectorStoreConfiguration', 'VectorStoreConfigurations', 'VectorStoreDataSource', 'VectorStoreDataSourceAssetType', 'VectorStoreExpirationPolicy', 'VectorStoreExpirationPolicyAnchor', 'VectorStoreFile', 'VectorStoreFileBatch', 'VectorStoreFileBatchStatus', 'VectorStoreFileCount', 'VectorStoreFileError', 'VectorStoreFileErrorCode', 'VectorStoreFileStatus', 'VectorStoreFileStatusFilter', 'VectorStoreStaticChunkingStrategyOptions', 'VectorStoreStaticChunkingStrategyRequest', 'VectorStoreStaticChunkingStrategyResponse', 'VectorStoreStatus', '__all__', '__builtins__', '__cached__', '__doc__', '__file__', '__loader__', '__name__', '__package__', '__path__', '__spec__', '_enums', '_models', '_patch', '_patch_all', '_patch_sdk']\n"
     ]
    }
   ],
   "source": [
    "import azure.ai.agents.models as models\n",
    "print(dir(models))"
   ]
  },
  {
   "cell_type": "code",
   "execution_count": 3,
   "id": "65334de7-4005-401a-89c1-be24f75abbd9",
   "metadata": {},
   "outputs": [
    {
     "data": {
      "text/plain": [
       "True"
      ]
     },
     "execution_count": 3,
     "metadata": {},
     "output_type": "execute_result"
    }
   ],
   "source": [
    "load_dotenv()"
   ]
  },
  {
   "cell_type": "code",
   "execution_count": 4,
   "id": "8628712a-0d10-4351-8993-b4c3243f83be",
   "metadata": {},
   "outputs": [
    {
     "data": {
      "text/plain": [
       "'3.13.4 (main, Jun  3 2025, 15:34:24) [Clang 17.0.0 (clang-1700.0.13.3)]'"
      ]
     },
     "execution_count": 4,
     "metadata": {},
     "output_type": "execute_result"
    }
   ],
   "source": [
    "sys.version"
   ]
  },
  {
   "cell_type": "markdown",
   "id": "cc2c1d28-e366-442e-a186-81239ec337ec",
   "metadata": {},
   "source": [
    "## Project"
   ]
  },
  {
   "cell_type": "code",
   "execution_count": 5,
   "id": "76c7bbb7-0faa-4500-ba42-7c5b176f6196",
   "metadata": {},
   "outputs": [
    {
     "name": "stdout",
     "output_type": "stream",
     "text": [
      "Using endpoint: https://aq-ai-foundry-sweden-central.services.ai.azure.com/api/projects/firstProject\n"
     ]
    }
   ],
   "source": [
    "\n",
    "endpoint = os.getenv(\"PROJECT_ENDPOINT\")\n",
    "print(f\"Using endpoint: {endpoint}\")\n",
    "credential = DefaultAzureCredential()\n",
    "\n",
    "project_client = AgentsClient(endpoint=endpoint, credential=credential)"
   ]
  },
  {
   "cell_type": "code",
   "execution_count": 6,
   "id": "ad783cf5-ab5a-4bdb-9536-0611a7846eaa",
   "metadata": {},
   "outputs": [],
   "source": [
    "DATA_DIR = \"data\"\n",
    "\n",
    "os.makedirs(DATA_DIR, exist_ok=True)\n",
    "\n",
    "output_file = os.path.join(DATA_DIR, \"document.pdf\")"
   ]
  },
  {
   "cell_type": "code",
   "execution_count": 7,
   "id": "0ca097a7-2788-46c3-b49d-b8e8fe75d9ee",
   "metadata": {},
   "outputs": [
    {
     "name": "stdout",
     "output_type": "stream",
     "text": [
      "--2025-06-13 16:35:31--  https://arxiv.org/abs/2311.06242\n",
      "Resolving arxiv.org (arxiv.org)... 151.101.3.42, 151.101.195.42, 151.101.131.42, ...\n",
      "Connecting to arxiv.org (arxiv.org)|151.101.3.42|:443... connected.\n",
      "HTTP request sent, awaiting response... 200 OK\n",
      "Length: 49384 (48K) [text/html]\n",
      "Saving to: ‘data/document.pdf’\n",
      "\n",
      "data/document.pdf   100%[===================>]  48.23K  --.-KB/s    in 0.02s   \n",
      "\n",
      "2025-06-13 16:35:32 (2.87 MB/s) - ‘data/document.pdf’ saved [49384/49384]\n",
      "\n"
     ]
    }
   ],
   "source": [
    "!wget https://arxiv.org/abs/2311.06242 -O $output_file"
   ]
  },
  {
   "cell_type": "code",
   "execution_count": 8,
   "id": "f6cabed2",
   "metadata": {},
   "outputs": [],
   "source": [
    "model = \"gpt-4o-mini\""
   ]
  },
  {
   "cell_type": "code",
   "execution_count": 9,
   "id": "fe1a5582-f733-4775-9225-42f6e909e810",
   "metadata": {},
   "outputs": [
    {
     "name": "stdout",
     "output_type": "stream",
     "text": [
      "Uploaded file, file ID: assistant-QccPsyy6VaLpY4UEqJMaNN\n",
      "Created vector store, vector store ID: vs_XlgpBYuaLBLnF7LZI6XZqJZc\n"
     ]
    }
   ],
   "source": [
    "file = project_client.files.upload_and_poll(file_path=output_file,\n",
    "                                                  purpose=FilePurpose.AGENTS)\n",
    "\n",
    "print(f\"Uploaded file, file ID: {file.id}\")\n",
    "\n",
    "# create a vector store with the file you uploaded\n",
    "vector_store = project_client.vector_stores.create_and_poll(\n",
    "    file_ids=[file.id], name=\"document_vector_store\")\n",
    "\n",
    "print(f\"Created vector store, vector store ID: {vector_store.id}\")"
   ]
  },
  {
   "cell_type": "code",
   "execution_count": 10,
   "id": "f45913d3-1182-4a04-90c4-a2557909d315",
   "metadata": {},
   "outputs": [
    {
     "name": "stdout",
     "output_type": "stream",
     "text": [
      "Created agent, agent ID: asst_6fcytynKl3XeByOmHLKQBAr8\n"
     ]
    }
   ],
   "source": [
    "# create a file search tool\n",
    "file_search_tool = FileSearchTool(vector_store_ids=[vector_store.id])\n",
    "\n",
    "# notices that FileSearchTool as tool and tool_resources must be added or the agent will be unable to search the file\n",
    "model = \"gpt-4.1\"\n",
    "agent = project_client.create_agent(\n",
    "    model=model,\n",
    "    name=\"document_agent\",\n",
    "    instructions=\"You are an AI helpful agent to analyse document\",\n",
    "    tools=file_search_tool.definitions,\n",
    "    tool_resources=file_search_tool.resources,\n",
    ")\n",
    "\n",
    "print(f\"Created agent, agent ID: {agent.id}\")"
   ]
  },
  {
   "cell_type": "code",
   "execution_count": 11,
   "id": "2c8a3595-7db7-4047-8745-d2bb25c63e47",
   "metadata": {},
   "outputs": [
    {
     "name": "stdout",
     "output_type": "stream",
     "text": [
      "Created thread, thread ID: thread_SwF5pG43XfSuZmC5mBX6rVr3\n",
      "Uploaded file, file ID: assistant-PmP1KnJnmNfv4LnKLyjxiC\n",
      "Created message, message ID: msg_l9ja6lOYjF7PL8LqvwaeqtI0\n"
     ]
    }
   ],
   "source": [
    "# Create a thread\n",
    "thread = project_client.threads.create()\n",
    "print(f\"Created thread, thread ID: {thread.id}\")\n",
    "\n",
    "# Upload the user provided file as a messsage attachment\n",
    "message_file = project_client.files.upload_and_poll(\n",
    "    file_path=output_file, purpose=FilePurpose.AGENTS)\n",
    "\n",
    "print(f\"Uploaded file, file ID: {message_file.id}\")\n",
    "\n",
    "# Create a message with the file search attachment\n",
    "# Notice that vector store is created temporarily when using attachments with a default expiration policy of seven days.\n",
    "attachment = MessageAttachment(file_id=message_file.id,\n",
    "                               tools=FileSearchTool().definitions)\n",
    "\n",
    "prompt = \"Summarize this document in three lines.\"\n",
    "\n",
    "message = project_client.messages.create(thread_id=thread.id,\n",
    "                                               role=\"user\",\n",
    "                                               content=prompt,\n",
    "                                               attachments=[attachment])\n",
    "\n",
    "print(f\"Created message, message ID: {message.id}\")"
   ]
  },
  {
   "cell_type": "code",
   "execution_count": 12,
   "id": "54f6f557-18fb-41c4-8cee-eb3d0300d158",
   "metadata": {},
   "outputs": [
    {
     "name": "stdout",
     "output_type": "stream",
     "text": [
      "Created run, run ID: run_uzpNxIDffuWVPqUdPw3BgCc6\n",
      "Messages: <iterator object azure.core.paging.ItemPaged at 0x119695a90>\n"
     ]
    }
   ],
   "source": [
    "run = project_client.runs.create_and_process(thread_id=thread.id,\n",
    "                                                   agent_id=agent.id)\n",
    "print(f\"Created run, run ID: {run.id}\")\n",
    "\n",
    "messages = project_client.messages.list(thread_id=thread.id)\n",
    "print(f\"Messages: {messages}\")"
   ]
  },
  {
   "cell_type": "code",
   "execution_count": null,
   "id": "33d14e13-f3bd-4822-a679-0aa322bc98f8",
   "metadata": {},
   "outputs": [
    {
     "name": "stdout",
     "output_type": "stream",
     "text": [
      "MessageRole.USER: Summarize this document in three lines.\n",
      "MessageRole.AGENT: The document provides an overview of its main topics and key findings. It highlights the primary objectives, methods used, and the most significant results or recommendations. Overall, it offers concise insights relevant to its field of focus.\n",
      "\n",
      "If you would like a more specific summary, please indicate the exact document or context you are referencing, as multiple files might be present.\n"
     ]
    }
   ],
   "source": [
    "# Fetch and log all messages\n",
    "messages = project_client.messages.list(thread_id=thread.id, order=ListSortOrder.ASCENDING)\n",
    "\n",
    "# Print last messages from the thread\n",
    "for msg in messages:\n",
    "    if msg.text_messages:\n",
    "        last_text = msg.text_messages[-1]\n",
    "        print(f\"{msg.role}: {last_text.text.value}\")"
   ]
  },
  {
   "cell_type": "markdown",
   "id": "ffac954d-32ff-4f13-bf06-f567d06b92b3",
   "metadata": {},
   "source": [
    "## Another question"
   ]
  },
  {
   "cell_type": "code",
   "execution_count": 14,
   "id": "652a3050-4486-40c9-94e7-a7ee8532ebdd",
   "metadata": {},
   "outputs": [
    {
     "name": "stdout",
     "output_type": "stream",
     "text": [
      "Created message, message ID: msg_TptsXbMk08HUXFwR24RmTZGw\n"
     ]
    }
   ],
   "source": [
    "prompt = \"Summarize this document in three lines.\"\n",
    "\n",
    "message = project_client.messages.create(thread_id=thread.id,\n",
    "                                               role=\"user\",\n",
    "                                               content=prompt,\n",
    "                                               attachments=[attachment])\n",
    "\n",
    "print(f\"Created message, message ID: {message.id}\")"
   ]
  },
  {
   "cell_type": "code",
   "execution_count": 15,
   "id": "a57d170e-d03e-4d05-8914-93b54b0846f4",
   "metadata": {},
   "outputs": [
    {
     "name": "stdout",
     "output_type": "stream",
     "text": [
      "Created run, run ID: run_0Gaz4p9Uq5MzsVq4wYDfDTT6\n",
      "Messages: <iterator object azure.core.paging.ItemPaged at 0x1196925d0>\n"
     ]
    }
   ],
   "source": [
    "run = project_client.runs.create_and_process(thread_id=thread.id,\n",
    "                                                   agent_id=agent.id)\n",
    "print(f\"Created run, run ID: {run.id}\")\n",
    "\n",
    "messages = project_client.messages.list(thread_id=thread.id)\n",
    "print(f\"Messages: {messages}\")"
   ]
  },
  {
   "cell_type": "code",
   "execution_count": 16,
   "id": "d3de78f3",
   "metadata": {},
   "outputs": [
    {
     "name": "stdout",
     "output_type": "stream",
     "text": [
      "Message ID: msg_wjfrXNMEUgHuS2zxhEfFHTTh, Role: MessageRole.AGENT, Content: [{'type': 'text', 'text': {'value': 'The document discusses the business overview, major products, and sales performance of Soken Chemical & Engineering Co., Ltd. for the fiscal year 2023, highlighting an increase in net sales and profit largely driven by strong demand for key products. It also outlines the company’s main business segments and their respective contributions to growth. Additionally, the report mentions future strategies aimed at further expanding the business and enhancing profitability.', 'annotations': []}}]\n",
      "Message ID: msg_TptsXbMk08HUXFwR24RmTZGw, Role: MessageRole.USER, Content: [{'type': 'text', 'text': {'value': 'Summarize this document in three lines.', 'annotations': []}}]\n",
      "Message ID: msg_1fxLAfSptbUxWYfVPaoIawgn, Role: MessageRole.AGENT, Content: [{'type': 'text', 'text': {'value': 'The document provides an overview of its main topics and key findings. It highlights the primary objectives, methods used, and the most significant results or recommendations. Overall, it offers concise insights relevant to its field of focus.\\n\\nIf you would like a more specific summary, please indicate the exact document or context you are referencing, as multiple files might be present.', 'annotations': []}}]\n",
      "Message ID: msg_l9ja6lOYjF7PL8LqvwaeqtI0, Role: MessageRole.USER, Content: [{'type': 'text', 'text': {'value': 'Summarize this document in three lines.', 'annotations': []}}]\n"
     ]
    }
   ],
   "source": [
    "messages = project_client.messages.list(thread_id=thread.id)\n",
    "for message in messages:\n",
    "    print(f\"Message ID: {message.id}, Role: {message.role}, Content: {message.content}\")"
   ]
  },
  {
   "cell_type": "code",
   "execution_count": 17,
   "id": "dbd185b6-092a-4c67-900e-497d3b792af8",
   "metadata": {},
   "outputs": [
    {
     "name": "stdout",
     "output_type": "stream",
     "text": [
      "Content: [{'type': 'text', 'text': {'value': 'The document discusses the business overview, major products, and sales performance of Soken Chemical & Engineering Co., Ltd. for the fiscal year 2023, highlighting an increase in net sales and profit largely driven by strong demand for key products. It also outlines the company’s main business segments and their respective contributions to growth. Additionally, the report mentions future strategies aimed at further expanding the business and enhancing profitability.', 'annotations': []}}]\n"
     ]
    }
   ],
   "source": [
    "messages = list(project_client.messages.list(thread_id=thread.id))\n",
    "if messages:\n",
    "    last_message = messages[0]\n",
    "    print(f\"Content: {last_message.content}\")\n",
    "else:\n",
    "    print(\"No messages found.\")"
   ]
  },
  {
   "cell_type": "markdown",
   "id": "c4297511-c6e7-4f36-901a-a82335603f9b",
   "metadata": {},
   "source": [
    "## Post processing"
   ]
  },
  {
   "cell_type": "code",
   "execution_count": 18,
   "id": "bb0c38dd-e8c0-47f8-a4a1-60edcdd30f6a",
   "metadata": {},
   "outputs": [
    {
     "name": "stdout",
     "output_type": "stream",
     "text": [
      "Listing all agents in the project:\n",
      "Agent ID: asst_6fcytynKl3XeByOmHLKQBAr8, Name: document_agent, Model: gpt-4.1, Instructions: You are an AI helpful agent to analyse document\n",
      "Agent ID: asst_07O1jZQmsphk8BOXnpy6OweB, Name: Reviewer, Model: gpt-4.1-mini, Instructions: You are an agent named 'Reviewer'. You are a member in a team of agents. The name of your team is ''.\n",
      "You are software engineer who reviews code. Your name is Reviewer.\n",
      "\n",
      "- You can delegate tasks when appropriate. To delegate, call the _create_task function, using your own name as the 'requestor'. \n",
      "- Provide a brief account of any tasks you assign and the outcome. \n",
      "- Ask for help from other team members if you see they have the relevant expertise. \n",
      "- Once you believe your assignment is complete, respond with your final answer or actions taken. \n",
      "- Below are the other agents in your team: - Coder: You are software engineer who writes great code. Your name is Coder.\n",
      "\n",
      "\n",
      "Agent ID: asst_am1a3z5mRRNIIrSIClBARgRl, Name: Coder, Model: gpt-4.1-mini, Instructions: You are an agent named 'Coder'. You are a member in a team of agents. The name of your team is ''.\n",
      "You are software engineer who writes great code. Your name is Coder.\n",
      "\n",
      "- You can delegate tasks when appropriate. To delegate, call the _create_task function, using your own name as the 'requestor'. \n",
      "- Provide a brief account of any tasks you assign and the outcome. \n",
      "- Ask for help from other team members if you see they have the relevant expertise. \n",
      "- Once you believe your assignment is complete, respond with your final answer or actions taken. \n",
      "- Below are the other agents in your team: - Reviewer: You are software engineer who reviews code. Your name is Reviewer.\n",
      "\n",
      "\n",
      "Agent ID: asst_gBBnGzoVInVxXP1JWfUf5DI6, Name: TeamLeader, Model: gpt-4.1-mini, Instructions: You are an agent named 'TeamLeader'. You are a leader of a team of agents. The name of your team is 'test_team'. \n",
      "You are an agent that is responsible for receiving requests from user and utilizing a team of agents to complete the task. \n",
      "When you are passed a request, the only thing you will do is evaluate which team member should do which task next to complete the request. \n",
      "You will use the provided _create_task function to create a task for the agent that is best suited for handling the task next. \n",
      "You will respond with the description of who you assigned the task and why. When you think that the original user request is \n",
      "processed completely utilizing all the talent available in the team, you do not have to create anymore tasks. \n",
      "Using the skills of all the team members when applicable is highly valued. \n",
      "Do not create parallel tasks.\n",
      "Here are the other agents in your team:\n",
      "\n",
      "- Coder: You are software engineer who writes great code. Your name is Coder.\n",
      "- Reviewer: You are software engineer who reviews code. Your name is Reviewer.\n",
      "\n"
     ]
    }
   ],
   "source": [
    "# List all agents in the project\n",
    "print(\"Listing all agents in the project:\")\n",
    "agents = project_client.list_agents()\n",
    "for agent in agents:\n",
    "    print(f\"Agent ID: {agent.id}, Name: {agent.name}, Model: {agent.model}, Instructions: {agent.instructions}\")"
   ]
  },
  {
   "cell_type": "code",
   "execution_count": 20,
   "id": "5b7824d8-0f52-48be-947f-dbc4eaa52f56",
   "metadata": {},
   "outputs": [],
   "source": [
    "# recurse through all agents and delete them adding a test to stop if the agent is not found\n",
    "for agent in project_client.list_agents():\n",
    "    try:\n",
    "        print(f\"Deleting agent ID: {agent.id}, Name: {agent.name}\")\n",
    "        project_client.delete_agent(agent.id)\n",
    "    except Exception as e:\n",
    "        print(f\"Error deleting agent ID: {agent.id}, Name: {agent.name}, Error: {e}\")\n",
    "        break"
   ]
  },
  {
   "cell_type": "code",
   "execution_count": 21,
   "id": "01aaa599-5f3e-445f-9271-fa99c025dffa",
   "metadata": {},
   "outputs": [
    {
     "name": "stdout",
     "output_type": "stream",
     "text": [
      "Deleted file\n",
      "Done\n"
     ]
    }
   ],
   "source": [
    "# Delete the original file from the agent to free up space\n",
    "print(\"Deleted file\")\n",
    "project_client.files.delete(file.id)\n",
    "print(\"Done\")"
   ]
  },
  {
   "cell_type": "markdown",
   "id": "90b7ccbf",
   "metadata": {},
   "source": [
    "## DO EVERYTHING in one run !!"
   ]
  },
  {
   "cell_type": "markdown",
   "id": "47631f67",
   "metadata": {},
   "source": [
    "## use an .md file as source and get insights from its content"
   ]
  },
  {
   "cell_type": "code",
   "execution_count": 22,
   "id": "b0677aa6",
   "metadata": {},
   "outputs": [
    {
     "name": "stdout",
     "output_type": "stream",
     "text": [
      "Uploaded file, file ID: assistant-Y23Kueiwn2RFauQr5u2vss\n",
      "Created vector store, vector store ID: vs_F2mrTPL2GueMOJx4L4pa1Pm3\n",
      "Created agent, ID: asst_WRrzDkns0aCVXfId4iMv80Ii\n",
      "Created thread, ID: thread_OIqEfJCIrOrkHD5f5Ml7yRwn\n",
      "Created message, ID: msg_wk5RvcbxmAgc8sbGAisI8G3N\n",
      "Run finished with status: RunStatus.COMPLETED\n",
      "Deleted vector store\n",
      "Deleted file\n",
      "Deleted agent\n",
      "\n",
      "\n",
      "MessageRole.USER: Hello, using the uplaoded file as source, what Contoso products do you know about?\n",
      "MessageRole.AGENT: Based on the uploaded file, the Contoso products mentioned include:\n",
      "\n",
      "- Contoso Coffee Beans\n",
      "- Contoso Coffee Machine\n",
      "- Contoso Coffee Grinder\n",
      "- Contoso Coffee Cups\n",
      "\n",
      "If you need more details about any specific product, please let me know!\n"
     ]
    }
   ],
   "source": [
    "# ------------------------------------\n",
    "# Copyright (c) Microsoft Corporation.\n",
    "# Licensed under the MIT License.\n",
    "# ------------------------------------\n",
    "\n",
    "\"\"\"\n",
    "DESCRIPTION:\n",
    "    This sample demonstrates how to use agent operations with file searching from\n",
    "    the Azure Agents service using a synchronous client.\n",
    "\n",
    "USAGE:\n",
    "    python sample_agents_file_search.py\n",
    "\n",
    "    Before running the sample:\n",
    "\n",
    "    pip install azure-ai-agents azure-identity\n",
    "\n",
    "    Set these environment variables with your own values:\n",
    "    1) PROJECT_ENDPOINT - The Azure AI Project endpoint, as found in the Overview\n",
    "                          page of your Azure AI Foundry portal.\n",
    "    2) MODEL_DEPLOYMENT_NAME - The deployment name of the AI model, as found under the \"Name\" column in\n",
    "       the \"Models + endpoints\" tab in your Azure AI Foundry project.\n",
    "\"\"\"\n",
    "\n",
    "import os\n",
    "from azure.ai.agents import AgentsClient\n",
    "from azure.ai.agents.models import (\n",
    "    FileSearchTool,\n",
    "    FilePurpose,\n",
    "    ListSortOrder,\n",
    ")\n",
    "from azure.identity import DefaultAzureCredential\n",
    "\n",
    "notebook_dir = os.path.dirname(os.path.abspath(''))\n",
    "asset_file_path = os.path.abspath(os.path.join(notebook_dir, \"./assets/product_info_1.md\"))\n",
    "\n",
    "agents_client = AgentsClient(\n",
    "    endpoint=os.environ[\"PROJECT_ENDPOINT\"],\n",
    "    credential=DefaultAzureCredential(),\n",
    ")\n",
    "\n",
    "with agents_client:\n",
    "\n",
    "    # Upload file and create vector store\n",
    "    # [START upload_file_create_vector_store_and_agent_with_file_search_tool]\n",
    "    file = agents_client.files.upload_and_poll(file_path=asset_file_path, purpose=FilePurpose.AGENTS)\n",
    "    print(f\"Uploaded file, file ID: {file.id}\")\n",
    "\n",
    "    vector_store = agents_client.vector_stores.create_and_poll(file_ids=[file.id], name=\"my_vectorstore\")\n",
    "    print(f\"Created vector store, vector store ID: {vector_store.id}\")\n",
    "\n",
    "    # Create file search tool with resources followed by creating agent\n",
    "    file_search = FileSearchTool(vector_store_ids=[vector_store.id])\n",
    "\n",
    "    agent = agents_client.create_agent(\n",
    "        model=os.environ[\"MODEL_DEPLOYMENT_NAME\"],\n",
    "        name=\"my-agent\",\n",
    "        instructions=\"Hello, you are helpful agent and can search information from uploaded files\",\n",
    "        tools=file_search.definitions,\n",
    "        tool_resources=file_search.resources,\n",
    "    )\n",
    "    # [END upload_file_create_vector_store_and_agent_with_file_search_tool]\n",
    "\n",
    "    print(f\"Created agent, ID: {agent.id}\")\n",
    "\n",
    "    # Create thread for communication\n",
    "    thread = agents_client.threads.create()\n",
    "    print(f\"Created thread, ID: {thread.id}\")\n",
    "\n",
    "    # Create message to thread\n",
    "    message = agents_client.messages.create(\n",
    "        thread_id=thread.id, role=\"user\", content=\"Hello, using the uplaoded file as source, what Contoso products do you know about?\"\n",
    "    )\n",
    "    print(f\"Created message, ID: {message.id}\")\n",
    "\n",
    "    # Create and process agent run in thread with tools\n",
    "    run = agents_client.runs.create_and_process(thread_id=thread.id, agent_id=agent.id)\n",
    "    print(f\"Run finished with status: {run.status}\")\n",
    "\n",
    "    if run.status == \"failed\":\n",
    "        # Check if you got \"Rate limit is exceeded.\", then you want to get more quota\n",
    "        print(f\"Run failed: {run.last_error}\")\n",
    "\n",
    "    # [START teardown]\n",
    "    # Delete the file when done\n",
    "    agents_client.vector_stores.delete(vector_store.id)\n",
    "    print(\"Deleted vector store\")\n",
    "\n",
    "    agents_client.files.delete(file_id=file.id)\n",
    "    print(\"Deleted file\")\n",
    "\n",
    "    # Delete the agent when done\n",
    "    agents_client.delete_agent(agent.id)\n",
    "    print(\"Deleted agent\")\n",
    "    # [END teardown]\n",
    "\n",
    "    # Fetch and log all messages\n",
    "    messages = agents_client.messages.list(thread_id=thread.id, order=ListSortOrder.ASCENDING)\n",
    "    print()\n",
    "    print()\n",
    "\n",
    "    # Print last messages from the thread\n",
    "    for msg in messages:\n",
    "        if msg.text_messages:\n",
    "            last_text = msg.text_messages[-1]\n",
    "            print(f\"{msg.role}: {last_text.text.value}\")\n"
   ]
  }
 ],
 "metadata": {
  "kernelspec": {
   "display_name": ".venv",
   "language": "python",
   "name": "python3"
  },
  "language_info": {
   "codemirror_mode": {
    "name": "ipython",
    "version": 3
   },
   "file_extension": ".py",
   "mimetype": "text/x-python",
   "name": "python",
   "nbconvert_exporter": "python",
   "pygments_lexer": "ipython3",
   "version": "3.13.4"
  },
  "varInspector": {
   "cols": {
    "lenName": 16,
    "lenType": 16,
    "lenVar": 40
   },
   "kernels_config": {
    "python": {
     "delete_cmd_postfix": "",
     "delete_cmd_prefix": "del ",
     "library": "var_list.py",
     "varRefreshCmd": "print(var_dic_list())"
    },
    "r": {
     "delete_cmd_postfix": ") ",
     "delete_cmd_prefix": "rm(",
     "library": "var_list.r",
     "varRefreshCmd": "cat(var_dic_list()) "
    }
   },
   "types_to_exclude": [
    "module",
    "function",
    "builtin_function_or_method",
    "instance",
    "_Feature"
   ],
   "window_display": false
  }
 },
 "nbformat": 4,
 "nbformat_minor": 5
}
