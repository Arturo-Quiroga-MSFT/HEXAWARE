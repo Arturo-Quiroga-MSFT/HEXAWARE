{
 "cells": [
  {
   "cell_type": "markdown",
   "id": "431cc026-279f-4105-8444-f1b93650da0d",
   "metadata": {},
   "source": [
    "# Azure AI Agents - File Search\n",
    "\n",
    "<img src=\"https://learn.microsoft.com/en-us/azure/ai-services/agents/media/agent-service-the-glue.png\" width=800>\n",
    "\n",
    "> https://learn.microsoft.com/en-us/azure/ai-services/agents/"
   ]
  },
  {
   "cell_type": "code",
   "execution_count": 1,
   "id": "7a3e72d0-7521-438c-928d-5fa293b0f419",
   "metadata": {},
   "outputs": [],
   "source": [
    "import json\n",
    "import os\n",
    "import sys\n",
    "import time\n",
    "\n",
    "#from azure.ai.projects import AIProjectClient\n",
    "from datetime import datetime, timezone, timedelta\n",
    "from azure.ai.agents import AgentsClient \n",
    "from azure.ai.agents.models import ListSortOrder\n",
    "from azure.identity import DefaultAzureCredential\n",
    "from dotenv import load_dotenv\n",
    "from openai import AzureOpenAI\n",
    "\n",
    "from azure.ai.agents.models import (\n",
    "    FileSearchTool,\n",
    "    FilePurpose,\n",
    "    ListSortOrder, MessageAttachment\n",
    ")\n"
   ]
  },
  {
   "cell_type": "code",
   "execution_count": 2,
   "id": "604de2f7",
   "metadata": {},
   "outputs": [
    {
     "name": "stdout",
     "output_type": "stream",
     "text": [
      "['AISearchIndexResource', 'Agent', 'AgentErrorDetail', 'AgentEventHandler', 'AgentRunStream', 'AgentStreamEvent', 'AgentThread', 'AgentThreadCreationOptions', 'AgentV1Error', 'AgentsNamedToolChoice', 'AgentsNamedToolChoiceType', 'AgentsResponseFormat', 'AgentsResponseFormatMode', 'AgentsToolChoiceOptionMode', 'AsyncAgentEventHandler', 'AsyncAgentRunStream', 'AsyncFunctionTool', 'AsyncToolSet', 'AzureAISearchQueryType', 'AzureAISearchTool', 'AzureAISearchToolDefinition', 'AzureAISearchToolResource', 'AzureFunctionBinding', 'AzureFunctionDefinition', 'AzureFunctionStorageQueue', 'AzureFunctionTool', 'AzureFunctionToolDefinition', 'BaseAgentEventHandler', 'BaseAgentEventHandlerT', 'BaseAsyncAgentEventHandler', 'BaseAsyncAgentEventHandlerT', 'BingCustomSearchConfiguration', 'BingCustomSearchTool', 'BingCustomSearchToolDefinition', 'BingCustomSearchToolParameters', 'BingGroundingSearchConfiguration', 'BingGroundingSearchToolParameters', 'BingGroundingTool', 'BingGroundingToolDefinition', 'CodeInterpreterTool', 'CodeInterpreterToolDefinition', 'CodeInterpreterToolResource', 'ConnectedAgentDetails', 'ConnectedAgentTool', 'ConnectedAgentToolDefinition', 'DoneEvent', 'ErrorEvent', 'FabricDataAgentToolParameters', 'FabricTool', 'FileInfo', 'FileListResponse', 'FilePurpose', 'FileSearchRankingOptions', 'FileSearchTool', 'FileSearchToolCallContent', 'FileSearchToolDefinition', 'FileSearchToolDefinitionDetails', 'FileSearchToolResource', 'FileState', 'FunctionDefinition', 'FunctionName', 'FunctionTool', 'FunctionToolDefinition', 'ImageDetailLevel', 'IncompleteDetailsReason', 'IncompleteRunDetails', 'ListSortOrder', 'MessageAttachment', 'MessageBlockType', 'MessageContent', 'MessageDelta', 'MessageDeltaChunk', 'MessageDeltaContent', 'MessageDeltaImageFileContent', 'MessageDeltaImageFileContentObject', 'MessageDeltaTextAnnotation', 'MessageDeltaTextContent', 'MessageDeltaTextContentObject', 'MessageDeltaTextFileCitationAnnotation', 'MessageDeltaTextFileCitationAnnotationObject', 'MessageDeltaTextFilePathAnnotation', 'MessageDeltaTextFilePathAnnotationObject', 'MessageDeltaTextUrlCitationAnnotation', 'MessageDeltaTextUrlCitationDetails', 'MessageImageFileContent', 'MessageImageFileDetails', 'MessageImageFileParam', 'MessageImageUrlParam', 'MessageIncompleteDetails', 'MessageIncompleteDetailsReason', 'MessageInputContentBlock', 'MessageInputImageFileBlock', 'MessageInputImageUrlBlock', 'MessageInputTextBlock', 'MessageRole', 'MessageStatus', 'MessageStreamEvent', 'MessageTextAnnotation', 'MessageTextContent', 'MessageTextDetails', 'MessageTextFileCitationAnnotation', 'MessageTextFileCitationDetails', 'MessageTextFilePathAnnotation', 'MessageTextFilePathDetails', 'MessageTextUrlCitationAnnotation', 'MessageTextUrlCitationDetails', 'MicrosoftFabricToolDefinition', 'OpenApiAnonymousAuthDetails', 'OpenApiAuthDetails', 'OpenApiAuthType', 'OpenApiConnectionAuthDetails', 'OpenApiConnectionSecurityScheme', 'OpenApiFunctionDefinition', 'OpenApiManagedAuthDetails', 'OpenApiManagedSecurityScheme', 'OpenApiTool', 'OpenApiToolDefinition', 'RequiredAction', 'RequiredFunctionToolCall', 'RequiredFunctionToolCallDetails', 'RequiredToolCall', 'ResponseFormat', 'ResponseFormatJsonSchema', 'ResponseFormatJsonSchemaType', 'RunAdditionalFieldList', 'RunCompletionUsage', 'RunError', 'RunStatus', 'RunStep', 'RunStepAzureAISearchToolCall', 'RunStepBingCustomSearchToolCall', 'RunStepBingGroundingToolCall', 'RunStepCodeInterpreterImageOutput', 'RunStepCodeInterpreterImageReference', 'RunStepCodeInterpreterLogOutput', 'RunStepCodeInterpreterToolCall', 'RunStepCodeInterpreterToolCallDetails', 'RunStepCodeInterpreterToolCallOutput', 'RunStepCompletionUsage', 'RunStepDelta', 'RunStepDeltaChunk', 'RunStepDeltaCodeInterpreterDetailItemObject', 'RunStepDeltaCodeInterpreterImageOutput', 'RunStepDeltaCodeInterpreterImageOutputObject', 'RunStepDeltaCodeInterpreterLogOutput', 'RunStepDeltaCodeInterpreterOutput', 'RunStepDeltaCodeInterpreterToolCall', 'RunStepDeltaDetail', 'RunStepDeltaFileSearchToolCall', 'RunStepDeltaFunction', 'RunStepDeltaFunctionToolCall', 'RunStepDeltaMessageCreation', 'RunStepDeltaMessageCreationObject', 'RunStepDeltaToolCall', 'RunStepDeltaToolCallObject', 'RunStepDetails', 'RunStepError', 'RunStepErrorCode', 'RunStepFileSearchToolCall', 'RunStepFileSearchToolCallResult', 'RunStepFileSearchToolCallResults', 'RunStepFunctionToolCall', 'RunStepFunctionToolCallDetails', 'RunStepMessageCreationDetails', 'RunStepMessageCreationReference', 'RunStepMicrosoftFabricToolCall', 'RunStepOpenAPIToolCall', 'RunStepSharepointToolCall', 'RunStepStatus', 'RunStepStreamEvent', 'RunStepToolCall', 'RunStepToolCallDetails', 'RunStepType', 'RunStreamEvent', 'SharepointGroundingToolParameters', 'SharepointTool', 'SharepointToolDefinition', 'StreamEventData', 'SubmitToolOutputsAction', 'SubmitToolOutputsDetails', 'TYPE_CHECKING', 'ThreadMessage', 'ThreadMessageOptions', 'ThreadRun', 'ThreadStreamEvent', 'Tool', 'ToolConnection', 'ToolDefinition', 'ToolOutput', 'ToolResources', 'ToolSet', 'TruncationObject', 'TruncationStrategy', 'VectorStore', 'VectorStoreAutoChunkingStrategyRequest', 'VectorStoreAutoChunkingStrategyResponse', 'VectorStoreChunkingStrategyRequest', 'VectorStoreChunkingStrategyRequestType', 'VectorStoreChunkingStrategyResponse', 'VectorStoreChunkingStrategyResponseType', 'VectorStoreConfiguration', 'VectorStoreConfigurations', 'VectorStoreDataSource', 'VectorStoreDataSourceAssetType', 'VectorStoreExpirationPolicy', 'VectorStoreExpirationPolicyAnchor', 'VectorStoreFile', 'VectorStoreFileBatch', 'VectorStoreFileBatchStatus', 'VectorStoreFileCount', 'VectorStoreFileError', 'VectorStoreFileErrorCode', 'VectorStoreFileStatus', 'VectorStoreFileStatusFilter', 'VectorStoreStaticChunkingStrategyOptions', 'VectorStoreStaticChunkingStrategyRequest', 'VectorStoreStaticChunkingStrategyResponse', 'VectorStoreStatus', '__all__', '__builtins__', '__cached__', '__doc__', '__file__', '__loader__', '__name__', '__package__', '__path__', '__spec__', '_enums', '_models', '_patch', '_patch_all', '_patch_sdk']\n"
     ]
    }
   ],
   "source": [
    "import azure.ai.agents.models as models\n",
    "print(dir(models))"
   ]
  },
  {
   "cell_type": "code",
   "execution_count": 3,
   "id": "65334de7-4005-401a-89c1-be24f75abbd9",
   "metadata": {},
   "outputs": [
    {
     "data": {
      "text/plain": [
       "True"
      ]
     },
     "execution_count": 3,
     "metadata": {},
     "output_type": "execute_result"
    }
   ],
   "source": [
    "load_dotenv()"
   ]
  },
  {
   "cell_type": "code",
   "execution_count": 4,
   "id": "8628712a-0d10-4351-8993-b4c3243f83be",
   "metadata": {},
   "outputs": [
    {
     "data": {
      "text/plain": [
       "'3.13.4 (main, Jun  3 2025, 15:34:24) [Clang 17.0.0 (clang-1700.0.13.3)]'"
      ]
     },
     "execution_count": 4,
     "metadata": {},
     "output_type": "execute_result"
    }
   ],
   "source": [
    "sys.version"
   ]
  },
  {
   "cell_type": "markdown",
   "id": "cc2c1d28-e366-442e-a186-81239ec337ec",
   "metadata": {},
   "source": [
    "## Project"
   ]
  },
  {
   "cell_type": "code",
   "execution_count": 5,
   "id": "76c7bbb7-0faa-4500-ba42-7c5b176f6196",
   "metadata": {},
   "outputs": [
    {
     "name": "stdout",
     "output_type": "stream",
     "text": [
      "Using endpoint: https://aq-ai-foundry-sweden-central.services.ai.azure.com/api/projects/firstProject\n"
     ]
    }
   ],
   "source": [
    "\n",
    "endpoint = os.getenv(\"PROJECT_ENDPOINT\")\n",
    "print(f\"Using endpoint: {endpoint}\")\n",
    "credential = DefaultAzureCredential()\n",
    "\n",
    "project_client = AgentsClient(endpoint=endpoint, credential=credential)"
   ]
  },
  {
   "cell_type": "code",
   "execution_count": 6,
   "id": "ad783cf5-ab5a-4bdb-9536-0611a7846eaa",
   "metadata": {},
   "outputs": [],
   "source": [
    "DATA_DIR = \"data\"\n",
    "\n",
    "os.makedirs(DATA_DIR, exist_ok=True)\n",
    "\n",
    "output_file = os.path.join(DATA_DIR, \"document.pdf\")"
   ]
  },
  {
   "cell_type": "code",
   "execution_count": 7,
   "id": "0ca097a7-2788-46c3-b49d-b8e8fe75d9ee",
   "metadata": {},
   "outputs": [
    {
     "name": "stdout",
     "output_type": "stream",
     "text": [
      "--2025-06-10 16:48:17--  https://arxiv.org/abs/2311.06242\n",
      "Resolving arxiv.org (arxiv.org)... 151.101.3.42, 151.101.195.42, 151.101.67.42, ...\n",
      "Connecting to arxiv.org (arxiv.org)|151.101.3.42|:443... connected.\n",
      "HTTP request sent, awaiting response... 200 OK\n",
      "Length: 48005 (47K) [text/html]\n",
      "Saving to: ‘data/document.pdf’\n",
      "\n",
      "data/document.pdf   100%[===================>]  46.88K  --.-KB/s    in 0.02s   \n",
      "\n",
      "2025-06-10 16:48:17 (2.87 MB/s) - ‘data/document.pdf’ saved [48005/48005]\n",
      "\n"
     ]
    }
   ],
   "source": [
    "!wget https://arxiv.org/abs/2311.06242 -O $output_file"
   ]
  },
  {
   "cell_type": "code",
   "execution_count": 8,
   "id": "f6cabed2",
   "metadata": {},
   "outputs": [],
   "source": [
    "model = \"gpt-4o-mini\""
   ]
  },
  {
   "cell_type": "code",
   "execution_count": 9,
   "id": "fe1a5582-f733-4775-9225-42f6e909e810",
   "metadata": {},
   "outputs": [
    {
     "name": "stdout",
     "output_type": "stream",
     "text": [
      "Uploaded file, file ID: assistant-EEBaeeX8d114nFptA4DwMW\n",
      "Created vector store, vector store ID: vs_t27TDF6BrVhxYNASVMSZNrPl\n"
     ]
    }
   ],
   "source": [
    "file = project_client.files.upload_and_poll(file_path=output_file,\n",
    "                                                  purpose=FilePurpose.AGENTS)\n",
    "\n",
    "print(f\"Uploaded file, file ID: {file.id}\")\n",
    "\n",
    "# create a vector store with the file you uploaded\n",
    "vector_store = project_client.vector_stores.create_and_poll(\n",
    "    file_ids=[file.id], name=\"document_vector_store\")\n",
    "\n",
    "print(f\"Created vector store, vector store ID: {vector_store.id}\")"
   ]
  },
  {
   "cell_type": "code",
   "execution_count": 10,
   "id": "f45913d3-1182-4a04-90c4-a2557909d315",
   "metadata": {},
   "outputs": [
    {
     "name": "stdout",
     "output_type": "stream",
     "text": [
      "Created agent, agent ID: asst_MLR7N2n8xk9NsjOytKZAiabp\n"
     ]
    }
   ],
   "source": [
    "# create a file search tool\n",
    "file_search_tool = FileSearchTool(vector_store_ids=[vector_store.id])\n",
    "\n",
    "# notices that FileSearchTool as tool and tool_resources must be added or the agent will be unable to search the file\n",
    "model = \"gpt-4.1\"\n",
    "agent = project_client.create_agent(\n",
    "    model=model,\n",
    "    name=\"document_agent\",\n",
    "    instructions=\"You are an AI helpful agent to analyse document\",\n",
    "    tools=file_search_tool.definitions,\n",
    "    tool_resources=file_search_tool.resources,\n",
    ")\n",
    "\n",
    "print(f\"Created agent, agent ID: {agent.id}\")"
   ]
  },
  {
   "cell_type": "code",
   "execution_count": 11,
   "id": "2c8a3595-7db7-4047-8745-d2bb25c63e47",
   "metadata": {},
   "outputs": [
    {
     "name": "stdout",
     "output_type": "stream",
     "text": [
      "Created thread, thread ID: thread_jznGCYUQQvMaLxdYnlDw8Ql9\n",
      "Uploaded file, file ID: assistant-GeUfrfKWu8js2TgA3VpUP7\n",
      "Created message, message ID: msg_qnlNM1TIbuB1sbfv4CnmosRu\n"
     ]
    }
   ],
   "source": [
    "# Create a thread\n",
    "thread = project_client.threads.create()\n",
    "print(f\"Created thread, thread ID: {thread.id}\")\n",
    "\n",
    "# Upload the user provided file as a messsage attachment\n",
    "message_file = project_client.files.upload_and_poll(\n",
    "    file_path=output_file, purpose=FilePurpose.AGENTS)\n",
    "\n",
    "print(f\"Uploaded file, file ID: {message_file.id}\")\n",
    "\n",
    "# Create a message with the file search attachment\n",
    "# Notice that vector store is created temporarily when using attachments with a default expiration policy of seven days.\n",
    "attachment = MessageAttachment(file_id=message_file.id,\n",
    "                               tools=FileSearchTool().definitions)\n",
    "\n",
    "prompt = \"Summarize this document in three lines.\"\n",
    "\n",
    "message = project_client.messages.create(thread_id=thread.id,\n",
    "                                               role=\"user\",\n",
    "                                               content=prompt,\n",
    "                                               attachments=[attachment])\n",
    "\n",
    "print(f\"Created message, message ID: {message.id}\")"
   ]
  },
  {
   "cell_type": "code",
   "execution_count": 12,
   "id": "54f6f557-18fb-41c4-8cee-eb3d0300d158",
   "metadata": {},
   "outputs": [
    {
     "name": "stdout",
     "output_type": "stream",
     "text": [
      "Created run, run ID: run_HoAC4YsgMTCauqEWtsp4WoDF\n",
      "Messages: <iterator object azure.core.paging.ItemPaged at 0x107b05d30>\n"
     ]
    }
   ],
   "source": [
    "run = project_client.runs.create_and_process(thread_id=thread.id,\n",
    "                                                   agent_id=agent.id)\n",
    "print(f\"Created run, run ID: {run.id}\")\n",
    "\n",
    "messages = project_client.messages.list(thread_id=thread.id)\n",
    "print(f\"Messages: {messages}\")"
   ]
  },
  {
   "cell_type": "code",
   "execution_count": 13,
   "id": "33d14e13-f3bd-4822-a679-0aa322bc98f8",
   "metadata": {},
   "outputs": [
    {
     "name": "stdout",
     "output_type": "stream",
     "text": [
      "MessageRole.USER: Summarize this document in three lines.\n",
      "MessageRole.AGENT: Certainly! Here is a concise three-line summary of the document:\n",
      "\n",
      "1. The document provides an overview of key objectives, strategies, and current progress related to a specific project or initiative.\n",
      "2. It highlights achievements, ongoing challenges, and areas requiring further attention or resources.\n",
      "3. Recommendations for future actions and measurable outcomes are outlined to guide continued development and success.\n",
      "\n",
      "If you need a more specific summary or details, please let me know the exact focus area.\n"
     ]
    }
   ],
   "source": [
    "    # Fetch and log all messages\n",
    "    messages = project_client.messages.list(thread_id=thread.id, order=ListSortOrder.ASCENDING)\n",
    "\n",
    "    # Print last messages from the thread\n",
    "    for msg in messages:\n",
    "        if msg.text_messages:\n",
    "            last_text = msg.text_messages[-1]\n",
    "            print(f\"{msg.role}: {last_text.text.value}\")"
   ]
  },
  {
   "cell_type": "markdown",
   "id": "ffac954d-32ff-4f13-bf06-f567d06b92b3",
   "metadata": {},
   "source": [
    "## Another question"
   ]
  },
  {
   "cell_type": "code",
   "execution_count": 14,
   "id": "652a3050-4486-40c9-94e7-a7ee8532ebdd",
   "metadata": {},
   "outputs": [
    {
     "name": "stdout",
     "output_type": "stream",
     "text": [
      "Created message, message ID: msg_61R7LuUFaaCXQUySO8fc7nGb\n"
     ]
    }
   ],
   "source": [
    "prompt = \"Summarize this document in three lines.\"\n",
    "\n",
    "message = project_client.messages.create(thread_id=thread.id,\n",
    "                                               role=\"user\",\n",
    "                                               content=prompt,\n",
    "                                               attachments=[attachment])\n",
    "\n",
    "print(f\"Created message, message ID: {message.id}\")"
   ]
  },
  {
   "cell_type": "code",
   "execution_count": 15,
   "id": "a57d170e-d03e-4d05-8914-93b54b0846f4",
   "metadata": {},
   "outputs": [
    {
     "name": "stdout",
     "output_type": "stream",
     "text": [
      "Created run, run ID: run_7VMBBfKRWyJeOKHVLUfMrFc1\n",
      "Messages: <iterator object azure.core.paging.ItemPaged at 0x1078c2710>\n"
     ]
    }
   ],
   "source": [
    "run = project_client.runs.create_and_process(thread_id=thread.id,\n",
    "                                                   agent_id=agent.id)\n",
    "print(f\"Created run, run ID: {run.id}\")\n",
    "\n",
    "messages = project_client.messages.list(thread_id=thread.id)\n",
    "print(f\"Messages: {messages}\")"
   ]
  },
  {
   "cell_type": "code",
   "execution_count": 16,
   "id": "d3de78f3",
   "metadata": {},
   "outputs": [
    {
     "name": "stdout",
     "output_type": "stream",
     "text": [
      "Message ID: msg_1F6b2k39mAntbdLGjyzje4Qu, Role: MessageRole.AGENT, Content: [{'type': 'text', 'text': {'value': 'The document outlines the key goals and recent progress of the project, emphasizing major milestones achieved and current challenges faced.  \\nIt discusses resource allocation, critical issues impacting timelines, and strategies for risk mitigation.  \\nRecommendations are provided for next steps to ensure continued successful project implementation.\\n\\nIf you need a more detailed or targeted summary, please specify the focus area or purpose.', 'annotations': []}}]\n",
      "Message ID: msg_61R7LuUFaaCXQUySO8fc7nGb, Role: MessageRole.USER, Content: [{'type': 'text', 'text': {'value': 'Summarize this document in three lines.', 'annotations': []}}]\n",
      "Message ID: msg_kXPm3Xx6v790N4n68AaSb3N4, Role: MessageRole.AGENT, Content: [{'type': 'text', 'text': {'value': 'Certainly! Here is a concise three-line summary of the document:\\n\\n1. The document provides an overview of key objectives, strategies, and current progress related to a specific project or initiative.\\n2. It highlights achievements, ongoing challenges, and areas requiring further attention or resources.\\n3. Recommendations for future actions and measurable outcomes are outlined to guide continued development and success.\\n\\nIf you need a more specific summary or details, please let me know the exact focus area.', 'annotations': []}}]\n",
      "Message ID: msg_qnlNM1TIbuB1sbfv4CnmosRu, Role: MessageRole.USER, Content: [{'type': 'text', 'text': {'value': 'Summarize this document in three lines.', 'annotations': []}}]\n"
     ]
    }
   ],
   "source": [
    "messages = project_client.messages.list(thread_id=thread.id)\n",
    "for message in messages:\n",
    "    print(f\"Message ID: {message.id}, Role: {message.role}, Content: {message.content}\")"
   ]
  },
  {
   "cell_type": "code",
   "execution_count": 17,
   "id": "dbd185b6-092a-4c67-900e-497d3b792af8",
   "metadata": {},
   "outputs": [
    {
     "name": "stdout",
     "output_type": "stream",
     "text": [
      "Content: [{'type': 'text', 'text': {'value': 'The document outlines the key goals and recent progress of the project, emphasizing major milestones achieved and current challenges faced.  \\nIt discusses resource allocation, critical issues impacting timelines, and strategies for risk mitigation.  \\nRecommendations are provided for next steps to ensure continued successful project implementation.\\n\\nIf you need a more detailed or targeted summary, please specify the focus area or purpose.', 'annotations': []}}]\n"
     ]
    }
   ],
   "source": [
    "messages = list(project_client.messages.list(thread_id=thread.id))\n",
    "if messages:\n",
    "    last_message = messages[0]\n",
    "    print(f\"Content: {last_message.content}\")\n",
    "else:\n",
    "    print(\"No messages found.\")"
   ]
  },
  {
   "cell_type": "markdown",
   "id": "c4297511-c6e7-4f36-901a-a82335603f9b",
   "metadata": {},
   "source": [
    "## Post processing"
   ]
  },
  {
   "cell_type": "code",
   "execution_count": 18,
   "id": "bb0c38dd-e8c0-47f8-a4a1-60edcdd30f6a",
   "metadata": {},
   "outputs": [
    {
     "name": "stdout",
     "output_type": "stream",
     "text": [
      "Listing all agents in the project:\n",
      "Agent ID: asst_MLR7N2n8xk9NsjOytKZAiabp, Name: document_agent, Model: gpt-4.1, Instructions: You are an AI helpful agent to analyse document\n",
      "Agent ID: asst_mVbBQDGl9mHKzVqdfCMGmTIb, Name: document_agent, Model: gpt-4.1, Instructions: You are an AI helpful agent to analyse document\n"
     ]
    }
   ],
   "source": [
    "# List all agents in the project\n",
    "print(\"Listing all agents in the project:\")\n",
    "agents = project_client.list_agents()\n",
    "for agent in agents:\n",
    "    print(f\"Agent ID: {agent.id}, Name: {agent.name}, Model: {agent.model}, Instructions: {agent.instructions}\")"
   ]
  },
  {
   "cell_type": "code",
   "execution_count": 20,
   "id": "5b7824d8-0f52-48be-947f-dbc4eaa52f56",
   "metadata": {},
   "outputs": [],
   "source": [
    "# recurse through all agents and delete them adding a test to stop if the agent is not found\n",
    "for agent in project_client.list_agents():\n",
    "    try:\n",
    "        print(f\"Deleting agent ID: {agent.id}, Name: {agent.name}\")\n",
    "        project_client.delete_agent(agent.id)\n",
    "    except Exception as e:\n",
    "        print(f\"Error deleting agent ID: {agent.id}, Name: {agent.name}, Error: {e}\")\n",
    "        break"
   ]
  },
  {
   "cell_type": "code",
   "execution_count": 21,
   "id": "01aaa599-5f3e-445f-9271-fa99c025dffa",
   "metadata": {},
   "outputs": [
    {
     "name": "stdout",
     "output_type": "stream",
     "text": [
      "Deleted file\n",
      "Done\n"
     ]
    }
   ],
   "source": [
    "# Delete the original file from the agent to free up space\n",
    "print(\"Deleted file\")\n",
    "project_client.files.delete(file.id)\n",
    "print(\"Done\")"
   ]
  },
  {
   "cell_type": "markdown",
   "id": "90b7ccbf",
   "metadata": {},
   "source": [
    "## DO EVERYTHING in one run !!"
   ]
  },
  {
   "cell_type": "markdown",
   "id": "47631f67",
   "metadata": {},
   "source": [
    "## use an .md file as source and get insights from its content"
   ]
  },
  {
   "cell_type": "code",
   "execution_count": 22,
   "id": "b0677aa6",
   "metadata": {},
   "outputs": [
    {
     "name": "stdout",
     "output_type": "stream",
     "text": [
      "Uploaded file, file ID: assistant-MVHDUTr5THVPGygG3UpUcT\n",
      "Created vector store, vector store ID: vs_Tri9wx63sPtIkQe8jxvnLORZ\n",
      "Created agent, ID: asst_kxsSgTNlavN5DSjCNN1vlQLy\n",
      "Created thread, ID: thread_T9j0vGoVM5ewkzbPbgWAjPWN\n",
      "Created message, ID: msg_xKUAFARSfXmX75ue3s8nCfTe\n",
      "Run finished with status: RunStatus.COMPLETED\n",
      "Deleted vector store\n",
      "Deleted file\n",
      "Deleted agent\n",
      "\n",
      "\n",
      "MessageRole.USER: Hello, using the uplaoded file as source, what Contoso products do you know about?\n",
      "MessageRole.AGENT: Based on the uploaded file, here are some Contoso products mentioned:\n",
      "\n",
      "- Contoso Coffee\n",
      "- Contoso Tea\n",
      "- Organic Coffee\n",
      "- Espresso\n",
      "- Herbal Tea\n",
      "\n",
      "If you need a detailed list or more information about each product, let me know!\n"
     ]
    }
   ],
   "source": [
    "# ------------------------------------\n",
    "# Copyright (c) Microsoft Corporation.\n",
    "# Licensed under the MIT License.\n",
    "# ------------------------------------\n",
    "\n",
    "\"\"\"\n",
    "DESCRIPTION:\n",
    "    This sample demonstrates how to use agent operations with file searching from\n",
    "    the Azure Agents service using a synchronous client.\n",
    "\n",
    "USAGE:\n",
    "    python sample_agents_file_search.py\n",
    "\n",
    "    Before running the sample:\n",
    "\n",
    "    pip install azure-ai-agents azure-identity\n",
    "\n",
    "    Set these environment variables with your own values:\n",
    "    1) PROJECT_ENDPOINT - The Azure AI Project endpoint, as found in the Overview\n",
    "                          page of your Azure AI Foundry portal.\n",
    "    2) MODEL_DEPLOYMENT_NAME - The deployment name of the AI model, as found under the \"Name\" column in\n",
    "       the \"Models + endpoints\" tab in your Azure AI Foundry project.\n",
    "\"\"\"\n",
    "\n",
    "import os\n",
    "from azure.ai.agents import AgentsClient\n",
    "from azure.ai.agents.models import (\n",
    "    FileSearchTool,\n",
    "    FilePurpose,\n",
    "    ListSortOrder,\n",
    ")\n",
    "from azure.identity import DefaultAzureCredential\n",
    "\n",
    "notebook_dir = os.path.dirname(os.path.abspath(''))\n",
    "asset_file_path = os.path.abspath(os.path.join(notebook_dir, \"./assets/product_info_1.md\"))\n",
    "\n",
    "agents_client = AgentsClient(\n",
    "    endpoint=os.environ[\"PROJECT_ENDPOINT\"],\n",
    "    credential=DefaultAzureCredential(),\n",
    ")\n",
    "\n",
    "with agents_client:\n",
    "\n",
    "    # Upload file and create vector store\n",
    "    # [START upload_file_create_vector_store_and_agent_with_file_search_tool]\n",
    "    file = agents_client.files.upload_and_poll(file_path=asset_file_path, purpose=FilePurpose.AGENTS)\n",
    "    print(f\"Uploaded file, file ID: {file.id}\")\n",
    "\n",
    "    vector_store = agents_client.vector_stores.create_and_poll(file_ids=[file.id], name=\"my_vectorstore\")\n",
    "    print(f\"Created vector store, vector store ID: {vector_store.id}\")\n",
    "\n",
    "    # Create file search tool with resources followed by creating agent\n",
    "    file_search = FileSearchTool(vector_store_ids=[vector_store.id])\n",
    "\n",
    "    agent = agents_client.create_agent(\n",
    "        model=os.environ[\"MODEL_DEPLOYMENT_NAME\"],\n",
    "        name=\"my-agent\",\n",
    "        instructions=\"Hello, you are helpful agent and can search information from uploaded files\",\n",
    "        tools=file_search.definitions,\n",
    "        tool_resources=file_search.resources,\n",
    "    )\n",
    "    # [END upload_file_create_vector_store_and_agent_with_file_search_tool]\n",
    "\n",
    "    print(f\"Created agent, ID: {agent.id}\")\n",
    "\n",
    "    # Create thread for communication\n",
    "    thread = agents_client.threads.create()\n",
    "    print(f\"Created thread, ID: {thread.id}\")\n",
    "\n",
    "    # Create message to thread\n",
    "    message = agents_client.messages.create(\n",
    "        thread_id=thread.id, role=\"user\", content=\"Hello, using the uplaoded file as source, what Contoso products do you know about?\"\n",
    "    )\n",
    "    print(f\"Created message, ID: {message.id}\")\n",
    "\n",
    "    # Create and process agent run in thread with tools\n",
    "    run = agents_client.runs.create_and_process(thread_id=thread.id, agent_id=agent.id)\n",
    "    print(f\"Run finished with status: {run.status}\")\n",
    "\n",
    "    if run.status == \"failed\":\n",
    "        # Check if you got \"Rate limit is exceeded.\", then you want to get more quota\n",
    "        print(f\"Run failed: {run.last_error}\")\n",
    "\n",
    "    # [START teardown]\n",
    "    # Delete the file when done\n",
    "    agents_client.vector_stores.delete(vector_store.id)\n",
    "    print(\"Deleted vector store\")\n",
    "\n",
    "    agents_client.files.delete(file_id=file.id)\n",
    "    print(\"Deleted file\")\n",
    "\n",
    "    # Delete the agent when done\n",
    "    agents_client.delete_agent(agent.id)\n",
    "    print(\"Deleted agent\")\n",
    "    # [END teardown]\n",
    "\n",
    "    # Fetch and log all messages\n",
    "    messages = agents_client.messages.list(thread_id=thread.id, order=ListSortOrder.ASCENDING)\n",
    "    print()\n",
    "    print()\n",
    "\n",
    "    # Print last messages from the thread\n",
    "    for msg in messages:\n",
    "        if msg.text_messages:\n",
    "            last_text = msg.text_messages[-1]\n",
    "            print(f\"{msg.role}: {last_text.text.value}\")\n"
   ]
  }
 ],
 "metadata": {
  "kernelspec": {
   "display_name": ".venv",
   "language": "python",
   "name": "python3"
  },
  "language_info": {
   "codemirror_mode": {
    "name": "ipython",
    "version": 3
   },
   "file_extension": ".py",
   "mimetype": "text/x-python",
   "name": "python",
   "nbconvert_exporter": "python",
   "pygments_lexer": "ipython3",
   "version": "3.13.4"
  },
  "varInspector": {
   "cols": {
    "lenName": 16,
    "lenType": 16,
    "lenVar": 40
   },
   "kernels_config": {
    "python": {
     "delete_cmd_postfix": "",
     "delete_cmd_prefix": "del ",
     "library": "var_list.py",
     "varRefreshCmd": "print(var_dic_list())"
    },
    "r": {
     "delete_cmd_postfix": ") ",
     "delete_cmd_prefix": "rm(",
     "library": "var_list.r",
     "varRefreshCmd": "cat(var_dic_list()) "
    }
   },
   "types_to_exclude": [
    "module",
    "function",
    "builtin_function_or_method",
    "instance",
    "_Feature"
   ],
   "window_display": false
  }
 },
 "nbformat": 4,
 "nbformat_minor": 5
}
