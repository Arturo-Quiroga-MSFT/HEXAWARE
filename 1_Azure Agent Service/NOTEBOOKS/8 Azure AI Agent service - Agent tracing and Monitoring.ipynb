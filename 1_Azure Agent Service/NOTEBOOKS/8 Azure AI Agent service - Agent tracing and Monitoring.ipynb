{
 "cells": [
  {
   "cell_type": "markdown",
   "id": "f2cb297b",
   "metadata": {},
   "source": [
    "### Azure Ai Agents tracing with Azure Monitor, OpenTelemetry, App Insights."
   ]
  },
  {
   "cell_type": "code",
   "execution_count": 1,
   "id": "765a9a76",
   "metadata": {},
   "outputs": [
    {
     "data": {
      "text/plain": [
       "True"
      ]
     },
     "execution_count": 1,
     "metadata": {},
     "output_type": "execute_result"
    }
   ],
   "source": [
    "\"\"\"\n",
    "DESCRIPTION:\n",
    "    This sample demonstrates how to use basic agent operations from\n",
    "    the Azure Agents service using a synchronous client with Azure Monitor tracing.\n",
    "    View the results in the \"Tracing\" tab in your Azure AI Foundry project page.\n",
    "\n",
    "USAGE:\n",
    "    python sample_agents_basics_with_azure_monitor_tracing.py\n",
    "\n",
    "    Before running the sample:\n",
    "\n",
    "    pip install azure-ai-projects azure-ai-agents azure-identity azure-monitor-opentelemetry\n",
    "\n",
    "    Set these environment variables with your own values:\n",
    "    1) PROJECT_ENDPOINT - The Azure AI Project endpoint, as found in the Overview\n",
    "                          page of your Azure AI Foundry portal.\n",
    "    2) MODEL_DEPLOYMENT_NAME - The deployment name of the AI model, as found under the \"Name\" column in\n",
    "       the \"Models + endpoints\" tab in your Azure AI Foundry project.\n",
    "    3) AZURE_TRACING_GEN_AI_CONTENT_RECORDING_ENABLED - Optional. Set to `true` to trace the content of chat\n",
    "       messages, which may contain personal data. False by default.\n",
    "    4) APPLICATIONINSIGHTS_CONNECTION_STRING - Set to the connection string of your Application Insights resource.\n",
    "       This is used to send telemetry data to Azure Monitor. You can also get the connection string programmatically\n",
    "       from AIProjectClient using the `telemetry.get_connection_string` method. A code sample showing how to do this\n",
    "       can be found in the `sample_telemetry.py` file in the azure-ai-projects telemetry samples.\n",
    "\"\"\"\n",
    "\n",
    "import os, time\n",
    "from azure.ai.projects import AIProjectClient\n",
    "from azure.ai.agents.models import ListSortOrder\n",
    "from azure.identity import DefaultAzureCredential\n",
    "from azure.ai.agents import AgentsClient\n",
    "\n",
    "import dotenv\n",
    "# Load environment variables from .env file\n",
    "dotenv.load_dotenv()"
   ]
  },
  {
   "cell_type": "code",
   "execution_count": 2,
   "id": "efa6c633",
   "metadata": {},
   "outputs": [
    {
     "name": "stdout",
     "output_type": "stream",
     "text": [
      "Scenario: AI-Agent-Trace-Monitoring-2025-06-14 10:18:49\n"
     ]
    }
   ],
   "source": [
    "# [START enable_tracing]\n",
    "from opentelemetry import trace\n",
    "from azure.monitor.opentelemetry import configure_azure_monitor\n",
    "\n",
    "# Enable Azure Monitor tracing\n",
    "application_insights_connection_string = os.environ[\"APPLICATIONINSIGHTS_CONNECTION_STRING\"]\n",
    "configure_azure_monitor(connection_string=application_insights_connection_string)\n",
    "\n",
    "# add the date & time to the scenario name\n",
    "from datetime import datetime\n",
    "date_str = datetime.now().strftime(\"%Y-%m-%d %H:%M:%S\")\n",
    "print(f\"Scenario: AI-Agent-Trace-Monitoring-{date_str}\")\n",
    "scenario = os.path.basename(f\"AI-Agent-Trace-Monitoring-{date_str}\")\n",
    "tracer = trace.get_tracer(\"monitoring-sample\", \"1.0.0\")"
   ]
  },
  {
   "cell_type": "code",
   "execution_count": 3,
   "id": "a349de7f",
   "metadata": {},
   "outputs": [],
   "source": [
    "project_client = AgentsClient(\n",
    "    endpoint=os.getenv(\"PROJECT_ENDPOINT\"),\n",
    "    credential=DefaultAzureCredential(),\n",
    ")"
   ]
  },
  {
   "cell_type": "code",
   "execution_count": 4,
   "id": "0824b114",
   "metadata": {},
   "outputs": [
    {
     "name": "stdout",
     "output_type": "stream",
     "text": [
      "Created agent, agent ID: asst_mQqGtbVVRQ62GIi9BouThLwE\n",
      "Created thread, thread ID: thread_1aUJKwSSdmVfuODMhXdDl3ar\n",
      "Created message, message ID: msg_kw4erWrJt5rGR2rDwCPKXTTl\n",
      "Run completed with status: RunStatus.COMPLETED\n",
      "Deleted agent\n",
      "MessageRole.USER: Hello, what is the easiest way to learn Python?\n",
      "MessageRole.AGENT: Hello! Learning Python can be both fun and accessible, especially with the right approach. Here’s an easy way to get started:\n",
      "\n",
      "### 1. **Set Up Your Environment**\n",
      "- **Install Python:** Download from the [official Python website](https://www.python.org/downloads/).\n",
      "- **IDE/Text Editor:** Use beginner-friendly options like [Thonny](https://thonny.org/), [VS Code](https://code.visualstudio.com/), or even the default IDLE.\n",
      "\n",
      "### 2. **Learn Basic Concepts**\n",
      "- **Variables and Data Types:** Learn about numbers, strings, lists, dictionaries, etc.\n",
      "- **Control Flow:** Understand if-else statements, for and while loops.\n",
      "- **Functions:** Learn how to define and use functions.\n",
      "\n",
      "### 3. **Use Interactive Resources**\n",
      "- **Interactive Tutorials:**  \n",
      "  - [Codecademy’s Python Course](https://www.codecademy.com/learn/learn-python-3)\n",
      "  - [SoloLearn Python](https://www.sololearn.com/Course/Python/)\n",
      "  - [W3Schools Python Tutorial](https://www.w3schools.com/python/)\n",
      "- These offer hands-on practice and instant feedback.\n",
      "\n",
      "### 4. **Watch Videos**\n",
      "- **YouTube Channels:**  \n",
      "  - [Programming with Mosh](https://www.youtube.com/watch?v=_uQrJ0TkZlc)\n",
      "  - [Corey Schafer’s Python Tutorials](https://www.youtube.com/playlist?list=PL-osiE80TeTsqhIuOqKhwlXsIBIdSeYtc)\n",
      "- Visual learning can clarify concepts quickly.\n",
      "\n",
      "### 5. **Practice Regularly**\n",
      "- **Solve Problems:** Use sites like [HackerRank](https://www.hackerrank.com/domains/tutorials/10-days-of-python) or [LeetCode](https://leetcode.com/problemset/all/?tag=python) for beginner exercises.\n",
      "- **Projects:** Start with simple projects (e.g., calculator, to-do list, guessing game).\n",
      "\n",
      "### 6. **Ask for Help**\n",
      "- Join communities like [Stack Overflow](https://stackoverflow.com/questions/tagged/python) or [Reddit’s r/learnpython](https://www.reddit.com/r/learnpython/).\n",
      "\n",
      "### Summary Table\n",
      "\n",
      "| Step | What to Do | Suggested Resources |\n",
      "|------|------------|--------------------|\n",
      "| 1 | Set Up | python.org, Thonny, VS Code |\n",
      "| 2 | Basics | Tutorials, W3Schools |\n",
      "| 3 | Practice | Codecademy, SoloLearn |\n",
      "| 4 | Watch | YouTube: Mosh, Corey Schafer |\n",
      "| 5 | Solve Problems | HackerRank, LeetCode |\n",
      "| 6 | Get Help | Stack Overflow, Reddit |\n",
      "\n",
      "**Tip**: Learning by *doing* is key. Practice every day, even if it’s just a small program!\n",
      "\n",
      "If you have a specific goal in mind (e.g., data analysis, web development), let me know, and I can tailor recommendations for you!\n"
     ]
    }
   ],
   "source": [
    "with tracer.start_as_current_span(scenario):\n",
    "    with project_client:\n",
    "\n",
    "        # [END enable_tracing]\n",
    "        agent = project_client.create_agent(\n",
    "            model=os.environ[\"MODEL_DEPLOYMENT_NAME\"], name=\"my-agent-with-tracing\", instructions=\"You are helpful agent\"\n",
    "        )\n",
    "        print(f\"Created agent, agent ID: {agent.id}\")\n",
    "\n",
    "        thread = project_client.threads.create()\n",
    "        print(f\"Created thread, thread ID: {thread.id}\")\n",
    "\n",
    "        message = project_client.messages.create(\n",
    "            thread_id=thread.id, role=\"user\", content=\"Hello, what is the easiest way to learn Python?\"\n",
    "        )\n",
    "        print(f\"Created message, message ID: {message.id}\")\n",
    "\n",
    "        run = project_client.runs.create_and_process(thread_id=thread.id, agent_id=agent.id)\n",
    "        print(f\"Run completed with status: {run.status}\")\n",
    "\n",
    "        project_client.delete_agent(agent.id)\n",
    "        print(\"Deleted agent\")\n",
    "\n",
    "        messages = project_client.messages.list(thread_id=thread.id, order=ListSortOrder.ASCENDING)\n",
    "        for msg in messages:\n",
    "            if msg.text_messages:\n",
    "                last_text = msg.text_messages[-1]\n",
    "                print(f\"{msg.role}: {last_text.text.value}\")"
   ]
  },
  {
   "cell_type": "code",
   "execution_count": 5,
   "id": "cf20cc10",
   "metadata": {},
   "outputs": [
    {
     "name": "stdout",
     "output_type": "stream",
     "text": [
      "Scenario: AI-Agent-Trace-Monitoring-2025-06-14 10:19:02\n"
     ]
    }
   ],
   "source": [
    "\n",
    "\n",
    "# add the date & time to the scenario name\n",
    "from datetime import datetime\n",
    "date_str = datetime.now().strftime(\"%Y-%m-%d %H:%M:%S\")\n",
    "print(f\"Scenario: AI-Agent-Trace-Monitoring-{date_str}\")\n",
    "scenario = os.path.basename(f\"AI-Agent-Trace-Monitoring-{date_str}\")\n",
    "tracer = trace.get_tracer(\"monitoring-sample\", \"1.0.0\")"
   ]
  },
  {
   "cell_type": "code",
   "execution_count": 6,
   "id": "42595b03",
   "metadata": {},
   "outputs": [],
   "source": [
    "project_client = AgentsClient(\n",
    "    endpoint=os.getenv(\"PROJECT_ENDPOINT\"),\n",
    "    credential=DefaultAzureCredential(),\n",
    ")"
   ]
  },
  {
   "cell_type": "code",
   "execution_count": 7,
   "id": "29e3af38",
   "metadata": {},
   "outputs": [
    {
     "name": "stdout",
     "output_type": "stream",
     "text": [
      "Created agent, agent ID: asst_WuolavXYiqo6LoIvW5S0tRHl\n",
      "Created thread, thread ID: thread_oYQUDoxu0Q8dJNd550XnJFsQ\n",
      "Created message, message ID: msg_2QIsgjXFrKPUBTJaeMtmssfY\n",
      "Run completed with status: RunStatus.COMPLETED\n",
      "Deleted agent\n",
      "MessageRole.USER: what is the laplace transform used for\n",
      "MessageRole.AGENT: The **Laplace transform** is a powerful mathematical tool used primarily to simplify the analysis of linear systems, especially in engineering, physics, and mathematics. Here’s what it’s used for:\n",
      "\n",
      "---\n",
      "\n",
      "### **1. Solving Differential Equations**\n",
      "- The Laplace transform converts complex **differential equations** (which are difficult to solve directly) into **algebraic equations** (which are simpler to handle).\n",
      "- Once solved in the Laplace (frequency) domain, the inverse Laplace transform converts the solution back to the original time domain.\n",
      "\n",
      "---\n",
      "\n",
      "### **2. Control Systems Engineering**\n",
      "- Used to analyze and design **control systems** (like those in robotics, industrial automation, aircraft, etc.).\n",
      "- Helps in determining the stability and response of systems to inputs.\n",
      "\n",
      "---\n",
      "\n",
      "### **3. Signal Processing**\n",
      "- Used to analyze time-domain signals and systems by transforming them into a complex frequency domain.\n",
      "- Makes convolution (integral operation) turn into multiplication (algebraic operation), simplifying calculations.\n",
      "\n",
      "---\n",
      "\n",
      "### **4. Circuit Analysis**\n",
      "- Used to analyze **electrical circuits** (RLC circuits, for example) by transforming circuit equations into a form that is easier to solve, especially when circuits include switches or other time-dependent components.\n",
      "\n",
      "---\n",
      "\n",
      "### **5. System Modeling**\n",
      "- Helps represent complex physical systems (mechanical, thermal, chemical) mathematically to predict system behavior.\n",
      "\n",
      "---\n",
      "\n",
      "### **6. Initial Value Problems**\n",
      "- Especially useful in problems with **initial conditions** (like physics problems that start from rest or from a specific state), since the Laplace transform naturally incorporates initial conditions into its formulation.\n",
      "\n",
      "---\n",
      "\n",
      "### **In summary:**  \n",
      "The Laplace transform is mainly used to simplify the process of **analyzing and solving linear time-invariant systems**, especially where differential equations and initial value problems are involved.\n",
      "\n",
      "If you need a simple example or a more application-specific explanation, feel free to ask!\n"
     ]
    }
   ],
   "source": [
    "with tracer.start_as_current_span(scenario):\n",
    "    with project_client:\n",
    "\n",
    "        # [END enable_tracing]\n",
    "        agent = project_client.create_agent(\n",
    "            model=os.environ[\"MODEL_DEPLOYMENT_NAME\"], name=\"my-agent-with-tracing\", instructions=\"You are helpful agent\"\n",
    "        )\n",
    "        print(f\"Created agent, agent ID: {agent.id}\")\n",
    "\n",
    "        thread = project_client.threads.create()\n",
    "        print(f\"Created thread, thread ID: {thread.id}\")\n",
    "\n",
    "        message = project_client.messages.create(\n",
    "            thread_id=thread.id, role=\"user\", content=\"what is the laplace transform used for\"\n",
    "        )\n",
    "        print(f\"Created message, message ID: {message.id}\")\n",
    "\n",
    "        run = project_client.runs.create_and_process(thread_id=thread.id, agent_id=agent.id)\n",
    "        print(f\"Run completed with status: {run.status}\")\n",
    "\n",
    "        project_client.delete_agent(agent.id)\n",
    "        print(\"Deleted agent\")\n",
    "\n",
    "        messages = project_client.messages.list(thread_id=thread.id, order=ListSortOrder.ASCENDING)\n",
    "        for msg in messages:\n",
    "            if msg.text_messages:\n",
    "                last_text = msg.text_messages[-1]\n",
    "                print(f\"{msg.role}: {last_text.text.value}\")"
   ]
  }
 ],
 "metadata": {
  "kernelspec": {
   "display_name": ".venv",
   "language": "python",
   "name": "python3"
  },
  "language_info": {
   "codemirror_mode": {
    "name": "ipython",
    "version": 3
   },
   "file_extension": ".py",
   "mimetype": "text/x-python",
   "name": "python",
   "nbconvert_exporter": "python",
   "pygments_lexer": "ipython3",
   "version": "3.13.5"
  }
 },
 "nbformat": 4,
 "nbformat_minor": 5
}
