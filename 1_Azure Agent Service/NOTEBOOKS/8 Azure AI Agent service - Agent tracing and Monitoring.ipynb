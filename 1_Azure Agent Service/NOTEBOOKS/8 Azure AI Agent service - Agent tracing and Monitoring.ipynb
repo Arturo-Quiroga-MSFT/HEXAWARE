{
 "cells": [
  {
   "cell_type": "code",
   "execution_count": 1,
   "id": "765a9a76",
   "metadata": {},
   "outputs": [
    {
     "data": {
      "text/plain": [
       "True"
      ]
     },
     "execution_count": 1,
     "metadata": {},
     "output_type": "execute_result"
    }
   ],
   "source": [
    "\"\"\"\n",
    "DESCRIPTION:\n",
    "    This sample demonstrates how to use basic agent operations from\n",
    "    the Azure Agents service using a synchronous client with Azure Monitor tracing.\n",
    "    View the results in the \"Tracing\" tab in your Azure AI Foundry project page.\n",
    "\n",
    "USAGE:\n",
    "    python sample_agents_basics_with_azure_monitor_tracing.py\n",
    "\n",
    "    Before running the sample:\n",
    "\n",
    "    pip install azure-ai-projects azure-ai-agents azure-identity azure-monitor-opentelemetry\n",
    "\n",
    "    Set these environment variables with your own values:\n",
    "    1) PROJECT_ENDPOINT - The Azure AI Project endpoint, as found in the Overview\n",
    "                          page of your Azure AI Foundry portal.\n",
    "    2) MODEL_DEPLOYMENT_NAME - The deployment name of the AI model, as found under the \"Name\" column in\n",
    "       the \"Models + endpoints\" tab in your Azure AI Foundry project.\n",
    "    3) AZURE_TRACING_GEN_AI_CONTENT_RECORDING_ENABLED - Optional. Set to `true` to trace the content of chat\n",
    "       messages, which may contain personal data. False by default.\n",
    "    4) APPLICATIONINSIGHTS_CONNECTION_STRING - Set to the connection string of your Application Insights resource.\n",
    "       This is used to send telemetry data to Azure Monitor. You can also get the connection string programmatically\n",
    "       from AIProjectClient using the `telemetry.get_connection_string` method. A code sample showing how to do this\n",
    "       can be found in the `sample_telemetry.py` file in the azure-ai-projects telemetry samples.\n",
    "\"\"\"\n",
    "\n",
    "import os, time\n",
    "from azure.ai.projects import AIProjectClient\n",
    "from azure.ai.agents.models import ListSortOrder\n",
    "from azure.identity import DefaultAzureCredential\n",
    "from azure.ai.agents import AgentsClient\n",
    "\n",
    "import dotenv\n",
    "# Load environment variables from .env file\n",
    "dotenv.load_dotenv()"
   ]
  },
  {
   "cell_type": "code",
   "execution_count": 2,
   "id": "efa6c633",
   "metadata": {},
   "outputs": [],
   "source": [
    "# [START enable_tracing]\n",
    "from opentelemetry import trace\n",
    "from azure.monitor.opentelemetry import configure_azure_monitor\n",
    "\n",
    "# Enable Azure Monitor tracing\n",
    "application_insights_connection_string = os.environ[\"APPLICATIONINSIGHTS_CONNECTION_STRING\"]\n",
    "configure_azure_monitor(connection_string=application_insights_connection_string)\n",
    "\n",
    "scenario = os.path.basename(\"AI-AGENT_TRACING_MONITORING-2.ipynb\")\n",
    "tracer = trace.get_tracer(\"monitoring-sample\", \"1.0.0\")"
   ]
  },
  {
   "cell_type": "code",
   "execution_count": 3,
   "id": "a349de7f",
   "metadata": {},
   "outputs": [],
   "source": [
    "project_client = AgentsClient(\n",
    "    endpoint=os.getenv(\"PROJECT_ENDPOINT\"),\n",
    "    credential=DefaultAzureCredential(),\n",
    ")"
   ]
  },
  {
   "cell_type": "code",
   "execution_count": 4,
   "id": "0824b114",
   "metadata": {},
   "outputs": [
    {
     "name": "stdout",
     "output_type": "stream",
     "text": [
      "Created agent, agent ID: asst_HdlLfKxLENErvUTB7ByszZUH\n",
      "Created thread, thread ID: thread_gN8F8uYBR4t6p68NgAQg3g68\n",
      "Created message, message ID: msg_m20qbDToDywplnA08QG90qve\n",
      "Run completed with status: RunStatus.COMPLETED\n",
      "Deleted agent\n",
      "MessageRole.USER: Hello, what is the easiest way to learn Python?\n",
      "MessageRole.AGENT: Hello! Learning Python can be enjoyable and straightforward if you approach it step by step. Here’s an **easy way to get started with Python**:\n",
      "\n",
      "### 1. **Set Up Your Environment**\n",
      "- Download and install [Python](https://www.python.org/downloads/) (if it’s not already on your computer).\n",
      "- Use a beginner-friendly code editor, such as [Thonny](https://thonny.org/) or [VS Code](https://code.visualstudio.com/).\n",
      "\n",
      "### 2. **Follow an Interactive Tutorial**\n",
      "- Try websites like [Codecademy](https://www.codecademy.com/learn/learn-python-3), [SoloLearn](https://www.sololearn.com/Course/Python/), or [W3Schools Python Tutorial](https://www.w3schools.com/python/). They let you write and test code in your browser.\n",
      "\n",
      "### 3. **Start With the Basics**\n",
      "Focus on core concepts:\n",
      "- Syntax, printing, basic math\n",
      "- Variables and data types (strings, integers, floats)\n",
      "- Lists, tuples, and dictionaries\n",
      "- If/else statements, loops (for, while)\n",
      "- Functions\n",
      "\n",
      "### 4. **Practice with Simple Projects**\n",
      "- Write small programs: a calculator, number guess game, to-do list.\n",
      "- Use sites like [exercism.io](https://exercism.io/tracks/python), [Hackerrank](https://www.hackerrank.com/domains/tutorials/10-days-of-python), or [LeetCode](https://leetcode.com/problemset/all/) for practice problems.\n",
      "\n",
      "### 5. **Learn Regularly (Short Lessons Daily)**\n",
      "- 20–30 minutes a day is more effective than long sessions once a week.\n",
      "\n",
      "### 6. **Get Involved in the Community**\n",
      "- Join forums ([Stack Overflow](https://stackoverflow.com/questions/tagged/python), [Reddit r/learnpython](https://www.reddit.com/r/learnpython/)) for help and motivation.\n",
      "\n",
      "### 7. **Use Free Books and Resources**\n",
      "- “[Automate the Boring Stuff with Python](https://automatetheboringstuff.com/)” is excellent for beginners.\n",
      "\n",
      "---\n",
      "\n",
      "**Summary**:  \n",
      "Use interactive tutorials, practice small coding problems regularly, and don’t hesitate to seek help from the community.\n",
      "\n",
      "Would you like recommendations for specific beginner tutorials based on your goals (e.g., data analysis, web development, automation)?\n"
     ]
    }
   ],
   "source": [
    "with tracer.start_as_current_span(scenario):\n",
    "    with project_client:\n",
    "\n",
    "        # [END enable_tracing]\n",
    "        agent = project_client.create_agent(\n",
    "            model=os.environ[\"MODEL_DEPLOYMENT_NAME\"], name=\"my-agent-with-tracing\", instructions=\"You are helpful agent\"\n",
    "        )\n",
    "        print(f\"Created agent, agent ID: {agent.id}\")\n",
    "\n",
    "        thread = project_client.threads.create()\n",
    "        print(f\"Created thread, thread ID: {thread.id}\")\n",
    "\n",
    "        message = project_client.messages.create(\n",
    "            thread_id=thread.id, role=\"user\", content=\"Hello, what is the easiest way to learn Python?\"\n",
    "        )\n",
    "        print(f\"Created message, message ID: {message.id}\")\n",
    "\n",
    "        run = project_client.runs.create_and_process(thread_id=thread.id, agent_id=agent.id)\n",
    "        print(f\"Run completed with status: {run.status}\")\n",
    "\n",
    "        project_client.delete_agent(agent.id)\n",
    "        print(\"Deleted agent\")\n",
    "\n",
    "        messages = project_client.messages.list(thread_id=thread.id, order=ListSortOrder.ASCENDING)\n",
    "        for msg in messages:\n",
    "            if msg.text_messages:\n",
    "                last_text = msg.text_messages[-1]\n",
    "                print(f\"{msg.role}: {last_text.text.value}\")"
   ]
  }
 ],
 "metadata": {
  "kernelspec": {
   "display_name": ".venv",
   "language": "python",
   "name": "python3"
  },
  "language_info": {
   "codemirror_mode": {
    "name": "ipython",
    "version": 3
   },
   "file_extension": ".py",
   "mimetype": "text/x-python",
   "name": "python",
   "nbconvert_exporter": "python",
   "pygments_lexer": "ipython3",
   "version": "3.13.4"
  }
 },
 "nbformat": 4,
 "nbformat_minor": 5
}
