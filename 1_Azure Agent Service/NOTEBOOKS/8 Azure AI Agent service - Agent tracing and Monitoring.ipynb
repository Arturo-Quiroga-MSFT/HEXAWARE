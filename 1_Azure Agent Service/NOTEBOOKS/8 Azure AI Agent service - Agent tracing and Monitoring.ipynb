{
 "cells": [
  {
   "cell_type": "code",
   "execution_count": 1,
   "id": "765a9a76",
   "metadata": {},
   "outputs": [
    {
     "data": {
      "text/plain": [
       "True"
      ]
     },
     "execution_count": 1,
     "metadata": {},
     "output_type": "execute_result"
    }
   ],
   "source": [
    "\"\"\"\n",
    "DESCRIPTION:\n",
    "    This sample demonstrates how to use basic agent operations from\n",
    "    the Azure Agents service using a synchronous client with Azure Monitor tracing.\n",
    "    View the results in the \"Tracing\" tab in your Azure AI Foundry project page.\n",
    "\n",
    "USAGE:\n",
    "    python sample_agents_basics_with_azure_monitor_tracing.py\n",
    "\n",
    "    Before running the sample:\n",
    "\n",
    "    pip install azure-ai-projects azure-ai-agents azure-identity azure-monitor-opentelemetry\n",
    "\n",
    "    Set these environment variables with your own values:\n",
    "    1) PROJECT_ENDPOINT - The Azure AI Project endpoint, as found in the Overview\n",
    "                          page of your Azure AI Foundry portal.\n",
    "    2) MODEL_DEPLOYMENT_NAME - The deployment name of the AI model, as found under the \"Name\" column in\n",
    "       the \"Models + endpoints\" tab in your Azure AI Foundry project.\n",
    "    3) AZURE_TRACING_GEN_AI_CONTENT_RECORDING_ENABLED - Optional. Set to `true` to trace the content of chat\n",
    "       messages, which may contain personal data. False by default.\n",
    "    4) APPLICATIONINSIGHTS_CONNECTION_STRING - Set to the connection string of your Application Insights resource.\n",
    "       This is used to send telemetry data to Azure Monitor. You can also get the connection string programmatically\n",
    "       from AIProjectClient using the `telemetry.get_connection_string` method. A code sample showing how to do this\n",
    "       can be found in the `sample_telemetry.py` file in the azure-ai-projects telemetry samples.\n",
    "\"\"\"\n",
    "\n",
    "import os, time\n",
    "from azure.ai.projects import AIProjectClient\n",
    "from azure.ai.agents.models import ListSortOrder\n",
    "from azure.identity import DefaultAzureCredential\n",
    "from azure.ai.agents import AgentsClient\n",
    "\n",
    "import dotenv\n",
    "# Load environment variables from .env file\n",
    "dotenv.load_dotenv()"
   ]
  },
  {
   "cell_type": "code",
   "execution_count": 5,
   "id": "efa6c633",
   "metadata": {},
   "outputs": [],
   "source": [
    "# [START enable_tracing]\n",
    "from opentelemetry import trace\n",
    "from azure.monitor.opentelemetry import configure_azure_monitor\n",
    "\n",
    "# Enable Azure Monitor tracing\n",
    "application_insights_connection_string = os.environ[\"APPLICATIONINSIGHTS_CONNECTION_STRING\"]\n",
    "configure_azure_monitor(connection_string=application_insights_connection_string)\n",
    "\n",
    "scenario = os.path.basename(\"AI-AGENT_TRACING_MONITORING-3.ipynb\")\n",
    "tracer = trace.get_tracer(\"monitoring-sample\", \"1.0.0\")"
   ]
  },
  {
   "cell_type": "code",
   "execution_count": 6,
   "id": "a349de7f",
   "metadata": {},
   "outputs": [],
   "source": [
    "project_client = AgentsClient(\n",
    "    endpoint=os.getenv(\"PROJECT_ENDPOINT\"),\n",
    "    credential=DefaultAzureCredential(),\n",
    ")"
   ]
  },
  {
   "cell_type": "code",
   "execution_count": 7,
   "id": "0824b114",
   "metadata": {},
   "outputs": [
    {
     "name": "stdout",
     "output_type": "stream",
     "text": [
      "Created agent, agent ID: asst_nc4cfNxN6uOPUMFjhSeIcNoM\n",
      "Created thread, thread ID: thread_dCecUp2HLo0xmVLYG847wA1l\n",
      "Created message, message ID: msg_AzuUq4xRKk0e2viLkB0rvSfw\n",
      "Run completed with status: RunStatus.COMPLETED\n",
      "Deleted agent\n",
      "MessageRole.USER: Hello, what is the easiest way to learn Python?\n",
      "MessageRole.AGENT: Hello! Learning Python can be fun and straightforward, especially with the right approach. Here are some of the **easiest ways to learn Python**, recommended for beginners:\n",
      "\n",
      "### 1. **Start with Interactive Tutorials**\n",
      "- **Websites like**:\n",
      "  - [Codecademy Python Course](https://www.codecademy.com/learn/learn-python-3)\n",
      "  - [SoloLearn Python Course](https://www.sololearn.com/Course/Python/)\n",
      "  - [W3Schools Python Tutorial](https://www.w3schools.com/python/)\n",
      "- These platforms let you write and run code directly in the browser.\n",
      "\n",
      "### 2. **Install Python and Use IDLE or Jupyter Notebook**\n",
      "- Download [Python](https://www.python.org/downloads/), which comes with IDLE (an integrated development environment).\n",
      "- Or, use [Jupyter Notebook](https://jupyter.org/) (very popular for learning and data science).\n",
      "- Try small code snippets and experiment!\n",
      "\n",
      "### 3. **Follow a Step-by-Step Book or Video Course**\n",
      "- **Free resources:**\n",
      "  - [Automate the Boring Stuff with Python](https://automatetheboringstuff.com/) (book and free online videos)\n",
      "  - [Python for Beginners (YouTube)](https://www.youtube.com/playlist?list=PL-osiE80TeTtoQCKZ03TU5fNfx2UY6U4p) by Corey Schafer\n",
      "- **Paid, structured courses:**\n",
      "  - [Coursera Python for Everybody](https://www.coursera.org/specializations/python)\n",
      "  - [Udemy: Complete Python Bootcamp](https://www.udemy.com/course/complete-python-bootcamp/)\n",
      "\n",
      "### 4. **Do Small Projects**\n",
      "- Create simple calculators, to-do lists, or automate something boring on your computer.\n",
      "- Visit [Project Euler](https://projecteuler.net/archives) or [Hackerrank](https://www.hackerrank.com/domains/tutorials/10-days-of-python) for practice problems.\n",
      "\n",
      "### 5. **Join Online Communities**\n",
      "- Ask questions and get support through sites like:\n",
      "  - [Stack Overflow](https://stackoverflow.com/questions/tagged/python)\n",
      "  - [Reddit r/learnpython](https://www.reddit.com/r/learnpython/)\n",
      "  - [Python Discord](https://pythondiscord.com/)\n",
      "\n",
      "---\n",
      "\n",
      "**Tips for Staying Motivated:**\n",
      "- Practice every day, even 15–20 minutes.\n",
      "- Don’t be afraid to make mistakes—each error is a learning step.\n",
      "- Try to solve real problems that interest you.\n",
      "\n",
      "**Summary**:  \n",
      "Start with interactive tutorials, practice regularly, work on small projects, and don’t hesitate to ask the community for help. Python is one of the most beginner-friendly languages, so enjoy the process!\n",
      "\n",
      "If you’d like a specific path or resource recommendation based on your background or goals, let me know!\n"
     ]
    }
   ],
   "source": [
    "with tracer.start_as_current_span(scenario):\n",
    "    with project_client:\n",
    "\n",
    "        # [END enable_tracing]\n",
    "        agent = project_client.create_agent(\n",
    "            model=os.environ[\"MODEL_DEPLOYMENT_NAME\"], name=\"my-agent-with-tracing\", instructions=\"You are helpful agent\"\n",
    "        )\n",
    "        print(f\"Created agent, agent ID: {agent.id}\")\n",
    "\n",
    "        thread = project_client.threads.create()\n",
    "        print(f\"Created thread, thread ID: {thread.id}\")\n",
    "\n",
    "        message = project_client.messages.create(\n",
    "            thread_id=thread.id, role=\"user\", content=\"Hello, what is the easiest way to learn Python?\"\n",
    "        )\n",
    "        print(f\"Created message, message ID: {message.id}\")\n",
    "\n",
    "        run = project_client.runs.create_and_process(thread_id=thread.id, agent_id=agent.id)\n",
    "        print(f\"Run completed with status: {run.status}\")\n",
    "\n",
    "        project_client.delete_agent(agent.id)\n",
    "        print(\"Deleted agent\")\n",
    "\n",
    "        messages = project_client.messages.list(thread_id=thread.id, order=ListSortOrder.ASCENDING)\n",
    "        for msg in messages:\n",
    "            if msg.text_messages:\n",
    "                last_text = msg.text_messages[-1]\n",
    "                print(f\"{msg.role}: {last_text.text.value}\")"
   ]
  }
 ],
 "metadata": {
  "kernelspec": {
   "display_name": ".venv",
   "language": "python",
   "name": "python3"
  },
  "language_info": {
   "codemirror_mode": {
    "name": "ipython",
    "version": 3
   },
   "file_extension": ".py",
   "mimetype": "text/x-python",
   "name": "python",
   "nbconvert_exporter": "python",
   "pygments_lexer": "ipython3",
   "version": "3.13.4"
  }
 },
 "nbformat": 4,
 "nbformat_minor": 5
}
