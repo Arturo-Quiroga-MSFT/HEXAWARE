{
 "cells": [
  {
   "cell_type": "markdown",
   "id": "431cc026-279f-4105-8444-f1b93650da0d",
   "metadata": {},
   "source": [
    "# Azure AI Agent service - Single agent\n",
    "\n",
    "<img src=\"https://learn.microsoft.com/en-us/azure/ai-services/agents/media/agent-service-the-glue.png\" width=800>\n",
    "\n",
    "> https://learn.microsoft.com/en-us/azure/ai-services/agents/"
   ]
  },
  {
   "cell_type": "code",
   "execution_count": 1,
   "id": "5e010f63-6e7e-463a-a540-1340257af40e",
   "metadata": {},
   "outputs": [],
   "source": [
    "#%pip install --upgrade azure-ai-projects"
   ]
  },
  {
   "cell_type": "code",
   "execution_count": 2,
   "id": "7a3e72d0-7521-438c-928d-5fa293b0f419",
   "metadata": {},
   "outputs": [
    {
     "data": {
      "text/plain": [
       "True"
      ]
     },
     "execution_count": 2,
     "metadata": {},
     "output_type": "execute_result"
    }
   ],
   "source": [
    "import json\n",
    "import os\n",
    "import sys\n",
    "import time\n",
    "\n",
    "from azure.ai.agents import AgentsClient\n",
    "from azure.ai.agents.models import ListSortOrder\n",
    "from azure.identity import DefaultAzureCredential\n",
    "from datetime import datetime, timezone, timedelta\n",
    "from dotenv import load_dotenv\n",
    "from openai import AzureOpenAI\n",
    "# Load environment variables from .env file\n",
    "load_dotenv()"
   ]
  },
  {
   "cell_type": "markdown",
   "id": "ec62788e",
   "metadata": {},
   "source": [
    "## define project client"
   ]
  },
  {
   "cell_type": "code",
   "execution_count": 3,
   "id": "76c7bbb7-0faa-4500-ba42-7c5b176f6196",
   "metadata": {},
   "outputs": [
    {
     "name": "stdout",
     "output_type": "stream",
     "text": [
      "Using endpoint: https://aq-ai-foundry-sweden-central.services.ai.azure.com/api/projects/firstProject\n"
     ]
    }
   ],
   "source": [
    "\n",
    "endpoint = os.getenv(\"PROJECT_ENDPOINT\")\n",
    "print(f\"Using endpoint: {endpoint}\")\n",
    "credential = DefaultAzureCredential()\n",
    "\n",
    "project_client = AgentsClient(endpoint=endpoint, credential=credential)"
   ]
  },
  {
   "cell_type": "markdown",
   "id": "75de3d4e-1d24-4060-9bf8-70e5c638fffa",
   "metadata": {},
   "source": [
    "## Single agent"
   ]
  },
  {
   "cell_type": "code",
   "execution_count": 4,
   "id": "5a1fe1bf-f9bf-4588-a433-31f20d027f07",
   "metadata": {},
   "outputs": [
    {
     "name": "stdout",
     "output_type": "stream",
     "text": [
      "Created agent, agent ID: asst_LP6SyOzb83UBrfN1K82mbfxs\n"
     ]
    }
   ],
   "source": [
    "agent = project_client.create_agent(\n",
    "    model=os.getenv(\"MODEL_DEPLOYMENT_NAME\"),\n",
    "    name=\"my-agent\",\n",
    "    instructions=\"You are helpful agent\",\n",
    ")\n",
    "print(f\"Created agent, agent ID: {agent.id}\")"
   ]
  },
  {
   "cell_type": "code",
   "execution_count": 5,
   "id": "6ca62f1b-06a0-4752-b877-4656597f01a5",
   "metadata": {},
   "outputs": [
    {
     "data": {
      "text/plain": [
       "{'id': 'asst_LP6SyOzb83UBrfN1K82mbfxs', 'object': 'assistant', 'created_at': 1749846110, 'name': 'my-agent', 'description': None, 'model': 'gpt-4.1', 'instructions': 'You are helpful agent', 'tools': [], 'top_p': 1.0, 'temperature': 1.0, 'tool_resources': {}, 'metadata': {}, 'response_format': 'auto'}"
      ]
     },
     "execution_count": 5,
     "metadata": {},
     "output_type": "execute_result"
    }
   ],
   "source": [
    "agent"
   ]
  },
  {
   "cell_type": "code",
   "execution_count": 6,
   "id": "ae72e261-9d96-42b2-ac1a-a250b4b63951",
   "metadata": {},
   "outputs": [],
   "source": [
    "prompt = \"Hello\""
   ]
  },
  {
   "cell_type": "code",
   "execution_count": 7,
   "id": "7c12fd4a-0fdf-4e7b-b2f7-9e0d540c8a3f",
   "metadata": {},
   "outputs": [
    {
     "name": "stdout",
     "output_type": "stream",
     "text": [
      "Created thread, thread ID: thread_NegwjAzrIdkOiaAcRbyWVvZf\n"
     ]
    }
   ],
   "source": [
    "# [START create_thread]\n",
    "thread = project_client.threads.create()\n",
    "# [END create_thread]\n",
    "print(f\"Created thread, thread ID: {thread.id}\")\n",
    "\n"
   ]
  },
  {
   "cell_type": "code",
   "execution_count": 8,
   "id": "f1269337",
   "metadata": {},
   "outputs": [
    {
     "name": "stdout",
     "output_type": "stream",
     "text": [
      "Created message, message ID: msg_HXGgZ7t1r0U633SgdeRI679K\n"
     ]
    }
   ],
   "source": [
    " # [START create_message]\n",
    "message = project_client.messages.create(thread_id=thread.id, role=\"user\", content=\"Hello, tell me a joke\")\n",
    "# [END create_message]\n",
    "print(f\"Created message, message ID: {message.id}\")"
   ]
  },
  {
   "cell_type": "code",
   "execution_count": 9,
   "id": "093a7f1e-2674-47b4-bb96-ae531754cc71",
   "metadata": {},
   "outputs": [
    {
     "data": {
      "text/plain": [
       "{'id': 'thread_NegwjAzrIdkOiaAcRbyWVvZf', 'object': 'thread', 'created_at': 1749846110, 'metadata': {}, 'tool_resources': {}}"
      ]
     },
     "execution_count": 9,
     "metadata": {},
     "output_type": "execute_result"
    }
   ],
   "source": [
    "thread"
   ]
  },
  {
   "cell_type": "code",
   "execution_count": 10,
   "id": "2825c1d0-2816-4e56-a905-999df2c4fa2f",
   "metadata": {},
   "outputs": [
    {
     "data": {
      "text/plain": [
       "{'id': 'msg_HXGgZ7t1r0U633SgdeRI679K', 'object': 'thread.message', 'created_at': 1749846110, 'assistant_id': None, 'thread_id': 'thread_NegwjAzrIdkOiaAcRbyWVvZf', 'run_id': None, 'role': 'user', 'content': [{'type': 'text', 'text': {'value': 'Hello, tell me a joke', 'annotations': []}}], 'attachments': [], 'metadata': {}}"
      ]
     },
     "execution_count": 10,
     "metadata": {},
     "output_type": "execute_result"
    }
   ],
   "source": [
    "message"
   ]
  },
  {
   "cell_type": "code",
   "execution_count": 11,
   "id": "f67cd782",
   "metadata": {},
   "outputs": [
    {
     "name": "stdout",
     "output_type": "stream",
     "text": [
      "Created run, run ID: run_JKDzfxiHBon1EMgDzchtxBUm\n"
     ]
    }
   ],
   "source": [
    "# [START create_run]\n",
    "run = project_client.runs.create(thread_id=thread.id, agent_id=agent.id)\n",
    "# [END create_run]\n",
    "print(f\"Created run, run ID: {run.id}\")"
   ]
  },
  {
   "cell_type": "code",
   "execution_count": 12,
   "id": "0fbd1da7-7019-4993-933a-da008aed4509",
   "metadata": {},
   "outputs": [
    {
     "name": "stdout",
     "output_type": "stream",
     "text": [
      "Run status: RunStatus.IN_PROGRESS\n",
      "Run status: RunStatus.COMPLETED\n"
     ]
    },
    {
     "data": {
      "text/plain": [
       "{'prompt_tokens': 29, 'completion_tokens': 24, 'total_tokens': 53, 'prompt_token_details': {'cached_tokens': 0}}"
      ]
     },
     "execution_count": 12,
     "metadata": {},
     "output_type": "execute_result"
    }
   ],
   "source": [
    "# Poll the run as long as run status is queued or in progress\n",
    "while run.status in [\"queued\", \"in_progress\", \"requires_action\"]:\n",
    "    # Wait for a second\n",
    "    time.sleep(1)\n",
    "    run = project_client.runs.get(thread_id=thread.id, run_id=run.id)\n",
    "    # [END create_run]\n",
    "    print(f\"Run status: {run.status}\")\n",
    "\n",
    "    if run.status == \"failed\":\n",
    "        print(f\"Run error: {run.last_error}\")\n",
    "\n",
    "run.usage"
   ]
  },
  {
   "cell_type": "code",
   "execution_count": 13,
   "id": "c7516374-e059-4832-9d16-f9c0d1e35fcd",
   "metadata": {},
   "outputs": [
    {
     "name": "stdout",
     "output_type": "stream",
     "text": [
      "Start   : 2025-06-13 20:21:52+0000\n",
      "End     : 2025-06-13 20:21:53+0000\n",
      "Elapsed : 0:00:01  (1.000 seconds)\n"
     ]
    }
   ],
   "source": [
    "start = run.started_at\n",
    "end = run.completed_at\n",
    "elapsed = end - start\n",
    "\n",
    "iso_fmt = \"%Y-%m-%d %H:%M:%S%z\"\n",
    "print(f\"Start   : {start.strftime(iso_fmt)}\")\n",
    "print(f\"End     : {end.strftime(iso_fmt)}\")\n",
    "print(f\"Elapsed : {elapsed}  \" f\"({elapsed.total_seconds():.3f} seconds)\")"
   ]
  },
  {
   "cell_type": "code",
   "execution_count": 14,
   "id": "3c4de121-4ffa-4f9a-9984-655b893fae9e",
   "metadata": {},
   "outputs": [
    {
     "name": "stdout",
     "output_type": "stream",
     "text": [
      "MessageRole.USER: Hello, tell me a joke\n",
      "MessageRole.AGENT: Sure! Here you go:\n",
      "\n",
      "Why don’t skeletons fight each other?\n",
      "\n",
      "They don’t have the guts!\n"
     ]
    }
   ],
   "source": [
    "# [START list_messages]\n",
    "messages = project_client.messages.list(thread_id=thread.id, order=ListSortOrder.ASCENDING)\n",
    "for msg in messages:\n",
    "    if msg.text_messages:\n",
    "        last_text = msg.text_messages[-1]\n",
    "        print(f\"{msg.role}: {last_text.text.value}\")\n",
    "# [END list_messages]"
   ]
  },
  {
   "cell_type": "markdown",
   "id": "966f2443-36ef-4280-bcc8-1577dedb9496",
   "metadata": {},
   "source": [
    "## Another agent"
   ]
  },
  {
   "cell_type": "code",
   "execution_count": 15,
   "id": "ab345bb7-f4b1-4034-b230-106a4556820d",
   "metadata": {},
   "outputs": [
    {
     "name": "stdout",
     "output_type": "stream",
     "text": [
      "Created agent, agent ID: asst_Expun36bMpMh3JZojxeFoO5w\n"
     ]
    }
   ],
   "source": [
    "# Create a new agent with different instructions\n",
    "\n",
    "agent = project_client.create_agent(\n",
    "    model=os.environ[\"MODEL_DEPLOYMENT_NAME\"],\n",
    "    name=\"my-agent\",\n",
    "    instructions=\"You are a GenAI agent. Always answer in Spanish, even if the user asks in English.\",\n",
    ")\n",
    "print(f\"Created agent, agent ID: {agent.id}\")"
   ]
  },
  {
   "cell_type": "code",
   "execution_count": 16,
   "id": "17b3db8b-35d8-4fde-b3f2-5670f509dd6d",
   "metadata": {},
   "outputs": [
    {
     "name": "stdout",
     "output_type": "stream",
     "text": [
      "Created thread, thread ID: thread_CRoSJzW8dyVKYimKJlMrAiWa\n"
     ]
    }
   ],
   "source": [
    " # [START create_thread]\n",
    "thread = project_client.threads.create()\n",
    "# [END create_thread]\n",
    "print(f\"Created thread, thread ID: {thread.id}\")"
   ]
  },
  {
   "cell_type": "code",
   "execution_count": 17,
   "id": "423ddd1c",
   "metadata": {},
   "outputs": [
    {
     "name": "stdout",
     "output_type": "stream",
     "text": [
      "Created message, message ID: msg_VCy7dufcfjGckOsIxJrQS6tU\n"
     ]
    }
   ],
   "source": [
    "# [START create_message]\n",
    "message = project_client.messages.create(thread_id=thread.id, role=\"user\", content=\"What is a GenAI model?\")\n",
    "# [END create_message]\n",
    "print(f\"Created message, message ID: {message.id}\")"
   ]
  },
  {
   "cell_type": "code",
   "execution_count": 18,
   "id": "32f565d3-bdf7-47b5-940c-4ebbe5cfd548",
   "metadata": {},
   "outputs": [
    {
     "name": "stdout",
     "output_type": "stream",
     "text": [
      "Created run, run ID: run_9kOLkoblZuIwvoVrUjM1giHk\n"
     ]
    }
   ],
   "source": [
    "# [START create_run]\n",
    "run = project_client.runs.create(thread_id=thread.id, agent_id=agent.id)\n",
    "# [END create_run]\n",
    "print(f\"Created run, run ID: {run.id}\")"
   ]
  },
  {
   "cell_type": "code",
   "execution_count": 19,
   "id": "63da8069",
   "metadata": {},
   "outputs": [
    {
     "name": "stdout",
     "output_type": "stream",
     "text": [
      "Run status: RunStatus.COMPLETED\n"
     ]
    }
   ],
   "source": [
    "# Poll the run as long as run status is queued or in progress\n",
    "while run.status in [\"queued\", \"in_progress\", \"requires_action\"]:\n",
    "    # Wait for a second\n",
    "    time.sleep(1)\n",
    "    run = project_client.runs.get(thread_id=thread.id, run_id=run.id)\n",
    "    # [END create_run]\n",
    "    print(f\"Run status: {run.status}\")\n",
    "\n",
    "    if run.status == \"failed\":\n",
    "        print(f\"Run error: {run.last_error}\")"
   ]
  },
  {
   "cell_type": "code",
   "execution_count": 20,
   "id": "2d0873ad",
   "metadata": {},
   "outputs": [
    {
     "data": {
      "text/plain": [
       "{'prompt_tokens': 46, 'completion_tokens': 96, 'total_tokens': 142, 'prompt_token_details': {'cached_tokens': 0}}"
      ]
     },
     "execution_count": 20,
     "metadata": {},
     "output_type": "execute_result"
    }
   ],
   "source": [
    "run.usage"
   ]
  },
  {
   "cell_type": "code",
   "execution_count": 21,
   "id": "afea9a7d",
   "metadata": {},
   "outputs": [
    {
     "name": "stdout",
     "output_type": "stream",
     "text": [
      "Start   : 2025-06-13 20:21:59+0000\n",
      "End     : 2025-06-13 20:22:00+0000\n",
      "Elapsed : 0:00:01  (1.000 seconds)\n"
     ]
    }
   ],
   "source": [
    "start = run.started_at\n",
    "end = run.completed_at\n",
    "elapsed = end - start\n",
    "\n",
    "iso_fmt = \"%Y-%m-%d %H:%M:%S%z\"\n",
    "print(f\"Start   : {start.strftime(iso_fmt)}\")\n",
    "print(f\"End     : {end.strftime(iso_fmt)}\")\n",
    "print(f\"Elapsed : {elapsed}  \" f\"({elapsed.total_seconds():.3f} seconds)\")"
   ]
  },
  {
   "cell_type": "code",
   "execution_count": 22,
   "id": "7dc9c1a1-119e-41ac-9952-58c0de762796",
   "metadata": {},
   "outputs": [
    {
     "name": "stdout",
     "output_type": "stream",
     "text": [
      "MessageRole.USER: What is a GenAI model?\n",
      "MessageRole.AGENT: Un modelo GenAI, o modelo de Inteligencia Artificial Generativa, es un tipo de sistema de inteligencia artificial diseñado para crear contenido nuevo, como texto, imágenes, música, código o video, a partir de patrones aprendidos durante su entrenamiento. Estos modelos, como GPT (para texto) o DALL-E (para imágenes), utilizan grandes cantidades de datos para aprender cómo generar información coherente, relevante y creativa en respuesta a las solicitudes o preguntas de los usuarios.\n"
     ]
    }
   ],
   "source": [
    "# [START list_messages]\n",
    "messages = project_client.messages.list(thread_id=thread.id, order=ListSortOrder.ASCENDING)\n",
    "for msg in messages:\n",
    "    if msg.text_messages:\n",
    "        last_text = msg.text_messages[-1]\n",
    "        print(f\"{msg.role}: {last_text.text.value}\")\n",
    "# [END list_messages]"
   ]
  },
  {
   "cell_type": "markdown",
   "id": "6a87b16c-ddfa-47fb-b95d-bd009cc34859",
   "metadata": {},
   "source": [
    "## Cleaning"
   ]
  },
  {
   "cell_type": "code",
   "execution_count": 23,
   "id": "e7fd1332-bb81-4474-a0a5-dd8d43c753ff",
   "metadata": {},
   "outputs": [
    {
     "name": "stdout",
     "output_type": "stream",
     "text": [
      "Agent ID: asst_Expun36bMpMh3JZojxeFoO5w, Name: my-agent, Model: gpt-4.1, Instructions: You are a GenAI agent. Always answer in Spanish, even if the user asks in English.\n",
      "Agent ID: asst_LP6SyOzb83UBrfN1K82mbfxs, Name: my-agent, Model: gpt-4.1, Instructions: You are helpful agent\n",
      "Agent ID: asst_JbkC2mLylBdrfpr93GDdfHUe, Name: my-agent, Model: gpt-4.1, Instructions: You are a GenAI agent. Always answer in Spanish, even if the user asks in English.\n",
      "Agent ID: asst_pSSqGoIxQdtPCpnZPbVDLVsM, Name: code_interpreter_agent, Model: gpt-4.1-mini, Instructions: You are a helpful assistant.\n",
      "Agent ID: asst_mYUdgg2pAmui1TfBVyHMJn0D, Name: code_interpreter_agent, Model: gpt-4.1-mini, Instructions: You are a helpful assistant.\n",
      "Agent ID: asst_iBouEbuUHT2UgFvxNgPKiSoF, Name: code_interpreter_agent, Model: gpt-4.1-mini, Instructions: You are a helpful assistant.\n",
      "Agent ID: asst_QFuuZ5Nv7Gbo2ciylZvXTC1F, Name: bing_agent, Model: gpt-4.1-mini, Instructions: You are a helpful assistant.\n",
      "Agent ID: asst_29oD9j4jtFnfWOjcGTBdqVnd, Name: bing_agent, Model: gpt-4.1-mini, Instructions: You are a helpful assistant.\n",
      "Agent ID: asst_RIxs7UaOuYOsWcdNEPLgV779, Name: bing_agent, Model: gpt-4.1-mini, Instructions: You are a helpful assistant.\n",
      "Agent ID: asst_bHqNWHfwrAOjoNFciOO2oVMS, Name: bing_agent, Model: gpt-4.1-mini, Instructions: You are a helpful assistant.\n",
      "Agent ID: asst_imsnwBAl15DGhU7bjtM8PNbl, Name: bing_agent, Model: gpt-4.1-mini, Instructions: You are a helpful assistant.\n",
      "Agent ID: asst_tikUsKd46KfcYiCKU5zotPFT, Name: bing_agent, Model: gpt-4.1-mini, Instructions: You are a helpful assistant.\n",
      "Agent ID: asst_LIdl0Ps13R0FtUIdzpzW1p75, Name: bing_agent, Model: gpt-4.1-mini, Instructions: You are a helpful assistant.\n"
     ]
    }
   ],
   "source": [
    "agents = project_client.list_agents()\n",
    "for agent in agents:\n",
    "    print(f\"Agent ID: {agent.id}, Name: {agent.name}, Model: {agent.model}, Instructions: {agent.instructions}\")\n"
   ]
  },
  {
   "cell_type": "code",
   "execution_count": 25,
   "id": "e7390b28-1152-47fc-98fd-2504368e952c",
   "metadata": {},
   "outputs": [
    {
     "name": "stdout",
     "output_type": "stream",
     "text": [
      "All agents deleted.\n"
     ]
    }
   ],
   "source": [
    "\n",
    "agents = project_client.list_agents()\n",
    "for agent in agents:\n",
    "    project_client.delete_agent(agent.id)\n",
    "print(\"All agents deleted.\")"
   ]
  },
  {
   "cell_type": "code",
   "execution_count": 26,
   "id": "e0db28b4-ace6-4846-8f3c-0ad693380389",
   "metadata": {},
   "outputs": [],
   "source": [
    "agents = project_client.list_agents()\n",
    "for agent in agents:\n",
    "    print(f\"Agent ID: {agent.id}, Name: {agent.name}, Model: {agent.model}, Instructions: {agent.instructions}\")"
   ]
  }
 ],
 "metadata": {
  "kernelspec": {
   "display_name": ".venv",
   "language": "python",
   "name": "python3"
  },
  "language_info": {
   "codemirror_mode": {
    "name": "ipython",
    "version": 3
   },
   "file_extension": ".py",
   "mimetype": "text/x-python",
   "name": "python",
   "nbconvert_exporter": "python",
   "pygments_lexer": "ipython3",
   "version": "3.13.5"
  },
  "varInspector": {
   "cols": {
    "lenName": 16,
    "lenType": 16,
    "lenVar": 40
   },
   "kernels_config": {
    "python": {
     "delete_cmd_postfix": "",
     "delete_cmd_prefix": "del ",
     "library": "var_list.py",
     "varRefreshCmd": "print(var_dic_list())"
    },
    "r": {
     "delete_cmd_postfix": ") ",
     "delete_cmd_prefix": "rm(",
     "library": "var_list.r",
     "varRefreshCmd": "cat(var_dic_list()) "
    }
   },
   "types_to_exclude": [
    "module",
    "function",
    "builtin_function_or_method",
    "instance",
    "_Feature"
   ],
   "window_display": false
  }
 },
 "nbformat": 4,
 "nbformat_minor": 5
}
