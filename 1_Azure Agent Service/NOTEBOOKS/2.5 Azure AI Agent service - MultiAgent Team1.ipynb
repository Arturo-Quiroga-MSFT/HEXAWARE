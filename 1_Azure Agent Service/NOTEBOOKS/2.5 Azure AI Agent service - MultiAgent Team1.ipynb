{
 "cells": [
  {
   "cell_type": "markdown",
   "id": "431cc026-279f-4105-8444-f1b93650da0d",
   "metadata": {},
   "source": [
    "# Azure AI Agent service - Multi Agent team\n",
    "\n",
    "<img src=\"https://learn.microsoft.com/en-us/azure/ai-services/agents/media/agent-service-the-glue.png\" width=800>\n",
    "\n",
    "> https://learn.microsoft.com/en-us/azure/ai-services/agents/"
   ]
  },
  {
   "cell_type": "markdown",
   "id": "fbd59a8d",
   "metadata": {},
   "source": [
    "## Description\n",
    "\n",
    "This sample demonstrates how to use multiple agents with `AgentTeam` and traces.\n",
    "\n",
    "The team consists of:\n",
    "- **One leader agent** – automatically created by `AgentTeam` from the configuration in [`utils/agent_team_config.yaml`](../utils/agent_team_config.yaml)\n",
    "- **Two worker agents** – `Coder` and `Reviewer`, defined in the code below\n"
   ]
  },
  {
   "cell_type": "code",
   "execution_count": 1,
   "id": "7a3e72d0-7521-438c-928d-5fa293b0f419",
   "metadata": {},
   "outputs": [
    {
     "data": {
      "text/plain": [
       "True"
      ]
     },
     "execution_count": 1,
     "metadata": {},
     "output_type": "execute_result"
    }
   ],
   "source": [
    "import json\n",
    "import os\n",
    "import sys\n",
    "import time\n",
    "\n",
    "from typing import Optional, Set\n",
    "from azure.ai.agents import AgentsClient\n",
    "from azure.identity import DefaultAzureCredential\n",
    "from utils.agent_team import AgentTeam, _create_task, AgentTask\n",
    "from utils.agent_trace_configurator import AgentTraceConfigurator\n",
    "from azure.ai.agents.models import FunctionTool, ToolSet\n",
    "\n",
    "from dotenv import load_dotenv\n",
    "from openai import AzureOpenAI\n",
    "\n",
    "load_dotenv()"
   ]
  },
  {
   "cell_type": "markdown",
   "id": "cc2c1d28-e366-442e-a186-81239ec337ec",
   "metadata": {},
   "source": [
    "## Create connection to AI Foundry Project & instantiate a project client"
   ]
  },
  {
   "cell_type": "code",
   "execution_count": 2,
   "id": "76c7bbb7-0faa-4500-ba42-7c5b176f6196",
   "metadata": {},
   "outputs": [
    {
     "name": "stdout",
     "output_type": "stream",
     "text": [
      "Using endpoint: https://aq-ai-foundry-sweden-central.services.ai.azure.com/api/projects/firstProject\n"
     ]
    }
   ],
   "source": [
    "endpoint = os.getenv(\"PROJECT_ENDPOINT\")\n",
    "print(f\"Using endpoint: {endpoint}\")\n",
    "credential = DefaultAzureCredential()\n",
    "\n",
    "agents_client = AgentsClient(\n",
    "    endpoint=endpoint,\n",
    "    credential=credential,\n",
    ")"
   ]
  },
  {
   "cell_type": "code",
   "execution_count": 3,
   "id": "f9f98ef1",
   "metadata": {},
   "outputs": [],
   "source": [
    "agents_client.enable_auto_function_calls({_create_task})"
   ]
  },
  {
   "cell_type": "code",
   "execution_count": 4,
   "id": "26f60a0d",
   "metadata": {},
   "outputs": [
    {
     "name": "stdout",
     "output_type": "stream",
     "text": [
      "Select a tracing option:\n",
      "1. Enable Azure Monitor tracing\n",
      "2. Enable console tracing without enabling gen_ai agent traces\n",
      "3. Enable console tracing with gen_ai agent traces\n",
      "4. Do not enable traces\n",
      "A team of agents specialized in software engineering is available for requests.\n",
      "Created thread with ID: thread_PO1UHQK6JfKyfg2CXNzPD2Te\n",
      "Starting task for agent 'TeamLeader'. Requestor: 'user'. Task description: 'Please create a task for agent in the team that is best suited to next process the following request. \n",
      "Use the _create_task function available for you to create the task. The request is: \n",
      "1\n",
      "'.\n",
      "Created message with ID: msg_ZUFrjp2dCQmckXTHYOt2l6YA for task in thread thread_PO1UHQK6JfKyfg2CXNzPD2Te\n",
      "Created and processed run for agent 'TeamLeader', run ID: run_dDiESRRdjtq9dzdM4NFTxisy\n",
      "Agent 'TeamLeader' completed task. Outcome: I have assigned the task to Coder because the request is to process the input \"1,\" which likely involves writing code or a program. Coder is best suited to create the initial implementation. After that, Reviewer can review the code if needed.\n",
      "Starting task for agent 'Coder'. Requestor: 'TeamLeader'. Task description: 'Write a program or function to process the input '1'. Specify the requirements or desired output if any.'.\n",
      "Created message with ID: msg_vFg4gB54YttrMmWxuDxnKmX6 for task in thread thread_PO1UHQK6JfKyfg2CXNzPD2Te\n",
      "Created and processed run for agent 'Coder', run ID: run_Et7YScab21ftZDCMuz5yHlJa\n",
      "Agent 'Coder' completed task. Outcome: I will write a simple program that processes the input '1'. Since the request does not specify the output or requirements, I will assume a general interpretation: the program will take '1' as input and return a confirmation message indicating the input was received and processed.\n",
      "\n",
      "Here is a sample Python function:\n",
      "\n",
      "```python\n",
      "def process_input(input_value):\n",
      "    if input_value == '1':\n",
      "        return \"Input '1' has been processed.\"\n",
      "    else:\n",
      "        return \"Input not recognized.\"\n",
      "\n",
      "# Example usage\n",
      "if __name__ == \"__main__\":\n",
      "    user_input = input(\"Enter input: \")\n",
      "    print(process_input(user_input))\n",
      "```\n",
      "\n",
      "If you want a more specific behavior or output, please provide additional details.\n",
      "Starting task for agent 'TeamLeader'. Requestor: 'user'. Task description: 'Check the discussion so far and especially the most recent agent response in the thread and if you see a potential task \n",
      "that could improve the final outcome, then use the _create_task function to create the task. \n",
      "Do not ever ask user confirmation for creating a task. \n",
      "If the request is completely processed, you do not have to create a task.\n",
      "'.\n",
      "Created message with ID: msg_0iTe6PBtspb7UQCiYgfhpBfU for task in thread thread_PO1UHQK6JfKyfg2CXNzPD2Te\n",
      "Created and processed run for agent 'TeamLeader', run ID: run_Td6jOGnn71tZENAd9Kr8Nod4\n",
      "Agent 'TeamLeader' completed task. Outcome: I have assigned a task to Reviewer to review the Python function provided by Coder that processes the input '1'. Reviewer's role is to ensure the code is correct, efficient, and clear, and to suggest any improvements if necessary. This will help improve the final outcome.\n",
      "Starting task for agent 'Reviewer'. Requestor: 'TeamLeader'. Task description: 'Review the Python function provided by Coder that processes the input '1' to ensure its correctness, efficiency, and clarity. Suggest any improvements if necessary.'.\n",
      "Created message with ID: msg_94pjelTN7AnwuSzGtQXCD07Y for task in thread thread_PO1UHQK6JfKyfg2CXNzPD2Te\n",
      "Created and processed run for agent 'Reviewer', run ID: run_CQ2dAvFU7rkeIKUknyyce7Db\n",
      "Agent 'Reviewer' completed task. Outcome: Review of the Python function provided:\n",
      "\n",
      "Correctness:\n",
      "- The function correctly checks if the input value is '1' and returns the appropriate message.\n",
      "- It returns a default message if the input is not '1', which is a good fallback.\n",
      "\n",
      "Efficiency:\n",
      "- The function works efficiently for this simple case. There are no unnecessary computations.\n",
      "\n",
      "Clarity:\n",
      "- The function is clear and easy to understand.\n",
      "- The logic is straightforward, and the example usage shows how to use the function.\n",
      "\n",
      "Suggestions for improvement:\n",
      "1. Type hinting can be added for better code clarity.\n",
      "2. The function could be generalized to handle other inputs if needed, or made clear that it's specifically for '1'.\n",
      "3. Including docstrings would help explain the function's purpose.\n",
      "\n",
      "Revised version with improvements:\n",
      "\n",
      "```python\n",
      "def process_input(input_value: str) -> str:\n",
      "    \"\"\"\n",
      "    Process the input value and return a message.\n",
      "\n",
      "    Args:\n",
      "        input_value (str): The input value to process.\n",
      "\n",
      "    Returns:\n",
      "        str: Confirmation message based on the input.\n",
      "    \"\"\"\n",
      "    if input_value == '1':\n",
      "        return \"Input '1' has been processed.\"\n",
      "    else:\n",
      "        return \"Input not recognized.\"\n",
      "\n",
      "if __name__ == \"__main__\":\n",
      "    user_input = input(\"Enter input: \")\n",
      "    print(process_input(user_input))\n",
      "```\n",
      "\n",
      "The function is good as is, with minor improvements for clarity and documentation.\n",
      "Starting task for agent 'TeamLeader'. Requestor: 'user'. Task description: 'Check the discussion so far and especially the most recent agent response in the thread and if you see a potential task \n",
      "that could improve the final outcome, then use the _create_task function to create the task. \n",
      "Do not ever ask user confirmation for creating a task. \n",
      "If the request is completely processed, you do not have to create a task.\n",
      "'.\n",
      "Created message with ID: msg_VZnB4dYlbWvXML7CDeqw1zFw for task in thread thread_PO1UHQK6JfKyfg2CXNzPD2Te\n",
      "Created and processed run for agent 'TeamLeader', run ID: run_dIBhBH6pJA3QY15zT2BSywJE\n",
      "Agent 'TeamLeader' completed task. Outcome: The request has been completely processed. The function has been implemented by Coder and reviewed with suggestions for improvements by Reviewer. Therefore, no further tasks need to be created.\n",
      "Deleting team leader agent 'TeamLeader'\n",
      "Deleting agent 'Coder'\n",
      "Deleting agent 'Reviewer'\n"
     ]
    }
   ],
   "source": [
    "model_deployment_name = \"gpt-4.1-mini\"\n",
    "\n",
    "if model_deployment_name is not None:\n",
    "    AgentTraceConfigurator(agents_client=agents_client).setup_tracing()\n",
    "    with agents_client:\n",
    "        agent_team = AgentTeam(\"test_team\", agents_client=agents_client)\n",
    "        agent_team.add_agent(\n",
    "            model=model_deployment_name,\n",
    "            name=\"Coder\",\n",
    "            instructions=\"You are software engineer who writes great code. Your name is Coder.\",\n",
    "        )\n",
    "        agent_team.add_agent(\n",
    "            model=model_deployment_name,\n",
    "            name=\"Reviewer\",\n",
    "            instructions=\"You are software engineer who reviews code. Your name is Reviewer.\",\n",
    "        )\n",
    "        agent_team.assemble_team()\n",
    "\n",
    "        print(\"A team of agents specialized in software engineering is available for requests.\")\n",
    "        while True:\n",
    "            user_input = input(\"Input (type 'quit' or 'exit' to exit): \")\n",
    "            if user_input.lower() == \"quit\":\n",
    "                break\n",
    "            elif user_input.lower() == \"exit\":\n",
    "                break\n",
    "            agent_team.process_request(request=user_input)\n",
    "\n",
    "        agent_team.dismantle_team()\n",
    "else:\n",
    "    print(\"Error: Please define the environment variable MODEL_DEPLOYMENT_NAME.\")"
   ]
  }
 ],
 "metadata": {
  "kernelspec": {
   "display_name": ".venv",
   "language": "python",
   "name": "python3"
  },
  "language_info": {
   "codemirror_mode": {
    "name": "ipython",
    "version": 3
   },
   "file_extension": ".py",
   "mimetype": "text/x-python",
   "name": "python",
   "nbconvert_exporter": "python",
   "pygments_lexer": "ipython3",
   "version": "3.13.4"
  },
  "varInspector": {
   "cols": {
    "lenName": 16,
    "lenType": 16,
    "lenVar": 40
   },
   "kernels_config": {
    "python": {
     "delete_cmd_postfix": "",
     "delete_cmd_prefix": "del ",
     "library": "var_list.py",
     "varRefreshCmd": "print(var_dic_list())"
    },
    "r": {
     "delete_cmd_postfix": ") ",
     "delete_cmd_prefix": "rm(",
     "library": "var_list.r",
     "varRefreshCmd": "cat(var_dic_list()) "
    }
   },
   "types_to_exclude": [
    "module",
    "function",
    "builtin_function_or_method",
    "instance",
    "_Feature"
   ],
   "window_display": false
  }
 },
 "nbformat": 4,
 "nbformat_minor": 5
}
