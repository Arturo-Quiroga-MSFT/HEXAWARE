{
 "cells": [
  {
   "cell_type": "markdown",
   "id": "431cc026-279f-4105-8444-f1b93650da0d",
   "metadata": {},
   "source": [
    "# Azure AI Agent service - Multi Agent team\n",
    "\n",
    "<img src=\"https://learn.microsoft.com/en-us/azure/ai-services/agents/media/agent-service-the-glue.png\" width=800>\n",
    "\n",
    "> https://learn.microsoft.com/en-us/azure/ai-services/agents/"
   ]
  },
  {
   "cell_type": "markdown",
   "id": "fbd59a8d",
   "metadata": {},
   "source": [
    "## Description\n",
    "\n",
    "This sample demonstrates how to use multiple agents with `AgentTeam` and traces.\n",
    "\n",
    "The team consists of:\n",
    "- **One leader agent** – automatically created by `AgentTeam` from the configuration in [`utils/agent_team_config.yaml`](../utils/agent_team_config.yaml)\n",
    "- **Two worker agents** – `Coder` and `Reviewer`, defined in the code below\n"
   ]
  },
  {
   "cell_type": "code",
   "execution_count": 1,
   "id": "7a3e72d0-7521-438c-928d-5fa293b0f419",
   "metadata": {},
   "outputs": [
    {
     "data": {
      "text/plain": [
       "True"
      ]
     },
     "execution_count": 1,
     "metadata": {},
     "output_type": "execute_result"
    }
   ],
   "source": [
    "import json\n",
    "import os\n",
    "import sys\n",
    "import time\n",
    "\n",
    "from typing import Optional, Set\n",
    "from azure.ai.agents import AgentsClient\n",
    "from azure.identity import DefaultAzureCredential\n",
    "from utils.agent_team import AgentTeam, _create_task, AgentTask\n",
    "from utils.agent_trace_configurator import AgentTraceConfigurator\n",
    "from azure.ai.agents.models import FunctionTool, ToolSet\n",
    "\n",
    "from dotenv import load_dotenv\n",
    "from openai import AzureOpenAI\n",
    "\n",
    "load_dotenv()"
   ]
  },
  {
   "cell_type": "markdown",
   "id": "cc2c1d28-e366-442e-a186-81239ec337ec",
   "metadata": {},
   "source": [
    "## Create connection to AI Foundry Project & instantiate a project client"
   ]
  },
  {
   "cell_type": "code",
   "execution_count": 2,
   "id": "76c7bbb7-0faa-4500-ba42-7c5b176f6196",
   "metadata": {},
   "outputs": [
    {
     "name": "stdout",
     "output_type": "stream",
     "text": [
      "Using endpoint: https://aq-ai-foundry-sweden-central.services.ai.azure.com/api/projects/firstProject\n"
     ]
    }
   ],
   "source": [
    "endpoint = os.getenv(\"PROJECT_ENDPOINT\")\n",
    "print(f\"Using endpoint: {endpoint}\")\n",
    "credential = DefaultAzureCredential()\n",
    "\n",
    "agents_client = AgentsClient(\n",
    "    endpoint=endpoint,\n",
    "    credential=credential,\n",
    ")"
   ]
  },
  {
   "cell_type": "code",
   "execution_count": 3,
   "id": "f9f98ef1",
   "metadata": {},
   "outputs": [],
   "source": [
    "agents_client.enable_auto_function_calls({_create_task})"
   ]
  },
  {
   "cell_type": "code",
   "execution_count": 4,
   "id": "26f60a0d",
   "metadata": {},
   "outputs": [
    {
     "name": "stdout",
     "output_type": "stream",
     "text": [
      "Select a tracing option:\n",
      "1. Enable Azure Monitor tracing\n",
      "2. Enable console tracing without enabling gen_ai agent traces\n",
      "3. Enable console tracing with gen_ai agent traces\n",
      "4. Do not enable traces\n",
      "A team of agents specialized in software engineering is available for requests.\n",
      "Created thread with ID: thread_WfVTdsLOmil2QwOCwwhEeIkV\n",
      "Starting task for agent 'TeamLeader'. Requestor: 'user'. Task description: 'Please create a task for agent in the team that is best suited to next process the following request. \n",
      "Use the _create_task function available for you to create the task. The request is: \n",
      "1\n",
      "'.\n",
      "Created message with ID: msg_OBrRKOUI9GgWdQCzqWQLgB9B for task in thread thread_WfVTdsLOmil2QwOCwwhEeIkV\n",
      "Created and processed run for agent 'TeamLeader', run ID: run_bAS4ZOJBpDCxCp3Y8WvKLOb9\n",
      "Agent 'TeamLeader' completed task. Outcome: I have assigned the task to Coder because the request involves processing and handling the input \"1,\" which is likely to require writing code or implementing logic. Coder is best suited for this task as they specialize in writing great code.\n",
      "Starting task for agent 'Coder'. Requestor: 'TeamLeader'. Task description: 'Process and handle the request: '1'. Write code or logic necessary to do so.'.\n",
      "Created message with ID: msg_5SNNewXWnG7wvbDhJcmfWbhR for task in thread thread_WfVTdsLOmil2QwOCwwhEeIkV\n",
      "Created and processed run for agent 'Coder', run ID: run_NuVTAYL4yyMqXKbBByTmQvQU\n",
      "Agent 'Coder' completed task. Outcome: The request \"1\" is quite minimal and could be interpreted in various ways depending on context. To clarify, I will assume this is intended as a simple programming task where the input \"1\" needs to be processed or handled through a small piece of code.\n",
      "\n",
      "Here is a simple example of how to process the input \"1\" in Python. The code will:\n",
      "\n",
      "- Accept the input \"1\"\n",
      "- Convert it to an integer\n",
      "- Perform a basic operation (e.g., increment it)\n",
      "- Return or print the result\n",
      "\n",
      "```python\n",
      "def process_input(input_value):\n",
      "    try:\n",
      "        # Convert the input to integer\n",
      "        number = int(input_value)\n",
      "        # Perform a simple operation: increment the number\n",
      "        result = number + 1\n",
      "        return result\n",
      "    except ValueError:\n",
      "        return \"Invalid input: not a number\"\n",
      "\n",
      "# Example usage:\n",
      "input_value = \"1\"\n",
      "output = process_input(input_value)\n",
      "print(f\"Processed output: {output}\")  # Expected output: 2\n",
      "```\n",
      "\n",
      "If you have additional details or specific requirements for the task related to the input \"1,\" please provide them. Otherwise, I can proceed with this example or adapt it as needed. Would you like me to review this code or enhance it further?\n",
      "Starting task for agent 'TeamLeader'. Requestor: 'user'. Task description: 'Check the discussion so far and especially the most recent agent response in the thread and if you see a potential task \n",
      "that could improve the final outcome, then use the _create_task function to create the task. \n",
      "Do not ever ask user confirmation for creating a task. \n",
      "If the request is completely processed, you do not have to create a task.\n",
      "'.\n",
      "Created message with ID: msg_yVopCs5NMy1fGgG2zCxzbkDZ for task in thread thread_WfVTdsLOmil2QwOCwwhEeIkV\n",
      "Created and processed run for agent 'TeamLeader', run ID: run_E74DqTMITJMicBqN0Uzar7pf\n",
      "Agent 'TeamLeader' completed task. Outcome: I have assigned the task to Reviewer to review the code snippet provided by Coder that processes the input \"1\". This will help ensure that the code is correct, efficient, and of high quality, improving the final outcome.\n",
      "Starting task for agent 'Reviewer'. Requestor: 'TeamLeader'. Task description: 'Review the code snippet that processes the input '1' provided by Coder to ensure correctness, efficiency, and quality.'.\n",
      "Created message with ID: msg_hjeWWCQKPcMCN1sTFl2RsPqR for task in thread thread_WfVTdsLOmil2QwOCwwhEeIkV\n",
      "Created and processed run for agent 'Reviewer', run ID: run_t10wB8tMWgwehFTqTaLJ3xlL\n",
      "Agent 'Reviewer' completed task. Outcome: The code snippet provided to process the input \"1\" is straightforward and correctly accomplishes the intended task of converting the input string to an integer, incrementing it by 1, and returning the result. Here is my detailed review:\n",
      "\n",
      "Correctness:\n",
      "- The code correctly converts the input string to an integer using int().\n",
      "- It appropriately handles the case where the input is not a valid integer by catching a ValueError and returning an error message.\n",
      "- The increment operation on the integer is correct, resulting in the expected output (2 when input is \"1\").\n",
      "\n",
      "Efficiency:\n",
      "- The code is efficient for this simple task. No unnecessary operations or complexities are present.\n",
      "- The try-except block is appropriate for handling potential conversion errors.\n",
      "\n",
      "Quality:\n",
      "- The code is clear and easy to understand with concise comments explaining each step.\n",
      "- The function design is good, encapsulating the logic inside a reusable function.\n",
      "- Returning a string error message for invalid input is adequate, but raising an exception or returning a more structured error response might be preferable depending on the broader context.\n",
      "\n",
      "Overall, the code snippet is well-written for the task described. If extended functionality or integration is needed, additional handling or enhancements might be required, but for the current scope, it is appropriate.\n",
      "\n",
      "No further tasks are necessary as the request has been fully processed with a suitable code solution and this review.\n",
      "Starting task for agent 'TeamLeader'. Requestor: 'user'. Task description: 'Check the discussion so far and especially the most recent agent response in the thread and if you see a potential task \n",
      "that could improve the final outcome, then use the _create_task function to create the task. \n",
      "Do not ever ask user confirmation for creating a task. \n",
      "If the request is completely processed, you do not have to create a task.\n",
      "'.\n",
      "Created message with ID: msg_8KOAAoqvFhxAMnzB9LsI0Y9F for task in thread thread_WfVTdsLOmil2QwOCwwhEeIkV\n",
      "Created and processed run for agent 'TeamLeader', run ID: run_A3FNhtxcXa5zEYZw1YBQsQjn\n",
      "Agent 'TeamLeader' completed task. Outcome: The request has been fully processed with a suitable code solution and a thorough review confirming its correctness, efficiency, and quality. There is no further task that could improve the final outcome at this point.\n",
      "\n",
      "Therefore, I will not create any more tasks. The process is complete.\n",
      "Deleting team leader agent 'TeamLeader'\n",
      "Deleting agent 'Coder'\n",
      "Deleting agent 'Reviewer'\n"
     ]
    }
   ],
   "source": [
    "model_deployment_name = \"gpt-4.1-mini\"\n",
    "\n",
    "if model_deployment_name is not None:\n",
    "    AgentTraceConfigurator(agents_client=agents_client).setup_tracing()\n",
    "    with agents_client:\n",
    "        agent_team = AgentTeam(\"test_team\", agents_client=agents_client)\n",
    "        agent_team.add_agent(\n",
    "            model=model_deployment_name,\n",
    "            name=\"Coder\",\n",
    "            instructions=\"You are software engineer who writes great code. Your name is Coder.\",\n",
    "        )\n",
    "        agent_team.add_agent(\n",
    "            model=model_deployment_name,\n",
    "            name=\"Reviewer\",\n",
    "            instructions=\"You are software engineer who reviews code. Your name is Reviewer.\",\n",
    "        )\n",
    "        agent_team.assemble_team()\n",
    "\n",
    "        print(\"A team of agents specialized in software engineering is available for requests.\")\n",
    "        while True:\n",
    "            user_input = input(\"Input (type 'quit' or 'exit' to exit): \")\n",
    "            if user_input.lower() == \"quit\":\n",
    "                break\n",
    "            elif user_input.lower() == \"exit\":\n",
    "                break\n",
    "            agent_team.process_request(request=user_input)\n",
    "\n",
    "        agent_team.dismantle_team()\n",
    "else:\n",
    "    print(\"Error: Please define the environment variable MODEL_DEPLOYMENT_NAME.\")"
   ]
  }
 ],
 "metadata": {
  "kernelspec": {
   "display_name": ".venv",
   "language": "python",
   "name": "python3"
  },
  "language_info": {
   "codemirror_mode": {
    "name": "ipython",
    "version": 3
   },
   "file_extension": ".py",
   "mimetype": "text/x-python",
   "name": "python",
   "nbconvert_exporter": "python",
   "pygments_lexer": "ipython3",
   "version": "3.13.5"
  },
  "varInspector": {
   "cols": {
    "lenName": 16,
    "lenType": 16,
    "lenVar": 40
   },
   "kernels_config": {
    "python": {
     "delete_cmd_postfix": "",
     "delete_cmd_prefix": "del ",
     "library": "var_list.py",
     "varRefreshCmd": "print(var_dic_list())"
    },
    "r": {
     "delete_cmd_postfix": ") ",
     "delete_cmd_prefix": "rm(",
     "library": "var_list.r",
     "varRefreshCmd": "cat(var_dic_list()) "
    }
   },
   "types_to_exclude": [
    "module",
    "function",
    "builtin_function_or_method",
    "instance",
    "_Feature"
   ],
   "window_display": false
  }
 },
 "nbformat": 4,
 "nbformat_minor": 5
}
