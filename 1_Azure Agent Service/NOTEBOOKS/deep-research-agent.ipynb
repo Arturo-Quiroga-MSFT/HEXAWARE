{
 "cells": [
  {
   "cell_type": "code",
   "execution_count": 1,
   "id": "f9d8b7f1",
   "metadata": {},
   "outputs": [],
   "source": [
    "#%pip install python-dotenv azure-identity\n",
    "#%pip install --pre azure-ai-projects\n"
   ]
  },
  {
   "cell_type": "code",
   "execution_count": 2,
   "id": "57d56e26",
   "metadata": {},
   "outputs": [
    {
     "data": {
      "text/plain": [
       "True"
      ]
     },
     "execution_count": 2,
     "metadata": {},
     "output_type": "execute_result"
    }
   ],
   "source": [
    "import os, time\n",
    "from typing import Optional\n",
    "from azure.ai.projects import AIProjectClient\n",
    "from azure.identity import DefaultAzureCredential\n",
    "from azure.ai.agents import AgentsClient\n",
    "from azure.ai.agents.models import DeepResearchTool, MessageRole, ThreadMessage\n",
    "\n",
    "# Load environment variables from .env file\n",
    "from dotenv import load_dotenv\n",
    "load_dotenv()"
   ]
  },
  {
   "cell_type": "code",
   "execution_count": 3,
   "id": "6d5dc348",
   "metadata": {},
   "outputs": [],
   "source": [
    "def fetch_and_print_new_agent_response(\n",
    "    thread_id: str,\n",
    "    agents_client: AgentsClient,\n",
    "    last_message_id: Optional[str] = None,\n",
    ") -> Optional[str]:\n",
    "    response = agents_client.messages.get_last_message_by_role(\n",
    "        thread_id=thread_id,\n",
    "        role=MessageRole.AGENT,\n",
    "    )\n",
    "    if not response or response.id == last_message_id:\n",
    "        return last_message_id  # No new content\n",
    "\n",
    "    print(\"\\nAgent response:\")\n",
    "    print(\"\\n\".join(t.text.value for t in response.text_messages))\n",
    "\n",
    "    for ann in response.url_citation_annotations:\n",
    "        print(f\"URL Citation: [{ann.url_citation.title}]({ann.url_citation.url})\")\n",
    "\n",
    "    return response.id\n"
   ]
  },
  {
   "cell_type": "code",
   "execution_count": 4,
   "id": "c8799360",
   "metadata": {},
   "outputs": [],
   "source": [
    "def create_research_summary(\n",
    "        message : ThreadMessage,\n",
    "        filepath: str = \"research_summary.md\"\n",
    ") -> None:\n",
    "    if not message:\n",
    "        print(\"No message content provided, cannot create research summary.\")\n",
    "        return\n",
    "\n",
    "    with open(filepath, \"w\", encoding=\"utf-8\") as fp:\n",
    "        # Write text summary\n",
    "        text_summary = \"\\n\\n\".join([t.text.value.strip() for t in message.text_messages])\n",
    "        fp.write(text_summary)\n",
    "\n",
    "        # Write unique URL citations, if present\n",
    "        if message.url_citation_annotations:\n",
    "            fp.write(\"\\n\\n## References\\n\")\n",
    "            seen_urls = set()\n",
    "            for ann in message.url_citation_annotations:\n",
    "                url = ann.url_citation.url\n",
    "                title = ann.url_citation.title or url\n",
    "                if url not in seen_urls:\n",
    "                    fp.write(f\"- [{title}]({url})\\n\")\n",
    "                    seen_urls.add(url)\n",
    "\n",
    "    print(f\"Research summary written to '{filepath}'.\")\n"
   ]
  },
  {
   "cell_type": "code",
   "execution_count": 5,
   "id": "9bf5df30",
   "metadata": {},
   "outputs": [],
   "source": [
    "project_client = AIProjectClient(\n",
    "    endpoint=os.getenv(\"PROJECT_ENDPOINT\"),\n",
    "    credential=DefaultAzureCredential(),\n",
    ")\n",
    "\n",
    "conn_id = project_client.connections.get(name=os.getenv(\"BING_RESOURCE_NAME\")).id"
   ]
  },
  {
   "cell_type": "code",
   "execution_count": 6,
   "id": "4198d974",
   "metadata": {},
   "outputs": [],
   "source": [
    "# Initialize a Deep Research tool with Bing Connection ID and Deep Research model deployment name\n",
    "deep_research_tool = DeepResearchTool(\n",
    "    bing_grounding_connection_id=conn_id,\n",
    "    deep_research_model=os.getenv(\"DEEP_RESEARCH_MODEL_DEPLOYMENT_NAME\"),\n",
    ")\n"
   ]
  },
  {
   "cell_type": "code",
   "execution_count": 7,
   "id": "9a038b04",
   "metadata": {},
   "outputs": [
    {
     "name": "stdout",
     "output_type": "stream",
     "text": [
      "Created agent, ID: asst_yOvtHgjz0e3jIl761jqGtZyj\n",
      "Created thread, ID: thread_0Lkulh0pNKFzmp0jSqDRur4h\n",
      "Created message, ID: msg_Qse8EjA3jsp5KTyqC0CAuCjJ\n",
      "Start processing the message... this may take a few minutes to finish. Be patient!\n",
      "Run status: RunStatus.IN_PROGRESS\n",
      "Run status: RunStatus.IN_PROGRESS\n",
      "\n",
      "Agent response:\n",
      "Understood. I will provide a comprehensive overview of the latest research advancements in quantum computing from the past year. This will include major breakthroughs, technological milestones, new algorithms, hardware developments, prominent experimental results, and new theoretical insights. I will organize the findings with appropriate headings, summaries of key papers, and include references to the most reputable scientific sources. I will let you know when the detailed overview is ready.\n",
      "\n",
      "Title: Latest Advances in Quantum Computing (Past Year)\n",
      "\n",
      " Starting deep research... \n",
      "\n",
      "Run status: RunStatus.IN_PROGRESS\n",
      "Run status: RunStatus.IN_PROGRESS\n",
      "Run status: RunStatus.IN_PROGRESS\n",
      "Run status: RunStatus.IN_PROGRESS\n",
      "Run status: RunStatus.IN_PROGRESS\n",
      "Run status: RunStatus.IN_PROGRESS\n",
      "Run status: RunStatus.IN_PROGRESS\n",
      "Run status: RunStatus.IN_PROGRESS\n",
      "Run status: RunStatus.IN_PROGRESS\n",
      "Run status: RunStatus.IN_PROGRESS\n",
      "Run status: RunStatus.IN_PROGRESS\n",
      "Run status: RunStatus.IN_PROGRESS\n",
      "Run status: RunStatus.IN_PROGRESS\n",
      "Run status: RunStatus.IN_PROGRESS\n",
      "Run status: RunStatus.IN_PROGRESS\n",
      "Run status: RunStatus.IN_PROGRESS\n",
      "\n",
      "Agent response:\n",
      "cot_summary: **Mapping quantum developments**\n",
      "\n",
      "To comprehensively cover recent quantum computing innovations, I’m focusing on advancements across hardware types, algorithmic improvements, novel materials, scaling progress, software enhancements, and applications. 【1†Bing Search】\n",
      "\n",
      "URL Citation: [Bing Search: 'quantum computing developments last 12 months 2024 review'](https://www.bing.com/search?q=quantum%20computing%20developments%20last%2012%20months%202024%20review)\n",
      "Run status: RunStatus.IN_PROGRESS\n"
     ]
    },
    {
     "ename": "KeyboardInterrupt",
     "evalue": "",
     "output_type": "error",
     "traceback": [
      "\u001b[31m---------------------------------------------------------------------------\u001b[39m",
      "\u001b[31mKeyboardInterrupt\u001b[39m                         Traceback (most recent call last)",
      "\u001b[36mCell\u001b[39m\u001b[36m \u001b[39m\u001b[32mIn[7]\u001b[39m\u001b[32m, line 38\u001b[39m\n\u001b[32m     36\u001b[39m last_message_id = \u001b[38;5;28;01mNone\u001b[39;00m\n\u001b[32m     37\u001b[39m \u001b[38;5;28;01mwhile\u001b[39;00m run.status \u001b[38;5;129;01min\u001b[39;00m (\u001b[33m\"\u001b[39m\u001b[33mqueued\u001b[39m\u001b[33m\"\u001b[39m, \u001b[33m\"\u001b[39m\u001b[33min_progress\u001b[39m\u001b[33m\"\u001b[39m):\n\u001b[32m---> \u001b[39m\u001b[32m38\u001b[39m     \u001b[43mtime\u001b[49m\u001b[43m.\u001b[49m\u001b[43msleep\u001b[49m\u001b[43m(\u001b[49m\u001b[32;43m1\u001b[39;49m\u001b[43m)\u001b[49m\n\u001b[32m     39\u001b[39m     run = agents_client.runs.get(thread_id=thread.id, run_id=run.id)\n\u001b[32m     41\u001b[39m     last_message_id = fetch_and_print_new_agent_response(\n\u001b[32m     42\u001b[39m         thread_id=thread.id,\n\u001b[32m     43\u001b[39m         agents_client=agents_client,\n\u001b[32m     44\u001b[39m         last_message_id=last_message_id,\n\u001b[32m     45\u001b[39m     )\n",
      "\u001b[31mKeyboardInterrupt\u001b[39m: "
     ]
    }
   ],
   "source": [
    "# Create Agent with the Deep Research tool and process Agent run\n",
    "with project_client:\n",
    "\n",
    "    with project_client.agents as agents_client:\n",
    "\n",
    "        # Create a new agent that has the Deep Research tool attached.\n",
    "        # NOTE: To add Deep Research to an existing agent, fetch it with `get_agent(agent_id)` and then,\n",
    "        # update the agent with the Deep Research tool.\n",
    "        agent = agents_client.create_agent(\n",
    "            model=os.getenv(\"MODEL_DEPLOYMENT_NAME\"),\n",
    "            name=\"my-agent\",\n",
    "            instructions=\"You are a helpful Agent that assists in researching scientific topics.\",\n",
    "            tools=deep_research_tool.definitions,\n",
    "        )\n",
    "\n",
    "        # [END create_agent_with_deep_research_tool]\n",
    "        print(f\"Created agent, ID: {agent.id}\")\n",
    "\n",
    "        # Create thread for communication\n",
    "        thread = agents_client.threads.create()\n",
    "        print(f\"Created thread, ID: {thread.id}\")\n",
    "\n",
    "        # Create message to thread\n",
    "        message = agents_client.messages.create(\n",
    "            thread_id=thread.id,\n",
    "            role=\"user\",\n",
    "            content=(\n",
    "                \"Give me the latest research into quantum computing over the last year. Do not ask questions or seek clarifications, just provide a comprehensive overview based on the latest research findings.\"\n",
    "            ),\n",
    "        )\n",
    "        print(f\"Created message, ID: {message.id}\")\n",
    "\n",
    "        print(f\"Start processing the message... this may take a few minutes to finish. Be patient!\")\n",
    "        # Poll the run as long as run status is queued or in progress\n",
    "        run = agents_client.runs.create(thread_id=thread.id, agent_id=agent.id)\n",
    "        last_message_id = None\n",
    "        while run.status in (\"queued\", \"in_progress\"):\n",
    "            time.sleep(1)\n",
    "            run = agents_client.runs.get(thread_id=thread.id, run_id=run.id)\n",
    "\n",
    "            last_message_id = fetch_and_print_new_agent_response(\n",
    "                thread_id=thread.id,\n",
    "                agents_client=agents_client,\n",
    "                last_message_id=last_message_id,\n",
    "            )\n",
    "            print(f\"Run status: {run.status}\")\n",
    "\n",
    "        print(f\"Run finished with status: {run.status}, ID: {run.id}\")\n",
    "\n",
    "        if run.status == \"failed\":\n",
    "            print(f\"Run failed: {run.last_error}\")\n",
    "\n",
    "        # Fetch the final message from the agent in the thread and create a research summary\n",
    "        final_message = agents_client.messages.get_last_message_by_role(\n",
    "            thread_id=thread.id, role=MessageRole.AGENT\n",
    "        )\n",
    "        if final_message:\n",
    "            create_research_summary(final_message)\n",
    "\n",
    "        # Clean-up and delete the agent once the run is finished.\n",
    "        # NOTE: Comment out this line if you plan to reuse the agent later.\n",
    "        #agents_client.delete_agent(agent.id)\n",
    "        #print(\"Deleted agent\")"
   ]
  }
 ],
 "metadata": {
  "kernelspec": {
   "display_name": ".venv7 (3.12.10)",
   "language": "python",
   "name": "python3"
  },
  "language_info": {
   "codemirror_mode": {
    "name": "ipython",
    "version": 3
   },
   "file_extension": ".py",
   "mimetype": "text/x-python",
   "name": "python",
   "nbconvert_exporter": "python",
   "pygments_lexer": "ipython3",
   "version": "3.12.10"
  }
 },
 "nbformat": 4,
 "nbformat_minor": 5
}
