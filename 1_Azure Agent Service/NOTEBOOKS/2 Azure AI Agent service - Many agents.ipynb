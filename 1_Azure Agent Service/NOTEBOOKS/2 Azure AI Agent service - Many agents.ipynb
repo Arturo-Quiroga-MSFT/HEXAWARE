{
 "cells": [
  {
   "cell_type": "markdown",
   "id": "431cc026-279f-4105-8444-f1b93650da0d",
   "metadata": {},
   "source": [
    "# Azure AI Agent service - Many agents\n",
    "\n",
    "<img src=\"https://learn.microsoft.com/en-us/azure/ai-services/agents/media/agent-service-the-glue.png\" width=800>\n",
    "\n",
    "> https://learn.microsoft.com/en-us/azure/ai-services/agents/"
   ]
  },
  {
   "cell_type": "code",
   "execution_count": 1,
   "id": "7a3e72d0-7521-438c-928d-5fa293b0f419",
   "metadata": {},
   "outputs": [],
   "source": [
    "import json\n",
    "import os\n",
    "import sys\n",
    "import time\n",
    "\n",
    "from azure.ai.agents import AgentsClient\n",
    "from azure.ai.agents.models import ListSortOrder\n",
    "from azure.identity import DefaultAzureCredential\n",
    "from datetime import datetime, timezone, timedelta\n",
    "from dotenv import load_dotenv\n",
    "from openai import AzureOpenAI"
   ]
  },
  {
   "cell_type": "code",
   "execution_count": 2,
   "id": "65334de7-4005-401a-89c1-be24f75abbd9",
   "metadata": {},
   "outputs": [
    {
     "data": {
      "text/plain": [
       "True"
      ]
     },
     "execution_count": 2,
     "metadata": {},
     "output_type": "execute_result"
    }
   ],
   "source": [
    "load_dotenv()"
   ]
  },
  {
   "cell_type": "code",
   "execution_count": 3,
   "id": "8628712a-0d10-4351-8993-b4c3243f83be",
   "metadata": {},
   "outputs": [
    {
     "data": {
      "text/plain": [
       "'3.13.5 (main, Jun 11 2025, 15:36:57) [Clang 17.0.0 (clang-1700.0.13.3)]'"
      ]
     },
     "execution_count": 3,
     "metadata": {},
     "output_type": "execute_result"
    }
   ],
   "source": [
    "sys.version"
   ]
  },
  {
   "cell_type": "markdown",
   "id": "cc2c1d28-e366-442e-a186-81239ec337ec",
   "metadata": {},
   "source": [
    "## Create connection to AI Foundry Project & instantiate a project client"
   ]
  },
  {
   "cell_type": "code",
   "execution_count": 3,
   "id": "76c7bbb7-0faa-4500-ba42-7c5b176f6196",
   "metadata": {},
   "outputs": [
    {
     "name": "stdout",
     "output_type": "stream",
     "text": [
      "Using endpoint: https://aq-ai-foundry-sweden-central.services.ai.azure.com/api/projects/firstProject\n"
     ]
    }
   ],
   "source": [
    "endpoint = os.getenv(\"PROJECT_ENDPOINT\")\n",
    "print(f\"Using endpoint: {endpoint}\")\n",
    "credential = DefaultAzureCredential()\n",
    "\n",
    "project_client = AgentsClient(endpoint=endpoint, credential=credential)"
   ]
  },
  {
   "cell_type": "markdown",
   "id": "1fecdb26",
   "metadata": {},
   "source": [
    "## Instantiate AGENT 1 (Q&A)"
   ]
  },
  {
   "cell_type": "code",
   "execution_count": 4,
   "id": "8bec0fdf-bfdb-4d72-8cc0-d02b8eb79b59",
   "metadata": {},
   "outputs": [
    {
     "name": "stdout",
     "output_type": "stream",
     "text": [
      "Created agent, agent ID: asst_jKdkQAFhmPd5VLw2oixgS3Xa\n"
     ]
    }
   ],
   "source": [
    "\n",
    "\n",
    "agent1 = project_client.create_agent(\n",
    "    model=os.environ[\"MODEL_DEPLOYMENT_NAME\"],\n",
    "    name=\"Q&A\",\n",
    "    instructions=\"You are an AI agent.\",\n",
    ")\n",
    "print(f\"Created agent, agent ID: {agent1.id}\")"
   ]
  },
  {
   "cell_type": "markdown",
   "id": "d2304eb6",
   "metadata": {},
   "source": [
    "## Instantiate AGENT 2 (Translator)"
   ]
  },
  {
   "cell_type": "code",
   "execution_count": 5,
   "id": "06dfa418-7b00-4450-8d0e-d32c90b24cc5",
   "metadata": {},
   "outputs": [
    {
     "name": "stdout",
     "output_type": "stream",
     "text": [
      "Created agent, agent ID: asst_sZQs3HU51Fg9S5QKgaUVF1nm\n"
     ]
    }
   ],
   "source": [
    "\n",
    "\n",
    "agent2 = project_client.create_agent(\n",
    "    model=os.environ[\"MODEL_DEPLOYMENT_NAME\"],\n",
    "    name=\"Translator\",\n",
    "    instructions=\"You are an AI agent that translates English into Spanish.\",\n",
    ")\n",
    "print(f\"Created agent, agent ID: {agent2.id}\")"
   ]
  },
  {
   "cell_type": "markdown",
   "id": "aeb51377",
   "metadata": {},
   "source": [
    "## Instantiate AGENT 3 (Emojis creator)"
   ]
  },
  {
   "cell_type": "code",
   "execution_count": 6,
   "id": "bd4b89b4-fe75-48b8-acc8-17d3adf721cf",
   "metadata": {},
   "outputs": [
    {
     "name": "stdout",
     "output_type": "stream",
     "text": [
      "Created agent, agent ID: asst_DgydlV9iEquVMgU00KwkUxWd\n"
     ]
    }
   ],
   "source": [
    "\n",
    "\n",
    "agent3 = project_client.create_agent(\n",
    "    model=os.environ[\"MODEL_DEPLOYMENT_NAME\"],\n",
    "    name=\"Emojis\",\n",
    "    instructions=\"You are an AI agent that add emojis to a text\",\n",
    ")\n",
    "print(f\"Created agent, agent ID: {agent3.id}\")\n"
   ]
  },
  {
   "cell_type": "markdown",
   "id": "e8815044",
   "metadata": {},
   "source": [
    "### Show all agents"
   ]
  },
  {
   "cell_type": "code",
   "execution_count": 7,
   "id": "1b446cc0",
   "metadata": {},
   "outputs": [
    {
     "name": "stdout",
     "output_type": "stream",
     "text": [
      "{'id': 'asst_jKdkQAFhmPd5VLw2oixgS3Xa', 'object': 'assistant', 'created_at': 1750257868, 'name': 'Q&A', 'description': None, 'model': 'gpt-4.1', 'instructions': 'You are an AI agent.', 'tools': [], 'top_p': 1.0, 'temperature': 1.0, 'tool_resources': {}, 'metadata': {}, 'response_format': 'auto'}\n",
      "{'id': 'asst_sZQs3HU51Fg9S5QKgaUVF1nm', 'object': 'assistant', 'created_at': 1750257870, 'name': 'Translator', 'description': None, 'model': 'gpt-4.1', 'instructions': 'You are an AI agent that translates English into Spanish.', 'tools': [], 'top_p': 1.0, 'temperature': 1.0, 'tool_resources': {}, 'metadata': {}, 'response_format': 'auto'}\n",
      "{'id': 'asst_DgydlV9iEquVMgU00KwkUxWd', 'object': 'assistant', 'created_at': 1750257872, 'name': 'Emojis', 'description': None, 'model': 'gpt-4.1', 'instructions': 'You are an AI agent that add emojis to a text', 'tools': [], 'top_p': 1.0, 'temperature': 1.0, 'tool_resources': {}, 'metadata': {}, 'response_format': 'auto'}\n"
     ]
    }
   ],
   "source": [
    "print(agent1)\n",
    "print(agent2)\n",
    "print(agent3)\n"
   ]
  },
  {
   "cell_type": "markdown",
   "id": "7ffa36d2",
   "metadata": {},
   "source": [
    "### Create a thread for AGENT 1"
   ]
  },
  {
   "cell_type": "code",
   "execution_count": 8,
   "id": "5b4a3453-e9ce-4208-a0e5-6c201939d238",
   "metadata": {},
   "outputs": [
    {
     "name": "stdout",
     "output_type": "stream",
     "text": [
      "Created thread, thread ID: thread_9F5jdRSM6E6AEwixRkc3q7EY\n"
     ]
    }
   ],
   "source": [
    "# [START create_thread]\n",
    "thread = project_client.threads.create()\n",
    "# [END create_thread]\n",
    "print(f\"Created thread, thread ID: {thread.id}\")"
   ]
  },
  {
   "cell_type": "markdown",
   "id": "278d3c15",
   "metadata": {},
   "source": [
    "### Create a message for AGENT 1"
   ]
  },
  {
   "cell_type": "code",
   "execution_count": null,
   "id": "35131134-b241-4721-a673-fb6cd240ed03",
   "metadata": {},
   "outputs": [
    {
     "name": "stdout",
     "output_type": "stream",
     "text": [
      "Created message, message ID: msg_BKnsB1gzXycowEVt5ugc3ZEH\n"
     ]
    }
   ],
   "source": [
    "\n",
    "# [START create_message]\n",
    "message = project_client.messages.create(thread_id=thread.id, role=\"user\", content=\"Tell me about the 'Palacio de Bellas Artes' in Mexico City.\")\n",
    "# [END create_message]\n",
    "print(f\"Created message, message ID: {message.id}\")"
   ]
  },
  {
   "cell_type": "markdown",
   "id": "03405dc2",
   "metadata": {},
   "source": [
    "### Run AGENT 1"
   ]
  },
  {
   "cell_type": "code",
   "execution_count": 10,
   "id": "70fcd807-ac0f-4253-9122-1a96f3419f71",
   "metadata": {},
   "outputs": [
    {
     "name": "stdout",
     "output_type": "stream",
     "text": [
      "Created run, run ID: run_w4ek1kDE9xOKMIiOQOgjGDKa\n"
     ]
    }
   ],
   "source": [
    "# [START create_run]\n",
    "run = project_client.runs.create(thread_id=thread.id, agent_id=agent1.id)\n",
    "# [END create_run]\n",
    "print(f\"Created run, run ID: {run.id}\")\n"
   ]
  },
  {
   "cell_type": "markdown",
   "id": "0c90bae5",
   "metadata": {},
   "source": [
    "### Check status of run for AGENT 1"
   ]
  },
  {
   "cell_type": "code",
   "execution_count": 11,
   "id": "f21ef94e-22d1-4945-9886-be4dbefdca8e",
   "metadata": {},
   "outputs": [
    {
     "name": "stdout",
     "output_type": "stream",
     "text": [
      "Run status: RunStatus.IN_PROGRESS\n",
      "Run status: RunStatus.IN_PROGRESS\n",
      "Run status: RunStatus.IN_PROGRESS\n",
      "Run status: RunStatus.IN_PROGRESS\n",
      "Run status: RunStatus.IN_PROGRESS\n",
      "Run status: RunStatus.IN_PROGRESS\n",
      "Run status: RunStatus.IN_PROGRESS\n",
      "Run status: RunStatus.IN_PROGRESS\n",
      "Run status: RunStatus.COMPLETED\n"
     ]
    }
   ],
   "source": [
    "# Poll the run as long as run status is queued or in progress\n",
    "while run.status in [\"queued\", \"in_progress\", \"requires_action\"]:\n",
    "    # Wait for a second\n",
    "    time.sleep(1)\n",
    "    run = project_client.runs.get(thread_id=thread.id, run_id=run.id)\n",
    "    # [END create_run]\n",
    "    print(f\"Run status: {run.status}\")\n",
    "\n",
    "    if run.status == \"failed\":\n",
    "        print(f\"Run error: {run.last_error}\")"
   ]
  },
  {
   "cell_type": "markdown",
   "id": "b4e93ea3",
   "metadata": {},
   "source": [
    "### Show usage (tokens)"
   ]
  },
  {
   "cell_type": "code",
   "execution_count": 12,
   "id": "14ed4d5d",
   "metadata": {},
   "outputs": [
    {
     "data": {
      "text/plain": [
       "{'prompt_tokens': 41, 'completion_tokens': 431, 'total_tokens': 472, 'prompt_token_details': {'cached_tokens': 0}}"
      ]
     },
     "execution_count": 12,
     "metadata": {},
     "output_type": "execute_result"
    }
   ],
   "source": [
    "run.usage"
   ]
  },
  {
   "cell_type": "markdown",
   "id": "4038cc39",
   "metadata": {},
   "source": [
    "### Show me the stack of messages so far"
   ]
  },
  {
   "cell_type": "code",
   "execution_count": 13,
   "id": "d91b94fc",
   "metadata": {},
   "outputs": [
    {
     "name": "stdout",
     "output_type": "stream",
     "text": [
      "Message ID: msg_U5QAs0jla1RYnTpj90cAQ2br, Role: MessageRole.AGENT, Content: [{'type': 'text', 'text': {'value': \"The **Palacio de Bellas Artes** (Palace of Fine Arts) is one of Mexico City's most iconic and significant cultural landmarks. Located in the historic center of Mexico City, the building is renowned for its striking blend of architectural styles and its role as the country's premier venue for the arts.\\n\\n### Architectural Features\\n- **Design:** Construction began in 1904 under Italian architect Adamo Boari. It showcases an impressive blend of **Art Nouveau** (exterior) and **Art Deco** (interior) styles.\\n- **Materials & Facade:** The exterior is clad in white Carrara marble, with ornate details and grand columns. The spectacular stained-glass curtain inside, designed by Tiffany & Co., depicts the Valley of Mexico and the volcanoes Popocatépetl and Iztaccíhuatl.\\n- **Dome:** Its colorful tiled dome is an emblematic feature of Mexico City’s skyline.\\n\\n### Cultural Importance\\n- The Palacio is a central hub for the **performing arts** in Mexico. It is home to the **National Museum of Architecture**, the **National Opera Company of Mexico**, and the **National Symphony Orchestra**.\\n- It hosts regular performances by the **Ballet Folklórico de México**, opera, classical music concerts, and major art exhibitions.\\n\\n### Murals\\n- The building contains impressive murals by some of Mexico’s greatest artists, such as **Diego Rivera**, **David Alfaro Siqueiros**, and **Rufino Tamayo**.\\n\\n### Historical Notes\\n- The palace was inaugurated in 1934, after decades of interruptions caused by the Mexican Revolution and construction challenges with the soft ground of Mexico City.\\n- It is recognized as a **UNESCO World Heritage Site** as part of the Historic Centre of Mexico City.\\n\\n### Visiting\\n- The Palacio de Bellas Artes is open to the public, offering tours, performances, and exhibits. Its magnificent architecture and vibrant cultural events make it a must-visit for anyone in Mexico City.\\n\\nIn summary, the Palacio de Bellas Artes stands as a symbol of both Mexico’s artistic heritage and its ongoing cultural vitality.\", 'annotations': []}}]\n",
      "Message ID: msg_BKnsB1gzXycowEVt5ugc3ZEH, Role: MessageRole.USER, Content: [{'type': 'text', 'text': {'value': \"Tell me about the 'Palacio de Bellas Artes' in Mexico City.\", 'annotations': []}}]\n"
     ]
    }
   ],
   "source": [
    "messages = project_client.messages.list(thread_id=thread.id)\n",
    "for message in messages:\n",
    "    print(f\"Message ID: {message.id}, Role: {message.role}, Content: {message.content}\")\n",
    "\n",
    "\n",
    "\n"
   ]
  },
  {
   "cell_type": "markdown",
   "id": "20aa0873",
   "metadata": {},
   "source": [
    "### Show last message of AGENT 1"
   ]
  },
  {
   "cell_type": "code",
   "execution_count": 14,
   "id": "868c132d",
   "metadata": {},
   "outputs": [
    {
     "name": "stdout",
     "output_type": "stream",
     "text": [
      "Content: [{'type': 'text', 'text': {'value': \"The **Palacio de Bellas Artes** (Palace of Fine Arts) is one of Mexico City's most iconic and significant cultural landmarks. Located in the historic center of Mexico City, the building is renowned for its striking blend of architectural styles and its role as the country's premier venue for the arts.\\n\\n### Architectural Features\\n- **Design:** Construction began in 1904 under Italian architect Adamo Boari. It showcases an impressive blend of **Art Nouveau** (exterior) and **Art Deco** (interior) styles.\\n- **Materials & Facade:** The exterior is clad in white Carrara marble, with ornate details and grand columns. The spectacular stained-glass curtain inside, designed by Tiffany & Co., depicts the Valley of Mexico and the volcanoes Popocatépetl and Iztaccíhuatl.\\n- **Dome:** Its colorful tiled dome is an emblematic feature of Mexico City’s skyline.\\n\\n### Cultural Importance\\n- The Palacio is a central hub for the **performing arts** in Mexico. It is home to the **National Museum of Architecture**, the **National Opera Company of Mexico**, and the **National Symphony Orchestra**.\\n- It hosts regular performances by the **Ballet Folklórico de México**, opera, classical music concerts, and major art exhibitions.\\n\\n### Murals\\n- The building contains impressive murals by some of Mexico’s greatest artists, such as **Diego Rivera**, **David Alfaro Siqueiros**, and **Rufino Tamayo**.\\n\\n### Historical Notes\\n- The palace was inaugurated in 1934, after decades of interruptions caused by the Mexican Revolution and construction challenges with the soft ground of Mexico City.\\n- It is recognized as a **UNESCO World Heritage Site** as part of the Historic Centre of Mexico City.\\n\\n### Visiting\\n- The Palacio de Bellas Artes is open to the public, offering tours, performances, and exhibits. Its magnificent architecture and vibrant cultural events make it a must-visit for anyone in Mexico City.\\n\\nIn summary, the Palacio de Bellas Artes stands as a symbol of both Mexico’s artistic heritage and its ongoing cultural vitality.\", 'annotations': []}}]\n"
     ]
    }
   ],
   "source": [
    "messages = list(project_client.messages.list(thread_id=thread.id))\n",
    "if messages:\n",
    "    last_message = messages[0]\n",
    "    print(f\"Content: {last_message.content}\")\n",
    "else:\n",
    "    print(\"No messages found.\")"
   ]
  },
  {
   "cell_type": "markdown",
   "id": "8eab8fa5",
   "metadata": {},
   "source": [
    "### SHow bottom of stack of messages"
   ]
  },
  {
   "cell_type": "code",
   "execution_count": 15,
   "id": "9d9d8511",
   "metadata": {},
   "outputs": [
    {
     "name": "stdout",
     "output_type": "stream",
     "text": [
      "Content: [{'type': 'text', 'text': {'value': \"Tell me about the 'Palacio de Bellas Artes' in Mexico City.\", 'annotations': []}}]\n"
     ]
    }
   ],
   "source": [
    "if messages:\n",
    "    last_message = messages[-1]\n",
    "    print(f\"Content: {last_message.content}\")\n",
    "else:\n",
    "    print(\"No messages found.\")"
   ]
  },
  {
   "cell_type": "markdown",
   "id": "df0644dc",
   "metadata": {},
   "source": [
    "### Run AGENT 2"
   ]
  },
  {
   "cell_type": "code",
   "execution_count": 16,
   "id": "53895c1e-9e41-4003-bd80-f166e65001db",
   "metadata": {},
   "outputs": [
    {
     "name": "stdout",
     "output_type": "stream",
     "text": [
      "Created run, run ID: run_HmLBCMdO8NUFaeJKbDvI3Eka\n"
     ]
    }
   ],
   "source": [
    "# [START create_run]\n",
    "run = project_client.runs.create(thread_id=thread.id, agent_id=agent2.id)\n",
    "# [END create_run]\n",
    "print(f\"Created run, run ID: {run.id}\")"
   ]
  },
  {
   "cell_type": "markdown",
   "id": "46f16d71",
   "metadata": {},
   "source": [
    "### Check Status of the run for AGENT 2"
   ]
  },
  {
   "cell_type": "code",
   "execution_count": 17,
   "id": "6491e32c",
   "metadata": {},
   "outputs": [
    {
     "name": "stdout",
     "output_type": "stream",
     "text": [
      "Run status: RunStatus.IN_PROGRESS\n",
      "Run status: RunStatus.COMPLETED\n"
     ]
    }
   ],
   "source": [
    "# Poll the run as long as run status is queued or in progress\n",
    "while run.status in [\"queued\", \"in_progress\", \"requires_action\"]:\n",
    "    # Wait for a second\n",
    "    time.sleep(1)\n",
    "    run = project_client.runs.get(thread_id=thread.id, run_id=run.id)\n",
    "    # [END create_run]\n",
    "    print(f\"Run status: {run.status}\")\n",
    "\n",
    "    if run.status == \"failed\":\n",
    "        print(f\"Run error: {run.last_error}\")"
   ]
  },
  {
   "cell_type": "code",
   "execution_count": 20,
   "id": "6b0c9d00",
   "metadata": {},
   "outputs": [
    {
     "data": {
      "text/plain": [
       "{'prompt_tokens': 470, 'completion_tokens': 243, 'total_tokens': 713, 'prompt_token_details': {'cached_tokens': 0}}"
      ]
     },
     "execution_count": 20,
     "metadata": {},
     "output_type": "execute_result"
    }
   ],
   "source": [
    "run.usage"
   ]
  },
  {
   "cell_type": "markdown",
   "id": "bce77a2a",
   "metadata": {},
   "source": [
    "### SHow the stack of messages so far"
   ]
  },
  {
   "cell_type": "code",
   "execution_count": 18,
   "id": "6bf45dd9",
   "metadata": {},
   "outputs": [
    {
     "name": "stdout",
     "output_type": "stream",
     "text": [
      "Message ID: msg_TyC8qUpGkuKf2vNt5DPZ3HUC, Role: MessageRole.AGENT, Content: [{'type': 'text', 'text': {'value': 'El **Palacio de Bellas Artes** es uno de los monumentos más icónicos y representativos de la Ciudad de México. Ubicado en el centro histórico de la ciudad, es considerado el principal recinto cultural del país y una obra maestra tanto arquitectónica como artística.\\n\\nLa construcción del palacio comenzó en 1904 bajo la dirección del arquitecto italiano Adamo Boari, aunque se finalizó en 1934 debido a varios retrasos, incluyendo la Revolución Mexicana. El exterior del edificio es de estilo art nouveau y está recubierto de mármol blanco de Carrara, mientras que el interior exhibe un espléndido estilo art déco. Uno de sus elementos más notables es su cúpula de coloridos azulejos de vidrio.\\n\\nEn el Palacio de Bellas Artes se celebran eventos de danza, ópera, música y teatro. Alberga al Ballet Folklórico de México, la Orquesta Sinfónica Nacional y la Compañía Nacional de Ópera, entre otros destacados conjuntos artísticos. Además, es famoso por sus impresionantes murales realizados por artistas como Diego Rivera, David Alfaro Siqueiros y Rufino Tamayo.\\n\\nEl edificio también acoge el Museo del Palacio de Bellas Artes, que presenta exposiciones temporales de arte mexicano e internacional. El Palacio de Bellas Artes forma parte del Patrimonio Mundial de la UNESCO, como parte del centro histórico de la Ciudad de México, y es una visita imperdible para los aficionados al arte y la cultura.', 'annotations': []}}]\n",
      "Message ID: msg_U5QAs0jla1RYnTpj90cAQ2br, Role: MessageRole.AGENT, Content: [{'type': 'text', 'text': {'value': \"The **Palacio de Bellas Artes** (Palace of Fine Arts) is one of Mexico City's most iconic and significant cultural landmarks. Located in the historic center of Mexico City, the building is renowned for its striking blend of architectural styles and its role as the country's premier venue for the arts.\\n\\n### Architectural Features\\n- **Design:** Construction began in 1904 under Italian architect Adamo Boari. It showcases an impressive blend of **Art Nouveau** (exterior) and **Art Deco** (interior) styles.\\n- **Materials & Facade:** The exterior is clad in white Carrara marble, with ornate details and grand columns. The spectacular stained-glass curtain inside, designed by Tiffany & Co., depicts the Valley of Mexico and the volcanoes Popocatépetl and Iztaccíhuatl.\\n- **Dome:** Its colorful tiled dome is an emblematic feature of Mexico City’s skyline.\\n\\n### Cultural Importance\\n- The Palacio is a central hub for the **performing arts** in Mexico. It is home to the **National Museum of Architecture**, the **National Opera Company of Mexico**, and the **National Symphony Orchestra**.\\n- It hosts regular performances by the **Ballet Folklórico de México**, opera, classical music concerts, and major art exhibitions.\\n\\n### Murals\\n- The building contains impressive murals by some of Mexico’s greatest artists, such as **Diego Rivera**, **David Alfaro Siqueiros**, and **Rufino Tamayo**.\\n\\n### Historical Notes\\n- The palace was inaugurated in 1934, after decades of interruptions caused by the Mexican Revolution and construction challenges with the soft ground of Mexico City.\\n- It is recognized as a **UNESCO World Heritage Site** as part of the Historic Centre of Mexico City.\\n\\n### Visiting\\n- The Palacio de Bellas Artes is open to the public, offering tours, performances, and exhibits. Its magnificent architecture and vibrant cultural events make it a must-visit for anyone in Mexico City.\\n\\nIn summary, the Palacio de Bellas Artes stands as a symbol of both Mexico’s artistic heritage and its ongoing cultural vitality.\", 'annotations': []}}]\n",
      "Message ID: msg_BKnsB1gzXycowEVt5ugc3ZEH, Role: MessageRole.USER, Content: [{'type': 'text', 'text': {'value': \"Tell me about the 'Palacio de Bellas Artes' in Mexico City.\", 'annotations': []}}]\n"
     ]
    }
   ],
   "source": [
    "messages = project_client.messages.list(thread_id=thread.id)\n",
    "for message in messages:\n",
    "    print(f\"Message ID: {message.id}, Role: {message.role}, Content: {message.content}\")\n",
    "\n"
   ]
  },
  {
   "cell_type": "markdown",
   "id": "b0e97c44",
   "metadata": {},
   "source": [
    "### SHow last message of AGENT 2"
   ]
  },
  {
   "cell_type": "code",
   "execution_count": 19,
   "id": "b7916879",
   "metadata": {},
   "outputs": [
    {
     "name": "stdout",
     "output_type": "stream",
     "text": [
      "Content: [{'type': 'text', 'text': {'value': 'El **Palacio de Bellas Artes** es uno de los monumentos más icónicos y representativos de la Ciudad de México. Ubicado en el centro histórico de la ciudad, es considerado el principal recinto cultural del país y una obra maestra tanto arquitectónica como artística.\\n\\nLa construcción del palacio comenzó en 1904 bajo la dirección del arquitecto italiano Adamo Boari, aunque se finalizó en 1934 debido a varios retrasos, incluyendo la Revolución Mexicana. El exterior del edificio es de estilo art nouveau y está recubierto de mármol blanco de Carrara, mientras que el interior exhibe un espléndido estilo art déco. Uno de sus elementos más notables es su cúpula de coloridos azulejos de vidrio.\\n\\nEn el Palacio de Bellas Artes se celebran eventos de danza, ópera, música y teatro. Alberga al Ballet Folklórico de México, la Orquesta Sinfónica Nacional y la Compañía Nacional de Ópera, entre otros destacados conjuntos artísticos. Además, es famoso por sus impresionantes murales realizados por artistas como Diego Rivera, David Alfaro Siqueiros y Rufino Tamayo.\\n\\nEl edificio también acoge el Museo del Palacio de Bellas Artes, que presenta exposiciones temporales de arte mexicano e internacional. El Palacio de Bellas Artes forma parte del Patrimonio Mundial de la UNESCO, como parte del centro histórico de la Ciudad de México, y es una visita imperdible para los aficionados al arte y la cultura.', 'annotations': []}}]\n"
     ]
    }
   ],
   "source": [
    "messages = list(project_client.messages.list(thread_id=thread.id))\n",
    "if messages:\n",
    "    last_message = messages[0]\n",
    "    print(f\"Content: {last_message.content}\")\n",
    "else:\n",
    "    print(\"No messages found.\")"
   ]
  },
  {
   "cell_type": "markdown",
   "id": "e0ec7ca6",
   "metadata": {},
   "source": [
    "### Run AGENT 3"
   ]
  },
  {
   "cell_type": "code",
   "execution_count": 20,
   "id": "cf1be1d9-90c0-43bc-b358-acf62a22ef04",
   "metadata": {},
   "outputs": [
    {
     "name": "stdout",
     "output_type": "stream",
     "text": [
      "Created run, run ID: run_uX4qguHVU1qpAItOMuEALJOj\n"
     ]
    }
   ],
   "source": [
    "# [START create_run]\n",
    "run = project_client.runs.create(thread_id=thread.id, agent_id=agent3.id)\n",
    " # [END create_run]\n",
    "print(f\"Created run, run ID: {run.id}\")"
   ]
  },
  {
   "cell_type": "markdown",
   "id": "7b04e16e",
   "metadata": {},
   "source": [
    "### Check status of run of AGENT 3"
   ]
  },
  {
   "cell_type": "code",
   "execution_count": 21,
   "id": "c9949669",
   "metadata": {},
   "outputs": [
    {
     "name": "stdout",
     "output_type": "stream",
     "text": [
      "Run status: RunStatus.COMPLETED\n"
     ]
    }
   ],
   "source": [
    "# Poll the run as long as run status is queued or in progress\n",
    "while run.status in [\"queued\", \"in_progress\", \"requires_action\"]:\n",
    "    # Wait for a second\n",
    "    time.sleep(1)\n",
    "    run = project_client.runs.get(thread_id=thread.id, run_id=run.id)\n",
    "    # [END create_run]\n",
    "    print(f\"Run status: {run.status}\")\n",
    "\n",
    "    if run.status == \"failed\":\n",
    "        print(f\"Run error: {run.last_error}\")"
   ]
  },
  {
   "cell_type": "code",
   "execution_count": 22,
   "id": "3eb368fd",
   "metadata": {},
   "outputs": [
    {
     "data": {
      "text/plain": [
       "{'prompt_tokens': 792, 'completion_tokens': 172, 'total_tokens': 964, 'prompt_token_details': {'cached_tokens': 0}}"
      ]
     },
     "execution_count": 22,
     "metadata": {},
     "output_type": "execute_result"
    }
   ],
   "source": [
    "run.usage"
   ]
  },
  {
   "cell_type": "markdown",
   "id": "bb139d78",
   "metadata": {},
   "source": [
    "### Show the Stack of messages so far"
   ]
  },
  {
   "cell_type": "code",
   "execution_count": 23,
   "id": "9bb6f766",
   "metadata": {},
   "outputs": [
    {
     "name": "stdout",
     "output_type": "stream",
     "text": [
      "Message ID: msg_CS3NVeISOaScD9ptppU0qknV, Role: MessageRole.AGENT, Content: [{'type': 'text', 'text': {'value': 'Of course! Here’s a version with emojis:\\n\\nThe **Palacio de Bellas Artes** 🎭🏛️ is one of Mexico City’s most iconic landmarks. Located in the historic downtown 🏙️, it’s famous for its beautiful white marble façade 🤍, stunning stained-glass dome 🎨, and impressive mix of architectural styles from Art Nouveau to Art Deco ✨.\\n\\nInside, you’ll find gorgeous murals by famous Mexican artists like Diego Rivera and Rufino Tamayo 🖼️. The palace hosts classical concerts, operas, ballets, and exhibitions 🎻🎤🩰, including the world-renowned Ballet Folklórico de México 💃.\\n\\nIt’s not just an architectural masterpiece but also a vibrant cultural center, making it a must-see spot when you visit Mexico City! 🇲🇽🌟', 'annotations': []}}]\n",
      "Message ID: msg_TyC8qUpGkuKf2vNt5DPZ3HUC, Role: MessageRole.AGENT, Content: [{'type': 'text', 'text': {'value': 'El **Palacio de Bellas Artes** es uno de los monumentos más icónicos y representativos de la Ciudad de México. Ubicado en el centro histórico de la ciudad, es considerado el principal recinto cultural del país y una obra maestra tanto arquitectónica como artística.\\n\\nLa construcción del palacio comenzó en 1904 bajo la dirección del arquitecto italiano Adamo Boari, aunque se finalizó en 1934 debido a varios retrasos, incluyendo la Revolución Mexicana. El exterior del edificio es de estilo art nouveau y está recubierto de mármol blanco de Carrara, mientras que el interior exhibe un espléndido estilo art déco. Uno de sus elementos más notables es su cúpula de coloridos azulejos de vidrio.\\n\\nEn el Palacio de Bellas Artes se celebran eventos de danza, ópera, música y teatro. Alberga al Ballet Folklórico de México, la Orquesta Sinfónica Nacional y la Compañía Nacional de Ópera, entre otros destacados conjuntos artísticos. Además, es famoso por sus impresionantes murales realizados por artistas como Diego Rivera, David Alfaro Siqueiros y Rufino Tamayo.\\n\\nEl edificio también acoge el Museo del Palacio de Bellas Artes, que presenta exposiciones temporales de arte mexicano e internacional. El Palacio de Bellas Artes forma parte del Patrimonio Mundial de la UNESCO, como parte del centro histórico de la Ciudad de México, y es una visita imperdible para los aficionados al arte y la cultura.', 'annotations': []}}]\n",
      "Message ID: msg_U5QAs0jla1RYnTpj90cAQ2br, Role: MessageRole.AGENT, Content: [{'type': 'text', 'text': {'value': \"The **Palacio de Bellas Artes** (Palace of Fine Arts) is one of Mexico City's most iconic and significant cultural landmarks. Located in the historic center of Mexico City, the building is renowned for its striking blend of architectural styles and its role as the country's premier venue for the arts.\\n\\n### Architectural Features\\n- **Design:** Construction began in 1904 under Italian architect Adamo Boari. It showcases an impressive blend of **Art Nouveau** (exterior) and **Art Deco** (interior) styles.\\n- **Materials & Facade:** The exterior is clad in white Carrara marble, with ornate details and grand columns. The spectacular stained-glass curtain inside, designed by Tiffany & Co., depicts the Valley of Mexico and the volcanoes Popocatépetl and Iztaccíhuatl.\\n- **Dome:** Its colorful tiled dome is an emblematic feature of Mexico City’s skyline.\\n\\n### Cultural Importance\\n- The Palacio is a central hub for the **performing arts** in Mexico. It is home to the **National Museum of Architecture**, the **National Opera Company of Mexico**, and the **National Symphony Orchestra**.\\n- It hosts regular performances by the **Ballet Folklórico de México**, opera, classical music concerts, and major art exhibitions.\\n\\n### Murals\\n- The building contains impressive murals by some of Mexico’s greatest artists, such as **Diego Rivera**, **David Alfaro Siqueiros**, and **Rufino Tamayo**.\\n\\n### Historical Notes\\n- The palace was inaugurated in 1934, after decades of interruptions caused by the Mexican Revolution and construction challenges with the soft ground of Mexico City.\\n- It is recognized as a **UNESCO World Heritage Site** as part of the Historic Centre of Mexico City.\\n\\n### Visiting\\n- The Palacio de Bellas Artes is open to the public, offering tours, performances, and exhibits. Its magnificent architecture and vibrant cultural events make it a must-visit for anyone in Mexico City.\\n\\nIn summary, the Palacio de Bellas Artes stands as a symbol of both Mexico’s artistic heritage and its ongoing cultural vitality.\", 'annotations': []}}]\n",
      "Message ID: msg_BKnsB1gzXycowEVt5ugc3ZEH, Role: MessageRole.USER, Content: [{'type': 'text', 'text': {'value': \"Tell me about the 'Palacio de Bellas Artes' in Mexico City.\", 'annotations': []}}]\n"
     ]
    }
   ],
   "source": [
    "messages = project_client.messages.list(thread_id=thread.id)\n",
    "for message in messages:\n",
    "    print(f\"Message ID: {message.id}, Role: {message.role}, Content: {message.content}\")"
   ]
  },
  {
   "cell_type": "markdown",
   "id": "3b602a44",
   "metadata": {},
   "source": [
    "### Print last message of AGENT 3, this shows all Agents work combined in final output!!"
   ]
  },
  {
   "cell_type": "code",
   "execution_count": 24,
   "id": "f3038d90-2f0b-46a7-bf98-5c1dcf836288",
   "metadata": {},
   "outputs": [
    {
     "name": "stdout",
     "output_type": "stream",
     "text": [
      "Content: [{'type': 'text', 'text': {'value': 'Of course! Here’s a version with emojis:\\n\\nThe **Palacio de Bellas Artes** 🎭🏛️ is one of Mexico City’s most iconic landmarks. Located in the historic downtown 🏙️, it’s famous for its beautiful white marble façade 🤍, stunning stained-glass dome 🎨, and impressive mix of architectural styles from Art Nouveau to Art Deco ✨.\\n\\nInside, you’ll find gorgeous murals by famous Mexican artists like Diego Rivera and Rufino Tamayo 🖼️. The palace hosts classical concerts, operas, ballets, and exhibitions 🎻🎤🩰, including the world-renowned Ballet Folklórico de México 💃.\\n\\nIt’s not just an architectural masterpiece but also a vibrant cultural center, making it a must-see spot when you visit Mexico City! 🇲🇽🌟', 'annotations': []}}]\n"
     ]
    }
   ],
   "source": [
    "messages = list(project_client.messages.list(thread_id=thread.id))\n",
    "\n",
    "last_message = messages[0]\n",
    "print(f\"Content: {last_message.content}\")\n",
    "\n",
    "\n"
   ]
  },
  {
   "cell_type": "markdown",
   "id": "2fdf7d2e-f323-4af1-83cc-79ac906ea5e6",
   "metadata": {},
   "source": [
    "## Post processing"
   ]
  },
  {
   "cell_type": "code",
   "execution_count": 25,
   "id": "7677cdb0-a49f-428b-8196-6d4a758331f4",
   "metadata": {},
   "outputs": [
    {
     "name": "stdout",
     "output_type": "stream",
     "text": [
      "Listing all agents in the project:\n",
      "Agent ID: asst_DgydlV9iEquVMgU00KwkUxWd, Name: Emojis, Model: gpt-4.1, Instructions: You are an AI agent that add emojis to a text\n",
      "Agent ID: asst_sZQs3HU51Fg9S5QKgaUVF1nm, Name: Translator, Model: gpt-4.1, Instructions: You are an AI agent that translates English into Spanish.\n",
      "Agent ID: asst_jKdkQAFhmPd5VLw2oixgS3Xa, Name: Q&A, Model: gpt-4.1, Instructions: You are an AI agent.\n"
     ]
    }
   ],
   "source": [
    "# List all agents in the project\n",
    "print(\"Listing all agents in the project:\")\n",
    "agents = project_client.list_agents()\n",
    "for agent in agents:\n",
    "    print(f\"Agent ID: {agent.id}, Name: {agent.name}, Model: {agent.model}, Instructions: {agent.instructions}\")"
   ]
  },
  {
   "cell_type": "code",
   "execution_count": 27,
   "id": "51380910",
   "metadata": {},
   "outputs": [],
   "source": [
    "# recurse through all agents and delete them adding a test to stop if the agent is not found\n",
    "for agent in project_client.list_agents():\n",
    "    try:\n",
    "        print(f\"Deleting agent ID: {agent.id}, Name: {agent.name}\")\n",
    "        project_client.delete_agent(agent.id)\n",
    "    except Exception as e:\n",
    "        print(f\"Error deleting agent ID: {agent.id}, Name: {agent.name}, Error: {e}\")\n",
    "        break"
   ]
  },
  {
   "cell_type": "code",
   "execution_count": 28,
   "id": "6e9b634f",
   "metadata": {},
   "outputs": [],
   "source": [
    "agents = project_client.list_agents()\n",
    "for agent in agents:\n",
    "    print(f\"Agent ID: {agent.id}, Name: {agent.name}, Model: {agent.model}, Instructions: {agent.instructions}\")"
   ]
  }
 ],
 "metadata": {
  "kernelspec": {
   "display_name": ".venv (3.13.5)",
   "language": "python",
   "name": "python3"
  },
  "language_info": {
   "codemirror_mode": {
    "name": "ipython",
    "version": 3
   },
   "file_extension": ".py",
   "mimetype": "text/x-python",
   "name": "python",
   "nbconvert_exporter": "python",
   "pygments_lexer": "ipython3",
   "version": "3.13.5"
  },
  "varInspector": {
   "cols": {
    "lenName": 16,
    "lenType": 16,
    "lenVar": 40
   },
   "kernels_config": {
    "python": {
     "delete_cmd_postfix": "",
     "delete_cmd_prefix": "del ",
     "library": "var_list.py",
     "varRefreshCmd": "print(var_dic_list())"
    },
    "r": {
     "delete_cmd_postfix": ") ",
     "delete_cmd_prefix": "rm(",
     "library": "var_list.r",
     "varRefreshCmd": "cat(var_dic_list()) "
    }
   },
   "types_to_exclude": [
    "module",
    "function",
    "builtin_function_or_method",
    "instance",
    "_Feature"
   ],
   "window_display": false
  }
 },
 "nbformat": 4,
 "nbformat_minor": 5
}
