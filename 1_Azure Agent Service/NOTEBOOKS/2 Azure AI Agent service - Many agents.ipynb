{
 "cells": [
  {
   "cell_type": "markdown",
   "id": "431cc026-279f-4105-8444-f1b93650da0d",
   "metadata": {},
   "source": [
    "# Azure AI Agent service - Many agents\n",
    "\n",
    "<img src=\"https://learn.microsoft.com/en-us/azure/ai-services/agents/media/agent-service-the-glue.png\" width=800>\n",
    "\n",
    "> https://learn.microsoft.com/en-us/azure/ai-services/agents/"
   ]
  },
  {
   "cell_type": "code",
   "execution_count": 1,
   "id": "7a3e72d0-7521-438c-928d-5fa293b0f419",
   "metadata": {},
   "outputs": [],
   "source": [
    "import json\n",
    "import os\n",
    "import sys\n",
    "import time\n",
    "\n",
    "from azure.ai.agents import AgentsClient\n",
    "from azure.ai.agents.models import ListSortOrder\n",
    "from azure.identity import DefaultAzureCredential\n",
    "from datetime import datetime, timezone, timedelta\n",
    "from dotenv import load_dotenv\n",
    "from openai import AzureOpenAI"
   ]
  },
  {
   "cell_type": "code",
   "execution_count": 2,
   "id": "65334de7-4005-401a-89c1-be24f75abbd9",
   "metadata": {},
   "outputs": [
    {
     "data": {
      "text/plain": [
       "True"
      ]
     },
     "execution_count": 2,
     "metadata": {},
     "output_type": "execute_result"
    }
   ],
   "source": [
    "load_dotenv(\"azure.env\")"
   ]
  },
  {
   "cell_type": "code",
   "execution_count": 3,
   "id": "8628712a-0d10-4351-8993-b4c3243f83be",
   "metadata": {},
   "outputs": [
    {
     "data": {
      "text/plain": [
       "'3.13.4 (main, Jun  3 2025, 15:34:24) [Clang 17.0.0 (clang-1700.0.13.3)]'"
      ]
     },
     "execution_count": 3,
     "metadata": {},
     "output_type": "execute_result"
    }
   ],
   "source": [
    "sys.version"
   ]
  },
  {
   "cell_type": "markdown",
   "id": "cc2c1d28-e366-442e-a186-81239ec337ec",
   "metadata": {},
   "source": [
    "## Creaate connection to AI Foundry Project & instantiate a project client"
   ]
  },
  {
   "cell_type": "code",
   "execution_count": 4,
   "id": "76c7bbb7-0faa-4500-ba42-7c5b176f6196",
   "metadata": {},
   "outputs": [
    {
     "name": "stdout",
     "output_type": "stream",
     "text": [
      "Using endpoint: https://aq-ai-foundry-sweden-central.services.ai.azure.com/api/projects/firstProject\n"
     ]
    }
   ],
   "source": [
    "endpoint = os.getenv(\"PROJECT_ENDPOINT\")\n",
    "print(f\"Using endpoint: {endpoint}\")\n",
    "credential = DefaultAzureCredential()\n",
    "\n",
    "project_client = AgentsClient(endpoint=endpoint, credential=credential)"
   ]
  },
  {
   "cell_type": "markdown",
   "id": "1fecdb26",
   "metadata": {},
   "source": [
    "## Instantiate AGENT 1 (Q&A)"
   ]
  },
  {
   "cell_type": "code",
   "execution_count": 5,
   "id": "8bec0fdf-bfdb-4d72-8cc0-d02b8eb79b59",
   "metadata": {},
   "outputs": [
    {
     "name": "stdout",
     "output_type": "stream",
     "text": [
      "Created agent, agent ID: asst_FEGiG4z7CvqojLa0H8eNDF2x\n"
     ]
    }
   ],
   "source": [
    "\n",
    "\n",
    "agent1 = project_client.create_agent(\n",
    "    model=os.environ[\"MODEL_DEPLOYMENT_NAME\"],\n",
    "    name=\"Q&A\",\n",
    "    instructions=\"You are an AI agent.\",\n",
    ")\n",
    "print(f\"Created agent, agent ID: {agent1.id}\")"
   ]
  },
  {
   "cell_type": "markdown",
   "id": "d2304eb6",
   "metadata": {},
   "source": [
    "## Instantiate AGENT 2 (Translator)"
   ]
  },
  {
   "cell_type": "code",
   "execution_count": 6,
   "id": "06dfa418-7b00-4450-8d0e-d32c90b24cc5",
   "metadata": {},
   "outputs": [
    {
     "name": "stdout",
     "output_type": "stream",
     "text": [
      "Created agent, agent ID: asst_iXUNl1t2rYu8POTlK4odWb68\n"
     ]
    }
   ],
   "source": [
    "\n",
    "\n",
    "agent2 = project_client.create_agent(\n",
    "    model=os.environ[\"MODEL_DEPLOYMENT_NAME\"],\n",
    "    name=\"Translator\",\n",
    "    instructions=\"You are an AI agent that translates English into Spanish.\",\n",
    ")\n",
    "print(f\"Created agent, agent ID: {agent2.id}\")"
   ]
  },
  {
   "cell_type": "markdown",
   "id": "aeb51377",
   "metadata": {},
   "source": [
    "## Instantiate AGENT 3 (Emojis creator)"
   ]
  },
  {
   "cell_type": "code",
   "execution_count": 7,
   "id": "bd4b89b4-fe75-48b8-acc8-17d3adf721cf",
   "metadata": {},
   "outputs": [
    {
     "name": "stdout",
     "output_type": "stream",
     "text": [
      "Created agent, agent ID: asst_8lhcGGxvECf2PBWb5R89p68K\n"
     ]
    }
   ],
   "source": [
    "\n",
    "\n",
    "agent3 = project_client.create_agent(\n",
    "    model=os.environ[\"MODEL_DEPLOYMENT_NAME\"],\n",
    "    name=\"Emojis\",\n",
    "    instructions=\"You are an AI agent that add emojis to a text\",\n",
    ")\n",
    "print(f\"Created agent, agent ID: {agent3.id}\")\n"
   ]
  },
  {
   "cell_type": "markdown",
   "id": "e8815044",
   "metadata": {},
   "source": [
    "### Show all agents"
   ]
  },
  {
   "cell_type": "code",
   "execution_count": 8,
   "id": "1b446cc0",
   "metadata": {},
   "outputs": [
    {
     "name": "stdout",
     "output_type": "stream",
     "text": [
      "{'id': 'asst_FEGiG4z7CvqojLa0H8eNDF2x', 'object': 'assistant', 'created_at': 1749398210, 'name': 'Q&A', 'description': None, 'model': 'gpt-4.1', 'instructions': 'You are an AI agent.', 'tools': [], 'top_p': 1.0, 'temperature': 1.0, 'tool_resources': {}, 'metadata': {}, 'response_format': 'auto'}\n",
      "{'id': 'asst_iXUNl1t2rYu8POTlK4odWb68', 'object': 'assistant', 'created_at': 1749398210, 'name': 'Translator', 'description': None, 'model': 'gpt-4.1', 'instructions': 'You are an AI agent that translates English into Spanish.', 'tools': [], 'top_p': 1.0, 'temperature': 1.0, 'tool_resources': {}, 'metadata': {}, 'response_format': 'auto'}\n",
      "{'id': 'asst_8lhcGGxvECf2PBWb5R89p68K', 'object': 'assistant', 'created_at': 1749398211, 'name': 'Emojis', 'description': None, 'model': 'gpt-4.1', 'instructions': 'You are an AI agent that add emojis to a text', 'tools': [], 'top_p': 1.0, 'temperature': 1.0, 'tool_resources': {}, 'metadata': {}, 'response_format': 'auto'}\n"
     ]
    }
   ],
   "source": [
    "print(agent1)\n",
    "print(agent2)\n",
    "print(agent3)\n"
   ]
  },
  {
   "cell_type": "markdown",
   "id": "7ffa36d2",
   "metadata": {},
   "source": [
    "### Create a thread for AGENT 1"
   ]
  },
  {
   "cell_type": "code",
   "execution_count": 9,
   "id": "5b4a3453-e9ce-4208-a0e5-6c201939d238",
   "metadata": {},
   "outputs": [
    {
     "name": "stdout",
     "output_type": "stream",
     "text": [
      "Created thread, thread ID: thread_x7Orpn1dWQu3waSpwPmzlkPy\n"
     ]
    }
   ],
   "source": [
    "    # [START create_thread]\n",
    "    thread = project_client.threads.create()\n",
    "    # [END create_thread]\n",
    "    print(f\"Created thread, thread ID: {thread.id}\")"
   ]
  },
  {
   "cell_type": "markdown",
   "id": "278d3c15",
   "metadata": {},
   "source": [
    "### Create a message for AGENT 1"
   ]
  },
  {
   "cell_type": "code",
   "execution_count": 10,
   "id": "35131134-b241-4721-a673-fb6cd240ed03",
   "metadata": {},
   "outputs": [
    {
     "name": "stdout",
     "output_type": "stream",
     "text": [
      "Created message, message ID: msg_vZpzyKjFhknUbv1kjMPh3oWe\n"
     ]
    }
   ],
   "source": [
    "\n",
    "    # [START create_message]\n",
    "    message = project_client.messages.create(thread_id=thread.id, role=\"user\", content=\"Tell me about the 'Palacio de Bellas Artes' in Mexico City.\")\n",
    "    # [END create_message]\n",
    "    print(f\"Created message, message ID: {message.id}\")"
   ]
  },
  {
   "cell_type": "markdown",
   "id": "03405dc2",
   "metadata": {},
   "source": [
    "### Run AGENT 1"
   ]
  },
  {
   "cell_type": "code",
   "execution_count": 11,
   "id": "70fcd807-ac0f-4253-9122-1a96f3419f71",
   "metadata": {},
   "outputs": [
    {
     "name": "stdout",
     "output_type": "stream",
     "text": [
      "Created run, run ID: run_Ju6hWREwW9Hg4x00I0nPBth5\n"
     ]
    }
   ],
   "source": [
    "    # [START create_run]\n",
    "    run = project_client.runs.create(thread_id=thread.id, agent_id=agent1.id)\n",
    "    # [END create_run]\n",
    "    print(f\"Created run, run ID: {run.id}\")\n"
   ]
  },
  {
   "cell_type": "markdown",
   "id": "0c90bae5",
   "metadata": {},
   "source": [
    "### Check status of run for AGENT 1"
   ]
  },
  {
   "cell_type": "code",
   "execution_count": 12,
   "id": "f21ef94e-22d1-4945-9886-be4dbefdca8e",
   "metadata": {},
   "outputs": [
    {
     "name": "stdout",
     "output_type": "stream",
     "text": [
      "Run status: RunStatus.IN_PROGRESS\n",
      "Run status: RunStatus.IN_PROGRESS\n",
      "Run status: RunStatus.IN_PROGRESS\n",
      "Run status: RunStatus.COMPLETED\n"
     ]
    }
   ],
   "source": [
    "    # Poll the run as long as run status is queued or in progress\n",
    "    while run.status in [\"queued\", \"in_progress\", \"requires_action\"]:\n",
    "        # Wait for a second\n",
    "        time.sleep(1)\n",
    "        run = project_client.runs.get(thread_id=thread.id, run_id=run.id)\n",
    "        # [END create_run]\n",
    "        print(f\"Run status: {run.status}\")\n",
    "\n",
    "        if run.status == \"failed\":\n",
    "            print(f\"Run error: {run.last_error}\")"
   ]
  },
  {
   "cell_type": "markdown",
   "id": "b4e93ea3",
   "metadata": {},
   "source": [
    "### Show usage (tokens)"
   ]
  },
  {
   "cell_type": "code",
   "execution_count": 13,
   "id": "14ed4d5d",
   "metadata": {},
   "outputs": [
    {
     "data": {
      "text/plain": [
       "{'prompt_tokens': 41, 'completion_tokens': 402, 'total_tokens': 443, 'prompt_token_details': {'cached_tokens': 0}}"
      ]
     },
     "execution_count": 13,
     "metadata": {},
     "output_type": "execute_result"
    }
   ],
   "source": [
    "run.usage"
   ]
  },
  {
   "cell_type": "markdown",
   "id": "4038cc39",
   "metadata": {},
   "source": [
    "### Show me the stack of messages so far"
   ]
  },
  {
   "cell_type": "code",
   "execution_count": 14,
   "id": "d91b94fc",
   "metadata": {},
   "outputs": [
    {
     "name": "stdout",
     "output_type": "stream",
     "text": [
      "Message ID: msg_b54OgxkeKCJYP2if9vOzpwZ9, Role: MessageRole.AGENT, Content: [{'type': 'text', 'text': {'value': 'The **Palacio de Bellas Artes** (Palace of Fine Arts) is one of the most iconic and beautiful buildings in **Mexico City**. Here’s a concise overview:\\n\\n### Architectural Marvel\\n\\n- **Location**: At the western end of the historic center of Mexico City, near Alameda Central park.\\n- **Construction**: Initiated in 1904 and completed in 1934, its construction was delayed by the Mexican Revolution and subsidence issues.\\n- **Architectural Style**: A blend of Art Nouveau (exterior) and Art Deco (interior).\\n- **Exterior**: Distinguished by its dazzling white Italian Carrara marble façade and a spectacular domed roof with orange and yellow colored glass.\\n\\n### Cultural Importance\\n\\n- **National Opera House**: Serves as Mexico’s foremost opera house.\\n- **Performance Venue**: Home to the Ballet Folklórico de México, the National Symphony Orchestra, and other famed ensembles.\\n- **Murals**: Adorned with stunning murals by Diego Rivera, David Alfaro Siqueiros, José Clemente Orozco, and Rufino Tamayo—masters of Mexican muralism.\\n- **Museums**: Houses the Museo del Palacio de Bellas Artes (museum of fine arts) and the National Museum of Architecture on upper floors.\\n\\n### Notable Facts\\n\\n- **UNESCO World Heritage Site**: Part of the Historic Center of Mexico City designation (1987).\\n- **Tiffany Glass Curtain**: Features a one-of-a-kind stage curtain made of crystal glass, depicting the Valley of Mexico and its volcanoes.\\n- **Events**: Hosts concerts, exhibitions, operas, and ballet performances throughout the year.\\n- **Symbol of Culture**: Seen as the “cathedral of art” in Mexico and a symbol of the country’s cultural richness.\\n\\nThe Palacio de Bellas Artes is not only a center for performing arts but also a visual masterpiece and a testament to Mexico’s artistic and architectural heritage.', 'annotations': []}}]\n",
      "Message ID: msg_vZpzyKjFhknUbv1kjMPh3oWe, Role: MessageRole.USER, Content: [{'type': 'text', 'text': {'value': \"Tell me about the 'Palacio de Bellas Artes' in Mexico City.\", 'annotations': []}}]\n"
     ]
    }
   ],
   "source": [
    "messages = project_client.messages.list(thread_id=thread.id)\n",
    "for message in messages:\n",
    "    print(f\"Message ID: {message.id}, Role: {message.role}, Content: {message.content}\")\n",
    "\n",
    "\n",
    "\n"
   ]
  },
  {
   "cell_type": "markdown",
   "id": "20aa0873",
   "metadata": {},
   "source": [
    "### Show last message of AGENT 1"
   ]
  },
  {
   "cell_type": "code",
   "execution_count": 15,
   "id": "868c132d",
   "metadata": {},
   "outputs": [
    {
     "name": "stdout",
     "output_type": "stream",
     "text": [
      "Content: [{'type': 'text', 'text': {'value': 'The **Palacio de Bellas Artes** (Palace of Fine Arts) is one of the most iconic and beautiful buildings in **Mexico City**. Here’s a concise overview:\\n\\n### Architectural Marvel\\n\\n- **Location**: At the western end of the historic center of Mexico City, near Alameda Central park.\\n- **Construction**: Initiated in 1904 and completed in 1934, its construction was delayed by the Mexican Revolution and subsidence issues.\\n- **Architectural Style**: A blend of Art Nouveau (exterior) and Art Deco (interior).\\n- **Exterior**: Distinguished by its dazzling white Italian Carrara marble façade and a spectacular domed roof with orange and yellow colored glass.\\n\\n### Cultural Importance\\n\\n- **National Opera House**: Serves as Mexico’s foremost opera house.\\n- **Performance Venue**: Home to the Ballet Folklórico de México, the National Symphony Orchestra, and other famed ensembles.\\n- **Murals**: Adorned with stunning murals by Diego Rivera, David Alfaro Siqueiros, José Clemente Orozco, and Rufino Tamayo—masters of Mexican muralism.\\n- **Museums**: Houses the Museo del Palacio de Bellas Artes (museum of fine arts) and the National Museum of Architecture on upper floors.\\n\\n### Notable Facts\\n\\n- **UNESCO World Heritage Site**: Part of the Historic Center of Mexico City designation (1987).\\n- **Tiffany Glass Curtain**: Features a one-of-a-kind stage curtain made of crystal glass, depicting the Valley of Mexico and its volcanoes.\\n- **Events**: Hosts concerts, exhibitions, operas, and ballet performances throughout the year.\\n- **Symbol of Culture**: Seen as the “cathedral of art” in Mexico and a symbol of the country’s cultural richness.\\n\\nThe Palacio de Bellas Artes is not only a center for performing arts but also a visual masterpiece and a testament to Mexico’s artistic and architectural heritage.', 'annotations': []}}]\n"
     ]
    }
   ],
   "source": [
    "messages = list(project_client.messages.list(thread_id=thread.id))\n",
    "if messages:\n",
    "    last_message = messages[0]\n",
    "    print(f\"Content: {last_message.content}\")\n",
    "else:\n",
    "    print(\"No messages found.\")"
   ]
  },
  {
   "cell_type": "markdown",
   "id": "8eab8fa5",
   "metadata": {},
   "source": [
    "### SHow bottom of stack of messages"
   ]
  },
  {
   "cell_type": "code",
   "execution_count": 16,
   "id": "9d9d8511",
   "metadata": {},
   "outputs": [
    {
     "name": "stdout",
     "output_type": "stream",
     "text": [
      "Content: [{'type': 'text', 'text': {'value': \"Tell me about the 'Palacio de Bellas Artes' in Mexico City.\", 'annotations': []}}]\n"
     ]
    }
   ],
   "source": [
    "if messages:\n",
    "    last_message = messages[-1]\n",
    "    print(f\"Content: {last_message.content}\")\n",
    "else:\n",
    "    print(\"No messages found.\")"
   ]
  },
  {
   "cell_type": "markdown",
   "id": "df0644dc",
   "metadata": {},
   "source": [
    "### Run AGENT 2"
   ]
  },
  {
   "cell_type": "code",
   "execution_count": 17,
   "id": "53895c1e-9e41-4003-bd80-f166e65001db",
   "metadata": {},
   "outputs": [
    {
     "name": "stdout",
     "output_type": "stream",
     "text": [
      "Created run, run ID: run_djglRWuPJ6psN9iWjQacbe1n\n"
     ]
    }
   ],
   "source": [
    "    # [START create_run]\n",
    "    run = project_client.runs.create(thread_id=thread.id, agent_id=agent2.id)\n",
    "    # [END create_run]\n",
    "    print(f\"Created run, run ID: {run.id}\")"
   ]
  },
  {
   "cell_type": "markdown",
   "id": "46f16d71",
   "metadata": {},
   "source": [
    "### Check Status of the run for AGENT 2"
   ]
  },
  {
   "cell_type": "code",
   "execution_count": 18,
   "id": "6491e32c",
   "metadata": {},
   "outputs": [
    {
     "name": "stdout",
     "output_type": "stream",
     "text": [
      "Run status: RunStatus.IN_PROGRESS\n",
      "Run status: RunStatus.IN_PROGRESS\n",
      "Run status: RunStatus.COMPLETED\n"
     ]
    }
   ],
   "source": [
    "    # Poll the run as long as run status is queued or in progress\n",
    "    while run.status in [\"queued\", \"in_progress\", \"requires_action\"]:\n",
    "        # Wait for a second\n",
    "        time.sleep(1)\n",
    "        run = project_client.runs.get(thread_id=thread.id, run_id=run.id)\n",
    "        # [END create_run]\n",
    "        print(f\"Run status: {run.status}\")\n",
    "\n",
    "        if run.status == \"failed\":\n",
    "            print(f\"Run error: {run.last_error}\")"
   ]
  },
  {
   "cell_type": "code",
   "execution_count": 19,
   "id": "6b0c9d00",
   "metadata": {},
   "outputs": [
    {
     "data": {
      "text/plain": [
       "{'prompt_tokens': 450, 'completion_tokens': 239, 'total_tokens': 689, 'prompt_token_details': {'cached_tokens': 0}}"
      ]
     },
     "execution_count": 19,
     "metadata": {},
     "output_type": "execute_result"
    }
   ],
   "source": [
    "run.usage"
   ]
  },
  {
   "cell_type": "markdown",
   "id": "bce77a2a",
   "metadata": {},
   "source": [
    "### SHow the stack of messages so far"
   ]
  },
  {
   "cell_type": "code",
   "execution_count": 20,
   "id": "6bf45dd9",
   "metadata": {},
   "outputs": [
    {
     "name": "stdout",
     "output_type": "stream",
     "text": [
      "Message ID: msg_HIdubEb1vJk0OOyH6KUWHDGd, Role: MessageRole.AGENT, Content: [{'type': 'text', 'text': {'value': 'El **Palacio de Bellas Artes** es uno de los edificios más emblemáticos y hermosos de la Ciudad de México. Se encuentra en el centro histórico, junto a la Alameda Central. Su construcción comenzó en 1904 y concluyó en 1934, combinando estilos arquitectónicos art nouveau en el exterior y art déco en el interior.\\n\\nEste palacio es el principal recinto de espectáculos operísticos, teatrales y de danza del país. Es sede de la Orquesta Sinfónica Nacional, la Compañía Nacional de Ópera y el Ballet Folklórico de México. Además, alberga importantes murales de famosos artistas mexicanos como Diego Rivera, David Alfaro Siqueiros y Rufino Tamayo.\\n\\nEl Palacio de Bellas Artes también cuenta con museos dedicados al arte y la arquitectura. Uno de sus elementos más destacados es el telón de cristal, diseñado por Tiffany, que muestra una imagen del Valle de México con sus volcanes. En 1987, fue declarado Patrimonio de la Humanidad por la UNESCO, como parte del Centro Histórico. Es considerado el máximo símbolo cultural de México y un espacio representativo de su riqueza artística.', 'annotations': []}}]\n",
      "Message ID: msg_b54OgxkeKCJYP2if9vOzpwZ9, Role: MessageRole.AGENT, Content: [{'type': 'text', 'text': {'value': 'The **Palacio de Bellas Artes** (Palace of Fine Arts) is one of the most iconic and beautiful buildings in **Mexico City**. Here’s a concise overview:\\n\\n### Architectural Marvel\\n\\n- **Location**: At the western end of the historic center of Mexico City, near Alameda Central park.\\n- **Construction**: Initiated in 1904 and completed in 1934, its construction was delayed by the Mexican Revolution and subsidence issues.\\n- **Architectural Style**: A blend of Art Nouveau (exterior) and Art Deco (interior).\\n- **Exterior**: Distinguished by its dazzling white Italian Carrara marble façade and a spectacular domed roof with orange and yellow colored glass.\\n\\n### Cultural Importance\\n\\n- **National Opera House**: Serves as Mexico’s foremost opera house.\\n- **Performance Venue**: Home to the Ballet Folklórico de México, the National Symphony Orchestra, and other famed ensembles.\\n- **Murals**: Adorned with stunning murals by Diego Rivera, David Alfaro Siqueiros, José Clemente Orozco, and Rufino Tamayo—masters of Mexican muralism.\\n- **Museums**: Houses the Museo del Palacio de Bellas Artes (museum of fine arts) and the National Museum of Architecture on upper floors.\\n\\n### Notable Facts\\n\\n- **UNESCO World Heritage Site**: Part of the Historic Center of Mexico City designation (1987).\\n- **Tiffany Glass Curtain**: Features a one-of-a-kind stage curtain made of crystal glass, depicting the Valley of Mexico and its volcanoes.\\n- **Events**: Hosts concerts, exhibitions, operas, and ballet performances throughout the year.\\n- **Symbol of Culture**: Seen as the “cathedral of art” in Mexico and a symbol of the country’s cultural richness.\\n\\nThe Palacio de Bellas Artes is not only a center for performing arts but also a visual masterpiece and a testament to Mexico’s artistic and architectural heritage.', 'annotations': []}}]\n",
      "Message ID: msg_vZpzyKjFhknUbv1kjMPh3oWe, Role: MessageRole.USER, Content: [{'type': 'text', 'text': {'value': \"Tell me about the 'Palacio de Bellas Artes' in Mexico City.\", 'annotations': []}}]\n"
     ]
    }
   ],
   "source": [
    "messages = project_client.messages.list(thread_id=thread.id)\n",
    "for message in messages:\n",
    "    print(f\"Message ID: {message.id}, Role: {message.role}, Content: {message.content}\")\n",
    "\n"
   ]
  },
  {
   "cell_type": "markdown",
   "id": "b0e97c44",
   "metadata": {},
   "source": [
    "### SHow last message of AGENT 2"
   ]
  },
  {
   "cell_type": "code",
   "execution_count": 21,
   "id": "b7916879",
   "metadata": {},
   "outputs": [
    {
     "name": "stdout",
     "output_type": "stream",
     "text": [
      "Content: [{'type': 'text', 'text': {'value': 'El **Palacio de Bellas Artes** es uno de los edificios más emblemáticos y hermosos de la Ciudad de México. Se encuentra en el centro histórico, junto a la Alameda Central. Su construcción comenzó en 1904 y concluyó en 1934, combinando estilos arquitectónicos art nouveau en el exterior y art déco en el interior.\\n\\nEste palacio es el principal recinto de espectáculos operísticos, teatrales y de danza del país. Es sede de la Orquesta Sinfónica Nacional, la Compañía Nacional de Ópera y el Ballet Folklórico de México. Además, alberga importantes murales de famosos artistas mexicanos como Diego Rivera, David Alfaro Siqueiros y Rufino Tamayo.\\n\\nEl Palacio de Bellas Artes también cuenta con museos dedicados al arte y la arquitectura. Uno de sus elementos más destacados es el telón de cristal, diseñado por Tiffany, que muestra una imagen del Valle de México con sus volcanes. En 1987, fue declarado Patrimonio de la Humanidad por la UNESCO, como parte del Centro Histórico. Es considerado el máximo símbolo cultural de México y un espacio representativo de su riqueza artística.', 'annotations': []}}]\n"
     ]
    }
   ],
   "source": [
    "messages = list(project_client.messages.list(thread_id=thread.id))\n",
    "if messages:\n",
    "    last_message = messages[0]\n",
    "    print(f\"Content: {last_message.content}\")\n",
    "else:\n",
    "    print(\"No messages found.\")"
   ]
  },
  {
   "cell_type": "markdown",
   "id": "e0ec7ca6",
   "metadata": {},
   "source": [
    "### Run AGENT 3"
   ]
  },
  {
   "cell_type": "code",
   "execution_count": 22,
   "id": "cf1be1d9-90c0-43bc-b358-acf62a22ef04",
   "metadata": {},
   "outputs": [
    {
     "name": "stdout",
     "output_type": "stream",
     "text": [
      "Created run, run ID: run_Hr7RXu3e8jeHYiVYicSX8cWL\n"
     ]
    }
   ],
   "source": [
    "    # [START create_run]\n",
    "    run = project_client.runs.create(thread_id=thread.id, agent_id=agent3.id)\n",
    "    # [END create_run]\n",
    "    print(f\"Created run, run ID: {run.id}\")"
   ]
  },
  {
   "cell_type": "markdown",
   "id": "7b04e16e",
   "metadata": {},
   "source": [
    "### Check status of run of AGENT 3"
   ]
  },
  {
   "cell_type": "code",
   "execution_count": 23,
   "id": "c9949669",
   "metadata": {},
   "outputs": [
    {
     "name": "stdout",
     "output_type": "stream",
     "text": [
      "Run status: RunStatus.IN_PROGRESS\n",
      "Run status: RunStatus.IN_PROGRESS\n",
      "Run status: RunStatus.COMPLETED\n"
     ]
    }
   ],
   "source": [
    "    # Poll the run as long as run status is queued or in progress\n",
    "    while run.status in [\"queued\", \"in_progress\", \"requires_action\"]:\n",
    "        # Wait for a second\n",
    "        time.sleep(1)\n",
    "        run = project_client.runs.get(thread_id=thread.id, run_id=run.id)\n",
    "        # [END create_run]\n",
    "        print(f\"Run status: {run.status}\")\n",
    "\n",
    "        if run.status == \"failed\":\n",
    "            print(f\"Run error: {run.last_error}\")"
   ]
  },
  {
   "cell_type": "code",
   "execution_count": 24,
   "id": "3eb368fd",
   "metadata": {},
   "outputs": [
    {
     "data": {
      "text/plain": [
       "{'prompt_tokens': 691, 'completion_tokens': 181, 'total_tokens': 872, 'prompt_token_details': {'cached_tokens': 0}}"
      ]
     },
     "execution_count": 24,
     "metadata": {},
     "output_type": "execute_result"
    }
   ],
   "source": [
    "run.usage"
   ]
  },
  {
   "cell_type": "markdown",
   "id": "bb139d78",
   "metadata": {},
   "source": [
    "### Show the Stack of messages so far"
   ]
  },
  {
   "cell_type": "code",
   "execution_count": 25,
   "id": "9bb6f766",
   "metadata": {},
   "outputs": [
    {
     "name": "stdout",
     "output_type": "stream",
     "text": [
      "Message ID: msg_RaBqDncekNdSbcNpMufK3pqW, Role: MessageRole.AGENT, Content: [{'type': 'text', 'text': {'value': 'Sure! Here’s a version enhanced with emojis:\\n\\nThe **Palacio de Bellas Artes** 🎭🏛️ is an iconic cultural landmark in **Mexico City** 🇲🇽. Located downtown near Alameda Central 🌳, it’s famous for its breathtaking architecture—a blend of **Art Nouveau** ✨ on the outside and **Art Deco** 🌀 on the inside.\\n\\nThe palace is a hub for the arts 🎨 and hosts performances of opera 🎶, ballet 🩰, and concerts. Inside, you’ll find stunning murals by famous Mexican artists such as Diego Rivera and Rufino Tamayo 🖼️. Don’t miss its magnificent Tiffany glass curtain featuring the Valley of Mexico and volcanoes 🌋.\\n\\nRecognized as a **UNESCO World Heritage Site** 🏵️, the Palacio de Bellas Artes is a must-see for anyone visiting Mexico City!', 'annotations': []}}]\n",
      "Message ID: msg_HIdubEb1vJk0OOyH6KUWHDGd, Role: MessageRole.AGENT, Content: [{'type': 'text', 'text': {'value': 'El **Palacio de Bellas Artes** es uno de los edificios más emblemáticos y hermosos de la Ciudad de México. Se encuentra en el centro histórico, junto a la Alameda Central. Su construcción comenzó en 1904 y concluyó en 1934, combinando estilos arquitectónicos art nouveau en el exterior y art déco en el interior.\\n\\nEste palacio es el principal recinto de espectáculos operísticos, teatrales y de danza del país. Es sede de la Orquesta Sinfónica Nacional, la Compañía Nacional de Ópera y el Ballet Folklórico de México. Además, alberga importantes murales de famosos artistas mexicanos como Diego Rivera, David Alfaro Siqueiros y Rufino Tamayo.\\n\\nEl Palacio de Bellas Artes también cuenta con museos dedicados al arte y la arquitectura. Uno de sus elementos más destacados es el telón de cristal, diseñado por Tiffany, que muestra una imagen del Valle de México con sus volcanes. En 1987, fue declarado Patrimonio de la Humanidad por la UNESCO, como parte del Centro Histórico. Es considerado el máximo símbolo cultural de México y un espacio representativo de su riqueza artística.', 'annotations': []}}]\n",
      "Message ID: msg_b54OgxkeKCJYP2if9vOzpwZ9, Role: MessageRole.AGENT, Content: [{'type': 'text', 'text': {'value': 'The **Palacio de Bellas Artes** (Palace of Fine Arts) is one of the most iconic and beautiful buildings in **Mexico City**. Here’s a concise overview:\\n\\n### Architectural Marvel\\n\\n- **Location**: At the western end of the historic center of Mexico City, near Alameda Central park.\\n- **Construction**: Initiated in 1904 and completed in 1934, its construction was delayed by the Mexican Revolution and subsidence issues.\\n- **Architectural Style**: A blend of Art Nouveau (exterior) and Art Deco (interior).\\n- **Exterior**: Distinguished by its dazzling white Italian Carrara marble façade and a spectacular domed roof with orange and yellow colored glass.\\n\\n### Cultural Importance\\n\\n- **National Opera House**: Serves as Mexico’s foremost opera house.\\n- **Performance Venue**: Home to the Ballet Folklórico de México, the National Symphony Orchestra, and other famed ensembles.\\n- **Murals**: Adorned with stunning murals by Diego Rivera, David Alfaro Siqueiros, José Clemente Orozco, and Rufino Tamayo—masters of Mexican muralism.\\n- **Museums**: Houses the Museo del Palacio de Bellas Artes (museum of fine arts) and the National Museum of Architecture on upper floors.\\n\\n### Notable Facts\\n\\n- **UNESCO World Heritage Site**: Part of the Historic Center of Mexico City designation (1987).\\n- **Tiffany Glass Curtain**: Features a one-of-a-kind stage curtain made of crystal glass, depicting the Valley of Mexico and its volcanoes.\\n- **Events**: Hosts concerts, exhibitions, operas, and ballet performances throughout the year.\\n- **Symbol of Culture**: Seen as the “cathedral of art” in Mexico and a symbol of the country’s cultural richness.\\n\\nThe Palacio de Bellas Artes is not only a center for performing arts but also a visual masterpiece and a testament to Mexico’s artistic and architectural heritage.', 'annotations': []}}]\n",
      "Message ID: msg_vZpzyKjFhknUbv1kjMPh3oWe, Role: MessageRole.USER, Content: [{'type': 'text', 'text': {'value': \"Tell me about the 'Palacio de Bellas Artes' in Mexico City.\", 'annotations': []}}]\n"
     ]
    }
   ],
   "source": [
    "messages = project_client.messages.list(thread_id=thread.id)\n",
    "for message in messages:\n",
    "    print(f\"Message ID: {message.id}, Role: {message.role}, Content: {message.content}\")"
   ]
  },
  {
   "cell_type": "markdown",
   "id": "3b602a44",
   "metadata": {},
   "source": [
    "### Print last message of AGENT 3"
   ]
  },
  {
   "cell_type": "code",
   "execution_count": 26,
   "id": "f3038d90-2f0b-46a7-bf98-5c1dcf836288",
   "metadata": {},
   "outputs": [
    {
     "name": "stdout",
     "output_type": "stream",
     "text": [
      "Content: [{'type': 'text', 'text': {'value': 'Sure! Here’s a version enhanced with emojis:\\n\\nThe **Palacio de Bellas Artes** 🎭🏛️ is an iconic cultural landmark in **Mexico City** 🇲🇽. Located downtown near Alameda Central 🌳, it’s famous for its breathtaking architecture—a blend of **Art Nouveau** ✨ on the outside and **Art Deco** 🌀 on the inside.\\n\\nThe palace is a hub for the arts 🎨 and hosts performances of opera 🎶, ballet 🩰, and concerts. Inside, you’ll find stunning murals by famous Mexican artists such as Diego Rivera and Rufino Tamayo 🖼️. Don’t miss its magnificent Tiffany glass curtain featuring the Valley of Mexico and volcanoes 🌋.\\n\\nRecognized as a **UNESCO World Heritage Site** 🏵️, the Palacio de Bellas Artes is a must-see for anyone visiting Mexico City!', 'annotations': []}}]\n"
     ]
    }
   ],
   "source": [
    "messages = list(project_client.messages.list(thread_id=thread.id))\n",
    "\n",
    "last_message = messages[0]\n",
    "print(f\"Content: {last_message.content}\")\n",
    "\n",
    "\n"
   ]
  },
  {
   "cell_type": "markdown",
   "id": "2fdf7d2e-f323-4af1-83cc-79ac906ea5e6",
   "metadata": {},
   "source": [
    "## Post processing"
   ]
  },
  {
   "cell_type": "code",
   "execution_count": 33,
   "id": "7677cdb0-a49f-428b-8196-6d4a758331f4",
   "metadata": {},
   "outputs": [
    {
     "name": "stdout",
     "output_type": "stream",
     "text": [
      "Listing all agents in the project:\n"
     ]
    }
   ],
   "source": [
    "# List all agents in the project\n",
    "print(\"Listing all agents in the project:\")\n",
    "agents = project_client.list_agents()\n",
    "for agent in agents:\n",
    "    print(f\"Agent ID: {agent.id}, Name: {agent.name}, Model: {agent.model}, Instructions: {agent.instructions}\")"
   ]
  },
  {
   "cell_type": "code",
   "execution_count": 31,
   "id": "51380910",
   "metadata": {},
   "outputs": [],
   "source": [
    "# recurse through all agents and delete them adding a test to stop if the agent is not found\n",
    "for agent in project_client.list_agents():\n",
    "    try:\n",
    "        print(f\"Deleting agent ID: {agent.id}, Name: {agent.name}\")\n",
    "        project_client.delete_agent(agent.id)\n",
    "    except Exception as e:\n",
    "        print(f\"Error deleting agent ID: {agent.id}, Name: {agent.name}, Error: {e}\")\n",
    "        break"
   ]
  },
  {
   "cell_type": "code",
   "execution_count": 32,
   "id": "6e9b634f",
   "metadata": {},
   "outputs": [],
   "source": [
    "agents = project_client.list_agents()\n",
    "for agent in agents:\n",
    "    print(f\"Agent ID: {agent.id}, Name: {agent.name}, Model: {agent.model}, Instructions: {agent.instructions}\")"
   ]
  }
 ],
 "metadata": {
  "kernelspec": {
   "display_name": ".venv",
   "language": "python",
   "name": "python3"
  },
  "language_info": {
   "codemirror_mode": {
    "name": "ipython",
    "version": 3
   },
   "file_extension": ".py",
   "mimetype": "text/x-python",
   "name": "python",
   "nbconvert_exporter": "python",
   "pygments_lexer": "ipython3",
   "version": "3.13.4"
  },
  "varInspector": {
   "cols": {
    "lenName": 16,
    "lenType": 16,
    "lenVar": 40
   },
   "kernels_config": {
    "python": {
     "delete_cmd_postfix": "",
     "delete_cmd_prefix": "del ",
     "library": "var_list.py",
     "varRefreshCmd": "print(var_dic_list())"
    },
    "r": {
     "delete_cmd_postfix": ") ",
     "delete_cmd_prefix": "rm(",
     "library": "var_list.r",
     "varRefreshCmd": "cat(var_dic_list()) "
    }
   },
   "types_to_exclude": [
    "module",
    "function",
    "builtin_function_or_method",
    "instance",
    "_Feature"
   ],
   "window_display": false
  }
 },
 "nbformat": 4,
 "nbformat_minor": 5
}
