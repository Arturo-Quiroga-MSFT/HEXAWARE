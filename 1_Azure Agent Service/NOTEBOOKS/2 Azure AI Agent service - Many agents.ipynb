{
 "cells": [
  {
   "cell_type": "markdown",
   "id": "431cc026-279f-4105-8444-f1b93650da0d",
   "metadata": {},
   "source": [
    "# Azure AI Agent service - Many agents\n",
    "\n",
    "<img src=\"https://learn.microsoft.com/en-us/azure/ai-services/agents/media/agent-service-the-glue.png\" width=800>\n",
    "\n",
    "> https://learn.microsoft.com/en-us/azure/ai-services/agents/"
   ]
  },
  {
   "cell_type": "code",
   "execution_count": 1,
   "id": "7a3e72d0-7521-438c-928d-5fa293b0f419",
   "metadata": {},
   "outputs": [],
   "source": [
    "import json\n",
    "import os\n",
    "import sys\n",
    "import time\n",
    "\n",
    "from azure.ai.agents import AgentsClient\n",
    "from azure.ai.agents.models import ListSortOrder\n",
    "from azure.identity import DefaultAzureCredential\n",
    "from datetime import datetime, timezone, timedelta\n",
    "from dotenv import load_dotenv\n",
    "from openai import AzureOpenAI"
   ]
  },
  {
   "cell_type": "code",
   "execution_count": 2,
   "id": "65334de7-4005-401a-89c1-be24f75abbd9",
   "metadata": {},
   "outputs": [
    {
     "data": {
      "text/plain": [
       "True"
      ]
     },
     "execution_count": 2,
     "metadata": {},
     "output_type": "execute_result"
    }
   ],
   "source": [
    "load_dotenv()"
   ]
  },
  {
   "cell_type": "code",
   "execution_count": 3,
   "id": "8628712a-0d10-4351-8993-b4c3243f83be",
   "metadata": {},
   "outputs": [
    {
     "data": {
      "text/plain": [
       "'3.13.5 (main, Jun 11 2025, 15:36:57) [Clang 17.0.0 (clang-1700.0.13.3)]'"
      ]
     },
     "execution_count": 3,
     "metadata": {},
     "output_type": "execute_result"
    }
   ],
   "source": [
    "sys.version"
   ]
  },
  {
   "cell_type": "markdown",
   "id": "cc2c1d28-e366-442e-a186-81239ec337ec",
   "metadata": {},
   "source": [
    "## Create connection to AI Foundry Project & instantiate a project client"
   ]
  },
  {
   "cell_type": "code",
   "execution_count": 4,
   "id": "76c7bbb7-0faa-4500-ba42-7c5b176f6196",
   "metadata": {},
   "outputs": [
    {
     "name": "stdout",
     "output_type": "stream",
     "text": [
      "Using endpoint: https://aq-ai-foundry-sweden-central.services.ai.azure.com/api/projects/firstProject\n"
     ]
    }
   ],
   "source": [
    "endpoint = os.getenv(\"PROJECT_ENDPOINT\")\n",
    "print(f\"Using endpoint: {endpoint}\")\n",
    "credential = DefaultAzureCredential()\n",
    "\n",
    "project_client = AgentsClient(endpoint=endpoint, credential=credential)"
   ]
  },
  {
   "cell_type": "markdown",
   "id": "1fecdb26",
   "metadata": {},
   "source": [
    "## Instantiate AGENT 1 (Q&A)"
   ]
  },
  {
   "cell_type": "code",
   "execution_count": 5,
   "id": "8bec0fdf-bfdb-4d72-8cc0-d02b8eb79b59",
   "metadata": {},
   "outputs": [
    {
     "name": "stdout",
     "output_type": "stream",
     "text": [
      "Created agent, agent ID: asst_NUS2Pmu4JmryG0qB6y8JFhwx\n"
     ]
    }
   ],
   "source": [
    "\n",
    "\n",
    "agent1 = project_client.create_agent(\n",
    "    model=os.environ[\"MODEL_DEPLOYMENT_NAME\"],\n",
    "    name=\"Q&A\",\n",
    "    instructions=\"You are an AI agent.\",\n",
    ")\n",
    "print(f\"Created agent, agent ID: {agent1.id}\")"
   ]
  },
  {
   "cell_type": "markdown",
   "id": "d2304eb6",
   "metadata": {},
   "source": [
    "## Instantiate AGENT 2 (Translator)"
   ]
  },
  {
   "cell_type": "code",
   "execution_count": 6,
   "id": "06dfa418-7b00-4450-8d0e-d32c90b24cc5",
   "metadata": {},
   "outputs": [
    {
     "name": "stdout",
     "output_type": "stream",
     "text": [
      "Created agent, agent ID: asst_nfJGxv9YcWvNrRrX7pJi2ICI\n"
     ]
    }
   ],
   "source": [
    "\n",
    "\n",
    "agent2 = project_client.create_agent(\n",
    "    model=os.environ[\"MODEL_DEPLOYMENT_NAME\"],\n",
    "    name=\"Translator\",\n",
    "    instructions=\"You are an AI agent that translates English into Spanish.\",\n",
    ")\n",
    "print(f\"Created agent, agent ID: {agent2.id}\")"
   ]
  },
  {
   "cell_type": "markdown",
   "id": "aeb51377",
   "metadata": {},
   "source": [
    "## Instantiate AGENT 3 (Emojis creator)"
   ]
  },
  {
   "cell_type": "code",
   "execution_count": 7,
   "id": "bd4b89b4-fe75-48b8-acc8-17d3adf721cf",
   "metadata": {},
   "outputs": [
    {
     "name": "stdout",
     "output_type": "stream",
     "text": [
      "Created agent, agent ID: asst_TCuM1RYCpbKi5PwMU2CqO32z\n"
     ]
    }
   ],
   "source": [
    "\n",
    "\n",
    "agent3 = project_client.create_agent(\n",
    "    model=os.environ[\"MODEL_DEPLOYMENT_NAME\"],\n",
    "    name=\"Emojis\",\n",
    "    instructions=\"You are an AI agent that add emojis to a text\",\n",
    ")\n",
    "print(f\"Created agent, agent ID: {agent3.id}\")\n"
   ]
  },
  {
   "cell_type": "markdown",
   "id": "e8815044",
   "metadata": {},
   "source": [
    "### Show all agents"
   ]
  },
  {
   "cell_type": "code",
   "execution_count": 8,
   "id": "1b446cc0",
   "metadata": {},
   "outputs": [
    {
     "name": "stdout",
     "output_type": "stream",
     "text": [
      "{'id': 'asst_NUS2Pmu4JmryG0qB6y8JFhwx', 'object': 'assistant', 'created_at': 1750172876, 'name': 'Q&A', 'description': None, 'model': 'gpt-4.1', 'instructions': 'You are an AI agent.', 'tools': [], 'top_p': 1.0, 'temperature': 1.0, 'tool_resources': {}, 'metadata': {}, 'response_format': 'auto'}\n",
      "{'id': 'asst_nfJGxv9YcWvNrRrX7pJi2ICI', 'object': 'assistant', 'created_at': 1750172877, 'name': 'Translator', 'description': None, 'model': 'gpt-4.1', 'instructions': 'You are an AI agent that translates English into Spanish.', 'tools': [], 'top_p': 1.0, 'temperature': 1.0, 'tool_resources': {}, 'metadata': {}, 'response_format': 'auto'}\n",
      "{'id': 'asst_TCuM1RYCpbKi5PwMU2CqO32z', 'object': 'assistant', 'created_at': 1750172877, 'name': 'Emojis', 'description': None, 'model': 'gpt-4.1', 'instructions': 'You are an AI agent that add emojis to a text', 'tools': [], 'top_p': 1.0, 'temperature': 1.0, 'tool_resources': {}, 'metadata': {}, 'response_format': 'auto'}\n"
     ]
    }
   ],
   "source": [
    "print(agent1)\n",
    "print(agent2)\n",
    "print(agent3)\n"
   ]
  },
  {
   "cell_type": "markdown",
   "id": "7ffa36d2",
   "metadata": {},
   "source": [
    "### Create a thread for AGENT 1"
   ]
  },
  {
   "cell_type": "code",
   "execution_count": 9,
   "id": "5b4a3453-e9ce-4208-a0e5-6c201939d238",
   "metadata": {},
   "outputs": [
    {
     "name": "stdout",
     "output_type": "stream",
     "text": [
      "Created thread, thread ID: thread_PHLqPVg3VROKOUxWz1xWZO4Y\n"
     ]
    }
   ],
   "source": [
    "# [START create_thread]\n",
    "thread = project_client.threads.create()\n",
    "# [END create_thread]\n",
    "print(f\"Created thread, thread ID: {thread.id}\")"
   ]
  },
  {
   "cell_type": "markdown",
   "id": "278d3c15",
   "metadata": {},
   "source": [
    "### Create a message for AGENT 1"
   ]
  },
  {
   "cell_type": "code",
   "execution_count": 10,
   "id": "35131134-b241-4721-a673-fb6cd240ed03",
   "metadata": {},
   "outputs": [
    {
     "name": "stdout",
     "output_type": "stream",
     "text": [
      "Created message, message ID: msg_FvGRbAOTEdcCQzqsvUGsKRUq\n"
     ]
    }
   ],
   "source": [
    "\n",
    "# [START create_message]\n",
    "message = project_client.messages.create(thread_id=thread.id, role=\"user\", content=\"Tell me about the 'Palacio de Bellas Artes' in Mexico City.\")\n",
    "# [END create_message]\n",
    "print(f\"Created message, message ID: {message.id}\")"
   ]
  },
  {
   "cell_type": "markdown",
   "id": "03405dc2",
   "metadata": {},
   "source": [
    "### Run AGENT 1"
   ]
  },
  {
   "cell_type": "code",
   "execution_count": 11,
   "id": "70fcd807-ac0f-4253-9122-1a96f3419f71",
   "metadata": {},
   "outputs": [
    {
     "name": "stdout",
     "output_type": "stream",
     "text": [
      "Created run, run ID: run_hroJHQUB5EK1BfpBIonyvnNq\n"
     ]
    }
   ],
   "source": [
    "# [START create_run]\n",
    "run = project_client.runs.create(thread_id=thread.id, agent_id=agent1.id)\n",
    "# [END create_run]\n",
    "print(f\"Created run, run ID: {run.id}\")\n"
   ]
  },
  {
   "cell_type": "markdown",
   "id": "0c90bae5",
   "metadata": {},
   "source": [
    "### Check status of run for AGENT 1"
   ]
  },
  {
   "cell_type": "code",
   "execution_count": 12,
   "id": "f21ef94e-22d1-4945-9886-be4dbefdca8e",
   "metadata": {},
   "outputs": [
    {
     "name": "stdout",
     "output_type": "stream",
     "text": [
      "Run status: RunStatus.IN_PROGRESS\n",
      "Run status: RunStatus.IN_PROGRESS\n",
      "Run status: RunStatus.IN_PROGRESS\n",
      "Run status: RunStatus.IN_PROGRESS\n",
      "Run status: RunStatus.COMPLETED\n"
     ]
    }
   ],
   "source": [
    "# Poll the run as long as run status is queued or in progress\n",
    "while run.status in [\"queued\", \"in_progress\", \"requires_action\"]:\n",
    "    # Wait for a second\n",
    "    time.sleep(1)\n",
    "    run = project_client.runs.get(thread_id=thread.id, run_id=run.id)\n",
    "    # [END create_run]\n",
    "    print(f\"Run status: {run.status}\")\n",
    "\n",
    "    if run.status == \"failed\":\n",
    "        print(f\"Run error: {run.last_error}\")"
   ]
  },
  {
   "cell_type": "markdown",
   "id": "b4e93ea3",
   "metadata": {},
   "source": [
    "### Show usage (tokens)"
   ]
  },
  {
   "cell_type": "code",
   "execution_count": 13,
   "id": "14ed4d5d",
   "metadata": {},
   "outputs": [
    {
     "data": {
      "text/plain": [
       "{'prompt_tokens': 41, 'completion_tokens': 422, 'total_tokens': 463, 'prompt_token_details': {'cached_tokens': 0}}"
      ]
     },
     "execution_count": 13,
     "metadata": {},
     "output_type": "execute_result"
    }
   ],
   "source": [
    "run.usage"
   ]
  },
  {
   "cell_type": "markdown",
   "id": "4038cc39",
   "metadata": {},
   "source": [
    "### Show me the stack of messages so far"
   ]
  },
  {
   "cell_type": "code",
   "execution_count": 14,
   "id": "d91b94fc",
   "metadata": {},
   "outputs": [
    {
     "name": "stdout",
     "output_type": "stream",
     "text": [
      "Message ID: msg_TrE97IBTaTBKT9Yb6acgSPYt, Role: MessageRole.AGENT, Content: [{'type': 'text', 'text': {'value': 'The **Palacio de Bellas Artes** (Palace of Fine Arts) is one of the most iconic cultural landmarks in **Mexico City**, renowned for its stunning architecture and deep artistic significance.\\n\\n### History & Construction\\n- **Construction** began in 1904 under the direction of Italian architect *Adamo Boari*, who envisioned a grand palace combining European styles.\\n- The project was plagued by delays (notably the Mexican Revolution and unstable soil), and was finally completed in **1934** by Mexican architect *Federico Mariscal*.\\n\\n### Architecture\\n- **Exterior:** The building features an impressive *neoclassical* and *Art Nouveau* façade clad in white Italian marble.\\n- **Interior:** Inside, it showcases an *Art Deco* style with Mexican motifs, elaborate details, and beautiful murals by celebrated artists such as **Diego Rivera**, **David Alfaro Siqueiros**, and **Rufino Tamayo**.\\n- The palace is crowned with a spectacular **stained glass dome** featuring vibrant orange, yellow, and green hues.\\n- The main theater houses a remarkable **Tiffany glass stage curtain** depicting the Valley of Mexico.\\n\\n### Cultural Importance\\n- The Palacio de Bellas Artes is **Mexico’s leading performance venue**, hosting the *National Symphony Orchestra*, *National Opera*, and *National Dance Company*.\\n- It is famed for performances by the **Ballet Folklórico de México**, which showcases traditional Mexican dance and music.\\n- The building houses the **Museo del Palacio de Bellas Artes** on its upper floors, featuring rotating art exhibitions.\\n- It represents the artistic and national identity of Mexico and was declared a UNESCO World Heritage Site in 1987 as part of the city’s historic center.\\n\\n### Visiting\\n- Located near the *Alameda Central* park in downtown Mexico City, it is accessible and a must-see attraction for visitors interested in art, architecture, and Mexican culture.\\n\\n**Fun Fact:** The Palacio de Bellas Artes has been called the \"Cathedral of Art in Mexico\" due to its significance and majestic presence.', 'annotations': []}}]\n",
      "Message ID: msg_FvGRbAOTEdcCQzqsvUGsKRUq, Role: MessageRole.USER, Content: [{'type': 'text', 'text': {'value': \"Tell me about the 'Palacio de Bellas Artes' in Mexico City.\", 'annotations': []}}]\n"
     ]
    }
   ],
   "source": [
    "messages = project_client.messages.list(thread_id=thread.id)\n",
    "for message in messages:\n",
    "    print(f\"Message ID: {message.id}, Role: {message.role}, Content: {message.content}\")\n",
    "\n",
    "\n",
    "\n"
   ]
  },
  {
   "cell_type": "markdown",
   "id": "20aa0873",
   "metadata": {},
   "source": [
    "### Show last message of AGENT 1"
   ]
  },
  {
   "cell_type": "code",
   "execution_count": 15,
   "id": "868c132d",
   "metadata": {},
   "outputs": [
    {
     "name": "stdout",
     "output_type": "stream",
     "text": [
      "Content: [{'type': 'text', 'text': {'value': 'The **Palacio de Bellas Artes** (Palace of Fine Arts) is one of the most iconic cultural landmarks in **Mexico City**, renowned for its stunning architecture and deep artistic significance.\\n\\n### History & Construction\\n- **Construction** began in 1904 under the direction of Italian architect *Adamo Boari*, who envisioned a grand palace combining European styles.\\n- The project was plagued by delays (notably the Mexican Revolution and unstable soil), and was finally completed in **1934** by Mexican architect *Federico Mariscal*.\\n\\n### Architecture\\n- **Exterior:** The building features an impressive *neoclassical* and *Art Nouveau* façade clad in white Italian marble.\\n- **Interior:** Inside, it showcases an *Art Deco* style with Mexican motifs, elaborate details, and beautiful murals by celebrated artists such as **Diego Rivera**, **David Alfaro Siqueiros**, and **Rufino Tamayo**.\\n- The palace is crowned with a spectacular **stained glass dome** featuring vibrant orange, yellow, and green hues.\\n- The main theater houses a remarkable **Tiffany glass stage curtain** depicting the Valley of Mexico.\\n\\n### Cultural Importance\\n- The Palacio de Bellas Artes is **Mexico’s leading performance venue**, hosting the *National Symphony Orchestra*, *National Opera*, and *National Dance Company*.\\n- It is famed for performances by the **Ballet Folklórico de México**, which showcases traditional Mexican dance and music.\\n- The building houses the **Museo del Palacio de Bellas Artes** on its upper floors, featuring rotating art exhibitions.\\n- It represents the artistic and national identity of Mexico and was declared a UNESCO World Heritage Site in 1987 as part of the city’s historic center.\\n\\n### Visiting\\n- Located near the *Alameda Central* park in downtown Mexico City, it is accessible and a must-see attraction for visitors interested in art, architecture, and Mexican culture.\\n\\n**Fun Fact:** The Palacio de Bellas Artes has been called the \"Cathedral of Art in Mexico\" due to its significance and majestic presence.', 'annotations': []}}]\n"
     ]
    }
   ],
   "source": [
    "messages = list(project_client.messages.list(thread_id=thread.id))\n",
    "if messages:\n",
    "    last_message = messages[0]\n",
    "    print(f\"Content: {last_message.content}\")\n",
    "else:\n",
    "    print(\"No messages found.\")"
   ]
  },
  {
   "cell_type": "markdown",
   "id": "8eab8fa5",
   "metadata": {},
   "source": [
    "### SHow bottom of stack of messages"
   ]
  },
  {
   "cell_type": "code",
   "execution_count": 16,
   "id": "9d9d8511",
   "metadata": {},
   "outputs": [
    {
     "name": "stdout",
     "output_type": "stream",
     "text": [
      "Content: [{'type': 'text', 'text': {'value': \"Tell me about the 'Palacio de Bellas Artes' in Mexico City.\", 'annotations': []}}]\n"
     ]
    }
   ],
   "source": [
    "if messages:\n",
    "    last_message = messages[-1]\n",
    "    print(f\"Content: {last_message.content}\")\n",
    "else:\n",
    "    print(\"No messages found.\")"
   ]
  },
  {
   "cell_type": "markdown",
   "id": "df0644dc",
   "metadata": {},
   "source": [
    "### Run AGENT 2"
   ]
  },
  {
   "cell_type": "code",
   "execution_count": 17,
   "id": "53895c1e-9e41-4003-bd80-f166e65001db",
   "metadata": {},
   "outputs": [
    {
     "name": "stdout",
     "output_type": "stream",
     "text": [
      "Created run, run ID: run_6VdZ5vSBcnqJMLryjGUuk7Mb\n"
     ]
    }
   ],
   "source": [
    "# [START create_run]\n",
    "run = project_client.runs.create(thread_id=thread.id, agent_id=agent2.id)\n",
    "# [END create_run]\n",
    "print(f\"Created run, run ID: {run.id}\")"
   ]
  },
  {
   "cell_type": "markdown",
   "id": "46f16d71",
   "metadata": {},
   "source": [
    "### Check Status of the run for AGENT 2"
   ]
  },
  {
   "cell_type": "code",
   "execution_count": 19,
   "id": "6491e32c",
   "metadata": {},
   "outputs": [
    {
     "name": "stdout",
     "output_type": "stream",
     "text": [
      "Run status: RunStatus.COMPLETED\n"
     ]
    }
   ],
   "source": [
    "# Poll the run as long as run status is queued or in progress\n",
    "while run.status in [\"queued\", \"in_progress\", \"requires_action\"]:\n",
    "    # Wait for a second\n",
    "    time.sleep(1)\n",
    "    run = project_client.runs.get(thread_id=thread.id, run_id=run.id)\n",
    "    # [END create_run]\n",
    "    print(f\"Run status: {run.status}\")\n",
    "\n",
    "    if run.status == \"failed\":\n",
    "        print(f\"Run error: {run.last_error}\")"
   ]
  },
  {
   "cell_type": "code",
   "execution_count": 20,
   "id": "6b0c9d00",
   "metadata": {},
   "outputs": [
    {
     "data": {
      "text/plain": [
       "{'prompt_tokens': 470, 'completion_tokens': 243, 'total_tokens': 713, 'prompt_token_details': {'cached_tokens': 0}}"
      ]
     },
     "execution_count": 20,
     "metadata": {},
     "output_type": "execute_result"
    }
   ],
   "source": [
    "run.usage"
   ]
  },
  {
   "cell_type": "markdown",
   "id": "bce77a2a",
   "metadata": {},
   "source": [
    "### SHow the stack of messages so far"
   ]
  },
  {
   "cell_type": "code",
   "execution_count": 21,
   "id": "6bf45dd9",
   "metadata": {},
   "outputs": [
    {
     "name": "stdout",
     "output_type": "stream",
     "text": [
      "Message ID: msg_6DPtYm0rGgwE0qXhFoigX441, Role: MessageRole.AGENT, Content: [{'type': 'text', 'text': {'value': 'El **Palacio de Bellas Artes** es uno de los edificios más emblemáticos de la Ciudad de México y un importante centro cultural. Su construcción comenzó en 1904 y fue concluida en 1934. El palacio destaca por su impresionante arquitectura, que combina los estilos Art Nouveau en el exterior y Art Decó en el interior. Está cubierto de mármol blanco y su cúpula colorida es uno de los referentes visuales de la ciudad.\\n\\nEn el interior, el palacio alberga murales de artistas reconocidos como Diego Rivera, David Alfaro Siqueiros y Rufino Tamayo. También cuenta con un telón de cristal realizado por Tiffany & Co., que representa el Valle de México.\\n\\nEl Palacio de Bellas Artes es sede de la Ópera Nacional, el Ballet Folklórico de México y la Orquesta Sinfónica Nacional. Además, acoge exposiciones de arte, conciertos, obras de teatro y otros eventos culturales de gran relevancia.\\n\\nUbicado en el centro histórico, junto a la Alameda Central, el Palacio de Bellas Artes es considerado un símbolo nacional y fue declarado Patrimonio de la Humanidad por la UNESCO en 1987.', 'annotations': []}}]\n",
      "Message ID: msg_TrE97IBTaTBKT9Yb6acgSPYt, Role: MessageRole.AGENT, Content: [{'type': 'text', 'text': {'value': 'The **Palacio de Bellas Artes** (Palace of Fine Arts) is one of the most iconic cultural landmarks in **Mexico City**, renowned for its stunning architecture and deep artistic significance.\\n\\n### History & Construction\\n- **Construction** began in 1904 under the direction of Italian architect *Adamo Boari*, who envisioned a grand palace combining European styles.\\n- The project was plagued by delays (notably the Mexican Revolution and unstable soil), and was finally completed in **1934** by Mexican architect *Federico Mariscal*.\\n\\n### Architecture\\n- **Exterior:** The building features an impressive *neoclassical* and *Art Nouveau* façade clad in white Italian marble.\\n- **Interior:** Inside, it showcases an *Art Deco* style with Mexican motifs, elaborate details, and beautiful murals by celebrated artists such as **Diego Rivera**, **David Alfaro Siqueiros**, and **Rufino Tamayo**.\\n- The palace is crowned with a spectacular **stained glass dome** featuring vibrant orange, yellow, and green hues.\\n- The main theater houses a remarkable **Tiffany glass stage curtain** depicting the Valley of Mexico.\\n\\n### Cultural Importance\\n- The Palacio de Bellas Artes is **Mexico’s leading performance venue**, hosting the *National Symphony Orchestra*, *National Opera*, and *National Dance Company*.\\n- It is famed for performances by the **Ballet Folklórico de México**, which showcases traditional Mexican dance and music.\\n- The building houses the **Museo del Palacio de Bellas Artes** on its upper floors, featuring rotating art exhibitions.\\n- It represents the artistic and national identity of Mexico and was declared a UNESCO World Heritage Site in 1987 as part of the city’s historic center.\\n\\n### Visiting\\n- Located near the *Alameda Central* park in downtown Mexico City, it is accessible and a must-see attraction for visitors interested in art, architecture, and Mexican culture.\\n\\n**Fun Fact:** The Palacio de Bellas Artes has been called the \"Cathedral of Art in Mexico\" due to its significance and majestic presence.', 'annotations': []}}]\n",
      "Message ID: msg_FvGRbAOTEdcCQzqsvUGsKRUq, Role: MessageRole.USER, Content: [{'type': 'text', 'text': {'value': \"Tell me about the 'Palacio de Bellas Artes' in Mexico City.\", 'annotations': []}}]\n"
     ]
    }
   ],
   "source": [
    "messages = project_client.messages.list(thread_id=thread.id)\n",
    "for message in messages:\n",
    "    print(f\"Message ID: {message.id}, Role: {message.role}, Content: {message.content}\")\n",
    "\n"
   ]
  },
  {
   "cell_type": "markdown",
   "id": "b0e97c44",
   "metadata": {},
   "source": [
    "### SHow last message of AGENT 2"
   ]
  },
  {
   "cell_type": "code",
   "execution_count": 22,
   "id": "b7916879",
   "metadata": {},
   "outputs": [
    {
     "name": "stdout",
     "output_type": "stream",
     "text": [
      "Content: [{'type': 'text', 'text': {'value': 'El **Palacio de Bellas Artes** es uno de los edificios más emblemáticos de la Ciudad de México y un importante centro cultural. Su construcción comenzó en 1904 y fue concluida en 1934. El palacio destaca por su impresionante arquitectura, que combina los estilos Art Nouveau en el exterior y Art Decó en el interior. Está cubierto de mármol blanco y su cúpula colorida es uno de los referentes visuales de la ciudad.\\n\\nEn el interior, el palacio alberga murales de artistas reconocidos como Diego Rivera, David Alfaro Siqueiros y Rufino Tamayo. También cuenta con un telón de cristal realizado por Tiffany & Co., que representa el Valle de México.\\n\\nEl Palacio de Bellas Artes es sede de la Ópera Nacional, el Ballet Folklórico de México y la Orquesta Sinfónica Nacional. Además, acoge exposiciones de arte, conciertos, obras de teatro y otros eventos culturales de gran relevancia.\\n\\nUbicado en el centro histórico, junto a la Alameda Central, el Palacio de Bellas Artes es considerado un símbolo nacional y fue declarado Patrimonio de la Humanidad por la UNESCO en 1987.', 'annotations': []}}]\n"
     ]
    }
   ],
   "source": [
    "messages = list(project_client.messages.list(thread_id=thread.id))\n",
    "if messages:\n",
    "    last_message = messages[0]\n",
    "    print(f\"Content: {last_message.content}\")\n",
    "else:\n",
    "    print(\"No messages found.\")"
   ]
  },
  {
   "cell_type": "markdown",
   "id": "e0ec7ca6",
   "metadata": {},
   "source": [
    "### Run AGENT 3"
   ]
  },
  {
   "cell_type": "code",
   "execution_count": 23,
   "id": "cf1be1d9-90c0-43bc-b358-acf62a22ef04",
   "metadata": {},
   "outputs": [
    {
     "name": "stdout",
     "output_type": "stream",
     "text": [
      "Created run, run ID: run_VaomWxeamQc1W50PF0vouTWG\n"
     ]
    }
   ],
   "source": [
    "# [START create_run]\n",
    "run = project_client.runs.create(thread_id=thread.id, agent_id=agent3.id)\n",
    " # [END create_run]\n",
    "print(f\"Created run, run ID: {run.id}\")"
   ]
  },
  {
   "cell_type": "markdown",
   "id": "7b04e16e",
   "metadata": {},
   "source": [
    "### Check status of run of AGENT 3"
   ]
  },
  {
   "cell_type": "code",
   "execution_count": 24,
   "id": "c9949669",
   "metadata": {},
   "outputs": [
    {
     "name": "stdout",
     "output_type": "stream",
     "text": [
      "Run status: RunStatus.IN_PROGRESS\n",
      "Run status: RunStatus.COMPLETED\n"
     ]
    }
   ],
   "source": [
    "# Poll the run as long as run status is queued or in progress\n",
    "while run.status in [\"queued\", \"in_progress\", \"requires_action\"]:\n",
    "    # Wait for a second\n",
    "    time.sleep(1)\n",
    "    run = project_client.runs.get(thread_id=thread.id, run_id=run.id)\n",
    "    # [END create_run]\n",
    "    print(f\"Run status: {run.status}\")\n",
    "\n",
    "    if run.status == \"failed\":\n",
    "        print(f\"Run error: {run.last_error}\")"
   ]
  },
  {
   "cell_type": "code",
   "execution_count": 25,
   "id": "3eb368fd",
   "metadata": {},
   "outputs": [
    {
     "data": {
      "text/plain": [
       "{'prompt_tokens': 715, 'completion_tokens': 161, 'total_tokens': 876, 'prompt_token_details': {'cached_tokens': 0}}"
      ]
     },
     "execution_count": 25,
     "metadata": {},
     "output_type": "execute_result"
    }
   ],
   "source": [
    "run.usage"
   ]
  },
  {
   "cell_type": "markdown",
   "id": "bb139d78",
   "metadata": {},
   "source": [
    "### Show the Stack of messages so far"
   ]
  },
  {
   "cell_type": "code",
   "execution_count": 26,
   "id": "9bb6f766",
   "metadata": {},
   "outputs": [
    {
     "name": "stdout",
     "output_type": "stream",
     "text": [
      "Message ID: msg_MEnsmHiNzsQ9mRo8MKyEcQNK, Role: MessageRole.AGENT, Content: [{'type': 'text', 'text': {'value': 'Of course! Here’s a version with emojis:\\n\\nThe **Palacio de Bellas Artes** 🎭🏛️ is one of the most iconic landmarks in **Mexico City** 🇲🇽. Known for its stunning architecture, it combines Art Nouveau 🦋 and Art Deco ✨ styles. The building features a beautiful marble façade 🤍 and a magnificent stained-glass dome 🌈.  \\n\\nInside, you’ll find impressive murals 🎨 by famous Mexican artists like **Diego Rivera** and **David Alfaro Siqueiros**. The palace hosts opera 🎶, ballet 🩰, and various cultural events, making it a vibrant center for the arts.  \\n\\nLocated by the Alameda Central park 🌳, it’s a must-visit spot for anyone exploring the city!', 'annotations': []}}]\n",
      "Message ID: msg_6DPtYm0rGgwE0qXhFoigX441, Role: MessageRole.AGENT, Content: [{'type': 'text', 'text': {'value': 'El **Palacio de Bellas Artes** es uno de los edificios más emblemáticos de la Ciudad de México y un importante centro cultural. Su construcción comenzó en 1904 y fue concluida en 1934. El palacio destaca por su impresionante arquitectura, que combina los estilos Art Nouveau en el exterior y Art Decó en el interior. Está cubierto de mármol blanco y su cúpula colorida es uno de los referentes visuales de la ciudad.\\n\\nEn el interior, el palacio alberga murales de artistas reconocidos como Diego Rivera, David Alfaro Siqueiros y Rufino Tamayo. También cuenta con un telón de cristal realizado por Tiffany & Co., que representa el Valle de México.\\n\\nEl Palacio de Bellas Artes es sede de la Ópera Nacional, el Ballet Folklórico de México y la Orquesta Sinfónica Nacional. Además, acoge exposiciones de arte, conciertos, obras de teatro y otros eventos culturales de gran relevancia.\\n\\nUbicado en el centro histórico, junto a la Alameda Central, el Palacio de Bellas Artes es considerado un símbolo nacional y fue declarado Patrimonio de la Humanidad por la UNESCO en 1987.', 'annotations': []}}]\n",
      "Message ID: msg_TrE97IBTaTBKT9Yb6acgSPYt, Role: MessageRole.AGENT, Content: [{'type': 'text', 'text': {'value': 'The **Palacio de Bellas Artes** (Palace of Fine Arts) is one of the most iconic cultural landmarks in **Mexico City**, renowned for its stunning architecture and deep artistic significance.\\n\\n### History & Construction\\n- **Construction** began in 1904 under the direction of Italian architect *Adamo Boari*, who envisioned a grand palace combining European styles.\\n- The project was plagued by delays (notably the Mexican Revolution and unstable soil), and was finally completed in **1934** by Mexican architect *Federico Mariscal*.\\n\\n### Architecture\\n- **Exterior:** The building features an impressive *neoclassical* and *Art Nouveau* façade clad in white Italian marble.\\n- **Interior:** Inside, it showcases an *Art Deco* style with Mexican motifs, elaborate details, and beautiful murals by celebrated artists such as **Diego Rivera**, **David Alfaro Siqueiros**, and **Rufino Tamayo**.\\n- The palace is crowned with a spectacular **stained glass dome** featuring vibrant orange, yellow, and green hues.\\n- The main theater houses a remarkable **Tiffany glass stage curtain** depicting the Valley of Mexico.\\n\\n### Cultural Importance\\n- The Palacio de Bellas Artes is **Mexico’s leading performance venue**, hosting the *National Symphony Orchestra*, *National Opera*, and *National Dance Company*.\\n- It is famed for performances by the **Ballet Folklórico de México**, which showcases traditional Mexican dance and music.\\n- The building houses the **Museo del Palacio de Bellas Artes** on its upper floors, featuring rotating art exhibitions.\\n- It represents the artistic and national identity of Mexico and was declared a UNESCO World Heritage Site in 1987 as part of the city’s historic center.\\n\\n### Visiting\\n- Located near the *Alameda Central* park in downtown Mexico City, it is accessible and a must-see attraction for visitors interested in art, architecture, and Mexican culture.\\n\\n**Fun Fact:** The Palacio de Bellas Artes has been called the \"Cathedral of Art in Mexico\" due to its significance and majestic presence.', 'annotations': []}}]\n",
      "Message ID: msg_FvGRbAOTEdcCQzqsvUGsKRUq, Role: MessageRole.USER, Content: [{'type': 'text', 'text': {'value': \"Tell me about the 'Palacio de Bellas Artes' in Mexico City.\", 'annotations': []}}]\n"
     ]
    }
   ],
   "source": [
    "messages = project_client.messages.list(thread_id=thread.id)\n",
    "for message in messages:\n",
    "    print(f\"Message ID: {message.id}, Role: {message.role}, Content: {message.content}\")"
   ]
  },
  {
   "cell_type": "markdown",
   "id": "3b602a44",
   "metadata": {},
   "source": [
    "### Print last message of AGENT 3, this shows all Agents work combined in final output!!"
   ]
  },
  {
   "cell_type": "code",
   "execution_count": 27,
   "id": "f3038d90-2f0b-46a7-bf98-5c1dcf836288",
   "metadata": {},
   "outputs": [
    {
     "name": "stdout",
     "output_type": "stream",
     "text": [
      "Content: [{'type': 'text', 'text': {'value': 'Of course! Here’s a version with emojis:\\n\\nThe **Palacio de Bellas Artes** 🎭🏛️ is one of the most iconic landmarks in **Mexico City** 🇲🇽. Known for its stunning architecture, it combines Art Nouveau 🦋 and Art Deco ✨ styles. The building features a beautiful marble façade 🤍 and a magnificent stained-glass dome 🌈.  \\n\\nInside, you’ll find impressive murals 🎨 by famous Mexican artists like **Diego Rivera** and **David Alfaro Siqueiros**. The palace hosts opera 🎶, ballet 🩰, and various cultural events, making it a vibrant center for the arts.  \\n\\nLocated by the Alameda Central park 🌳, it’s a must-visit spot for anyone exploring the city!', 'annotations': []}}]\n"
     ]
    }
   ],
   "source": [
    "messages = list(project_client.messages.list(thread_id=thread.id))\n",
    "\n",
    "last_message = messages[0]\n",
    "print(f\"Content: {last_message.content}\")\n",
    "\n",
    "\n"
   ]
  },
  {
   "cell_type": "markdown",
   "id": "2fdf7d2e-f323-4af1-83cc-79ac906ea5e6",
   "metadata": {},
   "source": [
    "## Post processing"
   ]
  },
  {
   "cell_type": "code",
   "execution_count": 28,
   "id": "7677cdb0-a49f-428b-8196-6d4a758331f4",
   "metadata": {},
   "outputs": [
    {
     "name": "stdout",
     "output_type": "stream",
     "text": [
      "Listing all agents in the project:\n",
      "Agent ID: asst_TCuM1RYCpbKi5PwMU2CqO32z, Name: Emojis, Model: gpt-4.1, Instructions: You are an AI agent that add emojis to a text\n",
      "Agent ID: asst_nfJGxv9YcWvNrRrX7pJi2ICI, Name: Translator, Model: gpt-4.1, Instructions: You are an AI agent that translates English into Spanish.\n",
      "Agent ID: asst_NUS2Pmu4JmryG0qB6y8JFhwx, Name: Q&A, Model: gpt-4.1, Instructions: You are an AI agent.\n"
     ]
    }
   ],
   "source": [
    "# List all agents in the project\n",
    "print(\"Listing all agents in the project:\")\n",
    "agents = project_client.list_agents()\n",
    "for agent in agents:\n",
    "    print(f\"Agent ID: {agent.id}, Name: {agent.name}, Model: {agent.model}, Instructions: {agent.instructions}\")"
   ]
  },
  {
   "cell_type": "code",
   "execution_count": null,
   "id": "51380910",
   "metadata": {},
   "outputs": [],
   "source": [
    "# recurse through all agents and delete them adding a test to stop if the agent is not found\n",
    "for agent in project_client.list_agents():\n",
    "    try:\n",
    "        print(f\"Deleting agent ID: {agent.id}, Name: {agent.name}\")\n",
    "        project_client.delete_agent(agent.id)\n",
    "    except Exception as e:\n",
    "        print(f\"Error deleting agent ID: {agent.id}, Name: {agent.name}, Error: {e}\")\n",
    "        break"
   ]
  },
  {
   "cell_type": "code",
   "execution_count": null,
   "id": "6e9b634f",
   "metadata": {},
   "outputs": [],
   "source": [
    "agents = project_client.list_agents()\n",
    "for agent in agents:\n",
    "    print(f\"Agent ID: {agent.id}, Name: {agent.name}, Model: {agent.model}, Instructions: {agent.instructions}\")"
   ]
  }
 ],
 "metadata": {
  "kernelspec": {
   "display_name": ".venv",
   "language": "python",
   "name": "python3"
  },
  "language_info": {
   "codemirror_mode": {
    "name": "ipython",
    "version": 3
   },
   "file_extension": ".py",
   "mimetype": "text/x-python",
   "name": "python",
   "nbconvert_exporter": "python",
   "pygments_lexer": "ipython3",
   "version": "3.13.5"
  },
  "varInspector": {
   "cols": {
    "lenName": 16,
    "lenType": 16,
    "lenVar": 40
   },
   "kernels_config": {
    "python": {
     "delete_cmd_postfix": "",
     "delete_cmd_prefix": "del ",
     "library": "var_list.py",
     "varRefreshCmd": "print(var_dic_list())"
    },
    "r": {
     "delete_cmd_postfix": ") ",
     "delete_cmd_prefix": "rm(",
     "library": "var_list.r",
     "varRefreshCmd": "cat(var_dic_list()) "
    }
   },
   "types_to_exclude": [
    "module",
    "function",
    "builtin_function_or_method",
    "instance",
    "_Feature"
   ],
   "window_display": false
  }
 },
 "nbformat": 4,
 "nbformat_minor": 5
}
