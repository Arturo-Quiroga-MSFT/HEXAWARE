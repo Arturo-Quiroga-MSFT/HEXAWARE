{
 "cells": [
  {
   "cell_type": "markdown",
   "id": "431cc026-279f-4105-8444-f1b93650da0d",
   "metadata": {},
   "source": [
    "# Azure AI Agent service - Many agents\n",
    "\n",
    "<img src=\"https://learn.microsoft.com/en-us/azure/ai-services/agents/media/agent-service-the-glue.png\" width=800>\n",
    "\n",
    "> https://learn.microsoft.com/en-us/azure/ai-services/agents/"
   ]
  },
  {
   "cell_type": "code",
   "execution_count": 1,
   "id": "7a3e72d0-7521-438c-928d-5fa293b0f419",
   "metadata": {},
   "outputs": [],
   "source": [
    "import json\n",
    "import os\n",
    "import sys\n",
    "import time\n",
    "\n",
    "from azure.ai.agents import AgentsClient\n",
    "from azure.ai.agents.models import ListSortOrder\n",
    "from azure.identity import DefaultAzureCredential\n",
    "from datetime import datetime, timezone, timedelta\n",
    "from dotenv import load_dotenv\n",
    "from openai import AzureOpenAI"
   ]
  },
  {
   "cell_type": "code",
   "execution_count": 2,
   "id": "65334de7-4005-401a-89c1-be24f75abbd9",
   "metadata": {},
   "outputs": [
    {
     "data": {
      "text/plain": [
       "True"
      ]
     },
     "execution_count": 2,
     "metadata": {},
     "output_type": "execute_result"
    }
   ],
   "source": [
    "load_dotenv()"
   ]
  },
  {
   "cell_type": "code",
   "execution_count": 3,
   "id": "8628712a-0d10-4351-8993-b4c3243f83be",
   "metadata": {},
   "outputs": [
    {
     "data": {
      "text/plain": [
       "'3.13.4 (main, Jun  3 2025, 15:34:24) [Clang 17.0.0 (clang-1700.0.13.3)]'"
      ]
     },
     "execution_count": 3,
     "metadata": {},
     "output_type": "execute_result"
    }
   ],
   "source": [
    "sys.version"
   ]
  },
  {
   "cell_type": "markdown",
   "id": "cc2c1d28-e366-442e-a186-81239ec337ec",
   "metadata": {},
   "source": [
    "## Creaate connection to AI Foundry Project & instantiate a project client"
   ]
  },
  {
   "cell_type": "code",
   "execution_count": 4,
   "id": "76c7bbb7-0faa-4500-ba42-7c5b176f6196",
   "metadata": {},
   "outputs": [
    {
     "name": "stdout",
     "output_type": "stream",
     "text": [
      "Using endpoint: https://aq-ai-foundry-sweden-central.services.ai.azure.com/api/projects/firstProject\n"
     ]
    }
   ],
   "source": [
    "endpoint = os.getenv(\"PROJECT_ENDPOINT\")\n",
    "print(f\"Using endpoint: {endpoint}\")\n",
    "credential = DefaultAzureCredential()\n",
    "\n",
    "project_client = AgentsClient(endpoint=endpoint, credential=credential)"
   ]
  },
  {
   "cell_type": "markdown",
   "id": "1fecdb26",
   "metadata": {},
   "source": [
    "## Instantiate AGENT 1 (Q&A)"
   ]
  },
  {
   "cell_type": "code",
   "execution_count": 5,
   "id": "8bec0fdf-bfdb-4d72-8cc0-d02b8eb79b59",
   "metadata": {},
   "outputs": [
    {
     "name": "stdout",
     "output_type": "stream",
     "text": [
      "Created agent, agent ID: asst_w42zCT2O5N5PjS3I6nom3upH\n"
     ]
    }
   ],
   "source": [
    "\n",
    "\n",
    "agent1 = project_client.create_agent(\n",
    "    model=os.environ[\"MODEL_DEPLOYMENT_NAME\"],\n",
    "    name=\"Q&A\",\n",
    "    instructions=\"You are an AI agent.\",\n",
    ")\n",
    "print(f\"Created agent, agent ID: {agent1.id}\")"
   ]
  },
  {
   "cell_type": "markdown",
   "id": "d2304eb6",
   "metadata": {},
   "source": [
    "## Instantiate AGENT 2 (Translator)"
   ]
  },
  {
   "cell_type": "code",
   "execution_count": 6,
   "id": "06dfa418-7b00-4450-8d0e-d32c90b24cc5",
   "metadata": {},
   "outputs": [
    {
     "name": "stdout",
     "output_type": "stream",
     "text": [
      "Created agent, agent ID: asst_6Gne1UjCvCuxPKbcKCpDptUK\n"
     ]
    }
   ],
   "source": [
    "\n",
    "\n",
    "agent2 = project_client.create_agent(\n",
    "    model=os.environ[\"MODEL_DEPLOYMENT_NAME\"],\n",
    "    name=\"Translator\",\n",
    "    instructions=\"You are an AI agent that translates English into Spanish.\",\n",
    ")\n",
    "print(f\"Created agent, agent ID: {agent2.id}\")"
   ]
  },
  {
   "cell_type": "markdown",
   "id": "aeb51377",
   "metadata": {},
   "source": [
    "## Instantiate AGENT 3 (Emojis creator)"
   ]
  },
  {
   "cell_type": "code",
   "execution_count": 7,
   "id": "bd4b89b4-fe75-48b8-acc8-17d3adf721cf",
   "metadata": {},
   "outputs": [
    {
     "name": "stdout",
     "output_type": "stream",
     "text": [
      "Created agent, agent ID: asst_gZN9TiqXKBToioI3WONDdYLd\n"
     ]
    }
   ],
   "source": [
    "\n",
    "\n",
    "agent3 = project_client.create_agent(\n",
    "    model=os.environ[\"MODEL_DEPLOYMENT_NAME\"],\n",
    "    name=\"Emojis\",\n",
    "    instructions=\"You are an AI agent that add emojis to a text\",\n",
    ")\n",
    "print(f\"Created agent, agent ID: {agent3.id}\")\n"
   ]
  },
  {
   "cell_type": "markdown",
   "id": "e8815044",
   "metadata": {},
   "source": [
    "### Show all agents"
   ]
  },
  {
   "cell_type": "code",
   "execution_count": 8,
   "id": "1b446cc0",
   "metadata": {},
   "outputs": [
    {
     "name": "stdout",
     "output_type": "stream",
     "text": [
      "{'id': 'asst_w42zCT2O5N5PjS3I6nom3upH', 'object': 'assistant', 'created_at': 1749588027, 'name': 'Q&A', 'description': None, 'model': 'gpt-4.1', 'instructions': 'You are an AI agent.', 'tools': [], 'top_p': 1.0, 'temperature': 1.0, 'tool_resources': {}, 'metadata': {}, 'response_format': 'auto'}\n",
      "{'id': 'asst_6Gne1UjCvCuxPKbcKCpDptUK', 'object': 'assistant', 'created_at': 1749588028, 'name': 'Translator', 'description': None, 'model': 'gpt-4.1', 'instructions': 'You are an AI agent that translates English into Spanish.', 'tools': [], 'top_p': 1.0, 'temperature': 1.0, 'tool_resources': {}, 'metadata': {}, 'response_format': 'auto'}\n",
      "{'id': 'asst_gZN9TiqXKBToioI3WONDdYLd', 'object': 'assistant', 'created_at': 1749588028, 'name': 'Emojis', 'description': None, 'model': 'gpt-4.1', 'instructions': 'You are an AI agent that add emojis to a text', 'tools': [], 'top_p': 1.0, 'temperature': 1.0, 'tool_resources': {}, 'metadata': {}, 'response_format': 'auto'}\n"
     ]
    }
   ],
   "source": [
    "print(agent1)\n",
    "print(agent2)\n",
    "print(agent3)\n"
   ]
  },
  {
   "cell_type": "markdown",
   "id": "7ffa36d2",
   "metadata": {},
   "source": [
    "### Create a thread for AGENT 1"
   ]
  },
  {
   "cell_type": "code",
   "execution_count": 9,
   "id": "5b4a3453-e9ce-4208-a0e5-6c201939d238",
   "metadata": {},
   "outputs": [
    {
     "name": "stdout",
     "output_type": "stream",
     "text": [
      "Created thread, thread ID: thread_gCcg2dBmlv9A8wfcCAiis1FF\n"
     ]
    }
   ],
   "source": [
    "    # [START create_thread]\n",
    "    thread = project_client.threads.create()\n",
    "    # [END create_thread]\n",
    "    print(f\"Created thread, thread ID: {thread.id}\")"
   ]
  },
  {
   "cell_type": "markdown",
   "id": "278d3c15",
   "metadata": {},
   "source": [
    "### Create a message for AGENT 1"
   ]
  },
  {
   "cell_type": "code",
   "execution_count": 10,
   "id": "35131134-b241-4721-a673-fb6cd240ed03",
   "metadata": {},
   "outputs": [
    {
     "name": "stdout",
     "output_type": "stream",
     "text": [
      "Created message, message ID: msg_cBlVwv1wV1bULwlpsJfZbuUf\n"
     ]
    }
   ],
   "source": [
    "\n",
    "    # [START create_message]\n",
    "    message = project_client.messages.create(thread_id=thread.id, role=\"user\", content=\"Tell me about the 'Palacio de Bellas Artes' in Mexico City.\")\n",
    "    # [END create_message]\n",
    "    print(f\"Created message, message ID: {message.id}\")"
   ]
  },
  {
   "cell_type": "markdown",
   "id": "03405dc2",
   "metadata": {},
   "source": [
    "### Run AGENT 1"
   ]
  },
  {
   "cell_type": "code",
   "execution_count": 11,
   "id": "70fcd807-ac0f-4253-9122-1a96f3419f71",
   "metadata": {},
   "outputs": [
    {
     "name": "stdout",
     "output_type": "stream",
     "text": [
      "Created run, run ID: run_atzPNjzxs67wlrUUuJk5PyZx\n"
     ]
    }
   ],
   "source": [
    "    # [START create_run]\n",
    "    run = project_client.runs.create(thread_id=thread.id, agent_id=agent1.id)\n",
    "    # [END create_run]\n",
    "    print(f\"Created run, run ID: {run.id}\")\n"
   ]
  },
  {
   "cell_type": "markdown",
   "id": "0c90bae5",
   "metadata": {},
   "source": [
    "### Check status of run for AGENT 1"
   ]
  },
  {
   "cell_type": "code",
   "execution_count": 12,
   "id": "f21ef94e-22d1-4945-9886-be4dbefdca8e",
   "metadata": {},
   "outputs": [
    {
     "name": "stdout",
     "output_type": "stream",
     "text": [
      "Run status: RunStatus.IN_PROGRESS\n",
      "Run status: RunStatus.IN_PROGRESS\n",
      "Run status: RunStatus.IN_PROGRESS\n",
      "Run status: RunStatus.COMPLETED\n"
     ]
    }
   ],
   "source": [
    "    # Poll the run as long as run status is queued or in progress\n",
    "    while run.status in [\"queued\", \"in_progress\", \"requires_action\"]:\n",
    "        # Wait for a second\n",
    "        time.sleep(1)\n",
    "        run = project_client.runs.get(thread_id=thread.id, run_id=run.id)\n",
    "        # [END create_run]\n",
    "        print(f\"Run status: {run.status}\")\n",
    "\n",
    "        if run.status == \"failed\":\n",
    "            print(f\"Run error: {run.last_error}\")"
   ]
  },
  {
   "cell_type": "markdown",
   "id": "b4e93ea3",
   "metadata": {},
   "source": [
    "### Show usage (tokens)"
   ]
  },
  {
   "cell_type": "code",
   "execution_count": 13,
   "id": "14ed4d5d",
   "metadata": {},
   "outputs": [
    {
     "data": {
      "text/plain": [
       "{'prompt_tokens': 41, 'completion_tokens': 455, 'total_tokens': 496, 'prompt_token_details': {'cached_tokens': 0}}"
      ]
     },
     "execution_count": 13,
     "metadata": {},
     "output_type": "execute_result"
    }
   ],
   "source": [
    "run.usage"
   ]
  },
  {
   "cell_type": "markdown",
   "id": "4038cc39",
   "metadata": {},
   "source": [
    "### Show me the stack of messages so far"
   ]
  },
  {
   "cell_type": "code",
   "execution_count": 14,
   "id": "d91b94fc",
   "metadata": {},
   "outputs": [
    {
     "name": "stdout",
     "output_type": "stream",
     "text": [
      "Message ID: msg_41WGjlEUxkynCfQNdbIGrJgJ, Role: MessageRole.AGENT, Content: [{'type': 'text', 'text': {'value': \"Certainly! The **Palacio de Bellas Artes** (Palace of Fine Arts) is one of the most iconic and grand cultural landmarks in **Mexico City**, renowned for its stunning architecture and rich artistic significance.\\n\\n### History & Background\\n- **Construction** began in 1904, initiated by President Porfirio Díaz, and was completed in 1934 due to various delays, including the Mexican Revolution.\\n- Designed originally by architect **Adamo Boari** in an extravagant, neoclassical and art nouveau style, the interior was later finished by Mexican architect **Federico Mariscal** with strong **Art Deco** influences.\\n\\n### Architecture & Design\\n- **Exterior:** White Italian Carrara marble, Art Nouveau and neoclassical designs.\\n- **Interior:** Art Deco style, featuring locally sourced materials and motifs inspired by Aztec and Maya culture.\\n- **Dome:** The multicolored glass and iron dome is a distinctive feature, glowing with reddish and orange tones.\\n\\n### Cultural Importance\\n- It's considered the **premier opera house** of Mexico and the most important **cultural center** in the country.\\n- Home to the **National Museum of Architecture** and the **National Opera Company**.\\n- Venue for the world-famous **Ballet Folklórico de México**.\\n- Hosts concerts, art exhibitions, theatre, dance performances, and literary events.\\n\\n### Notable Features\\n- **Murals** by some of Mexico's great artists, including **Diego Rivera**, **David Alfaro Siqueiros**, **Rufino Tamayo**, and **José Clemente Orozco**.\\n- **Glass stage curtain**, created by Tiffany & Co., depicts the Valley of Mexico with its two volcanoes, Popocatépetl and Iztaccíhuatl.\\n- Recognized as a **UNESCO World Heritage Site** as part of the Historic Center of Mexico City.\\n\\n### Location\\n- Situated alongside Alameda Central park, at Avenida Juárez and Eje Central Lázaro Cárdenas, in the historic heart of Mexico City.\\n\\n---\\n\\n**Summary:** The Palacio de Bellas Artes is a dazzling blend of architectural magnificence and vibrant cultural life, making it a must-see destination for visitors to Mexico City.\", 'annotations': []}}]\n",
      "Message ID: msg_cBlVwv1wV1bULwlpsJfZbuUf, Role: MessageRole.USER, Content: [{'type': 'text', 'text': {'value': \"Tell me about the 'Palacio de Bellas Artes' in Mexico City.\", 'annotations': []}}]\n"
     ]
    }
   ],
   "source": [
    "messages = project_client.messages.list(thread_id=thread.id)\n",
    "for message in messages:\n",
    "    print(f\"Message ID: {message.id}, Role: {message.role}, Content: {message.content}\")\n",
    "\n",
    "\n",
    "\n"
   ]
  },
  {
   "cell_type": "markdown",
   "id": "20aa0873",
   "metadata": {},
   "source": [
    "### Show last message of AGENT 1"
   ]
  },
  {
   "cell_type": "code",
   "execution_count": 15,
   "id": "868c132d",
   "metadata": {},
   "outputs": [
    {
     "name": "stdout",
     "output_type": "stream",
     "text": [
      "Content: [{'type': 'text', 'text': {'value': \"Certainly! The **Palacio de Bellas Artes** (Palace of Fine Arts) is one of the most iconic and grand cultural landmarks in **Mexico City**, renowned for its stunning architecture and rich artistic significance.\\n\\n### History & Background\\n- **Construction** began in 1904, initiated by President Porfirio Díaz, and was completed in 1934 due to various delays, including the Mexican Revolution.\\n- Designed originally by architect **Adamo Boari** in an extravagant, neoclassical and art nouveau style, the interior was later finished by Mexican architect **Federico Mariscal** with strong **Art Deco** influences.\\n\\n### Architecture & Design\\n- **Exterior:** White Italian Carrara marble, Art Nouveau and neoclassical designs.\\n- **Interior:** Art Deco style, featuring locally sourced materials and motifs inspired by Aztec and Maya culture.\\n- **Dome:** The multicolored glass and iron dome is a distinctive feature, glowing with reddish and orange tones.\\n\\n### Cultural Importance\\n- It's considered the **premier opera house** of Mexico and the most important **cultural center** in the country.\\n- Home to the **National Museum of Architecture** and the **National Opera Company**.\\n- Venue for the world-famous **Ballet Folklórico de México**.\\n- Hosts concerts, art exhibitions, theatre, dance performances, and literary events.\\n\\n### Notable Features\\n- **Murals** by some of Mexico's great artists, including **Diego Rivera**, **David Alfaro Siqueiros**, **Rufino Tamayo**, and **José Clemente Orozco**.\\n- **Glass stage curtain**, created by Tiffany & Co., depicts the Valley of Mexico with its two volcanoes, Popocatépetl and Iztaccíhuatl.\\n- Recognized as a **UNESCO World Heritage Site** as part of the Historic Center of Mexico City.\\n\\n### Location\\n- Situated alongside Alameda Central park, at Avenida Juárez and Eje Central Lázaro Cárdenas, in the historic heart of Mexico City.\\n\\n---\\n\\n**Summary:** The Palacio de Bellas Artes is a dazzling blend of architectural magnificence and vibrant cultural life, making it a must-see destination for visitors to Mexico City.\", 'annotations': []}}]\n"
     ]
    }
   ],
   "source": [
    "messages = list(project_client.messages.list(thread_id=thread.id))\n",
    "if messages:\n",
    "    last_message = messages[0]\n",
    "    print(f\"Content: {last_message.content}\")\n",
    "else:\n",
    "    print(\"No messages found.\")"
   ]
  },
  {
   "cell_type": "markdown",
   "id": "8eab8fa5",
   "metadata": {},
   "source": [
    "### SHow bottom of stack of messages"
   ]
  },
  {
   "cell_type": "code",
   "execution_count": 16,
   "id": "9d9d8511",
   "metadata": {},
   "outputs": [
    {
     "name": "stdout",
     "output_type": "stream",
     "text": [
      "Content: [{'type': 'text', 'text': {'value': \"Tell me about the 'Palacio de Bellas Artes' in Mexico City.\", 'annotations': []}}]\n"
     ]
    }
   ],
   "source": [
    "if messages:\n",
    "    last_message = messages[-1]\n",
    "    print(f\"Content: {last_message.content}\")\n",
    "else:\n",
    "    print(\"No messages found.\")"
   ]
  },
  {
   "cell_type": "markdown",
   "id": "df0644dc",
   "metadata": {},
   "source": [
    "### Run AGENT 2"
   ]
  },
  {
   "cell_type": "code",
   "execution_count": 17,
   "id": "53895c1e-9e41-4003-bd80-f166e65001db",
   "metadata": {},
   "outputs": [
    {
     "name": "stdout",
     "output_type": "stream",
     "text": [
      "Created run, run ID: run_S4CFcN19VRIp6MxufyVwFIdA\n"
     ]
    }
   ],
   "source": [
    "    # [START create_run]\n",
    "    run = project_client.runs.create(thread_id=thread.id, agent_id=agent2.id)\n",
    "    # [END create_run]\n",
    "    print(f\"Created run, run ID: {run.id}\")"
   ]
  },
  {
   "cell_type": "markdown",
   "id": "46f16d71",
   "metadata": {},
   "source": [
    "### Check Status of the run for AGENT 2"
   ]
  },
  {
   "cell_type": "code",
   "execution_count": 18,
   "id": "6491e32c",
   "metadata": {},
   "outputs": [
    {
     "name": "stdout",
     "output_type": "stream",
     "text": [
      "Run status: RunStatus.IN_PROGRESS\n",
      "Run status: RunStatus.IN_PROGRESS\n",
      "Run status: RunStatus.IN_PROGRESS\n",
      "Run status: RunStatus.IN_PROGRESS\n",
      "Run status: RunStatus.COMPLETED\n"
     ]
    }
   ],
   "source": [
    "    # Poll the run as long as run status is queued or in progress\n",
    "    while run.status in [\"queued\", \"in_progress\", \"requires_action\"]:\n",
    "        # Wait for a second\n",
    "        time.sleep(1)\n",
    "        run = project_client.runs.get(thread_id=thread.id, run_id=run.id)\n",
    "        # [END create_run]\n",
    "        print(f\"Run status: {run.status}\")\n",
    "\n",
    "        if run.status == \"failed\":\n",
    "            print(f\"Run error: {run.last_error}\")"
   ]
  },
  {
   "cell_type": "code",
   "execution_count": 19,
   "id": "6b0c9d00",
   "metadata": {},
   "outputs": [
    {
     "data": {
      "text/plain": [
       "{'prompt_tokens': 503, 'completion_tokens': 508, 'total_tokens': 1011, 'prompt_token_details': {'cached_tokens': 0}}"
      ]
     },
     "execution_count": 19,
     "metadata": {},
     "output_type": "execute_result"
    }
   ],
   "source": [
    "run.usage"
   ]
  },
  {
   "cell_type": "markdown",
   "id": "bce77a2a",
   "metadata": {},
   "source": [
    "### SHow the stack of messages so far"
   ]
  },
  {
   "cell_type": "code",
   "execution_count": 20,
   "id": "6bf45dd9",
   "metadata": {},
   "outputs": [
    {
     "name": "stdout",
     "output_type": "stream",
     "text": [
      "Message ID: msg_yOeS04s03vic0NZTDaJsjEzm, Role: MessageRole.AGENT, Content: [{'type': 'text', 'text': {'value': 'Claro, aquí tienes la traducción al español:\\n\\nEl **Palacio de Bellas Artes** es uno de los recintos culturales más emblemáticos de la **Ciudad de México**, famoso por su impresionante arquitectura y su relevancia artística.\\n\\n### Historia y Antecedentes\\n- La **construcción** comenzó en 1904 por orden del presidente Porfirio Díaz y se concluyó en 1934, debido a varios retrasos, incluyendo la Revolución Mexicana.\\n- Su diseño original fue obra del arquitecto **Adamo Boari** en un estilo neoclásico y art nouveau; el interior fue terminado por el mexicano **Federico Mariscal**, quien incorporó elementos **art déco**.\\n\\n### Arquitectura y Diseño\\n- **Exterior:** Mármol blanco de Carrara, con detalles neoclásicos y art nouveau.\\n- **Interior:** Estilo art déco, con materiales nacionales y motivos inspirados en las culturas azteca y maya.\\n- **Cúpula:** La colorida cúpula de hierro y cristal destaca por sus tonos anaranjados y dorados.\\n\\n### Importancia Cultural\\n- Es el principal **teatro de ópera** de México y el centro cultural más importante del país.\\n- Alberga el **Museo Nacional de Arquitectura** y la **Compañía Nacional de Ópera**.\\n- Es sede del reconocido **Ballet Folklórico de México**.\\n- En su recinto se realizan conciertos, exposiciones, teatro, danza y eventos literarios.\\n\\n### Características Notables\\n- Cuenta con **murales** de grandes artistas mexicanos como **Diego Rivera**, **David Alfaro Siqueiros**, **Rufino Tamayo** y **José Clemente Orozco**.\\n- Su **telón de cristal**, elaborado por Tiffany & Co., muestra el Valle de México con los volcanes Popocatépetl e Iztaccíhuatl.\\n- Es considerado **Patrimonio Mundial de la Humanidad** por la UNESCO, como parte del Centro Histórico de la Ciudad de México.\\n\\n### Ubicación\\n- Se localiza junto a la Alameda Central, en la avenida Juárez y el Eje Central Lázaro Cárdenas, en el corazón histórico de la Ciudad de México.\\n\\n---\\n\\n**Resumen:** El Palacio de Bellas Artes es una combinación deslumbrante de magnificencia arquitectónica y vida cultural vibrante, por lo que es un destino imprescindible para quienes visitan la Ciudad de México.', 'annotations': []}}]\n",
      "Message ID: msg_41WGjlEUxkynCfQNdbIGrJgJ, Role: MessageRole.AGENT, Content: [{'type': 'text', 'text': {'value': \"Certainly! The **Palacio de Bellas Artes** (Palace of Fine Arts) is one of the most iconic and grand cultural landmarks in **Mexico City**, renowned for its stunning architecture and rich artistic significance.\\n\\n### History & Background\\n- **Construction** began in 1904, initiated by President Porfirio Díaz, and was completed in 1934 due to various delays, including the Mexican Revolution.\\n- Designed originally by architect **Adamo Boari** in an extravagant, neoclassical and art nouveau style, the interior was later finished by Mexican architect **Federico Mariscal** with strong **Art Deco** influences.\\n\\n### Architecture & Design\\n- **Exterior:** White Italian Carrara marble, Art Nouveau and neoclassical designs.\\n- **Interior:** Art Deco style, featuring locally sourced materials and motifs inspired by Aztec and Maya culture.\\n- **Dome:** The multicolored glass and iron dome is a distinctive feature, glowing with reddish and orange tones.\\n\\n### Cultural Importance\\n- It's considered the **premier opera house** of Mexico and the most important **cultural center** in the country.\\n- Home to the **National Museum of Architecture** and the **National Opera Company**.\\n- Venue for the world-famous **Ballet Folklórico de México**.\\n- Hosts concerts, art exhibitions, theatre, dance performances, and literary events.\\n\\n### Notable Features\\n- **Murals** by some of Mexico's great artists, including **Diego Rivera**, **David Alfaro Siqueiros**, **Rufino Tamayo**, and **José Clemente Orozco**.\\n- **Glass stage curtain**, created by Tiffany & Co., depicts the Valley of Mexico with its two volcanoes, Popocatépetl and Iztaccíhuatl.\\n- Recognized as a **UNESCO World Heritage Site** as part of the Historic Center of Mexico City.\\n\\n### Location\\n- Situated alongside Alameda Central park, at Avenida Juárez and Eje Central Lázaro Cárdenas, in the historic heart of Mexico City.\\n\\n---\\n\\n**Summary:** The Palacio de Bellas Artes is a dazzling blend of architectural magnificence and vibrant cultural life, making it a must-see destination for visitors to Mexico City.\", 'annotations': []}}]\n",
      "Message ID: msg_cBlVwv1wV1bULwlpsJfZbuUf, Role: MessageRole.USER, Content: [{'type': 'text', 'text': {'value': \"Tell me about the 'Palacio de Bellas Artes' in Mexico City.\", 'annotations': []}}]\n"
     ]
    }
   ],
   "source": [
    "messages = project_client.messages.list(thread_id=thread.id)\n",
    "for message in messages:\n",
    "    print(f\"Message ID: {message.id}, Role: {message.role}, Content: {message.content}\")\n",
    "\n"
   ]
  },
  {
   "cell_type": "markdown",
   "id": "b0e97c44",
   "metadata": {},
   "source": [
    "### SHow last message of AGENT 2"
   ]
  },
  {
   "cell_type": "code",
   "execution_count": 21,
   "id": "b7916879",
   "metadata": {},
   "outputs": [
    {
     "name": "stdout",
     "output_type": "stream",
     "text": [
      "Content: [{'type': 'text', 'text': {'value': 'Claro, aquí tienes la traducción al español:\\n\\nEl **Palacio de Bellas Artes** es uno de los recintos culturales más emblemáticos de la **Ciudad de México**, famoso por su impresionante arquitectura y su relevancia artística.\\n\\n### Historia y Antecedentes\\n- La **construcción** comenzó en 1904 por orden del presidente Porfirio Díaz y se concluyó en 1934, debido a varios retrasos, incluyendo la Revolución Mexicana.\\n- Su diseño original fue obra del arquitecto **Adamo Boari** en un estilo neoclásico y art nouveau; el interior fue terminado por el mexicano **Federico Mariscal**, quien incorporó elementos **art déco**.\\n\\n### Arquitectura y Diseño\\n- **Exterior:** Mármol blanco de Carrara, con detalles neoclásicos y art nouveau.\\n- **Interior:** Estilo art déco, con materiales nacionales y motivos inspirados en las culturas azteca y maya.\\n- **Cúpula:** La colorida cúpula de hierro y cristal destaca por sus tonos anaranjados y dorados.\\n\\n### Importancia Cultural\\n- Es el principal **teatro de ópera** de México y el centro cultural más importante del país.\\n- Alberga el **Museo Nacional de Arquitectura** y la **Compañía Nacional de Ópera**.\\n- Es sede del reconocido **Ballet Folklórico de México**.\\n- En su recinto se realizan conciertos, exposiciones, teatro, danza y eventos literarios.\\n\\n### Características Notables\\n- Cuenta con **murales** de grandes artistas mexicanos como **Diego Rivera**, **David Alfaro Siqueiros**, **Rufino Tamayo** y **José Clemente Orozco**.\\n- Su **telón de cristal**, elaborado por Tiffany & Co., muestra el Valle de México con los volcanes Popocatépetl e Iztaccíhuatl.\\n- Es considerado **Patrimonio Mundial de la Humanidad** por la UNESCO, como parte del Centro Histórico de la Ciudad de México.\\n\\n### Ubicación\\n- Se localiza junto a la Alameda Central, en la avenida Juárez y el Eje Central Lázaro Cárdenas, en el corazón histórico de la Ciudad de México.\\n\\n---\\n\\n**Resumen:** El Palacio de Bellas Artes es una combinación deslumbrante de magnificencia arquitectónica y vida cultural vibrante, por lo que es un destino imprescindible para quienes visitan la Ciudad de México.', 'annotations': []}}]\n"
     ]
    }
   ],
   "source": [
    "messages = list(project_client.messages.list(thread_id=thread.id))\n",
    "if messages:\n",
    "    last_message = messages[0]\n",
    "    print(f\"Content: {last_message.content}\")\n",
    "else:\n",
    "    print(\"No messages found.\")"
   ]
  },
  {
   "cell_type": "markdown",
   "id": "e0ec7ca6",
   "metadata": {},
   "source": [
    "### Run AGENT 3"
   ]
  },
  {
   "cell_type": "code",
   "execution_count": 22,
   "id": "cf1be1d9-90c0-43bc-b358-acf62a22ef04",
   "metadata": {},
   "outputs": [
    {
     "name": "stdout",
     "output_type": "stream",
     "text": [
      "Created run, run ID: run_5ZwYWWSUJplaFgHPFL6zpXEB\n"
     ]
    }
   ],
   "source": [
    "    # [START create_run]\n",
    "    run = project_client.runs.create(thread_id=thread.id, agent_id=agent3.id)\n",
    "    # [END create_run]\n",
    "    print(f\"Created run, run ID: {run.id}\")"
   ]
  },
  {
   "cell_type": "markdown",
   "id": "7b04e16e",
   "metadata": {},
   "source": [
    "### Check status of run of AGENT 3"
   ]
  },
  {
   "cell_type": "code",
   "execution_count": 23,
   "id": "c9949669",
   "metadata": {},
   "outputs": [
    {
     "name": "stdout",
     "output_type": "stream",
     "text": [
      "Run status: RunStatus.IN_PROGRESS\n",
      "Run status: RunStatus.COMPLETED\n"
     ]
    }
   ],
   "source": [
    "    # Poll the run as long as run status is queued or in progress\n",
    "    while run.status in [\"queued\", \"in_progress\", \"requires_action\"]:\n",
    "        # Wait for a second\n",
    "        time.sleep(1)\n",
    "        run = project_client.runs.get(thread_id=thread.id, run_id=run.id)\n",
    "        # [END create_run]\n",
    "        print(f\"Run status: {run.status}\")\n",
    "\n",
    "        if run.status == \"failed\":\n",
    "            print(f\"Run error: {run.last_error}\")"
   ]
  },
  {
   "cell_type": "code",
   "execution_count": 24,
   "id": "3eb368fd",
   "metadata": {},
   "outputs": [
    {
     "data": {
      "text/plain": [
       "{'prompt_tokens': 1013, 'completion_tokens': 224, 'total_tokens': 1237, 'prompt_token_details': {'cached_tokens': 0}}"
      ]
     },
     "execution_count": 24,
     "metadata": {},
     "output_type": "execute_result"
    }
   ],
   "source": [
    "run.usage"
   ]
  },
  {
   "cell_type": "markdown",
   "id": "bb139d78",
   "metadata": {},
   "source": [
    "### Show the Stack of messages so far"
   ]
  },
  {
   "cell_type": "code",
   "execution_count": 25,
   "id": "9bb6f766",
   "metadata": {},
   "outputs": [
    {
     "name": "stdout",
     "output_type": "stream",
     "text": [
      "Message ID: msg_FUojbarEEtM1ARE9VfdMgpdR, Role: MessageRole.AGENT, Content: [{'type': 'text', 'text': {'value': 'Absolutely! Here’s your text with emojis for a more vibrant touch:\\n\\nThe **Palacio de Bellas Artes** 🎭🏛️ in **Mexico City** 🇲🇽 is one of the most iconic landmarks in Mexico. It’s famous for its stunning architecture 🏰, blending **Art Nouveau** on the outside and **Art Deco** on the inside. Built with white Italian Carrara marble 🤍, its colorful domed roof stands out over Alameda Central park 🌳.\\n\\nThis cultural palace hosts concerts 🎶, operas 🎤, ballets 🩰, and art exhibitions 🎨, making it the country’s top center for the arts. Inside, you’ll find murals by legendary Mexican artists like **Diego Rivera** 👨\\u200d🎨 and **David Alfaro Siqueiros**.\\n\\nThe beautiful stained glass stage curtain 🌈, made by Tiffany & Co., shows the Valley of Mexico with its famous volcanoes 🌋. The Palacio de Bellas Artes is not only a UNESCO World Heritage Site 🌐 but also a must-see if you’re visiting Mexico City!', 'annotations': []}}]\n",
      "Message ID: msg_yOeS04s03vic0NZTDaJsjEzm, Role: MessageRole.AGENT, Content: [{'type': 'text', 'text': {'value': 'Claro, aquí tienes la traducción al español:\\n\\nEl **Palacio de Bellas Artes** es uno de los recintos culturales más emblemáticos de la **Ciudad de México**, famoso por su impresionante arquitectura y su relevancia artística.\\n\\n### Historia y Antecedentes\\n- La **construcción** comenzó en 1904 por orden del presidente Porfirio Díaz y se concluyó en 1934, debido a varios retrasos, incluyendo la Revolución Mexicana.\\n- Su diseño original fue obra del arquitecto **Adamo Boari** en un estilo neoclásico y art nouveau; el interior fue terminado por el mexicano **Federico Mariscal**, quien incorporó elementos **art déco**.\\n\\n### Arquitectura y Diseño\\n- **Exterior:** Mármol blanco de Carrara, con detalles neoclásicos y art nouveau.\\n- **Interior:** Estilo art déco, con materiales nacionales y motivos inspirados en las culturas azteca y maya.\\n- **Cúpula:** La colorida cúpula de hierro y cristal destaca por sus tonos anaranjados y dorados.\\n\\n### Importancia Cultural\\n- Es el principal **teatro de ópera** de México y el centro cultural más importante del país.\\n- Alberga el **Museo Nacional de Arquitectura** y la **Compañía Nacional de Ópera**.\\n- Es sede del reconocido **Ballet Folklórico de México**.\\n- En su recinto se realizan conciertos, exposiciones, teatro, danza y eventos literarios.\\n\\n### Características Notables\\n- Cuenta con **murales** de grandes artistas mexicanos como **Diego Rivera**, **David Alfaro Siqueiros**, **Rufino Tamayo** y **José Clemente Orozco**.\\n- Su **telón de cristal**, elaborado por Tiffany & Co., muestra el Valle de México con los volcanes Popocatépetl e Iztaccíhuatl.\\n- Es considerado **Patrimonio Mundial de la Humanidad** por la UNESCO, como parte del Centro Histórico de la Ciudad de México.\\n\\n### Ubicación\\n- Se localiza junto a la Alameda Central, en la avenida Juárez y el Eje Central Lázaro Cárdenas, en el corazón histórico de la Ciudad de México.\\n\\n---\\n\\n**Resumen:** El Palacio de Bellas Artes es una combinación deslumbrante de magnificencia arquitectónica y vida cultural vibrante, por lo que es un destino imprescindible para quienes visitan la Ciudad de México.', 'annotations': []}}]\n",
      "Message ID: msg_41WGjlEUxkynCfQNdbIGrJgJ, Role: MessageRole.AGENT, Content: [{'type': 'text', 'text': {'value': \"Certainly! The **Palacio de Bellas Artes** (Palace of Fine Arts) is one of the most iconic and grand cultural landmarks in **Mexico City**, renowned for its stunning architecture and rich artistic significance.\\n\\n### History & Background\\n- **Construction** began in 1904, initiated by President Porfirio Díaz, and was completed in 1934 due to various delays, including the Mexican Revolution.\\n- Designed originally by architect **Adamo Boari** in an extravagant, neoclassical and art nouveau style, the interior was later finished by Mexican architect **Federico Mariscal** with strong **Art Deco** influences.\\n\\n### Architecture & Design\\n- **Exterior:** White Italian Carrara marble, Art Nouveau and neoclassical designs.\\n- **Interior:** Art Deco style, featuring locally sourced materials and motifs inspired by Aztec and Maya culture.\\n- **Dome:** The multicolored glass and iron dome is a distinctive feature, glowing with reddish and orange tones.\\n\\n### Cultural Importance\\n- It's considered the **premier opera house** of Mexico and the most important **cultural center** in the country.\\n- Home to the **National Museum of Architecture** and the **National Opera Company**.\\n- Venue for the world-famous **Ballet Folklórico de México**.\\n- Hosts concerts, art exhibitions, theatre, dance performances, and literary events.\\n\\n### Notable Features\\n- **Murals** by some of Mexico's great artists, including **Diego Rivera**, **David Alfaro Siqueiros**, **Rufino Tamayo**, and **José Clemente Orozco**.\\n- **Glass stage curtain**, created by Tiffany & Co., depicts the Valley of Mexico with its two volcanoes, Popocatépetl and Iztaccíhuatl.\\n- Recognized as a **UNESCO World Heritage Site** as part of the Historic Center of Mexico City.\\n\\n### Location\\n- Situated alongside Alameda Central park, at Avenida Juárez and Eje Central Lázaro Cárdenas, in the historic heart of Mexico City.\\n\\n---\\n\\n**Summary:** The Palacio de Bellas Artes is a dazzling blend of architectural magnificence and vibrant cultural life, making it a must-see destination for visitors to Mexico City.\", 'annotations': []}}]\n",
      "Message ID: msg_cBlVwv1wV1bULwlpsJfZbuUf, Role: MessageRole.USER, Content: [{'type': 'text', 'text': {'value': \"Tell me about the 'Palacio de Bellas Artes' in Mexico City.\", 'annotations': []}}]\n"
     ]
    }
   ],
   "source": [
    "messages = project_client.messages.list(thread_id=thread.id)\n",
    "for message in messages:\n",
    "    print(f\"Message ID: {message.id}, Role: {message.role}, Content: {message.content}\")"
   ]
  },
  {
   "cell_type": "markdown",
   "id": "3b602a44",
   "metadata": {},
   "source": [
    "### Print last message of AGENT 3, this shows all Agents work combined in final output!!"
   ]
  },
  {
   "cell_type": "code",
   "execution_count": 26,
   "id": "f3038d90-2f0b-46a7-bf98-5c1dcf836288",
   "metadata": {},
   "outputs": [
    {
     "name": "stdout",
     "output_type": "stream",
     "text": [
      "Content: [{'type': 'text', 'text': {'value': 'Absolutely! Here’s your text with emojis for a more vibrant touch:\\n\\nThe **Palacio de Bellas Artes** 🎭🏛️ in **Mexico City** 🇲🇽 is one of the most iconic landmarks in Mexico. It’s famous for its stunning architecture 🏰, blending **Art Nouveau** on the outside and **Art Deco** on the inside. Built with white Italian Carrara marble 🤍, its colorful domed roof stands out over Alameda Central park 🌳.\\n\\nThis cultural palace hosts concerts 🎶, operas 🎤, ballets 🩰, and art exhibitions 🎨, making it the country’s top center for the arts. Inside, you’ll find murals by legendary Mexican artists like **Diego Rivera** 👨\\u200d🎨 and **David Alfaro Siqueiros**.\\n\\nThe beautiful stained glass stage curtain 🌈, made by Tiffany & Co., shows the Valley of Mexico with its famous volcanoes 🌋. The Palacio de Bellas Artes is not only a UNESCO World Heritage Site 🌐 but also a must-see if you’re visiting Mexico City!', 'annotations': []}}]\n"
     ]
    }
   ],
   "source": [
    "messages = list(project_client.messages.list(thread_id=thread.id))\n",
    "\n",
    "last_message = messages[0]\n",
    "print(f\"Content: {last_message.content}\")\n",
    "\n",
    "\n"
   ]
  },
  {
   "cell_type": "markdown",
   "id": "2fdf7d2e-f323-4af1-83cc-79ac906ea5e6",
   "metadata": {},
   "source": [
    "## Post processing"
   ]
  },
  {
   "cell_type": "code",
   "execution_count": 27,
   "id": "7677cdb0-a49f-428b-8196-6d4a758331f4",
   "metadata": {},
   "outputs": [
    {
     "name": "stdout",
     "output_type": "stream",
     "text": [
      "Listing all agents in the project:\n",
      "Agent ID: asst_gZN9TiqXKBToioI3WONDdYLd, Name: Emojis, Model: gpt-4.1, Instructions: You are an AI agent that add emojis to a text\n",
      "Agent ID: asst_6Gne1UjCvCuxPKbcKCpDptUK, Name: Translator, Model: gpt-4.1, Instructions: You are an AI agent that translates English into Spanish.\n",
      "Agent ID: asst_w42zCT2O5N5PjS3I6nom3upH, Name: Q&A, Model: gpt-4.1, Instructions: You are an AI agent.\n"
     ]
    }
   ],
   "source": [
    "# List all agents in the project\n",
    "print(\"Listing all agents in the project:\")\n",
    "agents = project_client.list_agents()\n",
    "for agent in agents:\n",
    "    print(f\"Agent ID: {agent.id}, Name: {agent.name}, Model: {agent.model}, Instructions: {agent.instructions}\")"
   ]
  },
  {
   "cell_type": "code",
   "execution_count": 1,
   "id": "51380910",
   "metadata": {},
   "outputs": [
    {
     "ename": "NameError",
     "evalue": "name 'project_client' is not defined",
     "output_type": "error",
     "traceback": [
      "\u001b[31m---------------------------------------------------------------------------\u001b[39m",
      "\u001b[31mNameError\u001b[39m                                 Traceback (most recent call last)",
      "\u001b[36mCell\u001b[39m\u001b[36m \u001b[39m\u001b[32mIn[1]\u001b[39m\u001b[32m, line 2\u001b[39m\n\u001b[32m      1\u001b[39m \u001b[38;5;66;03m# recurse through all agents and delete them adding a test to stop if the agent is not found\u001b[39;00m\n\u001b[32m----> \u001b[39m\u001b[32m2\u001b[39m \u001b[38;5;28;01mfor\u001b[39;00m agent \u001b[38;5;129;01min\u001b[39;00m \u001b[43mproject_client\u001b[49m.list_agents():\n\u001b[32m      3\u001b[39m     \u001b[38;5;28;01mtry\u001b[39;00m:\n\u001b[32m      4\u001b[39m         \u001b[38;5;28mprint\u001b[39m(\u001b[33mf\u001b[39m\u001b[33m\"\u001b[39m\u001b[33mDeleting agent ID: \u001b[39m\u001b[38;5;132;01m{\u001b[39;00magent.id\u001b[38;5;132;01m}\u001b[39;00m\u001b[33m, Name: \u001b[39m\u001b[38;5;132;01m{\u001b[39;00magent.name\u001b[38;5;132;01m}\u001b[39;00m\u001b[33m\"\u001b[39m)\n",
      "\u001b[31mNameError\u001b[39m: name 'project_client' is not defined"
     ]
    }
   ],
   "source": [
    "# recurse through all agents and delete them adding a test to stop if the agent is not found\n",
    "for agent in project_client.list_agents():\n",
    "    try:\n",
    "        print(f\"Deleting agent ID: {agent.id}, Name: {agent.name}\")\n",
    "        project_client.delete_agent(agent.id)\n",
    "    except Exception as e:\n",
    "        print(f\"Error deleting agent ID: {agent.id}, Name: {agent.name}, Error: {e}\")\n",
    "        break"
   ]
  },
  {
   "cell_type": "code",
   "execution_count": null,
   "id": "6e9b634f",
   "metadata": {},
   "outputs": [],
   "source": [
    "agents = project_client.list_agents()\n",
    "for agent in agents:\n",
    "    print(f\"Agent ID: {agent.id}, Name: {agent.name}, Model: {agent.model}, Instructions: {agent.instructions}\")"
   ]
  }
 ],
 "metadata": {
  "kernelspec": {
   "display_name": ".venv",
   "language": "python",
   "name": "python3"
  },
  "language_info": {
   "codemirror_mode": {
    "name": "ipython",
    "version": 3
   },
   "file_extension": ".py",
   "mimetype": "text/x-python",
   "name": "python",
   "nbconvert_exporter": "python",
   "pygments_lexer": "ipython3",
   "version": "3.13.4"
  },
  "varInspector": {
   "cols": {
    "lenName": 16,
    "lenType": 16,
    "lenVar": 40
   },
   "kernels_config": {
    "python": {
     "delete_cmd_postfix": "",
     "delete_cmd_prefix": "del ",
     "library": "var_list.py",
     "varRefreshCmd": "print(var_dic_list())"
    },
    "r": {
     "delete_cmd_postfix": ") ",
     "delete_cmd_prefix": "rm(",
     "library": "var_list.r",
     "varRefreshCmd": "cat(var_dic_list()) "
    }
   },
   "types_to_exclude": [
    "module",
    "function",
    "builtin_function_or_method",
    "instance",
    "_Feature"
   ],
   "window_display": false
  }
 },
 "nbformat": 4,
 "nbformat_minor": 5
}
