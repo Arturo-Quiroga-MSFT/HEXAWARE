{
 "cells": [
  {
   "cell_type": "code",
   "execution_count": null,
   "id": "6c21b871",
   "metadata": {},
   "outputs": [],
   "source": [
    "\"\"\"\n",
    "DESCRIPTION:\n",
    "    This sample demonstrates how to use agent operations with the Bing grounding tool from\n",
    "    the Azure Agents service using a synchronous client.\n",
    "\n",
    "USAGE:\n",
    "    python sample_agents_bing_grounding.py\n",
    "\n",
    "    Before running the sample:\n",
    "\n",
    "    pip install azure-ai-agents azure-identity\n",
    "\n",
    "    Set these environment variables with your own values:\n",
    "    1) PROJECT_ENDPOINT - The Azure AI Project endpoint, as found in the Overview\n",
    "                          page of your Azure AI Foundry portal.\n",
    "    2) MODEL_DEPLOYMENT_NAME - The deployment name of the AI model, as found under the \"Name\" column in\n",
    "       the \"Models + endpoints\" tab in your Azure AI Foundry project.\n",
    "    3) AZURE_BING_CONNECTION_ID - The ID of the Bing connection, in the format of:\n",
    "       /subscriptions/{subscription-id}/resourceGroups/{resource-group-name}/providers/Microsoft.MachineLearningServices/workspaces/{workspace-name}/connections/{connection-name}\n",
    "\"\"\"\n",
    "\n",
    "from json import load\n",
    "import os\n",
    "from azure.ai.agents import AgentsClient\n",
    "from azure.ai.agents.models import MessageRole, BingGroundingTool\n",
    "from azure.identity import DefaultAzureCredential\n",
    "\n",
    "load_dotenv = True\n",
    "if load_dotenv:\n",
    "    from dotenv import load_dotenv\n",
    "    load_dotenv()\n"
   ]
  },
  {
   "cell_type": "code",
   "execution_count": null,
   "id": "ce32e7a2",
   "metadata": {},
   "outputs": [],
   "source": [
    "agents_client = AgentsClient(\n",
    "    endpoint=os.getenv(\"PROJECT_ENDPOINT\"),\n",
    "    credential=DefaultAzureCredential(),\n",
    ")"
   ]
  },
  {
   "cell_type": "code",
   "execution_count": null,
   "id": "bee52bb8",
   "metadata": {},
   "outputs": [],
   "source": [
    "# [START create_agent_with_bing_grounding_tool]\n",
    "conn_id = os.getenv(\"AZURE_BING_CONNECTION_ID\")\n",
    "\n",
    "# Initialize agent bing tool and add the connection id\n",
    "bing = BingGroundingTool(connection_id=conn_id)"
   ]
  },
  {
   "cell_type": "code",
   "execution_count": null,
   "id": "7ee1b5ca",
   "metadata": {},
   "outputs": [],
   "source": [
    "agent = agents_client.create_agent(\n",
    "        model=os.getenv(\"MODEL_DEPLOYMENT_NAME\"),\n",
    "        name=\"my-agent\",\n",
    "        instructions=\"You are a helpful agent\",\n",
    "        tools=bing.definitions,\n",
    "    )\n",
    "    # [END create_agent_with_bing_grounding_tool]\n",
    "\n",
    "print(f\"Created agent, ID: {agent.id}\")\n"
   ]
  },
  {
   "cell_type": "code",
   "execution_count": null,
   "id": "dd1bab24",
   "metadata": {},
   "outputs": [],
   "source": [
    "# Create thread for communication\n",
    "thread = agents_client.threads.create()\n",
    "print(f\"Created thread, ID: {thread.id}\")"
   ]
  },
  {
   "cell_type": "code",
   "execution_count": null,
   "id": "c1926d5f",
   "metadata": {},
   "outputs": [],
   "source": [
    "# Create message to thread\n",
    "message = agents_client.messages.create(\n",
    "    thread_id=thread.id,\n",
    "    role=MessageRole.USER,\n",
    "    content=\"How does wikipedia explain Euler's Identity?\",\n",
    ")\n",
    "print(f\"Created message, ID: {message.id}\")\n"
   ]
  },
  {
   "cell_type": "code",
   "execution_count": null,
   "id": "8be9db67",
   "metadata": {},
   "outputs": [],
   "source": [
    "# Create and process agent run in thread with tools\n",
    "run = agents_client.runs.create_and_process(thread_id=thread.id, agent_id=agent.id)\n",
    "print(f\"Run finished with status: {run.status}\")\n",
    "\n",
    "if run.status == \"failed\":\n",
    "    print(f\"Run failed: {run.last_error}\")"
   ]
  },
  {
   "cell_type": "code",
   "execution_count": null,
   "id": "8a968c78",
   "metadata": {},
   "outputs": [],
   "source": [
    "from azure.ai.projects import AIProjectClient\n",
    "from azure.identity import DefaultAzureCredential\n",
    "from azure.ai.agents.models import ListSortOrder\n",
    "load_dotenv = True\n",
    "if load_dotenv:\n",
    "    from dotenv import load_dotenv\n",
    "    load_dotenv()\n",
    "\n",
    "project = AIProjectClient(\n",
    "    credential=DefaultAzureCredential(),\n",
    "    endpoint=\"https://aq-ai-foundry-sweden-central.services.ai.azure.com/api/projects/firstProject\")\n",
    "\n",
    "# agent = project.agents.get_agent(\"asst_N2x3Nw5zEW9KfOOmwpy1I1NJ\")\n",
    "agent = project.agents.create_agent(\n",
    "    model=os.getenv(\"MODEL_DEPLOYMENT_NAME\"),\n",
    "    name=\"my-agent\",\n",
    "    instructions=\"You are a helpful agent\",\n",
    "    tools=[{\n",
    "        \"type\": \"bing_grounding\",\n",
    "        \"connection_id\": os.getenv(\"AZURE_BING_CONNECTION_ID\")\n",
    "    }]\n",
    ")\n",
    "print(f\"Created agent, ID: {agent.id}\")\n",
    "# Create thread for communication\n",
    "thread = project.agents.threads.create(\n",
    "    agent_id=agent.id,\n",
    "    role=\"user\",\n",
    "    content=\"How does wikipedia explain Euler's Identity?\"\n",
    ")\n",
    "\n",
    "print(f\"Created thread, ID: {thread.id}\")\n",
    "# Create message to thread\n",
    "\n",
    "message = project.agents.messages.create(\n",
    "    thread_id=thread.id,\n",
    "    role=\"user\",\n",
    "    content=\"How does wikipedia explain Euler's Identity?\"\n",
    ")\n",
    "\n",
    "print(f\"Created message, ID: {message.id}\")\n",
    "# Create and process agent run in thread with tools\n",
    "\n",
    "run = project.agents.runs.create_and_process(\n",
    "    thread_id=thread.id,\n",
    "    agent_id=agent.id)\n",
    "\n",
    "if run.status == \"failed\":\n",
    "    print(f\"Run failed: {run.last_error}\")\n",
    "else:\n",
    "    messages = project.agents.messages.list(thread_id=thread.id, order=ListSortOrder.ASCENDING)\n",
    "\n",
    "    for message in messages:\n",
    "        if message.text_messages:\n",
    "            print(f\"{message.role}: {message.text_messages[-1].text.value}\")"
   ]
  },
  {
   "cell_type": "code",
   "execution_count": 5,
   "id": "b7b2fad8",
   "metadata": {},
   "outputs": [],
   "source": [
    "import os\n",
    "from azure.ai.projects import AIProjectClient\n",
    "from azure.identity import DefaultAzureCredential\n",
    "from azure.ai.agents.models import BingGroundingTool\n",
    "load_dotenv = True\n",
    "if load_dotenv:\n",
    "    from dotenv import load_dotenv\n",
    "    load_dotenv()\n",
    "\n",
    "# Create an Azure AI Client from an endpoint, copied from your Azure AI Foundry project.\n",
    "# You need to login to Azure subscription via Azure CLI and set the environment variables\n",
    "project_endpoint = os.getenv(\"PROJECT_ENDPOINT\")  # Ensure the PROJECT_ENDPOINT environment variable is set\n",
    "\n",
    "# Create an AIProjectClient instance\n",
    "project_client = AIProjectClient(\n",
    "    endpoint=project_endpoint,\n",
    "    credential=DefaultAzureCredential(),  # Use Azure Default Credential for authentication\n",
    ")"
   ]
  },
  {
   "cell_type": "code",
   "execution_count": 6,
   "id": "ae4dfc26",
   "metadata": {},
   "outputs": [
    {
     "name": "stdout",
     "output_type": "stream",
     "text": [
      "Created agent, ID: asst_eZUMPIOpKLcWcLhgqPQfNTjS\n"
     ]
    }
   ],
   "source": [
    "conn_id = os.environ[\"BING_CONNECTION_NAME\"]  # Ensure the BING_CONNECTION_NAME environment variable is set\n",
    "\n",
    "# Initialize the Bing Grounding tool\n",
    "bing = BingGroundingTool(connection_id=conn_id)\n",
    "\n",
    "\n",
    "agent = project_client.agents.create_agent(\n",
    "    model=os.environ[\"MODEL_DEPLOYMENT_NAME\"],  # Model deployment name\n",
    "    name=\"my-agent\",  # Name of the agent\n",
    "    instructions=\"You are a helpful agent\",  # Instructions for the agent\n",
    "    tools=bing.definitions,  # Attach the Bing Grounding tool\n",
    ")\n",
    "print(f\"Created agent, ID: {agent.id}\")"
   ]
  },
  {
   "cell_type": "code",
   "execution_count": 7,
   "id": "3ec182c1",
   "metadata": {},
   "outputs": [
    {
     "name": "stdout",
     "output_type": "stream",
     "text": [
      "Created thread, ID: thread_TLPlsLvJaDTFHGGObGn6HWqa\n",
      "Created message, ID: msg_eA59jxX8kmtUw5wCckZ2YIMW\n"
     ]
    }
   ],
   "source": [
    "# Create a thread for communication\n",
    "thread = project_client.agents.threads.create()\n",
    "print(f\"Created thread, ID: {thread.id}\")\n",
    "\n",
    "# Add a message to the thread\n",
    "message = project_client.agents.messages.create(\n",
    "    thread_id=thread.id,\n",
    "    role=\"user\",  # Role of the message sender\n",
    "    content=\"What is the weather in Seattle today?\",  # Message content\n",
    ")\n",
    "print(f\"Created message, ID: {message.id}\")"
   ]
  },
  {
   "cell_type": "code",
   "execution_count": 8,
   "id": "22e8fd84",
   "metadata": {},
   "outputs": [
    {
     "name": "stdout",
     "output_type": "stream",
     "text": [
      "Run finished with status: RunStatus.FAILED\n",
      "Run failed: {'code': 'tool_user_error', 'message': \"Error: invalid_tool_input; The specified connection ID 'aqbinggrounding001' was not found in the project or account connections. Please verify that the connection id in tool input is correct and exists in the project or account.\"}\n",
      "Role: MessageRole.USER, Content: [{'type': 'text', 'text': {'value': 'What is the weather in Seattle today?', 'annotations': []}}]\n",
      "Deleted agent\n"
     ]
    }
   ],
   "source": [
    "# Create and process an agent run\n",
    "run = project_client.agents.runs.create_and_process(thread_id=thread.id, agent_id=agent.id)\n",
    "print(f\"Run finished with status: {run.status}\")\n",
    "\n",
    "# Check if the run failed\n",
    "if run.status == \"failed\":\n",
    "    print(f\"Run failed: {run.last_error}\")\n",
    "\n",
    "# Fetch and log all messages\n",
    "messages = project_client.agents.messages.list(thread_id=thread.id)\n",
    "for message in messages:\n",
    "    print(f\"Role: {message.role}, Content: {message.content}\")\n",
    "\n",
    "# Delete the agent when done\n",
    "project_client.agents.delete_agent(agent.id)\n",
    "print(\"Deleted agent\")"
   ]
  }
 ],
 "metadata": {
  "kernelspec": {
   "display_name": ".venv",
   "language": "python",
   "name": "python3"
  },
  "language_info": {
   "codemirror_mode": {
    "name": "ipython",
    "version": 3
   },
   "file_extension": ".py",
   "mimetype": "text/x-python",
   "name": "python",
   "nbconvert_exporter": "python",
   "pygments_lexer": "ipython3",
   "version": "3.13.4"
  }
 },
 "nbformat": 4,
 "nbformat_minor": 5
}
