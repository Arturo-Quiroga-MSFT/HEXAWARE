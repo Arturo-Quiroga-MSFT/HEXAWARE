{
 "cells": [
  {
   "cell_type": "markdown",
   "id": "431cc026-279f-4105-8444-f1b93650da0d",
   "metadata": {},
   "source": [
    "# Azure AI Agent service - Multi Agent team\n",
    "\n",
    "<img src=\"https://learn.microsoft.com/en-us/azure/ai-services/agents/media/agent-service-the-glue.png\" width=800>\n",
    "\n",
    "> https://learn.microsoft.com/en-us/azure/ai-services/agents/"
   ]
  },
  {
   "cell_type": "markdown",
   "id": "fbd59a8d",
   "metadata": {},
   "source": [
    "## Description\n",
    "\n",
    "This sample demonstrates how to use multiple agents with `AgentTeam` and traces.\n",
    "\n",
    "The team consists of:\n",
    "- **One leader agent** – automatically created by `AgentTeam` from the configuration in [`utils/agent_team_config.yaml`](../utils/agent_team_config.yaml)\n",
    "- **Two worker agents** – `Coder` and `Reviewer`, defined in the code below\n"
   ]
  },
  {
   "cell_type": "code",
   "execution_count": 1,
   "id": "7a3e72d0-7521-438c-928d-5fa293b0f419",
   "metadata": {},
   "outputs": [
    {
     "data": {
      "text/plain": [
       "True"
      ]
     },
     "execution_count": 1,
     "metadata": {},
     "output_type": "execute_result"
    }
   ],
   "source": [
    "import json\n",
    "import os\n",
    "import sys\n",
    "import time\n",
    "\n",
    "from typing import Optional, Set\n",
    "from azure.ai.agents import AgentsClient\n",
    "from azure.identity import DefaultAzureCredential\n",
    "from utils.agent_team import AgentTeam, _create_task, AgentTask\n",
    "from utils.agent_trace_configurator import AgentTraceConfigurator\n",
    "from azure.ai.agents.models import FunctionTool, ToolSet\n",
    "\n",
    "from dotenv import load_dotenv\n",
    "from openai import AzureOpenAI\n",
    "\n",
    "load_dotenv()"
   ]
  },
  {
   "cell_type": "markdown",
   "id": "cc2c1d28-e366-442e-a186-81239ec337ec",
   "metadata": {},
   "source": [
    "## Create connection to AI Foundry Project & instantiate a project client"
   ]
  },
  {
   "cell_type": "code",
   "execution_count": 2,
   "id": "76c7bbb7-0faa-4500-ba42-7c5b176f6196",
   "metadata": {},
   "outputs": [
    {
     "name": "stdout",
     "output_type": "stream",
     "text": [
      "Using endpoint: https://aq-ai-foundry-sweden-central.services.ai.azure.com/api/projects/firstProject\n"
     ]
    }
   ],
   "source": [
    "endpoint = os.getenv(\"PROJECT_ENDPOINT\")\n",
    "print(f\"Using endpoint: {endpoint}\")\n",
    "credential = DefaultAzureCredential()\n",
    "\n",
    "agents_client = AgentsClient(\n",
    "    endpoint=endpoint,\n",
    "    credential=credential,\n",
    ")"
   ]
  },
  {
   "cell_type": "code",
   "execution_count": 3,
   "id": "f9f98ef1",
   "metadata": {},
   "outputs": [],
   "source": [
    "agents_client.enable_auto_function_calls({_create_task})"
   ]
  },
  {
   "cell_type": "markdown",
   "id": "2f89e333",
   "metadata": {},
   "source": [
    "## This section demonstrates how to multiple agents using AgentTeam with traces."
   ]
  },
  {
   "cell_type": "code",
   "execution_count": 4,
   "id": "51d082f9",
   "metadata": {},
   "outputs": [],
   "source": [
    "def create_task(team_name: str, recipient: str, request: str, requestor: str) -> str:\n",
    "    \"\"\"\n",
    "    Requests another agent in the team to complete a task.\n",
    "\n",
    "    :param team_name (str): The name of the team.\n",
    "    :param recipient (str): The name of the agent that is being requested to complete the task.\n",
    "    :param request (str): A description of the to complete. This can also be a question.\n",
    "    :param requestor (str): The name of the agent who is requesting the task.\n",
    "    :return: True if the task was successfully received, False otherwise.\n",
    "    :rtype: str\n",
    "    \"\"\"\n",
    "    task = AgentTask(recipient=recipient, task_description=request, requestor=requestor)\n",
    "    team: Optional[AgentTeam] = None\n",
    "    try:\n",
    "        team = AgentTeam.get_team(team_name)\n",
    "    except:\n",
    "        pass\n",
    "    if team is not None:\n",
    "        team.add_task(task)\n",
    "        return \"True\"\n",
    "    return \"False\""
   ]
  },
  {
   "cell_type": "code",
   "execution_count": 5,
   "id": "ef12aa30",
   "metadata": {},
   "outputs": [],
   "source": [
    "# Any additional functions that might be used by the agents:\n",
    "agent_team_default_functions: Set = {\n",
    "    create_task,\n",
    "}\n",
    "\n",
    "default_function_tool = FunctionTool(functions=agent_team_default_functions)\n",
    "\n",
    "agents_client.enable_auto_function_calls({create_task})"
   ]
  },
  {
   "cell_type": "code",
   "execution_count": 6,
   "id": "b3a786d0",
   "metadata": {},
   "outputs": [
    {
     "name": "stdout",
     "output_type": "stream",
     "text": [
      "Select a tracing option:\n",
      "1. Enable Azure Monitor tracing\n",
      "2. Enable console tracing without enabling gen_ai agent traces\n",
      "3. Enable console tracing with gen_ai agent traces\n",
      "4. Do not enable traces\n",
      "A team of agents specialized in software engineering is available for requests.\n",
      "Created thread with ID: thread_BMfn2gDotiMOGMcrfrFKKdbi\n",
      "Starting task for agent 'TeamLeader'. Requestor: 'user'. Task description: 'Please create a task for agent in the team that is best suited to next process the following request. \n",
      "Use the _create_task function available for you to create the task. The request is: \n",
      "1\n",
      "'.\n",
      "Created message with ID: msg_MLmYDLVCe64WWHIiOnHwM0Te for task in thread thread_BMfn2gDotiMOGMcrfrFKKdbi\n",
      "Created and processed run for agent 'TeamLeader', run ID: run_q4d0xJt95nLFubRVmDjKN36q\n",
      "Agent 'TeamLeader' completed task. Outcome: I have assigned the task to Coder because the request \"1\" seems to be something that requires processing or coding. Coder is best suited to handle this next step.\n",
      "Starting task for agent 'Coder'. Requestor: 'TeamLeader'. Task description: 'Process the request: 1'.\n",
      "Created message with ID: msg_NggXsmrymu28OSCil6MTS7hv for task in thread thread_BMfn2gDotiMOGMcrfrFKKdbi\n",
      "Created and processed run for agent 'Coder', run ID: run_WbEB8zaSqSiR7ZHtLmZ05PbP\n",
      "Agent 'Coder' completed task. Outcome: The request \"1\" is quite vague. Could you please provide more context or clarify what specifically you would like me to do with the request \"1\"? For example, is it related to coding, data processing, or something else?\n",
      "Starting task for agent 'TeamLeader'. Requestor: 'user'. Task description: 'Check the discussion so far and especially the most recent agent response in the thread and if you see a potential task \n",
      "that could improve the final outcome, then use the _create_task function to create the task. \n",
      "Do not ever ask user confirmation for creating a task. \n",
      "If the request is completely processed, you do not have to create a task.\n",
      "'.\n",
      "Created message with ID: msg_t73UuckkwxU1KdHsTBN95Hrt for task in thread thread_BMfn2gDotiMOGMcrfrFKKdbi\n",
      "Created and processed run for agent 'TeamLeader', run ID: run_OR7DuSMvvw0DhnvJOxXNDtl5\n",
      "Agent 'TeamLeader' completed task. Outcome: I have assigned the task to Reviewer to review the code or output generated by the Coder for the request: 1. This can help improve the final outcome by ensuring quality and correctness.\n",
      "Starting task for agent 'Reviewer'. Requestor: 'TeamLeader'. Task description: 'Review the code or output generated by the Coder for the request: 1'.\n",
      "Created message with ID: msg_YQZnqtUxaY9BqLAQQFK8E8Q8 for task in thread thread_BMfn2gDotiMOGMcrfrFKKdbi\n",
      "Created and processed run for agent 'Reviewer', run ID: run_W9r60sIrmP5ZHmNHLCHrse8b\n",
      "Agent 'Reviewer' completed task. Outcome: I have not received any code or output generated by the Coder for the request: 1 yet. Please provide the code or output so that I can review it. If you want, I can remind the Coder to process the request and produce the necessary output for review. Would you like me to do that?\n",
      "Starting task for agent 'TeamLeader'. Requestor: 'user'. Task description: 'Check the discussion so far and especially the most recent agent response in the thread and if you see a potential task \n",
      "that could improve the final outcome, then use the _create_task function to create the task. \n",
      "Do not ever ask user confirmation for creating a task. \n",
      "If the request is completely processed, you do not have to create a task.\n",
      "'.\n",
      "Created message with ID: msg_NbKC09mc4jIZMrnhQrjImjmN for task in thread thread_BMfn2gDotiMOGMcrfrFKKdbi\n",
      "Created and processed run for agent 'TeamLeader', run ID: run_nNStKZftaJdMOsMjxtkTxAhE\n",
      "Agent 'TeamLeader' completed task. Outcome: I have assigned the task back to Coder to proceed with processing the request and generate the necessary code or output, since none was provided for review yet. This will help move the work forward.\n",
      "Starting task for agent 'Coder'. Requestor: 'TeamLeader'. Task description: 'Since no output or code was generated yet for the request: 1, please proceed to process the request and generate the necessary code or output.'.\n",
      "Created message with ID: msg_iJVHNFfWXFcRsjrwwHN4pJ8s for task in thread thread_BMfn2gDotiMOGMcrfrFKKdbi\n",
      "Created and processed run for agent 'Coder', run ID: run_5fqsgFEy5CX0si7tMa8Lv7Y1\n",
      "Agent 'Coder' completed task. Outcome: ```python\n",
      "# Process the request \"1\" by incrementing it by 1 and printing the result\n",
      "\n",
      "def process_number(num):\n",
      "    result = num + 1\n",
      "    print(f\"Processing number {num}: incremented result is {result}\")\n",
      "    return result\n",
      "\n",
      "# Example usage\n",
      "if __name__ == \"__main__\":\n",
      "    input_number = 1\n",
      "    process_number(input_number)\n",
      "```\n",
      "\n",
      "This code defines a function `process_number` that takes an integer, increments it by 1, prints the result, and returns it. The example usage processes the number 1 as requested.\n",
      "Starting task for agent 'TeamLeader'. Requestor: 'user'. Task description: 'Check the discussion so far and especially the most recent agent response in the thread and if you see a potential task \n",
      "that could improve the final outcome, then use the _create_task function to create the task. \n",
      "Do not ever ask user confirmation for creating a task. \n",
      "If the request is completely processed, you do not have to create a task.\n",
      "'.\n",
      "Created message with ID: msg_EMDubD8JIGrilCHOk7bXaaDu for task in thread thread_BMfn2gDotiMOGMcrfrFKKdbi\n",
      "Created and processed run for agent 'TeamLeader', run ID: run_Bwr5B5SaLyjlfeMNdEacWQH9\n",
      "Agent 'TeamLeader' completed task. Outcome: I have assigned the task to Reviewer to review the Python code snippet that processes the number 1 by incrementing it and printing the result. This will help ensure correctness and quality of the code.\n",
      "Starting task for agent 'Reviewer'. Requestor: 'TeamLeader'. Task description: 'Review the Python code snippet that processes the number 1 by incrementing it and printing the result to ensure correctness and quality.'.\n",
      "Created message with ID: msg_bPjmIWfZEV6xuG0bUoCq0Np3 for task in thread thread_BMfn2gDotiMOGMcrfrFKKdbi\n",
      "Created and processed run for agent 'Reviewer', run ID: run_1i6dVBnB3qdKqJvF8avg3WT2\n",
      "Agent 'Reviewer' completed task. Outcome: Review of the Python code snippet:\n",
      "\n",
      "The code defines a function `process_number` that takes an integer `num`, increments it by 1, prints the original number and the incremented result, and returns the incremented result. The main block demonstrates usage by calling this function with input 1.\n",
      "\n",
      "Strengths:\n",
      "- The function is simple and clear in its purpose.\n",
      "- The print statement adequately describes the operation performed.\n",
      "- The return of the result allows further use if needed.\n",
      "- The use of the main guard (`if __name__ == \"__main__\":`) is a good practice for scripting.\n",
      "\n",
      "Potential improvements:\n",
      "- Add type hints to the function signature to improve code readability and static type checking.\n",
      "- Add a docstring to describe the function purpose and parameters.\n",
      "- Although trivial here, consider error handling or input validation if the function were to be expanded.\n",
      "\n",
      "Revised snippet incorporating improvements:\n",
      "\n",
      "```python\n",
      "def process_number(num: int) -> int:\n",
      "    \"\"\"\n",
      "    Increment the given number by 1 and print the result.\n",
      "\n",
      "    Args:\n",
      "        num (int): The number to process.\n",
      "\n",
      "    Returns:\n",
      "        int: The incremented result.\n",
      "    \"\"\"\n",
      "    result = num + 1\n",
      "    print(f\"Processing number {num}: incremented result is {result}\")\n",
      "    return result\n",
      "\n",
      "if __name__ == \"__main__\":\n",
      "    input_number = 1\n",
      "    process_number(input_number)\n",
      "```\n",
      "\n",
      "Overall, the original code is correct and functional. The suggested improvements are primarily for clarity and best practices. The final output meets the initial request.\n",
      "Starting task for agent 'TeamLeader'. Requestor: 'user'. Task description: 'Check the discussion so far and especially the most recent agent response in the thread and if you see a potential task \n",
      "that could improve the final outcome, then use the _create_task function to create the task. \n",
      "Do not ever ask user confirmation for creating a task. \n",
      "If the request is completely processed, you do not have to create a task.\n",
      "'.\n",
      "Created message with ID: msg_k46LPmhblQR3hJcDcPtOeOND for task in thread thread_BMfn2gDotiMOGMcrfrFKKdbi\n",
      "Created and processed run for agent 'TeamLeader', run ID: run_0yhAO3x8CskBfdqBYXA7jD09\n",
      "Agent 'TeamLeader' completed task. Outcome: The request has been processed completely: the code for the request \"1\" was provided by Coder, and Reviewer has reviewed it and suggested improvements. No further tasks are necessary.\n",
      "Deleting team leader agent 'TeamLeader'\n",
      "Deleting agent 'Coder'\n",
      "Deleting agent 'Reviewer'\n"
     ]
    }
   ],
   "source": [
    "model_deployment_name = \"gpt-4.1-mini\"\n",
    "\n",
    "if model_deployment_name is not None:\n",
    "    AgentTraceConfigurator(agents_client=agents_client).setup_tracing()\n",
    "    with agents_client:\n",
    "        agent_team = AgentTeam(\"test_team\", agents_client=agents_client)\n",
    "        toolset = ToolSet()\n",
    "        toolset.add(default_function_tool)\n",
    "        agent_team.set_team_leader(\n",
    "            model=model_deployment_name,\n",
    "            name=\"TeamLeader\",\n",
    "            instructions=\"You are an agent named 'TeamLeader'. You are a leader of a team of agents. The name of your team is 'test_team'.\"\n",
    "            \"You are an agent that is responsible for receiving requests from user and utilizing a team of agents to complete the task. \"\n",
    "            \"When you are passed a request, the only thing you will do is evaluate which team member should do which task next to complete the request. \"\n",
    "            \"You will use the provided create_task function to create a task for the agent that is best suited for handling the task next. \"\n",
    "            \"You will respond with the description of who you assigned the task and why. When you think that the original user request is \"\n",
    "            \"processed completely utilizing all the talent available in the team, you do not have to create anymore tasks. \"\n",
    "            \"Using the skills of all the team members when applicable is highly valued. \"\n",
    "            \"Do not create parallel tasks. \"\n",
    "            \"Here are the other agents in your team: \"\n",
    "            \"- Coder: You are software engineer who writes great code. Your name is Coder. \"\n",
    "            \"- Reviewer: You are software engineer who reviews code. Your name is Reviewer.\",\n",
    "            toolset=toolset,\n",
    "        )\n",
    "        agent_team.add_agent(\n",
    "            model=model_deployment_name,\n",
    "            name=\"Coder\",\n",
    "            instructions=\"You are software engineer who writes great code. Your name is Coder.\",\n",
    "        )\n",
    "        agent_team.add_agent(\n",
    "            model=model_deployment_name,\n",
    "            name=\"Reviewer\",\n",
    "            instructions=\"You are software engineer who reviews code. Your name is Reviewer.\",\n",
    "        )\n",
    "        agent_team.assemble_team()\n",
    "\n",
    "        print(\"A team of agents specialized in software engineering is available for requests.\")\n",
    "        while True:\n",
    "            user_input = input(\"Input (type 'quit' or 'exit' to exit): \")\n",
    "            if user_input.lower() == \"quit\":\n",
    "                break\n",
    "            elif user_input.lower() == \"exit\":\n",
    "                break\n",
    "            agent_team.process_request(request=user_input)\n",
    "\n",
    "        agent_team.dismantle_team()\n",
    "else:\n",
    "    print(\"Error: Please define the environment variable MODEL_DEPLOYMENT_NAME.\")\n"
   ]
  }
 ],
 "metadata": {
  "kernelspec": {
   "display_name": ".venv",
   "language": "python",
   "name": "python3"
  },
  "language_info": {
   "codemirror_mode": {
    "name": "ipython",
    "version": 3
   },
   "file_extension": ".py",
   "mimetype": "text/x-python",
   "name": "python",
   "nbconvert_exporter": "python",
   "pygments_lexer": "ipython3",
   "version": "3.13.4"
  },
  "varInspector": {
   "cols": {
    "lenName": 16,
    "lenType": 16,
    "lenVar": 40
   },
   "kernels_config": {
    "python": {
     "delete_cmd_postfix": "",
     "delete_cmd_prefix": "del ",
     "library": "var_list.py",
     "varRefreshCmd": "print(var_dic_list())"
    },
    "r": {
     "delete_cmd_postfix": ") ",
     "delete_cmd_prefix": "rm(",
     "library": "var_list.r",
     "varRefreshCmd": "cat(var_dic_list()) "
    }
   },
   "types_to_exclude": [
    "module",
    "function",
    "builtin_function_or_method",
    "instance",
    "_Feature"
   ],
   "window_display": false
  }
 },
 "nbformat": 4,
 "nbformat_minor": 5
}
