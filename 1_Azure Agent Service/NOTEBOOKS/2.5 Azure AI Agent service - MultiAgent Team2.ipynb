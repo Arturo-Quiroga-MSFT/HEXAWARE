{
 "cells": [
  {
   "cell_type": "markdown",
   "id": "431cc026-279f-4105-8444-f1b93650da0d",
   "metadata": {},
   "source": [
    "# Azure AI Agent service - Multi Agent team\n",
    "\n",
    "<img src=\"https://learn.microsoft.com/en-us/azure/ai-services/agents/media/agent-service-the-glue.png\" width=800>\n",
    "\n",
    "> https://learn.microsoft.com/en-us/azure/ai-services/agents/"
   ]
  },
  {
   "cell_type": "markdown",
   "id": "fbd59a8d",
   "metadata": {},
   "source": [
    "## Description\n",
    "\n",
    "This sample demonstrates how to use multiple agents with `AgentTeam` and traces.\n",
    "\n",
    "The team consists of:\n",
    "- **One leader agent** – automatically created by `AgentTeam` from the configuration in [`utils/agent_team_config.yaml`](../utils/agent_team_config.yaml)\n",
    "- **Two worker agents** – `Coder` and `Reviewer`, defined in the code below\n"
   ]
  },
  {
   "cell_type": "code",
   "execution_count": 1,
   "id": "7a3e72d0-7521-438c-928d-5fa293b0f419",
   "metadata": {},
   "outputs": [
    {
     "data": {
      "text/plain": [
       "True"
      ]
     },
     "execution_count": 1,
     "metadata": {},
     "output_type": "execute_result"
    }
   ],
   "source": [
    "import json\n",
    "import os\n",
    "import sys\n",
    "import time\n",
    "\n",
    "from typing import Optional, Set\n",
    "from azure.ai.agents import AgentsClient\n",
    "from azure.identity import DefaultAzureCredential\n",
    "from utils.agent_team import AgentTeam, _create_task, AgentTask\n",
    "from utils.agent_trace_configurator import AgentTraceConfigurator\n",
    "from azure.ai.agents.models import FunctionTool, ToolSet\n",
    "\n",
    "from dotenv import load_dotenv\n",
    "from openai import AzureOpenAI\n",
    "\n",
    "load_dotenv()"
   ]
  },
  {
   "cell_type": "markdown",
   "id": "cc2c1d28-e366-442e-a186-81239ec337ec",
   "metadata": {},
   "source": [
    "## Create connection to AI Foundry Project & instantiate a project client"
   ]
  },
  {
   "cell_type": "code",
   "execution_count": 2,
   "id": "76c7bbb7-0faa-4500-ba42-7c5b176f6196",
   "metadata": {},
   "outputs": [
    {
     "name": "stdout",
     "output_type": "stream",
     "text": [
      "Using endpoint: https://aq-ai-foundry-sweden-central.services.ai.azure.com/api/projects/firstProject\n"
     ]
    }
   ],
   "source": [
    "endpoint = os.getenv(\"PROJECT_ENDPOINT\")\n",
    "print(f\"Using endpoint: {endpoint}\")\n",
    "credential = DefaultAzureCredential()\n",
    "\n",
    "agents_client = AgentsClient(\n",
    "    endpoint=endpoint,\n",
    "    credential=credential,\n",
    ")"
   ]
  },
  {
   "cell_type": "code",
   "execution_count": 3,
   "id": "f9f98ef1",
   "metadata": {},
   "outputs": [],
   "source": [
    "agents_client.enable_auto_function_calls({_create_task})"
   ]
  },
  {
   "cell_type": "markdown",
   "id": "2f89e333",
   "metadata": {},
   "source": [
    "## This section demonstrates how to multiple agents using AgentTeam with traces."
   ]
  },
  {
   "cell_type": "code",
   "execution_count": 4,
   "id": "51d082f9",
   "metadata": {},
   "outputs": [],
   "source": [
    "def create_task(team_name: str, recipient: str, request: str, requestor: str) -> str:\n",
    "    \"\"\"\n",
    "    Requests another agent in the team to complete a task.\n",
    "\n",
    "    :param team_name (str): The name of the team.\n",
    "    :param recipient (str): The name of the agent that is being requested to complete the task.\n",
    "    :param request (str): A description of the to complete. This can also be a question.\n",
    "    :param requestor (str): The name of the agent who is requesting the task.\n",
    "    :return: True if the task was successfully received, False otherwise.\n",
    "    :rtype: str\n",
    "    \"\"\"\n",
    "    task = AgentTask(recipient=recipient, task_description=request, requestor=requestor)\n",
    "    team: Optional[AgentTeam] = None\n",
    "    try:\n",
    "        team = AgentTeam.get_team(team_name)\n",
    "    except:\n",
    "        pass\n",
    "    if team is not None:\n",
    "        team.add_task(task)\n",
    "        return \"True\"\n",
    "    return \"False\""
   ]
  },
  {
   "cell_type": "code",
   "execution_count": 5,
   "id": "ef12aa30",
   "metadata": {},
   "outputs": [],
   "source": [
    "# Any additional functions that might be used by the agents:\n",
    "agent_team_default_functions: Set = {\n",
    "    create_task,\n",
    "}\n",
    "\n",
    "default_function_tool = FunctionTool(functions=agent_team_default_functions)\n",
    "\n",
    "agents_client.enable_auto_function_calls({create_task})"
   ]
  },
  {
   "cell_type": "code",
   "execution_count": 7,
   "id": "b3a786d0",
   "metadata": {},
   "outputs": [
    {
     "name": "stdout",
     "output_type": "stream",
     "text": [
      "Select a tracing option:\n",
      "1. Enable Azure Monitor tracing\n",
      "2. Enable console tracing without enabling gen_ai agent traces\n",
      "3. Enable console tracing with gen_ai agent traces\n",
      "4. Do not enable traces\n",
      "A team of agents specialized in software engineering is available for requests.\n",
      "Created thread with ID: thread_zWFsCuwg0jStDJl2LH2lqREm\n",
      "Starting task for agent 'TeamLeader'. Requestor: 'user'. Task description: 'Please create a task for agent in the team that is best suited to next process the following request. \n",
      "Use the _create_task function available for you to create the task. The request is: \n",
      "find out the price of MSFT stock using python\n",
      "'.\n",
      "Created message with ID: msg_ImBTuRw7wKnWoCt4STuWblJ3 for task in thread thread_zWFsCuwg0jStDJl2LH2lqREm\n",
      "Created and processed run for agent 'TeamLeader', run ID: run_xEWHgqQp2erpt8l6cJqdVDzS\n",
      "Agent 'TeamLeader' completed task. Outcome: I assigned the task to Coder because the request involves writing a Python script to find out the price of the MSFT stock, which is a programming task best suited for the software engineer. The Coder will write the code to complete this.\n",
      "Starting task for agent 'Coder'. Requestor: 'TeamLeader'. Task description: 'Write a Python script to find out the price of MSFT stock.'.\n",
      "Created message with ID: msg_RgaBUGYIa8qN0YKGiyLByeVT for task in thread thread_zWFsCuwg0jStDJl2LH2lqREm\n",
      "Created and processed run for agent 'Coder', run ID: run_z1POLUPN6FF7dWFDyhXDiPrP\n",
      "Agent 'Coder' completed task. Outcome: Sure! Here's a Python script that uses the yfinance library to get the current price of the MSFT stock:\n",
      "\n",
      "```python\n",
      "import yfinance as yf\n",
      "\n",
      "def get_stock_price(ticker):\n",
      "    stock = yf.Ticker(ticker)\n",
      "    # Get the latest market data\n",
      "    data = stock.history(period=\"1d\")\n",
      "    if data.empty:\n",
      "        return None\n",
      "    # Extract the closing price of the most recent day\n",
      "    return data['Close'].iloc[-1]\n",
      "\n",
      "if __name__ == \"__main__\":\n",
      "    ticker = \"MSFT\"\n",
      "    price = get_stock_price(ticker)\n",
      "    if price is not None:\n",
      "        print(f\"The current price of {ticker} stock is ${price:.2f}\")\n",
      "    else:\n",
      "        print(f\"Could not retrieve the price for {ticker} stock.\")\n",
      "```\n",
      "\n",
      "Make sure you have yfinance installed. You can install it via pip if you don't have it:\n",
      "\n",
      "```bash\n",
      "pip install yfinance\n",
      "```\n",
      "\n",
      "Would you like me to proceed to review this code or run it?\n",
      "Starting task for agent 'TeamLeader'. Requestor: 'user'. Task description: 'Check the discussion so far and especially the most recent agent response in the thread and if you see a potential task \n",
      "that could improve the final outcome, then use the _create_task function to create the task. \n",
      "Do not ever ask user confirmation for creating a task. \n",
      "If the request is completely processed, you do not have to create a task.\n",
      "'.\n",
      "Created message with ID: msg_OWw7svJ6OEgVSf5bK3c3UxmW for task in thread thread_zWFsCuwg0jStDJl2LH2lqREm\n",
      "Created and processed run for agent 'TeamLeader', run ID: run_2bYo1Xq7POXGm3JPJODmBCe9\n",
      "Agent 'TeamLeader' completed task. Outcome: I assigned the task to Reviewer to review the Python script created by Coder to ensure it is correct, efficient, and follows best practices. This step will improve the final outcome by ensuring high code quality.\n",
      "Starting task for agent 'Reviewer'. Requestor: 'TeamLeader'. Task description: 'Review the Python script for finding the price of MSFT stock for correctness, efficiency, and best practices.'.\n",
      "Created message with ID: msg_KdspKFfzamHPWwhst6A6t8eq for task in thread thread_zWFsCuwg0jStDJl2LH2lqREm\n",
      "Created and processed run for agent 'Reviewer', run ID: run_AndkdTxtwpqaJqbF5R5gom62\n",
      "Agent 'Reviewer' completed task. Outcome: Review of the Python script for finding the price of MSFT stock:\n",
      "\n",
      "Correctness:\n",
      "- The script correctly uses the yfinance library to fetch stock data for the ticker \"MSFT\".\n",
      "- It retrieves the most recent closing price from the historical data of the past 1 day, which is a valid way to get the current market price if the market is open or recent close price otherwise.\n",
      "- The handling of empty data by returning None and printing a message is appropriate.\n",
      "\n",
      "Efficiency:\n",
      "- The script is efficient given the task; it queries only 1 day of data which is minimal and sufficient for current price retrieval.\n",
      "- No unnecessary data processing is done.\n",
      "\n",
      "Best Practices:\n",
      "- The code is well structured and modular by encapsulating logic inside the get_stock_price function.\n",
      "- The use of main guard (if __name__ == \"__main__\") is appropriate for script execution entry point.\n",
      "- It includes user-friendly messages and error handling for missing data.\n",
      "- The script uses f-string formatting which is modern and readable.\n",
      "\n",
      "Suggestions for minor improvements:\n",
      "- Add a requirements comment or docstring mentioning that yfinance is a dependency.\n",
      "- Optionally, include exception handling in case network issues or API changes cause errors when calling yfinance.\n",
      "- Could add type hints for clarity, e.g., `def get_stock_price(ticker: str) -> float | None:`\n",
      "\n",
      "Overall, the script is well-written, correct, and efficient. It effectively achieves the requested functionality with good code quality. No major issues found.\n",
      "Starting task for agent 'TeamLeader'. Requestor: 'user'. Task description: 'Check the discussion so far and especially the most recent agent response in the thread and if you see a potential task \n",
      "that could improve the final outcome, then use the _create_task function to create the task. \n",
      "Do not ever ask user confirmation for creating a task. \n",
      "If the request is completely processed, you do not have to create a task.\n",
      "'.\n",
      "Created message with ID: msg_biIRKKqEEyrL8ZVNda35voE5 for task in thread thread_zWFsCuwg0jStDJl2LH2lqREm\n",
      "Created and processed run for agent 'TeamLeader', run ID: run_QsYQncvPw7U6aRsxN5b0QKJI\n",
      "Agent 'TeamLeader' completed task. Outcome: I assigned the task to Coder to enhance the existing Python script by adding a requirements comment or docstring, exception handling for network or API errors, and type hints for clarity. These improvements will make the script more robust and maintainable.\n",
      "Starting task for agent 'Coder'. Requestor: 'TeamLeader'. Task description: 'Enhance the Python script for finding the price of MSFT stock by adding a requirements comment or docstring, including exception handling for network or API errors, and adding type hints for clarity.'.\n",
      "Created message with ID: msg_VQVdtUopi9r17sdECBNEt7WU for task in thread thread_zWFsCuwg0jStDJl2LH2lqREm\n",
      "Created and processed run for agent 'Coder', run ID: run_sUm0vFSEywfaKxCwYwR60kny\n",
      "Agent 'Coder' completed task. Outcome: Here's the enhanced Python script with a requirements docstring, exception handling, and type hints:\n",
      "\n",
      "```python\n",
      "\"\"\"\n",
      "Script to fetch the current price of a stock ticker using yfinance.\n",
      "\n",
      "Requirements:\n",
      "- yfinance package (install via: pip install yfinance)\n",
      "\"\"\"\n",
      "\n",
      "import yfinance as yf\n",
      "from typing import Optional\n",
      "\n",
      "def get_stock_price(ticker: str) -> Optional[float]:\n",
      "    \"\"\"\n",
      "    Retrieve the latest closing price of the given stock ticker.\n",
      "\n",
      "    Args:\n",
      "        ticker (str): The stock ticker symbol.\n",
      "\n",
      "    Returns:\n",
      "        Optional[float]: The latest closing price if available, None otherwise.\n",
      "    \"\"\"\n",
      "    try:\n",
      "        stock = yf.Ticker(ticker)\n",
      "        data = stock.history(period=\"1d\")\n",
      "        if data.empty:\n",
      "            return None\n",
      "        return data['Close'].iloc[-1]\n",
      "    except Exception as e:\n",
      "        print(f\"Error retrieving stock data for {ticker}: {e}\")\n",
      "        return None\n",
      "\n",
      "if __name__ == \"__main__\":\n",
      "    ticker = \"MSFT\"\n",
      "    price = get_stock_price(ticker)\n",
      "    if price is not None:\n",
      "        print(f\"The current price of {ticker} stock is ${price:.2f}\")\n",
      "    else:\n",
      "        print(f\"Could not retrieve the price for {ticker} stock.\")\n",
      "```\n",
      "\n",
      "This version provides clear usage instructions, improves robustness with exception handling, and clarifies function input/output with type hints. Let me know if you need further modifications or actions.\n",
      "Starting task for agent 'TeamLeader'. Requestor: 'user'. Task description: 'Check the discussion so far and especially the most recent agent response in the thread and if you see a potential task \n",
      "that could improve the final outcome, then use the _create_task function to create the task. \n",
      "Do not ever ask user confirmation for creating a task. \n",
      "If the request is completely processed, you do not have to create a task.\n",
      "'.\n",
      "Created message with ID: msg_zkkDXhgbrWexWP6zs1G3dTk6 for task in thread thread_zWFsCuwg0jStDJl2LH2lqREm\n",
      "Created and processed run for agent 'TeamLeader', run ID: run_uQw8WgeNb5vxuLN0VRFUEgKp\n",
      "Agent 'TeamLeader' completed task. Outcome: The enhanced Python script addresses the previous review comments and includes improvements that increase robustness and clarity. The original request of finding the price of MSFT stock using Python has been fully handled with proper coding, review, and enhancement.\n",
      "\n",
      "No further tasks are needed at this time. The request is completely processed.\n",
      "Deleting team leader agent 'TeamLeader'\n",
      "Deleting agent 'Coder'\n",
      "Deleting agent 'Reviewer'\n"
     ]
    }
   ],
   "source": [
    "model_deployment_name = \"gpt-4.1-mini\"\n",
    "\n",
    "if model_deployment_name is not None:\n",
    "    AgentTraceConfigurator(agents_client=agents_client).setup_tracing()\n",
    "    with agents_client:\n",
    "        agent_team = AgentTeam(\"test_team\", agents_client=agents_client)\n",
    "        toolset = ToolSet()\n",
    "        toolset.add(default_function_tool)\n",
    "        agent_team.set_team_leader(\n",
    "            model=model_deployment_name,\n",
    "            name=\"TeamLeader\",\n",
    "            instructions=\"You are an agent named 'TeamLeader'. You are a leader of a team of agents. The name of your team is 'test_team'.\"\n",
    "            \"You are an agent that is responsible for receiving requests from user and utilizing a team of agents to complete the task. \"\n",
    "            \"When you are passed a request, the only thing you will do is evaluate which team member should do which task next to complete the request. \"\n",
    "            \"You will use the provided create_task function to create a task for the agent that is best suited for handling the task next. \"\n",
    "            \"You will respond with the description of who you assigned the task and why. When you think that the original user request is \"\n",
    "            \"processed completely utilizing all the talent available in the team, you do not have to create anymore tasks. \"\n",
    "            \"Using the skills of all the team members when applicable is highly valued. \"\n",
    "            \"Do not create parallel tasks. \"\n",
    "            \"Here are the other agents in your team: \"\n",
    "            \"- Coder: You are software engineer who writes great code. Your name is Coder. \"\n",
    "            \"- Reviewer: You are software engineer who reviews code. Your name is Reviewer.\",\n",
    "            toolset=toolset,\n",
    "        )\n",
    "        agent_team.add_agent(\n",
    "            model=model_deployment_name,\n",
    "            name=\"Coder\",\n",
    "            instructions=\"You are software engineer who writes great code. Your name is Coder.\",\n",
    "        )\n",
    "        agent_team.add_agent(\n",
    "            model=model_deployment_name,\n",
    "            name=\"Reviewer\",\n",
    "            instructions=\"You are software engineer who reviews code. Your name is Reviewer.\",\n",
    "        )\n",
    "        agent_team.assemble_team()\n",
    "\n",
    "        print(\"A team of agents specialized in software engineering is available for requests.\")\n",
    "        while True:\n",
    "            user_input = input(\"Input (type 'quit' or 'exit' to exit): \")\n",
    "            if user_input.lower() == \"quit\":\n",
    "                break\n",
    "            elif user_input.lower() == \"exit\":\n",
    "                break\n",
    "            agent_team.process_request(request=user_input)\n",
    "\n",
    "        agent_team.dismantle_team()\n",
    "else:\n",
    "    print(\"Error: Please define the environment variable MODEL_DEPLOYMENT_NAME.\")\n"
   ]
  }
 ],
 "metadata": {
  "kernelspec": {
   "display_name": ".venv",
   "language": "python",
   "name": "python3"
  },
  "language_info": {
   "codemirror_mode": {
    "name": "ipython",
    "version": 3
   },
   "file_extension": ".py",
   "mimetype": "text/x-python",
   "name": "python",
   "nbconvert_exporter": "python",
   "pygments_lexer": "ipython3",
   "version": "3.13.4"
  },
  "varInspector": {
   "cols": {
    "lenName": 16,
    "lenType": 16,
    "lenVar": 40
   },
   "kernels_config": {
    "python": {
     "delete_cmd_postfix": "",
     "delete_cmd_prefix": "del ",
     "library": "var_list.py",
     "varRefreshCmd": "print(var_dic_list())"
    },
    "r": {
     "delete_cmd_postfix": ") ",
     "delete_cmd_prefix": "rm(",
     "library": "var_list.r",
     "varRefreshCmd": "cat(var_dic_list()) "
    }
   },
   "types_to_exclude": [
    "module",
    "function",
    "builtin_function_or_method",
    "instance",
    "_Feature"
   ],
   "window_display": false
  }
 },
 "nbformat": 4,
 "nbformat_minor": 5
}
