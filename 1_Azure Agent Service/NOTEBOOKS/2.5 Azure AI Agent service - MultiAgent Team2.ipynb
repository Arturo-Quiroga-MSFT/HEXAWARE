{
 "cells": [
  {
   "cell_type": "markdown",
   "id": "431cc026-279f-4105-8444-f1b93650da0d",
   "metadata": {},
   "source": [
    "# Azure AI Agent service - Multi Agent team\n",
    "\n",
    "<img src=\"https://learn.microsoft.com/en-us/azure/ai-services/agents/media/agent-service-the-glue.png\" width=800>\n",
    "\n",
    "> https://learn.microsoft.com/en-us/azure/ai-services/agents/"
   ]
  },
  {
   "cell_type": "markdown",
   "id": "fbd59a8d",
   "metadata": {},
   "source": [
    "## Description\n",
    "\n",
    "This sample demonstrates how to use multiple agents with `AgentTeam` and traces.\n",
    "\n",
    "The team consists of:\n",
    "- **One leader agent** – automatically created by `AgentTeam` from the configuration in [`utils/agent_team_config.yaml`](../utils/agent_team_config.yaml)\n",
    "- **Two worker agents** – `Coder` and `Reviewer`, defined in the code below\n"
   ]
  },
  {
   "cell_type": "code",
   "execution_count": 1,
   "id": "7a3e72d0-7521-438c-928d-5fa293b0f419",
   "metadata": {},
   "outputs": [
    {
     "data": {
      "text/plain": [
       "True"
      ]
     },
     "execution_count": 1,
     "metadata": {},
     "output_type": "execute_result"
    }
   ],
   "source": [
    "import json\n",
    "import os\n",
    "import sys\n",
    "import time\n",
    "\n",
    "from typing import Optional, Set\n",
    "from azure.ai.agents import AgentsClient\n",
    "from azure.identity import DefaultAzureCredential\n",
    "from utils.agent_team import AgentTeam, _create_task, AgentTask\n",
    "from utils.agent_trace_configurator import AgentTraceConfigurator\n",
    "from azure.ai.agents.models import FunctionTool, ToolSet\n",
    "\n",
    "from dotenv import load_dotenv\n",
    "from openai import AzureOpenAI\n",
    "\n",
    "load_dotenv()"
   ]
  },
  {
   "cell_type": "markdown",
   "id": "cc2c1d28-e366-442e-a186-81239ec337ec",
   "metadata": {},
   "source": [
    "## Create connection to AI Foundry Project & instantiate a project client"
   ]
  },
  {
   "cell_type": "code",
   "execution_count": 2,
   "id": "76c7bbb7-0faa-4500-ba42-7c5b176f6196",
   "metadata": {},
   "outputs": [
    {
     "name": "stdout",
     "output_type": "stream",
     "text": [
      "Using endpoint: https://aq-ai-foundry-sweden-central.services.ai.azure.com/api/projects/firstProject\n"
     ]
    }
   ],
   "source": [
    "endpoint = os.getenv(\"PROJECT_ENDPOINT\")\n",
    "print(f\"Using endpoint: {endpoint}\")\n",
    "credential = DefaultAzureCredential()\n",
    "\n",
    "agents_client = AgentsClient(\n",
    "    endpoint=endpoint,\n",
    "    credential=credential,\n",
    ")"
   ]
  },
  {
   "cell_type": "code",
   "execution_count": 3,
   "id": "f9f98ef1",
   "metadata": {},
   "outputs": [],
   "source": [
    "agents_client.enable_auto_function_calls({_create_task})"
   ]
  },
  {
   "cell_type": "markdown",
   "id": "2f89e333",
   "metadata": {},
   "source": [
    "## This section demonstrates how to multiple agents using AgentTeam with traces."
   ]
  },
  {
   "cell_type": "code",
   "execution_count": 4,
   "id": "51d082f9",
   "metadata": {},
   "outputs": [],
   "source": [
    "def create_task(team_name: str, recipient: str, request: str, requestor: str) -> str:\n",
    "    \"\"\"\n",
    "    Requests another agent in the team to complete a task.\n",
    "\n",
    "    :param team_name (str): The name of the team.\n",
    "    :param recipient (str): The name of the agent that is being requested to complete the task.\n",
    "    :param request (str): A description of the to complete. This can also be a question.\n",
    "    :param requestor (str): The name of the agent who is requesting the task.\n",
    "    :return: True if the task was successfully received, False otherwise.\n",
    "    :rtype: str\n",
    "    \"\"\"\n",
    "    task = AgentTask(recipient=recipient, task_description=request, requestor=requestor)\n",
    "    team: Optional[AgentTeam] = None\n",
    "    try:\n",
    "        team = AgentTeam.get_team(team_name)\n",
    "    except:\n",
    "        pass\n",
    "    if team is not None:\n",
    "        team.add_task(task)\n",
    "        return \"True\"\n",
    "    return \"False\""
   ]
  },
  {
   "cell_type": "code",
   "execution_count": 5,
   "id": "ef12aa30",
   "metadata": {},
   "outputs": [],
   "source": [
    "# Any additional functions that might be used by the agents:\n",
    "agent_team_default_functions: Set = {\n",
    "    create_task,\n",
    "}\n",
    "\n",
    "default_function_tool = FunctionTool(functions=agent_team_default_functions)\n",
    "\n",
    "agents_client.enable_auto_function_calls({create_task})"
   ]
  },
  {
   "cell_type": "code",
   "execution_count": 6,
   "id": "b3a786d0",
   "metadata": {},
   "outputs": [
    {
     "name": "stdout",
     "output_type": "stream",
     "text": [
      "Select a tracing option:\n",
      "1. Enable Azure Monitor tracing\n",
      "2. Enable console tracing without enabling gen_ai agent traces\n",
      "3. Enable console tracing with gen_ai agent traces\n",
      "4. Do not enable traces\n",
      "A team of agents specialized in software engineering is available for requests.\n",
      "Created thread with ID: thread_MVw4IhKwV7Proyn207bCAr2m\n",
      "Starting task for agent 'TeamLeader'. Requestor: 'user'. Task description: 'Please create a task for agent in the team that is best suited to next process the following request. \n",
      "Use the _create_task function available for you to create the task. The request is: \n",
      "1\n",
      "'.\n",
      "Created message with ID: msg_ElmLoKPSk8rNHJXLwxr4Mrru for task in thread thread_MVw4IhKwV7Proyn207bCAr2m\n",
      "Created and processed run for agent 'TeamLeader', run ID: run_BiYraFXrfDBSPHM7vH6HrcZc\n",
      "Agent 'TeamLeader' completed task. Outcome: I have assigned the task to the Coder to write code related to the number 1 as part of processing the user's request. Coder is best suited for this task as it involves software engineering and coding.\n",
      "Starting task for agent 'Coder'. Requestor: 'TeamLeader'. Task description: 'Write code to handle the number 1 in the context of the user's request.'.\n",
      "Created message with ID: msg_lmkBrSjVb0aLmIcqGojjuAxn for task in thread thread_MVw4IhKwV7Proyn207bCAr2m\n",
      "Created and processed run for agent 'Coder', run ID: run_tr42WF64w87AM0b9Iw7mHESA\n",
      "Agent 'Coder' completed task. Outcome: To proceed effectively, I need a bit more context about how you'd like to handle the number 1. Could you please specify what kind of processing or operation you want to perform with the number 1? For example, do you want a function that increments it, checks if it is prime, converts it to a string, or something else?\n",
      "Starting task for agent 'TeamLeader'. Requestor: 'user'. Task description: 'Check the discussion so far and especially the most recent agent response in the thread and if you see a potential task \n",
      "that could improve the final outcome, then use the _create_task function to create the task. \n",
      "Do not ever ask user confirmation for creating a task. \n",
      "If the request is completely processed, you do not have to create a task.\n",
      "'.\n",
      "Created message with ID: msg_ynUO7JIveD0bGdpGYEVgBanQ for task in thread thread_MVw4IhKwV7Proyn207bCAr2m\n",
      "Created and processed run for agent 'TeamLeader', run ID: run_PH5lEqTRWJSnD2OwtkCmz5xF\n",
      "Agent 'TeamLeader' completed task. Outcome: I assigned the task to Coder to write a function to process the number 1. This is to establish a base implementation for the request which can then be reviewed to ensure correctness and quality. This step helps improve the final outcome by leveraging the coding skill first, followed by a review.\n",
      "Starting task for agent 'Coder'. Requestor: 'TeamLeader'. Task description: 'Write a function to process the number 1 that can be reviewed afterwards to ensure correctness and quality.'.\n",
      "Created message with ID: msg_bq6OEabhVwfwszydCYs3XUy2 for task in thread thread_MVw4IhKwV7Proyn207bCAr2m\n",
      "Created and processed run for agent 'Coder', run ID: run_nE7buChF0IsGCkFHkf0ohjfG\n",
      "Agent 'Coder' completed task. Outcome: I tried to create the review task but encountered an error due to the _create_task function not being accessible directly. Since I'm unable to assign the review task automatically now, the function provided above is ready for review by Reviewer or others manually. Let me know if you'd like me to proceed differently.\n",
      "Starting task for agent 'TeamLeader'. Requestor: 'user'. Task description: 'Check the discussion so far and especially the most recent agent response in the thread and if you see a potential task \n",
      "that could improve the final outcome, then use the _create_task function to create the task. \n",
      "Do not ever ask user confirmation for creating a task. \n",
      "If the request is completely processed, you do not have to create a task.\n",
      "'.\n",
      "Created message with ID: msg_KdHlpebVNxsHqIbKTACeplXI for task in thread thread_MVw4IhKwV7Proyn207bCAr2m\n",
      "Created and processed run for agent 'TeamLeader', run ID: run_QQbxEbG0aRy4zB1NF344AAf1\n",
      "Agent 'TeamLeader' completed task. Outcome: I have assigned the task to Reviewer to review the provided Python function for correctness, clarity, and quality. This will help improve the final outcome by ensuring the code meets high standards.\n",
      "Starting task for agent 'Reviewer'. Requestor: 'TeamLeader'. Task description: 'Please review the following Python function to ensure correctness, clarity, and quality:\n",
      "\n",
      "def process_number(num):\n",
      "    \"\"\"\n",
      "    Process the input number. If the number is 1, return a specific message.\n",
      "    \n",
      "    Args:\n",
      "        num (int): The number to process.\n",
      "    \n",
      "    Returns:\n",
      "        str: A message indicating the result of processing.\n",
      "    \"\"\"\n",
      "    if num == 1:\n",
      "        return \"The number is 1.\"\n",
      "    else:\n",
      "        return \"The number is not 1.\"\n",
      "\n",
      "# Example usage\n",
      "if __name__ == \"__main__\":\n",
      "    print(process_number(1))  # Expected output: The number is 1.\n",
      "    print(process_number(2))  # Expected output: The number is not 1.'.\n",
      "Created message with ID: msg_A5BXp4EeH7en3DXR8wHW8P2H for task in thread thread_MVw4IhKwV7Proyn207bCAr2m\n",
      "Created and processed run for agent 'Reviewer', run ID: run_dPe1DpJSmVDNHq6juTWC41jo\n",
      "Agent 'Reviewer' completed task. Outcome: The provided Python function process_number is correct and clear for its intended purpose. Here is a review focusing on correctness, clarity, and quality:\n",
      "\n",
      "Correctness:\n",
      "- The function correctly checks if the input num equals 1.\n",
      "- Returns appropriate messages for when num is 1 or not.\n",
      "- The example usage demonstrates expected behavior clearly.\n",
      "\n",
      "Clarity:\n",
      "- The function name process_number is concise and descriptive for this simple process.\n",
      "- The docstring is well-written, documenting input arguments and return values.\n",
      "- The use of if-else is straightforward and easy to follow.\n",
      "\n",
      "Quality:\n",
      "- The function is simple, making it efficient and easy to maintain.\n",
      "- The example usage under the typical Python main guard is good practice for testing.\n",
      "- One minor quality improvement might be to validate input type if this function is part of a larger system where type safety matters.\n",
      "\n",
      "Suggested minor improvement (optional):\n",
      "```python\n",
      "def process_number(num):\n",
      "    \"\"\"\n",
      "    Process the input number. If the number is 1, return a specific message.\n",
      "    \n",
      "    Args:\n",
      "        num (int): The number to process.\n",
      "    \n",
      "    Returns:\n",
      "        str: A message indicating the result of processing.\n",
      "    \"\"\"\n",
      "    if not isinstance(num, int):\n",
      "        return \"Invalid input: not an integer.\"\n",
      "    \n",
      "    if num == 1:\n",
      "        return \"The number is 1.\"\n",
      "    else:\n",
      "        return \"The number is not 1.\"\n",
      "```\n",
      "\n",
      "Overall, the function is well-implemented for the task described. No significant issues or bugs were found.\n",
      "Starting task for agent 'TeamLeader'. Requestor: 'user'. Task description: 'Check the discussion so far and especially the most recent agent response in the thread and if you see a potential task \n",
      "that could improve the final outcome, then use the _create_task function to create the task. \n",
      "Do not ever ask user confirmation for creating a task. \n",
      "If the request is completely processed, you do not have to create a task.\n",
      "'.\n",
      "Created message with ID: msg_ZCSUn0LfB0fhJhhDvlqCX8h7 for task in thread thread_MVw4IhKwV7Proyn207bCAr2m\n",
      "Created and processed run for agent 'TeamLeader', run ID: run_OYHCKlGbczCNv5Rmm7PaZA5Z\n",
      "Agent 'TeamLeader' completed task. Outcome: The provided code has been reviewed and a minor suggestion was given to improve input validation. Since this is an optional improvement and no further user instructions were given to implement it, the task seems fully processed. Therefore, no further task creation is necessary at this point.\n",
      "Deleting team leader agent 'TeamLeader'\n",
      "Deleting agent 'Coder'\n",
      "Deleting agent 'Reviewer'\n"
     ]
    }
   ],
   "source": [
    "model_deployment_name = \"gpt-4.1-mini\"\n",
    "\n",
    "if model_deployment_name is not None:\n",
    "    AgentTraceConfigurator(agents_client=agents_client).setup_tracing()\n",
    "    with agents_client:\n",
    "        agent_team = AgentTeam(\"test_team\", agents_client=agents_client)\n",
    "        toolset = ToolSet()\n",
    "        toolset.add(default_function_tool)\n",
    "        agent_team.set_team_leader(\n",
    "            model=model_deployment_name,\n",
    "            name=\"TeamLeader\",\n",
    "            instructions=\"You are an agent named 'TeamLeader'. You are a leader of a team of agents. The name of your team is 'test_team'.\"\n",
    "            \"You are an agent that is responsible for receiving requests from user and utilizing a team of agents to complete the task. \"\n",
    "            \"When you are passed a request, the only thing you will do is evaluate which team member should do which task next to complete the request. \"\n",
    "            \"You will use the provided create_task function to create a task for the agent that is best suited for handling the task next. \"\n",
    "            \"You will respond with the description of who you assigned the task and why. When you think that the original user request is \"\n",
    "            \"processed completely utilizing all the talent available in the team, you do not have to create anymore tasks. \"\n",
    "            \"Using the skills of all the team members when applicable is highly valued. \"\n",
    "            \"Do not create parallel tasks. \"\n",
    "            \"Here are the other agents in your team: \"\n",
    "            \"- Coder: You are software engineer who writes great code. Your name is Coder. \"\n",
    "            \"- Reviewer: You are software engineer who reviews code. Your name is Reviewer.\",\n",
    "            toolset=toolset,\n",
    "        )\n",
    "        agent_team.add_agent(\n",
    "            model=model_deployment_name,\n",
    "            name=\"Coder\",\n",
    "            instructions=\"You are software engineer who writes great code. Your name is Coder.\",\n",
    "        )\n",
    "        agent_team.add_agent(\n",
    "            model=model_deployment_name,\n",
    "            name=\"Reviewer\",\n",
    "            instructions=\"You are software engineer who reviews code. Your name is Reviewer.\",\n",
    "        )\n",
    "        agent_team.assemble_team()\n",
    "\n",
    "        print(\"A team of agents specialized in software engineering is available for requests.\")\n",
    "        while True:\n",
    "            user_input = input(\"Input (type 'quit' or 'exit' to exit): \")\n",
    "            if user_input.lower() == \"quit\":\n",
    "                break\n",
    "            elif user_input.lower() == \"exit\":\n",
    "                break\n",
    "            agent_team.process_request(request=user_input)\n",
    "\n",
    "        agent_team.dismantle_team()\n",
    "else:\n",
    "    print(\"Error: Please define the environment variable MODEL_DEPLOYMENT_NAME.\")\n"
   ]
  }
 ],
 "metadata": {
  "kernelspec": {
   "display_name": ".venv",
   "language": "python",
   "name": "python3"
  },
  "language_info": {
   "codemirror_mode": {
    "name": "ipython",
    "version": 3
   },
   "file_extension": ".py",
   "mimetype": "text/x-python",
   "name": "python",
   "nbconvert_exporter": "python",
   "pygments_lexer": "ipython3",
   "version": "3.13.5"
  },
  "varInspector": {
   "cols": {
    "lenName": 16,
    "lenType": 16,
    "lenVar": 40
   },
   "kernels_config": {
    "python": {
     "delete_cmd_postfix": "",
     "delete_cmd_prefix": "del ",
     "library": "var_list.py",
     "varRefreshCmd": "print(var_dic_list())"
    },
    "r": {
     "delete_cmd_postfix": ") ",
     "delete_cmd_prefix": "rm(",
     "library": "var_list.r",
     "varRefreshCmd": "cat(var_dic_list()) "
    }
   },
   "types_to_exclude": [
    "module",
    "function",
    "builtin_function_or_method",
    "instance",
    "_Feature"
   ],
   "window_display": false
  }
 },
 "nbformat": 4,
 "nbformat_minor": 5
}
