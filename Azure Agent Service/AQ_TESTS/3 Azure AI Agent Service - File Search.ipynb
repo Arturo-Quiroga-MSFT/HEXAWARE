{
 "cells": [
  {
   "cell_type": "markdown",
   "id": "a6147326",
   "metadata": {},
   "source": [
    "###     This sample demonstrates how to use agent operations with file searching from the Azure Agents service using a synchronous client."
   ]
  },
  {
   "cell_type": "code",
   "execution_count": 5,
   "id": "3c879763",
   "metadata": {},
   "outputs": [],
   "source": [
    "\"\"\"\n",
    "DESCRIPTION:\n",
    "    This sample demonstrates how to use agent operations with file searching from\n",
    "    the Azure Agents service using a synchronous client.\n",
    "\n",
    "USAGE:\n",
    "    python sample_agents_file_search.py\n",
    "\n",
    "    Before running the sample:\n",
    "\n",
    "    pip install azure-ai-agents azure-identity\n",
    "\n",
    "    Set these environment variables with your own values:\n",
    "    1) PROJECT_ENDPOINT - The Azure AI Project endpoint, as found in the Overview\n",
    "                          page of your Azure AI Foundry portal.\n",
    "    2) MODEL_DEPLOYMENT_NAME - The deployment name of the AI model, as found under the \"Name\" column in\n",
    "       the \"Models + endpoints\" tab in your Azure AI Foundry project.\n",
    "\"\"\"\n",
    "\n",
    "import os\n",
    "from azure.ai.agents import AgentsClient\n",
    "from azure.ai.agents.models import (\n",
    "    FileSearchTool,\n",
    "    FilePurpose,\n",
    "    ListSortOrder,\n",
    ")\n",
    "from azure.identity import DefaultAzureCredential\n",
    "\n",
    "load_dotenv = True\n",
    "if load_dotenv:\n",
    "    from dotenv import load_dotenv\n",
    "    load_dotenv()"
   ]
  },
  {
   "cell_type": "code",
   "execution_count": 6,
   "id": "c6d4fc84",
   "metadata": {},
   "outputs": [
    {
     "name": "stdout",
     "output_type": "stream",
     "text": [
      "/Users/arturoquiroga/GITHUB/AZURE AI AGENT SERVICE/Azure Agent Service/assets/product_info_1.md\n"
     ]
    }
   ],
   "source": [
    "import os\n",
    "\n",
    "asset_file_path = os.path.abspath(os.path.join(os.getcwd(), \"assets/product_info_1.md\"))\n",
    "print(asset_file_path)"
   ]
  },
  {
   "cell_type": "code",
   "execution_count": 7,
   "id": "19485c95",
   "metadata": {},
   "outputs": [],
   "source": [
    "agents_client = AgentsClient(\n",
    "    endpoint=os.environ[\"PROJECT_ENDPOINT\"],\n",
    "    credential=DefaultAzureCredential(),\n",
    ")"
   ]
  },
  {
   "cell_type": "code",
   "execution_count": 8,
   "id": "23b9c3ab",
   "metadata": {},
   "outputs": [
    {
     "name": "stdout",
     "output_type": "stream",
     "text": [
      "Uploaded file, file ID: assistant-GjCkY7oKoaYqrbmhtmyTBv\n",
      "Created vector store, vector store ID: vs_ntuHJWhAeAJEDGa4eF9VsOPc\n",
      "Created agent, ID: asst_GWGti0EvA7QRg7qxVLVArI49\n",
      "Created thread, ID: thread_eL6NxrIBqqfDzCcehU5PHqTs\n",
      "Created message, ID: msg_nkQKTfclozPSU3iPJxYCpOot\n",
      "Run finished with status: RunStatus.COMPLETED\n",
      "Deleted vector store\n",
      "Deleted file\n",
      "Deleted agent\n",
      "MessageRole.USER: Hello, what Contoso products do you know?\n",
      "MessageRole.AGENT: The name “Contoso” is commonly used by Microsoft in its documentation, training materials, and demos as a fictional company. There are no real “Contoso” products; rather, “Contoso” typically serves as a placeholder company to showcase various Microsoft product features and integrations, such as:\n",
      "\n",
      "- Contoso Electronics (used for demonstrations of Microsoft Dynamics 365, Power Platform, Azure, Microsoft 365, etc.)\n",
      "- Contoso Pharmaceuticals, Contoso Insurance, Contoso Coffee, etc. (other demo company variants)\n",
      "- Contoso Demo Apps (sample applications provided for learning and demonstration purposes, often included in Microsoft’s official training content).\n",
      "\n",
      "If you upload documents containing information about specific Contoso products, I can search for them directly and provide a list of the products mentioned within your files. Would you like me to do that?\n"
     ]
    }
   ],
   "source": [
    "with agents_client:\n",
    "\n",
    "    # Upload file and create vector store\n",
    "    # [START upload_file_create_vector_store_and_agent_with_file_search_tool]\n",
    "    file = agents_client.files.upload_and_poll(file_path=asset_file_path, purpose=FilePurpose.AGENTS)\n",
    "    print(f\"Uploaded file, file ID: {file.id}\")\n",
    "\n",
    "    vector_store = agents_client.vector_stores.create_and_poll(file_ids=[file.id], name=\"my_vectorstore\")\n",
    "    print(f\"Created vector store, vector store ID: {vector_store.id}\")\n",
    "\n",
    "    # Create file search tool with resources followed by creating agent\n",
    "    file_search = FileSearchTool(vector_store_ids=[vector_store.id])\n",
    "\n",
    "    agent = agents_client.create_agent(\n",
    "        model=os.environ[\"MODEL_DEPLOYMENT_NAME\"],\n",
    "        name=\"my-agent\",\n",
    "        instructions=\"Hello, you are helpful agent and can search information from uploaded files\",\n",
    "        tools=file_search.definitions,\n",
    "        tool_resources=file_search.resources,\n",
    "    )\n",
    "    # [END upload_file_create_vector_store_and_agent_with_file_search_tool]\n",
    "\n",
    "    print(f\"Created agent, ID: {agent.id}\")\n",
    "\n",
    "    # Create thread for communication\n",
    "    thread = agents_client.threads.create()\n",
    "    print(f\"Created thread, ID: {thread.id}\")\n",
    "\n",
    "    # Create message to thread\n",
    "    message = agents_client.messages.create(\n",
    "        thread_id=thread.id, role=\"user\", content=\"Hello, what Contoso products do you know?\"\n",
    "    )\n",
    "    print(f\"Created message, ID: {message.id}\")\n",
    "\n",
    "    # Create and process agent run in thread with tools\n",
    "    run = agents_client.runs.create_and_process(thread_id=thread.id, agent_id=agent.id)\n",
    "    print(f\"Run finished with status: {run.status}\")\n",
    "\n",
    "    if run.status == \"failed\":\n",
    "        # Check if you got \"Rate limit is exceeded.\", then you want to get more quota\n",
    "        print(f\"Run failed: {run.last_error}\")\n",
    "\n",
    "    # [START teardown]\n",
    "    # Delete the file when done\n",
    "    agents_client.vector_stores.delete(vector_store.id)\n",
    "    print(\"Deleted vector store\")\n",
    "\n",
    "    agents_client.files.delete(file_id=file.id)\n",
    "    print(\"Deleted file\")\n",
    "\n",
    "    # Delete the agent when done\n",
    "    agents_client.delete_agent(agent.id)\n",
    "    print(\"Deleted agent\")\n",
    "    # [END teardown]\n",
    "\n",
    "    # Fetch and log all messages\n",
    "    messages = agents_client.messages.list(thread_id=thread.id, order=ListSortOrder.ASCENDING)\n",
    "\n",
    "    # Print last messages from the thread\n",
    "    for msg in messages:\n",
    "        if msg.text_messages:\n",
    "            last_text = msg.text_messages[-1]\n",
    "            print(f\"{msg.role}: {last_text.text.value}\")\n"
   ]
  }
 ],
 "metadata": {
  "kernelspec": {
   "display_name": ".venv",
   "language": "python",
   "name": "python3"
  },
  "language_info": {
   "codemirror_mode": {
    "name": "ipython",
    "version": 3
   },
   "file_extension": ".py",
   "mimetype": "text/x-python",
   "name": "python",
   "nbconvert_exporter": "python",
   "pygments_lexer": "ipython3",
   "version": "3.13.4"
  }
 },
 "nbformat": 4,
 "nbformat_minor": 5
}
