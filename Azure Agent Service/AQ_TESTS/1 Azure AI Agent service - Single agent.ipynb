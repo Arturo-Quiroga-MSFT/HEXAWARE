{
 "cells": [
  {
   "cell_type": "markdown",
   "id": "431cc026-279f-4105-8444-f1b93650da0d",
   "metadata": {},
   "source": [
    "# Azure AI Agent service - Single agent\n",
    "\n",
    "<img src=\"https://learn.microsoft.com/en-us/azure/ai-services/agents/media/agent-service-the-glue.png\" width=800>\n",
    "\n",
    "> https://learn.microsoft.com/en-us/azure/ai-services/agents/"
   ]
  },
  {
   "cell_type": "markdown",
   "id": "ef82a491",
   "metadata": {},
   "source": [
    "## Import required libraries"
   ]
  },
  {
   "cell_type": "code",
   "execution_count": null,
   "id": "d51736fd",
   "metadata": {},
   "outputs": [
    {
     "data": {
      "text/plain": [
       "True"
      ]
     },
     "execution_count": 1,
     "metadata": {},
     "output_type": "execute_result"
    }
   ],
   "source": [
    "import os, time\n",
    "from azure.identity import DefaultAzureCredential\n",
    "from azure.ai.projects import AIProjectClient\n",
    "from azure.ai.projects.models import ConnectionType\n",
    "from azure.ai.agents import AgentsClient\n",
    "from azure.ai.agents.models import ListSortOrder\n",
    "from dotenv import load_dotenv\n",
    "\n",
    "\n",
    "load_dotenv()\n"
   ]
  },
  {
   "cell_type": "markdown",
   "id": "66dd79de",
   "metadata": {},
   "source": [
    "## TEST connection to AI FOUNDRY and get all connections to the default project"
   ]
  },
  {
   "cell_type": "code",
   "execution_count": 3,
   "id": "737414be",
   "metadata": {},
   "outputs": [
    {
     "name": "stdout",
     "output_type": "stream",
     "text": [
      "List all connections:\n",
      "{'name': 'appInsights-connection-0601', 'id': '/subscriptions/7a28b21e-0d3e-4435-a686-d92889d4ee96/resourceGroups/AI-FOUNDRY-RG/providers/Microsoft.CognitiveServices/accounts/aq-ai-foundry-Sweden-Central/projects/firstProject/connections/appInsights-connection-0601', 'type': 'AppInsights', 'target': '/subscriptions/7a28b21e-0d3e-4435-a686-d92889d4ee96/resourceGroups/AI-FOUNDRY-RG/providers/microsoft.insights/components/aq-APPS-INSIGHTS', 'isDefault': True, 'credentials': {'type': 'ApiKey'}, 'metadata': {'ApiType': 'Azure', 'ResourceId': '/subscriptions/7a28b21e-0d3e-4435-a686-d92889d4ee96/resourceGroups/AI-FOUNDRY-RG/providers/microsoft.insights/components/aq-APPS-INSIGHTS'}}\n",
      "{'name': 'aqaoaiSWEDENCENTRAL', 'id': '/subscriptions/7a28b21e-0d3e-4435-a686-d92889d4ee96/resourceGroups/AI-FOUNDRY-RG/providers/Microsoft.CognitiveServices/accounts/aq-ai-foundry-Sweden-Central/projects/firstProject/connections/aqaoaiSWEDENCENTRAL', 'type': 'AzureOpenAI', 'target': 'https://aq-aoai-swedencentral.openai.azure.com/', 'isDefault': True, 'credentials': {'type': 'ApiKey'}, 'metadata': {'ApiType': 'Azure', 'ResourceId': '/subscriptions/7a28b21e-0d3e-4435-a686-d92889d4ee96/resourceGroups/AQ-AOAI-RG/providers/Microsoft.CognitiveServices/accounts/aq-aoai-SWEDENCENTRAL', 'Location': 'swedencentral', 'ApiVersion': '2023-07-01-preview', 'DeploymentApiVersion': '2023-10-01-preview'}}\n",
      "{'name': 'aqaifoundrySwedenCentral', 'id': '/subscriptions/7a28b21e-0d3e-4435-a686-d92889d4ee96/resourceGroups/AI-FOUNDRY-RG/providers/Microsoft.CognitiveServices/accounts/aq-ai-foundry-Sweden-Central/projects/firstProject/connections/aqaifoundrySwedenCentral', 'type': 'AIServices', 'target': 'https://aq-ai-foundry-sweden-central.cognitiveservices.azure.com/', 'isDefault': True, 'credentials': {'type': 'ApiKey'}, 'metadata': {'ApiType': 'Azure', 'ResourceId': '/subscriptions/7a28b21e-0d3e-4435-a686-d92889d4ee96/resourceGroups/AI-FOUNDRY-RG/providers/Microsoft.CognitiveServices/accounts/aq-ai-foundry-Sweden-Central', 'Location': 'swedencentral'}}\n",
      "{'name': 'adminmbi8doqseastus2', 'id': '/subscriptions/7a28b21e-0d3e-4435-a686-d92889d4ee96/resourceGroups/AI-FOUNDRY-RG/providers/Microsoft.CognitiveServices/accounts/aq-ai-foundry-Sweden-Central/projects/firstProject/connections/adminmbi8doqseastus2', 'type': 'AIServices', 'target': 'https://admin-mbi8doqs-eastus2.cognitiveservices.azure.com/', 'isDefault': False, 'credentials': {'type': 'ApiKey'}, 'metadata': {'ApiType': 'Azure', 'ResourceId': '/subscriptions/7a28b21e-0d3e-4435-a686-d92889d4ee96/resourceGroups/aq-aoai-rg/providers/Microsoft.CognitiveServices/accounts/admin-mbi8doqs-eastus2', 'Location': 'eastus2'}}\n",
      "{'name': 'adminmbi8gghuwestus3', 'id': '/subscriptions/7a28b21e-0d3e-4435-a686-d92889d4ee96/resourceGroups/AI-FOUNDRY-RG/providers/Microsoft.CognitiveServices/accounts/aq-ai-foundry-Sweden-Central/projects/firstProject/connections/adminmbi8gghuwestus3', 'type': 'AIServices', 'target': 'https://admin-mbi8gghu-westus3.cognitiveservices.azure.com/', 'isDefault': False, 'credentials': {'type': 'ApiKey'}, 'metadata': {'ApiType': 'Azure', 'ResourceId': '/subscriptions/7a28b21e-0d3e-4435-a686-d92889d4ee96/resourceGroups/aq-aoai-rg/providers/Microsoft.CognitiveServices/accounts/admin-mbi8gghu-westus3', 'Location': 'westus3'}}\n",
      "List all connections of a particular type:\n",
      "{'name': 'aqaoaiSWEDENCENTRAL', 'id': '/subscriptions/7a28b21e-0d3e-4435-a686-d92889d4ee96/resourceGroups/AI-FOUNDRY-RG/providers/Microsoft.CognitiveServices/accounts/aq-ai-foundry-Sweden-Central/projects/firstProject/connections/aqaoaiSWEDENCENTRAL', 'type': 'AzureOpenAI', 'target': 'https://aq-aoai-swedencentral.openai.azure.com/', 'isDefault': True, 'credentials': {'type': 'ApiKey'}, 'metadata': {'ApiType': 'Azure', 'ResourceId': '/subscriptions/7a28b21e-0d3e-4435-a686-d92889d4ee96/resourceGroups/AQ-AOAI-RG/providers/Microsoft.CognitiveServices/accounts/aq-aoai-SWEDENCENTRAL', 'Location': 'swedencentral', 'ApiVersion': '2023-07-01-preview', 'DeploymentApiVersion': '2023-10-01-preview'}}\n"
     ]
    }
   ],
   "source": [
    "\n",
    "endpoint = os.environ[\"PROJECT_ENDPOINT\"]\n",
    "connection_name = os.environ[\"CONNECTION_NAME\"]\n",
    "\n",
    "with DefaultAzureCredential(exclude_interactive_browser_credential=False) as credential:\n",
    "\n",
    "    with AIProjectClient(endpoint=endpoint, credential=credential) as project_client:\n",
    "\n",
    "        # [START connections_sample]\n",
    "        print(\"List all connections:\")\n",
    "        for connection in project_client.connections.list():\n",
    "            print(connection)\n",
    "\n",
    "        print(\"List all connections of a particular type:\")\n",
    "        for connection in project_client.connections.list(\n",
    "            connection_type=ConnectionType.AZURE_OPEN_AI,\n",
    "        ):\n",
    "            print(connection)\n",
    "\n",
    "        # [END connection_sample]"
   ]
  },
  {
   "cell_type": "code",
   "execution_count": null,
   "id": "5e010f63-6e7e-463a-a540-1340257af40e",
   "metadata": {},
   "outputs": [],
   "source": [
    "#%pip install --upgrade azure-ai-projects"
   ]
  },
  {
   "cell_type": "code",
   "execution_count": null,
   "id": "122cb084",
   "metadata": {},
   "outputs": [
    {
     "name": "stdout",
     "output_type": "stream",
     "text": [
      "Created agent, agent ID: asst_C0EWgkQblKhLjVDqSkNZrqLz\n",
      "Created thread, thread ID: thread_3YYilOLH1K7HD6xYmOzcDSpo\n",
      "Created message, message ID: msg_qF8AFkFZ16mlU3NMUmQ0z3St\n",
      "Run status: RunStatus.COMPLETED\n",
      "Deleted agent\n",
      "MessageRole.USER: Hello, tell me a joke\n",
      "MessageRole.AGENT: Sure! How about this one:\n",
      "\n",
      "Why don’t skeletons fight each other?\n",
      "\n",
      "They don’t have the guts!\n"
     ]
    }
   ],
   "source": [
    "# [START create_agents_client]\n",
    "agents_client = AgentsClient(\n",
    "    endpoint=os.environ[\"PROJECT_ENDPOINT\"],\n",
    "    credential=DefaultAzureCredential(),\n",
    ")\n",
    "\n",
    "# [END create_agents_client]\n",
    "\n",
    "with agents_client:\n",
    "\n",
    "    # [START create_agent]\n",
    "\n",
    "    agent = agents_client.create_agent(\n",
    "        model=os.environ[\"MODEL_DEPLOYMENT_NAME\"],\n",
    "        name=\"my-agent\",\n",
    "        instructions=\"You are helpful agent\",\n",
    "    )\n",
    "    # [END create_agent]\n",
    "    print(f\"Created agent, agent ID: {agent.id}\")\n",
    "\n",
    "    # [START create_thread]\n",
    "    thread = agents_client.threads.create()\n",
    "    # [END create_thread]\n",
    "    print(f\"Created thread, thread ID: {thread.id}\")\n",
    "\n",
    "    # List all threads for the agent\n",
    "    # [START list_threads]\n",
    "    threads = agents_client.threads.list()\n",
    "    # [END list_threads]\n",
    "\n",
    "    # [START create_message]\n",
    "    message = agents_client.messages.create(thread_id=thread.id, role=\"user\", content=\"Hello, tell me a joke\")\n",
    "    # [END create_message]\n",
    "    print(f\"Created message, message ID: {message.id}\")\n",
    "\n",
    "    # [START create_run]\n",
    "    run = agents_client.runs.create(thread_id=thread.id, agent_id=agent.id)\n",
    "\n",
    "    # Poll the run as long as run status is queued or in progress\n",
    "    while run.status in [\"queued\", \"in_progress\", \"requires_action\"]:\n",
    "        # Wait for a second\n",
    "        time.sleep(1)\n",
    "        run = agents_client.runs.get(thread_id=thread.id, run_id=run.id)\n",
    "        # [END create_run]\n",
    "        print(f\"Run status: {run.status}\")\n",
    "\n",
    "    if run.status == \"failed\":\n",
    "        print(f\"Run error: {run.last_error}\")\n",
    "\n",
    "    agents_client.delete_agent(agent.id)\n",
    "    print(\"Deleted agent\")\n",
    "\n",
    "    # [START list_messages]\n",
    "    messages = agents_client.messages.list(thread_id=thread.id, order=ListSortOrder.ASCENDING)\n",
    "    for msg in messages:\n",
    "        if msg.text_messages:\n",
    "            last_text = msg.text_messages[-1]\n",
    "            print(f\"{msg.role}: {last_text.text.value}\")\n",
    "    # [END list_messages]\n",
    "\n",
    "    print(thread)"
   ]
  },
  {
   "cell_type": "code",
   "execution_count": 8,
   "id": "af940a0c",
   "metadata": {},
   "outputs": [
    {
     "data": {
      "text/plain": [
       "{'id': 'thread_3YYilOLH1K7HD6xYmOzcDSpo', 'object': 'thread', 'created_at': 1749237846, 'metadata': {}, 'tool_resources': {}}"
      ]
     },
     "execution_count": 8,
     "metadata": {},
     "output_type": "execute_result"
    }
   ],
   "source": [
    "thread"
   ]
  },
  {
   "cell_type": "code",
   "execution_count": 10,
   "id": "db57a9c4",
   "metadata": {},
   "outputs": [
    {
     "data": {
      "text/plain": [
       "{'id': 'msg_qF8AFkFZ16mlU3NMUmQ0z3St', 'object': 'thread.message', 'created_at': 1749237846, 'assistant_id': None, 'thread_id': 'thread_3YYilOLH1K7HD6xYmOzcDSpo', 'run_id': None, 'role': 'user', 'content': [{'type': 'text', 'text': {'value': 'Hello, tell me a joke', 'annotations': []}}], 'attachments': [], 'metadata': {}}"
      ]
     },
     "execution_count": 10,
     "metadata": {},
     "output_type": "execute_result"
    }
   ],
   "source": [
    "message"
   ]
  },
  {
   "cell_type": "code",
   "execution_count": null,
   "id": "2db66931-c001-49c5-add8-4a0c3b596cf1",
   "metadata": {},
   "outputs": [
    {
     "data": {
      "text/plain": [
       "{'id': 'asst_C0EWgkQblKhLjVDqSkNZrqLz', 'object': 'assistant', 'created_at': 1749237846, 'name': 'my-agent', 'description': None, 'model': 'gpt-4.1', 'instructions': 'You are helpful agent', 'tools': [], 'top_p': 1.0, 'temperature': 1.0, 'tool_resources': {}, 'metadata': {}, 'response_format': 'auto'}"
      ]
     },
     "execution_count": 17,
     "metadata": {},
     "output_type": "execute_result"
    }
   ],
   "source": [
    "run"
   ]
  },
  {
   "cell_type": "code",
   "execution_count": 14,
   "id": "1852cd9b-3d79-4a52-81cb-b3773d9d3525",
   "metadata": {},
   "outputs": [
    {
     "data": {
      "text/plain": [
       "{'prompt_tokens': 29, 'completion_tokens': 25, 'total_tokens': 54, 'prompt_token_details': {'cached_tokens': 0}}"
      ]
     },
     "execution_count": 14,
     "metadata": {},
     "output_type": "execute_result"
    }
   ],
   "source": [
    "run.usage"
   ]
  },
  {
   "cell_type": "code",
   "execution_count": 18,
   "id": "c7516374-e059-4832-9d16-f9c0d1e35fcd",
   "metadata": {},
   "outputs": [
    {
     "name": "stdout",
     "output_type": "stream",
     "text": [
      "Start   : 2025-06-06 19:24:08+0000\n",
      "End     : 2025-06-06 19:24:09+0000\n",
      "Elapsed : 0:00:01  (1.000 seconds)\n"
     ]
    }
   ],
   "source": [
    "start = run.started_at\n",
    "end = run.completed_at\n",
    "elapsed = end - start\n",
    "\n",
    "iso_fmt = \"%Y-%m-%d %H:%M:%S%z\"\n",
    "print(f\"Start   : {start.strftime(iso_fmt)}\")\n",
    "print(f\"End     : {end.strftime(iso_fmt)}\")\n",
    "print(f\"Elapsed : {elapsed}  \" f\"({elapsed.total_seconds():.3f} seconds)\")"
   ]
  },
  {
   "cell_type": "markdown",
   "id": "966f2443-36ef-4280-bcc8-1577dedb9496",
   "metadata": {},
   "source": [
    "## Another agent"
   ]
  },
  {
   "cell_type": "code",
   "execution_count": 24,
   "id": "c26f901e",
   "metadata": {},
   "outputs": [
    {
     "name": "stdout",
     "output_type": "stream",
     "text": [
      "Created agent, agent ID: asst_Tjgvjr958kisuYLw5Qqtqzls\n",
      "Created thread, thread ID: thread_rqi0Xmn5cptVtCVvdG7THAsz\n",
      "Created message, message ID: msg_gA7YJ24D2U2RnV1wgqrzkSLO\n",
      "Run status: RunStatus.IN_PROGRESS\n",
      "Run status: RunStatus.COMPLETED\n",
      "Deleted agent\n",
      "MessageRole.USER: What is GenAI\n",
      "MessageRole.AGENT: **GenAI** stands for **Generative Artificial Intelligence**.\n",
      "\n",
      "It refers to a category of artificial intelligence models and systems that can generate new content—such as text, images, audio, code, or other data—rather than simply analyzing or recognizing existing data.\n",
      "\n",
      "### Key Characteristics of GenAI:\n",
      "\n",
      "- **Content Creation:** GenAI creates new, original content based on patterns it has learned from large datasets. For example, it can write essays, compose music, generate artwork, or write software code.\n",
      "- **Models:** Popular examples of GenAI models include OpenAI’s GPT (for text), DALL-E (for images), Google’s Imagen, and StabilityAI’s Stable Diffusion.\n",
      "- **Capabilities:** GenAI can:\n",
      "  - Write human-like stories or articles.\n",
      "  - Answer questions in conversational language.\n",
      "  - Design graphics or realistic images.\n",
      "  - Generate business emails, poems, or computer code.\n",
      "\n",
      "### Common Uses:\n",
      "- **Creative Writing:** Poems, stories, scripts, or articles.\n",
      "- **Design:** Producing graphic designs, artwork, and even industrial design prototypes.\n",
      "- **Software Development:** Writing code snippets, documentation, or troubleshooting code.\n",
      "- **Business:** Drafting emails, reports, presentations, and summarizing text.\n",
      "- **Education:** Personalized tutoring and content creation.\n",
      "\n",
      "### How It Works:\n",
      "Generative AI models are usually trained on vast datasets. They learn to identify patterns and structures in that data and then use those patterns to generate new data that has similar characteristics.\n",
      "\n",
      "---\n",
      "\n",
      "**In short:**  \n",
      "GenAI is AI that not only understands inputs but also creates new, original outputs across various media and domains.\n",
      "{'id': 'thread_rqi0Xmn5cptVtCVvdG7THAsz', 'object': 'thread', 'created_at': 1749238613, 'metadata': {}, 'tool_resources': {}}\n"
     ]
    }
   ],
   "source": [
    "# [START create_agents_client]\n",
    "agents_client = AgentsClient(\n",
    "    endpoint=os.environ[\"PROJECT_ENDPOINT\"],\n",
    "    credential=DefaultAzureCredential(),\n",
    ")\n",
    "\n",
    "# [END create_agents_client]\n",
    "\n",
    "with agents_client:\n",
    "\n",
    "    # [START create_agent]\n",
    "\n",
    "    agent = agents_client.create_agent(\n",
    "        model=os.environ[\"MODEL_DEPLOYMENT_NAME\"],\n",
    "        name=\"my-agent\",\n",
    "        instructions=\"You are helpful agent\",\n",
    "    )\n",
    "    # [END create_agent]\n",
    "    print(f\"Created agent, agent ID: {agent.id}\")\n",
    "\n",
    "    # [START create_thread]\n",
    "    thread = agents_client.threads.create()\n",
    "    # [END create_thread]\n",
    "    print(f\"Created thread, thread ID: {thread.id}\")\n",
    "\n",
    "    # List all threads for the agent\n",
    "    # [START list_threads]\n",
    "    threads = agents_client.threads.list()\n",
    "    # [END list_threads]\n",
    "\n",
    "    # [START create_message]\n",
    "    message = agents_client.messages.create(thread_id=thread.id, role=\"user\", content=\"What is GenAI\")\n",
    "    # [END create_message]\n",
    "    print(f\"Created message, message ID: {message.id}\")\n",
    "\n",
    "    # [START create_run]\n",
    "    run = agents_client.runs.create(thread_id=thread.id, agent_id=agent.id)\n",
    "\n",
    "    # Poll the run as long as run status is queued or in progress\n",
    "    while run.status in [\"queued\", \"in_progress\", \"requires_action\"]:\n",
    "        # Wait for a second\n",
    "        time.sleep(1)\n",
    "        run = agents_client.runs.get(thread_id=thread.id, run_id=run.id)\n",
    "        # [END create_run]\n",
    "        print(f\"Run status: {run.status}\")\n",
    "\n",
    "    if run.status == \"failed\":\n",
    "        print(f\"Run error: {run.last_error}\")\n",
    "\n",
    "    agents_client.delete_agent(agent.id)\n",
    "    print(\"Deleted agent\")\n",
    "\n",
    "    # [START list_messages]\n",
    "    messages = agents_client.messages.list(thread_id=thread.id, order=ListSortOrder.ASCENDING)\n",
    "    for msg in messages:\n",
    "        if msg.text_messages:\n",
    "            last_text = msg.text_messages[-1]\n",
    "            print(f\"{msg.role}: {last_text.text.value}\")\n",
    "    # [END list_messages]\n",
    "\n",
    "    print(thread)"
   ]
  },
  {
   "cell_type": "code",
   "execution_count": null,
   "id": "4a8d956f",
   "metadata": {},
   "outputs": [
    {
     "data": {
      "text/plain": [
       "{'prompt_tokens': 27, 'completion_tokens': 331, 'total_tokens': 358, 'prompt_token_details': {'cached_tokens': 0}}"
      ]
     },
     "execution_count": 28,
     "metadata": {},
     "output_type": "execute_result"
    }
   ],
   "source": [
    "run.usage"
   ]
  },
  {
   "cell_type": "code",
   "execution_count": 29,
   "id": "3d7cf36c",
   "metadata": {},
   "outputs": [
    {
     "name": "stdout",
     "output_type": "stream",
     "text": [
      "Start   : 2025-06-06 19:36:55+0000\n",
      "End     : 2025-06-06 19:36:58+0000\n",
      "Elapsed : 0:00:03  (3.000 seconds)\n"
     ]
    }
   ],
   "source": [
    "start = run.started_at\n",
    "end = run.completed_at\n",
    "elapsed = end - start\n",
    "\n",
    "iso_fmt = \"%Y-%m-%d %H:%M:%S%z\"\n",
    "print(f\"Start   : {start.strftime(iso_fmt)}\")\n",
    "print(f\"End     : {end.strftime(iso_fmt)}\")\n",
    "print(f\"Elapsed : {elapsed}  \" f\"({elapsed.total_seconds():.3f} seconds)\")"
   ]
  }
 ],
 "metadata": {
  "kernelspec": {
   "display_name": ".venv",
   "language": "python",
   "name": "python3"
  },
  "language_info": {
   "codemirror_mode": {
    "name": "ipython",
    "version": 3
   },
   "file_extension": ".py",
   "mimetype": "text/x-python",
   "name": "python",
   "nbconvert_exporter": "python",
   "pygments_lexer": "ipython3",
   "version": "3.13.4"
  },
  "varInspector": {
   "cols": {
    "lenName": 16,
    "lenType": 16,
    "lenVar": 40
   },
   "kernels_config": {
    "python": {
     "delete_cmd_postfix": "",
     "delete_cmd_prefix": "del ",
     "library": "var_list.py",
     "varRefreshCmd": "print(var_dic_list())"
    },
    "r": {
     "delete_cmd_postfix": ") ",
     "delete_cmd_prefix": "rm(",
     "library": "var_list.r",
     "varRefreshCmd": "cat(var_dic_list()) "
    }
   },
   "types_to_exclude": [
    "module",
    "function",
    "builtin_function_or_method",
    "instance",
    "_Feature"
   ],
   "window_display": false
  }
 },
 "nbformat": 4,
 "nbformat_minor": 5
}
