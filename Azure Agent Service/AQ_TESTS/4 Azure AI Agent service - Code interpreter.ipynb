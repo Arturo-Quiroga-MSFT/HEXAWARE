{
 "cells": [
  {
   "cell_type": "markdown",
   "id": "19e5637e",
   "metadata": {},
   "source": [
    "### This sample demonstrates how to use agent operations with code interpreter from the Azure Agents service using a synchronous client."
   ]
  },
  {
   "cell_type": "code",
   "execution_count": 1,
   "id": "dc3f845c",
   "metadata": {},
   "outputs": [],
   "source": [
    "\"\"\"\n",
    "Sample for using the Azure AI Agents Code Interpreter tool\n",
    "USAGE:\n",
    "    python sample_agents_code_interpreter.py\n",
    "\n",
    "    Before running the sample:\n",
    "\n",
    "    pip install azure-ai-agents azure-identity\n",
    "\n",
    "    Set these environment variables with your own values:\n",
    "    1) PROJECT_ENDPOINT - The Azure AI Project endpoint, as found in the Overview\n",
    "                          page of your Azure AI Foundry portal.\n",
    "    2) MODEL_DEPLOYMENT_NAME - The deployment name of the AI model, as found under the \"Name\" column in\n",
    "       the \"Models + endpoints\" tab in your Azure AI Foundry project.\n",
    "\"\"\"\n",
    "\n",
    "import os\n",
    "from azure.ai.agents import AgentsClient\n",
    "from azure.ai.agents.models import CodeInterpreterTool\n",
    "from azure.ai.agents.models import FilePurpose, MessageRole\n",
    "from azure.identity import DefaultAzureCredential\n",
    "from pathlib import Path\n",
    "\n",
    "load_dotenv = True\n",
    "if load_dotenv:\n",
    "    from dotenv import load_dotenv\n",
    "    load_dotenv()\n"
   ]
  },
  {
   "cell_type": "code",
   "execution_count": 2,
   "id": "fed53dfd",
   "metadata": {},
   "outputs": [
    {
     "name": "stdout",
     "output_type": "stream",
     "text": [
      "/Users/arturoquiroga/GITHUB/AZURE AI AGENT SERVICE/Azure Agent Service/assets/synthetic_500_quarterly_results.csv\n"
     ]
    }
   ],
   "source": [
    "import os\n",
    "\n",
    "asset_file_path = os.path.abspath(os.path.join(os.getcwd(), \"./assets/synthetic_500_quarterly_results.csv\"))\n",
    "print(asset_file_path)"
   ]
  },
  {
   "cell_type": "code",
   "execution_count": 3,
   "id": "a8955d5a",
   "metadata": {},
   "outputs": [],
   "source": [
    "agents_client = AgentsClient(\n",
    "    endpoint=os.environ[\"PROJECT_ENDPOINT\"],\n",
    "    credential=DefaultAzureCredential(),\n",
    ")"
   ]
  },
  {
   "cell_type": "code",
   "execution_count": 4,
   "id": "a730e0db",
   "metadata": {},
   "outputs": [
    {
     "name": "stdout",
     "output_type": "stream",
     "text": [
      "Uploaded file, file ID: assistant-54wv9nPiF86rD3hod2DMBQ\n",
      "Created agent, agent ID: asst_2BoafdpOKDYQjUlPsT6ugVQf\n",
      "Created thread, thread ID: thread_X48VTPBNC1C2GGnBOxz8vPvh\n",
      "Created message, message ID: msg_bfG6yGHaT3jTv9BMsyZxl0qo\n",
      "Run finished with status: RunStatus.COMPLETED\n",
      "Deleted file\n",
      "Messages: <iterator object azure.core.paging.ItemPaged at 0x10a2796a0>\n",
      "File Paths:\n",
      "  Type: file_path\n",
      "  Text: sandbox:/mnt/data/transportation_operating_profit.png\n",
      "  File ID: assistant-JVqqkZS9DDmuqihKckm7k7\n",
      "  Start Index: 214\n",
      "  End Index: 267\n",
      "Last Message: The bar chart displaying the operating profit for companies in the TRANSPORTATION sector has been created. You can download the chart using the link below:\n",
      "\n",
      "[Download the TRANSPORTATION Operating Profit Bar Chart](sandbox:/mnt/data/transportation_operating_profit.png)\n"
     ]
    }
   ],
   "source": [
    "with agents_client:\n",
    "\n",
    "    # Upload a file and wait for it to be processed\n",
    "    # [START upload_file_and_create_agent_with_code_interpreter]\n",
    "    file = agents_client.files.upload_and_poll(file_path=asset_file_path, purpose=FilePurpose.AGENTS)\n",
    "    print(f\"Uploaded file, file ID: {file.id}\")\n",
    "\n",
    "    code_interpreter = CodeInterpreterTool(file_ids=[file.id])\n",
    "\n",
    "    # Create agent with code interpreter tool and tools_resources\n",
    "    agent = agents_client.create_agent(\n",
    "        model=os.environ[\"MODEL_DEPLOYMENT_NAME\"],\n",
    "        name=\"my-agent\",\n",
    "        instructions=\"You are helpful agent\",\n",
    "        tools=code_interpreter.definitions,\n",
    "        tool_resources=code_interpreter.resources,\n",
    "    )\n",
    "    # [END upload_file_and_create_agent_with_code_interpreter]\n",
    "    print(f\"Created agent, agent ID: {agent.id}\")\n",
    "\n",
    "    thread = agents_client.threads.create()\n",
    "    print(f\"Created thread, thread ID: {thread.id}\")\n",
    "\n",
    "    # Create a message\n",
    "    message = agents_client.messages.create(\n",
    "        thread_id=thread.id,\n",
    "        role=\"user\",\n",
    "        content=\"Could you please create bar chart in TRANSPORTATION sector for the operating profit from the uploaded csv file and provide the file to me?. Make sure to give me a link to the file I can access and not one to your sandbox.\",\n",
    "    )\n",
    "    print(f\"Created message, message ID: {message.id}\")\n",
    "\n",
    "    run = agents_client.runs.create_and_process(thread_id=thread.id, agent_id=agent.id)\n",
    "    print(f\"Run finished with status: {run.status}\")\n",
    "\n",
    "    if run.status == \"failed\":\n",
    "        # Check if you got \"Rate limit is exceeded.\", then you want to get more quota\n",
    "        print(f\"Run failed: {run.last_error}\")\n",
    "\n",
    "    agents_client.files.delete(file.id)\n",
    "    print(\"Deleted file\")\n",
    "\n",
    "    # [START get_messages_and_save_files]\n",
    "    messages = agents_client.messages.list(thread_id=thread.id)\n",
    "    print(f\"Messages: {messages}\")\n",
    "\n",
    "    for msg in messages:\n",
    "        # Save every image file in the message\n",
    "        for img in msg.image_contents:\n",
    "            file_id = img.image_file.file_id\n",
    "            file_name = f\"{file_id}_image_file.png\"\n",
    "            agents_client.files.save(file_id=file_id, file_name=file_name)\n",
    "            print(f\"Saved image file to: {Path.cwd() / file_name}\")\n",
    "\n",
    "        # Print details of every file-path annotation\n",
    "        for ann in msg.file_path_annotations:\n",
    "            print(\"File Paths:\")\n",
    "            print(f\"  Type: {ann.type}\")\n",
    "            print(f\"  Text: {ann.text}\")\n",
    "            print(f\"  File ID: {ann.file_path.file_id}\")\n",
    "            print(f\"  Start Index: {ann.start_index}\")\n",
    "            print(f\"  End Index: {ann.end_index}\")\n",
    "    # [END get_messages_and_save_files]\n",
    "\n",
    "    last_msg = agents_client.messages.get_last_message_text_by_role(thread_id=thread.id, role=MessageRole.AGENT)\n",
    "    if last_msg:\n",
    "        print(f\"Last Message: {last_msg.text.value}\")\n",
    "\n",
    "    agents_client.delete_agent(agent.id)\n",
    "    print(\"Deleted agent\")\n"
   ]
  }
 ],
 "metadata": {
  "kernelspec": {
   "display_name": ".venv",
   "language": "python",
   "name": "python3"
  },
  "language_info": {
   "codemirror_mode": {
    "name": "ipython",
    "version": 3
   },
   "file_extension": ".py",
   "mimetype": "text/x-python",
   "name": "python",
   "nbconvert_exporter": "python",
   "pygments_lexer": "ipython3",
   "version": "3.13.4"
  }
 },
 "nbformat": 4,
 "nbformat_minor": 5
}
