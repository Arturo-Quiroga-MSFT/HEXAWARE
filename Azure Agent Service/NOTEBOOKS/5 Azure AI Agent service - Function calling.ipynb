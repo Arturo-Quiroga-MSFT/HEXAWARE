{
 "cells": [
  {
   "cell_type": "markdown",
   "id": "431cc026-279f-4105-8444-f1b93650da0d",
   "metadata": {},
   "source": [
    "# Azure AI Agent service - Function calling\n",
    "\n",
    "<img src=\"https://learn.microsoft.com/en-us/azure/ai-services/agents/media/agent-service-the-glue.png\" width=800>\n",
    "\n",
    "> https://learn.microsoft.com/en-us/azure/ai-services/agents/"
   ]
  },
  {
   "cell_type": "code",
   "execution_count": null,
   "id": "d75f0533-95e2-44fe-b8ed-d525b4c25b77",
   "metadata": {},
   "outputs": [],
   "source": [
    "#%pip install azure-ai-projects\n",
    "#%pip install yfinance"
   ]
  },
  {
   "cell_type": "code",
   "execution_count": null,
   "id": "7a3e72d0-7521-438c-928d-5fa293b0f419",
   "metadata": {},
   "outputs": [],
   "source": [
    "import glob\n",
    "import json\n",
    "import ipyplot\n",
    "import matplotlib.pyplot as plt\n",
    "import os\n",
    "import requests\n",
    "import sys\n",
    "import time\n",
    "import yfinance as yf\n",
    "\n",
    "#from azure.ai.projects import AIProjectClient\n",
    "from azure.ai.agents import AgentsClient \n",
    "from azure.identity import DefaultAzureCredential\n",
    "#from azure.ai.projects.models import FunctionTool, ToolSet, CodeInterpreterTool\n",
    "from azure.ai.agents.models import (\n",
    "    FunctionTool,\n",
    "    ListSortOrder,\n",
    "    RequiredFunctionToolCall,\n",
    "    SubmitToolOutputsAction,\n",
    "    ToolOutput,\n",
    ")\n",
    "from datetime import datetime, timezone, timedelta\n",
    "from dotenv import load_dotenv\n",
    "from openai import AzureOpenAI\n",
    "from typing import Any, Callable, Set, Dict, List, Optional\n",
    "from PIL import Image\n",
    "from pathlib import Path\n",
    "\n",
    "from user_functions import user_functions, azuremaps_weather"
   ]
  },
  {
   "cell_type": "code",
   "execution_count": 2,
   "id": "65334de7-4005-401a-89c1-be24f75abbd9",
   "metadata": {},
   "outputs": [
    {
     "data": {
      "text/plain": [
       "True"
      ]
     },
     "execution_count": 2,
     "metadata": {},
     "output_type": "execute_result"
    }
   ],
   "source": [
    "load_dotenv(\"azure.env\")"
   ]
  },
  {
   "cell_type": "code",
   "execution_count": 3,
   "id": "8628712a-0d10-4351-8993-b4c3243f83be",
   "metadata": {},
   "outputs": [
    {
     "data": {
      "text/plain": [
       "'3.13.4 (main, Jun  3 2025, 15:34:24) [Clang 17.0.0 (clang-1700.0.13.3)]'"
      ]
     },
     "execution_count": 3,
     "metadata": {},
     "output_type": "execute_result"
    }
   ],
   "source": [
    "sys.version"
   ]
  },
  {
   "cell_type": "markdown",
   "id": "54fa0903-f907-4c7f-a51b-4893d15ff371",
   "metadata": {},
   "source": [
    "## 1. Agent definition - Weather forecasts"
   ]
  },
  {
   "cell_type": "markdown",
   "id": "3ac0a60b-b688-4970-ba23-781f2196b75c",
   "metadata": {},
   "source": [
    "## Connect to AI Foundry Project ### Project client"
   ]
  },
  {
   "cell_type": "code",
   "execution_count": 4,
   "id": "76c7bbb7-0faa-4500-ba42-7c5b176f6196",
   "metadata": {},
   "outputs": [
    {
     "name": "stdout",
     "output_type": "stream",
     "text": [
      "Using endpoint: https://aq-ai-foundry-sweden-central.services.ai.azure.com/api/projects/firstProject\n"
     ]
    }
   ],
   "source": [
    "endpoint = os.getenv(\"PROJECT_ENDPOINT\")\n",
    "print(f\"Using endpoint: {endpoint}\")\n",
    "credential = DefaultAzureCredential()\n",
    "\n",
    "project_client = AgentsClient(endpoint=endpoint, credential=credential)"
   ]
  },
  {
   "cell_type": "markdown",
   "id": "6bb91b19-444f-4f46-88fa-a76106434ef3",
   "metadata": {},
   "source": [
    "### Testing the Azure Maps Weather function"
   ]
  },
  {
   "cell_type": "markdown",
   "id": "e2934437-5b6f-424c-9fef-95647758d3ec",
   "metadata": {},
   "source": [
    "We will the Azure Maps service to provide weather information."
   ]
  },
  {
   "cell_type": "code",
   "execution_count": 6,
   "id": "ab94cb4c-311f-429b-8d3d-1c49a73880b7",
   "metadata": {},
   "outputs": [
    {
     "data": {
      "text/plain": [
       "{'weather_data': {'results': [{'dateTime': '2025-06-09T09:17:00-04:00',\n",
       "    'phrase': 'Cloudy',\n",
       "    'iconCode': 7,\n",
       "    'hasPrecipitation': False,\n",
       "    'isDayTime': True,\n",
       "    'temperature': {'value': 16.1, 'unit': 'C', 'unitType': 17},\n",
       "    'realFeelTemperature': {'value': 18.3, 'unit': 'C', 'unitType': 17},\n",
       "    'realFeelTemperatureShade': {'value': 15.8, 'unit': 'C', 'unitType': 17},\n",
       "    'relativeHumidity': 87,\n",
       "    'dewPoint': {'value': 13.9, 'unit': 'C', 'unitType': 17},\n",
       "    'wind': {'direction': {'degrees': 90.0, 'localizedDescription': 'E'},\n",
       "     'speed': {'value': 7.4, 'unit': 'km/h', 'unitType': 7}},\n",
       "    'windGust': {'speed': {'value': 7.4, 'unit': 'km/h', 'unitType': 7}},\n",
       "    'uvIndex': 2,\n",
       "    'uvIndexPhrase': 'Low',\n",
       "    'visibility': {'value': 12.9, 'unit': 'km', 'unitType': 6},\n",
       "    'obstructionsToVisibility': '',\n",
       "    'cloudCover': 91,\n",
       "    'ceiling': {'value': 1707.0, 'unit': 'm', 'unitType': 5},\n",
       "    'pressure': {'value': 1006.5, 'unit': 'mb', 'unitType': 14},\n",
       "    'pressureTendency': {'localizedDescription': 'Rising', 'code': 'R'},\n",
       "    'past24HourTemperatureDeparture': {'value': -1.7,\n",
       "     'unit': 'C',\n",
       "     'unitType': 17},\n",
       "    'apparentTemperature': {'value': 18.9, 'unit': 'C', 'unitType': 17},\n",
       "    'windChillTemperature': {'value': 16.1, 'unit': 'C', 'unitType': 17},\n",
       "    'wetBulbTemperature': {'value': 14.8, 'unit': 'C', 'unitType': 17},\n",
       "    'precipitationSummary': {'pastHour': {'value': 0.0,\n",
       "      'unit': 'mm',\n",
       "      'unitType': 3},\n",
       "     'past3Hours': {'value': 0.0, 'unit': 'mm', 'unitType': 3},\n",
       "     'past6Hours': {'value': 0.0, 'unit': 'mm', 'unitType': 3},\n",
       "     'past9Hours': {'value': 0.0, 'unit': 'mm', 'unitType': 3},\n",
       "     'past12Hours': {'value': 0.0, 'unit': 'mm', 'unitType': 3},\n",
       "     'past18Hours': {'value': 0.3, 'unit': 'mm', 'unitType': 3},\n",
       "     'past24Hours': {'value': 0.3, 'unit': 'mm', 'unitType': 3}},\n",
       "    'temperatureSummary': {'past6Hours': {'minimum': {'value': 13.9,\n",
       "       'unit': 'C',\n",
       "       'unitType': 17},\n",
       "      'maximum': {'value': 16.1, 'unit': 'C', 'unitType': 17}},\n",
       "     'past12Hours': {'minimum': {'value': 13.9, 'unit': 'C', 'unitType': 17},\n",
       "      'maximum': {'value': 16.1, 'unit': 'C', 'unitType': 17}},\n",
       "     'past24Hours': {'minimum': {'value': 13.9, 'unit': 'C', 'unitType': 17},\n",
       "      'maximum': {'value': 20.0, 'unit': 'C', 'unitType': 17}}}}]}}"
      ]
     },
     "execution_count": 6,
     "metadata": {},
     "output_type": "execute_result"
    }
   ],
   "source": [
    "weather = azuremaps_weather(\"Toronto\")\n",
    "json.loads(weather)"
   ]
  },
  {
   "cell_type": "markdown",
   "id": "efdd8dbd-3b95-4923-aaae-305c9d8ac991",
   "metadata": {},
   "source": [
    "### Agent"
   ]
  },
  {
   "cell_type": "code",
   "execution_count": 8,
   "id": "61c53506-9f26-4994-92ca-568f1bd8e07d",
   "metadata": {},
   "outputs": [
    {
     "ename": "TypeError",
     "evalue": "AgentsClient.enable_auto_function_calls() got an unexpected keyword argument 'toolset'. Did you mean 'tools'?",
     "output_type": "error",
     "traceback": [
      "\u001b[31m---------------------------------------------------------------------------\u001b[39m",
      "\u001b[31mTypeError\u001b[39m                                 Traceback (most recent call last)",
      "\u001b[36mCell\u001b[39m\u001b[36m \u001b[39m\u001b[32mIn[8]\u001b[39m\u001b[32m, line 15\u001b[39m\n\u001b[32m     12\u001b[39m toolset.add(functions)\n\u001b[32m     14\u001b[39m \u001b[38;5;66;03m# We need to define this option to the project (not in the documentation ?)\u001b[39;00m\n\u001b[32m---> \u001b[39m\u001b[32m15\u001b[39m \u001b[43mproject_client\u001b[49m\u001b[43m.\u001b[49m\u001b[43menable_auto_function_calls\u001b[49m\u001b[43m(\u001b[49m\u001b[43mtoolset\u001b[49m\u001b[43m=\u001b[49m\u001b[43mtoolset\u001b[49m\u001b[43m)\u001b[49m\n\u001b[32m     17\u001b[39m \u001b[38;5;66;03m# Agent creation\u001b[39;00m\n\u001b[32m     18\u001b[39m agent = project_client.create_agent(\n\u001b[32m     19\u001b[39m     model=model,\n\u001b[32m     20\u001b[39m     name=name,\n\u001b[32m     21\u001b[39m     instructions=instructions,\n\u001b[32m     22\u001b[39m     tool_resources=toolset,\n\u001b[32m     23\u001b[39m )\n",
      "\u001b[36mFile \u001b[39m\u001b[32m~/GITHUB/AZURE AI AGENT SERVICE/.venv/lib/python3.13/site-packages/azure/core/tracing/decorator.py:119\u001b[39m, in \u001b[36mdistributed_trace.<locals>.decorator.<locals>.wrapper_use_tracer\u001b[39m\u001b[34m(*args, **kwargs)\u001b[39m\n\u001b[32m    117\u001b[39m \u001b[38;5;66;03m# If tracing is disabled globally and user didn't explicitly enable it, don't trace.\u001b[39;00m\n\u001b[32m    118\u001b[39m \u001b[38;5;28;01mif\u001b[39;00m user_enabled \u001b[38;5;129;01mis\u001b[39;00m \u001b[38;5;28;01mFalse\u001b[39;00m \u001b[38;5;129;01mor\u001b[39;00m (\u001b[38;5;129;01mnot\u001b[39;00m tracing_enabled \u001b[38;5;129;01mand\u001b[39;00m user_enabled \u001b[38;5;129;01mis\u001b[39;00m \u001b[38;5;28;01mNone\u001b[39;00m):\n\u001b[32m--> \u001b[39m\u001b[32m119\u001b[39m     \u001b[38;5;28;01mreturn\u001b[39;00m \u001b[43mfunc\u001b[49m\u001b[43m(\u001b[49m\u001b[43m*\u001b[49m\u001b[43margs\u001b[49m\u001b[43m,\u001b[49m\u001b[43m \u001b[49m\u001b[43m*\u001b[49m\u001b[43m*\u001b[49m\u001b[43mkwargs\u001b[49m\u001b[43m)\u001b[49m\n\u001b[32m    121\u001b[39m \u001b[38;5;66;03m# Merge span is parameter is set, but only if no explicit parent are passed\u001b[39;00m\n\u001b[32m    122\u001b[39m \u001b[38;5;28;01mif\u001b[39;00m merge_span \u001b[38;5;129;01mand\u001b[39;00m \u001b[38;5;129;01mnot\u001b[39;00m passed_in_parent:\n",
      "\u001b[31mTypeError\u001b[39m: AgentsClient.enable_auto_function_calls() got an unexpected keyword argument 'toolset'. Did you mean 'tools'?"
     ]
    }
   ],
   "source": [
    "model = \"gpt-4o-mini\"\n",
    "name = \"gpt4o-weather-agent\"\n",
    "instructions = \"You are a weather bot. Use the provided functions to help answer questions.\"\n",
    "\n",
    "# user functions to use\n",
    "user_functions: Set[Callable[..., Any]] = {\n",
    "    azuremaps_weather,\n",
    "}\n",
    "\n",
    "functions = FunctionTool(user_functions)\n",
    "toolset = ToolSet()\n",
    "toolset.add(functions)\n",
    "\n",
    "# We need to define this option to the project (not in the documentation ?)\n",
    "project_client.enable_auto_function_calls(toolset=toolset)\n",
    "\n",
    "# Agent creation\n",
    "agent = project_client.create_agent(\n",
    "    model=model,\n",
    "    name=name,\n",
    "    instructions=instructions,\n",
    "    tool_resources=toolset,\n",
    ")\n",
    "\n",
    "print(f\"Created agent with ID = {agent.id}\")"
   ]
  },
  {
   "cell_type": "markdown",
   "id": "a39cf0b6-ba76-4f9c-a2d2-9833d0a569e0",
   "metadata": {},
   "source": [
    "### Tests"
   ]
  },
  {
   "cell_type": "code",
   "execution_count": null,
   "id": "5e16fc7c-c08b-445a-b78d-fde55c77d125",
   "metadata": {},
   "outputs": [],
   "source": [
    "prompt = \"Hello, generate a full report for the weather in Paris today\"\n",
    "\n",
    "# Create thread for communication\n",
    "thread = project_client.agents.create_thread()\n",
    "print(f\"Created thread ID = {thread.id}\")\n",
    "\n",
    "# Create message to thread\n",
    "message = project_client.agents.create_message(\n",
    "    thread_id=thread.id,\n",
    "    role=\"user\",\n",
    "    content=prompt,\n",
    ")\n",
    "\n",
    "print(f\"Created message ID = {message.id}\")"
   ]
  },
  {
   "cell_type": "code",
   "execution_count": null,
   "id": "06fe464c-8709-4bfe-b210-c01e4e69bc2a",
   "metadata": {},
   "outputs": [],
   "source": [
    "run = project_client.agents.create_and_process_run(thread_id=thread.id, agent_id=agent.id)\n",
    "print(f\"Created run, run ID: {run.id}\")"
   ]
  },
  {
   "cell_type": "code",
   "execution_count": null,
   "id": "c77600b7-3007-43f4-bc2a-f9c66df03cdf",
   "metadata": {},
   "outputs": [],
   "source": [
    "start   = run.started_at       \n",
    "end     = run.completed_at\n",
    "elapsed = end - start\n",
    "\n",
    "iso_fmt = \"%Y-%m-%d %H:%M:%S%z\"\n",
    "print(f\"Start   : {start.strftime(iso_fmt)}\")\n",
    "print(f\"End     : {end.strftime(iso_fmt)}\")\n",
    "print(f\"Elapsed : {elapsed}  \"\n",
    "      f\"({elapsed.total_seconds():.2f} seconds)\")"
   ]
  },
  {
   "cell_type": "code",
   "execution_count": null,
   "id": "2f799ae2-4880-48e9-9e65-0363ac6b3862",
   "metadata": {},
   "outputs": [],
   "source": [
    "run.usage"
   ]
  },
  {
   "cell_type": "code",
   "execution_count": null,
   "id": "ffe4f0e8-cf75-4e64-8382-db0ce6b70177",
   "metadata": {},
   "outputs": [],
   "source": [
    "messages = project_client.agents.list_messages(thread_id=thread.id)\n",
    "print(\"\\033[1;31;34m\")\n",
    "print(messages.data[0].content[0].text.value)"
   ]
  },
  {
   "cell_type": "markdown",
   "id": "ea4df8d0-4680-4bbc-a9c2-6f42214615da",
   "metadata": {},
   "source": [
    "### Other examples"
   ]
  },
  {
   "cell_type": "code",
   "execution_count": null,
   "id": "b1eff256-208c-440a-ac5d-cbbe54f212d7",
   "metadata": {},
   "outputs": [],
   "source": [
    "prompt = \"Hello, generate a full report for the weather in London today. Print the results in English and French.\"\n",
    "\n",
    "# Create thread for communication\n",
    "thread = project_client.agents.create_thread()\n",
    "print(f\"Created thread ID = {thread.id}\")\n",
    "\n",
    "# Create message to thread\n",
    "message = project_client.agents.create_message(\n",
    "    thread_id=thread.id,\n",
    "    role=\"user\",\n",
    "    content=prompt,\n",
    ")\n",
    "\n",
    "print(f\"Created message ID = {message.id}\")"
   ]
  },
  {
   "cell_type": "code",
   "execution_count": null,
   "id": "24c7c245-a106-4cc9-b75c-19e5f3ab80bd",
   "metadata": {},
   "outputs": [],
   "source": [
    "run = project_client.agents.create_and_process_run(thread_id=thread.id, agent_id=agent.id)\n",
    "\n",
    "messages = project_client.agents.list_messages(thread_id=thread.id)\n",
    "print(\"\\033[1;31;34m\")\n",
    "print(messages.data[0].content[0].text.value)"
   ]
  },
  {
   "cell_type": "code",
   "execution_count": null,
   "id": "0d2509cb-2ebc-4f4e-9cc9-ffc8c75a3da7",
   "metadata": {},
   "outputs": [],
   "source": [
    "prompt = \"Hello, print the UV informations for London today. Print the date as well of the weather data.\"\n",
    "\n",
    "# Create thread for communication\n",
    "thread = project_client.agents.create_thread()\n",
    "print(f\"Created thread ID = {thread.id}\")\n",
    "\n",
    "# Create message to thread\n",
    "message = project_client.agents.create_message(\n",
    "    thread_id=thread.id,\n",
    "    role=\"user\",\n",
    "    content=prompt,\n",
    ")\n",
    "\n",
    "print(f\"Created message ID = {message.id}\")"
   ]
  },
  {
   "cell_type": "code",
   "execution_count": null,
   "id": "9f224136-66ba-47e2-85d0-295272b2e3a7",
   "metadata": {},
   "outputs": [],
   "source": [
    "run = project_client.agents.create_and_process_run(thread_id=thread.id, agent_id=agent.id)\n",
    "\n",
    "messages = project_client.agents.list_messages(thread_id=thread.id)\n",
    "print(\"\\033[1;31;34m\")\n",
    "print(messages.data[0].content[0].text.value)"
   ]
  },
  {
   "cell_type": "code",
   "execution_count": null,
   "id": "3ff7f6fe-e4ab-4ba0-baba-12dfdebb6bf4",
   "metadata": {},
   "outputs": [],
   "source": [
    "prompt = \"Hello, What is the temperature in Paris? Display the time of the forecast\"\n",
    "\n",
    "# Create thread for communication\n",
    "thread = project_client.agents.create_thread()\n",
    "print(f\"Created thread ID = {thread.id}\")\n",
    "\n",
    "# Create message to thread\n",
    "message = project_client.agents.create_message(\n",
    "    thread_id=thread.id,\n",
    "    role=\"user\",\n",
    "    content=prompt,\n",
    ")\n",
    "\n",
    "print(f\"Created message ID = {message.id}\")"
   ]
  },
  {
   "cell_type": "code",
   "execution_count": null,
   "id": "c199b990-b637-4597-acff-40e10285ec23",
   "metadata": {},
   "outputs": [],
   "source": [
    "run = project_client.agents.create_and_process_run(thread_id=thread.id, agent_id=agent.id)\n",
    "\n",
    "messages = project_client.agents.list_messages(thread_id=thread.id)\n",
    "print(\"\\033[1;31;34m\")\n",
    "print(messages.data[0].content[0].text.value)"
   ]
  },
  {
   "cell_type": "code",
   "execution_count": null,
   "id": "d5ce1ce5-babb-49d4-96a7-aeb4c3e75bc0",
   "metadata": {},
   "outputs": [],
   "source": [
    "prompt = \"Hello, What is the temperature and UV information for Marseille? Display the time of the forecast for the UTC zone\"\n",
    "\n",
    "# Create thread for communication\n",
    "thread = project_client.agents.create_thread()\n",
    "print(f\"Created thread ID = {thread.id}\")\n",
    "\n",
    "# Create message to thread\n",
    "message = project_client.agents.create_message(\n",
    "    thread_id=thread.id,\n",
    "    role=\"user\",\n",
    "    content=prompt,\n",
    ")\n",
    "\n",
    "print(f\"Created message ID = {message.id}\")"
   ]
  },
  {
   "cell_type": "code",
   "execution_count": null,
   "id": "592166d2-504b-4756-bc17-0920f91df218",
   "metadata": {},
   "outputs": [],
   "source": [
    "run = project_client.agents.create_and_process_run(thread_id=thread.id, agent_id=agent.id)\n",
    "\n",
    "messages = project_client.agents.list_messages(thread_id=thread.id)\n",
    "print(\"\\033[1;31;34m\")\n",
    "print(messages.data[0].content[0].text.value)"
   ]
  },
  {
   "cell_type": "code",
   "execution_count": null,
   "id": "b918f5f9-07b3-47e1-a259-79093f10ed7e",
   "metadata": {},
   "outputs": [],
   "source": [
    "prompt = \"Generate a weather report for Paris. This report is for a blog publication. Add emojis and adopt a fun style.\"\n",
    "\n",
    "# Create thread for communication\n",
    "thread = project_client.agents.create_thread()\n",
    "print(f\"Created thread ID = {thread.id}\")\n",
    "\n",
    "# Create message to thread\n",
    "message = project_client.agents.create_message(\n",
    "    thread_id=thread.id,\n",
    "    role=\"user\",\n",
    "    content=prompt,\n",
    ")\n",
    "\n",
    "print(f\"Created message ID = {message.id}\")"
   ]
  },
  {
   "cell_type": "code",
   "execution_count": null,
   "id": "9442b9f7-21ac-4612-b6c9-8e4b5cc7c9d6",
   "metadata": {},
   "outputs": [],
   "source": [
    "run = project_client.agents.create_and_process_run(thread_id=thread.id, agent_id=agent.id)\n",
    "\n",
    "messages = project_client.agents.list_messages(thread_id=thread.id)\n",
    "print(\"\\033[1;31;34m\")\n",
    "print(messages.data[0].content[0].text.value)"
   ]
  },
  {
   "cell_type": "markdown",
   "id": "6d5f61ac-880e-4394-8e63-6feb8c740eb4",
   "metadata": {},
   "source": [
    "### Post processing"
   ]
  },
  {
   "cell_type": "code",
   "execution_count": null,
   "id": "09813548-20f2-45da-a196-9de60edc18c7",
   "metadata": {},
   "outputs": [],
   "source": [
    "agents = project_client.agents.list_agents()\n",
    "\n",
    "for i in range(len(agents.data)):\n",
    "    if agents.data[i].name == name:\n",
    "        print(f\"Deleting agent {agents.data[i].id}\")\n",
    "        project_client.agents.delete_agent(agents.data[i].id)"
   ]
  },
  {
   "cell_type": "code",
   "execution_count": null,
   "id": "62ca0e0a-8b50-44b5-819d-a7c202c01314",
   "metadata": {},
   "outputs": [],
   "source": []
  }
 ],
 "metadata": {
  "kernelspec": {
   "display_name": ".venv",
   "language": "python",
   "name": "python3"
  },
  "language_info": {
   "codemirror_mode": {
    "name": "ipython",
    "version": 3
   },
   "file_extension": ".py",
   "mimetype": "text/x-python",
   "name": "python",
   "nbconvert_exporter": "python",
   "pygments_lexer": "ipython3",
   "version": "3.13.4"
  },
  "varInspector": {
   "cols": {
    "lenName": 16,
    "lenType": 16,
    "lenVar": 40
   },
   "kernels_config": {
    "python": {
     "delete_cmd_postfix": "",
     "delete_cmd_prefix": "del ",
     "library": "var_list.py",
     "varRefreshCmd": "print(var_dic_list())"
    },
    "r": {
     "delete_cmd_postfix": ") ",
     "delete_cmd_prefix": "rm(",
     "library": "var_list.r",
     "varRefreshCmd": "cat(var_dic_list()) "
    }
   },
   "types_to_exclude": [
    "module",
    "function",
    "builtin_function_or_method",
    "instance",
    "_Feature"
   ],
   "window_display": false
  }
 },
 "nbformat": 4,
 "nbformat_minor": 5
}
