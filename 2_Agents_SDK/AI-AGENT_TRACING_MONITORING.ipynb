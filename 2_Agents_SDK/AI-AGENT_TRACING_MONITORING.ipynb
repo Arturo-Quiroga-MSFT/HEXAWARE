{
 "cells": [
  {
   "cell_type": "code",
   "execution_count": null,
   "id": "9a7afbb2",
   "metadata": {},
   "outputs": [],
   "source": [
    "#%pip install opentelemetry-sdk azure-core-tracing-opentelemetry\n",
    "#%pip install ipynbname"
   ]
  },
  {
   "cell_type": "code",
   "execution_count": 1,
   "id": "0171454b",
   "metadata": {},
   "outputs": [
    {
     "data": {
      "text/plain": [
       "True"
      ]
     },
     "execution_count": 1,
     "metadata": {},
     "output_type": "execute_result"
    }
   ],
   "source": [
    "import os, time\n",
    "from azure.core.settings import settings\n",
    "\n",
    "settings.tracing_implementation = \"opentelemetry\"\n",
    "# Install opentelemetry with command \"pip install opentelemetry-sdk\".\n",
    "from opentelemetry import trace\n",
    "from opentelemetry.sdk.trace import TracerProvider\n",
    "from opentelemetry.sdk.trace.export import SimpleSpanProcessor, ConsoleSpanExporter\n",
    "from azure.ai.agents import AgentsClient\n",
    "from azure.ai.agents.models import ListSortOrder\n",
    "from azure.identity import DefaultAzureCredential\n",
    "from azure.ai.agents.telemetry import AIAgentsInstrumentor\n",
    "\n",
    "import dotenv\n",
    "# Load environment variables from .env file\n",
    "dotenv.load_dotenv()"
   ]
  },
  {
   "cell_type": "code",
   "execution_count": 2,
   "id": "00df69aa",
   "metadata": {},
   "outputs": [],
   "source": [
    "# Setup tracing to console\n",
    "# Requires opentelemetry-sdk\n",
    "span_exporter = ConsoleSpanExporter()\n",
    "tracer_provider = TracerProvider()\n",
    "tracer_provider.add_span_processor(SimpleSpanProcessor(span_exporter))\n",
    "trace.set_tracer_provider(tracer_provider)\n",
    "tracer = trace.get_tracer(__name__)\n",
    "\n",
    "AIAgentsInstrumentor().instrument()\n",
    "\n"
   ]
  },
  {
   "cell_type": "code",
   "execution_count": 4,
   "id": "a219d4b6",
   "metadata": {},
   "outputs": [],
   "source": [
    "# [START enable_tracing]\n",
    "from opentelemetry import trace\n",
    "from azure.monitor.opentelemetry import configure_azure_monitor\n",
    "\n",
    "# Enable Azure Monitor tracing\n",
    "application_insights_connection_string = os.environ[\"APPLICATIONINSIGHTS_CONNECTION_STRING\"]\n",
    "configure_azure_monitor(connection_string=application_insights_connection_string)\n",
    "\n",
    "scenario = \"AI-AGENT_TRACING_MONITORING.ipynb\"  # or any descriptive name\n",
    "tracer = trace.get_tracer(__name__)"
   ]
  },
  {
   "cell_type": "code",
   "execution_count": 5,
   "id": "46e9753a",
   "metadata": {},
   "outputs": [],
   "source": [
    "agents_client = AgentsClient(\n",
    "    endpoint=os.environ[\"PROJECT_ENDPOINT\"],\n",
    "    credential=DefaultAzureCredential(),\n",
    ")"
   ]
  },
  {
   "cell_type": "code",
   "execution_count": 6,
   "id": "0e168a47",
   "metadata": {},
   "outputs": [
    {
     "name": "stdout",
     "output_type": "stream",
     "text": [
      "Created agent, agent ID: asst_i8uNashal3H0DWjxNOgMsrFt\n",
      "Created thread, thread ID: thread_XdKPmFQCd42dBH5rkAV1OpoA\n",
      "Created message, message ID: msg_WCLwrPcbF3jJtx4gjHCalEEJ\n",
      "Run completed with status: RunStatus.COMPLETED\n",
      "Deleted agent\n",
      "MessageRole.USER: Hello, what is the foundation of Azure AI?\n",
      "MessageRole.AGENT: The foundation of **Azure AI** consists of a suite of artificial intelligence (AI) services, tools, and infrastructure provided by **Microsoft Azure** to help developers and organizations build, deploy, and manage AI solutions at scale. The foundation rests on several key pillars:\n",
      "\n",
      "### 1. **Azure AI Infrastructure**\n",
      "- **High-performance computing:** Access to powerful virtual machines, GPUs, and AI-optimized hardware for training and inference.\n",
      "- **Scalability & Security:** Enterprise-grade cloud security, compliance, and scalability to handle any size workload.\n",
      "\n",
      "### 2. **Foundation Models** (Large Language Models/LLMs & Multi-modal Models)\n",
      "- **OpenAI models:** Integration of OpenAI models like GPT (e.g., GPT-4), Codex, DALL-E, and more, offered as Azure OpenAI Service.\n",
      "- **Microsoft models:** Custom large-scale models trained by Microsoft, including vision, speech, and multi-modal models.\n",
      "- **Hugging Face integration:** Access to popular open-source models.\n",
      "\n",
      "### 3. **Azure Cognitive Services**\n",
      "Pretrained, ready-to-use APIs and SDKs for:\n",
      "- **Vision:** Computer Vision, OCR, Face Recognition, Image Analysis\n",
      "- **Speech:** Speech-to-Text, Text-to-Speech, Speech Translation\n",
      "- **Language:** Text Analytics, Translator, QnA Maker, Language Understanding (LUIS)\n",
      "- **Decision:** Personalizer, Anomaly Detector, Content Moderator\n",
      "\n",
      "### 4. **Azure Machine Learning**\n",
      "A comprehensive cloud service to:\n",
      "- **Build, train, and deploy machine learning models** at scale\n",
      "- Use **AutoML** and low/no-code tools, as well as support for open-source frameworks (PyTorch, TensorFlow, scikit-learn)\n",
      "- Manage MLOps (machine learning operations) for continuous integration and deployment\n",
      "\n",
      "### 5. **Responsible AI & Governance Frameworks**\n",
      "- Built-in tools and guidelines to ensure data privacy, model fairness, explainability, transparency, and regulatory compliance.\n",
      "\n",
      "### 6. **Integration & Developer Tools**\n",
      "- **SDKs, APIs, and prebuilt solutions** for easy integration with applications.\n",
      "- **Power Platform, Logic Apps, and Data integration** to enable business users to incorporate AI.\n",
      "\n",
      "---\n",
      "\n",
      "**Summary:**\n",
      "> The foundation of Azure AI is a robust, cloud-powered platform combining advanced AI models, scalable infrastructure, high-level APIs, and responsible AI practices, all designed to accelerate and democratize the use of artificial intelligence across industries.\n",
      "\n",
      "If you have a specific use case in mind or want to know about a particular area (e.g., language models or computer vision), let me know!\n"
     ]
    }
   ],
   "source": [
    "scenario = \"AI-AGENT_TRACING_MONITORING.ipynb\"\n",
    "with tracer.start_as_current_span(scenario):\n",
    "    with agents_client:\n",
    "        agent = agents_client.create_agent(\n",
    "            model=os.environ[\"MODEL_DEPLOYMENT_NAME\"], name=\"AQ-agent\", instructions=\"You are helpful agent\"\n",
    "        )\n",
    "        print(f\"Created agent, agent ID: {agent.id}\")\n",
    "\n",
    "        thread = agents_client.threads.create()\n",
    "        print(f\"Created thread, thread ID: {thread.id}\")\n",
    "\n",
    "        message = agents_client.messages.create(thread_id=thread.id, role=\"user\", content=\"Hello, what is the foundation of Azure AI?\")\n",
    "        print(f\"Created message, message ID: {message.id}\")\n",
    "\n",
    "        run = agents_client.runs.create_and_process(thread_id=thread.id, agent_id=agent.id)\n",
    "        print(f\"Run completed with status: {run.status}\")\n",
    "\n",
    "        agents_client.delete_agent(agent.id)\n",
    "        print(\"Deleted agent\")\n",
    "\n",
    "        messages = agents_client.messages.list(thread_id=thread.id, order=ListSortOrder.ASCENDING)\n",
    "        for msg in messages:\n",
    "            if msg.text_messages:\n",
    "                last_text = msg.text_messages[-1]\n",
    "                print(f\"{msg.role}: {last_text.text.value}\")"
   ]
  }
 ],
 "metadata": {
  "kernelspec": {
   "display_name": ".venv",
   "language": "python",
   "name": "python3"
  },
  "language_info": {
   "codemirror_mode": {
    "name": "ipython",
    "version": 3
   },
   "file_extension": ".py",
   "mimetype": "text/x-python",
   "name": "python",
   "nbconvert_exporter": "python",
   "pygments_lexer": "ipython3",
   "version": "3.13.4"
  }
 },
 "nbformat": 4,
 "nbformat_minor": 5
}
